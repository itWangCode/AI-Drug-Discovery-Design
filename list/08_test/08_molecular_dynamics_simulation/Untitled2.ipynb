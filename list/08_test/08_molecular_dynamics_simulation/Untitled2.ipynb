{
 "nbformat": 4,
 "nbformat_minor": 0,
 "metadata": {
  "colab": {
   "provenance": []
  },
  "kernelspec": {
   "name": "python3",
   "language": "python",
   "display_name": "Python 3 (ipykernel)"
  },
  "language_info": {
   "name": "python"
  }
 },
 "cells": [
  {
   "cell_type": "code",
   "source": [
    "import sys\n",
    "import os\n",
    "\n",
    "# Check if the current platform is macOS\n",
    "if sys.platform.startswith(\"darwin\"):\n",
    "    # For macOS with M1 chip, you might need to set CONDA_SUBDIR\n",
    "    if os.uname().machine == \"arm64\":\n",
    "        os.environ[\"CONDA_SUBDIR\"] = \"osx-64\"\n",
    "    \n",
    "    # Install openmmforcefields\n",
    "    # os.system(\"conda install -q -y -c conda-forge openmmforcefields\")\n",
    "    os.system(\"conda install -q -y -c conda-forge mdtraj openmm openmmforcefields=0.12.0 openff-toolkit pdbfixer pypdb rdkit\")\n"
   ],
   "metadata": {
    "id": "3P2X4JPO1lIG",
    "ExecuteTime": {
     "end_time": "2024-11-23T18:28:20.098140Z",
     "start_time": "2024-11-23T18:26:24.572269Z"
    }
   },
   "execution_count": 1,
   "outputs": [
    {
     "name": "stdout",
     "output_type": "stream",
     "text": [
      "Retrieving notices: ...working... done\n",
      "Channels:\n",
      " - conda-forge\n",
      " - defaults\n",
      " - https://mirrors.tuna.tsinghua.edu.cn/anaconda/pkgs/free\n",
      " - https://mirrors.tuna.tsinghua.edu.cn/anaconda/pkgs/main\n",
      " - pytorch\n",
      "Platform: osx-64\n",
      "Collecting package metadata (repodata.json): ...working... done\n",
      "Solving environment: ...working... done\n",
      "\n",
      "# All requested packages already installed.\n"
     ]
    }
   ]
  },
  {
   "cell_type": "code",
   "source": [
    "import copy\n",
    "from pathlib import Path\n",
    "\n",
    "import requests\n",
    "from IPython.display import display\n",
    "import numpy as np\n",
    "from rdkit import Chem\n",
    "from rdkit.Chem import Draw\n",
    "from rdkit.Chem import AllChem\n",
    "import mdtraj as md\n",
    "import pdbfixer\n",
    "import openmm as mm\n",
    "import openmm.app as app\n",
    "from openmm import unit\n",
    "from openff.toolkit.topology import Molecule, Topology\n",
    "from openmmforcefields.generators import GAFFTemplateGenerator"
   ],
   "metadata": {
    "id": "OPICpOkE1opM",
    "ExecuteTime": {
     "end_time": "2024-11-24T04:16:59.011314Z",
     "start_time": "2024-11-24T04:16:55.514674Z"
    }
   },
   "execution_count": 1,
   "outputs": []
  },
  {
   "cell_type": "code",
   "source": [
    "from pathlib import Path\n",
    "import os\n",
    "\n",
    "# 获取当前工作目录\n",
    "HERE = Path(os.getcwd())\n",
    "DATA = HERE / 'data'\n",
    "if not DATA.exists():\n",
    "    DATA.mkdir(parents=True, exist_ok=True)\n",
    "print(DATA)\n"
   ],
   "metadata": {
    "id": "ei5O2BTJ2jzb",
    "ExecuteTime": {
     "end_time": "2024-11-24T04:16:59.018982Z",
     "start_time": "2024-11-24T04:16:59.013867Z"
    }
   },
   "execution_count": 2,
   "outputs": [
    {
     "name": "stdout",
     "output_type": "stream",
     "text": [
      "/Users/wangyang/Desktop/Liver_cancer/16-AIDD/08_molecular_dynamics_simulation/data\n"
     ]
    }
   ]
  },
  {
   "cell_type": "code",
   "source": [
    "pdbid = \"3O96\"\n",
    "ligand_name = \"IQO\"\n",
    "pdb_path = DATA / f\"{pdbid}.pdb\"\n",
    "# pdb_path = DATA / f\"{pdbid}.pdb\"\n",
    "# pdb_url = f\"https://files.rcsb.org/download/{pdbid}.pdb\""
   ],
   "metadata": {
    "id": "0ihuK5oN2mb8",
    "ExecuteTime": {
     "end_time": "2024-11-24T04:20:57.376934Z",
     "start_time": "2024-11-24T04:20:57.373430Z"
    }
   },
   "execution_count": 10,
   "outputs": []
  },
  {
   "cell_type": "code",
   "source": [
    "# r = requests.get(pdb_url)\n",
    "# r.raise_for_status()\n",
    "# with open(pdb_path, \"wb\") as f:\n",
    "#     f.write(r.content)"
   ],
   "metadata": {
    "id": "xEl7TTak265m",
    "ExecuteTime": {
     "end_time": "2024-11-24T04:20:57.620686Z",
     "start_time": "2024-11-24T04:20:57.617675Z"
    }
   },
   "execution_count": 11,
   "outputs": []
  },
  {
   "cell_type": "code",
   "source": [
    "def prepare_protein(\n",
    "    pdb_file, ignore_missing_residues=True, ignore_terminal_missing_residues=True, ph=7.0\n",
    "):\n",
    "    \"\"\"\n",
    "    Use pdbfixer to prepare the protein from a PDB file. Hetero atoms such as ligands are\n",
    "    removed and non-standard residues replaced. Missing atoms to existing residues are added.\n",
    "    Missing residues are ignored by default, but can be included.\n",
    "\n",
    "    Parameters\n",
    "    ----------\n",
    "    pdb_file: pathlib.Path or str\n",
    "        PDB file containing the system to simulate.\n",
    "    ignore_missing_residues: bool, optional\n",
    "        If missing residues should be ignored or built.\n",
    "    ignore_terminal_missing_residues: bool, optional\n",
    "        If missing residues at the beginning and the end of a chain should be ignored or built.\n",
    "    ph: float, optional\n",
    "        pH value used to determine protonation state of residues\n",
    "\n",
    "    Returns\n",
    "    -------\n",
    "    fixer: pdbfixer.pdbfixer.PDBFixer\n",
    "        Prepared protein system.\n",
    "    \"\"\"\n",
    "    fixer = pdbfixer.PDBFixer(str(pdb_file))\n",
    "    fixer.removeHeterogens()  # co-crystallized ligands are unknown to PDBFixer\n",
    "    fixer.findMissingResidues()  # identify missing residues, needed for identification of missing atoms\n",
    "\n",
    "    # if missing terminal residues shall be ignored, remove them from the dictionary\n",
    "    if ignore_terminal_missing_residues:\n",
    "        chains = list(fixer.topology.chains())\n",
    "        keys = fixer.missingResidues.keys()\n",
    "        for key in list(keys):\n",
    "            chain = chains[key[0]]\n",
    "            if key[1] == 0 or key[1] == len(list(chain.residues())):\n",
    "                del fixer.missingResidues[key]\n",
    "\n",
    "    # if all missing residues shall be ignored ignored, clear the dictionary\n",
    "    if ignore_missing_residues:\n",
    "        fixer.missingResidues = {}\n",
    "\n",
    "    fixer.findNonstandardResidues()  # find non-standard residue\n",
    "    fixer.replaceNonstandardResidues()  # replace non-standard residues with standard one\n",
    "    fixer.findMissingAtoms()  # find missing heavy atoms\n",
    "    fixer.addMissingAtoms()  # add missing atoms and residues\n",
    "    fixer.addMissingHydrogens(ph)  # add missing hydrogens\n",
    "    return fixer"
   ],
   "metadata": {
    "id": "MQliM56X3By8",
    "ExecuteTime": {
     "end_time": "2024-11-24T04:20:57.874789Z",
     "start_time": "2024-11-24T04:20:57.868813Z"
    }
   },
   "execution_count": 12,
   "outputs": []
  },
  {
   "cell_type": "code",
   "source": [
    "# prepare protein and build only missing non-terminal residues\n",
    "prepared_protein = prepare_protein(pdb_path, ignore_missing_residues=False)"
   ],
   "metadata": {
    "id": "irsWgCT53Dbq",
    "ExecuteTime": {
     "end_time": "2024-11-24T04:21:07.031628Z",
     "start_time": "2024-11-24T04:20:58.108772Z"
    }
   },
   "execution_count": 13,
   "outputs": []
  },
  {
   "cell_type": "code",
   "source": [
    "def prepare_ligand(pdb_file, resname, smiles, depict=True):\n",
    "    \"\"\"\n",
    "    Prepare a ligand from a PDB file via adding hydrogens and assigning bond orders. A depiction\n",
    "    of the ligand before and after preparation is rendered in 2D to allow an inspection of the\n",
    "    results. Huge thanks to @j-wags for the suggestion.\n",
    "\n",
    "    Parameters\n",
    "    ----------\n",
    "    pdb_file: pathlib.PosixPath\n",
    "       PDB file containing the ligand of interest.\n",
    "    resname: str\n",
    "        Three character residue name of the ligand.\n",
    "    smiles : str\n",
    "        SMILES string of the ligand informing about correct protonation and bond orders.\n",
    "    depict: bool, optional\n",
    "        show a 2D representation of the ligand\n",
    "\n",
    "    Returns\n",
    "    -------\n",
    "    prepared_ligand: rdkit.Chem.rdchem.Mol\n",
    "        Prepared ligand.\n",
    "    \"\"\"\n",
    "    # split molecule\n",
    "    rdkit_mol = Chem.MolFromPDBFile(str(pdb_file))\n",
    "    rdkit_mol_split = Chem.rdmolops.SplitMolByPDBResidues(rdkit_mol)\n",
    "\n",
    "    # extract the ligand and remove any already present hydrogens\n",
    "    ligand = rdkit_mol_split[resname]\n",
    "    ligand = Chem.RemoveHs(ligand)\n",
    "\n",
    "    # assign bond orders from template\n",
    "    reference_mol = Chem.MolFromSmiles(smiles)\n",
    "    prepared_ligand = AllChem.AssignBondOrdersFromTemplate(reference_mol, ligand)\n",
    "    prepared_ligand.AddConformer(ligand.GetConformer(0))\n",
    "\n",
    "    # protonate ligand\n",
    "    prepared_ligand = Chem.rdmolops.AddHs(prepared_ligand, addCoords=True)\n",
    "    prepared_ligand = Chem.MolFromMolBlock(Chem.MolToMolBlock(prepared_ligand))\n",
    "\n",
    "    # 2D depiction\n",
    "    if depict:\n",
    "        ligand_2d = copy.deepcopy(ligand)\n",
    "        prepared_ligand_2d = copy.deepcopy(prepared_ligand)\n",
    "        AllChem.Compute2DCoords(ligand_2d)\n",
    "        AllChem.Compute2DCoords(prepared_ligand_2d)\n",
    "        display(\n",
    "            Draw.MolsToGridImage(\n",
    "                [ligand_2d, prepared_ligand_2d], molsPerRow=2, legends=[\"original\", \"prepared\"]\n",
    "            )\n",
    "        )\n",
    "\n",
    "    # return ligand\n",
    "    return prepared_ligand"
   ],
   "metadata": {
    "id": "-x_WrnxY3F6E",
    "ExecuteTime": {
     "end_time": "2024-11-24T04:21:07.039273Z",
     "start_time": "2024-11-24T04:21:07.033371Z"
    }
   },
   "execution_count": 14,
   "outputs": []
  },
  {
   "cell_type": "code",
   "outputs": [
    {
     "name": "stderr",
     "output_type": "stream",
     "text": [
      "[12:21:07] WARNING: More than one matching pattern found - picking one\n",
      "\n"
     ]
    },
    {
     "data": {
      "image/png": "[encoded data removed]",
      "text/plain": "<IPython.core.display.Image object>"
     },
     "metadata": {},
     "output_type": "display_data"
    }
   ],
   "source": [
    "smiles = \"c1ccc(cc1)c2c(nc3cc4c(cc3n2)nc[nH]4)c5ccc(cc5)CN6CCC(CC6)N7c8ccccc8NC7=O\"\n",
    "rdkit_ligand = prepare_ligand(pdb_path, ligand_name, smiles)"
   ],
   "metadata": {
    "collapsed": false,
    "ExecuteTime": {
     "end_time": "2024-11-24T04:21:07.082886Z",
     "start_time": "2024-11-24T04:21:07.040667Z"
    }
   },
   "execution_count": 15
  },
  {
   "cell_type": "code",
   "outputs": [],
   "source": [
    "\n"
   ],
   "metadata": {
    "collapsed": false,
    "ExecuteTime": {
     "end_time": "2024-11-24T04:21:07.087096Z",
     "start_time": "2024-11-24T04:21:07.084920Z"
    }
   },
   "execution_count": 15
  },
  {
   "cell_type": "code",
   "source": [
    "def rdkit_to_openmm(rdkit_mol, name=\"LIG\"):\n",
    "    \"\"\"\n",
    "    Convert an RDKit molecule to an OpenMM molecule.\n",
    "    Inspired by @hannahbrucemcdonald and @glass-w.\n",
    "\n",
    "    Parameters\n",
    "    ----------\n",
    "    rdkit_mol: rdkit.Chem.rdchem.Mol\n",
    "        RDKit molecule to convert.\n",
    "    name: str\n",
    "        Molecule name.\n",
    "\n",
    "    Returns\n",
    "    -------\n",
    "    omm_molecule: openmm.app.Modeller\n",
    "        OpenMM modeller object holding the molecule of interest.\n",
    "    \"\"\"\n",
    "    # convert RDKit to OpenFF\n",
    "    off_mol = Molecule.from_rdkit(rdkit_mol)\n",
    "\n",
    "    # add name for molecule\n",
    "    off_mol.name = name\n",
    "\n",
    "    # add names for atoms\n",
    "    element_counter_dict = {}\n",
    "    for off_atom, rdkit_atom in zip(off_mol.atoms, rdkit_mol.GetAtoms()):\n",
    "        element = rdkit_atom.GetSymbol()\n",
    "        if element in element_counter_dict.keys():\n",
    "            element_counter_dict[element] += 1\n",
    "        else:\n",
    "            element_counter_dict[element] = 1\n",
    "        off_atom.name = element + str(element_counter_dict[element])\n",
    "\n",
    "    # convert from OpenFF to OpenMM\n",
    "    off_mol_topology = off_mol.to_topology()\n",
    "    mol_topology = off_mol_topology.to_openmm()\n",
    "    mol_positions = off_mol.conformers[0]\n",
    "\n",
    "    # convert units from Ångström to nanometers\n",
    "    # since OpenMM works in nm\n",
    "    mol_positions = mol_positions.to(\"nanometers\")\n",
    "\n",
    "    # combine topology and positions in modeller object\n",
    "    omm_mol = app.Modeller(mol_topology, mol_positions)\n",
    "\n",
    "    return omm_mol"
   ],
   "metadata": {
    "id": "xWj2d483nzTf",
    "ExecuteTime": {
     "end_time": "2024-11-24T04:21:13.833379Z",
     "start_time": "2024-11-24T04:21:13.826587Z"
    }
   },
   "execution_count": 16,
   "outputs": []
  },
  {
   "cell_type": "code",
   "source": [
    "omm_ligand = rdkit_to_openmm(rdkit_ligand, ligand_name)"
   ],
   "metadata": {
    "id": "rGH3l9NY3HeI",
    "ExecuteTime": {
     "end_time": "2024-11-24T04:21:14.265511Z",
     "start_time": "2024-11-24T04:21:14.184419Z"
    }
   },
   "execution_count": 17,
   "outputs": []
  },
  {
   "cell_type": "code",
   "source": [
    "def merge_protein_and_ligand(protein, ligand):\n",
    "    \"\"\"\n",
    "    Merge two OpenMM objects.\n",
    "\n",
    "    Parameters\n",
    "    ----------\n",
    "    protein: pdbfixer.pdbfixer.PDBFixer\n",
    "        Protein to merge.\n",
    "    ligand: openmm.app.Modeller\n",
    "        Ligand to merge.\n",
    "\n",
    "    Returns\n",
    "    -------\n",
    "    complex_topology: openmm.app.topology.Topology\n",
    "        The merged topology.\n",
    "    complex_positions: openmm.unit.quantity.Quantity\n",
    "        The merged positions.\n",
    "    \"\"\"\n",
    "    # combine topologies\n",
    "    md_protein_topology = md.Topology.from_openmm(protein.topology)  # using mdtraj for protein top\n",
    "    md_ligand_topology = md.Topology.from_openmm(ligand.topology)  # using mdtraj for ligand top\n",
    "    md_complex_topology = md_protein_topology.join(md_ligand_topology)  # add them together\n",
    "    complex_topology = md_complex_topology.to_openmm()\n",
    "\n",
    "    # combine positions\n",
    "    total_atoms = len(protein.positions) + len(ligand.positions)\n",
    "\n",
    "    # create an array for storing all atom positions as tupels containing a value and a unit\n",
    "    # called OpenMM Quantities\n",
    "    complex_positions = unit.Quantity(np.zeros([total_atoms, 3]), unit=unit.nanometers)\n",
    "    complex_positions[: len(protein.positions)] = protein.positions  # add protein positions\n",
    "    complex_positions[len(protein.positions) :] = ligand.positions  # add ligand positions\n",
    "\n",
    "    return complex_topology, complex_positions"
   ],
   "metadata": {
    "id": "TBo2uVcB3SCv",
    "ExecuteTime": {
     "end_time": "2024-11-24T04:21:14.483630Z",
     "start_time": "2024-11-24T04:21:14.478053Z"
    }
   },
   "execution_count": 18,
   "outputs": []
  },
  {
   "cell_type": "code",
   "outputs": [],
   "source": [
    "complex_topology, complex_positions = merge_protein_and_ligand(prepared_protein, omm_ligand)"
   ],
   "metadata": {
    "collapsed": false,
    "ExecuteTime": {
     "end_time": "2024-11-24T04:21:18.792554Z",
     "start_time": "2024-11-24T04:21:18.539217Z"
    }
   },
   "execution_count": 21
  },
  {
   "cell_type": "code",
   "outputs": [
    {
     "name": "stdout",
     "output_type": "stream",
     "text": [
      "Complex topology has 7111 atoms.\n"
     ]
    }
   ],
   "source": [
    "print(\"Complex topology has\", complex_topology.getNumAtoms(), \"atoms.\")\n",
    "# NBVAL_CHECK_OUTPUT"
   ],
   "metadata": {
    "collapsed": false,
    "ExecuteTime": {
     "end_time": "2024-11-24T04:21:19.327673Z",
     "start_time": "2024-11-24T04:21:19.323902Z"
    }
   },
   "execution_count": 22
  },
  {
   "cell_type": "code",
   "source": [
    "def generate_forcefield(\n",
    "    rdkit_mol=None, protein_ff=\"amber14-all.xml\", solvent_ff=\"amber14/tip3pfb.xml\"\n",
    "):\n",
    "    \"\"\"\n",
    "    Generate an OpenMM Forcefield object and register a small molecule.\n",
    "\n",
    "    Parameters\n",
    "    ----------\n",
    "    rdkit_mol: rdkit.Chem.rdchem.Mol\n",
    "        Small molecule to register in the force field.\n",
    "    protein_ff: string\n",
    "        Name of the force field.\n",
    "    solvent_ff: string\n",
    "        Name of the solvent force field.\n",
    "\n",
    "    Returns\n",
    "    -------\n",
    "    forcefield: openmm.app.Forcefield\n",
    "        Forcefield with registered small molecule.\n",
    "    \"\"\"\n",
    "    forcefield = app.ForceField(protein_ff, solvent_ff)\n",
    "\n",
    "    if rdkit_mol is not None:\n",
    "        gaff = GAFFTemplateGenerator(\n",
    "            molecules=Molecule.from_rdkit(rdkit_mol, allow_undefined_stereo=True)\n",
    "        )\n",
    "        forcefield.registerTemplateGenerator(gaff.generator)\n",
    "\n",
    "    return forcefield"
   ],
   "metadata": {
    "id": "AN4jPJPfMGKy",
    "ExecuteTime": {
     "end_time": "2024-11-24T04:21:19.830017Z",
     "start_time": "2024-11-24T04:21:19.825628Z"
    }
   },
   "execution_count": 23,
   "outputs": []
  },
  {
   "cell_type": "code",
   "source": [
    "forcefield = generate_forcefield(rdkit_ligand)"
   ],
   "metadata": {
    "id": "0JCXLwgmMKdr",
    "ExecuteTime": {
     "end_time": "2024-11-24T04:21:20.571608Z",
     "start_time": "2024-11-24T04:21:20.214217Z"
    }
   },
   "execution_count": 24,
   "outputs": []
  },
  {
   "cell_type": "code",
   "source": [
    "modeller = app.Modeller(complex_topology, complex_positions)\n",
    "modeller.addSolvent(forcefield, padding=1.0 * unit.nanometers, ionicStrength=0.15 * unit.molar)"
   ],
   "metadata": {
    "id": "GP26O2pdML-V",
    "ExecuteTime": {
     "end_time": "2024-11-24T04:36:09.534958Z",
     "start_time": "2024-11-24T04:21:20.706407Z"
    }
   },
   "execution_count": 25,
   "outputs": [
    {
     "name": "stderr",
     "output_type": "stream",
     "text": [
      "Warning: importing 'simtk.openmm' is deprecated.  Import 'openmm' instead.\n"
     ]
    }
   ]
  },
  {
   "cell_type": "code",
   "source": [
    "system = forcefield.createSystem(modeller.topology, nonbondedMethod=app.PME)\n",
    "integrator = mm.LangevinIntegrator(\n",
    "    300 * unit.kelvin, 1.0 / unit.picoseconds, 2.0 * unit.femtoseconds\n",
    ")\n",
    "simulation = app.Simulation(modeller.topology, system, integrator)\n",
    "simulation.context.setPositions(modeller.positions)"
   ],
   "metadata": {
    "id": "8S3vauLDMNbs",
    "ExecuteTime": {
     "end_time": "2024-11-24T04:36:14.446772Z",
     "start_time": "2024-11-24T04:36:09.537569Z"
    }
   },
   "execution_count": 26,
   "outputs": []
  },
  {
   "cell_type": "code",
   "source": [
    "simulation.minimizeEnergy()\n",
    "with open(DATA / \"topology.pdb\", \"w\") as pdb_file:\n",
    "    app.PDBFile.writeFile(\n",
    "        simulation.topology,\n",
    "        simulation.context.getState(getPositions=True, enforcePeriodicBox=True).getPositions(),\n",
    "        file=pdb_file,\n",
    "        keepIds=True,\n",
    "    )"
   ],
   "metadata": {
    "id": "nkxNMPVlPLTA",
    "ExecuteTime": {
     "end_time": "2024-11-24T04:47:02.640564Z",
     "start_time": "2024-11-24T04:36:14.448300Z"
    }
   },
   "execution_count": 27,
   "outputs": []
  },
  {
   "cell_type": "code",
   "source": [
    "\n",
    "steps = 50000  # corresponds to 100 ps\n",
    "write_interval = 5000  # write every 10 ps\n",
    "log_interval = 2500  # log progress to stdout every 5 ps\n",
    "simulation.reporters.append(\n",
    "    md.reporters.XTCReporter(file=str(DATA / \"trajectory.xtc\"), reportInterval=write_interval)\n",
    ")\n",
    "simulation.reporters.append(\n",
    "    app.StateDataReporter(\n",
    "        sys.stdout,\n",
    "        log_interval,\n",
    "        step=True,\n",
    "        potentialEnergy=True,\n",
    "        temperature=True,\n",
    "        progress=True,\n",
    "        remainingTime=True,\n",
    "        speed=True,\n",
    "        totalSteps=steps,\n",
    "        separator=\"\\t\",\n",
    "    )\n",
    ")"
   ],
   "metadata": {
    "id": "HIqEtJbTPNA-",
    "ExecuteTime": {
     "end_time": "2024-11-24T04:47:02.649786Z",
     "start_time": "2024-11-24T04:47:02.642782Z"
    }
   },
   "execution_count": 28,
   "outputs": []
  },
  {
   "cell_type": "code",
   "source": [
    "simulation.context.setVelocitiesToTemperature(300 * unit.kelvin)\n",
    "simulation.step(steps)  # perform the simulation"
   ],
   "metadata": {
    "id": "kYv1k1z7POWj",
    "ExecuteTime": {
     "end_time": "2024-11-24T05:58:48.891275Z",
     "start_time": "2024-11-24T04:47:02.651211Z"
    }
   },
   "execution_count": 29,
   "outputs": [
    {
     "name": "stdout",
     "output_type": "stream",
     "text": [
      "#\"Progress (%)\"\t\"Step\"\t\"Potential Energy (kJ/mole)\"\t\"Temperature (K)\"\t\"Speed (ns/day)\"\t\"Time Remaining\"\n",
      "5.0%\t2500\t-2407215.593073366\t297.59919215849425\t0\t--\n",
      "10.0%\t5000\t-2397417.093073366\t300.1065595181595\t2.01\t1:04:30\n",
      "15.0%\t7500\t-2398598.561823366\t298.99211800188203\t2.01\t1:00:59\n",
      "20.0%\t10000\t-2399169.202448366\t299.53456790211993\t2.01\t57:25\n",
      "25.0%\t12500\t-2398333.952448366\t298.8790352744926\t2.01\t53:50\n",
      "30.0%\t15000\t-2398187.530573366\t298.84148436923016\t2.01\t50:14\n",
      "35.0%\t17500\t-2395632.014948366\t300.77481282612086\t2.01\t46:40\n",
      "40.0%\t20000\t-2396429.686823366\t299.3964393022481\t2.01\t43:05\n",
      "45.0%\t22500\t-2399866.405573366\t300.35587192564964\t2.01\t39:29\n",
      "50.0%\t25000\t-2399582.014948366\t301.3125280885473\t2.01\t35:54\n",
      "55.0%\t27500\t-2397995.655573366\t300.91908185064267\t2.01\t32:18\n",
      "60.0%\t30000\t-2396726.624323366\t299.64688054667425\t2.01\t28:43\n",
      "65.0%\t32500\t-2397352.061823366\t299.20128752364525\t2.01\t25:07\n",
      "70.0%\t35000\t-2396741.202448366\t299.57863673688746\t2.01\t21:32\n",
      "75.0%\t37500\t-2398902.983698366\t297.3081685206548\t2.01\t17:56\n",
      "80.0%\t40000\t-2401525.639948366\t298.6241923461103\t2.01\t14:21\n",
      "85.0%\t42500\t-2397471.764948366\t299.1655819899709\t2.01\t10:45\n",
      "90.0%\t45000\t-2398431.702448366\t300.9212755618323\t2.01\t7:10\n",
      "95.0%\t47500\t-2398720.999323366\t300.0930569544096\t2.01\t3:35\n",
      "100.0%\t50000\t-2398313.530573366\t299.4268872103375\t2.01\t0:00\n"
     ]
    }
   ]
  },
  {
   "cell_type": "code",
   "source": [
    "# Check the trajectory exists and is not empty\n",
    "(DATA / \"trajectory.xtc\").stat().st_size > 0\n",
    "# NBVAL_CHECK_OUTPUT"
   ],
   "metadata": {
    "id": "HpRkaG8zPPt7",
    "ExecuteTime": {
     "end_time": "2024-11-24T05:58:48.897082Z",
     "start_time": "2024-11-24T05:58:48.892647Z"
    }
   },
   "execution_count": 30,
   "outputs": [
    {
     "data": {
      "text/plain": "True"
     },
     "execution_count": 30,
     "metadata": {},
     "output_type": "execute_result"
    }
   ]
  },
  {
   "cell_type": "code",
   "source": [],
   "metadata": {
    "id": "dz2LhjtePRPn",
    "ExecuteTime": {
     "end_time": "2024-11-24T05:58:48.900824Z",
     "start_time": "2024-11-24T05:58:48.898969Z"
    }
   },
   "execution_count": 30,
   "outputs": []
  },
  {
   "cell_type": "code",
   "source": [],
   "metadata": {
    "id": "GV-J3otdPSww",
    "ExecuteTime": {
     "end_time": "2024-11-23T16:28:11.912156Z",
     "start_time": "2024-11-23T16:28:11.899371Z"
    }
   },
   "execution_count": null,
   "outputs": []
  },
  {
   "cell_type": "code",
   "source": [],
   "metadata": {
    "id": "B_qYt7LdPVTQ"
   },
   "execution_count": null,
   "outputs": []
  },
  {
   "cell_type": "code",
   "source": [],
   "metadata": {
    "id": "je2gBRomPWri"
   },
   "execution_count": null,
   "outputs": []
  },
  {
   "cell_type": "code",
   "source": [],
   "metadata": {
    "id": "TOwiIDlqPX2x"
   },
   "execution_count": null,
   "outputs": []
  }
 ]
}
