{
 "cells": [
  {
   "cell_type": "code",
   "outputs": [
    {
     "name": "stderr",
     "output_type": "stream",
     "text": [
      "/opt/anaconda3/envs/teachopencadd/lib/python3.8/site-packages/Bio/Application/__init__.py:40: BiopythonDeprecationWarning: The Bio.Application modules and modules relying on it have been deprecated.\n",
      "\n",
      "Due to the on going maintenance burden of keeping command line application\n",
      "wrappers up to date, we have decided to deprecate and eventually remove these\n",
      "modules.\n",
      "\n",
      "We instead now recommend building your command line and invoking it directly\n",
      "with the subprocess module.\n",
      "  warnings.warn(\n",
      "Warning: importing 'simtk.openmm' is deprecated.  Import 'openmm' instead.\n"
     ]
    },
    {
     "name": "stdout",
     "output_type": "stream",
     "text": [
      "/Users/wangyang/Desktop/Liver_cancer/16-AIDD/10_Molecular_Dynamics_Simulation_Analysis/data\n"
     ]
    },
    {
     "name": "stderr",
     "output_type": "stream",
     "text": [
      "/opt/anaconda3/envs/teachopencadd/lib/python3.8/site-packages/MDAnalysis/topology/PDBParser.py:287: UserWarning: PDB file is missing resid information.  Defaulted to '1'\n",
      "  warnings.warn(\"PDB file is missing resid information.  \"\n"
     ]
    },
    {
     "name": "stdout",
     "output_type": "stream",
     "text": [
      "Loaded system: <Universe with 145861 atoms>\n",
      "Number of atoms: 145861\n",
      "Residues in the system: ['ALA' 'ARG' 'ASN' 'ASP' 'CL' 'CYS' 'GLN' 'GLU' 'GLY' 'HIS' 'HOH' 'ILE'\n",
      " 'LEU' 'LYS' 'MET' 'NA' 'PHE' 'PRO' 'SER' 'THR' 'TRP' 'TYR' 'UNK' 'VAL']\n",
      "Trajectory aligned to the reference frame.\n"
     ]
    },
    {
     "ename": "ValueError",
     "evalue": "No atoms found for ligand with resname 'IQO'. Please check the residue name.",
     "output_type": "error",
     "traceback": [
      "\u001B[0;31m---------------------------------------------------------------------------\u001B[0m",
      "\u001B[0;31mValueError\u001B[0m                                Traceback (most recent call last)",
      "Cell \u001B[0;32mIn[1], line 45\u001B[0m\n\u001B[1;32m     42\u001B[0m ligand \u001B[38;5;241m=\u001B[39m u\u001B[38;5;241m.\u001B[39mselect_atoms(\u001B[38;5;124mf\u001B[39m\u001B[38;5;124m\"\u001B[39m\u001B[38;5;124mresname \u001B[39m\u001B[38;5;132;01m{\u001B[39;00mligand_resname\u001B[38;5;132;01m}\u001B[39;00m\u001B[38;5;124m\"\u001B[39m)\n\u001B[1;32m     44\u001B[0m \u001B[38;5;28;01mif\u001B[39;00m \u001B[38;5;28mlen\u001B[39m(ligand) \u001B[38;5;241m==\u001B[39m \u001B[38;5;241m0\u001B[39m:\n\u001B[0;32m---> 45\u001B[0m     \u001B[38;5;28;01mraise\u001B[39;00m \u001B[38;5;167;01mValueError\u001B[39;00m(\u001B[38;5;124mf\u001B[39m\u001B[38;5;124m\"\u001B[39m\u001B[38;5;124mNo atoms found for ligand with resname \u001B[39m\u001B[38;5;124m'\u001B[39m\u001B[38;5;132;01m{\u001B[39;00mligand_resname\u001B[38;5;132;01m}\u001B[39;00m\u001B[38;5;124m'\u001B[39m\u001B[38;5;124m. Please check the residue name.\u001B[39m\u001B[38;5;124m\"\u001B[39m)\n\u001B[1;32m     47\u001B[0m \u001B[38;5;66;03m# 计算蛋白质骨架的 RMSD\u001B[39;00m\n\u001B[1;32m     48\u001B[0m rmsd_backbone \u001B[38;5;241m=\u001B[39m rms\u001B[38;5;241m.\u001B[39mRMSD(u, ref, select\u001B[38;5;241m=\u001B[39m\u001B[38;5;124m\"\u001B[39m\u001B[38;5;124mprotein and backbone\u001B[39m\u001B[38;5;124m\"\u001B[39m, verbose\u001B[38;5;241m=\u001B[39m\u001B[38;5;28;01mTrue\u001B[39;00m)\n",
      "\u001B[0;31mValueError\u001B[0m: No atoms found for ligand with resname 'IQO'. Please check the residue name."
     ]
    }
   ],
   "source": [
    "import MDAnalysis as mda\n",
    "from MDAnalysis.analysis import rms, align\n",
    "import matplotlib.pyplot as plt\n",
    "import pandas as pd\n",
    "import numpy as np\n",
    "from pathlib import Path\n",
    "import os\n",
    "\n",
    "# 获取当前工作目录并定义数据路径\n",
    "HERE = Path(os.getcwd())\n",
    "DATA = HERE / 'data'\n",
    "if not DATA.exists():\n",
    "    DATA.mkdir(parents=True, exist_ok=True)\n",
    "print(DATA)\n",
    "\n",
    "# 加载拓扑和轨迹文件\n",
    "u = mda.Universe(DATA / \"topology.pdb\", DATA / \"trajectory.xtc\")\n",
    "\n",
    "# 打印系统信息\n",
    "print(f\"Loaded system: {u}\")\n",
    "print(f\"Number of atoms: {u.atoms.n_atoms}\")\n",
    "\n",
    "# 打印所有 Residue 名称\n",
    "unique_resnames = np.unique(u.atoms.resnames)\n",
    "print(\"Residues in the system:\", unique_resnames)\n",
    "\n",
    "# 替换 Residue 名称为实际的配体 Residue 名称（例如 UNK）\n",
    "ligand_resname = \"IQO\"  # 确保选择正确的配体 Residue 名称\n",
    "\n",
    "# 定义参考帧，包含蛋白和配体\n",
    "ref = u.select_atoms(\"protein or resname 03P\")  # 包括配体 Residue 名称\n",
    "if len(ref) == 0:\n",
    "    raise ValueError(\"No atoms found in the reference selection. Please check your selection string.\")\n",
    "\n",
    "# 对齐轨迹到参考帧\n",
    "aligner = align.AlignTraj(u, ref, select=\"protein and backbone\", in_memory=True)\n",
    "aligner.run()\n",
    "print(\"Trajectory aligned to the reference frame.\")\n",
    "\n",
    "# 选择蛋白质和配体\n",
    "protein = u.select_atoms(\"protein\")\n",
    "ligand = u.select_atoms(f\"resname {ligand_resname}\")\n",
    "\n",
    "if len(ligand) == 0:\n",
    "    raise ValueError(f\"No atoms found for ligand with resname '{ligand_resname}'. Please check the residue name.\")\n",
    "\n",
    "# 计算蛋白质骨架的 RMSD\n",
    "rmsd_backbone = rms.RMSD(u, ref, select=\"protein and backbone\", verbose=True)\n",
    "rmsd_backbone.run()\n",
    "\n",
    "# 计算蛋白质整体的 RMSD\n",
    "rmsd_protein = rms.RMSD(u, ref, select=\"protein\", verbose=True)\n",
    "rmsd_protein.run()\n",
    "\n",
    "# 计算配体的 RMSD\n",
    "rmsd_ligand = rms.RMSD(u, ref, select=f\"resname {ligand_resname}\", verbose=True)\n",
    "rmsd_ligand.run()\n",
    "\n",
    "# 提取帧数和 RMSD 数据\n",
    "frames = range(len(u.trajectory))\n",
    "rmsd_data = pd.DataFrame({\n",
    "    \"frame\": frames,\n",
    "    \"backbone\": rmsd_backbone.results.rmsd[:, 2],  # 骨架 RMSD\n",
    "    \"protein\": rmsd_protein.results.rmsd[:, 2],    # 整体蛋白 RMSD\n",
    "    f\"resname {ligand_resname}\": rmsd_ligand.results.rmsd[:, 2],  # 配体 RMSD\n",
    "})\n",
    "\n",
    "# 展示前几行数据\n",
    "print(rmsd_data.head())\n",
    "\n",
    "# 可视化 RMSD 数据\n",
    "plt.figure(figsize=(10, 6))\n",
    "plt.plot(frames, rmsd_backbone.results.rmsd[:, 2], label=\"backbone\")\n",
    "plt.plot(frames, rmsd_protein.results.rmsd[:, 2], label=\"protein\")\n",
    "plt.plot(frames, rmsd_ligand.results.rmsd[:, 2], label=f\"resname {ligand_resname}\")\n",
    "plt.xlabel(\"frame\")\n",
    "plt.ylabel(\"RMSD (Å)\")\n",
    "plt.title(\"RMSD of protein and ligand\")\n",
    "plt.legend()\n",
    "plt.show()\n"
   ],
   "metadata": {
    "collapsed": false,
    "ExecuteTime": {
     "end_time": "2024-11-24T08:31:37.074978Z",
     "start_time": "2024-11-24T08:31:31.074439Z"
    }
   },
   "id": "62acd1905bfc0907",
   "execution_count": 1
  },
  {
   "cell_type": "markdown",
   "source": [
    "1. 残基 RMSF (Root Mean Square Fluctuation)\n",
    "RMSF 用于分析每个残基的波动幅度。"
   ],
   "metadata": {
    "collapsed": false
   },
   "id": "fc6344afdfca6408"
  },
  {
   "cell_type": "code",
   "outputs": [],
   "source": [
    "from MDAnalysis.analysis import rms\n",
    "\n",
    "# 计算每个残基的 RMSF\n",
    "protein_residues = protein.residues  # 选择蛋白质残基\n",
    "rmsf = np.zeros(len(protein_residues))\n",
    "\n",
    "for ts in u.trajectory:\n",
    "    for i, residue in enumerate(protein_residues):\n",
    "        residue_atoms = residue.atoms\n",
    "        rmsf[i] += ((residue_atoms.positions - residue_atoms.center_of_mass())**2).sum(axis=1).mean()\n",
    "\n",
    "rmsf = np.sqrt(rmsf / len(u.trajectory))\n",
    "\n",
    "# 可视化 RMSF\n",
    "plt.figure(figsize=(10, 6))\n",
    "plt.bar(protein_residues.resids, rmsf, label=\"RMSF\")\n",
    "plt.xlabel(\"Residue ID\")\n",
    "plt.ylabel(\"RMSF (Å)\")\n",
    "plt.title(\"Root Mean Square Fluctuation (RMSF) by Residue\")\n",
    "plt.show()\n"
   ],
   "metadata": {
    "collapsed": false
   },
   "id": "b37b563176e713fb",
   "execution_count": null
  },
  {
   "cell_type": "markdown",
   "source": [
    "2. 角键分析\n",
    "提取角度变化（例如，主链的二面角 φ 和 ψ），使用 MDAnalysis.analysis.dihedrals 模块。"
   ],
   "metadata": {
    "collapsed": false
   },
   "id": "8ae82383191fcfc"
  },
  {
   "cell_type": "code",
   "outputs": [
    {
     "name": "stderr",
     "output_type": "stream",
     "text": [
      "/opt/anaconda3/envs/teachopencadd/lib/python3.8/site-packages/MDAnalysis/analysis/dihedrals.py:407: UserWarning: Cannot determine phi and psi angles for the first or last residues\n",
      "  warnings.warn(\"Cannot determine phi and psi angles for the first \"\n",
      "/opt/anaconda3/envs/teachopencadd/lib/python3.8/site-packages/MDAnalysis/analysis/dihedrals.py:513: DeprecationWarning: The `angle` attribute was deprecated in MDAnalysis 2.0.0 and will be removed in MDAnalysis 3.0.0. Please use `results.angles` instead\n",
      "  warnings.warn(wmsg, DeprecationWarning)\n"
     ]
    },
    {
     "data": {
      "text/plain": "<Figure size 1000x600 with 1 Axes>",
      "image/png": "[encoded data removed]"
     },
     "metadata": {},
     "output_type": "display_data"
    }
   ],
   "source": [
    "from MDAnalysis.analysis.dihedrals import Ramachandran\n",
    "\n",
    "# 计算 Ramachandran 图上的主链二面角 φ 和 ψ\n",
    "rama = Ramachandran(protein).run()\n",
    "\n",
    "# 提取角度数据\n",
    "phi_psi_data = rama.angles\n",
    "\n",
    "# 可视化 Ramachandran 图\n",
    "plt.figure(figsize=(10, 6))\n",
    "plt.scatter(phi_psi_data[:, 0], phi_psi_data[:, 1], alpha=0.5)\n",
    "plt.xlabel(\"Phi (°)\")\n",
    "plt.ylabel(\"Psi (°)\")\n",
    "plt.title(\"Ramachandran Plot\")\n",
    "plt.show()\n"
   ],
   "metadata": {
    "collapsed": false,
    "ExecuteTime": {
     "end_time": "2024-11-24T06:58:27.363119Z",
     "start_time": "2024-11-24T06:58:27.157628Z"
    }
   },
   "id": "d4ab03d72ddcb778",
   "execution_count": 8
  },
  {
   "cell_type": "markdown",
   "source": [
    "3. 帧间 RMSD (RMSD Between Frames)\n",
    "计算帧间 RMSD 矩阵，分析系统在不同时间点的结构变化。"
   ],
   "metadata": {
    "collapsed": false
   },
   "id": "740374c2ca0533a6"
  },
  {
   "cell_type": "code",
   "outputs": [],
   "source": [
    "from MDAnalysis.analysis import rms\n",
    "\n",
    "# 初始化帧间 RMSD 矩阵\n",
    "num_frames = len(u.trajectory)\n",
    "rmsd_matrix = np.zeros((num_frames, num_frames))\n",
    "\n",
    "# 计算帧间 RMSD\n",
    "for i, ts1 in enumerate(u.trajectory):\n",
    "    for j, ts2 in enumerate(u.trajectory):\n",
    "        if i <= j:  # 只计算对称矩阵的一半\n",
    "            rmsd_matrix[i, j] = rms.rmsd(ts1.positions, ts2.positions)\n",
    "\n",
    "# 可视化帧间 RMSD 矩阵\n",
    "plt.figure(figsize=(10, 8))\n",
    "plt.imshow(rmsd_matrix, cmap='viridis', origin='lower')\n",
    "plt.colorbar(label=\"RMSD (Å)\")\n",
    "plt.xlabel(\"Frame\")\n",
    "plt.ylabel(\"Frame\")\n",
    "plt.title(\"RMSD Between Frames\")\n",
    "plt.show()\n"
   ],
   "metadata": {
    "collapsed": false,
    "is_executing": true,
    "ExecuteTime": {
     "start_time": "2024-11-24T06:58:37.346505Z"
    }
   },
   "id": "c4a5b65d8c74fb10"
  },
  {
   "cell_type": "markdown",
   "source": [
    "4. 残基-原子距离分析\n",
    "计算每个残基的中心与配体某特定原子之间的距离。"
   ],
   "metadata": {
    "collapsed": false
   },
   "id": "959dc3f49228398e"
  },
  {
   "cell_type": "code",
   "outputs": [
    {
     "ename": "AttributeError",
     "evalue": "center_of_mass() is a method of ResidueGroup, not Residue",
     "output_type": "error",
     "traceback": [
      "\u001B[0;31m---------------------------------------------------------------------------\u001B[0m",
      "\u001B[0;31mAttributeError\u001B[0m                            Traceback (most recent call last)",
      "Cell \u001B[0;32mIn[9], line 12\u001B[0m\n\u001B[1;32m     10\u001B[0m distances_per_frame \u001B[38;5;241m=\u001B[39m []\n\u001B[1;32m     11\u001B[0m \u001B[38;5;28;01mfor\u001B[39;00m residue \u001B[38;5;129;01min\u001B[39;00m protein_residues:\n\u001B[0;32m---> 12\u001B[0m     com_residue \u001B[38;5;241m=\u001B[39m \u001B[43mresidue\u001B[49m\u001B[38;5;241;43m.\u001B[39;49m\u001B[43mcenter_of_mass\u001B[49m()  \u001B[38;5;66;03m# 残基中心\u001B[39;00m\n\u001B[1;32m     13\u001B[0m     distance \u001B[38;5;241m=\u001B[39m distances\u001B[38;5;241m.\u001B[39mdistance_array(com_residue, ligand_atom\u001B[38;5;241m.\u001B[39mposition)[\u001B[38;5;241m0\u001B[39m, \u001B[38;5;241m0\u001B[39m]\n\u001B[1;32m     14\u001B[0m     distances_per_frame\u001B[38;5;241m.\u001B[39mappend(distance)\n",
      "File \u001B[0;32m/opt/anaconda3/envs/teachopencadd/lib/python3.8/site-packages/MDAnalysis/core/groups.py:4030\u001B[0m, in \u001B[0;36mComponentBase.__getattr__\u001B[0;34m(self, attr)\u001B[0m\n\u001B[1;32m   4028\u001B[0m         \u001B[38;5;28;01mraise\u001B[39;00m NoDataError(err\u001B[38;5;241m.\u001B[39mformat(singular\u001B[38;5;241m=\u001B[39m\u001B[38;5;28mcls\u001B[39m\u001B[38;5;241m.\u001B[39msingular))\n\u001B[1;32m   4029\u001B[0m \u001B[38;5;28;01melse\u001B[39;00m:\n\u001B[0;32m-> 4030\u001B[0m     \u001B[38;5;28;01mreturn\u001B[39;00m \u001B[38;5;28;43msuper\u001B[39;49m\u001B[43m(\u001B[49m\u001B[43mComponentBase\u001B[49m\u001B[43m,\u001B[49m\u001B[43m \u001B[49m\u001B[38;5;28;43mself\u001B[39;49m\u001B[43m)\u001B[49m\u001B[38;5;241;43m.\u001B[39;49m\u001B[38;5;21;43m__getattr__\u001B[39;49m\u001B[43m(\u001B[49m\u001B[43mattr\u001B[49m\u001B[43m)\u001B[49m\n",
      "File \u001B[0;32m/opt/anaconda3/envs/teachopencadd/lib/python3.8/site-packages/MDAnalysis/core/groups.py:368\u001B[0m, in \u001B[0;36m_MutableBase.__getattr__\u001B[0;34m(self, attr)\u001B[0m\n\u001B[1;32m    366\u001B[0m     \u001B[38;5;28;01mif\u001B[39;00m clsname \u001B[38;5;241m==\u001B[39m \u001B[38;5;124m'\u001B[39m\u001B[38;5;124mGroupBase\u001B[39m\u001B[38;5;124m'\u001B[39m:\n\u001B[1;32m    367\u001B[0m         clsname \u001B[38;5;241m=\u001B[39m selfcls \u001B[38;5;241m+\u001B[39m \u001B[38;5;124m'\u001B[39m\u001B[38;5;124mGroup\u001B[39m\u001B[38;5;124m'\u001B[39m\n\u001B[0;32m--> 368\u001B[0m     \u001B[38;5;28;01mraise\u001B[39;00m \u001B[38;5;167;01mAttributeError\u001B[39;00m(err\u001B[38;5;241m.\u001B[39mformat(attr\u001B[38;5;241m=\u001B[39mattrname,\n\u001B[1;32m    369\u001B[0m                                     method\u001B[38;5;241m=\u001B[39mattrtype,\n\u001B[1;32m    370\u001B[0m                                     clstype\u001B[38;5;241m=\u001B[39mclsname,\n\u001B[1;32m    371\u001B[0m                                     selfcls\u001B[38;5;241m=\u001B[39mselfcls))\n\u001B[1;32m    372\u001B[0m \u001B[38;5;66;03m# missing required topologyattr\u001B[39;00m\n\u001B[1;32m    373\u001B[0m \u001B[38;5;28;01melse\u001B[39;00m:\n\u001B[1;32m    374\u001B[0m     err \u001B[38;5;241m=\u001B[39m (\u001B[38;5;124m'\u001B[39m\u001B[38;5;132;01m{selfcls}\u001B[39;00m\u001B[38;5;124m.\u001B[39m\u001B[38;5;132;01m{attrname}\u001B[39;00m\u001B[38;5;124m not available; \u001B[39m\u001B[38;5;124m'\u001B[39m\n\u001B[1;32m    375\u001B[0m            \u001B[38;5;124m'\u001B[39m\u001B[38;5;124mthis requires \u001B[39m\u001B[38;5;132;01m{topattr}\u001B[39;00m\u001B[38;5;124m'\u001B[39m)\n",
      "\u001B[0;31mAttributeError\u001B[0m: center_of_mass() is a method of ResidueGroup, not Residue"
     ]
    }
   ],
   "source": [
    "from MDAnalysis.analysis import distances\n",
    "\n",
    "# 选择配体的某个原子\n",
    "ligand_atom = ligand.atoms[0]  # 配体的第一个原子，您可以根据需求调整\n",
    "\n",
    "# 计算每个残基与配体原子的距离\n",
    "residue_distances = []\n",
    "\n",
    "for ts in u.trajectory:\n",
    "    distances_per_frame = []\n",
    "    for residue in protein_residues:\n",
    "        com_residue = residue.center_of_mass()  # 残基中心\n",
    "        distance = distances.distance_array(com_residue, ligand_atom.position)[0, 0]\n",
    "        distances_per_frame.append(distance)\n",
    "    residue_distances.append(distances_per_frame)\n",
    "\n",
    "residue_distances = np.array(residue_distances)\n",
    "\n",
    "# 可视化距离数据\n",
    "avg_distances = residue_distances.mean(axis=0)  # 平均距离\n",
    "plt.figure(figsize=(10, 6))\n",
    "plt.bar(protein_residues.resids, avg_distances)\n",
    "plt.xlabel(\"Residue ID\")\n",
    "plt.ylabel(\"Average Distance to Ligand (Å)\")\n",
    "plt.title(\"Residue-Ligand Distances\")\n",
    "plt.show()\n"
   ],
   "metadata": {
    "collapsed": false,
    "ExecuteTime": {
     "end_time": "2024-11-24T06:58:34.047754Z",
     "start_time": "2024-11-24T06:58:33.784671Z"
    }
   },
   "id": "4927be80b4713167",
   "execution_count": 9
  },
  {
   "cell_type": "code",
   "outputs": [],
   "source": [],
   "metadata": {
    "collapsed": false
   },
   "id": "d067f07becbf552e"
  },
  {
   "cell_type": "code",
   "outputs": [],
   "source": [],
   "metadata": {
    "collapsed": false
   },
   "id": "4c6f64712a823eae"
  },
  {
   "cell_type": "code",
   "outputs": [],
   "source": [],
   "metadata": {
    "collapsed": false
   },
   "id": "2b9614beedb72c8f"
  }
 ],
 "metadata": {
  "kernelspec": {
   "display_name": "Python 3",
   "language": "python",
   "name": "python3"
  },
  "language_info": {
   "codemirror_mode": {
    "name": "ipython",
    "version": 2
   },
   "file_extension": ".py",
   "mimetype": "text/x-python",
   "name": "python",
   "nbconvert_exporter": "python",
   "pygments_lexer": "ipython2",
   "version": "2.7.6"
  }
 },
 "nbformat": 4,
 "nbformat_minor": 5
}
