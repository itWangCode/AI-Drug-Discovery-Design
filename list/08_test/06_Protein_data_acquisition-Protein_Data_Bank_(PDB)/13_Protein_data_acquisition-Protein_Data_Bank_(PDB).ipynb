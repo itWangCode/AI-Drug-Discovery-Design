{
 "cells": [
  {
   "cell_type": "markdown",
   "id": "eb923f0f2f28a66d",
   "metadata": {
    "collapsed": false
   },
   "source": [
    "# Protein Data Bank (PDB)\n",
    "# 蛋白质数据获取：蛋白质数据银行（PDB）\n"
   ]
  },
  {
   "metadata": {},
   "cell_type": "markdown",
   "source": [
    "### 内容在理论中 ¶\n",
    "\n",
    "-  蛋白质数据银行（PDB）\n",
    "- 查询 PDB 使用 Python 包 `biotite` 和 `pypdb`\n",
    "\n",
    "###  内容在实用篇中\n",
    "\n",
    "-  选择一个查询蛋白\n",
    "- 获取查询蛋白的 PDB 条目数量\n",
    "- 查找满足特定条件的 PDB 条目\n",
    "- 选择分辨率最高的 PDB 条目\n",
    "- 获取顶级结构中配体的元数据\n",
    "- 绘制顶配体分子\n",
    "- 创建蛋白质-配体 ID 对\n",
    "- 对齐 PDB 结构并提取配体\n",
    "\n",
    "###  参考文献\n",
    "\n",
    "- 蛋白质数据银行（PDB 网站）\n",
    "- `pypdb` Python 软件包（生物信息学（2016），1，159-60；文档）\n",
    "- `biotite` Python 软件包（BMC 生物信息学（2018），19；文档）\n",
    "- 分子叠加与 Python 包 `opencadd` （仓库）\n",
    "\n",
    "##  理论 ¶\n",
    "\n",
    "### 蛋白质数据银行（PDB）\n",
    "\n",
    "RCSB 蛋白质数据银行（PDB）是一个全面的生物信息学数据库，是结构生物学领域，如结构基因组学和药物设计等关键资源（PDB 网站）。\n",
    "\n",
    "结构数据来源于结构确定方法，如 X 射线晶体学（最常见方法）、核磁共振（NMR）和冷冻电子显微镜（cryo-EM）。对于每个条目，数据库包含（i）蛋白质、配体、辅因子、水分子和离子的原子 3D 坐标以及连接这些原子的键，以及（ii）关于结构数据的元信息，如 PDB ID、作者、沉积日期、使用的结构确定方法和结构分辨率。结构分辨率是收集数据质量的度量，单位为Å（埃）；值越低，结构质量越高。\n",
    "\n",
    "### 查询 PDB 使用 Python 包 `biotite` 和 `pypdb` ¶\n",
    "\n",
    "query one ( `FieldQuery` ，见文档) 或更多 ( `CompositeQuery` ，见文档) 的这些字段以检索符合我们标准的 PDB ID 的数量 ( `count` ) 或列表 ( `search` )。"
   ],
   "id": "f8bec4bfdde42731"
  },
  {
   "cell_type": "code",
   "execution_count": 48,
   "id": "initial_id",
   "metadata": {
    "ExecuteTime": {
     "end_time": "2024-11-23T14:01:33.676872Z",
     "start_time": "2024-11-23T14:01:33.666469Z"
    }
   },
   "outputs": [],
   "source": [
    "import collections\n",
    "import logging\n",
    "import pathlib\n",
    "import time\n",
    "import warnings\n",
    "import datetime\n",
    "\n",
    "import pandas as pd\n",
    "import matplotlib.pyplot as plt\n",
    "from bs4 import BeautifulSoup\n",
    "import requests\n",
    "from tqdm.auto import tqdm\n",
    "import redo\n",
    "import requests_cache\n",
    "import nglview\n",
    "import pypdb\n",
    "import biotite.database.rcsb as rcsb\n",
    "from rdkit.Chem import Draw\n",
    "from rdkit.Chem import PandasTools\n",
    "\n",
    "from opencadd.structure.superposition.api import align, METHODS\n",
    "from opencadd.structure.core import Structure\n",
    "\n",
    "# Disable some unneeded warnings\n",
    "logger = logging.getLogger(\"opencadd\")\n",
    "logger.setLevel(logging.ERROR)\n",
    "warnings.filterwarnings(\"ignore\")\n",
    "\n",
    "# Cache requests -- this will speed up repeated queries to PDB\n",
    "requests_cache.install_cache(\"rcsb_pdb\", backend=\"memory\")"
   ]
  },
  {
   "cell_type": "code",
   "execution_count": 49,
   "id": "7bf364bc56bd764a",
   "metadata": {
    "collapsed": false,
    "ExecuteTime": {
     "end_time": "2024-11-23T14:01:33.841542Z",
     "start_time": "2024-11-23T14:01:33.836341Z"
    }
   },
   "outputs": [
    {
     "name": "stdout",
     "output_type": "stream",
     "text": [
      "/Users/wangyang/Desktop/Liver_cancer/16-AIDD/06_Protein_data_acquisition-Protein_Data_Bank_(PDB)/data_P31751\n"
     ]
    }
   ],
   "source": [
    "from pathlib import Path\n",
    "import os\n",
    "\n",
    "# 获取当前工作目录\n",
    "HERE = Path(os.getcwd())\n",
    "DATA = HERE / 'data_P31751'\n",
    "if not DATA.exists():\n",
    "    DATA.mkdir(parents=True, exist_ok=True)\n",
    "print(DATA)\n"
   ]
  },
  {
   "cell_type": "markdown",
   "id": "209acba3e2807dff",
   "metadata": {
    "collapsed": false
   },
   "source": [
    "### 选择查询蛋白 ¶\n",
    "\n",
    "我们使用 AURKA 作为本演讲的查询蛋白。 AURKA 的 UniProt ID 为 `O14965` ，下面将使用该 ID 来查询 PDB 数据库。"
   ]
  },
  {
   "cell_type": "code",
   "execution_count": 50,
   "id": "ccdfc67aeb3f854c",
   "metadata": {
    "collapsed": false,
    "ExecuteTime": {
     "end_time": "2024-11-23T14:01:34.181593Z",
     "start_time": "2024-11-23T14:01:34.177821Z"
    }
   },
   "outputs": [],
   "source": [
    "uniprot_id = \"P31751\""
   ]
  },
  {
   "cell_type": "markdown",
   "id": "63f8ba176495a2f8",
   "metadata": {
    "collapsed": false
   },
   "source": [
    "### 获取查询蛋白质的 PDB 条目数 ¶\n",
    "\n",
    "AURKA 的 PDB 中有多少可用结构（在本笔记本上次运行时）？"
   ]
  },
  {
   "cell_type": "code",
   "execution_count": 51,
   "id": "63f73fa44e68eda3",
   "metadata": {
    "collapsed": false,
    "ExecuteTime": {
     "end_time": "2024-11-23T14:01:35.676219Z",
     "start_time": "2024-11-23T14:01:34.561620Z"
    }
   },
   "outputs": [
    {
     "name": "stdout",
     "output_type": "stream",
     "text": [
      "结构数 2024-11-23: 19\n"
     ]
    }
   ],
   "source": [
    "query_by_uniprot_id = rcsb.FieldQuery(\n",
    "    \"rcsb_polymer_entity_container_identifiers.reference_sequence_identifiers.database_accession\",\n",
    "    exact_match=uniprot_id,\n",
    ")\n",
    "today = datetime.datetime.now()\n",
    "print(\n",
    "    f\"结构数 {today.year}-{today.month}-{today.day}: {rcsb.count(query_by_uniprot_id)}\"\n",
    ")"
   ]
  },
  {
   "cell_type": "markdown",
   "id": "249ff7f07464d8eb",
   "metadata": {
    "collapsed": false
   },
   "source": [
    "自 1971 年 PDB 成立以来，每年有多少个可用结构？"
   ]
  },
  {
   "cell_type": "markdown",
   "id": "b38ddf0d68f488a7",
   "metadata": {
    "collapsed": false
   },
   "source": [
    "我们定义我们的标准。"
   ]
  },
  {
   "cell_type": "code",
   "execution_count": 52,
   "id": "d1da9d74eb8bd41e",
   "metadata": {
    "collapsed": false,
    "ExecuteTime": {
     "end_time": "2024-11-23T14:01:35.681246Z",
     "start_time": "2024-11-23T14:01:35.678005Z"
    }
   },
   "outputs": [],
   "source": [
    "uniprot_id = \"P31751\"\n",
    "before_deposition_date = \"2024-11-15T00:00:00Z\"\n",
    "experimental_method = \"X-RAY DIFFRACTION\"\n",
    "max_resolution = 3.0\n",
    "n_chains = 1\n",
    "min_ligand_molecular_weight = 100.0"
   ]
  },
  {
   "cell_type": "markdown",
   "id": "56d049ecf850fcb8",
   "metadata": {
    "collapsed": false
   },
   "source": [
    "我们设置每个查询。"
   ]
  },
  {
   "cell_type": "code",
   "execution_count": 53,
   "id": "1dcabd9756906978",
   "metadata": {
    "collapsed": false,
    "ExecuteTime": {
     "end_time": "2024-11-23T14:01:35.687629Z",
     "start_time": "2024-11-23T14:01:35.683048Z"
    }
   },
   "outputs": [],
   "source": [
    "query_by_uniprot_id = rcsb.FieldQuery(\n",
    "    \"rcsb_polymer_entity_container_identifiers.reference_sequence_identifiers.database_accession\",\n",
    "    exact_match=uniprot_id,\n",
    ")\n",
    "query_by_deposition_date = rcsb.FieldQuery(\n",
    "    \"rcsb_accession_info.deposit_date\", less=before_deposition_date\n",
    ")\n",
    "query_by_experimental_method = rcsb.FieldQuery(\"exptl.method\", exact_match=experimental_method)\n",
    "query_by_resolution = rcsb.FieldQuery(\n",
    "    \"rcsb_entry_info.resolution_combined\", less_or_equal=max_resolution\n",
    ")\n",
    "query_by_polymer_count = rcsb.FieldQuery(\n",
    "    \"rcsb_entry_info.deposited_polymer_entity_instance_count\", equals=n_chains\n",
    ")\n",
    "query_by_ligand_mw = rcsb.FieldQuery(\n",
    "    \"chem_comp.formula_weight\", molecular_definition=True, greater=min_ligand_molecular_weight\n",
    ")"
   ]
  },
  {
   "cell_type": "markdown",
   "id": "3b39aac67af70ab2",
   "metadata": {
    "collapsed": false
   },
   "source": [
    "我们单独执行每个查询并检查每个条件的匹配数。"
   ]
  },
  {
   "cell_type": "code",
   "execution_count": 54,
   "id": "7ceb632384b70380",
   "metadata": {
    "collapsed": false,
    "ExecuteTime": {
     "end_time": "2024-11-23T14:01:47.939714Z",
     "start_time": "2024-11-23T14:01:35.993969Z"
    }
   },
   "outputs": [
    {
     "name": "stdout",
     "output_type": "stream",
     "text": [
      "具有Uniprot蛋白数据库身份标识号的结构数量 P31751: 19\n",
      "之前沉积的结构数量 2024-11-15T00:00:00Z: 227561\n",
      "分解的结构数 X-RAY DIFFRACTION: 189357\n",
      "分辨率小于或等于的结构数 3.0: 183870\n",
      "仅有的结构数量 1 chain: 80316\n",
      "配体大于或等于的结构数目 100.0 Da: 227560\n"
     ]
    }
   ],
   "source": [
    "print(f\"具有Uniprot蛋白数据库身份标识号的结构数量 {uniprot_id}: {rcsb.count(query_by_uniprot_id)}\")\n",
    "time.sleep(0.1)  # wait shortly to not overload the API\n",
    "print(\n",
    "    f\"之前沉积的结构数量 {before_deposition_date}: {rcsb.count(query_by_deposition_date)}\"\n",
    ")\n",
    "time.sleep(0.1)\n",
    "print(\n",
    "    f\"分解的结构数 {experimental_method}: {rcsb.count(query_by_experimental_method)}\"\n",
    ")\n",
    "time.sleep(0.1)\n",
    "print(\n",
    "    f\"分辨率小于或等于的结构数 {max_resolution}: {rcsb.count(query_by_resolution)}\"\n",
    ")\n",
    "time.sleep(0.1)\n",
    "print(f\"仅有的结构数量 {n_chains} chain: {rcsb.count(query_by_polymer_count)}\")\n",
    "time.sleep(0.1)\n",
    "print(\n",
    "    f\"配体大于或等于的结构数目 {min_ligand_molecular_weight} Da: {rcsb.count(query_by_ligand_mw)}\"\n",
    ")"
   ]
  },
  {
   "cell_type": "markdown",
   "id": "e91d0bce4706e09",
   "metadata": {
    "collapsed": false
   },
   "source": [
    "我们将所有查询与 and 运算符结合起来，以仅匹配满足所有条件的 PDB ID。"
   ]
  },
  {
   "cell_type": "code",
   "execution_count": 55,
   "id": "af892d72396efb64",
   "metadata": {
    "collapsed": false,
    "ExecuteTime": {
     "end_time": "2024-11-23T14:01:57.501592Z",
     "start_time": "2024-11-23T14:01:47.941870Z"
    }
   },
   "outputs": [
    {
     "name": "stdout",
     "output_type": "stream",
     "text": [
      "匹配数量s: 7\n",
      "选择了Pdb IDS:\n",
      "1GZK 1GZN 1GZO 1MRV 1MRY 8Q61 9C1W\n"
     ]
    }
   ],
   "source": [
    "query = rcsb.CompositeQuery(\n",
    "    [\n",
    "        query_by_uniprot_id,\n",
    "        query_by_deposition_date,\n",
    "        query_by_experimental_method,\n",
    "        query_by_resolution,\n",
    "        query_by_polymer_count,\n",
    "        query_by_ligand_mw,\n",
    "    ],\n",
    "    \"and\",\n",
    ")\n",
    "pdb_ids = rcsb.search(query)\n",
    "print(f\"匹配数量s: {len(pdb_ids)}\")\n",
    "print(\"选择了Pdb IDS:\")\n",
    "print(*pdb_ids)"
   ]
  },
  {
   "cell_type": "markdown",
   "id": "95f29a1c43d212b5",
   "metadata": {
    "collapsed": false
   },
   "source": [
    "### 选择最高分辨率的 PDB 条目 ¶\n",
    "\n",
    "到目前为止，我们已经使用某些搜索条件来查找感兴趣的 PDB 条目。\n",
    "\n",
    "目前，我们无法直接通过 `biotite` 访问结构体的分辨率；使用 `biotite` 我们只能检查分辨率是否满足特定条件。相反，我们下载所选 PDB ID 的完整元数据。为此，我们使用 `pypdb` 包中的方法 `describe_pdb` 。每个结构的元数据都作为字典返回。\n",
    "\n",
    "注意：我们在这里只获取 PDB 结构的元信息，我们还没有获取结构（3D 坐标）。"
   ]
  },
  {
   "cell_type": "markdown",
   "id": "99d64ffb24690570",
   "metadata": {
    "collapsed": false
   },
   "source": [
    "redo.retriable 行是一个装饰器。这包装了该函数并提供了额外的功能。在这种情况下，它将自动重试失败的查询（最多 10 次）。"
   ]
  },
  {
   "cell_type": "code",
   "execution_count": 56,
   "id": "8d410fbe49374126",
   "metadata": {
    "collapsed": false,
    "ExecuteTime": {
     "end_time": "2024-11-23T14:01:57.508603Z",
     "start_time": "2024-11-23T14:01:57.503426Z"
    }
   },
   "outputs": [],
   "source": [
    "@redo.retriable(attempts=10, sleeptime=2)\n",
    "def describe_one_pdb_id(pdb_id):\n",
    "    \"\"\"Fetch meta information from PDB.\"\"\"\n",
    "    described = pypdb.describe_pdb(pdb_id)\n",
    "    if described is None:\n",
    "        print(f\"! Error while fetching {pdb_id}, retrying ...\")\n",
    "        raise ValueError(f\"Could not fetch PDB id {pdb_id}\")\n",
    "    return described"
   ]
  },
  {
   "cell_type": "code",
   "execution_count": 57,
   "id": "a126e92d406617b6",
   "metadata": {
    "collapsed": false,
    "ExecuteTime": {
     "end_time": "2024-11-23T14:02:04.436998Z",
     "start_time": "2024-11-23T14:01:57.512017Z"
    }
   },
   "outputs": [
    {
     "data": {
      "text/plain": "  0%|          | 0/7 [00:00<?, ?it/s]",
      "application/vnd.jupyter.widget-view+json": {
       "version_major": 2,
       "version_minor": 0,
       "model_id": "5ab8d1b667c04310a48e2b59bc44c04d"
      }
     },
     "metadata": {},
     "output_type": "display_data"
    }
   ],
   "source": [
    "pdbs_data = [describe_one_pdb_id(pdb_id) for pdb_id in tqdm(pdb_ids)]"
   ]
  },
  {
   "cell_type": "markdown",
   "id": "4fdee7fcf44e8348",
   "metadata": {
    "collapsed": false
   },
   "source": [
    "让我们看一下第一个 PDB ID 的元数据（键只是因为字典包含很多信息，我们不想在这里打印）。在 PDB 结构和 PDBx/mmCIF 格式初学者指南中查找有关 PDB 元数据的更多信息。"
   ]
  },
  {
   "cell_type": "code",
   "execution_count": 58,
   "id": "8c7635c80663f8f1",
   "metadata": {
    "collapsed": false,
    "ExecuteTime": {
     "end_time": "2024-11-23T14:02:04.443981Z",
     "start_time": "2024-11-23T14:02:04.438867Z"
    }
   },
   "outputs": [
    {
     "name": "stdout",
     "output_type": "stream",
     "text": [
      "audit_author\n",
      "cell\n",
      "citation\n",
      "diffrn\n",
      "diffrn_detector\n",
      "diffrn_radiation\n",
      "diffrn_source\n",
      "entry\n",
      "exptl\n",
      "exptl_crystal\n",
      "exptl_crystal_grow\n",
      "pdbx_audit_revision_category\n",
      "pdbx_audit_revision_details\n",
      "pdbx_audit_revision_group\n",
      "pdbx_audit_revision_history\n",
      "pdbx_audit_revision_item\n",
      "pdbx_database_related\n",
      "pdbx_database_status\n",
      "pdbx_initial_refinement_model\n",
      "rcsb_accession_info\n",
      "rcsb_entry_container_identifiers\n",
      "rcsb_entry_info\n",
      "rcsb_primary_citation\n",
      "refine\n",
      "refine_analyze\n",
      "refine_hist\n",
      "refine_ls_restr\n",
      "reflns\n",
      "software\n",
      "struct\n",
      "struct_keywords\n",
      "symmetry\n",
      "rcsb_id\n"
     ]
    }
   ],
   "source": [
    "print(\"\\n\".join(pdbs_data[0].keys()))"
   ]
  },
  {
   "cell_type": "markdown",
   "id": "143ed3355244af5c",
   "metadata": {
    "collapsed": false
   },
   "source": [
    "让我们仔细看看我们感兴趣的两个键：包含 PDB ID ( \"id\" ) 的 \"entry\" 键和包含 PDB ID ( \"id\" ) 的 \"rcsb_entry_info\" 键。其中包含结构的分辨率 ( \"resolution_combined\" )。"
   ]
  },
  {
   "cell_type": "code",
   "execution_count": 59,
   "id": "ffc2a037fc64583",
   "metadata": {
    "collapsed": false,
    "ExecuteTime": {
     "end_time": "2024-11-23T14:02:04.452327Z",
     "start_time": "2024-11-23T14:02:04.446101Z"
    }
   },
   "outputs": [
    {
     "data": {
      "text/plain": "{'id': '1GZK'}"
     },
     "execution_count": 59,
     "metadata": {},
     "output_type": "execute_result"
    }
   ],
   "source": [
    "pdbs_data[0][\"entry\"]"
   ]
  },
  {
   "cell_type": "code",
   "execution_count": 60,
   "id": "e3e1843156dfc0e8",
   "metadata": {
    "collapsed": false,
    "ExecuteTime": {
     "end_time": "2024-11-23T14:02:04.460438Z",
     "start_time": "2024-11-23T14:02:04.454138Z"
    }
   },
   "outputs": [
    {
     "data": {
      "text/plain": "{'assembly_count': 1,\n 'branched_entity_count': 0,\n 'cis_peptide_count': 0,\n 'deposited_atom_count': 2481,\n 'deposited_deuterated_water_count': 0,\n 'deposited_hydrogen_atom_count': 0,\n 'deposited_model_count': 1,\n 'deposited_modeled_polymer_monomer_count': 271,\n 'deposited_nonpolymer_entity_instance_count': 0,\n 'deposited_polymer_entity_instance_count': 1,\n 'deposited_polymer_monomer_count': 315,\n 'deposited_solvent_atom_count': 284,\n 'deposited_unmodeled_polymer_monomer_count': 44,\n 'diffrn_radiation_wavelength_maximum': 0.9792,\n 'diffrn_radiation_wavelength_minimum': 0.9792,\n 'disulfide_bond_count': 0,\n 'entity_count': 2,\n 'experimental_method': 'X-ray',\n 'experimental_method_count': 1,\n 'inter_mol_covalent_bond_count': 0,\n 'inter_mol_metalic_bond_count': 0,\n 'molecular_weight': 36.49,\n 'na_polymer_entity_types': 'Other',\n 'nonpolymer_entity_count': 0,\n 'polymer_composition': 'homomeric protein',\n 'polymer_entity_count': 1,\n 'polymer_entity_count_dna': 0,\n 'polymer_entity_count_rna': 0,\n 'polymer_entity_count_nucleic_acid': 0,\n 'polymer_entity_count_nucleic_acid_hybrid': 0,\n 'polymer_entity_count_protein': 1,\n 'polymer_entity_taxonomy_count': 1,\n 'polymer_molecular_weight_maximum': 36.49,\n 'polymer_molecular_weight_minimum': 36.49,\n 'polymer_monomer_count_maximum': 315,\n 'polymer_monomer_count_minimum': 315,\n 'resolution_combined': [2.3],\n 'selected_polymer_entity_types': 'Protein (only)',\n 'software_programs_combined': ['CNS', 'DENZO', 'SCALEPACK'],\n 'solvent_entity_count': 1,\n 'structure_determination_methodology': 'experimental',\n 'structure_determination_methodology_priority': 10,\n 'diffrn_resolution_high': {'provenance_source': 'Depositor assigned',\n  'value': 2.3}}"
     },
     "execution_count": 60,
     "metadata": {},
     "output_type": "execute_result"
    }
   ],
   "source": [
    "pdbs_data[0][\"rcsb_entry_info\"]"
   ]
  },
  {
   "cell_type": "markdown",
   "id": "c31cd8b0fcca6aef",
   "metadata": {
    "collapsed": false
   },
   "source": [
    "现在，我们将每个 PDB ID 的分辨率保存为 pandas DataFrame，按分辨率升序排序。"
   ]
  },
  {
   "cell_type": "code",
   "execution_count": 61,
   "id": "9d8732e2b2b0605d",
   "metadata": {
    "collapsed": false,
    "ExecuteTime": {
     "end_time": "2024-11-23T14:02:04.477353Z",
     "start_time": "2024-11-23T14:02:04.462195Z"
    }
   },
   "outputs": [
    {
     "data": {
      "text/plain": "  pdb_id  resolution\n0   9C1W        2.00\n1   1GZK        2.30\n2   8Q61        2.32\n3   1GZN        2.50\n4   1GZO        2.75\n5   1MRV        2.80\n6   1MRY        2.80",
      "text/html": "<div>\n<style scoped>\n    .dataframe tbody tr th:only-of-type {\n        vertical-align: middle;\n    }\n\n    .dataframe tbody tr th {\n        vertical-align: top;\n    }\n\n    .dataframe thead th {\n        text-align: right;\n    }\n</style>\n<table border=\"1\" class=\"dataframe\">\n  <thead>\n    <tr style=\"text-align: right;\">\n      <th></th>\n      <th>pdb_id</th>\n      <th>resolution</th>\n    </tr>\n  </thead>\n  <tbody>\n    <tr>\n      <th>0</th>\n      <td>9C1W</td>\n      <td>2.00</td>\n    </tr>\n    <tr>\n      <th>1</th>\n      <td>1GZK</td>\n      <td>2.30</td>\n    </tr>\n    <tr>\n      <th>2</th>\n      <td>8Q61</td>\n      <td>2.32</td>\n    </tr>\n    <tr>\n      <th>3</th>\n      <td>1GZN</td>\n      <td>2.50</td>\n    </tr>\n    <tr>\n      <th>4</th>\n      <td>1GZO</td>\n      <td>2.75</td>\n    </tr>\n    <tr>\n      <th>5</th>\n      <td>1MRV</td>\n      <td>2.80</td>\n    </tr>\n    <tr>\n      <th>6</th>\n      <td>1MRY</td>\n      <td>2.80</td>\n    </tr>\n  </tbody>\n</table>\n</div>"
     },
     "execution_count": 61,
     "metadata": {},
     "output_type": "execute_result"
    }
   ],
   "source": [
    "resolution = pd.DataFrame(\n",
    "    [\n",
    "        [pdb_data[\"entry\"][\"id\"], pdb_data[\"rcsb_entry_info\"][\"resolution_combined\"][0]]\n",
    "        for pdb_data in pdbs_data\n",
    "    ],\n",
    "    columns=[\"pdb_id\", \"resolution\"],\n",
    ").sort_values(by=\"resolution\", ignore_index=True)\n",
    "resolution"
   ]
  },
  {
   "cell_type": "markdown",
   "id": "7519f906c899d65d",
   "metadata": {
    "collapsed": false
   },
   "source": [
    "从顶层结构获取配体的元数据 ¶"
   ]
  },
  {
   "cell_type": "code",
   "execution_count": 62,
   "id": "c61144c24713c998",
   "metadata": {
    "collapsed": false,
    "ExecuteTime": {
     "end_time": "2024-11-23T14:02:04.482436Z",
     "start_time": "2024-11-23T14:02:04.478720Z"
    }
   },
   "outputs": [],
   "source": [
    "top_num = 10 # 顶部结构数量"
   ]
  },
  {
   "cell_type": "code",
   "execution_count": 63,
   "id": "79ed10210d58aeac",
   "metadata": {
    "collapsed": false,
    "ExecuteTime": {
     "end_time": "2024-11-23T14:02:04.492420Z",
     "start_time": "2024-11-23T14:02:04.487799Z"
    }
   },
   "outputs": [
    {
     "data": {
      "text/plain": "10"
     },
     "execution_count": 63,
     "metadata": {},
     "output_type": "execute_result"
    }
   ],
   "source": [
    "top_num"
   ]
  },
  {
   "cell_type": "markdown",
   "id": "ad54db55ebab8df",
   "metadata": {
    "collapsed": false
   },
   "source": [
    "在下一节中，我们将以最高分辨率从顶部 top_num 结构构建基于配体的整体药效团"
   ]
  },
  {
   "cell_type": "code",
   "execution_count": 64,
   "id": "553ae3ba96481ff4",
   "metadata": {
    "collapsed": false,
    "ExecuteTime": {
     "end_time": "2024-11-23T14:02:04.498775Z",
     "start_time": "2024-11-23T14:02:04.494300Z"
    }
   },
   "outputs": [
    {
     "name": "stdout",
     "output_type": "stream",
     "text": [
      "选定的 PDB ID: ['9C1W', '1GZK', '8Q61', '1GZN', '1GZO', '1MRV', '1MRY']\n"
     ]
    }
   ],
   "source": [
    "selected_pdb_ids = resolution[:top_num][\"pdb_id\"].to_list()\n",
    "print(f\"选定的 PDB ID: {selected_pdb_ids}\")"
   ]
  },
  {
   "cell_type": "markdown",
   "id": "4e92e11282155871",
   "metadata": {
    "collapsed": false
   },
   "source": [
    "选定的最高分辨率 PDB 条目可以包含针对不同结合位点的配体，例如变构和正构配体，这会阻碍基于配体的药效团的生成。因此，我们将重点关注以下 4 个结构，它们在正位结合口袋中含有配体。笔记本后面提供的代码可用于验证这一点。"
   ]
  },
  {
   "cell_type": "code",
   "execution_count": 65,
   "id": "aafd433f93a93bd3",
   "metadata": {
    "collapsed": false,
    "ExecuteTime": {
     "end_time": "2024-11-23T14:02:04.506275Z",
     "start_time": "2024-11-23T14:02:04.500636Z"
    }
   },
   "outputs": [
    {
     "data": {
      "text/plain": "['1GZK', '1GZN', '1GZO', '1MRV', '1MRY', '8Q61', '9C1W']"
     },
     "execution_count": 65,
     "metadata": {},
     "output_type": "execute_result"
    }
   ],
   "source": [
    "# 获取pdb_ids前面10个\n",
    "pdb_ids = pdb_ids[:10]\n",
    "pdb_ids"
   ]
  },
  {
   "cell_type": "code",
   "id": "d229034abd29b4b7",
   "metadata": {
    "collapsed": false,
    "ExecuteTime": {
     "end_time": "2024-11-23T14:02:04.511863Z",
     "start_time": "2024-11-23T14:02:04.508144Z"
    }
   },
   "source": [
    "selected_pdb_ids = pdb_ids  \n",
    "print(f\"Selected PDB IDs (frozen set): {selected_pdb_ids}\")"
   ],
   "outputs": [
    {
     "name": "stdout",
     "output_type": "stream",
     "text": [
      "Selected PDB IDs (frozen set): ['1GZK', '1GZN', '1GZO', '1MRV', '1MRY', '8Q61', '9C1W']\n"
     ]
    }
   ],
   "execution_count": 66
  },
  {
   "cell_type": "markdown",
   "id": "f9799155bb100fb4",
   "metadata": {
    "collapsed": false
   },
   "source": [
    "们使用 get_ligands 获取有关顶级 top_num 配体的 PDB 信息，并将其存储为 csv 文件（作为每个配体的字典）。\n",
    "\n",
    "如果一个结构包含多个配体，我们选择最大的配体。注意：这是在蛋白质结合位点选择配体的简单但不全面的方法。该方法还可以选择与蛋白质结合的辅因子。因此，在进一步使用之前，请目视检查自动选择的顶级配体。"
   ]
  },
  {
   "cell_type": "code",
   "outputs": [
    {
     "name": "stdout",
     "output_type": "stream",
     "text": [
      "No ligands found for 1GZK\n",
      "No ligands found for 1GZN\n",
      "No ligands found for 1GZO\n",
      "No ligands found for 1MRV\n",
      "No ligands found for 1MRY\n"
     ]
    }
   ],
   "source": [
    "import os\n",
    "import collections\n",
    "import requests\n",
    "import pandas as pd\n",
    "from Bio.PDB import PDBParser\n",
    "from rdkit import Chem\n",
    "from rdkit.Chem import Draw, PandasTools\n",
    "import mdtraj as md\n",
    "import nglview\n",
    "\n",
    "# 定义下载和解析PDB文件的函数\n",
    "def get_ligands_from_pdb_file(pdb_id):\n",
    "    pdb_filename = DATA / f\"{pdb_id}.pdb\"\n",
    "    \n",
    "    # 检查本地是否已有文件，若无则下载\n",
    "    if not os.path.exists(pdb_filename):\n",
    "        pdb_file_url = f\"https://files.rcsb.org/download/{pdb_id}.pdb\"\n",
    "        response = requests.get(pdb_file_url)\n",
    "        \n",
    "        if response.status_code != 200:\n",
    "            print(f\"Failed to download PDB file for ID {pdb_id}\")\n",
    "            return {}\n",
    "\n",
    "        with open(pdb_filename, \"wb\") as file:\n",
    "            file.write(response.content)\n",
    "    \n",
    "    # 使用BioPython解析PDB文件\n",
    "    parser = PDBParser(QUIET=True)\n",
    "    structure = parser.get_structure(pdb_id, pdb_filename)\n",
    "\n",
    "    ligands = {}\n",
    "    for model in structure:\n",
    "        for chain in model:\n",
    "            for residue in chain:\n",
    "                if residue.id[0] != \" \" and residue.resname != \"HOH\":  # 跳过水分子\n",
    "                    ligand_id = residue.resname\n",
    "                    atoms = list(residue.get_atoms())\n",
    "                    molecular_weight = sum(atom.mass for atom in atoms if atom.mass)\n",
    "\n",
    "                    # 使用RCSB PDB API获取配体的SMILES\n",
    "                    smiles = fetch_smiles_from_rcsb(ligand_id)\n",
    "                    \n",
    "                    ligands[ligand_id] = {\n",
    "                        \"Name\": ligand_id,\n",
    "                        \"Molecular weight\": molecular_weight,\n",
    "                        \"Formula\": \"N/A\",\n",
    "                        \"InChI descriptor\": \"N/A\",\n",
    "                        \"InChIKey descriptor\": \"N/A\",\n",
    "                        \"Stereo SMILES (OpenEye)\": smiles if smiles else \"N/A\",\n",
    "                    }\n",
    "\n",
    "    return ligands\n",
    "\n",
    "# 使用RCSB PDB API获取SMILES的辅助函数\n",
    "def fetch_smiles_from_rcsb(compound_id):\n",
    "    url = f\"https://data.rcsb.org/rest/v1/core/chemcomp/{compound_id}\"\n",
    "    response = requests.get(url)\n",
    "    if response.status_code == 200:\n",
    "        try:\n",
    "            smiles = response.json()[\"rcsb_chem_comp_descriptor\"][\"smiles\"]\n",
    "            return smiles\n",
    "        except KeyError:\n",
    "            return None\n",
    "    else:\n",
    "        print(f\"SMILES not found for {compound_id} in RCSB PDB.\")\n",
    "        return None\n",
    "\n",
    "# 示例获取和解析配体信息\n",
    "rows = []\n",
    "for pdb_id in selected_pdb_ids:\n",
    "    ligands = get_ligands_from_pdb_file(pdb_id)\n",
    "    if ligands:\n",
    "        for ligand_id, properties in ligands.items():\n",
    "            rows.append([\n",
    "                pdb_id,\n",
    "                ligand_id,\n",
    "                properties[\"Name\"],\n",
    "                properties[\"Molecular weight\"],\n",
    "                properties[\"Formula\"],\n",
    "                properties[\"InChI descriptor\"],\n",
    "                properties[\"InChIKey descriptor\"],\n",
    "                properties[\"Stereo SMILES (OpenEye)\"]\n",
    "            ])\n",
    "    else:\n",
    "        print(f\"No ligands found for {pdb_id}\")\n",
    "\n",
    "# 将数据转换为DataFrame并保存为CSV文件\n",
    "columns = [\n",
    "    \"@structureId\",\n",
    "    \"@chemicalID\",\n",
    "    \"chemicalName\",\n",
    "    \"@molecularWeight\",\n",
    "    \"formula\",\n",
    "    \"InChI\",\n",
    "    \"InChIKey\",\n",
    "    \"smiles\"\n",
    "]\n",
    "ligands_df = pd.DataFrame(rows, columns=columns)\n",
    "ligands_df.to_csv(DATA / \"PDB_top_ligands.csv\", header=True, index=False)\n",
    "\n",
    "\n"
   ],
   "metadata": {
    "collapsed": false,
    "ExecuteTime": {
     "end_time": "2024-11-23T14:02:28.375651Z",
     "start_time": "2024-11-23T14:02:04.513908Z"
    }
   },
   "id": "4f9fb0de8b00c90d",
   "execution_count": 67
  },
  {
   "cell_type": "code",
   "outputs": [
    {
     "data": {
      "text/plain": "  @structureId @chemicalID chemicalName  @molecularWeight  formula  InChI  \\\n0         8Q61         K06          K06        414.307200      NaN    NaN   \n1         8Q61         GOL          GOL         84.030300      NaN    NaN   \n2         8Q61         PO4          PO4         94.971361      NaN    NaN   \n3         8Q61         MES          MES        182.133500      NaN    NaN   \n4         9C1W         XOO          XOO        540.614420      NaN    NaN   \n\n   InChIKey                                             smiles  \n0       NaN  CCCN1c2cc(c(nc2OCC1=O)c3ccc(cc3)C4(CC(C4)(C)O)...  \n1       NaN                                         C(C(CO)O)O  \n2       NaN                                [O-]P(=O)([O-])[O-]  \n3       NaN                        C1COCC[NH+]1CCS(=O)(=O)[O-]  \n4       NaN  c1ccc(cc1)c2ccc3c(n2)n(c(n3)c4cccnc4N)c5ccc(cc...  ",
      "text/html": "<div>\n<style scoped>\n    .dataframe tbody tr th:only-of-type {\n        vertical-align: middle;\n    }\n\n    .dataframe tbody tr th {\n        vertical-align: top;\n    }\n\n    .dataframe thead th {\n        text-align: right;\n    }\n</style>\n<table border=\"1\" class=\"dataframe\">\n  <thead>\n    <tr style=\"text-align: right;\">\n      <th></th>\n      <th>@structureId</th>\n      <th>@chemicalID</th>\n      <th>chemicalName</th>\n      <th>@molecularWeight</th>\n      <th>formula</th>\n      <th>InChI</th>\n      <th>InChIKey</th>\n      <th>smiles</th>\n    </tr>\n  </thead>\n  <tbody>\n    <tr>\n      <th>0</th>\n      <td>8Q61</td>\n      <td>K06</td>\n      <td>K06</td>\n      <td>414.307200</td>\n      <td>NaN</td>\n      <td>NaN</td>\n      <td>NaN</td>\n      <td>CCCN1c2cc(c(nc2OCC1=O)c3ccc(cc3)C4(CC(C4)(C)O)...</td>\n    </tr>\n    <tr>\n      <th>1</th>\n      <td>8Q61</td>\n      <td>GOL</td>\n      <td>GOL</td>\n      <td>84.030300</td>\n      <td>NaN</td>\n      <td>NaN</td>\n      <td>NaN</td>\n      <td>C(C(CO)O)O</td>\n    </tr>\n    <tr>\n      <th>2</th>\n      <td>8Q61</td>\n      <td>PO4</td>\n      <td>PO4</td>\n      <td>94.971361</td>\n      <td>NaN</td>\n      <td>NaN</td>\n      <td>NaN</td>\n      <td>[O-]P(=O)([O-])[O-]</td>\n    </tr>\n    <tr>\n      <th>3</th>\n      <td>8Q61</td>\n      <td>MES</td>\n      <td>MES</td>\n      <td>182.133500</td>\n      <td>NaN</td>\n      <td>NaN</td>\n      <td>NaN</td>\n      <td>C1COCC[NH+]1CCS(=O)(=O)[O-]</td>\n    </tr>\n    <tr>\n      <th>4</th>\n      <td>9C1W</td>\n      <td>XOO</td>\n      <td>XOO</td>\n      <td>540.614420</td>\n      <td>NaN</td>\n      <td>NaN</td>\n      <td>NaN</td>\n      <td>c1ccc(cc1)c2ccc3c(n2)n(c(n3)c4cccnc4N)c5ccc(cc...</td>\n    </tr>\n  </tbody>\n</table>\n</div>"
     },
     "execution_count": 68,
     "metadata": {},
     "output_type": "execute_result"
    }
   ],
   "source": [
    "# 读取ligands_df，如果@chemicalID为数字，则删除这一整行\n",
    "ligands_df = pd.read_csv(DATA / \"PDB_top_ligands.csv\")\n",
    "ligands_df = ligands_df[ligands_df[\"@chemicalID\"].apply(lambda x: not x.isdigit())]\n",
    "ligands_df.head()\n"
   ],
   "metadata": {
    "collapsed": false,
    "ExecuteTime": {
     "end_time": "2024-11-23T14:02:28.400978Z",
     "start_time": "2024-11-23T14:02:28.377246Z"
    }
   },
   "id": "e80bdab308d89e89",
   "execution_count": 68
  },
  {
   "cell_type": "code",
   "outputs": [],
   "source": [
    "# 保存选定的PDB ID\n",
    "ligands_df.to_csv(DATA / \"PDB_top_ligands.csv\", header=True, index=False)\n",
    "\n",
    "\n"
   ],
   "metadata": {
    "collapsed": false,
    "ExecuteTime": {
     "end_time": "2024-11-23T14:02:28.406855Z",
     "start_time": "2024-11-23T14:02:28.402379Z"
    }
   },
   "id": "fee1890c49605b43",
   "execution_count": 69
  },
  {
   "cell_type": "code",
   "execution_count": 70,
   "id": "22d14580-5825-405e-9bfe-922b81260388",
   "metadata": {
    "ExecuteTime": {
     "end_time": "2024-11-23T14:02:29.220613Z",
     "start_time": "2024-11-23T14:02:28.408604Z"
    }
   },
   "outputs": [
    {
     "name": "stdout",
     "output_type": "stream",
     "text": [
      "OrderedDict([('8Q61', 'MES'), ('9C1W', 'EDO')])\n",
      "Excluded PDB ID 9C1W due to mismatched atom count\n",
      "Excluded PDB IDs due to atom count mismatch: ['9C1W']\n",
      "['8Q61_lig.pdb']\n"
     ]
    }
   ],
   "source": [
    "# 添加分子列并绘制顶部配体分子\n",
    "PandasTools.AddMoleculeColumnToFrame(ligands_df, \"smiles\")\n",
    "top_num = 4\n",
    "Draw.MolsToGridImage(\n",
    "    mols=list(ligands_df.ROMol.dropna()),  # 跳过无效的分子\n",
    "    legends=list(ligands_df[\"@chemicalID\"] + \", \" + ligands_df[\"@structureId\"]),\n",
    "    molsPerRow=top_num\n",
    ")\n",
    "\n",
    "# 创建蛋白质-配体 ID 对\n",
    "pairs = collections.OrderedDict(zip(ligands_df[\"@structureId\"], ligands_df[\"@chemicalID\"]))\n",
    "print(pairs)\n",
    "\n",
    "# 使用MDTraj加载和对齐PDB结构，并选择主链原子（N, CA, C）\n",
    "structures = []\n",
    "reference_structure = None\n",
    "excluded_pdb_ids = []\n",
    "\n",
    "for i, pdb_id in enumerate(pairs):\n",
    "    traj = md.load(DATA / f\"{pdb_id}.pdb\")\n",
    "    main_chain_atoms = traj.topology.select(\"name N or name CA or name C\")  # 选择主链原子\n",
    "    main_chain_traj = traj.atom_slice(main_chain_atoms)\n",
    "    \n",
    "    # 设置第一个匹配的结构为参考结构\n",
    "    if reference_structure is None:\n",
    "        reference_structure = main_chain_traj\n",
    "        structures.append(main_chain_traj)\n",
    "    else:\n",
    "        # 检查与参考结构的原子数量是否一致\n",
    "        if main_chain_traj.n_atoms == reference_structure.n_atoms:\n",
    "            structures.append(main_chain_traj)\n",
    "        else:\n",
    "            excluded_pdb_ids.append(pdb_id)\n",
    "            print(f\"Excluded PDB ID {pdb_id} due to mismatched atom count\")\n",
    "\n",
    "aligned_structures = []\n",
    "for structure in structures:\n",
    "    aligned = structure.superpose(reference_structure)\n",
    "    aligned_structures.append(aligned)\n",
    "\n",
    "print(\"Excluded PDB IDs due to atom count mismatch:\", excluded_pdb_ids)\n",
    "\n",
    "# 使用nglview可视化对齐后的结构\n",
    "view = nglview.NGLWidget()\n",
    "for aligned in aligned_structures:\n",
    "    view.add_component(aligned)\n",
    "view.render_image(trim=True, factor=2, transparent=True)\n",
    "\n",
    "# 提取配体并保存\n",
    "ligands = []\n",
    "for pdb_id in pairs.keys():\n",
    "    if pdb_id not in excluded_pdb_ids:  # 跳过被排除的结构\n",
    "        structure = md.load(DATA / f\"{pdb_id}.pdb\")\n",
    "        # 提取配体部分 (假设配体为非标准残基)\n",
    "        ligand_atoms = structure.topology.select(\"not protein and resname != 'HOH'\")\n",
    "        if len(ligand_atoms) == 0:\n",
    "            print(f\"No ligand atoms found for PDB ID {pdb_id}, skipping.\")\n",
    "            continue\n",
    "        ligand = structure.atom_slice(ligand_atoms)\n",
    "        ligand.save_pdb(DATA / f\"{pdb_id}_lig.pdb\")\n",
    "        ligands.append(ligand)\n",
    "\n",
    "# 检查配体文件\n",
    "ligand_files = [file for file in os.listdir(DATA) if file.endswith(\"_lig.pdb\")]\n",
    "print(ligand_files)\n",
    "\n"
   ]
  },
  {
   "cell_type": "code",
   "execution_count": 71,
   "id": "6350510f-d5f6-4eb0-8162-5e88d8dab8e0",
   "metadata": {
    "ExecuteTime": {
     "end_time": "2024-11-23T14:02:29.260476Z",
     "start_time": "2024-11-23T14:02:29.222190Z"
    }
   },
   "outputs": [
    {
     "data": {
      "image/png": "",
      "text/plain": "<IPython.core.display.Image object>"
     },
     "execution_count": 71,
     "metadata": {},
     "output_type": "execute_result"
    }
   ],
   "source": [
    "# 使用nglview可视化提取的配体\n",
    "view = nglview.NGLWidget()\n",
    "for ligand in ligands:\n",
    "    view.add_component(ligand)\n",
    "    view.add_licorice()\n",
    "view.render_image(trim=True, factor=2, transparent=True)\n",
    "view._display_image()"
   ]
  },
  {
   "cell_type": "code",
   "execution_count": 71,
   "id": "0f833735-ffaf-4479-9111-7dca9a034786",
   "metadata": {},
   "outputs": [],
   "source": []
  },
  {
   "cell_type": "code",
   "execution_count": 71,
   "id": "26775fe9-caa9-428b-90a5-b8d5f5d211e5",
   "metadata": {},
   "outputs": [],
   "source": []
  },
  {
   "cell_type": "code",
   "outputs": [],
   "source": [],
   "metadata": {
    "collapsed": false
   },
   "id": "345f152a535be78",
   "execution_count": 71
  },
  {
   "cell_type": "code",
   "outputs": [],
   "source": [],
   "metadata": {
    "collapsed": false
   },
   "id": "65c1fd1b0d9c7cf6",
   "execution_count": 47
  },
  {
   "cell_type": "code",
   "outputs": [],
   "source": [],
   "metadata": {
    "collapsed": false
   },
   "id": "4bc5c171dd241ed5",
   "execution_count": 47
  },
  {
   "cell_type": "code",
   "outputs": [],
   "source": [],
   "metadata": {
    "collapsed": false
   },
   "id": "ddd5fd8334f09f91",
   "execution_count": 47
  },
  {
   "cell_type": "code",
   "outputs": [],
   "source": [],
   "metadata": {
    "collapsed": false
   },
   "id": "5306dcac3efae778",
   "execution_count": 47
  },
  {
   "cell_type": "code",
   "outputs": [],
   "source": [],
   "metadata": {
    "collapsed": false
   },
   "id": "a32b40ec1619311a",
   "execution_count": 47
  },
  {
   "cell_type": "code",
   "outputs": [],
   "source": [],
   "metadata": {
    "collapsed": false
   },
   "id": "e84f01f1ff42f04b"
  }
 ],
 "metadata": {
  "kernelspec": {
   "display_name": "Python 3 (ipykernel)",
   "language": "python",
   "name": "python3"
  },
  "language_info": {
   "codemirror_mode": {
    "name": "ipython",
    "version": 3
   },
   "file_extension": ".py",
   "mimetype": "text/x-python",
   "name": "python",
   "nbconvert_exporter": "python",
   "pygments_lexer": "ipython3",
   "version": "3.8.15"
  }
 },
 "nbformat": 4,
 "nbformat_minor": 5
}
