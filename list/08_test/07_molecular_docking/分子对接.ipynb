{
 "cells": [
  {
   "cell_type": "code",
   "outputs": [],
   "source": [
    "import requests  # 用于下载文件\n",
    "import pandas as pd\n",
    "\n",
    "smiles_list = pd.read_csv('data/pic50_greater_equal_9.0.csv')['smiles'][:20]"
   ],
   "metadata": {
    "collapsed": false,
    "ExecuteTime": {
     "end_time": "2024-11-23T10:47:04.094081Z",
     "start_time": "2024-11-23T10:47:02.624627Z"
    }
   },
   "id": "1c66757628b9fe9d",
   "execution_count": 1
  },
  {
   "cell_type": "code",
   "outputs": [
    {
     "data": {
      "text/plain": "0     Cc1cc(-c2cn(CCN3CCC3)c(C3CCN(c4ncnc(N)c4Br)CC3...\n1     CC(C)c1cc(-c2cn(CCN3CCC3)c(C3CCN(c4ncnc(N)c4Br...\n2     Cc1n[nH]c2ccc(-c3cncc(OC[C@@H](N)Cc4c[nH]c5ccc...\n3     N[C@H](COc1cncc(-c2ccc3c(c2)C(c2ccco2)C(=O)N3)...\n4     CC1(O)CC(N)(c2ccc(-c3nc4n(c3-c3ccccc3)COc3ccc(...\n5     CNC(=O)c1ccc2c(c1)-c1nc(-c3ccc(C4(N)CC(C)(O)C4...\n6     NC1(c2ccc(-c3nc4n(c3-c3ccccc3)COc3cccc(F)c3-4)...\n7     NC1(c2ccc(-c3nc4n(c3-c3ccccc3)COc3cccc(Cl)c3-4...\n8     CCc1c(N)ncnc1N1CCC(c2nc(-c3ccc(F)c(C)c3)cn2CC2...\n9     CCNC(=O)c1ccc2c(c1)-c1nc(-c3ccc(C4(N)CC(C)(O)C...\n10    CC1(O)CC(N)(c2ccc(-c3nc4n(c3-c3ccccc3)COc3ccc(...\n11    N[C@]1(c2ccc(-c3nc4ccc5nnc(C(F)F)n5c4cc3-c3ccc...\n12    Cc1n[nH]c2cnc(-c3cncc(OC[C@@H](N)Cc4c[nH]c5ccc...\n13    COc1cccc2c1-c1nc(-c3ccc(C4(N)CC(O)(C5CC5)C4)cc...\n14    C[C@]1(O)C[C@@](N)(c2ccc(-c3nc4ccc5nnc(C(F)F)n...\n15    CC1(O)CC(N)(c2ccc(-c3nc4n(c3-c3ccccc3)COc3cc(C...\n16    CC(C)NC[C@@H](C(=O)N1CCN(c2ncnc3c2[C@H](C)CC(=...\n17    CCc1c(N)ncnc1N1CCC(c2nc(-c3ccc(F)c(Cl)c3)cn2CC...\n18    CC1(O)CC(N)(c2ccc(-c3nc4n(c3-c3ccccc3)COc3ccc(...\n19    NC1(c2ccc(-c3nc4n(c3-c3ccccc3)COc3cnccc3-4)cc2...\nName: smiles, dtype: object"
     },
     "execution_count": 2,
     "metadata": {},
     "output_type": "execute_result"
    }
   ],
   "source": [
    "smiles_list"
   ],
   "metadata": {
    "collapsed": false,
    "ExecuteTime": {
     "end_time": "2024-11-23T10:47:05.628301Z",
     "start_time": "2024-11-23T10:47:05.620187Z"
    }
   },
   "id": "a23d7744fa9a3620",
   "execution_count": 2
  },
  {
   "cell_type": "code",
   "execution_count": 3,
   "id": "11216863-91e9-4bb8-bfa8-76416b4f8cf7",
   "metadata": {
    "ExecuteTime": {
     "end_time": "2024-11-23T12:55:11.268873Z",
     "start_time": "2024-11-23T10:47:20.351558Z"
    }
   },
   "outputs": [
    {
     "name": "stdout",
     "output_type": "stream",
     "text": [
      "3O96 文件不存在，正在下载...\n"
     ]
    },
    {
     "name": "stderr",
     "output_type": "stream",
     "text": [
      "Warning: importing 'simtk.openmm' is deprecated.  Import 'openmm' instead.\n"
     ]
    },
    {
     "name": "stdout",
     "output_type": "stream",
     "text": [
      "3O96 下载成功.\n"
     ]
    },
    {
     "name": "stderr",
     "output_type": "stream",
     "text": [
      "==============================\n",
      "*** Open Babel Warning  in PerceiveBondOrders\n",
      "  Failed to kekulize aromatic bonds in OBMol::PerceiveBondOrders (title is /Users/wangyang/Desktop/Liver_cancer/16-AIDD/07_molecular_docking/data/data_3O96/protein.pdb)\n",
      "\n"
     ]
    },
    {
     "name": "stdout",
     "output_type": "stream",
     "text": [
      "3O96 - Detected Ligands: ['IQO']\n",
      "Processing 3O96 Cc1cc(-c2cn(CCN3CCC3)c(C3CCN(c4ncnc(N)c4Br)CC3)n2)ccc1F IQO\n"
     ]
    },
    {
     "name": "stderr",
     "output_type": "stream",
     "text": [
      "==============================\n",
      "*** Open Babel Warning  in PerceiveBondOrders\n",
      "  Failed to kekulize aromatic bonds in OBMol::PerceiveBondOrders (title is /Users/wangyang/Desktop/Liver_cancer/16-AIDD/07_molecular_docking/data/data_3O96/protein.pdb)\n",
      "\n"
     ]
    },
    {
     "name": "stdout",
     "output_type": "stream",
     "text": [
      "3O96 - Detected Ligands: ['IQO']\n",
      "Processing 3O96 CC(C)c1cc(-c2cn(CCN3CCC3)c(C3CCN(c4ncnc(N)c4Br)CC3)n2)ccn1 IQO\n"
     ]
    },
    {
     "name": "stderr",
     "output_type": "stream",
     "text": [
      "==============================\n",
      "*** Open Babel Warning  in PerceiveBondOrders\n",
      "  Failed to kekulize aromatic bonds in OBMol::PerceiveBondOrders (title is /Users/wangyang/Desktop/Liver_cancer/16-AIDD/07_molecular_docking/data/data_3O96/protein.pdb)\n",
      "\n"
     ]
    },
    {
     "name": "stdout",
     "output_type": "stream",
     "text": [
      "3O96 - Detected Ligands: ['IQO']\n",
      "Processing 3O96 Cc1n[nH]c2ccc(-c3cncc(OC[C@@H](N)Cc4c[nH]c5ccccc45)c3)cc12 IQO\n"
     ]
    },
    {
     "name": "stderr",
     "output_type": "stream",
     "text": [
      "==============================\n",
      "*** Open Babel Warning  in PerceiveBondOrders\n",
      "  Failed to kekulize aromatic bonds in OBMol::PerceiveBondOrders (title is /Users/wangyang/Desktop/Liver_cancer/16-AIDD/07_molecular_docking/data/data_3O96/protein.pdb)\n",
      "\n"
     ]
    },
    {
     "name": "stdout",
     "output_type": "stream",
     "text": [
      "3O96 - Detected Ligands: ['IQO']\n",
      "Processing 3O96 N[C@H](COc1cncc(-c2ccc3c(c2)C(c2ccco2)C(=O)N3)c1)Cc1c[nH]c2ccccc12 IQO\n"
     ]
    },
    {
     "name": "stderr",
     "output_type": "stream",
     "text": [
      "==============================\n",
      "*** Open Babel Warning  in PerceiveBondOrders\n",
      "  Failed to kekulize aromatic bonds in OBMol::PerceiveBondOrders (title is /Users/wangyang/Desktop/Liver_cancer/16-AIDD/07_molecular_docking/data/data_3O96/protein.pdb)\n",
      "\n"
     ]
    },
    {
     "name": "stdout",
     "output_type": "stream",
     "text": [
      "3O96 - Detected Ligands: ['IQO']\n",
      "Processing 3O96 CC1(O)CC(N)(c2ccc(-c3nc4n(c3-c3ccccc3)COc3ccc(C(N)=O)cc3-4)cc2)C1 IQO\n"
     ]
    },
    {
     "name": "stderr",
     "output_type": "stream",
     "text": [
      "==============================\n",
      "*** Open Babel Warning  in PerceiveBondOrders\n",
      "  Failed to kekulize aromatic bonds in OBMol::PerceiveBondOrders (title is /Users/wangyang/Desktop/Liver_cancer/16-AIDD/07_molecular_docking/data/data_3O96/protein.pdb)\n",
      "\n"
     ]
    },
    {
     "name": "stdout",
     "output_type": "stream",
     "text": [
      "3O96 - Detected Ligands: ['IQO']\n",
      "Processing 3O96 CNC(=O)c1ccc2c(c1)-c1nc(-c3ccc(C4(N)CC(C)(O)C4)cc3)c(-c3ccccc3)n1CO2 IQO\n"
     ]
    },
    {
     "name": "stderr",
     "output_type": "stream",
     "text": [
      "==============================\n",
      "*** Open Babel Warning  in PerceiveBondOrders\n",
      "  Failed to kekulize aromatic bonds in OBMol::PerceiveBondOrders (title is /Users/wangyang/Desktop/Liver_cancer/16-AIDD/07_molecular_docking/data/data_3O96/protein.pdb)\n",
      "\n"
     ]
    },
    {
     "name": "stdout",
     "output_type": "stream",
     "text": [
      "3O96 - Detected Ligands: ['IQO']\n",
      "Processing 3O96 NC1(c2ccc(-c3nc4n(c3-c3ccccc3)COc3cccc(F)c3-4)cc2)CC(O)(C2CC2)C1 IQO\n"
     ]
    },
    {
     "name": "stderr",
     "output_type": "stream",
     "text": [
      "==============================\n",
      "*** Open Babel Warning  in PerceiveBondOrders\n",
      "  Failed to kekulize aromatic bonds in OBMol::PerceiveBondOrders (title is /Users/wangyang/Desktop/Liver_cancer/16-AIDD/07_molecular_docking/data/data_3O96/protein.pdb)\n",
      "\n"
     ]
    },
    {
     "name": "stdout",
     "output_type": "stream",
     "text": [
      "3O96 - Detected Ligands: ['IQO']\n",
      "Processing 3O96 NC1(c2ccc(-c3nc4n(c3-c3ccccc3)COc3cccc(Cl)c3-4)cc2)CC(O)(C2CC2)C1 IQO\n"
     ]
    },
    {
     "name": "stderr",
     "output_type": "stream",
     "text": [
      "==============================\n",
      "*** Open Babel Warning  in PerceiveBondOrders\n",
      "  Failed to kekulize aromatic bonds in OBMol::PerceiveBondOrders (title is /Users/wangyang/Desktop/Liver_cancer/16-AIDD/07_molecular_docking/data/data_3O96/protein.pdb)\n",
      "\n"
     ]
    },
    {
     "name": "stdout",
     "output_type": "stream",
     "text": [
      "3O96 - Detected Ligands: ['IQO']\n",
      "Processing 3O96 CCc1c(N)ncnc1N1CCC(c2nc(-c3ccc(F)c(C)c3)cn2CC2CN(C)C2)CC1 IQO\n"
     ]
    },
    {
     "name": "stderr",
     "output_type": "stream",
     "text": [
      "==============================\n",
      "*** Open Babel Warning  in PerceiveBondOrders\n",
      "  Failed to kekulize aromatic bonds in OBMol::PerceiveBondOrders (title is /Users/wangyang/Desktop/Liver_cancer/16-AIDD/07_molecular_docking/data/data_3O96/protein.pdb)\n",
      "\n"
     ]
    },
    {
     "name": "stdout",
     "output_type": "stream",
     "text": [
      "3O96 - Detected Ligands: ['IQO']\n",
      "Processing 3O96 CCNC(=O)c1ccc2c(c1)-c1nc(-c3ccc(C4(N)CC(C)(O)C4)cc3)c(-c3ccccc3)n1CO2 IQO\n"
     ]
    },
    {
     "name": "stderr",
     "output_type": "stream",
     "text": [
      "==============================\n",
      "*** Open Babel Warning  in PerceiveBondOrders\n",
      "  Failed to kekulize aromatic bonds in OBMol::PerceiveBondOrders (title is /Users/wangyang/Desktop/Liver_cancer/16-AIDD/07_molecular_docking/data/data_3O96/protein.pdb)\n",
      "\n"
     ]
    },
    {
     "name": "stdout",
     "output_type": "stream",
     "text": [
      "3O96 - Detected Ligands: ['IQO']\n",
      "Processing 3O96 CC1(O)CC(N)(c2ccc(-c3nc4n(c3-c3ccccc3)COc3ccc(-c5ccn[nH]5)cc3-4)cc2)C1 IQO\n"
     ]
    },
    {
     "name": "stderr",
     "output_type": "stream",
     "text": [
      "==============================\n",
      "*** Open Babel Warning  in PerceiveBondOrders\n",
      "  Failed to kekulize aromatic bonds in OBMol::PerceiveBondOrders (title is /Users/wangyang/Desktop/Liver_cancer/16-AIDD/07_molecular_docking/data/data_3O96/protein.pdb)\n",
      "\n"
     ]
    },
    {
     "name": "stdout",
     "output_type": "stream",
     "text": [
      "3O96 - Detected Ligands: ['IQO']\n",
      "Processing 3O96 N[C@]1(c2ccc(-c3nc4ccc5nnc(C(F)F)n5c4cc3-c3ccccc3)cc2)C[C@](O)(C2CC2)C1 IQO\n"
     ]
    },
    {
     "name": "stderr",
     "output_type": "stream",
     "text": [
      "==============================\n",
      "*** Open Babel Warning  in PerceiveBondOrders\n",
      "  Failed to kekulize aromatic bonds in OBMol::PerceiveBondOrders (title is /Users/wangyang/Desktop/Liver_cancer/16-AIDD/07_molecular_docking/data/data_3O96/protein.pdb)\n",
      "\n"
     ]
    },
    {
     "name": "stdout",
     "output_type": "stream",
     "text": [
      "3O96 - Detected Ligands: ['IQO']\n",
      "Processing 3O96 Cc1n[nH]c2cnc(-c3cncc(OC[C@@H](N)Cc4c[nH]c5ccccc45)c3)cc12 IQO\n"
     ]
    },
    {
     "name": "stderr",
     "output_type": "stream",
     "text": [
      "==============================\n",
      "*** Open Babel Warning  in PerceiveBondOrders\n",
      "  Failed to kekulize aromatic bonds in OBMol::PerceiveBondOrders (title is /Users/wangyang/Desktop/Liver_cancer/16-AIDD/07_molecular_docking/data/data_3O96/protein.pdb)\n",
      "\n"
     ]
    },
    {
     "name": "stdout",
     "output_type": "stream",
     "text": [
      "3O96 - Detected Ligands: ['IQO']\n",
      "Processing 3O96 COc1cccc2c1-c1nc(-c3ccc(C4(N)CC(O)(C5CC5)C4)cc3)c(-c3ccccc3)n1CO2 IQO\n"
     ]
    },
    {
     "name": "stderr",
     "output_type": "stream",
     "text": [
      "==============================\n",
      "*** Open Babel Warning  in PerceiveBondOrders\n",
      "  Failed to kekulize aromatic bonds in OBMol::PerceiveBondOrders (title is /Users/wangyang/Desktop/Liver_cancer/16-AIDD/07_molecular_docking/data/data_3O96/protein.pdb)\n",
      "\n"
     ]
    },
    {
     "name": "stdout",
     "output_type": "stream",
     "text": [
      "3O96 - Detected Ligands: ['IQO']\n",
      "Processing 3O96 C[C@]1(O)C[C@@](N)(c2ccc(-c3nc4ccc5nnc(C(F)F)n5c4cc3-c3ccccc3)cc2)C1 IQO\n"
     ]
    },
    {
     "name": "stderr",
     "output_type": "stream",
     "text": [
      "==============================\n",
      "*** Open Babel Warning  in PerceiveBondOrders\n",
      "  Failed to kekulize aromatic bonds in OBMol::PerceiveBondOrders (title is /Users/wangyang/Desktop/Liver_cancer/16-AIDD/07_molecular_docking/data/data_3O96/protein.pdb)\n",
      "\n"
     ]
    },
    {
     "name": "stdout",
     "output_type": "stream",
     "text": [
      "3O96 - Detected Ligands: ['IQO']\n",
      "Processing 3O96 CC1(O)CC(N)(c2ccc(-c3nc4n(c3-c3ccccc3)COc3cc(C(N)=O)ccc3-4)cc2)C1 IQO\n"
     ]
    },
    {
     "name": "stderr",
     "output_type": "stream",
     "text": [
      "==============================\n",
      "*** Open Babel Warning  in PerceiveBondOrders\n",
      "  Failed to kekulize aromatic bonds in OBMol::PerceiveBondOrders (title is /Users/wangyang/Desktop/Liver_cancer/16-AIDD/07_molecular_docking/data/data_3O96/protein.pdb)\n",
      "\n"
     ]
    },
    {
     "name": "stdout",
     "output_type": "stream",
     "text": [
      "3O96 - Detected Ligands: ['IQO']\n",
      "Processing 3O96 CC(C)NC[C@@H](C(=O)N1CCN(c2ncnc3c2[C@H](C)CC(=O)N3)[C@H]2C[C@H]21)c1ccc(Cl)cc1 IQO\n"
     ]
    },
    {
     "name": "stderr",
     "output_type": "stream",
     "text": [
      "==============================\n",
      "*** Open Babel Warning  in PerceiveBondOrders\n",
      "  Failed to kekulize aromatic bonds in OBMol::PerceiveBondOrders (title is /Users/wangyang/Desktop/Liver_cancer/16-AIDD/07_molecular_docking/data/data_3O96/protein.pdb)\n",
      "\n"
     ]
    },
    {
     "name": "stdout",
     "output_type": "stream",
     "text": [
      "3O96 - Detected Ligands: ['IQO']\n",
      "Processing 3O96 CCc1c(N)ncnc1N1CCC(c2nc(-c3ccc(F)c(Cl)c3)cn2CCN2CCCC2)CC1 IQO\n"
     ]
    },
    {
     "name": "stderr",
     "output_type": "stream",
     "text": [
      "==============================\n",
      "*** Open Babel Warning  in PerceiveBondOrders\n",
      "  Failed to kekulize aromatic bonds in OBMol::PerceiveBondOrders (title is /Users/wangyang/Desktop/Liver_cancer/16-AIDD/07_molecular_docking/data/data_3O96/protein.pdb)\n",
      "\n"
     ]
    },
    {
     "name": "stdout",
     "output_type": "stream",
     "text": [
      "3O96 - Detected Ligands: ['IQO']\n",
      "Processing 3O96 CC1(O)CC(N)(c2ccc(-c3nc4n(c3-c3ccccc3)COc3ccc(-c5cn[nH]c5)cc3-4)cc2)C1 IQO\n"
     ]
    },
    {
     "name": "stderr",
     "output_type": "stream",
     "text": [
      "==============================\n",
      "*** Open Babel Warning  in PerceiveBondOrders\n",
      "  Failed to kekulize aromatic bonds in OBMol::PerceiveBondOrders (title is /Users/wangyang/Desktop/Liver_cancer/16-AIDD/07_molecular_docking/data/data_3O96/protein.pdb)\n",
      "\n"
     ]
    },
    {
     "name": "stdout",
     "output_type": "stream",
     "text": [
      "3O96 - Detected Ligands: ['IQO']\n",
      "Processing 3O96 NC1(c2ccc(-c3nc4n(c3-c3ccccc3)COc3cnccc3-4)cc2)CC(O)(C2CC2)C1 IQO\n",
      "4EJN 文件不存在，正在下载...\n",
      "4EJN 下载成功.\n"
     ]
    },
    {
     "name": "stderr",
     "output_type": "stream",
     "text": [
      "==============================\n",
      "*** Open Babel Warning  in PerceiveBondOrders\n",
      "  Failed to kekulize aromatic bonds in OBMol::PerceiveBondOrders (title is /Users/wangyang/Desktop/Liver_cancer/16-AIDD/07_molecular_docking/data/data_4EJN/protein.pdb)\n",
      "\n"
     ]
    },
    {
     "name": "stdout",
     "output_type": "stream",
     "text": [
      "4EJN - Detected Ligands: ['EDO', '0R4', 'SBT']\n",
      "Processing 4EJN Cc1cc(-c2cn(CCN3CCC3)c(C3CCN(c4ncnc(N)c4Br)CC3)n2)ccc1F EDO\n",
      "Processing 4EJN Cc1cc(-c2cn(CCN3CCC3)c(C3CCN(c4ncnc(N)c4Br)CC3)n2)ccc1F 0R4\n",
      "Processing 4EJN Cc1cc(-c2cn(CCN3CCC3)c(C3CCN(c4ncnc(N)c4Br)CC3)n2)ccc1F SBT\n"
     ]
    },
    {
     "name": "stderr",
     "output_type": "stream",
     "text": [
      "==============================\n",
      "*** Open Babel Warning  in PerceiveBondOrders\n",
      "  Failed to kekulize aromatic bonds in OBMol::PerceiveBondOrders (title is /Users/wangyang/Desktop/Liver_cancer/16-AIDD/07_molecular_docking/data/data_4EJN/protein.pdb)\n",
      "\n"
     ]
    },
    {
     "name": "stdout",
     "output_type": "stream",
     "text": [
      "4EJN - Detected Ligands: ['EDO', '0R4', 'SBT']\n",
      "Processing 4EJN CC(C)c1cc(-c2cn(CCN3CCC3)c(C3CCN(c4ncnc(N)c4Br)CC3)n2)ccn1 EDO\n",
      "Processing 4EJN CC(C)c1cc(-c2cn(CCN3CCC3)c(C3CCN(c4ncnc(N)c4Br)CC3)n2)ccn1 0R4\n",
      "Processing 4EJN CC(C)c1cc(-c2cn(CCN3CCC3)c(C3CCN(c4ncnc(N)c4Br)CC3)n2)ccn1 SBT\n"
     ]
    },
    {
     "name": "stderr",
     "output_type": "stream",
     "text": [
      "==============================\n",
      "*** Open Babel Warning  in PerceiveBondOrders\n",
      "  Failed to kekulize aromatic bonds in OBMol::PerceiveBondOrders (title is /Users/wangyang/Desktop/Liver_cancer/16-AIDD/07_molecular_docking/data/data_4EJN/protein.pdb)\n",
      "\n"
     ]
    },
    {
     "name": "stdout",
     "output_type": "stream",
     "text": [
      "4EJN - Detected Ligands: ['EDO', '0R4', 'SBT']\n",
      "Processing 4EJN Cc1n[nH]c2ccc(-c3cncc(OC[C@@H](N)Cc4c[nH]c5ccccc45)c3)cc12 EDO\n",
      "Processing 4EJN Cc1n[nH]c2ccc(-c3cncc(OC[C@@H](N)Cc4c[nH]c5ccccc45)c3)cc12 0R4\n",
      "Processing 4EJN Cc1n[nH]c2ccc(-c3cncc(OC[C@@H](N)Cc4c[nH]c5ccccc45)c3)cc12 SBT\n"
     ]
    },
    {
     "name": "stderr",
     "output_type": "stream",
     "text": [
      "==============================\n",
      "*** Open Babel Warning  in PerceiveBondOrders\n",
      "  Failed to kekulize aromatic bonds in OBMol::PerceiveBondOrders (title is /Users/wangyang/Desktop/Liver_cancer/16-AIDD/07_molecular_docking/data/data_4EJN/protein.pdb)\n",
      "\n"
     ]
    },
    {
     "name": "stdout",
     "output_type": "stream",
     "text": [
      "4EJN - Detected Ligands: ['EDO', '0R4', 'SBT']\n",
      "Processing 4EJN N[C@H](COc1cncc(-c2ccc3c(c2)C(c2ccco2)C(=O)N3)c1)Cc1c[nH]c2ccccc12 EDO\n",
      "Processing 4EJN N[C@H](COc1cncc(-c2ccc3c(c2)C(c2ccco2)C(=O)N3)c1)Cc1c[nH]c2ccccc12 0R4\n",
      "Processing 4EJN N[C@H](COc1cncc(-c2ccc3c(c2)C(c2ccco2)C(=O)N3)c1)Cc1c[nH]c2ccccc12 SBT\n"
     ]
    },
    {
     "name": "stderr",
     "output_type": "stream",
     "text": [
      "==============================\n",
      "*** Open Babel Warning  in PerceiveBondOrders\n",
      "  Failed to kekulize aromatic bonds in OBMol::PerceiveBondOrders (title is /Users/wangyang/Desktop/Liver_cancer/16-AIDD/07_molecular_docking/data/data_4EJN/protein.pdb)\n",
      "\n"
     ]
    },
    {
     "name": "stdout",
     "output_type": "stream",
     "text": [
      "4EJN - Detected Ligands: ['EDO', '0R4', 'SBT']\n",
      "Processing 4EJN CC1(O)CC(N)(c2ccc(-c3nc4n(c3-c3ccccc3)COc3ccc(C(N)=O)cc3-4)cc2)C1 EDO\n",
      "Processing 4EJN CC1(O)CC(N)(c2ccc(-c3nc4n(c3-c3ccccc3)COc3ccc(C(N)=O)cc3-4)cc2)C1 0R4\n",
      "Processing 4EJN CC1(O)CC(N)(c2ccc(-c3nc4n(c3-c3ccccc3)COc3ccc(C(N)=O)cc3-4)cc2)C1 SBT\n"
     ]
    },
    {
     "name": "stderr",
     "output_type": "stream",
     "text": [
      "==============================\n",
      "*** Open Babel Warning  in PerceiveBondOrders\n",
      "  Failed to kekulize aromatic bonds in OBMol::PerceiveBondOrders (title is /Users/wangyang/Desktop/Liver_cancer/16-AIDD/07_molecular_docking/data/data_4EJN/protein.pdb)\n",
      "\n"
     ]
    },
    {
     "name": "stdout",
     "output_type": "stream",
     "text": [
      "4EJN - Detected Ligands: ['EDO', '0R4', 'SBT']\n",
      "Processing 4EJN CNC(=O)c1ccc2c(c1)-c1nc(-c3ccc(C4(N)CC(C)(O)C4)cc3)c(-c3ccccc3)n1CO2 EDO\n",
      "Processing 4EJN CNC(=O)c1ccc2c(c1)-c1nc(-c3ccc(C4(N)CC(C)(O)C4)cc3)c(-c3ccccc3)n1CO2 0R4\n",
      "Processing 4EJN CNC(=O)c1ccc2c(c1)-c1nc(-c3ccc(C4(N)CC(C)(O)C4)cc3)c(-c3ccccc3)n1CO2 SBT\n"
     ]
    },
    {
     "name": "stderr",
     "output_type": "stream",
     "text": [
      "==============================\n",
      "*** Open Babel Warning  in PerceiveBondOrders\n",
      "  Failed to kekulize aromatic bonds in OBMol::PerceiveBondOrders (title is /Users/wangyang/Desktop/Liver_cancer/16-AIDD/07_molecular_docking/data/data_4EJN/protein.pdb)\n",
      "\n"
     ]
    },
    {
     "name": "stdout",
     "output_type": "stream",
     "text": [
      "4EJN - Detected Ligands: ['EDO', '0R4', 'SBT']\n",
      "Processing 4EJN NC1(c2ccc(-c3nc4n(c3-c3ccccc3)COc3cccc(F)c3-4)cc2)CC(O)(C2CC2)C1 EDO\n",
      "Processing 4EJN NC1(c2ccc(-c3nc4n(c3-c3ccccc3)COc3cccc(F)c3-4)cc2)CC(O)(C2CC2)C1 0R4\n",
      "Processing 4EJN NC1(c2ccc(-c3nc4n(c3-c3ccccc3)COc3cccc(F)c3-4)cc2)CC(O)(C2CC2)C1 SBT\n"
     ]
    },
    {
     "name": "stderr",
     "output_type": "stream",
     "text": [
      "==============================\n",
      "*** Open Babel Warning  in PerceiveBondOrders\n",
      "  Failed to kekulize aromatic bonds in OBMol::PerceiveBondOrders (title is /Users/wangyang/Desktop/Liver_cancer/16-AIDD/07_molecular_docking/data/data_4EJN/protein.pdb)\n",
      "\n"
     ]
    },
    {
     "name": "stdout",
     "output_type": "stream",
     "text": [
      "4EJN - Detected Ligands: ['EDO', '0R4', 'SBT']\n",
      "Processing 4EJN NC1(c2ccc(-c3nc4n(c3-c3ccccc3)COc3cccc(Cl)c3-4)cc2)CC(O)(C2CC2)C1 EDO\n",
      "Processing 4EJN NC1(c2ccc(-c3nc4n(c3-c3ccccc3)COc3cccc(Cl)c3-4)cc2)CC(O)(C2CC2)C1 0R4\n",
      "Processing 4EJN NC1(c2ccc(-c3nc4n(c3-c3ccccc3)COc3cccc(Cl)c3-4)cc2)CC(O)(C2CC2)C1 SBT\n"
     ]
    },
    {
     "name": "stderr",
     "output_type": "stream",
     "text": [
      "==============================\n",
      "*** Open Babel Warning  in PerceiveBondOrders\n",
      "  Failed to kekulize aromatic bonds in OBMol::PerceiveBondOrders (title is /Users/wangyang/Desktop/Liver_cancer/16-AIDD/07_molecular_docking/data/data_4EJN/protein.pdb)\n",
      "\n"
     ]
    },
    {
     "name": "stdout",
     "output_type": "stream",
     "text": [
      "4EJN - Detected Ligands: ['EDO', '0R4', 'SBT']\n",
      "Processing 4EJN CCc1c(N)ncnc1N1CCC(c2nc(-c3ccc(F)c(C)c3)cn2CC2CN(C)C2)CC1 EDO\n",
      "Processing 4EJN CCc1c(N)ncnc1N1CCC(c2nc(-c3ccc(F)c(C)c3)cn2CC2CN(C)C2)CC1 0R4\n",
      "Processing 4EJN CCc1c(N)ncnc1N1CCC(c2nc(-c3ccc(F)c(C)c3)cn2CC2CN(C)C2)CC1 SBT\n"
     ]
    },
    {
     "name": "stderr",
     "output_type": "stream",
     "text": [
      "==============================\n",
      "*** Open Babel Warning  in PerceiveBondOrders\n",
      "  Failed to kekulize aromatic bonds in OBMol::PerceiveBondOrders (title is /Users/wangyang/Desktop/Liver_cancer/16-AIDD/07_molecular_docking/data/data_4EJN/protein.pdb)\n",
      "\n"
     ]
    },
    {
     "name": "stdout",
     "output_type": "stream",
     "text": [
      "4EJN - Detected Ligands: ['EDO', '0R4', 'SBT']\n",
      "Processing 4EJN CCNC(=O)c1ccc2c(c1)-c1nc(-c3ccc(C4(N)CC(C)(O)C4)cc3)c(-c3ccccc3)n1CO2 EDO\n",
      "Processing 4EJN CCNC(=O)c1ccc2c(c1)-c1nc(-c3ccc(C4(N)CC(C)(O)C4)cc3)c(-c3ccccc3)n1CO2 0R4\n",
      "Processing 4EJN CCNC(=O)c1ccc2c(c1)-c1nc(-c3ccc(C4(N)CC(C)(O)C4)cc3)c(-c3ccccc3)n1CO2 SBT\n"
     ]
    },
    {
     "name": "stderr",
     "output_type": "stream",
     "text": [
      "==============================\n",
      "*** Open Babel Warning  in PerceiveBondOrders\n",
      "  Failed to kekulize aromatic bonds in OBMol::PerceiveBondOrders (title is /Users/wangyang/Desktop/Liver_cancer/16-AIDD/07_molecular_docking/data/data_4EJN/protein.pdb)\n",
      "\n"
     ]
    },
    {
     "name": "stdout",
     "output_type": "stream",
     "text": [
      "4EJN - Detected Ligands: ['EDO', '0R4', 'SBT']\n",
      "Processing 4EJN CC1(O)CC(N)(c2ccc(-c3nc4n(c3-c3ccccc3)COc3ccc(-c5ccn[nH]5)cc3-4)cc2)C1 EDO\n",
      "Processing 4EJN CC1(O)CC(N)(c2ccc(-c3nc4n(c3-c3ccccc3)COc3ccc(-c5ccn[nH]5)cc3-4)cc2)C1 0R4\n",
      "Processing 4EJN CC1(O)CC(N)(c2ccc(-c3nc4n(c3-c3ccccc3)COc3ccc(-c5ccn[nH]5)cc3-4)cc2)C1 SBT\n"
     ]
    },
    {
     "name": "stderr",
     "output_type": "stream",
     "text": [
      "==============================\n",
      "*** Open Babel Warning  in PerceiveBondOrders\n",
      "  Failed to kekulize aromatic bonds in OBMol::PerceiveBondOrders (title is /Users/wangyang/Desktop/Liver_cancer/16-AIDD/07_molecular_docking/data/data_4EJN/protein.pdb)\n",
      "\n"
     ]
    },
    {
     "name": "stdout",
     "output_type": "stream",
     "text": [
      "4EJN - Detected Ligands: ['EDO', '0R4', 'SBT']\n",
      "Processing 4EJN N[C@]1(c2ccc(-c3nc4ccc5nnc(C(F)F)n5c4cc3-c3ccccc3)cc2)C[C@](O)(C2CC2)C1 EDO\n",
      "Processing 4EJN N[C@]1(c2ccc(-c3nc4ccc5nnc(C(F)F)n5c4cc3-c3ccccc3)cc2)C[C@](O)(C2CC2)C1 0R4\n",
      "Processing 4EJN N[C@]1(c2ccc(-c3nc4ccc5nnc(C(F)F)n5c4cc3-c3ccccc3)cc2)C[C@](O)(C2CC2)C1 SBT\n"
     ]
    },
    {
     "name": "stderr",
     "output_type": "stream",
     "text": [
      "==============================\n",
      "*** Open Babel Warning  in PerceiveBondOrders\n",
      "  Failed to kekulize aromatic bonds in OBMol::PerceiveBondOrders (title is /Users/wangyang/Desktop/Liver_cancer/16-AIDD/07_molecular_docking/data/data_4EJN/protein.pdb)\n",
      "\n"
     ]
    },
    {
     "name": "stdout",
     "output_type": "stream",
     "text": [
      "4EJN - Detected Ligands: ['EDO', '0R4', 'SBT']\n",
      "Processing 4EJN Cc1n[nH]c2cnc(-c3cncc(OC[C@@H](N)Cc4c[nH]c5ccccc45)c3)cc12 EDO\n",
      "Processing 4EJN Cc1n[nH]c2cnc(-c3cncc(OC[C@@H](N)Cc4c[nH]c5ccccc45)c3)cc12 0R4\n",
      "Processing 4EJN Cc1n[nH]c2cnc(-c3cncc(OC[C@@H](N)Cc4c[nH]c5ccccc45)c3)cc12 SBT\n"
     ]
    },
    {
     "name": "stderr",
     "output_type": "stream",
     "text": [
      "==============================\n",
      "*** Open Babel Warning  in PerceiveBondOrders\n",
      "  Failed to kekulize aromatic bonds in OBMol::PerceiveBondOrders (title is /Users/wangyang/Desktop/Liver_cancer/16-AIDD/07_molecular_docking/data/data_4EJN/protein.pdb)\n",
      "\n"
     ]
    },
    {
     "name": "stdout",
     "output_type": "stream",
     "text": [
      "4EJN - Detected Ligands: ['EDO', '0R4', 'SBT']\n",
      "Processing 4EJN COc1cccc2c1-c1nc(-c3ccc(C4(N)CC(O)(C5CC5)C4)cc3)c(-c3ccccc3)n1CO2 EDO\n",
      "Processing 4EJN COc1cccc2c1-c1nc(-c3ccc(C4(N)CC(O)(C5CC5)C4)cc3)c(-c3ccccc3)n1CO2 0R4\n",
      "Processing 4EJN COc1cccc2c1-c1nc(-c3ccc(C4(N)CC(O)(C5CC5)C4)cc3)c(-c3ccccc3)n1CO2 SBT\n"
     ]
    },
    {
     "name": "stderr",
     "output_type": "stream",
     "text": [
      "==============================\n",
      "*** Open Babel Warning  in PerceiveBondOrders\n",
      "  Failed to kekulize aromatic bonds in OBMol::PerceiveBondOrders (title is /Users/wangyang/Desktop/Liver_cancer/16-AIDD/07_molecular_docking/data/data_4EJN/protein.pdb)\n",
      "\n"
     ]
    },
    {
     "name": "stdout",
     "output_type": "stream",
     "text": [
      "4EJN - Detected Ligands: ['EDO', '0R4', 'SBT']\n",
      "Processing 4EJN C[C@]1(O)C[C@@](N)(c2ccc(-c3nc4ccc5nnc(C(F)F)n5c4cc3-c3ccccc3)cc2)C1 EDO\n",
      "Processing 4EJN C[C@]1(O)C[C@@](N)(c2ccc(-c3nc4ccc5nnc(C(F)F)n5c4cc3-c3ccccc3)cc2)C1 0R4\n",
      "Processing 4EJN C[C@]1(O)C[C@@](N)(c2ccc(-c3nc4ccc5nnc(C(F)F)n5c4cc3-c3ccccc3)cc2)C1 SBT\n"
     ]
    },
    {
     "name": "stderr",
     "output_type": "stream",
     "text": [
      "==============================\n",
      "*** Open Babel Warning  in PerceiveBondOrders\n",
      "  Failed to kekulize aromatic bonds in OBMol::PerceiveBondOrders (title is /Users/wangyang/Desktop/Liver_cancer/16-AIDD/07_molecular_docking/data/data_4EJN/protein.pdb)\n",
      "\n"
     ]
    },
    {
     "name": "stdout",
     "output_type": "stream",
     "text": [
      "4EJN - Detected Ligands: ['EDO', '0R4', 'SBT']\n",
      "Processing 4EJN CC1(O)CC(N)(c2ccc(-c3nc4n(c3-c3ccccc3)COc3cc(C(N)=O)ccc3-4)cc2)C1 EDO\n",
      "Processing 4EJN CC1(O)CC(N)(c2ccc(-c3nc4n(c3-c3ccccc3)COc3cc(C(N)=O)ccc3-4)cc2)C1 0R4\n",
      "Processing 4EJN CC1(O)CC(N)(c2ccc(-c3nc4n(c3-c3ccccc3)COc3cc(C(N)=O)ccc3-4)cc2)C1 SBT\n"
     ]
    },
    {
     "name": "stderr",
     "output_type": "stream",
     "text": [
      "==============================\n",
      "*** Open Babel Warning  in PerceiveBondOrders\n",
      "  Failed to kekulize aromatic bonds in OBMol::PerceiveBondOrders (title is /Users/wangyang/Desktop/Liver_cancer/16-AIDD/07_molecular_docking/data/data_4EJN/protein.pdb)\n",
      "\n"
     ]
    },
    {
     "name": "stdout",
     "output_type": "stream",
     "text": [
      "4EJN - Detected Ligands: ['EDO', '0R4', 'SBT']\n",
      "Processing 4EJN CC(C)NC[C@@H](C(=O)N1CCN(c2ncnc3c2[C@H](C)CC(=O)N3)[C@H]2C[C@H]21)c1ccc(Cl)cc1 EDO\n",
      "Processing 4EJN CC(C)NC[C@@H](C(=O)N1CCN(c2ncnc3c2[C@H](C)CC(=O)N3)[C@H]2C[C@H]21)c1ccc(Cl)cc1 0R4\n",
      "Processing 4EJN CC(C)NC[C@@H](C(=O)N1CCN(c2ncnc3c2[C@H](C)CC(=O)N3)[C@H]2C[C@H]21)c1ccc(Cl)cc1 SBT\n"
     ]
    },
    {
     "name": "stderr",
     "output_type": "stream",
     "text": [
      "==============================\n",
      "*** Open Babel Warning  in PerceiveBondOrders\n",
      "  Failed to kekulize aromatic bonds in OBMol::PerceiveBondOrders (title is /Users/wangyang/Desktop/Liver_cancer/16-AIDD/07_molecular_docking/data/data_4EJN/protein.pdb)\n",
      "\n"
     ]
    },
    {
     "name": "stdout",
     "output_type": "stream",
     "text": [
      "4EJN - Detected Ligands: ['EDO', '0R4', 'SBT']\n",
      "Processing 4EJN CCc1c(N)ncnc1N1CCC(c2nc(-c3ccc(F)c(Cl)c3)cn2CCN2CCCC2)CC1 EDO\n",
      "Processing 4EJN CCc1c(N)ncnc1N1CCC(c2nc(-c3ccc(F)c(Cl)c3)cn2CCN2CCCC2)CC1 0R4\n",
      "Processing 4EJN CCc1c(N)ncnc1N1CCC(c2nc(-c3ccc(F)c(Cl)c3)cn2CCN2CCCC2)CC1 SBT\n"
     ]
    },
    {
     "name": "stderr",
     "output_type": "stream",
     "text": [
      "==============================\n",
      "*** Open Babel Warning  in PerceiveBondOrders\n",
      "  Failed to kekulize aromatic bonds in OBMol::PerceiveBondOrders (title is /Users/wangyang/Desktop/Liver_cancer/16-AIDD/07_molecular_docking/data/data_4EJN/protein.pdb)\n",
      "\n"
     ]
    },
    {
     "name": "stdout",
     "output_type": "stream",
     "text": [
      "4EJN - Detected Ligands: ['EDO', '0R4', 'SBT']\n",
      "Processing 4EJN CC1(O)CC(N)(c2ccc(-c3nc4n(c3-c3ccccc3)COc3ccc(-c5cn[nH]c5)cc3-4)cc2)C1 EDO\n",
      "Processing 4EJN CC1(O)CC(N)(c2ccc(-c3nc4n(c3-c3ccccc3)COc3ccc(-c5cn[nH]c5)cc3-4)cc2)C1 0R4\n",
      "Processing 4EJN CC1(O)CC(N)(c2ccc(-c3nc4n(c3-c3ccccc3)COc3ccc(-c5cn[nH]c5)cc3-4)cc2)C1 SBT\n"
     ]
    },
    {
     "name": "stderr",
     "output_type": "stream",
     "text": [
      "==============================\n",
      "*** Open Babel Warning  in PerceiveBondOrders\n",
      "  Failed to kekulize aromatic bonds in OBMol::PerceiveBondOrders (title is /Users/wangyang/Desktop/Liver_cancer/16-AIDD/07_molecular_docking/data/data_4EJN/protein.pdb)\n",
      "\n"
     ]
    },
    {
     "name": "stdout",
     "output_type": "stream",
     "text": [
      "4EJN - Detected Ligands: ['EDO', '0R4', 'SBT']\n",
      "Processing 4EJN NC1(c2ccc(-c3nc4n(c3-c3ccccc3)COc3cnccc3-4)cc2)CC(O)(C2CC2)C1 EDO\n",
      "Processing 4EJN NC1(c2ccc(-c3nc4n(c3-c3ccccc3)COc3cnccc3-4)cc2)CC(O)(C2CC2)C1 0R4\n",
      "Processing 4EJN NC1(c2ccc(-c3nc4n(c3-c3ccccc3)COc3cnccc3-4)cc2)CC(O)(C2CC2)C1 SBT\n",
      "7AFW 文件不存在，正在下载...\n",
      "7AFW 下载成功.\n"
     ]
    },
    {
     "name": "stderr",
     "output_type": "stream",
     "text": [
      "==============================\n",
      "*** Open Babel Warning  in PerceiveBondOrders\n",
      "  Failed to kekulize aromatic bonds in OBMol::PerceiveBondOrders (title is /Users/wangyang/Desktop/Liver_cancer/16-AIDD/07_molecular_docking/data/data_7AFW/protein.pdb)\n",
      "\n"
     ]
    },
    {
     "name": "stdout",
     "output_type": "stream",
     "text": [
      "7AFW - Detected Ligands: ['R9Q']\n",
      "Processing 7AFW Cc1cc(-c2cn(CCN3CCC3)c(C3CCN(c4ncnc(N)c4Br)CC3)n2)ccc1F R9Q\n"
     ]
    },
    {
     "name": "stderr",
     "output_type": "stream",
     "text": [
      "==============================\n",
      "*** Open Babel Warning  in PerceiveBondOrders\n",
      "  Failed to kekulize aromatic bonds in OBMol::PerceiveBondOrders (title is /Users/wangyang/Desktop/Liver_cancer/16-AIDD/07_molecular_docking/data/data_7AFW/protein.pdb)\n",
      "\n"
     ]
    },
    {
     "name": "stdout",
     "output_type": "stream",
     "text": [
      "7AFW - Detected Ligands: ['R9Q']\n",
      "Processing 7AFW CC(C)c1cc(-c2cn(CCN3CCC3)c(C3CCN(c4ncnc(N)c4Br)CC3)n2)ccn1 R9Q\n"
     ]
    },
    {
     "name": "stderr",
     "output_type": "stream",
     "text": [
      "==============================\n",
      "*** Open Babel Warning  in PerceiveBondOrders\n",
      "  Failed to kekulize aromatic bonds in OBMol::PerceiveBondOrders (title is /Users/wangyang/Desktop/Liver_cancer/16-AIDD/07_molecular_docking/data/data_7AFW/protein.pdb)\n",
      "\n"
     ]
    },
    {
     "name": "stdout",
     "output_type": "stream",
     "text": [
      "7AFW - Detected Ligands: ['R9Q']\n",
      "Processing 7AFW Cc1n[nH]c2ccc(-c3cncc(OC[C@@H](N)Cc4c[nH]c5ccccc45)c3)cc12 R9Q\n"
     ]
    },
    {
     "name": "stderr",
     "output_type": "stream",
     "text": [
      "==============================\n",
      "*** Open Babel Warning  in PerceiveBondOrders\n",
      "  Failed to kekulize aromatic bonds in OBMol::PerceiveBondOrders (title is /Users/wangyang/Desktop/Liver_cancer/16-AIDD/07_molecular_docking/data/data_7AFW/protein.pdb)\n",
      "\n"
     ]
    },
    {
     "name": "stdout",
     "output_type": "stream",
     "text": [
      "7AFW - Detected Ligands: ['R9Q']\n",
      "Processing 7AFW N[C@H](COc1cncc(-c2ccc3c(c2)C(c2ccco2)C(=O)N3)c1)Cc1c[nH]c2ccccc12 R9Q\n"
     ]
    },
    {
     "name": "stderr",
     "output_type": "stream",
     "text": [
      "==============================\n",
      "*** Open Babel Warning  in PerceiveBondOrders\n",
      "  Failed to kekulize aromatic bonds in OBMol::PerceiveBondOrders (title is /Users/wangyang/Desktop/Liver_cancer/16-AIDD/07_molecular_docking/data/data_7AFW/protein.pdb)\n",
      "\n"
     ]
    },
    {
     "name": "stdout",
     "output_type": "stream",
     "text": [
      "7AFW - Detected Ligands: ['R9Q']\n",
      "Processing 7AFW CC1(O)CC(N)(c2ccc(-c3nc4n(c3-c3ccccc3)COc3ccc(C(N)=O)cc3-4)cc2)C1 R9Q\n"
     ]
    },
    {
     "name": "stderr",
     "output_type": "stream",
     "text": [
      "==============================\n",
      "*** Open Babel Warning  in PerceiveBondOrders\n",
      "  Failed to kekulize aromatic bonds in OBMol::PerceiveBondOrders (title is /Users/wangyang/Desktop/Liver_cancer/16-AIDD/07_molecular_docking/data/data_7AFW/protein.pdb)\n",
      "\n"
     ]
    },
    {
     "name": "stdout",
     "output_type": "stream",
     "text": [
      "7AFW - Detected Ligands: ['R9Q']\n",
      "Processing 7AFW CNC(=O)c1ccc2c(c1)-c1nc(-c3ccc(C4(N)CC(C)(O)C4)cc3)c(-c3ccccc3)n1CO2 R9Q\n"
     ]
    },
    {
     "name": "stderr",
     "output_type": "stream",
     "text": [
      "==============================\n",
      "*** Open Babel Warning  in PerceiveBondOrders\n",
      "  Failed to kekulize aromatic bonds in OBMol::PerceiveBondOrders (title is /Users/wangyang/Desktop/Liver_cancer/16-AIDD/07_molecular_docking/data/data_7AFW/protein.pdb)\n",
      "\n"
     ]
    },
    {
     "name": "stdout",
     "output_type": "stream",
     "text": [
      "7AFW - Detected Ligands: ['R9Q']\n",
      "Processing 7AFW NC1(c2ccc(-c3nc4n(c3-c3ccccc3)COc3cccc(F)c3-4)cc2)CC(O)(C2CC2)C1 R9Q\n"
     ]
    },
    {
     "name": "stderr",
     "output_type": "stream",
     "text": [
      "==============================\n",
      "*** Open Babel Warning  in PerceiveBondOrders\n",
      "  Failed to kekulize aromatic bonds in OBMol::PerceiveBondOrders (title is /Users/wangyang/Desktop/Liver_cancer/16-AIDD/07_molecular_docking/data/data_7AFW/protein.pdb)\n",
      "\n"
     ]
    },
    {
     "name": "stdout",
     "output_type": "stream",
     "text": [
      "7AFW - Detected Ligands: ['R9Q']\n",
      "Processing 7AFW NC1(c2ccc(-c3nc4n(c3-c3ccccc3)COc3cccc(Cl)c3-4)cc2)CC(O)(C2CC2)C1 R9Q\n"
     ]
    },
    {
     "name": "stderr",
     "output_type": "stream",
     "text": [
      "==============================\n",
      "*** Open Babel Warning  in PerceiveBondOrders\n",
      "  Failed to kekulize aromatic bonds in OBMol::PerceiveBondOrders (title is /Users/wangyang/Desktop/Liver_cancer/16-AIDD/07_molecular_docking/data/data_7AFW/protein.pdb)\n",
      "\n"
     ]
    },
    {
     "name": "stdout",
     "output_type": "stream",
     "text": [
      "7AFW - Detected Ligands: ['R9Q']\n",
      "Processing 7AFW CCc1c(N)ncnc1N1CCC(c2nc(-c3ccc(F)c(C)c3)cn2CC2CN(C)C2)CC1 R9Q\n"
     ]
    },
    {
     "name": "stderr",
     "output_type": "stream",
     "text": [
      "==============================\n",
      "*** Open Babel Warning  in PerceiveBondOrders\n",
      "  Failed to kekulize aromatic bonds in OBMol::PerceiveBondOrders (title is /Users/wangyang/Desktop/Liver_cancer/16-AIDD/07_molecular_docking/data/data_7AFW/protein.pdb)\n",
      "\n"
     ]
    },
    {
     "name": "stdout",
     "output_type": "stream",
     "text": [
      "7AFW - Detected Ligands: ['R9Q']\n",
      "Processing 7AFW CCNC(=O)c1ccc2c(c1)-c1nc(-c3ccc(C4(N)CC(C)(O)C4)cc3)c(-c3ccccc3)n1CO2 R9Q\n"
     ]
    },
    {
     "name": "stderr",
     "output_type": "stream",
     "text": [
      "==============================\n",
      "*** Open Babel Warning  in PerceiveBondOrders\n",
      "  Failed to kekulize aromatic bonds in OBMol::PerceiveBondOrders (title is /Users/wangyang/Desktop/Liver_cancer/16-AIDD/07_molecular_docking/data/data_7AFW/protein.pdb)\n",
      "\n"
     ]
    },
    {
     "name": "stdout",
     "output_type": "stream",
     "text": [
      "7AFW - Detected Ligands: ['R9Q']\n",
      "Processing 7AFW CC1(O)CC(N)(c2ccc(-c3nc4n(c3-c3ccccc3)COc3ccc(-c5ccn[nH]5)cc3-4)cc2)C1 R9Q\n"
     ]
    },
    {
     "name": "stderr",
     "output_type": "stream",
     "text": [
      "==============================\n",
      "*** Open Babel Warning  in PerceiveBondOrders\n",
      "  Failed to kekulize aromatic bonds in OBMol::PerceiveBondOrders (title is /Users/wangyang/Desktop/Liver_cancer/16-AIDD/07_molecular_docking/data/data_7AFW/protein.pdb)\n",
      "\n"
     ]
    },
    {
     "name": "stdout",
     "output_type": "stream",
     "text": [
      "7AFW - Detected Ligands: ['R9Q']\n",
      "Processing 7AFW N[C@]1(c2ccc(-c3nc4ccc5nnc(C(F)F)n5c4cc3-c3ccccc3)cc2)C[C@](O)(C2CC2)C1 R9Q\n"
     ]
    },
    {
     "name": "stderr",
     "output_type": "stream",
     "text": [
      "==============================\n",
      "*** Open Babel Warning  in PerceiveBondOrders\n",
      "  Failed to kekulize aromatic bonds in OBMol::PerceiveBondOrders (title is /Users/wangyang/Desktop/Liver_cancer/16-AIDD/07_molecular_docking/data/data_7AFW/protein.pdb)\n",
      "\n"
     ]
    },
    {
     "name": "stdout",
     "output_type": "stream",
     "text": [
      "7AFW - Detected Ligands: ['R9Q']\n",
      "Processing 7AFW Cc1n[nH]c2cnc(-c3cncc(OC[C@@H](N)Cc4c[nH]c5ccccc45)c3)cc12 R9Q\n"
     ]
    },
    {
     "name": "stderr",
     "output_type": "stream",
     "text": [
      "==============================\n",
      "*** Open Babel Warning  in PerceiveBondOrders\n",
      "  Failed to kekulize aromatic bonds in OBMol::PerceiveBondOrders (title is /Users/wangyang/Desktop/Liver_cancer/16-AIDD/07_molecular_docking/data/data_7AFW/protein.pdb)\n",
      "\n"
     ]
    },
    {
     "name": "stdout",
     "output_type": "stream",
     "text": [
      "7AFW - Detected Ligands: ['R9Q']\n",
      "Processing 7AFW COc1cccc2c1-c1nc(-c3ccc(C4(N)CC(O)(C5CC5)C4)cc3)c(-c3ccccc3)n1CO2 R9Q\n"
     ]
    },
    {
     "name": "stderr",
     "output_type": "stream",
     "text": [
      "==============================\n",
      "*** Open Babel Warning  in PerceiveBondOrders\n",
      "  Failed to kekulize aromatic bonds in OBMol::PerceiveBondOrders (title is /Users/wangyang/Desktop/Liver_cancer/16-AIDD/07_molecular_docking/data/data_7AFW/protein.pdb)\n",
      "\n"
     ]
    },
    {
     "name": "stdout",
     "output_type": "stream",
     "text": [
      "7AFW - Detected Ligands: ['R9Q']\n",
      "Processing 7AFW C[C@]1(O)C[C@@](N)(c2ccc(-c3nc4ccc5nnc(C(F)F)n5c4cc3-c3ccccc3)cc2)C1 R9Q\n"
     ]
    },
    {
     "name": "stderr",
     "output_type": "stream",
     "text": [
      "==============================\n",
      "*** Open Babel Warning  in PerceiveBondOrders\n",
      "  Failed to kekulize aromatic bonds in OBMol::PerceiveBondOrders (title is /Users/wangyang/Desktop/Liver_cancer/16-AIDD/07_molecular_docking/data/data_7AFW/protein.pdb)\n",
      "\n"
     ]
    },
    {
     "name": "stdout",
     "output_type": "stream",
     "text": [
      "7AFW - Detected Ligands: ['R9Q']\n",
      "Processing 7AFW CC1(O)CC(N)(c2ccc(-c3nc4n(c3-c3ccccc3)COc3cc(C(N)=O)ccc3-4)cc2)C1 R9Q\n"
     ]
    },
    {
     "name": "stderr",
     "output_type": "stream",
     "text": [
      "==============================\n",
      "*** Open Babel Warning  in PerceiveBondOrders\n",
      "  Failed to kekulize aromatic bonds in OBMol::PerceiveBondOrders (title is /Users/wangyang/Desktop/Liver_cancer/16-AIDD/07_molecular_docking/data/data_7AFW/protein.pdb)\n",
      "\n"
     ]
    },
    {
     "name": "stdout",
     "output_type": "stream",
     "text": [
      "7AFW - Detected Ligands: ['R9Q']\n",
      "Processing 7AFW CC(C)NC[C@@H](C(=O)N1CCN(c2ncnc3c2[C@H](C)CC(=O)N3)[C@H]2C[C@H]21)c1ccc(Cl)cc1 R9Q\n"
     ]
    },
    {
     "name": "stderr",
     "output_type": "stream",
     "text": [
      "==============================\n",
      "*** Open Babel Warning  in PerceiveBondOrders\n",
      "  Failed to kekulize aromatic bonds in OBMol::PerceiveBondOrders (title is /Users/wangyang/Desktop/Liver_cancer/16-AIDD/07_molecular_docking/data/data_7AFW/protein.pdb)\n",
      "\n"
     ]
    },
    {
     "name": "stdout",
     "output_type": "stream",
     "text": [
      "7AFW - Detected Ligands: ['R9Q']\n",
      "Processing 7AFW CCc1c(N)ncnc1N1CCC(c2nc(-c3ccc(F)c(Cl)c3)cn2CCN2CCCC2)CC1 R9Q\n"
     ]
    },
    {
     "name": "stderr",
     "output_type": "stream",
     "text": [
      "==============================\n",
      "*** Open Babel Warning  in PerceiveBondOrders\n",
      "  Failed to kekulize aromatic bonds in OBMol::PerceiveBondOrders (title is /Users/wangyang/Desktop/Liver_cancer/16-AIDD/07_molecular_docking/data/data_7AFW/protein.pdb)\n",
      "\n"
     ]
    },
    {
     "name": "stdout",
     "output_type": "stream",
     "text": [
      "7AFW - Detected Ligands: ['R9Q']\n",
      "Processing 7AFW CC1(O)CC(N)(c2ccc(-c3nc4n(c3-c3ccccc3)COc3ccc(-c5cn[nH]c5)cc3-4)cc2)C1 R9Q\n"
     ]
    },
    {
     "name": "stderr",
     "output_type": "stream",
     "text": [
      "==============================\n",
      "*** Open Babel Warning  in PerceiveBondOrders\n",
      "  Failed to kekulize aromatic bonds in OBMol::PerceiveBondOrders (title is /Users/wangyang/Desktop/Liver_cancer/16-AIDD/07_molecular_docking/data/data_7AFW/protein.pdb)\n",
      "\n"
     ]
    },
    {
     "name": "stdout",
     "output_type": "stream",
     "text": [
      "7AFW - Detected Ligands: ['R9Q']\n",
      "Processing 7AFW NC1(c2ccc(-c3nc4n(c3-c3ccccc3)COc3cnccc3-4)cc2)CC(O)(C2CC2)C1 R9Q\n",
      "8Z10 文件不存在，正在下载...\n",
      "8Z10 下载成功.\n"
     ]
    },
    {
     "name": "stderr",
     "output_type": "stream",
     "text": [
      "==============================\n",
      "*** Open Babel Warning  in PerceiveBondOrders\n",
      "  Failed to kekulize aromatic bonds in OBMol::PerceiveBondOrders (title is /Users/wangyang/Desktop/Liver_cancer/16-AIDD/07_molecular_docking/data/data_8Z10/protein.pdb)\n",
      "\n"
     ]
    },
    {
     "name": "stdout",
     "output_type": "stream",
     "text": [
      "8Z10 - Detected Ligands: []\n"
     ]
    },
    {
     "name": "stderr",
     "output_type": "stream",
     "text": [
      "==============================\n",
      "*** Open Babel Warning  in PerceiveBondOrders\n",
      "  Failed to kekulize aromatic bonds in OBMol::PerceiveBondOrders (title is /Users/wangyang/Desktop/Liver_cancer/16-AIDD/07_molecular_docking/data/data_8Z10/protein.pdb)\n",
      "\n"
     ]
    },
    {
     "name": "stdout",
     "output_type": "stream",
     "text": [
      "8Z10 - Detected Ligands: []\n"
     ]
    },
    {
     "name": "stderr",
     "output_type": "stream",
     "text": [
      "==============================\n",
      "*** Open Babel Warning  in PerceiveBondOrders\n",
      "  Failed to kekulize aromatic bonds in OBMol::PerceiveBondOrders (title is /Users/wangyang/Desktop/Liver_cancer/16-AIDD/07_molecular_docking/data/data_8Z10/protein.pdb)\n",
      "\n"
     ]
    },
    {
     "name": "stdout",
     "output_type": "stream",
     "text": [
      "8Z10 - Detected Ligands: []\n"
     ]
    },
    {
     "name": "stderr",
     "output_type": "stream",
     "text": [
      "==============================\n",
      "*** Open Babel Warning  in PerceiveBondOrders\n",
      "  Failed to kekulize aromatic bonds in OBMol::PerceiveBondOrders (title is /Users/wangyang/Desktop/Liver_cancer/16-AIDD/07_molecular_docking/data/data_8Z10/protein.pdb)\n",
      "\n"
     ]
    },
    {
     "name": "stdout",
     "output_type": "stream",
     "text": [
      "8Z10 - Detected Ligands: []\n"
     ]
    },
    {
     "name": "stderr",
     "output_type": "stream",
     "text": [
      "==============================\n",
      "*** Open Babel Warning  in PerceiveBondOrders\n",
      "  Failed to kekulize aromatic bonds in OBMol::PerceiveBondOrders (title is /Users/wangyang/Desktop/Liver_cancer/16-AIDD/07_molecular_docking/data/data_8Z10/protein.pdb)\n",
      "\n"
     ]
    },
    {
     "name": "stdout",
     "output_type": "stream",
     "text": [
      "8Z10 - Detected Ligands: []\n"
     ]
    },
    {
     "name": "stderr",
     "output_type": "stream",
     "text": [
      "==============================\n",
      "*** Open Babel Warning  in PerceiveBondOrders\n",
      "  Failed to kekulize aromatic bonds in OBMol::PerceiveBondOrders (title is /Users/wangyang/Desktop/Liver_cancer/16-AIDD/07_molecular_docking/data/data_8Z10/protein.pdb)\n",
      "\n"
     ]
    },
    {
     "name": "stdout",
     "output_type": "stream",
     "text": [
      "8Z10 - Detected Ligands: []\n"
     ]
    },
    {
     "name": "stderr",
     "output_type": "stream",
     "text": [
      "==============================\n",
      "*** Open Babel Warning  in PerceiveBondOrders\n",
      "  Failed to kekulize aromatic bonds in OBMol::PerceiveBondOrders (title is /Users/wangyang/Desktop/Liver_cancer/16-AIDD/07_molecular_docking/data/data_8Z10/protein.pdb)\n",
      "\n"
     ]
    },
    {
     "name": "stdout",
     "output_type": "stream",
     "text": [
      "8Z10 - Detected Ligands: []\n"
     ]
    },
    {
     "name": "stderr",
     "output_type": "stream",
     "text": [
      "==============================\n",
      "*** Open Babel Warning  in PerceiveBondOrders\n",
      "  Failed to kekulize aromatic bonds in OBMol::PerceiveBondOrders (title is /Users/wangyang/Desktop/Liver_cancer/16-AIDD/07_molecular_docking/data/data_8Z10/protein.pdb)\n",
      "\n"
     ]
    },
    {
     "name": "stdout",
     "output_type": "stream",
     "text": [
      "8Z10 - Detected Ligands: []\n"
     ]
    },
    {
     "name": "stderr",
     "output_type": "stream",
     "text": [
      "==============================\n",
      "*** Open Babel Warning  in PerceiveBondOrders\n",
      "  Failed to kekulize aromatic bonds in OBMol::PerceiveBondOrders (title is /Users/wangyang/Desktop/Liver_cancer/16-AIDD/07_molecular_docking/data/data_8Z10/protein.pdb)\n",
      "\n"
     ]
    },
    {
     "name": "stdout",
     "output_type": "stream",
     "text": [
      "8Z10 - Detected Ligands: []\n"
     ]
    },
    {
     "name": "stderr",
     "output_type": "stream",
     "text": [
      "==============================\n",
      "*** Open Babel Warning  in PerceiveBondOrders\n",
      "  Failed to kekulize aromatic bonds in OBMol::PerceiveBondOrders (title is /Users/wangyang/Desktop/Liver_cancer/16-AIDD/07_molecular_docking/data/data_8Z10/protein.pdb)\n",
      "\n"
     ]
    },
    {
     "name": "stdout",
     "output_type": "stream",
     "text": [
      "8Z10 - Detected Ligands: []\n"
     ]
    },
    {
     "name": "stderr",
     "output_type": "stream",
     "text": [
      "==============================\n",
      "*** Open Babel Warning  in PerceiveBondOrders\n",
      "  Failed to kekulize aromatic bonds in OBMol::PerceiveBondOrders (title is /Users/wangyang/Desktop/Liver_cancer/16-AIDD/07_molecular_docking/data/data_8Z10/protein.pdb)\n",
      "\n"
     ]
    },
    {
     "name": "stdout",
     "output_type": "stream",
     "text": [
      "8Z10 - Detected Ligands: []\n"
     ]
    },
    {
     "name": "stderr",
     "output_type": "stream",
     "text": [
      "==============================\n",
      "*** Open Babel Warning  in PerceiveBondOrders\n",
      "  Failed to kekulize aromatic bonds in OBMol::PerceiveBondOrders (title is /Users/wangyang/Desktop/Liver_cancer/16-AIDD/07_molecular_docking/data/data_8Z10/protein.pdb)\n",
      "\n"
     ]
    },
    {
     "name": "stdout",
     "output_type": "stream",
     "text": [
      "8Z10 - Detected Ligands: []\n"
     ]
    },
    {
     "name": "stderr",
     "output_type": "stream",
     "text": [
      "==============================\n",
      "*** Open Babel Warning  in PerceiveBondOrders\n",
      "  Failed to kekulize aromatic bonds in OBMol::PerceiveBondOrders (title is /Users/wangyang/Desktop/Liver_cancer/16-AIDD/07_molecular_docking/data/data_8Z10/protein.pdb)\n",
      "\n"
     ]
    },
    {
     "name": "stdout",
     "output_type": "stream",
     "text": [
      "8Z10 - Detected Ligands: []\n"
     ]
    },
    {
     "name": "stderr",
     "output_type": "stream",
     "text": [
      "==============================\n",
      "*** Open Babel Warning  in PerceiveBondOrders\n",
      "  Failed to kekulize aromatic bonds in OBMol::PerceiveBondOrders (title is /Users/wangyang/Desktop/Liver_cancer/16-AIDD/07_molecular_docking/data/data_8Z10/protein.pdb)\n",
      "\n"
     ]
    },
    {
     "name": "stdout",
     "output_type": "stream",
     "text": [
      "8Z10 - Detected Ligands: []\n"
     ]
    },
    {
     "name": "stderr",
     "output_type": "stream",
     "text": [
      "==============================\n",
      "*** Open Babel Warning  in PerceiveBondOrders\n",
      "  Failed to kekulize aromatic bonds in OBMol::PerceiveBondOrders (title is /Users/wangyang/Desktop/Liver_cancer/16-AIDD/07_molecular_docking/data/data_8Z10/protein.pdb)\n",
      "\n"
     ]
    },
    {
     "name": "stdout",
     "output_type": "stream",
     "text": [
      "8Z10 - Detected Ligands: []\n"
     ]
    },
    {
     "name": "stderr",
     "output_type": "stream",
     "text": [
      "==============================\n",
      "*** Open Babel Warning  in PerceiveBondOrders\n",
      "  Failed to kekulize aromatic bonds in OBMol::PerceiveBondOrders (title is /Users/wangyang/Desktop/Liver_cancer/16-AIDD/07_molecular_docking/data/data_8Z10/protein.pdb)\n",
      "\n"
     ]
    },
    {
     "name": "stdout",
     "output_type": "stream",
     "text": [
      "8Z10 - Detected Ligands: []\n"
     ]
    },
    {
     "name": "stderr",
     "output_type": "stream",
     "text": [
      "==============================\n",
      "*** Open Babel Warning  in PerceiveBondOrders\n",
      "  Failed to kekulize aromatic bonds in OBMol::PerceiveBondOrders (title is /Users/wangyang/Desktop/Liver_cancer/16-AIDD/07_molecular_docking/data/data_8Z10/protein.pdb)\n",
      "\n"
     ]
    },
    {
     "name": "stdout",
     "output_type": "stream",
     "text": [
      "8Z10 - Detected Ligands: []\n"
     ]
    },
    {
     "name": "stderr",
     "output_type": "stream",
     "text": [
      "==============================\n",
      "*** Open Babel Warning  in PerceiveBondOrders\n",
      "  Failed to kekulize aromatic bonds in OBMol::PerceiveBondOrders (title is /Users/wangyang/Desktop/Liver_cancer/16-AIDD/07_molecular_docking/data/data_8Z10/protein.pdb)\n",
      "\n",
      "==============================\n",
      "*** Open Babel Warning  in PerceiveBondOrders\n",
      "  Failed to kekulize aromatic bonds in OBMol::PerceiveBondOrders (title is /Users/wangyang/Desktop/Liver_cancer/16-AIDD/07_molecular_docking/data/data_8Z10/protein.pdb)\n",
      "\n"
     ]
    },
    {
     "name": "stdout",
     "output_type": "stream",
     "text": [
      "8Z10 - Detected Ligands: []\n",
      "8Z10 - Detected Ligands: []\n"
     ]
    },
    {
     "name": "stderr",
     "output_type": "stream",
     "text": [
      "==============================\n",
      "*** Open Babel Warning  in PerceiveBondOrders\n",
      "  Failed to kekulize aromatic bonds in OBMol::PerceiveBondOrders (title is /Users/wangyang/Desktop/Liver_cancer/16-AIDD/07_molecular_docking/data/data_8Z10/protein.pdb)\n",
      "\n"
     ]
    },
    {
     "name": "stdout",
     "output_type": "stream",
     "text": [
      "8Z10 - Detected Ligands: []\n",
      "8Q61 文件不存在，正在下载...\n",
      "8Q61 下载成功.\n"
     ]
    },
    {
     "name": "stderr",
     "output_type": "stream",
     "text": [
      "==============================\n",
      "*** Open Babel Warning  in PerceiveBondOrders\n",
      "  Failed to kekulize aromatic bonds in OBMol::PerceiveBondOrders (title is /Users/wangyang/Desktop/Liver_cancer/16-AIDD/07_molecular_docking/data/data_8Q61/protein.pdb)\n",
      "\n"
     ]
    },
    {
     "name": "stdout",
     "output_type": "stream",
     "text": [
      "8Q61 - Detected Ligands: ['GOL', 'PO4', 'K06', 'MES']\n",
      "Processing 8Q61 Cc1cc(-c2cn(CCN3CCC3)c(C3CCN(c4ncnc(N)c4Br)CC3)n2)ccc1F GOL\n",
      "Processing 8Q61 Cc1cc(-c2cn(CCN3CCC3)c(C3CCN(c4ncnc(N)c4Br)CC3)n2)ccc1F PO4\n",
      "Processing 8Q61 Cc1cc(-c2cn(CCN3CCC3)c(C3CCN(c4ncnc(N)c4Br)CC3)n2)ccc1F K06\n",
      "Processing 8Q61 Cc1cc(-c2cn(CCN3CCC3)c(C3CCN(c4ncnc(N)c4Br)CC3)n2)ccc1F MES\n"
     ]
    },
    {
     "name": "stderr",
     "output_type": "stream",
     "text": [
      "==============================\n",
      "*** Open Babel Warning  in PerceiveBondOrders\n",
      "  Failed to kekulize aromatic bonds in OBMol::PerceiveBondOrders (title is /Users/wangyang/Desktop/Liver_cancer/16-AIDD/07_molecular_docking/data/data_8Q61/protein.pdb)\n",
      "\n"
     ]
    },
    {
     "name": "stdout",
     "output_type": "stream",
     "text": [
      "8Q61 - Detected Ligands: ['GOL', 'PO4', 'K06', 'MES']\n",
      "Processing 8Q61 CC(C)c1cc(-c2cn(CCN3CCC3)c(C3CCN(c4ncnc(N)c4Br)CC3)n2)ccn1 GOL\n",
      "Processing 8Q61 CC(C)c1cc(-c2cn(CCN3CCC3)c(C3CCN(c4ncnc(N)c4Br)CC3)n2)ccn1 PO4\n",
      "Processing 8Q61 CC(C)c1cc(-c2cn(CCN3CCC3)c(C3CCN(c4ncnc(N)c4Br)CC3)n2)ccn1 K06\n",
      "Processing 8Q61 CC(C)c1cc(-c2cn(CCN3CCC3)c(C3CCN(c4ncnc(N)c4Br)CC3)n2)ccn1 MES\n"
     ]
    },
    {
     "name": "stderr",
     "output_type": "stream",
     "text": [
      "==============================\n",
      "*** Open Babel Warning  in PerceiveBondOrders\n",
      "  Failed to kekulize aromatic bonds in OBMol::PerceiveBondOrders (title is /Users/wangyang/Desktop/Liver_cancer/16-AIDD/07_molecular_docking/data/data_8Q61/protein.pdb)\n",
      "\n"
     ]
    },
    {
     "name": "stdout",
     "output_type": "stream",
     "text": [
      "8Q61 - Detected Ligands: ['GOL', 'PO4', 'K06', 'MES']\n",
      "Processing 8Q61 Cc1n[nH]c2ccc(-c3cncc(OC[C@@H](N)Cc4c[nH]c5ccccc45)c3)cc12 GOL\n",
      "Processing 8Q61 Cc1n[nH]c2ccc(-c3cncc(OC[C@@H](N)Cc4c[nH]c5ccccc45)c3)cc12 PO4\n",
      "Processing 8Q61 Cc1n[nH]c2ccc(-c3cncc(OC[C@@H](N)Cc4c[nH]c5ccccc45)c3)cc12 K06\n",
      "Processing 8Q61 Cc1n[nH]c2ccc(-c3cncc(OC[C@@H](N)Cc4c[nH]c5ccccc45)c3)cc12 MES\n"
     ]
    },
    {
     "name": "stderr",
     "output_type": "stream",
     "text": [
      "==============================\n",
      "*** Open Babel Warning  in PerceiveBondOrders\n",
      "  Failed to kekulize aromatic bonds in OBMol::PerceiveBondOrders (title is /Users/wangyang/Desktop/Liver_cancer/16-AIDD/07_molecular_docking/data/data_8Q61/protein.pdb)\n",
      "\n"
     ]
    },
    {
     "name": "stdout",
     "output_type": "stream",
     "text": [
      "8Q61 - Detected Ligands: ['GOL', 'PO4', 'K06', 'MES']\n",
      "Processing 8Q61 N[C@H](COc1cncc(-c2ccc3c(c2)C(c2ccco2)C(=O)N3)c1)Cc1c[nH]c2ccccc12 GOL\n",
      "Processing 8Q61 N[C@H](COc1cncc(-c2ccc3c(c2)C(c2ccco2)C(=O)N3)c1)Cc1c[nH]c2ccccc12 PO4\n",
      "Processing 8Q61 N[C@H](COc1cncc(-c2ccc3c(c2)C(c2ccco2)C(=O)N3)c1)Cc1c[nH]c2ccccc12 K06\n",
      "Processing 8Q61 N[C@H](COc1cncc(-c2ccc3c(c2)C(c2ccco2)C(=O)N3)c1)Cc1c[nH]c2ccccc12 MES\n"
     ]
    },
    {
     "name": "stderr",
     "output_type": "stream",
     "text": [
      "==============================\n",
      "*** Open Babel Warning  in PerceiveBondOrders\n",
      "  Failed to kekulize aromatic bonds in OBMol::PerceiveBondOrders (title is /Users/wangyang/Desktop/Liver_cancer/16-AIDD/07_molecular_docking/data/data_8Q61/protein.pdb)\n",
      "\n"
     ]
    },
    {
     "name": "stdout",
     "output_type": "stream",
     "text": [
      "8Q61 - Detected Ligands: ['GOL', 'PO4', 'K06', 'MES']\n",
      "Processing 8Q61 CC1(O)CC(N)(c2ccc(-c3nc4n(c3-c3ccccc3)COc3ccc(C(N)=O)cc3-4)cc2)C1 GOL\n",
      "Processing 8Q61 CC1(O)CC(N)(c2ccc(-c3nc4n(c3-c3ccccc3)COc3ccc(C(N)=O)cc3-4)cc2)C1 PO4\n",
      "Processing 8Q61 CC1(O)CC(N)(c2ccc(-c3nc4n(c3-c3ccccc3)COc3ccc(C(N)=O)cc3-4)cc2)C1 K06\n",
      "Processing 8Q61 CC1(O)CC(N)(c2ccc(-c3nc4n(c3-c3ccccc3)COc3ccc(C(N)=O)cc3-4)cc2)C1 MES\n"
     ]
    },
    {
     "name": "stderr",
     "output_type": "stream",
     "text": [
      "==============================\n",
      "*** Open Babel Warning  in PerceiveBondOrders\n",
      "  Failed to kekulize aromatic bonds in OBMol::PerceiveBondOrders (title is /Users/wangyang/Desktop/Liver_cancer/16-AIDD/07_molecular_docking/data/data_8Q61/protein.pdb)\n",
      "\n"
     ]
    },
    {
     "name": "stdout",
     "output_type": "stream",
     "text": [
      "8Q61 - Detected Ligands: ['GOL', 'PO4', 'K06', 'MES']\n",
      "Processing 8Q61 CNC(=O)c1ccc2c(c1)-c1nc(-c3ccc(C4(N)CC(C)(O)C4)cc3)c(-c3ccccc3)n1CO2 GOL\n",
      "Processing 8Q61 CNC(=O)c1ccc2c(c1)-c1nc(-c3ccc(C4(N)CC(C)(O)C4)cc3)c(-c3ccccc3)n1CO2 PO4\n",
      "Processing 8Q61 CNC(=O)c1ccc2c(c1)-c1nc(-c3ccc(C4(N)CC(C)(O)C4)cc3)c(-c3ccccc3)n1CO2 K06\n",
      "Processing 8Q61 CNC(=O)c1ccc2c(c1)-c1nc(-c3ccc(C4(N)CC(C)(O)C4)cc3)c(-c3ccccc3)n1CO2 MES\n"
     ]
    },
    {
     "name": "stderr",
     "output_type": "stream",
     "text": [
      "==============================\n",
      "*** Open Babel Warning  in PerceiveBondOrders\n",
      "  Failed to kekulize aromatic bonds in OBMol::PerceiveBondOrders (title is /Users/wangyang/Desktop/Liver_cancer/16-AIDD/07_molecular_docking/data/data_8Q61/protein.pdb)\n",
      "\n"
     ]
    },
    {
     "name": "stdout",
     "output_type": "stream",
     "text": [
      "8Q61 - Detected Ligands: ['GOL', 'PO4', 'K06', 'MES']\n",
      "Processing 8Q61 NC1(c2ccc(-c3nc4n(c3-c3ccccc3)COc3cccc(F)c3-4)cc2)CC(O)(C2CC2)C1 GOL\n",
      "Processing 8Q61 NC1(c2ccc(-c3nc4n(c3-c3ccccc3)COc3cccc(F)c3-4)cc2)CC(O)(C2CC2)C1 PO4\n",
      "Processing 8Q61 NC1(c2ccc(-c3nc4n(c3-c3ccccc3)COc3cccc(F)c3-4)cc2)CC(O)(C2CC2)C1 K06\n",
      "Processing 8Q61 NC1(c2ccc(-c3nc4n(c3-c3ccccc3)COc3cccc(F)c3-4)cc2)CC(O)(C2CC2)C1 MES\n"
     ]
    },
    {
     "name": "stderr",
     "output_type": "stream",
     "text": [
      "==============================\n",
      "*** Open Babel Warning  in PerceiveBondOrders\n",
      "  Failed to kekulize aromatic bonds in OBMol::PerceiveBondOrders (title is /Users/wangyang/Desktop/Liver_cancer/16-AIDD/07_molecular_docking/data/data_8Q61/protein.pdb)\n",
      "\n"
     ]
    },
    {
     "name": "stdout",
     "output_type": "stream",
     "text": [
      "8Q61 - Detected Ligands: ['GOL', 'PO4', 'K06', 'MES']\n",
      "Processing 8Q61 NC1(c2ccc(-c3nc4n(c3-c3ccccc3)COc3cccc(Cl)c3-4)cc2)CC(O)(C2CC2)C1 GOL\n",
      "Processing 8Q61 NC1(c2ccc(-c3nc4n(c3-c3ccccc3)COc3cccc(Cl)c3-4)cc2)CC(O)(C2CC2)C1 PO4\n",
      "Processing 8Q61 NC1(c2ccc(-c3nc4n(c3-c3ccccc3)COc3cccc(Cl)c3-4)cc2)CC(O)(C2CC2)C1 K06\n",
      "Processing 8Q61 NC1(c2ccc(-c3nc4n(c3-c3ccccc3)COc3cccc(Cl)c3-4)cc2)CC(O)(C2CC2)C1 MES\n"
     ]
    },
    {
     "name": "stderr",
     "output_type": "stream",
     "text": [
      "==============================\n",
      "*** Open Babel Warning  in PerceiveBondOrders\n",
      "  Failed to kekulize aromatic bonds in OBMol::PerceiveBondOrders (title is /Users/wangyang/Desktop/Liver_cancer/16-AIDD/07_molecular_docking/data/data_8Q61/protein.pdb)\n",
      "\n"
     ]
    },
    {
     "name": "stdout",
     "output_type": "stream",
     "text": [
      "8Q61 - Detected Ligands: ['GOL', 'PO4', 'K06', 'MES']\n",
      "Processing 8Q61 CCc1c(N)ncnc1N1CCC(c2nc(-c3ccc(F)c(C)c3)cn2CC2CN(C)C2)CC1 GOL\n",
      "Processing 8Q61 CCc1c(N)ncnc1N1CCC(c2nc(-c3ccc(F)c(C)c3)cn2CC2CN(C)C2)CC1 PO4\n",
      "Processing 8Q61 CCc1c(N)ncnc1N1CCC(c2nc(-c3ccc(F)c(C)c3)cn2CC2CN(C)C2)CC1 K06\n",
      "Processing 8Q61 CCc1c(N)ncnc1N1CCC(c2nc(-c3ccc(F)c(C)c3)cn2CC2CN(C)C2)CC1 MES\n"
     ]
    },
    {
     "name": "stderr",
     "output_type": "stream",
     "text": [
      "==============================\n",
      "*** Open Babel Warning  in PerceiveBondOrders\n",
      "  Failed to kekulize aromatic bonds in OBMol::PerceiveBondOrders (title is /Users/wangyang/Desktop/Liver_cancer/16-AIDD/07_molecular_docking/data/data_8Q61/protein.pdb)\n",
      "\n"
     ]
    },
    {
     "name": "stdout",
     "output_type": "stream",
     "text": [
      "8Q61 - Detected Ligands: ['GOL', 'PO4', 'K06', 'MES']\n",
      "Processing 8Q61 CCNC(=O)c1ccc2c(c1)-c1nc(-c3ccc(C4(N)CC(C)(O)C4)cc3)c(-c3ccccc3)n1CO2 GOL\n",
      "Processing 8Q61 CCNC(=O)c1ccc2c(c1)-c1nc(-c3ccc(C4(N)CC(C)(O)C4)cc3)c(-c3ccccc3)n1CO2 PO4\n",
      "Processing 8Q61 CCNC(=O)c1ccc2c(c1)-c1nc(-c3ccc(C4(N)CC(C)(O)C4)cc3)c(-c3ccccc3)n1CO2 K06\n",
      "Processing 8Q61 CCNC(=O)c1ccc2c(c1)-c1nc(-c3ccc(C4(N)CC(C)(O)C4)cc3)c(-c3ccccc3)n1CO2 MES\n"
     ]
    },
    {
     "name": "stderr",
     "output_type": "stream",
     "text": [
      "==============================\n",
      "*** Open Babel Warning  in PerceiveBondOrders\n",
      "  Failed to kekulize aromatic bonds in OBMol::PerceiveBondOrders (title is /Users/wangyang/Desktop/Liver_cancer/16-AIDD/07_molecular_docking/data/data_8Q61/protein.pdb)\n",
      "\n"
     ]
    },
    {
     "name": "stdout",
     "output_type": "stream",
     "text": [
      "8Q61 - Detected Ligands: ['GOL', 'PO4', 'K06', 'MES']\n",
      "Processing 8Q61 CC1(O)CC(N)(c2ccc(-c3nc4n(c3-c3ccccc3)COc3ccc(-c5ccn[nH]5)cc3-4)cc2)C1 GOL\n",
      "Processing 8Q61 CC1(O)CC(N)(c2ccc(-c3nc4n(c3-c3ccccc3)COc3ccc(-c5ccn[nH]5)cc3-4)cc2)C1 PO4\n",
      "Processing 8Q61 CC1(O)CC(N)(c2ccc(-c3nc4n(c3-c3ccccc3)COc3ccc(-c5ccn[nH]5)cc3-4)cc2)C1 K06\n",
      "Processing 8Q61 CC1(O)CC(N)(c2ccc(-c3nc4n(c3-c3ccccc3)COc3ccc(-c5ccn[nH]5)cc3-4)cc2)C1 MES\n"
     ]
    },
    {
     "name": "stderr",
     "output_type": "stream",
     "text": [
      "==============================\n",
      "*** Open Babel Warning  in PerceiveBondOrders\n",
      "  Failed to kekulize aromatic bonds in OBMol::PerceiveBondOrders (title is /Users/wangyang/Desktop/Liver_cancer/16-AIDD/07_molecular_docking/data/data_8Q61/protein.pdb)\n",
      "\n"
     ]
    },
    {
     "name": "stdout",
     "output_type": "stream",
     "text": [
      "8Q61 - Detected Ligands: ['GOL', 'PO4', 'K06', 'MES']\n",
      "Processing 8Q61 N[C@]1(c2ccc(-c3nc4ccc5nnc(C(F)F)n5c4cc3-c3ccccc3)cc2)C[C@](O)(C2CC2)C1 GOL\n",
      "Processing 8Q61 N[C@]1(c2ccc(-c3nc4ccc5nnc(C(F)F)n5c4cc3-c3ccccc3)cc2)C[C@](O)(C2CC2)C1 PO4\n",
      "Processing 8Q61 N[C@]1(c2ccc(-c3nc4ccc5nnc(C(F)F)n5c4cc3-c3ccccc3)cc2)C[C@](O)(C2CC2)C1 K06\n",
      "Processing 8Q61 N[C@]1(c2ccc(-c3nc4ccc5nnc(C(F)F)n5c4cc3-c3ccccc3)cc2)C[C@](O)(C2CC2)C1 MES\n"
     ]
    },
    {
     "name": "stderr",
     "output_type": "stream",
     "text": [
      "==============================\n",
      "*** Open Babel Warning  in PerceiveBondOrders\n",
      "  Failed to kekulize aromatic bonds in OBMol::PerceiveBondOrders (title is /Users/wangyang/Desktop/Liver_cancer/16-AIDD/07_molecular_docking/data/data_8Q61/protein.pdb)\n",
      "\n"
     ]
    },
    {
     "name": "stdout",
     "output_type": "stream",
     "text": [
      "8Q61 - Detected Ligands: ['GOL', 'PO4', 'K06', 'MES']\n",
      "Processing 8Q61 Cc1n[nH]c2cnc(-c3cncc(OC[C@@H](N)Cc4c[nH]c5ccccc45)c3)cc12 GOL\n",
      "Processing 8Q61 Cc1n[nH]c2cnc(-c3cncc(OC[C@@H](N)Cc4c[nH]c5ccccc45)c3)cc12 PO4\n",
      "Processing 8Q61 Cc1n[nH]c2cnc(-c3cncc(OC[C@@H](N)Cc4c[nH]c5ccccc45)c3)cc12 K06\n",
      "Processing 8Q61 Cc1n[nH]c2cnc(-c3cncc(OC[C@@H](N)Cc4c[nH]c5ccccc45)c3)cc12 MES\n"
     ]
    },
    {
     "name": "stderr",
     "output_type": "stream",
     "text": [
      "==============================\n",
      "*** Open Babel Warning  in PerceiveBondOrders\n",
      "  Failed to kekulize aromatic bonds in OBMol::PerceiveBondOrders (title is /Users/wangyang/Desktop/Liver_cancer/16-AIDD/07_molecular_docking/data/data_8Q61/protein.pdb)\n",
      "\n"
     ]
    },
    {
     "name": "stdout",
     "output_type": "stream",
     "text": [
      "8Q61 - Detected Ligands: ['GOL', 'PO4', 'K06', 'MES']\n",
      "Processing 8Q61 COc1cccc2c1-c1nc(-c3ccc(C4(N)CC(O)(C5CC5)C4)cc3)c(-c3ccccc3)n1CO2 GOL\n",
      "Processing 8Q61 COc1cccc2c1-c1nc(-c3ccc(C4(N)CC(O)(C5CC5)C4)cc3)c(-c3ccccc3)n1CO2 PO4\n",
      "Processing 8Q61 COc1cccc2c1-c1nc(-c3ccc(C4(N)CC(O)(C5CC5)C4)cc3)c(-c3ccccc3)n1CO2 K06\n",
      "Processing 8Q61 COc1cccc2c1-c1nc(-c3ccc(C4(N)CC(O)(C5CC5)C4)cc3)c(-c3ccccc3)n1CO2 MES\n"
     ]
    },
    {
     "name": "stderr",
     "output_type": "stream",
     "text": [
      "==============================\n",
      "*** Open Babel Warning  in PerceiveBondOrders\n",
      "  Failed to kekulize aromatic bonds in OBMol::PerceiveBondOrders (title is /Users/wangyang/Desktop/Liver_cancer/16-AIDD/07_molecular_docking/data/data_8Q61/protein.pdb)\n",
      "\n"
     ]
    },
    {
     "name": "stdout",
     "output_type": "stream",
     "text": [
      "8Q61 - Detected Ligands: ['GOL', 'PO4', 'K06', 'MES']\n",
      "Processing 8Q61 C[C@]1(O)C[C@@](N)(c2ccc(-c3nc4ccc5nnc(C(F)F)n5c4cc3-c3ccccc3)cc2)C1 GOL\n",
      "Processing 8Q61 C[C@]1(O)C[C@@](N)(c2ccc(-c3nc4ccc5nnc(C(F)F)n5c4cc3-c3ccccc3)cc2)C1 PO4\n",
      "Processing 8Q61 C[C@]1(O)C[C@@](N)(c2ccc(-c3nc4ccc5nnc(C(F)F)n5c4cc3-c3ccccc3)cc2)C1 K06\n",
      "Processing 8Q61 C[C@]1(O)C[C@@](N)(c2ccc(-c3nc4ccc5nnc(C(F)F)n5c4cc3-c3ccccc3)cc2)C1 MES\n"
     ]
    },
    {
     "name": "stderr",
     "output_type": "stream",
     "text": [
      "==============================\n",
      "*** Open Babel Warning  in PerceiveBondOrders\n",
      "  Failed to kekulize aromatic bonds in OBMol::PerceiveBondOrders (title is /Users/wangyang/Desktop/Liver_cancer/16-AIDD/07_molecular_docking/data/data_8Q61/protein.pdb)\n",
      "\n"
     ]
    },
    {
     "name": "stdout",
     "output_type": "stream",
     "text": [
      "8Q61 - Detected Ligands: ['GOL', 'PO4', 'K06', 'MES']\n",
      "Processing 8Q61 CC1(O)CC(N)(c2ccc(-c3nc4n(c3-c3ccccc3)COc3cc(C(N)=O)ccc3-4)cc2)C1 GOL\n",
      "Processing 8Q61 CC1(O)CC(N)(c2ccc(-c3nc4n(c3-c3ccccc3)COc3cc(C(N)=O)ccc3-4)cc2)C1 PO4\n",
      "Processing 8Q61 CC1(O)CC(N)(c2ccc(-c3nc4n(c3-c3ccccc3)COc3cc(C(N)=O)ccc3-4)cc2)C1 K06\n",
      "Processing 8Q61 CC1(O)CC(N)(c2ccc(-c3nc4n(c3-c3ccccc3)COc3cc(C(N)=O)ccc3-4)cc2)C1 MES\n"
     ]
    },
    {
     "name": "stderr",
     "output_type": "stream",
     "text": [
      "==============================\n",
      "*** Open Babel Warning  in PerceiveBondOrders\n",
      "  Failed to kekulize aromatic bonds in OBMol::PerceiveBondOrders (title is /Users/wangyang/Desktop/Liver_cancer/16-AIDD/07_molecular_docking/data/data_8Q61/protein.pdb)\n",
      "\n"
     ]
    },
    {
     "name": "stdout",
     "output_type": "stream",
     "text": [
      "8Q61 - Detected Ligands: ['GOL', 'PO4', 'K06', 'MES']\n",
      "Processing 8Q61 CC(C)NC[C@@H](C(=O)N1CCN(c2ncnc3c2[C@H](C)CC(=O)N3)[C@H]2C[C@H]21)c1ccc(Cl)cc1 GOL\n",
      "Processing 8Q61 CC(C)NC[C@@H](C(=O)N1CCN(c2ncnc3c2[C@H](C)CC(=O)N3)[C@H]2C[C@H]21)c1ccc(Cl)cc1 PO4\n",
      "Processing 8Q61 CC(C)NC[C@@H](C(=O)N1CCN(c2ncnc3c2[C@H](C)CC(=O)N3)[C@H]2C[C@H]21)c1ccc(Cl)cc1 K06\n",
      "Processing 8Q61 CC(C)NC[C@@H](C(=O)N1CCN(c2ncnc3c2[C@H](C)CC(=O)N3)[C@H]2C[C@H]21)c1ccc(Cl)cc1 MES\n"
     ]
    },
    {
     "name": "stderr",
     "output_type": "stream",
     "text": [
      "==============================\n",
      "*** Open Babel Warning  in PerceiveBondOrders\n",
      "  Failed to kekulize aromatic bonds in OBMol::PerceiveBondOrders (title is /Users/wangyang/Desktop/Liver_cancer/16-AIDD/07_molecular_docking/data/data_8Q61/protein.pdb)\n",
      "\n"
     ]
    },
    {
     "name": "stdout",
     "output_type": "stream",
     "text": [
      "8Q61 - Detected Ligands: ['GOL', 'PO4', 'K06', 'MES']\n",
      "Processing 8Q61 CCc1c(N)ncnc1N1CCC(c2nc(-c3ccc(F)c(Cl)c3)cn2CCN2CCCC2)CC1 GOL\n",
      "Processing 8Q61 CCc1c(N)ncnc1N1CCC(c2nc(-c3ccc(F)c(Cl)c3)cn2CCN2CCCC2)CC1 PO4\n",
      "Processing 8Q61 CCc1c(N)ncnc1N1CCC(c2nc(-c3ccc(F)c(Cl)c3)cn2CCN2CCCC2)CC1 K06\n",
      "Processing 8Q61 CCc1c(N)ncnc1N1CCC(c2nc(-c3ccc(F)c(Cl)c3)cn2CCN2CCCC2)CC1 MES\n"
     ]
    },
    {
     "name": "stderr",
     "output_type": "stream",
     "text": [
      "==============================\n",
      "*** Open Babel Warning  in PerceiveBondOrders\n",
      "  Failed to kekulize aromatic bonds in OBMol::PerceiveBondOrders (title is /Users/wangyang/Desktop/Liver_cancer/16-AIDD/07_molecular_docking/data/data_8Q61/protein.pdb)\n",
      "\n"
     ]
    },
    {
     "name": "stdout",
     "output_type": "stream",
     "text": [
      "8Q61 - Detected Ligands: ['GOL', 'PO4', 'K06', 'MES']\n",
      "Processing 8Q61 CC1(O)CC(N)(c2ccc(-c3nc4n(c3-c3ccccc3)COc3ccc(-c5cn[nH]c5)cc3-4)cc2)C1 GOL\n",
      "Processing 8Q61 CC1(O)CC(N)(c2ccc(-c3nc4n(c3-c3ccccc3)COc3ccc(-c5cn[nH]c5)cc3-4)cc2)C1 PO4\n",
      "Processing 8Q61 CC1(O)CC(N)(c2ccc(-c3nc4n(c3-c3ccccc3)COc3ccc(-c5cn[nH]c5)cc3-4)cc2)C1 K06\n",
      "Processing 8Q61 CC1(O)CC(N)(c2ccc(-c3nc4n(c3-c3ccccc3)COc3ccc(-c5cn[nH]c5)cc3-4)cc2)C1 MES\n"
     ]
    },
    {
     "name": "stderr",
     "output_type": "stream",
     "text": [
      "==============================\n",
      "*** Open Babel Warning  in PerceiveBondOrders\n",
      "  Failed to kekulize aromatic bonds in OBMol::PerceiveBondOrders (title is /Users/wangyang/Desktop/Liver_cancer/16-AIDD/07_molecular_docking/data/data_8Q61/protein.pdb)\n",
      "\n"
     ]
    },
    {
     "name": "stdout",
     "output_type": "stream",
     "text": [
      "8Q61 - Detected Ligands: ['GOL', 'PO4', 'K06', 'MES']\n",
      "Processing 8Q61 NC1(c2ccc(-c3nc4n(c3-c3ccccc3)COc3cnccc3-4)cc2)CC(O)(C2CC2)C1 GOL\n",
      "Processing 8Q61 NC1(c2ccc(-c3nc4n(c3-c3ccccc3)COc3cnccc3-4)cc2)CC(O)(C2CC2)C1 PO4\n",
      "Processing 8Q61 NC1(c2ccc(-c3nc4n(c3-c3ccccc3)COc3cnccc3-4)cc2)CC(O)(C2CC2)C1 K06\n",
      "Processing 8Q61 NC1(c2ccc(-c3nc4n(c3-c3ccccc3)COc3cnccc3-4)cc2)CC(O)(C2CC2)C1 MES\n",
      "9C1W 文件不存在，正在下载...\n",
      "9C1W 下载成功.\n"
     ]
    },
    {
     "name": "stderr",
     "output_type": "stream",
     "text": [
      "==============================\n",
      "*** Open Babel Warning  in PerceiveBondOrders\n",
      "  Failed to kekulize aromatic bonds in OBMol::PerceiveBondOrders (title is /Users/wangyang/Desktop/Liver_cancer/16-AIDD/07_molecular_docking/data/data_9C1W/protein.pdb)\n",
      "\n"
     ]
    },
    {
     "name": "stdout",
     "output_type": "stream",
     "text": [
      "9C1W - Detected Ligands: ['EDO', 'XOO']\n",
      "Processing 9C1W Cc1cc(-c2cn(CCN3CCC3)c(C3CCN(c4ncnc(N)c4Br)CC3)n2)ccc1F EDO\n",
      "Processing 9C1W Cc1cc(-c2cn(CCN3CCC3)c(C3CCN(c4ncnc(N)c4Br)CC3)n2)ccc1F XOO\n"
     ]
    },
    {
     "name": "stderr",
     "output_type": "stream",
     "text": [
      "==============================\n",
      "*** Open Babel Warning  in PerceiveBondOrders\n",
      "  Failed to kekulize aromatic bonds in OBMol::PerceiveBondOrders (title is /Users/wangyang/Desktop/Liver_cancer/16-AIDD/07_molecular_docking/data/data_9C1W/protein.pdb)\n",
      "\n"
     ]
    },
    {
     "name": "stdout",
     "output_type": "stream",
     "text": [
      "9C1W - Detected Ligands: ['EDO', 'XOO']\n",
      "Processing 9C1W CC(C)c1cc(-c2cn(CCN3CCC3)c(C3CCN(c4ncnc(N)c4Br)CC3)n2)ccn1 EDO\n",
      "Processing 9C1W CC(C)c1cc(-c2cn(CCN3CCC3)c(C3CCN(c4ncnc(N)c4Br)CC3)n2)ccn1 XOO\n"
     ]
    },
    {
     "name": "stderr",
     "output_type": "stream",
     "text": [
      "==============================\n",
      "*** Open Babel Warning  in PerceiveBondOrders\n",
      "  Failed to kekulize aromatic bonds in OBMol::PerceiveBondOrders (title is /Users/wangyang/Desktop/Liver_cancer/16-AIDD/07_molecular_docking/data/data_9C1W/protein.pdb)\n",
      "\n"
     ]
    },
    {
     "name": "stdout",
     "output_type": "stream",
     "text": [
      "9C1W - Detected Ligands: ['EDO', 'XOO']\n",
      "Processing 9C1W Cc1n[nH]c2ccc(-c3cncc(OC[C@@H](N)Cc4c[nH]c5ccccc45)c3)cc12 EDO\n",
      "Processing 9C1W Cc1n[nH]c2ccc(-c3cncc(OC[C@@H](N)Cc4c[nH]c5ccccc45)c3)cc12 XOO\n"
     ]
    },
    {
     "name": "stderr",
     "output_type": "stream",
     "text": [
      "==============================\n",
      "*** Open Babel Warning  in PerceiveBondOrders\n",
      "  Failed to kekulize aromatic bonds in OBMol::PerceiveBondOrders (title is /Users/wangyang/Desktop/Liver_cancer/16-AIDD/07_molecular_docking/data/data_9C1W/protein.pdb)\n",
      "\n"
     ]
    },
    {
     "name": "stdout",
     "output_type": "stream",
     "text": [
      "9C1W - Detected Ligands: ['EDO', 'XOO']\n",
      "Processing 9C1W N[C@H](COc1cncc(-c2ccc3c(c2)C(c2ccco2)C(=O)N3)c1)Cc1c[nH]c2ccccc12 EDO\n",
      "Processing 9C1W N[C@H](COc1cncc(-c2ccc3c(c2)C(c2ccco2)C(=O)N3)c1)Cc1c[nH]c2ccccc12 XOO\n"
     ]
    },
    {
     "name": "stderr",
     "output_type": "stream",
     "text": [
      "==============================\n",
      "*** Open Babel Warning  in PerceiveBondOrders\n",
      "  Failed to kekulize aromatic bonds in OBMol::PerceiveBondOrders (title is /Users/wangyang/Desktop/Liver_cancer/16-AIDD/07_molecular_docking/data/data_9C1W/protein.pdb)\n",
      "\n"
     ]
    },
    {
     "name": "stdout",
     "output_type": "stream",
     "text": [
      "9C1W - Detected Ligands: ['EDO', 'XOO']\n",
      "Processing 9C1W CC1(O)CC(N)(c2ccc(-c3nc4n(c3-c3ccccc3)COc3ccc(C(N)=O)cc3-4)cc2)C1 EDO\n",
      "Processing 9C1W CC1(O)CC(N)(c2ccc(-c3nc4n(c3-c3ccccc3)COc3ccc(C(N)=O)cc3-4)cc2)C1 XOO\n"
     ]
    },
    {
     "name": "stderr",
     "output_type": "stream",
     "text": [
      "==============================\n",
      "*** Open Babel Warning  in PerceiveBondOrders\n",
      "  Failed to kekulize aromatic bonds in OBMol::PerceiveBondOrders (title is /Users/wangyang/Desktop/Liver_cancer/16-AIDD/07_molecular_docking/data/data_9C1W/protein.pdb)\n",
      "\n"
     ]
    },
    {
     "name": "stdout",
     "output_type": "stream",
     "text": [
      "9C1W - Detected Ligands: ['EDO', 'XOO']\n",
      "Processing 9C1W CNC(=O)c1ccc2c(c1)-c1nc(-c3ccc(C4(N)CC(C)(O)C4)cc3)c(-c3ccccc3)n1CO2 EDO\n",
      "Processing 9C1W CNC(=O)c1ccc2c(c1)-c1nc(-c3ccc(C4(N)CC(C)(O)C4)cc3)c(-c3ccccc3)n1CO2 XOO\n"
     ]
    },
    {
     "name": "stderr",
     "output_type": "stream",
     "text": [
      "==============================\n",
      "*** Open Babel Warning  in PerceiveBondOrders\n",
      "  Failed to kekulize aromatic bonds in OBMol::PerceiveBondOrders (title is /Users/wangyang/Desktop/Liver_cancer/16-AIDD/07_molecular_docking/data/data_9C1W/protein.pdb)\n",
      "\n"
     ]
    },
    {
     "name": "stdout",
     "output_type": "stream",
     "text": [
      "9C1W - Detected Ligands: ['EDO', 'XOO']\n",
      "Processing 9C1W NC1(c2ccc(-c3nc4n(c3-c3ccccc3)COc3cccc(F)c3-4)cc2)CC(O)(C2CC2)C1 EDO\n",
      "Processing 9C1W NC1(c2ccc(-c3nc4n(c3-c3ccccc3)COc3cccc(F)c3-4)cc2)CC(O)(C2CC2)C1 XOO\n"
     ]
    },
    {
     "name": "stderr",
     "output_type": "stream",
     "text": [
      "==============================\n",
      "*** Open Babel Warning  in PerceiveBondOrders\n",
      "  Failed to kekulize aromatic bonds in OBMol::PerceiveBondOrders (title is /Users/wangyang/Desktop/Liver_cancer/16-AIDD/07_molecular_docking/data/data_9C1W/protein.pdb)\n",
      "\n"
     ]
    },
    {
     "name": "stdout",
     "output_type": "stream",
     "text": [
      "9C1W - Detected Ligands: ['EDO', 'XOO']\n",
      "Processing 9C1W NC1(c2ccc(-c3nc4n(c3-c3ccccc3)COc3cccc(Cl)c3-4)cc2)CC(O)(C2CC2)C1 EDO\n",
      "Processing 9C1W NC1(c2ccc(-c3nc4n(c3-c3ccccc3)COc3cccc(Cl)c3-4)cc2)CC(O)(C2CC2)C1 XOO\n"
     ]
    },
    {
     "name": "stderr",
     "output_type": "stream",
     "text": [
      "==============================\n",
      "*** Open Babel Warning  in PerceiveBondOrders\n",
      "  Failed to kekulize aromatic bonds in OBMol::PerceiveBondOrders (title is /Users/wangyang/Desktop/Liver_cancer/16-AIDD/07_molecular_docking/data/data_9C1W/protein.pdb)\n",
      "\n"
     ]
    },
    {
     "name": "stdout",
     "output_type": "stream",
     "text": [
      "9C1W - Detected Ligands: ['EDO', 'XOO']\n",
      "Processing 9C1W CCc1c(N)ncnc1N1CCC(c2nc(-c3ccc(F)c(C)c3)cn2CC2CN(C)C2)CC1 EDO\n",
      "Processing 9C1W CCc1c(N)ncnc1N1CCC(c2nc(-c3ccc(F)c(C)c3)cn2CC2CN(C)C2)CC1 XOO\n"
     ]
    },
    {
     "name": "stderr",
     "output_type": "stream",
     "text": [
      "==============================\n",
      "*** Open Babel Warning  in PerceiveBondOrders\n",
      "  Failed to kekulize aromatic bonds in OBMol::PerceiveBondOrders (title is /Users/wangyang/Desktop/Liver_cancer/16-AIDD/07_molecular_docking/data/data_9C1W/protein.pdb)\n",
      "\n"
     ]
    },
    {
     "name": "stdout",
     "output_type": "stream",
     "text": [
      "9C1W - Detected Ligands: ['EDO', 'XOO']\n",
      "Processing 9C1W CCNC(=O)c1ccc2c(c1)-c1nc(-c3ccc(C4(N)CC(C)(O)C4)cc3)c(-c3ccccc3)n1CO2 EDO\n",
      "Processing 9C1W CCNC(=O)c1ccc2c(c1)-c1nc(-c3ccc(C4(N)CC(C)(O)C4)cc3)c(-c3ccccc3)n1CO2 XOO\n"
     ]
    },
    {
     "name": "stderr",
     "output_type": "stream",
     "text": [
      "==============================\n",
      "*** Open Babel Warning  in PerceiveBondOrders\n",
      "  Failed to kekulize aromatic bonds in OBMol::PerceiveBondOrders (title is /Users/wangyang/Desktop/Liver_cancer/16-AIDD/07_molecular_docking/data/data_9C1W/protein.pdb)\n",
      "\n"
     ]
    },
    {
     "name": "stdout",
     "output_type": "stream",
     "text": [
      "9C1W - Detected Ligands: ['EDO', 'XOO']\n",
      "Processing 9C1W CC1(O)CC(N)(c2ccc(-c3nc4n(c3-c3ccccc3)COc3ccc(-c5ccn[nH]5)cc3-4)cc2)C1 EDO\n",
      "Processing 9C1W CC1(O)CC(N)(c2ccc(-c3nc4n(c3-c3ccccc3)COc3ccc(-c5ccn[nH]5)cc3-4)cc2)C1 XOO\n"
     ]
    },
    {
     "name": "stderr",
     "output_type": "stream",
     "text": [
      "==============================\n",
      "*** Open Babel Warning  in PerceiveBondOrders\n",
      "  Failed to kekulize aromatic bonds in OBMol::PerceiveBondOrders (title is /Users/wangyang/Desktop/Liver_cancer/16-AIDD/07_molecular_docking/data/data_9C1W/protein.pdb)\n",
      "\n"
     ]
    },
    {
     "name": "stdout",
     "output_type": "stream",
     "text": [
      "9C1W - Detected Ligands: ['EDO', 'XOO']\n",
      "Processing 9C1W N[C@]1(c2ccc(-c3nc4ccc5nnc(C(F)F)n5c4cc3-c3ccccc3)cc2)C[C@](O)(C2CC2)C1 EDO\n",
      "Processing 9C1W N[C@]1(c2ccc(-c3nc4ccc5nnc(C(F)F)n5c4cc3-c3ccccc3)cc2)C[C@](O)(C2CC2)C1 XOO\n"
     ]
    },
    {
     "name": "stderr",
     "output_type": "stream",
     "text": [
      "==============================\n",
      "*** Open Babel Warning  in PerceiveBondOrders\n",
      "  Failed to kekulize aromatic bonds in OBMol::PerceiveBondOrders (title is /Users/wangyang/Desktop/Liver_cancer/16-AIDD/07_molecular_docking/data/data_9C1W/protein.pdb)\n",
      "\n"
     ]
    },
    {
     "name": "stdout",
     "output_type": "stream",
     "text": [
      "9C1W - Detected Ligands: ['EDO', 'XOO']\n",
      "Processing 9C1W Cc1n[nH]c2cnc(-c3cncc(OC[C@@H](N)Cc4c[nH]c5ccccc45)c3)cc12 EDO\n",
      "Processing 9C1W Cc1n[nH]c2cnc(-c3cncc(OC[C@@H](N)Cc4c[nH]c5ccccc45)c3)cc12 XOO\n"
     ]
    },
    {
     "name": "stderr",
     "output_type": "stream",
     "text": [
      "==============================\n",
      "*** Open Babel Warning  in PerceiveBondOrders\n",
      "  Failed to kekulize aromatic bonds in OBMol::PerceiveBondOrders (title is /Users/wangyang/Desktop/Liver_cancer/16-AIDD/07_molecular_docking/data/data_9C1W/protein.pdb)\n",
      "\n"
     ]
    },
    {
     "name": "stdout",
     "output_type": "stream",
     "text": [
      "9C1W - Detected Ligands: ['EDO', 'XOO']\n",
      "Processing 9C1W COc1cccc2c1-c1nc(-c3ccc(C4(N)CC(O)(C5CC5)C4)cc3)c(-c3ccccc3)n1CO2 EDO\n",
      "Processing 9C1W COc1cccc2c1-c1nc(-c3ccc(C4(N)CC(O)(C5CC5)C4)cc3)c(-c3ccccc3)n1CO2 XOO\n"
     ]
    },
    {
     "name": "stderr",
     "output_type": "stream",
     "text": [
      "==============================\n",
      "*** Open Babel Warning  in PerceiveBondOrders\n",
      "  Failed to kekulize aromatic bonds in OBMol::PerceiveBondOrders (title is /Users/wangyang/Desktop/Liver_cancer/16-AIDD/07_molecular_docking/data/data_9C1W/protein.pdb)\n",
      "\n"
     ]
    },
    {
     "name": "stdout",
     "output_type": "stream",
     "text": [
      "9C1W - Detected Ligands: ['EDO', 'XOO']\n",
      "Processing 9C1W C[C@]1(O)C[C@@](N)(c2ccc(-c3nc4ccc5nnc(C(F)F)n5c4cc3-c3ccccc3)cc2)C1 EDO\n",
      "Processing 9C1W C[C@]1(O)C[C@@](N)(c2ccc(-c3nc4ccc5nnc(C(F)F)n5c4cc3-c3ccccc3)cc2)C1 XOO\n"
     ]
    },
    {
     "name": "stderr",
     "output_type": "stream",
     "text": [
      "==============================\n",
      "*** Open Babel Warning  in PerceiveBondOrders\n",
      "  Failed to kekulize aromatic bonds in OBMol::PerceiveBondOrders (title is /Users/wangyang/Desktop/Liver_cancer/16-AIDD/07_molecular_docking/data/data_9C1W/protein.pdb)\n",
      "\n"
     ]
    },
    {
     "name": "stdout",
     "output_type": "stream",
     "text": [
      "9C1W - Detected Ligands: ['EDO', 'XOO']\n",
      "Processing 9C1W CC1(O)CC(N)(c2ccc(-c3nc4n(c3-c3ccccc3)COc3cc(C(N)=O)ccc3-4)cc2)C1 EDO\n",
      "Processing 9C1W CC1(O)CC(N)(c2ccc(-c3nc4n(c3-c3ccccc3)COc3cc(C(N)=O)ccc3-4)cc2)C1 XOO\n"
     ]
    },
    {
     "name": "stderr",
     "output_type": "stream",
     "text": [
      "==============================\n",
      "*** Open Babel Warning  in PerceiveBondOrders\n",
      "  Failed to kekulize aromatic bonds in OBMol::PerceiveBondOrders (title is /Users/wangyang/Desktop/Liver_cancer/16-AIDD/07_molecular_docking/data/data_9C1W/protein.pdb)\n",
      "\n"
     ]
    },
    {
     "name": "stdout",
     "output_type": "stream",
     "text": [
      "9C1W - Detected Ligands: ['EDO', 'XOO']\n",
      "Processing 9C1W CC(C)NC[C@@H](C(=O)N1CCN(c2ncnc3c2[C@H](C)CC(=O)N3)[C@H]2C[C@H]21)c1ccc(Cl)cc1 EDO\n",
      "Processing 9C1W CC(C)NC[C@@H](C(=O)N1CCN(c2ncnc3c2[C@H](C)CC(=O)N3)[C@H]2C[C@H]21)c1ccc(Cl)cc1 XOO\n"
     ]
    },
    {
     "name": "stderr",
     "output_type": "stream",
     "text": [
      "==============================\n",
      "*** Open Babel Warning  in PerceiveBondOrders\n",
      "  Failed to kekulize aromatic bonds in OBMol::PerceiveBondOrders (title is /Users/wangyang/Desktop/Liver_cancer/16-AIDD/07_molecular_docking/data/data_9C1W/protein.pdb)\n",
      "\n"
     ]
    },
    {
     "name": "stdout",
     "output_type": "stream",
     "text": [
      "9C1W - Detected Ligands: ['EDO', 'XOO']\n",
      "Processing 9C1W CCc1c(N)ncnc1N1CCC(c2nc(-c3ccc(F)c(Cl)c3)cn2CCN2CCCC2)CC1 EDO\n",
      "Processing 9C1W CCc1c(N)ncnc1N1CCC(c2nc(-c3ccc(F)c(Cl)c3)cn2CCN2CCCC2)CC1 XOO\n"
     ]
    },
    {
     "name": "stderr",
     "output_type": "stream",
     "text": [
      "==============================\n",
      "*** Open Babel Warning  in PerceiveBondOrders\n",
      "  Failed to kekulize aromatic bonds in OBMol::PerceiveBondOrders (title is /Users/wangyang/Desktop/Liver_cancer/16-AIDD/07_molecular_docking/data/data_9C1W/protein.pdb)\n",
      "\n"
     ]
    },
    {
     "name": "stdout",
     "output_type": "stream",
     "text": [
      "9C1W - Detected Ligands: ['EDO', 'XOO']\n",
      "Processing 9C1W CC1(O)CC(N)(c2ccc(-c3nc4n(c3-c3ccccc3)COc3ccc(-c5cn[nH]c5)cc3-4)cc2)C1 EDO\n",
      "Processing 9C1W CC1(O)CC(N)(c2ccc(-c3nc4n(c3-c3ccccc3)COc3ccc(-c5cn[nH]c5)cc3-4)cc2)C1 XOO\n"
     ]
    },
    {
     "name": "stderr",
     "output_type": "stream",
     "text": [
      "==============================\n",
      "*** Open Babel Warning  in PerceiveBondOrders\n",
      "  Failed to kekulize aromatic bonds in OBMol::PerceiveBondOrders (title is /Users/wangyang/Desktop/Liver_cancer/16-AIDD/07_molecular_docking/data/data_9C1W/protein.pdb)\n",
      "\n"
     ]
    },
    {
     "name": "stdout",
     "output_type": "stream",
     "text": [
      "9C1W - Detected Ligands: ['EDO', 'XOO']\n",
      "Processing 9C1W NC1(c2ccc(-c3nc4n(c3-c3ccccc3)COc3cnccc3-4)cc2)CC(O)(C2CC2)C1 EDO\n",
      "Processing 9C1W NC1(c2ccc(-c3nc4n(c3-c3ccccc3)COc3cnccc3-4)cc2)CC(O)(C2CC2)C1 XOO\n",
      "Docking workflow completed successfully!\n"
     ]
    }
   ],
   "source": [
    "import warnings\n",
    "from pathlib import Path\n",
    "import subprocess\n",
    "from itertools import product\n",
    "import numpy as np\n",
    "import pandas as pd\n",
    "from MDAnalysis import Universe\n",
    "from openbabel import pybel\n",
    "import os\n",
    "import requests  # 用于下载文件\n",
    "\n",
    "# 清楚 warning 信息\n",
    "\n",
    "# Filter warnings\n",
    "warnings.filterwarnings(\"ignore\")\n",
    "\n",
    "# 设置工作目录\n",
    "HERE = Path(os.getcwd())\n",
    "DATA = HERE / 'data'\n",
    "DATA.mkdir(parents=True, exist_ok=True)\n",
    "\n",
    "# CSV 文件路径\n",
    "RESULT_CSV = DATA / 'result_dock.csv'\n",
    "\n",
    "# 初始化 CSV 文件\n",
    "if not RESULT_CSV.exists():\n",
    "    pd.DataFrame(columns=['pdb', 'ligand_resnames', 'smiles', 'dock_info']).to_csv(RESULT_CSV, index=False)\n",
    "\n",
    "\n",
    "class Structure(Universe):\n",
    "    \"\"\"Core object to load structures with.\"\"\"\n",
    "\n",
    "    @classmethod\n",
    "    def from_string(cls, pdb_path):\n",
    "        \"\"\"Load a structure from a local PDB file.\"\"\"\n",
    "        return cls(pdb_path)\n",
    "\n",
    "\n",
    "def download_pdb(pdb_id, save_path):\n",
    "    \"\"\"从 RCSB PDB 数据库下载 PDB 文件.\"\"\"\n",
    "    url = f\"https://files.rcsb.org/download/{pdb_id}.pdb\"\n",
    "    response = requests.get(url)\n",
    "    if response.status_code == 200:\n",
    "        with open(save_path, \"wb\") as file:\n",
    "            file.write(response.content)\n",
    "        print(f\"{pdb_id} 下载成功.\")\n",
    "    else:\n",
    "        raise ValueError(f\"无法下载 {pdb_id}: {response.status_code}\")\n",
    "\n",
    "\n",
    "# 提取蛋白质并保存为 PDB 格式\n",
    "def extract_protein_to_pdb(structure, protein_path):\n",
    "    \"\"\"Extract protein from structure and save it as PDB.\"\"\"\n",
    "    protein = structure.select_atoms(\"protein\")\n",
    "    protein.write(str(protein_path))\n",
    "\n",
    "\n",
    "# 自动检测所有配体残基\n",
    "def find_all_ligand_resnames(structure):\n",
    "    \"\"\"返回所有非蛋白质和非水分子的残基名称列表\"\"\"\n",
    "    ligand_atoms = structure.select_atoms(\"not protein and not resname HOH\")\n",
    "    return list(set(ligand_atoms.resnames))\n",
    "\n",
    "\n",
    "def pdb_to_pdbqt(pdb_path, pdbqt_path, pH=7.4):\n",
    "    \"\"\"Convert a PDB file to a PDBQT file.\"\"\"\n",
    "    molecule = list(pybel.readfile(\"pdb\", str(pdb_path)))[0]\n",
    "    molecule.OBMol.CorrectForPH(pH)\n",
    "    molecule.addh()\n",
    "    for atom in molecule.atoms:\n",
    "        atom.OBAtom.GetPartialCharge()\n",
    "    molecule.write(\"pdbqt\", str(pdbqt_path), overwrite=True)\n",
    "\n",
    "\n",
    "def smiles_to_pdbqt(smiles, pdbqt_path, pH=7.4):\n",
    "    \"\"\"Convert a SMILES string to a PDBQT file.\"\"\"\n",
    "    molecule = pybel.readstring(\"smi\", smiles)\n",
    "    molecule.OBMol.CorrectForPH(pH)\n",
    "    molecule.addh()\n",
    "    molecule.make3D(forcefield=\"mmff94s\", steps=10000)\n",
    "    for atom in molecule.atoms:\n",
    "        atom.OBAtom.GetPartialCharge()\n",
    "    molecule.write(\"pdbqt\", str(pdbqt_path), overwrite=True)\n",
    "\n",
    "\n",
    "def run_smina(ligand_path, protein_path, out_path, pocket_center, pocket_size):\n",
    "    \"\"\"Perform docking with Smina.\"\"\"\n",
    "    output_text = subprocess.check_output([\n",
    "        \"smina\",\n",
    "        \"--receptor\", str(protein_path),\n",
    "        \"--ligand\", str(ligand_path),\n",
    "        \"--out\", str(out_path),\n",
    "        \"--center_x\", str(pocket_center[0]),\n",
    "        \"--center_y\", str(pocket_center[1]),\n",
    "        \"--center_z\", str(pocket_center[2]),\n",
    "        \"--size_x\", str(pocket_size[0]),\n",
    "        \"--size_y\", str(pocket_size[1]),\n",
    "        \"--size_z\", str(pocket_size[2])\n",
    "    ])\n",
    "    return output_text.decode(\"utf-8\")\n",
    "\n",
    "\n",
    "def parse_dock_info(dock_output):\n",
    "    \"\"\"解析 Smina 输出中的对接信息\"\"\"\n",
    "    dock_lines = dock_output.splitlines()\n",
    "    dock_data = []\n",
    "    capture = False\n",
    "    for line in dock_lines:\n",
    "        if \"mode\" in line and \"affinity\" in line:  # 开始捕获表格数据\n",
    "            capture = True\n",
    "            continue\n",
    "        if capture:\n",
    "            if line.strip() == \"\" or \"Refine time\" in line or \"Loop time\" in line:\n",
    "                break\n",
    "            dock_data.append(line.strip())\n",
    "    return \"\\n\".join(dock_data)\n",
    "\n",
    "\n",
    "def split_sdf_file(sdf_path):\n",
    "    \"\"\"Split an SDF file into separate files for each molecule.\"\"\"\n",
    "    sdf_path = Path(sdf_path)\n",
    "    stem = sdf_path.stem\n",
    "    parent = sdf_path.parent\n",
    "    molecules = pybel.readfile(\"sdf\", str(sdf_path))\n",
    "    for i, molecule in enumerate(molecules, 1):\n",
    "        molecule.write(\"sdf\", str(parent / f\"{stem}_{i}.sdf\"), overwrite=True)\n",
    "\n",
    "\n",
    "# 主程序\n",
    "pdb_list = [\n",
    "    '3O96',\n",
    "    '4EJN',\n",
    "    '7AFW',\n",
    "    '8Z10',\n",
    "    '8Q61',\n",
    "    '9C1W',\n",
    "]\n",
    "# 读取 data 里面的 pic50_greater_equal_9.0.csv 文件，获取其中的 SMILES，前面的 20 个\n",
    "smiles_list = pd.read_csv('data/pic50_greater_equal_9.0.csv')['smiles'][:20]\n",
    "\n",
    "# 遍历所有 PDB 和 SMILES 的笛卡尔积\n",
    "for pdb_id, smiles in product(pdb_list, smiles_list):\n",
    "    # 创建每个 PDB 的独立目录\n",
    "    pdb_dir = DATA / f\"data_{pdb_id}\"\n",
    "    pdb_dir.mkdir(parents=True, exist_ok=True)\n",
    "\n",
    "    # 定义 PDB 文件路径\n",
    "    pdb_path = pdb_dir / f\"{pdb_id}.pdb\"\n",
    "\n",
    "    # 如果 PDB 文件不存在，则从 RCSB 下载\n",
    "    if not pdb_path.exists():\n",
    "        print(f\"{pdb_id} 文件不存在，正在下载...\")\n",
    "        download_pdb(pdb_id, pdb_path)\n",
    "\n",
    "    # 加载结构\n",
    "    structure = Structure.from_string(pdb_path)\n",
    "\n",
    "    # 提取并保存蛋白质部分\n",
    "    protein_path = pdb_dir / \"protein.pdb\"\n",
    "    extract_protein_to_pdb(structure, protein_path)\n",
    "\n",
    "    # 转换蛋白质为 PDBQT 格式\n",
    "    protein_pdbqt_path = pdb_dir / \"protein.pdbqt\"\n",
    "    pdb_to_pdbqt(protein_path, protein_pdbqt_path)\n",
    "\n",
    "    # 检测所有 ligand\n",
    "    all_ligands = find_all_ligand_resnames(structure)\n",
    "\n",
    "    # all_ligands[0]变为shape为(1,)的数组，方便后续循环\n",
    "    # all_ligands = [\"0R4\"]\n",
    "    print(f\"{pdb_id} - Detected Ligands: {all_ligands}\")\n",
    "\n",
    "    # 对所有 ligand 进行处理\n",
    "    for ligand_resname in all_ligands:\n",
    "        # 创建 ligand-specific 子目录\n",
    "        ligand_dir = pdb_dir / f\"ligand_{ligand_resname}\"\n",
    "        ligand_dir.mkdir(parents=True, exist_ok=True)\n",
    "\n",
    "        # 自动检测口袋中心和大小\n",
    "        ligand = structure.select_atoms(f\"resname {ligand_resname}\")\n",
    "        print(f\"Processing {pdb_id} {smiles} {ligand_resname}\")\n",
    "        pocket_center = (ligand.positions.max(axis=0) + ligand.positions.min(axis=0)) / 2\n",
    "        pocket_size = ligand.positions.max(axis=0) - ligand.positions.min(axis=0) + 5\n",
    "\n",
    "        # 创建针对 SMILES 的子目录\n",
    "        smiles_hash = smiles.replace(\"(\", \"\").replace(\")\", \"\").replace(\"=\", \"\").replace(\"-\", \"\").replace(\"/\",\n",
    "                                                                                                         \"\").replace(\n",
    "            \"\\\\\", \"\").replace(\".\", \"\").replace(\",\", \"\").replace(\":\", \"\")\n",
    "        smiles_dir = ligand_dir / f\"smiles_{smiles_hash}\"\n",
    "        smiles_dir.mkdir(parents=True, exist_ok=True)\n",
    "\n",
    "        # 定义文件路径\n",
    "        ligand_path = smiles_dir / \"ligand.pdbqt\"\n",
    "        docking_out_path = smiles_dir / \"ligand_docking.sdf\"\n",
    "        log_path = smiles_dir / \"docking_log.txt\"\n",
    "\n",
    "        # 转换配体为 PDBQT 格式\n",
    "        smiles_to_pdbqt(smiles, ligand_path)\n",
    "\n",
    "        # 运行对接并保存日志\n",
    "        docking_output = run_smina(ligand_path, protein_pdbqt_path, docking_out_path, pocket_center, pocket_size)\n",
    "        with open(log_path, \"w\") as log_file:\n",
    "            log_file.write(f\"PDB: {pdb_id}\\nSMILES: {smiles}\\nLigand Resname: {ligand_resname}\\n\")\n",
    "            log_file.write(f\"Pocket Center: {pocket_center}\\nPocket Size: {pocket_size}\\n\\nDocking Output:\\n\")\n",
    "            log_file.write(docking_output)\n",
    "\n",
    "        # 拆分 SDF 文件\n",
    "        split_sdf_file(docking_out_path)\n",
    "\n",
    "        # 提取对接结果并更新到 CSV\n",
    "        dock_info = parse_dock_info(docking_output)\n",
    "        new_row = {'pdb': pdb_id, 'ligand_resnames': ligand_resname, 'smiles': smiles, 'dock_info': dock_info}\n",
    "        result_df = pd.read_csv(RESULT_CSV)\n",
    "        result_df = pd.concat([result_df, pd.DataFrame([new_row])], ignore_index=True)\n",
    "        # 保存更新的结果到 CSV 文件\n",
    "        result_df.to_csv(RESULT_CSV, index=False)\n",
    "\n",
    "print(\"Docking workflow completed successfully!\")\n"
   ]
  },
  {
   "cell_type": "code",
   "outputs": [],
   "source": [],
   "metadata": {
    "collapsed": false
   },
   "id": "1fd2352c63ba00c1",
   "execution_count": null
  },
  {
   "cell_type": "code",
   "outputs": [],
   "source": [],
   "metadata": {
    "collapsed": false,
    "ExecuteTime": {
     "end_time": "2024-11-19T08:32:55.410023Z",
     "start_time": "2024-11-19T08:32:55.407250Z"
    }
   },
   "id": "2dfd176f7354dc6c",
   "execution_count": 1
  },
  {
   "cell_type": "code",
   "outputs": [
    {
     "ename": "FileNotFoundError",
     "evalue": "[Errno 2] No such file or directory: '7N8T.pdb'",
     "output_type": "error",
     "traceback": [
      "\u001B[0;31m---------------------------------------------------------------------------\u001B[0m",
      "\u001B[0;31mFileNotFoundError\u001B[0m                         Traceback (most recent call last)",
      "    \u001B[0;31m[... skipping hidden 1 frame]\u001B[0m\n",
      "Cell \u001B[0;32mIn[6], line 10\u001B[0m\n\u001B[1;32m      9\u001B[0m \u001B[38;5;28;01mfor\u001B[39;00m pdb \u001B[38;5;129;01min\u001B[39;00m pdb_list:\n\u001B[0;32m---> 10\u001B[0m     structure \u001B[38;5;241m=\u001B[39m \u001B[43mStructure\u001B[49m\u001B[38;5;241;43m.\u001B[39;49m\u001B[43mfrom_string\u001B[49m\u001B[43m(\u001B[49m\u001B[38;5;124;43mf\u001B[39;49m\u001B[38;5;124;43m\"\u001B[39;49m\u001B[38;5;132;43;01m{\u001B[39;49;00m\u001B[43mpdb\u001B[49m\u001B[38;5;132;43;01m}\u001B[39;49;00m\u001B[38;5;124;43m.pdb\u001B[39;49m\u001B[38;5;124;43m\"\u001B[39;49m\u001B[43m)\u001B[49m\n\u001B[1;32m     11\u001B[0m     extract_protein_to_pdb(structure, DATA \u001B[38;5;241m/\u001B[39m \u001B[38;5;124mf\u001B[39m\u001B[38;5;124m\"\u001B[39m\u001B[38;5;132;01m{\u001B[39;00mpdb\u001B[38;5;132;01m}\u001B[39;00m\u001B[38;5;124m_protein.pdb\u001B[39m\u001B[38;5;124m\"\u001B[39m)\n",
      "Cell \u001B[0;32mIn[5], line 37\u001B[0m, in \u001B[0;36mStructure.from_string\u001B[0;34m(cls, pdb_path)\u001B[0m\n\u001B[1;32m     36\u001B[0m \u001B[38;5;250m\u001B[39m\u001B[38;5;124;03m\"\"\"从本地 PDB 文件加载结构\"\"\"\u001B[39;00m\n\u001B[0;32m---> 37\u001B[0m \u001B[38;5;28;01mreturn\u001B[39;00m \u001B[38;5;28;43mcls\u001B[39;49m\u001B[43m(\u001B[49m\u001B[43mpdb_path\u001B[49m\u001B[43m)\u001B[49m\n",
      "File \u001B[0;32m/opt/anaconda3/envs/teachopencadd/lib/python3.8/site-packages/MDAnalysis/core/universe.py:346\u001B[0m, in \u001B[0;36mUniverse.__init__\u001B[0;34m(self, topology, all_coordinates, format, topology_format, transformations, guess_bonds, vdwradii, in_memory, in_memory_step, *coordinates, **kwargs)\u001B[0m\n\u001B[1;32m    345\u001B[0m     \u001B[38;5;28mself\u001B[39m\u001B[38;5;241m.\u001B[39mfilename \u001B[38;5;241m=\u001B[39m _check_file_like(topology)\n\u001B[0;32m--> 346\u001B[0m     topology \u001B[38;5;241m=\u001B[39m \u001B[43m_topology_from_file_like\u001B[49m\u001B[43m(\u001B[49m\u001B[38;5;28;43mself\u001B[39;49m\u001B[38;5;241;43m.\u001B[39;49m\u001B[43mfilename\u001B[49m\u001B[43m,\u001B[49m\n\u001B[1;32m    347\u001B[0m \u001B[43m                                        \u001B[49m\u001B[43mtopology_format\u001B[49m\u001B[38;5;241;43m=\u001B[39;49m\u001B[43mtopology_format\u001B[49m\u001B[43m,\u001B[49m\n\u001B[1;32m    348\u001B[0m \u001B[43m                                        \u001B[49m\u001B[38;5;241;43m*\u001B[39;49m\u001B[38;5;241;43m*\u001B[39;49m\u001B[43mkwargs\u001B[49m\u001B[43m)\u001B[49m\n\u001B[1;32m    350\u001B[0m \u001B[38;5;28;01mif\u001B[39;00m topology \u001B[38;5;129;01mis\u001B[39;00m \u001B[38;5;129;01mnot\u001B[39;00m \u001B[38;5;28;01mNone\u001B[39;00m:\n",
      "File \u001B[0;32m/opt/anaconda3/envs/teachopencadd/lib/python3.8/site-packages/MDAnalysis/core/universe.py:118\u001B[0m, in \u001B[0;36m_topology_from_file_like\u001B[0;34m(topology_file, topology_format, **kwargs)\u001B[0m\n\u001B[1;32m    115\u001B[0m \u001B[38;5;28;01mif\u001B[39;00m (err\u001B[38;5;241m.\u001B[39merrno \u001B[38;5;129;01mis\u001B[39;00m \u001B[38;5;129;01mnot\u001B[39;00m \u001B[38;5;28;01mNone\u001B[39;00m \u001B[38;5;129;01mand\u001B[39;00m\n\u001B[1;32m    116\u001B[0m     errno\u001B[38;5;241m.\u001B[39merrorcode[err\u001B[38;5;241m.\u001B[39merrno] \u001B[38;5;129;01min\u001B[39;00m [\u001B[38;5;124m'\u001B[39m\u001B[38;5;124mENOENT\u001B[39m\u001B[38;5;124m'\u001B[39m, \u001B[38;5;124m'\u001B[39m\u001B[38;5;124mEACCES\u001B[39m\u001B[38;5;124m'\u001B[39m]):\n\u001B[1;32m    117\u001B[0m     \u001B[38;5;66;03m# Runs if the error is propagated due to no permission / file not found\u001B[39;00m\n\u001B[0;32m--> 118\u001B[0m     \u001B[38;5;28;01mraise\u001B[39;00m sys\u001B[38;5;241m.\u001B[39mexc_info()[\u001B[38;5;241m1\u001B[39m] \u001B[38;5;28;01mfrom\u001B[39;00m \u001B[38;5;21;01merr\u001B[39;00m\n\u001B[1;32m    119\u001B[0m \u001B[38;5;28;01melse\u001B[39;00m:\n\u001B[1;32m    120\u001B[0m     \u001B[38;5;66;03m# Runs when the parser fails\u001B[39;00m\n",
      "File \u001B[0;32m/opt/anaconda3/envs/teachopencadd/lib/python3.8/site-packages/MDAnalysis/core/universe.py:110\u001B[0m, in \u001B[0;36m_topology_from_file_like\u001B[0;34m(topology_file, topology_format, **kwargs)\u001B[0m\n\u001B[1;32m    109\u001B[0m     \u001B[38;5;28;01mwith\u001B[39;00m parser(topology_file) \u001B[38;5;28;01mas\u001B[39;00m p:\n\u001B[0;32m--> 110\u001B[0m         topology \u001B[38;5;241m=\u001B[39m \u001B[43mp\u001B[49m\u001B[38;5;241;43m.\u001B[39;49m\u001B[43mparse\u001B[49m\u001B[43m(\u001B[49m\u001B[38;5;241;43m*\u001B[39;49m\u001B[38;5;241;43m*\u001B[39;49m\u001B[43mkwargs\u001B[49m\u001B[43m)\u001B[49m\n\u001B[1;32m    111\u001B[0m \u001B[38;5;28;01mexcept\u001B[39;00m (\u001B[38;5;167;01mIOError\u001B[39;00m, \u001B[38;5;167;01mOSError\u001B[39;00m) \u001B[38;5;28;01mas\u001B[39;00m err:\n\u001B[1;32m    112\u001B[0m     \u001B[38;5;66;03m# There are 2 kinds of errors that might be raised here:\u001B[39;00m\n\u001B[1;32m    113\u001B[0m     \u001B[38;5;66;03m# one because the file isn't present\u001B[39;00m\n\u001B[1;32m    114\u001B[0m     \u001B[38;5;66;03m# or the permissions are bad, second when the parser fails\u001B[39;00m\n",
      "File \u001B[0;32m/opt/anaconda3/envs/teachopencadd/lib/python3.8/site-packages/MDAnalysis/topology/PDBParser.py:207\u001B[0m, in \u001B[0;36mPDBParser.parse\u001B[0;34m(self, **kwargs)\u001B[0m\n\u001B[1;32m    201\u001B[0m \u001B[38;5;250m\u001B[39m\u001B[38;5;124;03m\"\"\"Parse atom information from PDB file\u001B[39;00m\n\u001B[1;32m    202\u001B[0m \n\u001B[1;32m    203\u001B[0m \u001B[38;5;124;03mReturns\u001B[39;00m\n\u001B[1;32m    204\u001B[0m \u001B[38;5;124;03m-------\u001B[39;00m\n\u001B[1;32m    205\u001B[0m \u001B[38;5;124;03mMDAnalysis Topology object\u001B[39;00m\n\u001B[1;32m    206\u001B[0m \u001B[38;5;124;03m\"\"\"\u001B[39;00m\n\u001B[0;32m--> 207\u001B[0m top \u001B[38;5;241m=\u001B[39m \u001B[38;5;28;43mself\u001B[39;49m\u001B[38;5;241;43m.\u001B[39;49m\u001B[43m_parseatoms\u001B[49m\u001B[43m(\u001B[49m\u001B[43m)\u001B[49m\n\u001B[1;32m    209\u001B[0m \u001B[38;5;28;01mtry\u001B[39;00m:\n",
      "File \u001B[0;32m/opt/anaconda3/envs/teachopencadd/lib/python3.8/site-packages/MDAnalysis/topology/PDBParser.py:244\u001B[0m, in \u001B[0;36mPDBParser._parseatoms\u001B[0;34m(self)\u001B[0m\n\u001B[1;32m    243\u001B[0m last_wrapped_serial \u001B[38;5;241m=\u001B[39m \u001B[38;5;241m100000\u001B[39m  \u001B[38;5;66;03m# if serials wrap, start from here\u001B[39;00m\n\u001B[0;32m--> 244\u001B[0m \u001B[38;5;28;01mwith\u001B[39;00m util\u001B[38;5;241m.\u001B[39mopenany(\u001B[38;5;28mself\u001B[39m\u001B[38;5;241m.\u001B[39mfilename) \u001B[38;5;28;01mas\u001B[39;00m f:\n\u001B[1;32m    245\u001B[0m     \u001B[38;5;28;01mfor\u001B[39;00m line \u001B[38;5;129;01min\u001B[39;00m f:\n",
      "File \u001B[0;32m/opt/anaconda3/envs/teachopencadd/lib/python3.8/contextlib.py:113\u001B[0m, in \u001B[0;36m_GeneratorContextManager.__enter__\u001B[0;34m(self)\u001B[0m\n\u001B[1;32m    112\u001B[0m \u001B[38;5;28;01mtry\u001B[39;00m:\n\u001B[0;32m--> 113\u001B[0m     \u001B[38;5;28;01mreturn\u001B[39;00m \u001B[38;5;28;43mnext\u001B[39;49m\u001B[43m(\u001B[49m\u001B[38;5;28;43mself\u001B[39;49m\u001B[38;5;241;43m.\u001B[39;49m\u001B[43mgen\u001B[49m\u001B[43m)\u001B[49m\n\u001B[1;32m    114\u001B[0m \u001B[38;5;28;01mexcept\u001B[39;00m \u001B[38;5;167;01mStopIteration\u001B[39;00m:\n",
      "File \u001B[0;32m/opt/anaconda3/envs/teachopencadd/lib/python3.8/site-packages/MDAnalysis/lib/util.py:318\u001B[0m, in \u001B[0;36mopenany\u001B[0;34m(datasource, mode, reset)\u001B[0m\n\u001B[1;32m    276\u001B[0m \u001B[38;5;250m\u001B[39m\u001B[38;5;124;03m\"\"\"Context manager for :func:`anyopen`.\u001B[39;00m\n\u001B[1;32m    277\u001B[0m \n\u001B[1;32m    278\u001B[0m \u001B[38;5;124;03mOpen the `datasource` and close it when the context of the :keyword:`with`\u001B[39;00m\n\u001B[0;32m   (...)\u001B[0m\n\u001B[1;32m    316\u001B[0m \u001B[38;5;124;03m:func:`anyopen`\u001B[39;00m\n\u001B[1;32m    317\u001B[0m \u001B[38;5;124;03m\"\"\"\u001B[39;00m\n\u001B[0;32m--> 318\u001B[0m stream \u001B[38;5;241m=\u001B[39m \u001B[43manyopen\u001B[49m\u001B[43m(\u001B[49m\u001B[43mdatasource\u001B[49m\u001B[43m,\u001B[49m\u001B[43m \u001B[49m\u001B[43mmode\u001B[49m\u001B[38;5;241;43m=\u001B[39;49m\u001B[43mmode\u001B[49m\u001B[43m,\u001B[49m\u001B[43m \u001B[49m\u001B[43mreset\u001B[49m\u001B[38;5;241;43m=\u001B[39;49m\u001B[43mreset\u001B[49m\u001B[43m)\u001B[49m\n\u001B[1;32m    319\u001B[0m \u001B[38;5;28;01mtry\u001B[39;00m:\n",
      "File \u001B[0;32m/opt/anaconda3/envs/teachopencadd/lib/python3.8/site-packages/MDAnalysis/lib/util.py:397\u001B[0m, in \u001B[0;36manyopen\u001B[0;34m(datasource, mode, reset)\u001B[0m\n\u001B[1;32m    396\u001B[0m openfunc \u001B[38;5;241m=\u001B[39m read_handlers[ext]\n\u001B[0;32m--> 397\u001B[0m stream \u001B[38;5;241m=\u001B[39m \u001B[43m_get_stream\u001B[49m\u001B[43m(\u001B[49m\u001B[43mdatasource\u001B[49m\u001B[43m,\u001B[49m\u001B[43m \u001B[49m\u001B[43mopenfunc\u001B[49m\u001B[43m,\u001B[49m\u001B[43m \u001B[49m\u001B[43mmode\u001B[49m\u001B[38;5;241;43m=\u001B[39;49m\u001B[43mmode\u001B[49m\u001B[43m)\u001B[49m\n\u001B[1;32m    398\u001B[0m \u001B[38;5;28;01mif\u001B[39;00m stream \u001B[38;5;129;01mis\u001B[39;00m \u001B[38;5;129;01mnot\u001B[39;00m \u001B[38;5;28;01mNone\u001B[39;00m:\n",
      "File \u001B[0;32m/opt/anaconda3/envs/teachopencadd/lib/python3.8/site-packages/MDAnalysis/lib/util.py:439\u001B[0m, in \u001B[0;36m_get_stream\u001B[0;34m(filename, openfunction, mode)\u001B[0m\n\u001B[1;32m    438\u001B[0m \u001B[38;5;28;01mif\u001B[39;00m errno\u001B[38;5;241m.\u001B[39merrorcode[err\u001B[38;5;241m.\u001B[39merrno] \u001B[38;5;129;01min\u001B[39;00m [\u001B[38;5;124m'\u001B[39m\u001B[38;5;124mENOENT\u001B[39m\u001B[38;5;124m'\u001B[39m, \u001B[38;5;124m'\u001B[39m\u001B[38;5;124mEACCES\u001B[39m\u001B[38;5;124m'\u001B[39m]:\n\u001B[0;32m--> 439\u001B[0m     \u001B[38;5;28;01mraise\u001B[39;00m sys\u001B[38;5;241m.\u001B[39mexc_info()[\u001B[38;5;241m1\u001B[39m] \u001B[38;5;28;01mfrom\u001B[39;00m \u001B[38;5;21;01merr\u001B[39;00m\n\u001B[1;32m    440\u001B[0m \u001B[38;5;28;01mreturn\u001B[39;00m \u001B[38;5;28;01mNone\u001B[39;00m\n",
      "File \u001B[0;32m/opt/anaconda3/envs/teachopencadd/lib/python3.8/site-packages/MDAnalysis/lib/util.py:433\u001B[0m, in \u001B[0;36m_get_stream\u001B[0;34m(filename, openfunction, mode)\u001B[0m\n\u001B[1;32m    432\u001B[0m \u001B[38;5;28;01mtry\u001B[39;00m:\n\u001B[0;32m--> 433\u001B[0m     stream \u001B[38;5;241m=\u001B[39m \u001B[43mopenfunction\u001B[49m\u001B[43m(\u001B[49m\u001B[43mfilename\u001B[49m\u001B[43m,\u001B[49m\u001B[43m \u001B[49m\u001B[43mmode\u001B[49m\u001B[38;5;241;43m=\u001B[39;49m\u001B[43mmode\u001B[49m\u001B[43m)\u001B[49m\n\u001B[1;32m    434\u001B[0m \u001B[38;5;28;01mexcept\u001B[39;00m (\u001B[38;5;167;01mIOError\u001B[39;00m, \u001B[38;5;167;01mOSError\u001B[39;00m) \u001B[38;5;28;01mas\u001B[39;00m err:\n\u001B[1;32m    435\u001B[0m     \u001B[38;5;66;03m# An exception might be raised due to two reasons, first the openfunction is unable to open the file, in this\u001B[39;00m\n\u001B[1;32m    436\u001B[0m     \u001B[38;5;66;03m# case we have to ignore the error and return None. Second is when openfunction can't open the file because\u001B[39;00m\n\u001B[1;32m    437\u001B[0m     \u001B[38;5;66;03m# either the file isn't there or the permissions don't allow access.\u001B[39;00m\n",
      "File \u001B[0;32m/opt/anaconda3/envs/teachopencadd/lib/python3.8/site-packages/MDAnalysis/lib/picklable_file_io.py:478\u001B[0m, in \u001B[0;36mbz2_pickle_open\u001B[0;34m(name, mode)\u001B[0m\n\u001B[1;32m    477\u001B[0m bz_mode \u001B[38;5;241m=\u001B[39m mode\u001B[38;5;241m.\u001B[39mreplace(\u001B[38;5;124m\"\u001B[39m\u001B[38;5;124mt\u001B[39m\u001B[38;5;124m\"\u001B[39m, \u001B[38;5;124m\"\u001B[39m\u001B[38;5;124m\"\u001B[39m)\n\u001B[0;32m--> 478\u001B[0m binary_file \u001B[38;5;241m=\u001B[39m \u001B[43mBZ2Picklable\u001B[49m\u001B[43m(\u001B[49m\u001B[43mname\u001B[49m\u001B[43m,\u001B[49m\u001B[43m \u001B[49m\u001B[43mbz_mode\u001B[49m\u001B[43m)\u001B[49m\n\u001B[1;32m    479\u001B[0m \u001B[38;5;28;01mif\u001B[39;00m \u001B[38;5;124m\"\u001B[39m\u001B[38;5;124mt\u001B[39m\u001B[38;5;124m\"\u001B[39m \u001B[38;5;129;01min\u001B[39;00m mode:\n",
      "File \u001B[0;32m/opt/anaconda3/envs/teachopencadd/lib/python3.8/site-packages/MDAnalysis/lib/picklable_file_io.py:266\u001B[0m, in \u001B[0;36mBZ2Picklable.__init__\u001B[0;34m(self, name, mode)\u001B[0m\n\u001B[1;32m    265\u001B[0m \u001B[38;5;28mself\u001B[39m\u001B[38;5;241m.\u001B[39m_bz_mode \u001B[38;5;241m=\u001B[39m mode\n\u001B[0;32m--> 266\u001B[0m \u001B[38;5;28;43msuper\u001B[39;49m\u001B[43m(\u001B[49m\u001B[43m)\u001B[49m\u001B[38;5;241;43m.\u001B[39;49m\u001B[38;5;21;43m__init__\u001B[39;49m\u001B[43m(\u001B[49m\u001B[43mname\u001B[49m\u001B[43m,\u001B[49m\u001B[43m \u001B[49m\u001B[43mmode\u001B[49m\u001B[43m)\u001B[49m\n",
      "File \u001B[0;32m/opt/anaconda3/envs/teachopencadd/lib/python3.8/bz2.py:96\u001B[0m, in \u001B[0;36mBZ2File.__init__\u001B[0;34m(self, filename, mode, buffering, compresslevel)\u001B[0m\n\u001B[1;32m     95\u001B[0m \u001B[38;5;28;01mif\u001B[39;00m \u001B[38;5;28misinstance\u001B[39m(filename, (\u001B[38;5;28mstr\u001B[39m, \u001B[38;5;28mbytes\u001B[39m, os\u001B[38;5;241m.\u001B[39mPathLike)):\n\u001B[0;32m---> 96\u001B[0m     \u001B[38;5;28mself\u001B[39m\u001B[38;5;241m.\u001B[39m_fp \u001B[38;5;241m=\u001B[39m \u001B[43m_builtin_open\u001B[49m\u001B[43m(\u001B[49m\u001B[43mfilename\u001B[49m\u001B[43m,\u001B[49m\u001B[43m \u001B[49m\u001B[43mmode\u001B[49m\u001B[43m)\u001B[49m\n\u001B[1;32m     97\u001B[0m     \u001B[38;5;28mself\u001B[39m\u001B[38;5;241m.\u001B[39m_closefp \u001B[38;5;241m=\u001B[39m \u001B[38;5;28;01mTrue\u001B[39;00m\n",
      "\u001B[0;31mFileNotFoundError\u001B[0m: [Errno 2] No such file or directory: '7N8T.pdb'",
      "\nThe above exception was the direct cause of the following exception:\n",
      "\u001B[0;31mFileNotFoundError\u001B[0m                         Traceback (most recent call last)",
      "    \u001B[0;31m[... skipping hidden 1 frame]\u001B[0m\n",
      "Cell \u001B[0;32mIn[6], line 10\u001B[0m\n\u001B[1;32m      9\u001B[0m \u001B[38;5;28;01mfor\u001B[39;00m pdb \u001B[38;5;129;01min\u001B[39;00m pdb_list:\n\u001B[0;32m---> 10\u001B[0m     structure \u001B[38;5;241m=\u001B[39m \u001B[43mStructure\u001B[49m\u001B[38;5;241;43m.\u001B[39;49m\u001B[43mfrom_string\u001B[49m\u001B[43m(\u001B[49m\u001B[38;5;124;43mf\u001B[39;49m\u001B[38;5;124;43m\"\u001B[39;49m\u001B[38;5;132;43;01m{\u001B[39;49;00m\u001B[43mpdb\u001B[49m\u001B[38;5;132;43;01m}\u001B[39;49;00m\u001B[38;5;124;43m.pdb\u001B[39;49m\u001B[38;5;124;43m\"\u001B[39;49m\u001B[43m)\u001B[49m\n\u001B[1;32m     11\u001B[0m     extract_protein_to_pdb(structure, DATA \u001B[38;5;241m/\u001B[39m \u001B[38;5;124mf\u001B[39m\u001B[38;5;124m\"\u001B[39m\u001B[38;5;132;01m{\u001B[39;00mpdb\u001B[38;5;132;01m}\u001B[39;00m\u001B[38;5;124m_protein.pdb\u001B[39m\u001B[38;5;124m\"\u001B[39m)\n",
      "Cell \u001B[0;32mIn[5], line 37\u001B[0m, in \u001B[0;36mStructure.from_string\u001B[0;34m(cls, pdb_path)\u001B[0m\n\u001B[1;32m     36\u001B[0m \u001B[38;5;250m\u001B[39m\u001B[38;5;124;03m\"\"\"从本地 PDB 文件加载结构\"\"\"\u001B[39;00m\n\u001B[0;32m---> 37\u001B[0m \u001B[38;5;28;01mreturn\u001B[39;00m \u001B[38;5;28;43mcls\u001B[39;49m\u001B[43m(\u001B[49m\u001B[43mpdb_path\u001B[49m\u001B[43m)\u001B[49m\n",
      "File \u001B[0;32m/opt/anaconda3/envs/teachopencadd/lib/python3.8/site-packages/MDAnalysis/core/universe.py:346\u001B[0m, in \u001B[0;36mUniverse.__init__\u001B[0;34m(self, topology, all_coordinates, format, topology_format, transformations, guess_bonds, vdwradii, in_memory, in_memory_step, *coordinates, **kwargs)\u001B[0m\n\u001B[1;32m    345\u001B[0m     \u001B[38;5;28mself\u001B[39m\u001B[38;5;241m.\u001B[39mfilename \u001B[38;5;241m=\u001B[39m _check_file_like(topology)\n\u001B[0;32m--> 346\u001B[0m     topology \u001B[38;5;241m=\u001B[39m \u001B[43m_topology_from_file_like\u001B[49m\u001B[43m(\u001B[49m\u001B[38;5;28;43mself\u001B[39;49m\u001B[38;5;241;43m.\u001B[39;49m\u001B[43mfilename\u001B[49m\u001B[43m,\u001B[49m\n\u001B[1;32m    347\u001B[0m \u001B[43m                                        \u001B[49m\u001B[43mtopology_format\u001B[49m\u001B[38;5;241;43m=\u001B[39;49m\u001B[43mtopology_format\u001B[49m\u001B[43m,\u001B[49m\n\u001B[1;32m    348\u001B[0m \u001B[43m                                        \u001B[49m\u001B[38;5;241;43m*\u001B[39;49m\u001B[38;5;241;43m*\u001B[39;49m\u001B[43mkwargs\u001B[49m\u001B[43m)\u001B[49m\n\u001B[1;32m    350\u001B[0m \u001B[38;5;28;01mif\u001B[39;00m topology \u001B[38;5;129;01mis\u001B[39;00m \u001B[38;5;129;01mnot\u001B[39;00m \u001B[38;5;28;01mNone\u001B[39;00m:\n",
      "File \u001B[0;32m/opt/anaconda3/envs/teachopencadd/lib/python3.8/site-packages/MDAnalysis/core/universe.py:118\u001B[0m, in \u001B[0;36m_topology_from_file_like\u001B[0;34m(topology_file, topology_format, **kwargs)\u001B[0m\n\u001B[1;32m    115\u001B[0m \u001B[38;5;28;01mif\u001B[39;00m (err\u001B[38;5;241m.\u001B[39merrno \u001B[38;5;129;01mis\u001B[39;00m \u001B[38;5;129;01mnot\u001B[39;00m \u001B[38;5;28;01mNone\u001B[39;00m \u001B[38;5;129;01mand\u001B[39;00m\n\u001B[1;32m    116\u001B[0m     errno\u001B[38;5;241m.\u001B[39merrorcode[err\u001B[38;5;241m.\u001B[39merrno] \u001B[38;5;129;01min\u001B[39;00m [\u001B[38;5;124m'\u001B[39m\u001B[38;5;124mENOENT\u001B[39m\u001B[38;5;124m'\u001B[39m, \u001B[38;5;124m'\u001B[39m\u001B[38;5;124mEACCES\u001B[39m\u001B[38;5;124m'\u001B[39m]):\n\u001B[1;32m    117\u001B[0m     \u001B[38;5;66;03m# Runs if the error is propagated due to no permission / file not found\u001B[39;00m\n\u001B[0;32m--> 118\u001B[0m     \u001B[38;5;28;01mraise\u001B[39;00m sys\u001B[38;5;241m.\u001B[39mexc_info()[\u001B[38;5;241m1\u001B[39m] \u001B[38;5;28;01mfrom\u001B[39;00m \u001B[38;5;21;01merr\u001B[39;00m\n\u001B[1;32m    119\u001B[0m \u001B[38;5;28;01melse\u001B[39;00m:\n\u001B[1;32m    120\u001B[0m     \u001B[38;5;66;03m# Runs when the parser fails\u001B[39;00m\n",
      "File \u001B[0;32m/opt/anaconda3/envs/teachopencadd/lib/python3.8/site-packages/MDAnalysis/core/universe.py:110\u001B[0m, in \u001B[0;36m_topology_from_file_like\u001B[0;34m(topology_file, topology_format, **kwargs)\u001B[0m\n\u001B[1;32m    109\u001B[0m     \u001B[38;5;28;01mwith\u001B[39;00m parser(topology_file) \u001B[38;5;28;01mas\u001B[39;00m p:\n\u001B[0;32m--> 110\u001B[0m         topology \u001B[38;5;241m=\u001B[39m \u001B[43mp\u001B[49m\u001B[38;5;241;43m.\u001B[39;49m\u001B[43mparse\u001B[49m\u001B[43m(\u001B[49m\u001B[38;5;241;43m*\u001B[39;49m\u001B[38;5;241;43m*\u001B[39;49m\u001B[43mkwargs\u001B[49m\u001B[43m)\u001B[49m\n\u001B[1;32m    111\u001B[0m \u001B[38;5;28;01mexcept\u001B[39;00m (\u001B[38;5;167;01mIOError\u001B[39;00m, \u001B[38;5;167;01mOSError\u001B[39;00m) \u001B[38;5;28;01mas\u001B[39;00m err:\n\u001B[1;32m    112\u001B[0m     \u001B[38;5;66;03m# There are 2 kinds of errors that might be raised here:\u001B[39;00m\n\u001B[1;32m    113\u001B[0m     \u001B[38;5;66;03m# one because the file isn't present\u001B[39;00m\n\u001B[1;32m    114\u001B[0m     \u001B[38;5;66;03m# or the permissions are bad, second when the parser fails\u001B[39;00m\n",
      "File \u001B[0;32m/opt/anaconda3/envs/teachopencadd/lib/python3.8/site-packages/MDAnalysis/topology/PDBParser.py:207\u001B[0m, in \u001B[0;36mPDBParser.parse\u001B[0;34m(self, **kwargs)\u001B[0m\n\u001B[1;32m    201\u001B[0m \u001B[38;5;250m\u001B[39m\u001B[38;5;124;03m\"\"\"Parse atom information from PDB file\u001B[39;00m\n\u001B[1;32m    202\u001B[0m \n\u001B[1;32m    203\u001B[0m \u001B[38;5;124;03mReturns\u001B[39;00m\n\u001B[1;32m    204\u001B[0m \u001B[38;5;124;03m-------\u001B[39;00m\n\u001B[1;32m    205\u001B[0m \u001B[38;5;124;03mMDAnalysis Topology object\u001B[39;00m\n\u001B[1;32m    206\u001B[0m \u001B[38;5;124;03m\"\"\"\u001B[39;00m\n\u001B[0;32m--> 207\u001B[0m top \u001B[38;5;241m=\u001B[39m \u001B[38;5;28;43mself\u001B[39;49m\u001B[38;5;241;43m.\u001B[39;49m\u001B[43m_parseatoms\u001B[49m\u001B[43m(\u001B[49m\u001B[43m)\u001B[49m\n\u001B[1;32m    209\u001B[0m \u001B[38;5;28;01mtry\u001B[39;00m:\n",
      "File \u001B[0;32m/opt/anaconda3/envs/teachopencadd/lib/python3.8/site-packages/MDAnalysis/topology/PDBParser.py:244\u001B[0m, in \u001B[0;36mPDBParser._parseatoms\u001B[0;34m(self)\u001B[0m\n\u001B[1;32m    243\u001B[0m last_wrapped_serial \u001B[38;5;241m=\u001B[39m \u001B[38;5;241m100000\u001B[39m  \u001B[38;5;66;03m# if serials wrap, start from here\u001B[39;00m\n\u001B[0;32m--> 244\u001B[0m \u001B[38;5;28;01mwith\u001B[39;00m util\u001B[38;5;241m.\u001B[39mopenany(\u001B[38;5;28mself\u001B[39m\u001B[38;5;241m.\u001B[39mfilename) \u001B[38;5;28;01mas\u001B[39;00m f:\n\u001B[1;32m    245\u001B[0m     \u001B[38;5;28;01mfor\u001B[39;00m line \u001B[38;5;129;01min\u001B[39;00m f:\n",
      "File \u001B[0;32m/opt/anaconda3/envs/teachopencadd/lib/python3.8/contextlib.py:113\u001B[0m, in \u001B[0;36m_GeneratorContextManager.__enter__\u001B[0;34m(self)\u001B[0m\n\u001B[1;32m    112\u001B[0m \u001B[38;5;28;01mtry\u001B[39;00m:\n\u001B[0;32m--> 113\u001B[0m     \u001B[38;5;28;01mreturn\u001B[39;00m \u001B[38;5;28;43mnext\u001B[39;49m\u001B[43m(\u001B[49m\u001B[38;5;28;43mself\u001B[39;49m\u001B[38;5;241;43m.\u001B[39;49m\u001B[43mgen\u001B[49m\u001B[43m)\u001B[49m\n\u001B[1;32m    114\u001B[0m \u001B[38;5;28;01mexcept\u001B[39;00m \u001B[38;5;167;01mStopIteration\u001B[39;00m:\n",
      "File \u001B[0;32m/opt/anaconda3/envs/teachopencadd/lib/python3.8/site-packages/MDAnalysis/lib/util.py:318\u001B[0m, in \u001B[0;36mopenany\u001B[0;34m(datasource, mode, reset)\u001B[0m\n\u001B[1;32m    276\u001B[0m \u001B[38;5;250m\u001B[39m\u001B[38;5;124;03m\"\"\"Context manager for :func:`anyopen`.\u001B[39;00m\n\u001B[1;32m    277\u001B[0m \n\u001B[1;32m    278\u001B[0m \u001B[38;5;124;03mOpen the `datasource` and close it when the context of the :keyword:`with`\u001B[39;00m\n\u001B[0;32m   (...)\u001B[0m\n\u001B[1;32m    316\u001B[0m \u001B[38;5;124;03m:func:`anyopen`\u001B[39;00m\n\u001B[1;32m    317\u001B[0m \u001B[38;5;124;03m\"\"\"\u001B[39;00m\n\u001B[0;32m--> 318\u001B[0m stream \u001B[38;5;241m=\u001B[39m \u001B[43manyopen\u001B[49m\u001B[43m(\u001B[49m\u001B[43mdatasource\u001B[49m\u001B[43m,\u001B[49m\u001B[43m \u001B[49m\u001B[43mmode\u001B[49m\u001B[38;5;241;43m=\u001B[39;49m\u001B[43mmode\u001B[49m\u001B[43m,\u001B[49m\u001B[43m \u001B[49m\u001B[43mreset\u001B[49m\u001B[38;5;241;43m=\u001B[39;49m\u001B[43mreset\u001B[49m\u001B[43m)\u001B[49m\n\u001B[1;32m    319\u001B[0m \u001B[38;5;28;01mtry\u001B[39;00m:\n",
      "File \u001B[0;32m/opt/anaconda3/envs/teachopencadd/lib/python3.8/site-packages/MDAnalysis/lib/util.py:397\u001B[0m, in \u001B[0;36manyopen\u001B[0;34m(datasource, mode, reset)\u001B[0m\n\u001B[1;32m    396\u001B[0m openfunc \u001B[38;5;241m=\u001B[39m read_handlers[ext]\n\u001B[0;32m--> 397\u001B[0m stream \u001B[38;5;241m=\u001B[39m \u001B[43m_get_stream\u001B[49m\u001B[43m(\u001B[49m\u001B[43mdatasource\u001B[49m\u001B[43m,\u001B[49m\u001B[43m \u001B[49m\u001B[43mopenfunc\u001B[49m\u001B[43m,\u001B[49m\u001B[43m \u001B[49m\u001B[43mmode\u001B[49m\u001B[38;5;241;43m=\u001B[39;49m\u001B[43mmode\u001B[49m\u001B[43m)\u001B[49m\n\u001B[1;32m    398\u001B[0m \u001B[38;5;28;01mif\u001B[39;00m stream \u001B[38;5;129;01mis\u001B[39;00m \u001B[38;5;129;01mnot\u001B[39;00m \u001B[38;5;28;01mNone\u001B[39;00m:\n",
      "File \u001B[0;32m/opt/anaconda3/envs/teachopencadd/lib/python3.8/site-packages/MDAnalysis/lib/util.py:439\u001B[0m, in \u001B[0;36m_get_stream\u001B[0;34m(filename, openfunction, mode)\u001B[0m\n\u001B[1;32m    438\u001B[0m \u001B[38;5;28;01mif\u001B[39;00m errno\u001B[38;5;241m.\u001B[39merrorcode[err\u001B[38;5;241m.\u001B[39merrno] \u001B[38;5;129;01min\u001B[39;00m [\u001B[38;5;124m'\u001B[39m\u001B[38;5;124mENOENT\u001B[39m\u001B[38;5;124m'\u001B[39m, \u001B[38;5;124m'\u001B[39m\u001B[38;5;124mEACCES\u001B[39m\u001B[38;5;124m'\u001B[39m]:\n\u001B[0;32m--> 439\u001B[0m     \u001B[38;5;28;01mraise\u001B[39;00m sys\u001B[38;5;241m.\u001B[39mexc_info()[\u001B[38;5;241m1\u001B[39m] \u001B[38;5;28;01mfrom\u001B[39;00m \u001B[38;5;21;01merr\u001B[39;00m\n\u001B[1;32m    440\u001B[0m \u001B[38;5;28;01mreturn\u001B[39;00m \u001B[38;5;28;01mNone\u001B[39;00m\n",
      "File \u001B[0;32m/opt/anaconda3/envs/teachopencadd/lib/python3.8/site-packages/MDAnalysis/lib/util.py:433\u001B[0m, in \u001B[0;36m_get_stream\u001B[0;34m(filename, openfunction, mode)\u001B[0m\n\u001B[1;32m    432\u001B[0m \u001B[38;5;28;01mtry\u001B[39;00m:\n\u001B[0;32m--> 433\u001B[0m     stream \u001B[38;5;241m=\u001B[39m \u001B[43mopenfunction\u001B[49m\u001B[43m(\u001B[49m\u001B[43mfilename\u001B[49m\u001B[43m,\u001B[49m\u001B[43m \u001B[49m\u001B[43mmode\u001B[49m\u001B[38;5;241;43m=\u001B[39;49m\u001B[43mmode\u001B[49m\u001B[43m)\u001B[49m\n\u001B[1;32m    434\u001B[0m \u001B[38;5;28;01mexcept\u001B[39;00m (\u001B[38;5;167;01mIOError\u001B[39;00m, \u001B[38;5;167;01mOSError\u001B[39;00m) \u001B[38;5;28;01mas\u001B[39;00m err:\n\u001B[1;32m    435\u001B[0m     \u001B[38;5;66;03m# An exception might be raised due to two reasons, first the openfunction is unable to open the file, in this\u001B[39;00m\n\u001B[1;32m    436\u001B[0m     \u001B[38;5;66;03m# case we have to ignore the error and return None. Second is when openfunction can't open the file because\u001B[39;00m\n\u001B[1;32m    437\u001B[0m     \u001B[38;5;66;03m# either the file isn't there or the permissions don't allow access.\u001B[39;00m\n",
      "File \u001B[0;32m/opt/anaconda3/envs/teachopencadd/lib/python3.8/site-packages/MDAnalysis/lib/picklable_file_io.py:478\u001B[0m, in \u001B[0;36mbz2_pickle_open\u001B[0;34m(name, mode)\u001B[0m\n\u001B[1;32m    477\u001B[0m bz_mode \u001B[38;5;241m=\u001B[39m mode\u001B[38;5;241m.\u001B[39mreplace(\u001B[38;5;124m\"\u001B[39m\u001B[38;5;124mt\u001B[39m\u001B[38;5;124m\"\u001B[39m, \u001B[38;5;124m\"\u001B[39m\u001B[38;5;124m\"\u001B[39m)\n\u001B[0;32m--> 478\u001B[0m binary_file \u001B[38;5;241m=\u001B[39m \u001B[43mBZ2Picklable\u001B[49m\u001B[43m(\u001B[49m\u001B[43mname\u001B[49m\u001B[43m,\u001B[49m\u001B[43m \u001B[49m\u001B[43mbz_mode\u001B[49m\u001B[43m)\u001B[49m\n\u001B[1;32m    479\u001B[0m \u001B[38;5;28;01mif\u001B[39;00m \u001B[38;5;124m\"\u001B[39m\u001B[38;5;124mt\u001B[39m\u001B[38;5;124m\"\u001B[39m \u001B[38;5;129;01min\u001B[39;00m mode:\n",
      "File \u001B[0;32m/opt/anaconda3/envs/teachopencadd/lib/python3.8/site-packages/MDAnalysis/lib/picklable_file_io.py:266\u001B[0m, in \u001B[0;36mBZ2Picklable.__init__\u001B[0;34m(self, name, mode)\u001B[0m\n\u001B[1;32m    265\u001B[0m \u001B[38;5;28mself\u001B[39m\u001B[38;5;241m.\u001B[39m_bz_mode \u001B[38;5;241m=\u001B[39m mode\n\u001B[0;32m--> 266\u001B[0m \u001B[38;5;28;43msuper\u001B[39;49m\u001B[43m(\u001B[49m\u001B[43m)\u001B[49m\u001B[38;5;241;43m.\u001B[39;49m\u001B[38;5;21;43m__init__\u001B[39;49m\u001B[43m(\u001B[49m\u001B[43mname\u001B[49m\u001B[43m,\u001B[49m\u001B[43m \u001B[49m\u001B[43mmode\u001B[49m\u001B[43m)\u001B[49m\n",
      "File \u001B[0;32m/opt/anaconda3/envs/teachopencadd/lib/python3.8/bz2.py:96\u001B[0m, in \u001B[0;36mBZ2File.__init__\u001B[0;34m(self, filename, mode, buffering, compresslevel)\u001B[0m\n\u001B[1;32m     95\u001B[0m \u001B[38;5;28;01mif\u001B[39;00m \u001B[38;5;28misinstance\u001B[39m(filename, (\u001B[38;5;28mstr\u001B[39m, \u001B[38;5;28mbytes\u001B[39m, os\u001B[38;5;241m.\u001B[39mPathLike)):\n\u001B[0;32m---> 96\u001B[0m     \u001B[38;5;28mself\u001B[39m\u001B[38;5;241m.\u001B[39m_fp \u001B[38;5;241m=\u001B[39m \u001B[43m_builtin_open\u001B[49m\u001B[43m(\u001B[49m\u001B[43mfilename\u001B[49m\u001B[43m,\u001B[49m\u001B[43m \u001B[49m\u001B[43mmode\u001B[49m\u001B[43m)\u001B[49m\n\u001B[1;32m     97\u001B[0m     \u001B[38;5;28mself\u001B[39m\u001B[38;5;241m.\u001B[39m_closefp \u001B[38;5;241m=\u001B[39m \u001B[38;5;28;01mTrue\u001B[39;00m\n",
      "\u001B[0;31mFileNotFoundError\u001B[0m: [Errno 2] No such file or directory: '7N8T.pdb'",
      "\nThe above exception was the direct cause of the following exception:\n",
      "\u001B[0;31mFileNotFoundError\u001B[0m                         Traceback (most recent call last)",
      "Cell \u001B[0;32mIn[6], line 10\u001B[0m\n\u001B[1;32m      8\u001B[0m \u001B[38;5;66;03m# 对接任务\u001B[39;00m\n\u001B[1;32m      9\u001B[0m \u001B[38;5;28;01mfor\u001B[39;00m pdb \u001B[38;5;129;01min\u001B[39;00m pdb_list:\n\u001B[0;32m---> 10\u001B[0m     structure \u001B[38;5;241m=\u001B[39m \u001B[43mStructure\u001B[49m\u001B[38;5;241;43m.\u001B[39;49m\u001B[43mfrom_string\u001B[49m\u001B[43m(\u001B[49m\u001B[38;5;124;43mf\u001B[39;49m\u001B[38;5;124;43m\"\u001B[39;49m\u001B[38;5;132;43;01m{\u001B[39;49;00m\u001B[43mpdb\u001B[49m\u001B[38;5;132;43;01m}\u001B[39;49;00m\u001B[38;5;124;43m.pdb\u001B[39;49m\u001B[38;5;124;43m\"\u001B[39;49m\u001B[43m)\u001B[49m\n\u001B[1;32m     11\u001B[0m     extract_protein_to_pdb(structure, DATA \u001B[38;5;241m/\u001B[39m \u001B[38;5;124mf\u001B[39m\u001B[38;5;124m\"\u001B[39m\u001B[38;5;132;01m{\u001B[39;00mpdb\u001B[38;5;132;01m}\u001B[39;00m\u001B[38;5;124m_protein.pdb\u001B[39m\u001B[38;5;124m\"\u001B[39m)\n\u001B[1;32m     13\u001B[0m     \u001B[38;5;28;01mfor\u001B[39;00m smiles \u001B[38;5;129;01min\u001B[39;00m smiles_list:\n",
      "Cell \u001B[0;32mIn[5], line 37\u001B[0m, in \u001B[0;36mStructure.from_string\u001B[0;34m(cls, pdb_path)\u001B[0m\n\u001B[1;32m     34\u001B[0m \u001B[38;5;129m@classmethod\u001B[39m\n\u001B[1;32m     35\u001B[0m \u001B[38;5;28;01mdef\u001B[39;00m \u001B[38;5;21mfrom_string\u001B[39m(\u001B[38;5;28mcls\u001B[39m, pdb_path):\n\u001B[1;32m     36\u001B[0m \u001B[38;5;250m    \u001B[39m\u001B[38;5;124;03m\"\"\"从本地 PDB 文件加载结构\"\"\"\u001B[39;00m\n\u001B[0;32m---> 37\u001B[0m     \u001B[38;5;28;01mreturn\u001B[39;00m \u001B[38;5;28;43mcls\u001B[39;49m\u001B[43m(\u001B[49m\u001B[43mpdb_path\u001B[49m\u001B[43m)\u001B[49m\n",
      "File \u001B[0;32m/opt/anaconda3/envs/teachopencadd/lib/python3.8/site-packages/MDAnalysis/core/universe.py:346\u001B[0m, in \u001B[0;36mUniverse.__init__\u001B[0;34m(self, topology, all_coordinates, format, topology_format, transformations, guess_bonds, vdwradii, in_memory, in_memory_step, *coordinates, **kwargs)\u001B[0m\n\u001B[1;32m    344\u001B[0m \u001B[38;5;28;01mif\u001B[39;00m \u001B[38;5;129;01mnot\u001B[39;00m \u001B[38;5;28misinstance\u001B[39m(topology, Topology) \u001B[38;5;129;01mand\u001B[39;00m \u001B[38;5;129;01mnot\u001B[39;00m topology \u001B[38;5;129;01mis\u001B[39;00m \u001B[38;5;28;01mNone\u001B[39;00m:\n\u001B[1;32m    345\u001B[0m     \u001B[38;5;28mself\u001B[39m\u001B[38;5;241m.\u001B[39mfilename \u001B[38;5;241m=\u001B[39m _check_file_like(topology)\n\u001B[0;32m--> 346\u001B[0m     topology \u001B[38;5;241m=\u001B[39m \u001B[43m_topology_from_file_like\u001B[49m\u001B[43m(\u001B[49m\u001B[38;5;28;43mself\u001B[39;49m\u001B[38;5;241;43m.\u001B[39;49m\u001B[43mfilename\u001B[49m\u001B[43m,\u001B[49m\n\u001B[1;32m    347\u001B[0m \u001B[43m                                        \u001B[49m\u001B[43mtopology_format\u001B[49m\u001B[38;5;241;43m=\u001B[39;49m\u001B[43mtopology_format\u001B[49m\u001B[43m,\u001B[49m\n\u001B[1;32m    348\u001B[0m \u001B[43m                                        \u001B[49m\u001B[38;5;241;43m*\u001B[39;49m\u001B[38;5;241;43m*\u001B[39;49m\u001B[43mkwargs\u001B[49m\u001B[43m)\u001B[49m\n\u001B[1;32m    350\u001B[0m \u001B[38;5;28;01mif\u001B[39;00m topology \u001B[38;5;129;01mis\u001B[39;00m \u001B[38;5;129;01mnot\u001B[39;00m \u001B[38;5;28;01mNone\u001B[39;00m:\n\u001B[1;32m    351\u001B[0m     \u001B[38;5;28mself\u001B[39m\u001B[38;5;241m.\u001B[39m_topology \u001B[38;5;241m=\u001B[39m topology\n",
      "File \u001B[0;32m/opt/anaconda3/envs/teachopencadd/lib/python3.8/site-packages/MDAnalysis/core/universe.py:118\u001B[0m, in \u001B[0;36m_topology_from_file_like\u001B[0;34m(topology_file, topology_format, **kwargs)\u001B[0m\n\u001B[1;32m    111\u001B[0m \u001B[38;5;28;01mexcept\u001B[39;00m (\u001B[38;5;167;01mIOError\u001B[39;00m, \u001B[38;5;167;01mOSError\u001B[39;00m) \u001B[38;5;28;01mas\u001B[39;00m err:\n\u001B[1;32m    112\u001B[0m     \u001B[38;5;66;03m# There are 2 kinds of errors that might be raised here:\u001B[39;00m\n\u001B[1;32m    113\u001B[0m     \u001B[38;5;66;03m# one because the file isn't present\u001B[39;00m\n\u001B[1;32m    114\u001B[0m     \u001B[38;5;66;03m# or the permissions are bad, second when the parser fails\u001B[39;00m\n\u001B[1;32m    115\u001B[0m     \u001B[38;5;28;01mif\u001B[39;00m (err\u001B[38;5;241m.\u001B[39merrno \u001B[38;5;129;01mis\u001B[39;00m \u001B[38;5;129;01mnot\u001B[39;00m \u001B[38;5;28;01mNone\u001B[39;00m \u001B[38;5;129;01mand\u001B[39;00m\n\u001B[1;32m    116\u001B[0m         errno\u001B[38;5;241m.\u001B[39merrorcode[err\u001B[38;5;241m.\u001B[39merrno] \u001B[38;5;129;01min\u001B[39;00m [\u001B[38;5;124m'\u001B[39m\u001B[38;5;124mENOENT\u001B[39m\u001B[38;5;124m'\u001B[39m, \u001B[38;5;124m'\u001B[39m\u001B[38;5;124mEACCES\u001B[39m\u001B[38;5;124m'\u001B[39m]):\n\u001B[1;32m    117\u001B[0m         \u001B[38;5;66;03m# Runs if the error is propagated due to no permission / file not found\u001B[39;00m\n\u001B[0;32m--> 118\u001B[0m         \u001B[38;5;28;01mraise\u001B[39;00m sys\u001B[38;5;241m.\u001B[39mexc_info()[\u001B[38;5;241m1\u001B[39m] \u001B[38;5;28;01mfrom\u001B[39;00m \u001B[38;5;21;01merr\u001B[39;00m\n\u001B[1;32m    119\u001B[0m     \u001B[38;5;28;01melse\u001B[39;00m:\n\u001B[1;32m    120\u001B[0m         \u001B[38;5;66;03m# Runs when the parser fails\u001B[39;00m\n\u001B[1;32m    121\u001B[0m         \u001B[38;5;28;01mraise\u001B[39;00m \u001B[38;5;167;01mIOError\u001B[39;00m(\u001B[38;5;124m\"\u001B[39m\u001B[38;5;124mFailed to load from the topology file \u001B[39m\u001B[38;5;132;01m{0}\u001B[39;00m\u001B[38;5;124m\"\u001B[39m\n\u001B[1;32m    122\u001B[0m                         \u001B[38;5;124m\"\u001B[39m\u001B[38;5;124m with parser \u001B[39m\u001B[38;5;132;01m{1}\u001B[39;00m\u001B[38;5;124m.\u001B[39m\u001B[38;5;130;01m\\n\u001B[39;00m\u001B[38;5;124m\"\u001B[39m\n\u001B[1;32m    123\u001B[0m                         \u001B[38;5;124m\"\u001B[39m\u001B[38;5;124mError: \u001B[39m\u001B[38;5;132;01m{2}\u001B[39;00m\u001B[38;5;124m\"\u001B[39m\u001B[38;5;241m.\u001B[39mformat(topology_file, parser, err))\n",
      "File \u001B[0;32m/opt/anaconda3/envs/teachopencadd/lib/python3.8/site-packages/MDAnalysis/core/universe.py:110\u001B[0m, in \u001B[0;36m_topology_from_file_like\u001B[0;34m(topology_file, topology_format, **kwargs)\u001B[0m\n\u001B[1;32m    108\u001B[0m \u001B[38;5;28;01mtry\u001B[39;00m:\n\u001B[1;32m    109\u001B[0m     \u001B[38;5;28;01mwith\u001B[39;00m parser(topology_file) \u001B[38;5;28;01mas\u001B[39;00m p:\n\u001B[0;32m--> 110\u001B[0m         topology \u001B[38;5;241m=\u001B[39m \u001B[43mp\u001B[49m\u001B[38;5;241;43m.\u001B[39;49m\u001B[43mparse\u001B[49m\u001B[43m(\u001B[49m\u001B[38;5;241;43m*\u001B[39;49m\u001B[38;5;241;43m*\u001B[39;49m\u001B[43mkwargs\u001B[49m\u001B[43m)\u001B[49m\n\u001B[1;32m    111\u001B[0m \u001B[38;5;28;01mexcept\u001B[39;00m (\u001B[38;5;167;01mIOError\u001B[39;00m, \u001B[38;5;167;01mOSError\u001B[39;00m) \u001B[38;5;28;01mas\u001B[39;00m err:\n\u001B[1;32m    112\u001B[0m     \u001B[38;5;66;03m# There are 2 kinds of errors that might be raised here:\u001B[39;00m\n\u001B[1;32m    113\u001B[0m     \u001B[38;5;66;03m# one because the file isn't present\u001B[39;00m\n\u001B[1;32m    114\u001B[0m     \u001B[38;5;66;03m# or the permissions are bad, second when the parser fails\u001B[39;00m\n\u001B[1;32m    115\u001B[0m     \u001B[38;5;28;01mif\u001B[39;00m (err\u001B[38;5;241m.\u001B[39merrno \u001B[38;5;129;01mis\u001B[39;00m \u001B[38;5;129;01mnot\u001B[39;00m \u001B[38;5;28;01mNone\u001B[39;00m \u001B[38;5;129;01mand\u001B[39;00m\n\u001B[1;32m    116\u001B[0m         errno\u001B[38;5;241m.\u001B[39merrorcode[err\u001B[38;5;241m.\u001B[39merrno] \u001B[38;5;129;01min\u001B[39;00m [\u001B[38;5;124m'\u001B[39m\u001B[38;5;124mENOENT\u001B[39m\u001B[38;5;124m'\u001B[39m, \u001B[38;5;124m'\u001B[39m\u001B[38;5;124mEACCES\u001B[39m\u001B[38;5;124m'\u001B[39m]):\n\u001B[1;32m    117\u001B[0m         \u001B[38;5;66;03m# Runs if the error is propagated due to no permission / file not found\u001B[39;00m\n",
      "File \u001B[0;32m/opt/anaconda3/envs/teachopencadd/lib/python3.8/site-packages/MDAnalysis/topology/PDBParser.py:207\u001B[0m, in \u001B[0;36mPDBParser.parse\u001B[0;34m(self, **kwargs)\u001B[0m\n\u001B[1;32m    200\u001B[0m \u001B[38;5;28;01mdef\u001B[39;00m \u001B[38;5;21mparse\u001B[39m(\u001B[38;5;28mself\u001B[39m, \u001B[38;5;241m*\u001B[39m\u001B[38;5;241m*\u001B[39mkwargs):\n\u001B[1;32m    201\u001B[0m \u001B[38;5;250m    \u001B[39m\u001B[38;5;124;03m\"\"\"Parse atom information from PDB file\u001B[39;00m\n\u001B[1;32m    202\u001B[0m \n\u001B[1;32m    203\u001B[0m \u001B[38;5;124;03m    Returns\u001B[39;00m\n\u001B[1;32m    204\u001B[0m \u001B[38;5;124;03m    -------\u001B[39;00m\n\u001B[1;32m    205\u001B[0m \u001B[38;5;124;03m    MDAnalysis Topology object\u001B[39;00m\n\u001B[1;32m    206\u001B[0m \u001B[38;5;124;03m    \"\"\"\u001B[39;00m\n\u001B[0;32m--> 207\u001B[0m     top \u001B[38;5;241m=\u001B[39m \u001B[38;5;28;43mself\u001B[39;49m\u001B[38;5;241;43m.\u001B[39;49m\u001B[43m_parseatoms\u001B[49m\u001B[43m(\u001B[49m\u001B[43m)\u001B[49m\n\u001B[1;32m    209\u001B[0m     \u001B[38;5;28;01mtry\u001B[39;00m:\n\u001B[1;32m    210\u001B[0m         bonds \u001B[38;5;241m=\u001B[39m \u001B[38;5;28mself\u001B[39m\u001B[38;5;241m.\u001B[39m_parsebonds(top\u001B[38;5;241m.\u001B[39mids\u001B[38;5;241m.\u001B[39mvalues)\n",
      "File \u001B[0;32m/opt/anaconda3/envs/teachopencadd/lib/python3.8/site-packages/MDAnalysis/topology/PDBParser.py:244\u001B[0m, in \u001B[0;36mPDBParser._parseatoms\u001B[0;34m(self)\u001B[0m\n\u001B[1;32m    242\u001B[0m \u001B[38;5;28mself\u001B[39m\u001B[38;5;241m.\u001B[39m_wrapped_serials \u001B[38;5;241m=\u001B[39m \u001B[38;5;28;01mFalse\u001B[39;00m  \u001B[38;5;66;03m# did serials go over 100k?\u001B[39;00m\n\u001B[1;32m    243\u001B[0m last_wrapped_serial \u001B[38;5;241m=\u001B[39m \u001B[38;5;241m100000\u001B[39m  \u001B[38;5;66;03m# if serials wrap, start from here\u001B[39;00m\n\u001B[0;32m--> 244\u001B[0m \u001B[38;5;28;01mwith\u001B[39;00m util\u001B[38;5;241m.\u001B[39mopenany(\u001B[38;5;28mself\u001B[39m\u001B[38;5;241m.\u001B[39mfilename) \u001B[38;5;28;01mas\u001B[39;00m f:\n\u001B[1;32m    245\u001B[0m     \u001B[38;5;28;01mfor\u001B[39;00m line \u001B[38;5;129;01min\u001B[39;00m f:\n\u001B[1;32m    246\u001B[0m         line \u001B[38;5;241m=\u001B[39m line\u001B[38;5;241m.\u001B[39mstrip()  \u001B[38;5;66;03m# Remove extra spaces\u001B[39;00m\n",
      "File \u001B[0;32m/opt/anaconda3/envs/teachopencadd/lib/python3.8/contextlib.py:113\u001B[0m, in \u001B[0;36m_GeneratorContextManager.__enter__\u001B[0;34m(self)\u001B[0m\n\u001B[1;32m    111\u001B[0m \u001B[38;5;28;01mdel\u001B[39;00m \u001B[38;5;28mself\u001B[39m\u001B[38;5;241m.\u001B[39margs, \u001B[38;5;28mself\u001B[39m\u001B[38;5;241m.\u001B[39mkwds, \u001B[38;5;28mself\u001B[39m\u001B[38;5;241m.\u001B[39mfunc\n\u001B[1;32m    112\u001B[0m \u001B[38;5;28;01mtry\u001B[39;00m:\n\u001B[0;32m--> 113\u001B[0m     \u001B[38;5;28;01mreturn\u001B[39;00m \u001B[38;5;28;43mnext\u001B[39;49m\u001B[43m(\u001B[49m\u001B[38;5;28;43mself\u001B[39;49m\u001B[38;5;241;43m.\u001B[39;49m\u001B[43mgen\u001B[49m\u001B[43m)\u001B[49m\n\u001B[1;32m    114\u001B[0m \u001B[38;5;28;01mexcept\u001B[39;00m \u001B[38;5;167;01mStopIteration\u001B[39;00m:\n\u001B[1;32m    115\u001B[0m     \u001B[38;5;28;01mraise\u001B[39;00m \u001B[38;5;167;01mRuntimeError\u001B[39;00m(\u001B[38;5;124m\"\u001B[39m\u001B[38;5;124mgenerator didn\u001B[39m\u001B[38;5;124m'\u001B[39m\u001B[38;5;124mt yield\u001B[39m\u001B[38;5;124m\"\u001B[39m) \u001B[38;5;28;01mfrom\u001B[39;00m \u001B[38;5;28;01mNone\u001B[39;00m\n",
      "File \u001B[0;32m/opt/anaconda3/envs/teachopencadd/lib/python3.8/site-packages/MDAnalysis/lib/util.py:318\u001B[0m, in \u001B[0;36mopenany\u001B[0;34m(datasource, mode, reset)\u001B[0m\n\u001B[1;32m    274\u001B[0m \u001B[38;5;129m@contextmanager\u001B[39m\n\u001B[1;32m    275\u001B[0m \u001B[38;5;28;01mdef\u001B[39;00m \u001B[38;5;21mopenany\u001B[39m(datasource, mode\u001B[38;5;241m=\u001B[39m\u001B[38;5;124m'\u001B[39m\u001B[38;5;124mrt\u001B[39m\u001B[38;5;124m'\u001B[39m, reset\u001B[38;5;241m=\u001B[39m\u001B[38;5;28;01mTrue\u001B[39;00m):\n\u001B[1;32m    276\u001B[0m \u001B[38;5;250m    \u001B[39m\u001B[38;5;124;03m\"\"\"Context manager for :func:`anyopen`.\u001B[39;00m\n\u001B[1;32m    277\u001B[0m \n\u001B[1;32m    278\u001B[0m \u001B[38;5;124;03m    Open the `datasource` and close it when the context of the :keyword:`with`\u001B[39;00m\n\u001B[0;32m   (...)\u001B[0m\n\u001B[1;32m    316\u001B[0m \u001B[38;5;124;03m    :func:`anyopen`\u001B[39;00m\n\u001B[1;32m    317\u001B[0m \u001B[38;5;124;03m    \"\"\"\u001B[39;00m\n\u001B[0;32m--> 318\u001B[0m     stream \u001B[38;5;241m=\u001B[39m \u001B[43manyopen\u001B[49m\u001B[43m(\u001B[49m\u001B[43mdatasource\u001B[49m\u001B[43m,\u001B[49m\u001B[43m \u001B[49m\u001B[43mmode\u001B[49m\u001B[38;5;241;43m=\u001B[39;49m\u001B[43mmode\u001B[49m\u001B[43m,\u001B[49m\u001B[43m \u001B[49m\u001B[43mreset\u001B[49m\u001B[38;5;241;43m=\u001B[39;49m\u001B[43mreset\u001B[49m\u001B[43m)\u001B[49m\n\u001B[1;32m    319\u001B[0m     \u001B[38;5;28;01mtry\u001B[39;00m:\n\u001B[1;32m    320\u001B[0m         \u001B[38;5;28;01myield\u001B[39;00m stream\n",
      "File \u001B[0;32m/opt/anaconda3/envs/teachopencadd/lib/python3.8/site-packages/MDAnalysis/lib/util.py:397\u001B[0m, in \u001B[0;36manyopen\u001B[0;34m(datasource, mode, reset)\u001B[0m\n\u001B[1;32m    395\u001B[0m \u001B[38;5;28;01mfor\u001B[39;00m ext \u001B[38;5;129;01min\u001B[39;00m (\u001B[38;5;124m'\u001B[39m\u001B[38;5;124mbz2\u001B[39m\u001B[38;5;124m'\u001B[39m, \u001B[38;5;124m'\u001B[39m\u001B[38;5;124mgz\u001B[39m\u001B[38;5;124m'\u001B[39m, \u001B[38;5;124m'\u001B[39m\u001B[38;5;124m'\u001B[39m):  \u001B[38;5;66;03m# file == '' should be last\u001B[39;00m\n\u001B[1;32m    396\u001B[0m     openfunc \u001B[38;5;241m=\u001B[39m read_handlers[ext]\n\u001B[0;32m--> 397\u001B[0m     stream \u001B[38;5;241m=\u001B[39m \u001B[43m_get_stream\u001B[49m\u001B[43m(\u001B[49m\u001B[43mdatasource\u001B[49m\u001B[43m,\u001B[49m\u001B[43m \u001B[49m\u001B[43mopenfunc\u001B[49m\u001B[43m,\u001B[49m\u001B[43m \u001B[49m\u001B[43mmode\u001B[49m\u001B[38;5;241;43m=\u001B[39;49m\u001B[43mmode\u001B[49m\u001B[43m)\u001B[49m\n\u001B[1;32m    398\u001B[0m     \u001B[38;5;28;01mif\u001B[39;00m stream \u001B[38;5;129;01mis\u001B[39;00m \u001B[38;5;129;01mnot\u001B[39;00m \u001B[38;5;28;01mNone\u001B[39;00m:\n\u001B[1;32m    399\u001B[0m         \u001B[38;5;28;01mbreak\u001B[39;00m\n",
      "File \u001B[0;32m/opt/anaconda3/envs/teachopencadd/lib/python3.8/site-packages/MDAnalysis/lib/util.py:439\u001B[0m, in \u001B[0;36m_get_stream\u001B[0;34m(filename, openfunction, mode)\u001B[0m\n\u001B[1;32m    434\u001B[0m \u001B[38;5;28;01mexcept\u001B[39;00m (\u001B[38;5;167;01mIOError\u001B[39;00m, \u001B[38;5;167;01mOSError\u001B[39;00m) \u001B[38;5;28;01mas\u001B[39;00m err:\n\u001B[1;32m    435\u001B[0m     \u001B[38;5;66;03m# An exception might be raised due to two reasons, first the openfunction is unable to open the file, in this\u001B[39;00m\n\u001B[1;32m    436\u001B[0m     \u001B[38;5;66;03m# case we have to ignore the error and return None. Second is when openfunction can't open the file because\u001B[39;00m\n\u001B[1;32m    437\u001B[0m     \u001B[38;5;66;03m# either the file isn't there or the permissions don't allow access.\u001B[39;00m\n\u001B[1;32m    438\u001B[0m     \u001B[38;5;28;01mif\u001B[39;00m errno\u001B[38;5;241m.\u001B[39merrorcode[err\u001B[38;5;241m.\u001B[39merrno] \u001B[38;5;129;01min\u001B[39;00m [\u001B[38;5;124m'\u001B[39m\u001B[38;5;124mENOENT\u001B[39m\u001B[38;5;124m'\u001B[39m, \u001B[38;5;124m'\u001B[39m\u001B[38;5;124mEACCES\u001B[39m\u001B[38;5;124m'\u001B[39m]:\n\u001B[0;32m--> 439\u001B[0m         \u001B[38;5;28;01mraise\u001B[39;00m sys\u001B[38;5;241m.\u001B[39mexc_info()[\u001B[38;5;241m1\u001B[39m] \u001B[38;5;28;01mfrom\u001B[39;00m \u001B[38;5;21;01merr\u001B[39;00m\n\u001B[1;32m    440\u001B[0m     \u001B[38;5;28;01mreturn\u001B[39;00m \u001B[38;5;28;01mNone\u001B[39;00m\n\u001B[1;32m    441\u001B[0m \u001B[38;5;28;01mif\u001B[39;00m mode\u001B[38;5;241m.\u001B[39mstartswith(\u001B[38;5;124m'\u001B[39m\u001B[38;5;124mr\u001B[39m\u001B[38;5;124m'\u001B[39m):\n\u001B[1;32m    442\u001B[0m     \u001B[38;5;66;03m# additional check for reading (eg can we uncompress) --- is this needed?\u001B[39;00m\n",
      "File \u001B[0;32m/opt/anaconda3/envs/teachopencadd/lib/python3.8/site-packages/MDAnalysis/lib/util.py:433\u001B[0m, in \u001B[0;36m_get_stream\u001B[0;34m(filename, openfunction, mode)\u001B[0m\n\u001B[1;32m    431\u001B[0m \u001B[38;5;250m\u001B[39m\u001B[38;5;124;03m\"\"\"Return open stream if *filename* can be opened with *openfunction* or else ``None``.\"\"\"\u001B[39;00m\n\u001B[1;32m    432\u001B[0m \u001B[38;5;28;01mtry\u001B[39;00m:\n\u001B[0;32m--> 433\u001B[0m     stream \u001B[38;5;241m=\u001B[39m \u001B[43mopenfunction\u001B[49m\u001B[43m(\u001B[49m\u001B[43mfilename\u001B[49m\u001B[43m,\u001B[49m\u001B[43m \u001B[49m\u001B[43mmode\u001B[49m\u001B[38;5;241;43m=\u001B[39;49m\u001B[43mmode\u001B[49m\u001B[43m)\u001B[49m\n\u001B[1;32m    434\u001B[0m \u001B[38;5;28;01mexcept\u001B[39;00m (\u001B[38;5;167;01mIOError\u001B[39;00m, \u001B[38;5;167;01mOSError\u001B[39;00m) \u001B[38;5;28;01mas\u001B[39;00m err:\n\u001B[1;32m    435\u001B[0m     \u001B[38;5;66;03m# An exception might be raised due to two reasons, first the openfunction is unable to open the file, in this\u001B[39;00m\n\u001B[1;32m    436\u001B[0m     \u001B[38;5;66;03m# case we have to ignore the error and return None. Second is when openfunction can't open the file because\u001B[39;00m\n\u001B[1;32m    437\u001B[0m     \u001B[38;5;66;03m# either the file isn't there or the permissions don't allow access.\u001B[39;00m\n\u001B[1;32m    438\u001B[0m     \u001B[38;5;28;01mif\u001B[39;00m errno\u001B[38;5;241m.\u001B[39merrorcode[err\u001B[38;5;241m.\u001B[39merrno] \u001B[38;5;129;01min\u001B[39;00m [\u001B[38;5;124m'\u001B[39m\u001B[38;5;124mENOENT\u001B[39m\u001B[38;5;124m'\u001B[39m, \u001B[38;5;124m'\u001B[39m\u001B[38;5;124mEACCES\u001B[39m\u001B[38;5;124m'\u001B[39m]:\n",
      "File \u001B[0;32m/opt/anaconda3/envs/teachopencadd/lib/python3.8/site-packages/MDAnalysis/lib/picklable_file_io.py:478\u001B[0m, in \u001B[0;36mbz2_pickle_open\u001B[0;34m(name, mode)\u001B[0m\n\u001B[1;32m    475\u001B[0m     \u001B[38;5;28;01mraise\u001B[39;00m \u001B[38;5;167;01mValueError\u001B[39;00m(\u001B[38;5;124m\"\u001B[39m\u001B[38;5;124mOnly read mode (\u001B[39m\u001B[38;5;124m'\u001B[39m\u001B[38;5;124mr\u001B[39m\u001B[38;5;124m'\u001B[39m\u001B[38;5;124m, \u001B[39m\u001B[38;5;124m'\u001B[39m\u001B[38;5;124mrt\u001B[39m\u001B[38;5;124m'\u001B[39m\u001B[38;5;124m, \u001B[39m\u001B[38;5;124m'\u001B[39m\u001B[38;5;124mrb\u001B[39m\u001B[38;5;124m'\u001B[39m\u001B[38;5;124m) \u001B[39m\u001B[38;5;124m\"\u001B[39m\n\u001B[1;32m    476\u001B[0m                      \u001B[38;5;124m\"\u001B[39m\u001B[38;5;124mfiles can be pickled.\u001B[39m\u001B[38;5;124m\"\u001B[39m)\n\u001B[1;32m    477\u001B[0m bz_mode \u001B[38;5;241m=\u001B[39m mode\u001B[38;5;241m.\u001B[39mreplace(\u001B[38;5;124m\"\u001B[39m\u001B[38;5;124mt\u001B[39m\u001B[38;5;124m\"\u001B[39m, \u001B[38;5;124m\"\u001B[39m\u001B[38;5;124m\"\u001B[39m)\n\u001B[0;32m--> 478\u001B[0m binary_file \u001B[38;5;241m=\u001B[39m \u001B[43mBZ2Picklable\u001B[49m\u001B[43m(\u001B[49m\u001B[43mname\u001B[49m\u001B[43m,\u001B[49m\u001B[43m \u001B[49m\u001B[43mbz_mode\u001B[49m\u001B[43m)\u001B[49m\n\u001B[1;32m    479\u001B[0m \u001B[38;5;28;01mif\u001B[39;00m \u001B[38;5;124m\"\u001B[39m\u001B[38;5;124mt\u001B[39m\u001B[38;5;124m\"\u001B[39m \u001B[38;5;129;01min\u001B[39;00m mode:\n\u001B[1;32m    480\u001B[0m     \u001B[38;5;28;01mreturn\u001B[39;00m TextIOPicklable(binary_file)\n",
      "File \u001B[0;32m/opt/anaconda3/envs/teachopencadd/lib/python3.8/site-packages/MDAnalysis/lib/picklable_file_io.py:266\u001B[0m, in \u001B[0;36mBZ2Picklable.__init__\u001B[0;34m(self, name, mode)\u001B[0m\n\u001B[1;32m    264\u001B[0m \u001B[38;5;28;01mdef\u001B[39;00m \u001B[38;5;21m__init__\u001B[39m(\u001B[38;5;28mself\u001B[39m, name, mode\u001B[38;5;241m=\u001B[39m\u001B[38;5;124m'\u001B[39m\u001B[38;5;124mrb\u001B[39m\u001B[38;5;124m'\u001B[39m):\n\u001B[1;32m    265\u001B[0m     \u001B[38;5;28mself\u001B[39m\u001B[38;5;241m.\u001B[39m_bz_mode \u001B[38;5;241m=\u001B[39m mode\n\u001B[0;32m--> 266\u001B[0m     \u001B[38;5;28;43msuper\u001B[39;49m\u001B[43m(\u001B[49m\u001B[43m)\u001B[49m\u001B[38;5;241;43m.\u001B[39;49m\u001B[38;5;21;43m__init__\u001B[39;49m\u001B[43m(\u001B[49m\u001B[43mname\u001B[49m\u001B[43m,\u001B[49m\u001B[43m \u001B[49m\u001B[43mmode\u001B[49m\u001B[43m)\u001B[49m\n",
      "File \u001B[0;32m/opt/anaconda3/envs/teachopencadd/lib/python3.8/bz2.py:96\u001B[0m, in \u001B[0;36mBZ2File.__init__\u001B[0;34m(self, filename, mode, buffering, compresslevel)\u001B[0m\n\u001B[1;32m     93\u001B[0m     \u001B[38;5;28;01mraise\u001B[39;00m \u001B[38;5;167;01mValueError\u001B[39;00m(\u001B[38;5;124m\"\u001B[39m\u001B[38;5;124mInvalid mode: \u001B[39m\u001B[38;5;132;01m%r\u001B[39;00m\u001B[38;5;124m\"\u001B[39m \u001B[38;5;241m%\u001B[39m (mode,))\n\u001B[1;32m     95\u001B[0m \u001B[38;5;28;01mif\u001B[39;00m \u001B[38;5;28misinstance\u001B[39m(filename, (\u001B[38;5;28mstr\u001B[39m, \u001B[38;5;28mbytes\u001B[39m, os\u001B[38;5;241m.\u001B[39mPathLike)):\n\u001B[0;32m---> 96\u001B[0m     \u001B[38;5;28mself\u001B[39m\u001B[38;5;241m.\u001B[39m_fp \u001B[38;5;241m=\u001B[39m \u001B[43m_builtin_open\u001B[49m\u001B[43m(\u001B[49m\u001B[43mfilename\u001B[49m\u001B[43m,\u001B[49m\u001B[43m \u001B[49m\u001B[43mmode\u001B[49m\u001B[43m)\u001B[49m\n\u001B[1;32m     97\u001B[0m     \u001B[38;5;28mself\u001B[39m\u001B[38;5;241m.\u001B[39m_closefp \u001B[38;5;241m=\u001B[39m \u001B[38;5;28;01mTrue\u001B[39;00m\n\u001B[1;32m     98\u001B[0m     \u001B[38;5;28mself\u001B[39m\u001B[38;5;241m.\u001B[39m_mode \u001B[38;5;241m=\u001B[39m mode_code\n",
      "\u001B[0;31mFileNotFoundError\u001B[0m: [Errno 2] No such file or directory: '7N8T.pdb'"
     ]
    }
   ],
   "source": [],
   "metadata": {
    "collapsed": false,
    "ExecuteTime": {
     "end_time": "2024-11-19T11:57:06.578877Z",
     "start_time": "2024-11-19T11:57:06.084339Z"
    }
   },
   "id": "604c479a80cd6a6f",
   "execution_count": 6
  },
  {
   "cell_type": "code",
   "outputs": [],
   "source": [
    "import warnings\n",
    "from pathlib import Path\n",
    "import subprocess\n",
    "from itertools import product\n",
    "import numpy as np\n",
    "import pandas as pd  # 用于记录 CSV 结果\n",
    "from MDAnalysis import Universe\n",
    "from openbabel import pybel\n",
    "import os\n",
    "\n",
    "# Filter warnings\n",
    "warnings.filterwarnings(\"ignore\")\n",
    "\n",
    "# 设置工作目录\n",
    "HERE = Path(os.getcwd())\n",
    "DATA = HERE / 'data'\n",
    "DATA.mkdir(parents=True, exist_ok=True)\n",
    "\n",
    "# CSV 文件路径\n",
    "RESULT_CSV = DATA / 'result_dock.csv'\n",
    "\n",
    "# 初始化 CSV 文件\n",
    "if not RESULT_CSV.exists():\n",
    "    pd.DataFrame(columns=['pdb', 'ligand_resnames', 'smiles', 'dock_info']).to_csv(RESULT_CSV, index=False)\n",
    "\n",
    "\n",
    "class Structure(Universe):\n",
    "    \"\"\"Core object to load structures with.\"\"\"\n",
    "\n",
    "    @classmethod\n",
    "    def from_string(cls, pdb_path):\n",
    "        \"\"\"Load a structure from a local PDB file.\"\"\"\n",
    "        return cls(pdb_path)\n",
    "\n",
    "\n",
    "# 提取蛋白质并保存为 PDB 格式\n",
    "def extract_protein_to_pdb(structure, protein_path):\n",
    "    \"\"\"Extract protein from structure and save it as PDB.\"\"\"\n",
    "    protein = structure.select_atoms(\"protein\")\n",
    "    protein.write(str(protein_path))  # 自动根据扩展名保存为 PDB 格式\n",
    "\n",
    "\n",
    "# 自动检测所有配体残基\n",
    "def find_all_ligand_resnames(structure):\n",
    "    \"\"\"返回所有非蛋白质和非水分子的残基名称列表\"\"\"\n",
    "    ligand_atoms = structure.select_atoms(\"not protein and not resname HOH\")\n",
    "    return list(set(ligand_atoms.resnames))\n",
    "\n",
    "\n",
    "def pdb_to_pdbqt(pdb_path, pdbqt_path, pH=7.4):\n",
    "    \"\"\"Convert a PDB file to a PDBQT file.\"\"\"\n",
    "    molecule = list(pybel.readfile(\"pdb\", str(pdb_path)))[0]\n",
    "    molecule.OBMol.CorrectForPH(pH)\n",
    "    molecule.addh()\n",
    "    for atom in molecule.atoms:\n",
    "        atom.OBAtom.GetPartialCharge()\n",
    "    molecule.write(\"pdbqt\", str(pdbqt_path), overwrite=True)\n",
    "\n",
    "\n",
    "def smiles_to_pdbqt(smiles, pdbqt_path, pH=7.4):\n",
    "    \"\"\"Convert a SMILES string to a PDBQT file.\"\"\"\n",
    "    molecule = pybel.readstring(\"smi\", smiles)\n",
    "    molecule.OBMol.CorrectForPH(pH)\n",
    "    molecule.addh()\n",
    "    molecule.make3D(forcefield=\"mmff94s\", steps=10000)\n",
    "    for atom in molecule.atoms:\n",
    "        atom.OBAtom.GetPartialCharge()\n",
    "    molecule.write(\"pdbqt\", str(pdbqt_path), overwrite=True)\n",
    "\n",
    "\n",
    "def run_smina(ligand_path, protein_path, out_path, pocket_center, pocket_size):\n",
    "    \"\"\"Perform docking with Smina.\"\"\"\n",
    "    output_text = subprocess.check_output([\n",
    "        \"smina\",\n",
    "        \"--receptor\", str(protein_path),\n",
    "        \"--ligand\", str(ligand_path),\n",
    "        \"--out\", str(out_path),\n",
    "        \"--center_x\", str(pocket_center[0]),\n",
    "        \"--center_y\", str(pocket_center[1]),\n",
    "        \"--center_z\", str(pocket_center[2]),\n",
    "        \"--size_x\", str(pocket_size[0]),\n",
    "        \"--size_y\", str(pocket_size[1]),\n",
    "        \"--size_z\", str(pocket_size[2])\n",
    "    ])\n",
    "    return output_text.decode(\"utf-8\")\n",
    "\n",
    "\n",
    "def parse_dock_info(dock_output):\n",
    "    \"\"\"解析 Smina 输出中的对接信息\"\"\"\n",
    "    dock_lines = dock_output.splitlines()\n",
    "    dock_data = []\n",
    "    capture = False\n",
    "    for line in dock_lines:\n",
    "        if \"mode\" in line and \"affinity\" in line:  # 开始捕获表格数据\n",
    "            capture = True\n",
    "            continue\n",
    "        if capture:\n",
    "            if line.strip() == \"\" or \"Refine time\" in line or \"Loop time\" in line:\n",
    "                break\n",
    "            dock_data.append(line.strip())\n",
    "    return \"\\n\".join(dock_data)\n",
    "\n",
    "\n",
    "def split_sdf_file(sdf_path):\n",
    "    \"\"\"Split an SDF file into separate files for each molecule.\"\"\"\n",
    "    sdf_path = Path(sdf_path)\n",
    "    stem = sdf_path.stem\n",
    "    parent = sdf_path.parent\n",
    "    molecules = pybel.readfile(\"sdf\", str(sdf_path))\n",
    "    for i, molecule in enumerate(molecules, 1):\n",
    "        molecule.write(\"sdf\", str(parent / f\"{stem}_{i}.sdf\"), overwrite=True)\n",
    "\n",
    "\n",
    "def run_smina_with_output(ligand_path, protein_path, out_path, pocket_center, pocket_size):\n",
    "    \"\"\"Perform docking with Smina and include the output in a combined PDBQT format.\"\"\"\n",
    "    output_log = subprocess.check_output([\n",
    "        \"smina\",\n",
    "        \"--receptor\", str(protein_path),\n",
    "        \"--ligand\", str(ligand_path),\n",
    "        \"--out\", str(out_path),\n",
    "        \"--center_x\", str(pocket_center[0]),\n",
    "        \"--center_y\", str(pocket_center[1]),\n",
    "        \"--center_z\", str(pocket_center[2]),\n",
    "        \"--size_x\", str(pocket_size[0]),\n",
    "        \"--size_y\", str(pocket_size[1]),\n",
    "        \"--size_z\", str(pocket_size[2])\n",
    "    ])\n",
    "    return output_log.decode(\"utf-8\")\n",
    "\n",
    "\n",
    "# 主程序\n",
    "pdb_list = ['7N8T', '8ELC', '4RA4', '8U37', '8UAK']\n",
    "smiles_list = [\n",
    "    \"CC1(N)CCN(c2cccnc2NC(=O)c2nc(-c3nc(N4CCOCC4)cc4ccccc34)cnc2N)CC1\",\n",
    "    \"Nc1ncc(-c2cccc(N3CCOCC3)c2)nc1C(=O)Nc1ncccc1N1CCC(N)CC1\",\n",
    "]\n",
    "\n",
    "# Update the docking loop to ensure output alignment with your requirements\n",
    "for pdb_id, smiles in product(pdb_list, smiles_list):\n",
    "    pdb_dir = DATA / f\"data_{pdb_id}\"\n",
    "    pdb_dir.mkdir(parents=True, exist_ok=True)\n",
    "\n",
    "    pdb_path = pdb_dir / f\"{pdb_id}.pdb\"\n",
    "    structure = Structure.from_string(pdb_path)\n",
    "\n",
    "    protein_path = pdb_dir / \"protein.pdb\"\n",
    "    extract_protein_to_pdb(structure, protein_path)\n",
    "\n",
    "    protein_pdbqt_path = pdb_dir / \"protein.pdbqt\"\n",
    "    pdb_to_pdbqt(protein_path, protein_pdbqt_path)\n",
    "\n",
    "    for ligand_resname in find_all_ligand_resnames(structure):\n",
    "        ligand_dir = pdb_dir / f\"ligand_{ligand_resname}\"\n",
    "        ligand_dir.mkdir(parents=True, exist_ok=True)\n",
    "\n",
    "        ligand = structure.select_atoms(f\"resname {ligand_resname}\")\n",
    "        pocket_center = (ligand.positions.max(axis=0) + ligand.positions.min(axis=0)) / 2\n",
    "        pocket_size = ligand.positions.max(axis=0) - ligand.positions.min(axis=0) + 5\n",
    "\n",
    "        smiles_hash = ''.join(e for e in smiles if e.isalnum())\n",
    "        smiles_dir = ligand_dir / f\"smiles_{smiles_hash}\"\n",
    "        smiles_dir.mkdir(parents=True, exist_ok=True)\n",
    "\n",
    "        ligand_path = smiles_dir / \"ligand.pdbqt\"\n",
    "        docking_out_path = smiles_dir / f\"{pdb_id}_{smiles_hash}_dock.pdbqt\"\n",
    "        log_path = smiles_dir / \"docking_log.txt\"\n",
    "\n",
    "        smiles_to_pdbqt(smiles, ligand_path)\n",
    "\n",
    "        docking_output = run_smina_with_output(ligand_path, protein_pdbqt_path, docking_out_path, pocket_center,\n",
    "                                               pocket_size)\n",
    "\n",
    "        with open(log_path, \"w\") as log_file:\n",
    "            log_file.write(docking_output)\n",
    "\n",
    "        dock_info = parse_dock_info(docking_output)\n",
    "        new_row = {\n",
    "            'pdb': pdb_id,\n",
    "            'ligand_resnames': ligand_resname,\n",
    "            'smiles': smiles,\n",
    "            'dock_info': dock_info\n",
    "        }\n",
    "        result_df = pd.read_csv(RESULT_CSV)\n",
    "        result_df = pd.concat([result_df, pd.DataFrame([new_row])], ignore_index=True)\n",
    "        result_df.to_csv(RESULT_CSV, index=False)\n",
    "\n",
    "print(\"Docking workflow completed successfully!\")\n"
   ],
   "metadata": {
    "collapsed": false
   },
   "id": "b33535efe85105b8",
   "execution_count": null
  },
  {
   "cell_type": "code",
   "outputs": [],
   "source": [],
   "metadata": {
    "collapsed": false
   },
   "id": "7cd6e23815dae2b6"
  }
 ],
 "metadata": {
  "kernelspec": {
   "display_name": "Python 3 (ipykernel)",
   "language": "python",
   "name": "python3"
  },
  "language_info": {
   "codemirror_mode": {
    "name": "ipython",
    "version": 3
   },
   "file_extension": ".py",
   "mimetype": "text/x-python",
   "name": "python",
   "nbconvert_exporter": "python",
   "pygments_lexer": "ipython3",
   "version": "3.8.15"
  }
 },
 "nbformat": 4,
 "nbformat_minor": 5
}
