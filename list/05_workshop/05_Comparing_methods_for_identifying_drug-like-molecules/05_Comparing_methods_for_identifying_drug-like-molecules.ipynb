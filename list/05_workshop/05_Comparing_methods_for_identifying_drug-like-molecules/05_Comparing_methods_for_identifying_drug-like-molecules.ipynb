{
 "cells": [
  {
   "cell_type": "markdown",
   "source": [
    "#  Comparing methods for identifying drug-like molecules\n"
   ],
   "metadata": {
    "collapsed": false
   },
   "id": "66b5ad7f557f1704"
  },
  {
   "cell_type": "markdown",
   "source": [
    "- In this notebook, we will compare different methods for identifying drug-like molecules. We will use the following datasets:\n",
    "- \n",
    "- 1. ZINC database: A database of over 100 million compounds with known chemical structures and properties. \n",
    "- 2. PubChem BioAssay: A database of bioassays performed on PubChem compounds. \n",
    "- 3. ChEMBL: A database of over 1.5 million drug-like molecules with known chemical structures and properties. \n",
    "- \n",
    "- We will compare the following methods:\n",
    "- \n",
    "- 1. Morgan fingerprints: A method for generating a fixed-length vector representation of a molecule based on its chemical structure. \n",
    "- 2. Random forest: A machine learning algorithm that can classify molecules based on their chemical structure. \n",
    "- 3. Convolutional neural network: A deep learning algorithm that can classify molecules based on their chemical structure. \n",
    "- \n",
    "- We will use the following metrics to evaluate the performance of each method:\n",
    "- \n",
    "- 1. Matthews correlation coefficient (MCC): A measure of the quality of the predicted binary classification. \n",
    "- 2. Area under the receiver-operating characteristic curve (AUC-ROC): A measure of the quality of the predicted probability distribution. \n",
    "- 3. Precision-recall curve: A measure of the quality of the predicted binary classification. \n",
    "- 4. ROC curve: A measure of the quality of the predicted probability distribution. \n",
    "- \n",
    "- We will also compare the performance of each method on the same datasets."
   ],
   "metadata": {
    "collapsed": false
   },
   "id": "d8b9638c76bcb452"
  },
  {
   "cell_type": "code",
   "execution_count": 1,
   "id": "initial_id",
   "metadata": {
    "collapsed": true,
    "ExecuteTime": {
     "end_time": "2024-10-22T18:05:42.867085Z",
     "start_time": "2024-10-22T18:05:42.858582Z"
    }
   },
   "outputs": [
    {
     "name": "stdout",
     "output_type": "stream",
     "text": [
      "/Users/wangyang/Desktop/AI-drug-design/list/05_workshop/05_Comparing_methods_for_identifying_drug-like-molecules/data\n"
     ]
    }
   ],
   "source": [
    "from pathlib import Path\n",
    "import os\n",
    "\n",
    "# 获取当前工作目录\n",
    "HERE = Path(os.getcwd())\n",
    "DATA = HERE / 'data'\n",
    "if not DATA.exists():\n",
    "    DATA.mkdir(parents=True, exist_ok=True)\n",
    "print(DATA)"
   ]
  },
  {
   "cell_type": "code",
   "outputs": [
    {
     "ename": "ModuleNotFoundError",
     "evalue": "No module named 'useful_rdkit_utils'",
     "output_type": "error",
     "traceback": [
      "\u001B[0;31m---------------------------------------------------------------------------\u001B[0m",
      "\u001B[0;31mModuleNotFoundError\u001B[0m                       Traceback (most recent call last)",
      "Cell \u001B[0;32mIn[2], line 11\u001B[0m\n\u001B[1;32m      9\u001B[0m \u001B[38;5;28;01mimport\u001B[39;00m \u001B[38;5;21;01msascorer\u001B[39;00m\n\u001B[1;32m     10\u001B[0m \u001B[38;5;28;01mfrom\u001B[39;00m \u001B[38;5;21;01mtqdm\u001B[39;00m\u001B[38;5;21;01m.\u001B[39;00m\u001B[38;5;21;01mauto\u001B[39;00m \u001B[38;5;28;01mimport\u001B[39;00m tqdm\n\u001B[0;32m---> 11\u001B[0m \u001B[38;5;28;01mimport\u001B[39;00m \u001B[38;5;21;01museful_rdkit_utils\u001B[39;00m \u001B[38;5;28;01mas\u001B[39;00m \u001B[38;5;21;01muru\u001B[39;00m\n",
      "\u001B[0;31mModuleNotFoundError\u001B[0m: No module named 'useful_rdkit_utils'"
     ]
    }
   ],
   "source": [
    "import sys\n",
    "import os\n",
    "import pandas as pd\n",
    "from rdkit import Chem\n",
    "from rdkit.Chem.QED import qed\n",
    "from rdkit.Chem import RDConfig\n",
    "import seaborn as sns\n",
    "sys.path.append(os.path.join(RDConfig.RDContribDir,'SA_Score'))\n",
    "import sascorer\n",
    "from tqdm.auto import tqdm\n",
    "import useful_rdkit_utils as uru"
   ],
   "metadata": {
    "collapsed": false,
    "ExecuteTime": {
     "end_time": "2024-10-22T18:07:22.086413Z",
     "start_time": "2024-10-22T18:07:18.525352Z"
    }
   },
   "id": "24b99f78680c5196",
   "execution_count": 2
  },
  {
   "cell_type": "code",
   "outputs": [],
   "source": [],
   "metadata": {
    "collapsed": false
   },
   "id": "9c2b55840a283a45"
  }
 ],
 "metadata": {
  "kernelspec": {
   "display_name": "Python 3",
   "language": "python",
   "name": "python3"
  },
  "language_info": {
   "codemirror_mode": {
    "name": "ipython",
    "version": 2
   },
   "file_extension": ".py",
   "mimetype": "text/x-python",
   "name": "python",
   "nbconvert_exporter": "python",
   "pygments_lexer": "ipython2",
   "version": "2.7.6"
  }
 },
 "nbformat": 4,
 "nbformat_minor": 5
}
