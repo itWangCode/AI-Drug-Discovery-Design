{
 "cells": [
  {
   "metadata": {},
   "cell_type": "markdown",
   "source": "# Upgraded Fragment Design: Generate New Molecules\n",
   "id": "fbf3e9d4128eaad1"
  },
  {
   "metadata": {},
   "cell_type": "markdown",
   "source": "1. 数据准备和预处理",
   "id": "a988f9d7e1637178"
  },
  {
   "metadata": {
    "ExecuteTime": {
     "end_time": "2024-10-18T04:50:31.707716Z",
     "start_time": "2024-10-18T04:50:27.409744Z"
    }
   },
   "cell_type": "code",
   "source": [
    "# 导入必要的库\n",
    "import os\n",
    "import pandas as pd\n",
    "import numpy as np\n",
    "import random\n",
    "import torch\n",
    "import torch.nn as nn\n",
    "import torch.nn.functional as F\n",
    "from rdkit import Chem\n",
    "from rdkit.Chem import AllChem\n",
    "from rdkit.Chem import Draw\n",
    "from rdkit import RDLogger\n",
    "from rdkit.Chem import Descriptors\n",
    "from rdkit.Chem import Crippen\n",
    "from rdkit.Chem.Scaffolds import MurckoScaffold\n",
    "from rdkit.Chem import BRICS\n",
    "from rdkit.Chem import rdChemReactions\n",
    "from rdkit.Chem.FilterCatalog import FilterCatalogParams, FilterCatalog\n",
    "from torch.utils.data import DataLoader\n",
    "from sklearn.model_selection import train_test_split\n",
    "from tqdm import tqdm\n",
    "from pathlib import Path\n",
    "from itertools import product\n"
   ],
   "id": "b885a8fea1457f4e",
   "outputs": [],
   "execution_count": 1
  },
  {
   "metadata": {
    "ExecuteTime": {
     "end_time": "2024-10-18T04:50:31.718496Z",
     "start_time": "2024-10-18T04:50:31.715040Z"
    }
   },
   "cell_type": "code",
   "source": [
    "# 禁用 RDKit 日志\n",
    "RDLogger.DisableLog('rdApp.*')"
   ],
   "id": "51912b14c64fc3ff",
   "outputs": [],
   "execution_count": 2
  },
  {
   "metadata": {
    "ExecuteTime": {
     "end_time": "2024-10-18T04:50:31.948402Z",
     "start_time": "2024-10-18T04:50:31.941670Z"
    }
   },
   "cell_type": "code",
   "source": [
    "# 设置随机种子\n",
    "def seed_all(seed=42):\n",
    "    np.random.seed(seed)\n",
    "    random.seed(seed)\n",
    "    torch.manual_seed(seed)\n",
    "    if torch.cuda.is_available():\n",
    "        torch.cuda.manual_seed_all(seed)\n",
    "\n",
    "seed_all()\n"
   ],
   "id": "c3fcc8f013d0ac33",
   "outputs": [],
   "execution_count": 3
  },
  {
   "metadata": {
    "ExecuteTime": {
     "end_time": "2024-10-18T04:50:31.986422Z",
     "start_time": "2024-10-18T04:50:31.982864Z"
    }
   },
   "cell_type": "code",
   "source": [
    "# 检查是否有可用的 GPU\n",
    "device = torch.device(\"cuda\" if torch.cuda.is_available() else \"cpu\")\n",
    "print(f'Using device: {device}')"
   ],
   "id": "ef92a43ea4f0d581",
   "outputs": [
    {
     "name": "stdout",
     "output_type": "stream",
     "text": [
      "Using device: cpu\n"
     ]
    }
   ],
   "execution_count": 4
  },
  {
   "metadata": {
    "ExecuteTime": {
     "end_time": "2024-10-18T04:50:32.113468Z",
     "start_time": "2024-10-18T04:50:32.108868Z"
    }
   },
   "cell_type": "code",
   "source": [
    "# 获取当前工作目录\n",
    "HERE = Path(os.getcwd())\n",
    "DATA = HERE / 'data'\n",
    "if not DATA.exists():\n",
    "    DATA.mkdir(parents=True, exist_ok=True)\n",
    "print(DATA)"
   ],
   "id": "e1d39204db9add86",
   "outputs": [
    {
     "name": "stdout",
     "output_type": "stream",
     "text": [
      "/Users/wangyang/Desktop/AI-drug-design/list/05_workshop/03_Fragment-Design_Generate-New-Molecules/data\n"
     ]
    }
   ],
   "execution_count": 5
  },
  {
   "metadata": {
    "ExecuteTime": {
     "end_time": "2024-10-18T04:50:32.161032Z",
     "start_time": "2024-10-18T04:50:32.148847Z"
    }
   },
   "cell_type": "code",
   "source": [
    "# 加载数据集\n",
    "df = pd.read_csv(DATA / 'egfr_data_ubstructures_matches.csv')"
   ],
   "id": "70391564e31f24ef",
   "outputs": [],
   "execution_count": 6
  },
  {
   "metadata": {
    "ExecuteTime": {
     "end_time": "2024-10-18T04:50:32.193276Z",
     "start_time": "2024-10-18T04:50:32.189543Z"
    }
   },
   "cell_type": "code",
   "source": [
    "# 移除缺失或无效的 SMILES\n",
    "df = df[df['smiles'].notnull()]"
   ],
   "id": "f674bc16fb43ed3",
   "outputs": [],
   "execution_count": 7
  },
  {
   "metadata": {
    "ExecuteTime": {
     "end_time": "2024-10-18T04:50:32.218663Z",
     "start_time": "2024-10-18T04:50:32.206415Z"
    }
   },
   "cell_type": "code",
   "source": "df.head()",
   "id": "665cf8fd5b5f4e74",
   "outputs": [
    {
     "data": {
      "text/plain": [
       "  molecule_chembl_id   IC50 units                               smiles  \\\n",
       "0        CHEMBL35820  0.006    nM  CCOc1cc2ncnc(Nc3cccc(Br)c3)c2cc1OCC   \n",
       "1        CHEMBL53711  0.006    nM   CN(C)c1cc2c(Nc3cccc(Br)c3)ncnc2cn1   \n",
       "2        CHEMBL53753  0.008    nM      CNc1cc2c(Nc3cccc(Br)c3)ncnc2cn1   \n",
       "3        CHEMBL66031  0.008    nM  Brc1cccc(Nc2ncnc3cc4[nH]cnc4cc23)c1   \n",
       "4       CHEMBL176582  0.010    nM  Cn1cnc2cc3ncnc(Nc4cccc(Br)c4)c3cc21   \n",
       "\n",
       "       pIC50  ro5_fulfilled                                             ROMol  \n",
       "0  11.221849           True  <rdkit.Chem.rdchem.Mol object at 0x7fbdb826e190>  \n",
       "1  11.221849           True  <rdkit.Chem.rdchem.Mol object at 0x7fbdb826e200>  \n",
       "2  11.096910           True  <rdkit.Chem.rdchem.Mol object at 0x7fbdb826e270>  \n",
       "3  11.096910           True  <rdkit.Chem.rdchem.Mol object at 0x7fbdb826e2e0>  \n",
       "4  11.000000           True  <rdkit.Chem.rdchem.Mol object at 0x7fbdb826e350>  "
      ],
      "text/html": [
       "<div>\n",
       "<style scoped>\n",
       "    .dataframe tbody tr th:only-of-type {\n",
       "        vertical-align: middle;\n",
       "    }\n",
       "\n",
       "    .dataframe tbody tr th {\n",
       "        vertical-align: top;\n",
       "    }\n",
       "\n",
       "    .dataframe thead th {\n",
       "        text-align: right;\n",
       "    }\n",
       "</style>\n",
       "<table border=\"1\" class=\"dataframe\">\n",
       "  <thead>\n",
       "    <tr style=\"text-align: right;\">\n",
       "      <th></th>\n",
       "      <th>molecule_chembl_id</th>\n",
       "      <th>IC50</th>\n",
       "      <th>units</th>\n",
       "      <th>smiles</th>\n",
       "      <th>pIC50</th>\n",
       "      <th>ro5_fulfilled</th>\n",
       "      <th>ROMol</th>\n",
       "    </tr>\n",
       "  </thead>\n",
       "  <tbody>\n",
       "    <tr>\n",
       "      <th>0</th>\n",
       "      <td>CHEMBL35820</td>\n",
       "      <td>0.006</td>\n",
       "      <td>nM</td>\n",
       "      <td>CCOc1cc2ncnc(Nc3cccc(Br)c3)c2cc1OCC</td>\n",
       "      <td>11.221849</td>\n",
       "      <td>True</td>\n",
       "      <td>&lt;rdkit.Chem.rdchem.Mol object at 0x7fbdb826e190&gt;</td>\n",
       "    </tr>\n",
       "    <tr>\n",
       "      <th>1</th>\n",
       "      <td>CHEMBL53711</td>\n",
       "      <td>0.006</td>\n",
       "      <td>nM</td>\n",
       "      <td>CN(C)c1cc2c(Nc3cccc(Br)c3)ncnc2cn1</td>\n",
       "      <td>11.221849</td>\n",
       "      <td>True</td>\n",
       "      <td>&lt;rdkit.Chem.rdchem.Mol object at 0x7fbdb826e200&gt;</td>\n",
       "    </tr>\n",
       "    <tr>\n",
       "      <th>2</th>\n",
       "      <td>CHEMBL53753</td>\n",
       "      <td>0.008</td>\n",
       "      <td>nM</td>\n",
       "      <td>CNc1cc2c(Nc3cccc(Br)c3)ncnc2cn1</td>\n",
       "      <td>11.096910</td>\n",
       "      <td>True</td>\n",
       "      <td>&lt;rdkit.Chem.rdchem.Mol object at 0x7fbdb826e270&gt;</td>\n",
       "    </tr>\n",
       "    <tr>\n",
       "      <th>3</th>\n",
       "      <td>CHEMBL66031</td>\n",
       "      <td>0.008</td>\n",
       "      <td>nM</td>\n",
       "      <td>Brc1cccc(Nc2ncnc3cc4[nH]cnc4cc23)c1</td>\n",
       "      <td>11.096910</td>\n",
       "      <td>True</td>\n",
       "      <td>&lt;rdkit.Chem.rdchem.Mol object at 0x7fbdb826e2e0&gt;</td>\n",
       "    </tr>\n",
       "    <tr>\n",
       "      <th>4</th>\n",
       "      <td>CHEMBL176582</td>\n",
       "      <td>0.010</td>\n",
       "      <td>nM</td>\n",
       "      <td>Cn1cnc2cc3ncnc(Nc4cccc(Br)c4)c3cc21</td>\n",
       "      <td>11.000000</td>\n",
       "      <td>True</td>\n",
       "      <td>&lt;rdkit.Chem.rdchem.Mol object at 0x7fbdb826e350&gt;</td>\n",
       "    </tr>\n",
       "  </tbody>\n",
       "</table>\n",
       "</div>"
      ]
     },
     "execution_count": 8,
     "metadata": {},
     "output_type": "execute_result"
    }
   ],
   "execution_count": 8
  },
  {
   "metadata": {
    "ExecuteTime": {
     "end_time": "2024-10-18T04:50:38.611677Z",
     "start_time": "2024-10-18T04:50:38.608878Z"
    }
   },
   "cell_type": "code",
   "source": [
    "# 提取 SMILES 和标签（pIC50）\n",
    "smiles_list = df['smiles'].tolist()\n",
    "labels = df['pIC50'].tolist()"
   ],
   "id": "7b0948c556b71fe1",
   "outputs": [],
   "execution_count": 12
  },
  {
   "metadata": {
    "ExecuteTime": {
     "end_time": "2024-10-18T04:50:39.357727Z",
     "start_time": "2024-10-18T04:50:38.837843Z"
    }
   },
   "cell_type": "code",
   "source": [
    "# 将 SMILES 转换为 RDKit 分子对象，过滤无效的分子\n",
    "molecules = [Chem.MolFromSmiles(smi) for smi in smiles_list]\n",
    "valid_indices = [i for i, mol in enumerate(molecules) if mol is not None]\n",
    "smiles_list = [smiles_list[i] for i in valid_indices]\n",
    "labels = [labels[i] for i in valid_indices]\n",
    "molecules = [molecules[i] for i in valid_indices]"
   ],
   "id": "e2cfca54cb673bad",
   "outputs": [],
   "execution_count": 13
  },
  {
   "metadata": {
    "ExecuteTime": {
     "end_time": "2024-10-18T04:50:39.376143Z",
     "start_time": "2024-10-18T04:50:39.372931Z"
    }
   },
   "cell_type": "code",
   "source": "print(f'有效分子数量: {len(smiles_list)}')",
   "id": "d166183ee9d9c26f",
   "outputs": [
    {
     "name": "stdout",
     "output_type": "stream",
     "text": [
      "有效分子数量: 2444\n"
     ]
    }
   ],
   "execution_count": 14
  },
  {
   "metadata": {
    "ExecuteTime": {
     "end_time": "2024-10-18T04:50:40.274834Z",
     "start_time": "2024-10-18T04:50:39.599613Z"
    }
   },
   "cell_type": "code",
   "source": [
    "# 提取 Murcko 骨架\n",
    "scaffolds = set()\n",
    "for mol in molecules:\n",
    "    scaffold = MurckoScaffold.GetScaffoldForMol(mol)\n",
    "    if scaffold:\n",
    "        scaffolds.add(Chem.MolToSmiles(scaffold))\n",
    "\n",
    "print(f'提取到的独特 Murcko 骨架数量: {len(scaffolds)}')"
   ],
   "id": "2516e361f3362497",
   "outputs": [
    {
     "name": "stdout",
     "output_type": "stream",
     "text": [
      "提取到的独特 Murcko 骨架数量: 925\n"
     ]
    }
   ],
   "execution_count": 15
  },
  {
   "metadata": {
    "ExecuteTime": {
     "end_time": "2024-10-18T04:50:54.313082Z",
     "start_time": "2024-10-18T04:50:40.299879Z"
    }
   },
   "cell_type": "code",
   "source": [
    "# 提取 BRICS 片段\n",
    "brics_fragments = set()\n",
    "for mol in molecules:\n",
    "    frags = BRICS.BRICSDecompose(mol)\n",
    "    brics_fragments.update(frags)\n",
    "\n",
    "print(f'提取到的独特 BRICS 片段数量: {len(brics_fragments)}')"
   ],
   "id": "3cd522e327f24723",
   "outputs": [
    {
     "name": "stdout",
     "output_type": "stream",
     "text": [
      "提取到的独特 BRICS 片段数量: 1050\n"
     ]
    }
   ],
   "execution_count": 16
  },
  {
   "metadata": {
    "ExecuteTime": {
     "end_time": "2024-10-18T04:50:54.399563Z",
     "start_time": "2024-10-18T04:50:54.396384Z"
    }
   },
   "cell_type": "code",
   "source": [
    "# 合并所有片段\n",
    "all_fragments_smiles = list(scaffolds.union(brics_fragments))"
   ],
   "id": "a373eebeca065fc3",
   "outputs": [],
   "execution_count": 17
  },
  {
   "metadata": {
    "ExecuteTime": {
     "end_time": "2024-10-18T04:50:54.424827Z",
     "start_time": "2024-10-18T04:50:54.421941Z"
    }
   },
   "cell_type": "code",
   "source": [
    "# 去重后的总片段数量\n",
    "print(f'总片段数量（去重后): {len(all_fragments_smiles)}')"
   ],
   "id": "8e012a212c55a002",
   "outputs": [
    {
     "name": "stdout",
     "output_type": "stream",
     "text": [
      "总片段数量（去重后): 1974\n"
     ]
    }
   ],
   "execution_count": 18
  },
  {
   "cell_type": "code",
   "id": "initial_id",
   "metadata": {
    "collapsed": true,
    "ExecuteTime": {
     "end_time": "2024-10-18T04:50:54.876976Z",
     "start_time": "2024-10-18T04:50:54.515318Z"
    }
   },
   "source": [
    "# 将片段转换为 RDKit 分子对象\n",
    "fragment_mols = [Chem.MolFromSmiles(frag) for frag in all_fragments_smiles]\n",
    "fragment_mols = [frag for frag in fragment_mols if frag is not None]"
   ],
   "outputs": [],
   "execution_count": 19
  },
  {
   "metadata": {},
   "cell_type": "markdown",
   "source": [
    "### **2. 扩展反应 SMARTS 集合**\n",
    "\n",
    "将添加约 50 个常用的化学反应的 SMARTS 表示，以供生成新分子时使用。"
   ],
   "id": "35bf39ef19974622"
  },
  {
   "metadata": {
    "ExecuteTime": {
     "end_time": "2024-10-18T04:50:54.909616Z",
     "start_time": "2024-10-18T04:50:54.902529Z"
    }
   },
   "cell_type": "code",
   "source": [
    "# 定义扩展的反应 SMARTS 集合\n",
    "reaction_smarts = [\n",
    "    # 酯化反应\n",
    "    '[C:1](=[O])[O][H].[O:2][C:3]>>[C:1](=[O])[O:2][C:3]',\n",
    "    # 酰胺化反应\n",
    "    '[C:1](=[O])[O][H].[N:2][H][H]>>[C:1](=[O])[N:2][H]',\n",
    "    # 醚化反应\n",
    "    '[O:1][H].[C:2][Br]>>[O:1][C:2]',\n",
    "    # 胺化反应\n",
    "    '[N:1][H][H].[C:2][Br]>>[N:1][C:2]',\n",
    "    # Suzuki 偶联反应\n",
    "    '[B:1]([O])[O].[C:2][Br]>>[C:2][B:1]',\n",
    "    # Heck 反应\n",
    "    '[C:1]=[C:2].[C:3]=[C:4][Br]>>[C:1]=[C:2][C:3]=[C:4]',\n",
    "    # Sonogashira 反应\n",
    "    '[C:1]#[C:2][H].[C:3][Br]>>[C:1]#[C:2][C:3]',\n",
    "    # Mitsunobu 反应\n",
    "    '[O:1][H].[N:2][H][C:3]>>[N:2][C:3]',\n",
    "    # Aldol 缩合反应\n",
    "    '[C:1]=O.[C:2]=O>>[C:1](O)[C:2]=O',\n",
    "    # Knoevenagel 缩合反应\n",
    "    '[C:1]=O.[C:2]=C[H]>>[C:1]=C[C:2]=C',\n",
    "    # Diels-Alder 反应\n",
    "    '[C:1]=[C:2].[C:3]=[C:4]>>[C:1]1[C:2][C:3][C:4]1',\n",
    "    # 取代反应（卤代烃与醇）\n",
    "    '[C:1][Cl].[O:2][H]>>[C:1][O:2]',\n",
    "    # 取代反应（卤代烃与硫醇）\n",
    "    '[C:1][Br].[S:2][H]>>[C:1][S:2]',\n",
    "    # 还原胺化\n",
    "    '[C:1]=O.[N:2][H][H]>>[C:1][N:2][H]',\n",
    "    # Wittig 反应\n",
    "    '[C:1]=O.[P:2][C:3][C:4]>>[C:1]=[C:3]',\n",
    "    # Michael 加成\n",
    "    '[C:1]=[C:2][C:3]=O.[N:4][H][H]>>[C:1][C:2][C:3](O)[N:4][H]',\n",
    "    # Friedel-Crafts 烷基化\n",
    "    '[c:1].[C:2][Cl]>>[c:1][C:2]',\n",
    "    # Friedel-Crafts 酰基化\n",
    "    '[c:1].[C:2](=O)[Cl]>>[c:1][C:2]=O',\n",
    "    # 氯化反应\n",
    "    '[C:1][H].[Cl][Cl]>>[C:1][Cl]',\n",
    "    # 溴化反应\n",
    "    '[C:1][H].[Br][Br]>>[C:1][Br]',\n",
    "    # 硝化反应\n",
    "    '[c:1].[N+](=O)[O-]>>[c:1][N+](=O)[O-]',\n",
    "    # 还原反应（醛到醇）\n",
    "    '[C:1]=O>>[C:1][O][H]',\n",
    "    # 氧化反应（醇到醛）\n",
    "    '[C:1][O][H]>>[C:1]=O',\n",
    "    # 氨解反应\n",
    "    '[C:1](=O)[O][C:2]>>[C:1](=O)[N][H]',\n",
    "    # 成环反应\n",
    "    '[C:1][C:2].[C:3][C:4]>>[C:1][C:2][C:3][C:4]',\n",
    "    # Grignard 反应\n",
    "    '[C:1][Mg][Br].[C:2]=O>>[C:1][C:2][O][H]',\n",
    "    # 保护基引入（甲基化）\n",
    "    '[O:1][H].[C:2][I]>>[O:1][C:2]',\n",
    "    # 保护基去除（脱甲基）\n",
    "    '[O:1][C:2][H]>>[O:1][H]',\n",
    "    # 甲酰化反应\n",
    "    '[C:1][H].[C:2](=O)[Cl]>>[C:1][C:2]=O',\n",
    "    # 脱水反应\n",
    "    '[C:1][O][H].[C:2][O][H]>>[C:1]=[C:2]',\n",
    "    # 氧化反应（伯醇到羧酸）\n",
    "    '[C:1][O][H]>>[C:1](=O)[O][H]',\n",
    "    # Mannich 反应\n",
    "    '[C:1]=O.[C:2]=C.[N:3][H][H]>>[C:1][C:2][N:3][H]',\n",
    "    # Beckmann 重排\n",
    "    '[C:1](=O)[N:2][OH]>>[C:1][N:2]=O',\n",
    "    # Claisen 缩合\n",
    "    '[C:1](=O)[O][C:2].[C:3]=O>>[C:1](=O)[C:3]=O',\n",
    "    # Gabriel 合成\n",
    "    '[C:1][Br].[N:2][H]>>[C:1][N:2][H]',\n",
    "    # Sandmeyer 反应\n",
    "    '[C:1][N+][N-].[Cu][Cl]>>[C:1][Cl]',\n",
    "    # Baeyer-Villiger 氧化\n",
    "    '[C:1](=O)[C:2]>>[C:1](=O)[O][C:2]',\n",
    "    # 脱卤反应\n",
    "    '[C:1][Br]>>[C:1][H]',\n",
    "    # 酰氯合成\n",
    "    '[C:1](=O)[O][H].[Cl][Cl]>>[C:1](=O)[Cl]',\n",
    "    # 二硫键形成\n",
    "    '[S:1][H].[S:2][H]>>[S:1][S:2]',\n",
    "    # 叠氮化反应\n",
    "    '[C:1][Br].[N3]>>[C:1][N3]',\n",
    "    # 环氧化反应\n",
    "    '[C:1]=[C:2]>>[C:1]1[O][C:2]1',\n",
    "    # Ozonolysis\n",
    "    '[C:1]=[C:2]>>[C:1](=O).[C:2](=O)',\n",
    "    # Ester Hydrolysis\n",
    "    '[C:1](=O)[O][C:2].[H][O][H]>>[C:1](=O)[O][H].[C:2][O][H]',\n",
    "    # Amide Hydrolysis\n",
    "    '[C:1](=O)[N][C:2].[H][O][H]>>[C:1](=O)[O][H].[N][C:2]',\n",
    "    # Wittig-Horner 反应\n",
    "    '[C:1]=O.[P:2](=O)[C:3][C:4]>>[C:1]=[C:3]',\n",
    "    # Enamine 反应\n",
    "    '[C:1]=O.[N:2][H][C:3]>>[C:1]=[N:2][C:3]',\n",
    "    # Curtius 重排\n",
    "    '[C:1](=O)[N3]>>[C:1][N][H]',\n",
    "    # Ullmann 反应\n",
    "    '[C:1][Br].[C:2][Br]>>[C:1][C:2]',\n",
    "    # Hantzsch 合成\n",
    "    '[C:1]=O.[C:2]=O.[N:3][H][H]>>[C:1][C:2][N:3]',\n",
    "    # Pechmann 反应\n",
    "    '[C:1]=O.[C:2]=C[O][H]>>[C:1][C:2]=O',\n",
    "    # Skraup 合成\n",
    "    '[C:1]=C.[N:2][H][H].[O]>>[C:1][N:2]=C',\n",
    "    # Tiffeneau-Demjanov 重排\n",
    "    '[C:1][C:2][N][H][H]>>[C:1]=O.[C:2][H]'\n",
    "]"
   ],
   "id": "6b29d76d501704f2",
   "outputs": [],
   "execution_count": 20
  },
  {
   "metadata": {
    "ExecuteTime": {
     "end_time": "2024-10-18T04:50:54.935889Z",
     "start_time": "2024-10-18T04:50:54.929113Z"
    }
   },
   "cell_type": "code",
   "source": [
    "# 将 SMARTS 转换为 RDKit 反应对象\n",
    "reactions = []\n",
    "for rs in reaction_smarts:\n",
    "    try:\n",
    "        rxn = rdChemReactions.ReactionFromSmarts(rs)\n",
    "        reactions.append(rxn)\n",
    "    except Exception as e:\n",
    "        print(f\"无法解析反应 SMARTS: {rs}\")\n",
    "        continue\n",
    "\n",
    "print(f\"成功加载的反应数量: {len(reactions)}\")"
   ],
   "id": "c637698d82b68c36",
   "outputs": [
    {
     "name": "stdout",
     "output_type": "stream",
     "text": [
      "成功加载的反应数量: 53\n"
     ]
    }
   ],
   "execution_count": 21
  },
  {
   "metadata": {},
   "cell_type": "markdown",
   "source": [
    "### **3. 基于反应的片段组合**\n",
    "\n",
    "使用扩展的反应集合，将片段通过化学反应组合生成新分子。"
   ],
   "id": "945f9e695ec1a493"
  },
  {
   "metadata": {
    "ExecuteTime": {
     "end_time": "2024-10-18T04:50:54.972998Z",
     "start_time": "2024-10-18T04:50:54.966461Z"
    }
   },
   "cell_type": "code",
   "source": [
    "from itertools import product\n",
    "\n",
    "def generate_new_molecules(fragments, reactions, num_molecules=1000):\n",
    "    new_molecules = set()\n",
    "    fragment_pairs = list(product(fragments, repeat=2))\n",
    "    random.shuffle(fragment_pairs)  # 随机打乱组合顺序\n",
    "    max_attempts = len(fragment_pairs)\n",
    "    attempts = 0\n",
    "\n",
    "    for frag1, frag2 in tqdm(fragment_pairs, desc=\"Generating molecules\"):\n",
    "        if attempts >= max_attempts or len(new_molecules) >= num_molecules:\n",
    "            break\n",
    "        attempts += 1\n",
    "\n",
    "        for rxn in reactions:\n",
    "            try:\n",
    "                reactant1 = frag1\n",
    "                reactant2 = frag2\n",
    "                reactants = (reactant1, reactant2)\n",
    "                # 检查反应物数量\n",
    "                if rxn.GetNumReactantTemplates() != len(reactants):\n",
    "                    continue\n",
    "                # 检查反应物是否匹配\n",
    "                matches = [rxn.IsMoleculeReactant(mol) for mol in reactants]\n",
    "                if not all(matches):\n",
    "                    continue\n",
    "                products = rxn.RunReactants(reactants)\n",
    "                # 提取生成的产品\n",
    "                for prod in products:  # 将 'product' 更改为 'prod'\n",
    "                    mol = prod[0]\n",
    "                    Chem.SanitizeMol(mol)\n",
    "                    smi = Chem.MolToSmiles(mol)\n",
    "                    new_molecules.add(smi)\n",
    "            except Exception as e:\n",
    "                continue\n",
    "\n",
    "            if len(new_molecules) >= num_molecules:\n",
    "                break\n",
    "\n",
    "    return list(new_molecules)\n",
    "\n",
    "\n",
    "\n"
   ],
   "id": "64acdb61b7c3761",
   "outputs": [],
   "execution_count": 22
  },
  {
   "metadata": {
    "ExecuteTime": {
     "end_time": "2024-10-18T04:55:16.600840Z",
     "start_time": "2024-10-18T04:50:54.992976Z"
    }
   },
   "cell_type": "code",
   "source": [
    "# 生成新分子\n",
    "print(\"开始生成新分子...\")\n",
    "new_smiles = generate_new_molecules(fragment_mols, reactions, num_molecules=2000)\n",
    "print(f'生成的新分子数量: {len(new_smiles)}')\n",
    "\n"
   ],
   "id": "3fe5da3865fa05e8",
   "outputs": [
    {
     "name": "stdout",
     "output_type": "stream",
     "text": [
      "开始生成新分子...\n"
     ]
    },
    {
     "name": "stderr",
     "output_type": "stream",
     "text": [
      "Generating molecules:   0%|          | 8063/3896676 [04:16<34:20:29, 31.45it/s]\n"
     ]
    },
    {
     "ename": "KeyboardInterrupt",
     "evalue": "",
     "output_type": "error",
     "traceback": [
      "\u001B[0;31m---------------------------------------------------------------------------\u001B[0m",
      "\u001B[0;31mValueError\u001B[0m                                Traceback (most recent call last)",
      "Cell \u001B[0;32mIn[22], line 24\u001B[0m, in \u001B[0;36mgenerate_new_molecules\u001B[0;34m(fragments, reactions, num_molecules)\u001B[0m\n\u001B[1;32m     23\u001B[0m \u001B[38;5;66;03m# 检查反应物是否匹配\u001B[39;00m\n\u001B[0;32m---> 24\u001B[0m matches \u001B[38;5;241m=\u001B[39m [rxn\u001B[38;5;241m.\u001B[39mIsMoleculeReactant(mol) \u001B[38;5;28;01mfor\u001B[39;00m mol \u001B[38;5;129;01min\u001B[39;00m reactants]\n\u001B[1;32m     25\u001B[0m \u001B[38;5;28;01mif\u001B[39;00m \u001B[38;5;129;01mnot\u001B[39;00m \u001B[38;5;28mall\u001B[39m(matches):\n",
      "Cell \u001B[0;32mIn[22], line 24\u001B[0m, in \u001B[0;36m<listcomp>\u001B[0;34m(.0)\u001B[0m\n\u001B[1;32m     23\u001B[0m \u001B[38;5;66;03m# 检查反应物是否匹配\u001B[39;00m\n\u001B[0;32m---> 24\u001B[0m matches \u001B[38;5;241m=\u001B[39m [\u001B[43mrxn\u001B[49m\u001B[38;5;241;43m.\u001B[39;49m\u001B[43mIsMoleculeReactant\u001B[49m\u001B[43m(\u001B[49m\u001B[43mmol\u001B[49m\u001B[43m)\u001B[49m \u001B[38;5;28;01mfor\u001B[39;00m mol \u001B[38;5;129;01min\u001B[39;00m reactants]\n\u001B[1;32m     25\u001B[0m \u001B[38;5;28;01mif\u001B[39;00m \u001B[38;5;129;01mnot\u001B[39;00m \u001B[38;5;28mall\u001B[39m(matches):\n",
      "\u001B[0;31mValueError\u001B[0m: ChemicalParserException: initReactantMatchers() must be called first",
      "\nDuring handling of the above exception, another exception occurred:\n",
      "\u001B[0;31mKeyboardInterrupt\u001B[0m                         Traceback (most recent call last)",
      "Cell \u001B[0;32mIn[23], line 3\u001B[0m\n\u001B[1;32m      1\u001B[0m \u001B[38;5;66;03m# 生成新分子\u001B[39;00m\n\u001B[1;32m      2\u001B[0m \u001B[38;5;28mprint\u001B[39m(\u001B[38;5;124m\"\u001B[39m\u001B[38;5;124m开始生成新分子...\u001B[39m\u001B[38;5;124m\"\u001B[39m)\n\u001B[0;32m----> 3\u001B[0m new_smiles \u001B[38;5;241m=\u001B[39m \u001B[43mgenerate_new_molecules\u001B[49m\u001B[43m(\u001B[49m\u001B[43mfragment_mols\u001B[49m\u001B[43m,\u001B[49m\u001B[43m \u001B[49m\u001B[43mreactions\u001B[49m\u001B[43m,\u001B[49m\u001B[43m \u001B[49m\u001B[43mnum_molecules\u001B[49m\u001B[38;5;241;43m=\u001B[39;49m\u001B[38;5;241;43m2000\u001B[39;49m\u001B[43m)\u001B[49m\n\u001B[1;32m      4\u001B[0m \u001B[38;5;28mprint\u001B[39m(\u001B[38;5;124mf\u001B[39m\u001B[38;5;124m'\u001B[39m\u001B[38;5;124m生成的新分子数量: \u001B[39m\u001B[38;5;132;01m{\u001B[39;00m\u001B[38;5;28mlen\u001B[39m(new_smiles)\u001B[38;5;132;01m}\u001B[39;00m\u001B[38;5;124m'\u001B[39m)\n",
      "Cell \u001B[0;32mIn[22], line 24\u001B[0m, in \u001B[0;36mgenerate_new_molecules\u001B[0;34m(fragments, reactions, num_molecules)\u001B[0m\n\u001B[1;32m     22\u001B[0m     \u001B[38;5;28;01mcontinue\u001B[39;00m\n\u001B[1;32m     23\u001B[0m \u001B[38;5;66;03m# 检查反应物是否匹配\u001B[39;00m\n\u001B[0;32m---> 24\u001B[0m matches \u001B[38;5;241m=\u001B[39m [rxn\u001B[38;5;241m.\u001B[39mIsMoleculeReactant(mol) \u001B[38;5;28;01mfor\u001B[39;00m mol \u001B[38;5;129;01min\u001B[39;00m reactants]\n\u001B[1;32m     25\u001B[0m \u001B[38;5;28;01mif\u001B[39;00m \u001B[38;5;129;01mnot\u001B[39;00m \u001B[38;5;28mall\u001B[39m(matches):\n\u001B[1;32m     26\u001B[0m     \u001B[38;5;28;01mcontinue\u001B[39;00m\n",
      "\u001B[0;31mKeyboardInterrupt\u001B[0m: "
     ]
    }
   ],
   "execution_count": 23
  },
  {
   "metadata": {},
   "cell_type": "code",
   "outputs": [],
   "execution_count": null,
   "source": [
    "# 将 SMILES 转换为分子对象\n",
    "new_mols = [Chem.MolFromSmiles(smi) for smi in new_smiles]\n",
    "new_mols = [mol for mol in new_mols if mol is not None]"
   ],
   "id": "874145627bb8ee8e"
  },
  {
   "metadata": {},
   "cell_type": "markdown",
   "source": [
    "### **4. 使用图神经网络（GNN）进行 pIC50 预测**\n",
    "\n",
    "#### **4.1 准备数据**"
   ],
   "id": "237714918775d28c"
  },
  {
   "metadata": {
    "ExecuteTime": {
     "end_time": "2024-10-18T04:46:50.106336Z",
     "start_time": "2024-10-18T04:46:42.266038Z"
    }
   },
   "cell_type": "code",
   "source": [
    "# 安装 PyTorch Geometric（如果未安装）\n",
    "# !pip install torch-geometric\n",
    "\n",
    "# 导入 PyTorch Geometric 库\n",
    "from torch_geometric.data import Data\n",
    "from torch_geometric.loader import DataLoader as GeoDataLoader\n",
    "from torch_geometric.nn import GCNConv, global_mean_pool\n",
    "\n",
    "# 将分子转换为图数据\n",
    "def mol_to_graph_data_obj(mol, label):\n",
    "    # 获取原子特征\n",
    "    atom_features_list = []\n",
    "    for atom in mol.GetAtoms():\n",
    "        atom_features = []\n",
    "        atom_features.append(atom.GetAtomicNum())\n",
    "        atom_features_list.append(atom_features)\n",
    "    x = torch.tensor(atom_features_list, dtype=torch.long)\n",
    "\n",
    "    # 获取边索引和边特征\n",
    "    edge_index = []\n",
    "    for bond in mol.GetBonds():\n",
    "        i = bond.GetBeginAtomIdx()\n",
    "        j = bond.GetEndAtomIdx()\n",
    "        edge_index.append([i, j])\n",
    "        edge_index.append([j, i])\n",
    "    edge_index = torch.tensor(edge_index, dtype=torch.long).t().contiguous()\n",
    "\n",
    "    # 构建图数据对象\n",
    "    data = Data(x=x, edge_index=edge_index, y=torch.tensor([label], dtype=torch.float))\n",
    "    return data\n",
    "\n",
    "# 准备训练数据\n",
    "graph_data_list = []\n",
    "for smi, label in zip(smiles_list, labels):\n",
    "    mol = Chem.MolFromSmiles(smi)\n",
    "    if mol is not None:\n",
    "        data = mol_to_graph_data_obj(mol, label)\n",
    "        graph_data_list.append(data)\n",
    "\n",
    "# 划分训练和验证集\n",
    "train_graphs, val_graphs = train_test_split(graph_data_list, test_size=0.1, random_state=42)\n"
   ],
   "id": "d9425c96d316e20b",
   "outputs": [],
   "execution_count": 39
  },
  {
   "metadata": {},
   "cell_type": "markdown",
   "source": "4.2 定义 GNN 模型",
   "id": "dc039bc524f277cd"
  },
  {
   "metadata": {
    "ExecuteTime": {
     "end_time": "2024-10-18T04:46:56.202551Z",
     "start_time": "2024-10-18T04:46:56.196982Z"
    }
   },
   "cell_type": "code",
   "source": [
    "class GNNModel(nn.Module):\n",
    "    def __init__(self, num_features=1, hidden_dim=128, num_classes=1):\n",
    "        super(GNNModel, self).__init__()\n",
    "        torch.manual_seed(42)\n",
    "        self.conv1 = GCNConv(num_features, hidden_dim)\n",
    "        self.conv2 = GCNConv(hidden_dim, hidden_dim)\n",
    "        self.conv3 = GCNConv(hidden_dim, hidden_dim)\n",
    "        self.lin = nn.Linear(hidden_dim, num_classes)\n",
    "\n",
    "    def forward(self, data):\n",
    "        x, edge_index, batch = data.x.float(), data.edge_index, data.batch\n",
    "        x = self.conv1(x, edge_index)\n",
    "        x = F.relu(x)\n",
    "        x = self.conv2(x, edge_index)\n",
    "        x = F.relu(x)\n",
    "        x = self.conv3(x, edge_index)\n",
    "        x = F.relu(x)\n",
    "        x = global_mean_pool(x, batch)  # 全局平均池化\n",
    "        x = self.lin(x)\n",
    "        return x\n"
   ],
   "id": "d5b083308deaab95",
   "outputs": [],
   "execution_count": 40
  },
  {
   "metadata": {},
   "cell_type": "markdown",
   "source": "4.3 训练 GNN 模型",
   "id": "747f2f1e5f3484c0"
  },
  {
   "metadata": {
    "jupyter": {
     "is_executing": true
    },
    "ExecuteTime": {
     "start_time": "2024-10-18T04:47:06.731492Z"
    }
   },
   "cell_type": "code",
   "source": [
    "from torch.optim import Adam\n",
    "\n",
    "# 创建数据加载器\n",
    "train_loader = GeoDataLoader(train_graphs, batch_size=32, shuffle=True)\n",
    "val_loader = GeoDataLoader(val_graphs, batch_size=32, shuffle=False)\n",
    "\n",
    "# 初始化模型和优化器\n",
    "model = GNNModel(num_features=1, hidden_dim=128, num_classes=1).to(device)\n",
    "optimizer = Adam(model.parameters(), lr=0.001)\n",
    "\n",
    "# 定义损失函数\n",
    "loss_fn = nn.MSELoss()\n",
    "\n",
    "# 训练模型\n",
    "def train(model, loader):\n",
    "    model.train()\n",
    "    total_loss = 0\n",
    "    for data in loader:\n",
    "        data = data.to(device)\n",
    "        optimizer.zero_grad()\n",
    "        out = model(data)\n",
    "        loss = loss_fn(out.view(-1), data.y.view(-1))\n",
    "        loss.backward()\n",
    "        optimizer.step()\n",
    "        total_loss += loss.item() * data.num_graphs\n",
    "    return total_loss / len(loader.dataset)\n",
    "\n",
    "def evaluate(model, loader):\n",
    "    model.eval()\n",
    "    total_loss = 0\n",
    "    with torch.no_grad():\n",
    "        for data in loader:\n",
    "            data = data.to(device)\n",
    "            out = model(data)\n",
    "            loss = loss_fn(out.view(-1), data.y.view(-1))\n",
    "            total_loss += loss.item() * data.num_graphs\n",
    "    return total_loss / len(loader.dataset)\n",
    "\n",
    "# 训练循环\n",
    "num_epochs = 30\n",
    "for epoch in range(1, num_epochs + 1):\n",
    "    train_loss = train(model, train_loader)\n",
    "    val_loss = evaluate(model, val_loader)\n",
    "    print(f'Epoch: {epoch}, Training Loss: {train_loss:.4f}, Validation Loss: {val_loss:.4f}')\n",
    "\n",
    "# 保存模型\n",
    "torch.save(model.state_dict(), 'checkpoints/gnn_model.pt')\n"
   ],
   "id": "7981e134f5cf9b04",
   "outputs": [],
   "execution_count": null
  },
  {
   "metadata": {},
   "cell_type": "markdown",
   "source": [
    "### **5. 对生成的分子进行性质预测和筛选**\n",
    "\n",
    "#### **5.1 pIC50 预测**"
   ],
   "id": "41a9579c3207a40c"
  },
  {
   "metadata": {},
   "cell_type": "code",
   "outputs": [],
   "execution_count": null,
   "source": [
    "# 对生成的新分子进行 pIC50 预测\n",
    "generated_graphs = []\n",
    "for mol in new_mols:\n",
    "    data = mol_to_graph_data_obj(mol, label=0)  # 标签此处不重要\n",
    "    generated_graphs.append(data)\n",
    "\n",
    "# 创建数据加载器\n",
    "generated_loader = GeoDataLoader(generated_graphs, batch_size=32, shuffle=False)\n",
    "\n",
    "# 预测 pIC50\n",
    "model.eval()\n",
    "predicted_pIC50 = []\n",
    "with torch.no_grad():\n",
    "    for data in generated_loader:\n",
    "        data = data.to(device)\n",
    "        out = model(data)\n",
    "        predicted_pIC50.extend(out.view(-1).cpu().numpy())\n",
    "\n",
    "# 将预测结果与 SMILES 对应起来\n",
    "generated_smiles = [Chem.MolToSmiles(mol) for mol in new_mols]\n"
   ],
   "id": "8fbebb2336e42c8e"
  },
  {
   "metadata": {},
   "cell_type": "markdown",
   "source": "5.2 计算 ADMET 和其他性质",
   "id": "9c67e29f1b5899cd"
  },
  {
   "metadata": {},
   "cell_type": "code",
   "outputs": [],
   "execution_count": null,
   "source": [
    "# 初始化 PAINS 过滤器\n",
    "params = FilterCatalogParams()\n",
    "params.AddCatalog(FilterCatalogParams.FilterCatalogs.PAINS)\n",
    "catalog = FilterCatalog(params)\n",
    "\n",
    "def calculate_properties(mols):\n",
    "    properties = []\n",
    "    for mol in mols:\n",
    "        mol_weight = Descriptors.MolWt(mol)\n",
    "        logp = Crippen.MolLogP(mol)\n",
    "        num_h_donors = Descriptors.NumHDonors(mol)\n",
    "        num_h_acceptors = Descriptors.NumHAcceptors(mol)\n",
    "        rotatable_bonds = Descriptors.NumRotatableBonds(mol)\n",
    "        tpsa = Descriptors.TPSA(mol)\n",
    "        qed = Descriptors.qed(mol)\n",
    "        # CNS 符合性（简单判断，TPSA < 90，分子量 < 450）\n",
    "        cns_pass = tpsa < 90 and mol_weight < 450\n",
    "        # Lipinski 规则符合性\n",
    "        lipinski_pass = (mol_weight <= 500 and\n",
    "                         logp <= 5 and\n",
    "                         num_h_donors <= 5 and\n",
    "                         num_h_acceptors <= 10)\n",
    "        # PAINS 过滤器\n",
    "        pains_matches = catalog.GetMatches(mol)\n",
    "        pains_pass = len(pains_matches) == 0\n",
    "        properties.append({\n",
    "            'MolWt': mol_weight,\n",
    "            'LogP': logp,\n",
    "            'NumHDonors': num_h_donors,\n",
    "            'NumHAcceptors': num_h_acceptors,\n",
    "            'RotatableBonds': rotatable_bonds,\n",
    "            'TPSA': tpsa,\n",
    "            'QED': qed,\n",
    "            'CNS_Pass': cns_pass,\n",
    "            'Lipinski_Pass': lipinski_pass,\n",
    "            'PAINS_Pass': pains_pass\n",
    "        })\n",
    "    return properties\n",
    "\n",
    "# 计算生成分子的性质\n",
    "generated_properties = calculate_properties(new_mols)\n"
   ],
   "id": "6c24d7e906304021"
  },
  {
   "metadata": {},
   "cell_type": "markdown",
   "source": "5.3 整合结果",
   "id": "1462143d0ff19b30"
  },
  {
   "metadata": {},
   "cell_type": "code",
   "outputs": [],
   "execution_count": null,
   "source": [
    "# 整合 SMILES、预测的 pIC50 和计算的性质\n",
    "results = []\n",
    "for smi, pIC50, props in zip(generated_smiles, predicted_pIC50, generated_properties):\n",
    "    result = {\n",
    "        'SMILES': smi,\n",
    "        'Predicted_pIC50': pIC50,\n",
    "        'MolWt': props['MolWt'],\n",
    "        'LogP': props['LogP'],\n",
    "        'NumHDonors': props['NumHDonors'],\n",
    "        'NumHAcceptors': props['NumHAcceptors'],\n",
    "        'RotatableBonds': props['RotatableBonds'],\n",
    "        'TPSA': props['TPSA'],\n",
    "        'QED': props['QED'],\n",
    "        'CNS_Pass': props['CNS_Pass'],\n",
    "        'Lipinski_Pass': props['Lipinski_Pass'],\n",
    "        'PAINS_Pass': props['PAINS_Pass']\n",
    "    }\n",
    "    results.append(result)\n",
    "\n",
    "# 将结果转换为 DataFrame\n",
    "results_df = pd.DataFrame(results)\n",
    "\n",
    "# 筛选符合条件的分子\n",
    "filtered_df = results_df[\n",
    "    (results_df['Lipinski_Pass']) &\n",
    "    (results_df['CNS_Pass']) &\n",
    "    (results_df['PAINS_Pass']) &\n",
    "    (results_df['Predicted_pIC50'] > 7)  # 假设我们关注 pIC50 > 7 的分子\n",
    "]\n",
    "print(f'符合筛选条件的分子数量: {len(filtered_df)}')\n"
   ],
   "id": "23f5351be5ca144a"
  },
  {
   "metadata": {},
   "cell_type": "markdown",
   "source": "6. 结果保存和可视化",
   "id": "4377ab5578e1b4ab"
  },
  {
   "metadata": {},
   "cell_type": "code",
   "outputs": [],
   "execution_count": null,
   "source": [
    "# 保存所有生成的分子及其性质\n",
    "results_df.to_csv('generated_molecules/generated_molecules_properties.csv', index=False)\n",
    "\n",
    "# 保存筛选后的分子\n",
    "filtered_df.to_csv('generated_molecules/filtered_molecules.csv', index=False)\n",
    "\n",
    "print(\"结果已保存到 'generated_molecules' 目录下。\")\n",
    "\n",
    "# 可视化筛选后的前 16 个分子\n",
    "filtered_mols = [Chem.MolFromSmiles(smi) for smi in filtered_df['SMILES'].tolist()[:16]]\n",
    "if filtered_mols:\n",
    "    img = Draw.MolsToGridImage(filtered_mols, molsPerRow=4, subImgSize=(200, 200))\n",
    "    img.show()\n",
    "else:\n",
    "    print(\"没有符合条件的分子可供可视化。\")\n"
   ],
   "id": "dfd6669d36600e3d"
  },
  {
   "metadata": {},
   "cell_type": "code",
   "outputs": [],
   "execution_count": null,
   "source": "",
   "id": "5a7a3034858e6a0"
  }
 ],
 "metadata": {
  "kernelspec": {
   "display_name": "Python 3",
   "language": "python",
   "name": "python3"
  },
  "language_info": {
   "codemirror_mode": {
    "name": "ipython",
    "version": 2
   },
   "file_extension": ".py",
   "mimetype": "text/x-python",
   "name": "python",
   "nbconvert_exporter": "python",
   "pygments_lexer": "ipython2",
   "version": "2.7.6"
  }
 },
 "nbformat": 4,
 "nbformat_minor": 5
}
