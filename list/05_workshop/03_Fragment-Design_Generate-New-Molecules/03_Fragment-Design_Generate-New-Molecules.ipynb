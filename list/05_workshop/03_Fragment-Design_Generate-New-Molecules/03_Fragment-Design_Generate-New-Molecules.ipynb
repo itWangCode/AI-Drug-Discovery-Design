{
 "cells": [
  {
   "metadata": {},
   "cell_type": "markdown",
   "source": [
    "# Fragment Design: Generate New Molecules\n",
    "\n",
    "-  In this notebook, we will generate new molecules using the fragment design approach. We will start by importing the necessary libraries and loading the dataset."
   ],
   "id": "3460eb7c981db6fc"
  },
  {
   "metadata": {},
   "cell_type": "markdown",
   "source": [
    "## 检测 GPU 是否可用"
   ],
   "id": "8e7ca5290caf215e"
  },
  {
   "metadata": {
    "ExecuteTime": {
     "end_time": "2024-10-18T03:27:32.587983Z",
     "start_time": "2024-10-18T03:27:26.513858Z"
    }
   },
   "cell_type": "code",
   "source": [
    "# 检测是否GPU可用\n",
    "import tensorflow as tf\n",
    "if tf.test.gpu_device_name():\n",
    "    print('Default GPU Device:{}'.format(tf.test.gpu_device_name()))\n",
    "else:\n",
    "    print(\"Please install GPU version of TF\")\n"
   ],
   "id": "1ba5bc8431c23598",
   "outputs": [
    {
     "name": "stderr",
     "output_type": "stream",
     "text": [
      "2024-10-18 11:27:27.913404: I tensorflow/core/platform/cpu_feature_guard.cc:182] This TensorFlow binary is optimized to use available CPU instructions in performance-critical operations.\n",
      "To enable the following instructions: AVX2 FMA, in other operations, rebuild TensorFlow with the appropriate compiler flags.\n"
     ]
    },
    {
     "name": "stdout",
     "output_type": "stream",
     "text": [
      "Please install GPU version of TF\n"
     ]
    }
   ],
   "execution_count": 1
  },
  {
   "metadata": {
    "ExecuteTime": {
     "end_time": "2024-10-18T03:45:37.967081Z",
     "start_time": "2024-10-18T03:45:37.957947Z"
    }
   },
   "cell_type": "code",
   "source": [
    "from pathlib import Path\n",
    "import os\n",
    "\n",
    "# 获取当前工作目录\n",
    "HERE = Path(os.getcwd())\n",
    "DATA = HERE / 'data'\n",
    "if not DATA.exists():\n",
    "    DATA.mkdir(parents=True, exist_ok=True)\n",
    "print(DATA)"
   ],
   "id": "577acdf59144d090",
   "outputs": [
    {
     "name": "stdout",
     "output_type": "stream",
     "text": [
      "/Users/wangyang/Desktop/AI-drug-design/list/05_workshop/03_Fragment-Design_Generate-New-Molecules/data\n"
     ]
    }
   ],
   "execution_count": 1
  },
  {
   "metadata": {},
   "cell_type": "markdown",
   "source": [
    "## Import Libraries\n"
   ],
   "id": "f21069c3f86975f1"
  },
  {
   "metadata": {},
   "cell_type": "code",
   "outputs": [],
   "execution_count": null,
   "source": [
    "# 导入必要的库\n",
    "import pandas as pd\n",
    "from rdkit import Chem\n",
    "from rdkit.Chem import Draw\n",
    "from rdkit import RDLogger\n",
    "from rdkit.Chem.Scaffolds import MurckoScaffold\n",
    "from rdkit.Chem import BRICS\n",
    "from rdkit.Chem import AllChem\n",
    "from rdkit.Chem import rdChemReactions\n",
    "from rdkit.Chem import Descriptors\n",
    "from rdkit.Chem.FilterCatalog import FilterCatalogParams, FilterCatalog\n",
    "from rdkit.Chem import rdMolDescriptors\n",
    "import random\n",
    "import os\n",
    "import itertools\n",
    "from pathlib import Path\n",
    "import os"
   ],
   "id": "647ab9b2fa8ac37c"
  },
  {
   "metadata": {},
   "cell_type": "code",
   "outputs": [],
   "execution_count": null,
   "source": [
    "# 获取当前工作目录\n",
    "HERE = Path(os.getcwd())\n",
    "DATA = HERE / 'data'\n",
    "if not DATA.exists():\n",
    "    DATA.mkdir(parents=True, exist_ok=True)\n",
    "print(DATA)\n",
    "# 禁用 RDKit 日志\n",
    "RDLogger.DisableLog('rdApp.*')"
   ],
   "id": "ec0d7cec9af91ea2"
  },
  {
   "metadata": {},
   "cell_type": "code",
   "outputs": [],
   "execution_count": null,
   "source": [
    "# 设置随机种子\n",
    "random.seed(42)"
   ],
   "id": "62e31af73285e94e"
  },
  {
   "metadata": {},
   "cell_type": "code",
   "outputs": [],
   "execution_count": null,
   "source": [
    "# 1. 数据加载\n",
    "df = pd.read_csv(DATA / 'egfr_data_ubstructures_matches.csv')\n",
    "df = df[df['smiles'].notnull()]"
   ],
   "id": "faef7b335d7b9174"
  },
  {
   "metadata": {},
   "cell_type": "code",
   "outputs": [],
   "execution_count": null,
   "source": [
    "df.head()"
   ],
   "id": "b28b407014f2eb65"
  },
  {
   "metadata": {},
   "cell_type": "code",
   "outputs": [],
   "execution_count": null,
   "source": [
    "smiles_list = df['smiles'].tolist()\n",
    "molecules = [Chem.MolFromSmiles(smile) for smile in smiles_list]\n",
    "molecules = [mol for mol in molecules if mol is not None]\n",
    "print(f'有效分子数量: {len(molecules)}')"
   ],
   "id": "ef36c8ad53211599"
  },
  {
   "metadata": {},
   "cell_type": "code",
   "outputs": [],
   "execution_count": null,
   "source": [
    "# 2. 片段提取\n",
    "# 使用 Murcko Scaffold 提取骨架\n",
    "scaffolds = set()\n",
    "for mol in molecules:\n",
    "    scaffold = MurckoScaffold.GetScaffoldForMol(mol)\n",
    "    if scaffold:\n",
    "        scaffolds.add(Chem.MolToSmiles(scaffold))\n",
    "\n",
    "print(f'提取到的独特 Murcko 骨架数量: {len(scaffolds)}')"
   ],
   "id": "4128b442fbacb1b6"
  },
  {
   "metadata": {},
   "cell_type": "code",
   "outputs": [],
   "execution_count": null,
   "source": [
    "# 使用 BRICS 方法提取片段\n",
    "brics_fragments = set()\n",
    "for mol in molecules:\n",
    "    frags = BRICS.BRICSDecompose(mol)\n",
    "    brics_fragments.update(frags)\n",
    "\n",
    "print(f'提取到的独特 BRICS 片段数量: {len(brics_fragments)}')\n"
   ],
   "id": "55bb653fd1cf00f"
  },
  {
   "metadata": {},
   "cell_type": "code",
   "outputs": [],
   "execution_count": null,
   "source": [
    "# 合并所有片段\n",
    "all_fragments_smiles = list(scaffolds.union(brics_fragments))\n",
    "\n",
    "# 将片段转换为 RDKit 分子对象\n",
    "fragment_mols = [Chem.MolFromSmiles(frag) for frag in all_fragments_smiles]\n",
    "fragment_mols = [frag for frag in fragment_mols if frag is not None]\n",
    "\n",
    "print(f'总片段数量（去重后）: {len(fragment_mols)}')"
   ],
   "id": "f211d8ca65fa1b10"
  },
  {
   "metadata": {},
   "cell_type": "code",
   "source": [
    "# 3. 修正后的反应 SMARTS 集合\n",
    "reaction_smarts = [\n",
    "    # 酯化反应\n",
    "    '[C:1](=[O])[O][H].[O:2][C:3]>>[C:1](=[O])[O:2][C:3]',\n",
    "    # 酰胺化反应\n",
    "    '[C:1](=[O])[O][H].[N:2][H][H]>>[C:1](=[O])[N:2][H]',\n",
    "    # 醚化反应\n",
    "    '[O:1][H].[C:2][Br]>>[O:1][C:2]',\n",
    "    # 胺化反应\n",
    "    '[N:1][H][H].[C:2][Br]>>[N:1][C:2]',\n",
    "    # Suzuki 偶联反应\n",
    "    '[B:1]([O])[O].[C:2][Br]>>[C:2][B:1]',\n",
    "    # Heck 反应\n",
    "    '[C:1]=[C:2].[C:3]=[C:4][Br]>>[C:1]=[C:2][C:3]=[C:4]',\n",
    "    # Sonogashira 反应\n",
    "    '[C:1]#[C:2][H].[C:3][Br]>>[C:1]#[C:2][C:3]',\n",
    "    # Mitsunobu 反应\n",
    "    '[O:1][H].[N:2][H][C:3]>>[N:2][C:3]',\n",
    "    # Aldol 缩合反应\n",
    "    '[C:1]=O.[C:2]=O>>[C:1](O)[C:2]=O',\n",
    "    # Knoevenagel 缩合反应\n",
    "    '[C:1]=O.[C:2]=C[H]>>[C:1]=C[C:2]=C',\n",
    "    # Diels-Alder 反应\n",
    "    '[C:1]=[C:2].[C:3]=[C:4]>>[C:1]1[C:2][C:3][C:4]1',\n",
    "    # 取代反应（卤代烃与醇）\n",
    "    '[C:1][Cl].[O:2][H]>>[C:1][O:2]',\n",
    "    # 取代反应（卤代烃与硫醇）\n",
    "    '[C:1][Br].[S:2][H]>>[C:1][S:2]',\n",
    "    # 还原胺化\n",
    "    '[C:1]=O.[N:2][H][H]>>[C:1][N:2][H]',\n",
    "    # Wittig 反应\n",
    "    '[C:1]=O.[P:2][C:3][C:4]>>[C:1]=[C:3]',\n",
    "    # Michael 加成\n",
    "    '[C:1]=[C:2][C:3]=O.[N:4][H][H]>>[C:1][C:2][C:3](O)[N:4][H]',\n",
    "    # Friedel-Crafts 烷基化\n",
    "    '[c:1].[C:2][Cl]>>[c:1][C:2]',\n",
    "    # Friedel-Crafts 酰基化\n",
    "    '[c:1].[C:2](=O)[Cl]>>[c:1][C:2]=O',\n",
    "    # 氯化反应\n",
    "    '[C:1][H].[Cl][Cl]>>[C:1][Cl]',\n",
    "    # 溴化反应\n",
    "    '[C:1][H].[Br][Br]>>[C:1][Br]',\n",
    "    # 硝化反应\n",
    "    '[c:1].[N+](=O)[O-]>>[c:1][N+](=O)[O-]',\n",
    "    # 还原反应（醛到醇）\n",
    "    '[C:1]=O>>[C:1][O][H]',\n",
    "    # 氧化反应（醇到醛）\n",
    "    '[C:1][O][H]>>[C:1]=O',\n",
    "    # 氨解反应\n",
    "    '[C:1](=O)[O][C:2]>>[C:1](=O)[N][H]',\n",
    "    # 成环反应\n",
    "    '[C:1][C:2].[C:3][C:4]>>[C:1][C:2][C:3][C:4]',\n",
    "    # Grignard 反应\n",
    "    '[C:1][Mg][Br].[C:2]=O>>[C:1][C:2][O][H]',\n",
    "    # 保护基引入（甲基化）\n",
    "    '[O:1][H].[C:2][I]>>[O:1][C:2]',\n",
    "    # 保护基去除（脱甲基）\n",
    "    '[O:1][C:2][H]>>[O:1][H]',\n",
    "    # 甲酰化反应\n",
    "    '[C:1][H].[C:2](=O)[Cl]>>[C:1][C:2]=O',\n",
    "    # 脱水反应\n",
    "    '[C:1][O][H].[C:2][O][H]>>[C:1]=[C:2]',\n",
    "    # 氧化反应（伯醇到羧酸）\n",
    "    '[C:1][O][H]>>[C:1](=O)[O][H]',\n",
    "    # Mannich 反应\n",
    "    '[C:1]=O.[C:2]=C.[N:3][H][H]>>[C:1][C:2][N:3][H]',\n",
    "    # Beckmann 重排\n",
    "    '[C:1](=O)[N:2][OH]>>[C:1][N:2]=O',\n",
    "    # Claisen 缩合\n",
    "    '[C:1](=O)[O][C:2].[C:3]=O>>[C:1](=O)[C:3]=O',\n",
    "    # Gabriel 合成\n",
    "    '[C:1][Br].[N:2][H]>>[C:1][N:2][H]',\n",
    "    # Sandmeyer 反应\n",
    "    '[C:1][N+][N-].[Cu][Cl]>>[C:1][Cl]',\n",
    "    # Baeyer-Villiger 氧化\n",
    "    '[C:1](=O)[C:2]>>[C:1](=O)[O][C:2]',\n",
    "    # 脱卤反应\n",
    "    '[C:1][Br]>>[C:1][H]',\n",
    "    # 酰氯合成\n",
    "    '[C:1](=O)[O][H].[Cl][Cl]>>[C:1](=O)[Cl]',\n",
    "    # 二硫键形成\n",
    "    '[S:1][H].[S:2][H]>>[S:1][S:2]',\n",
    "    # 叠氮化反应\n",
    "    '[C:1][Br].[N3]>>[C:1][N3]',\n",
    "    # 环氧化反应\n",
    "    '[C:1]=[C:2]>>[C:1]1[O][C:2]1',\n",
    "    # Ozonolysis\n",
    "    '[C:1]=[C:2]>>[C:1](=O).[C:2](=O)',\n",
    "    # Ester Hydrolysis\n",
    "    '[C:1](=O)[O][C:2].[H][O][H]>>[C:1](=O)[O][H].[C:2][O][H]',\n",
    "    # Amide Hydrolysis\n",
    "    '[C:1](=O)[N][C:2].[H][O][H]>>[C:1](=O)[O][H].[N][C:2]',\n",
    "    # Wittig-Horner 反应\n",
    "    '[C:1]=O.[P:2](=O)[C:3][C:4]>>[C:1]=[C:3]',\n",
    "    # Enamine 反应\n",
    "    '[C:1]=O.[N:2][H][C:3]>>[C:1]=[N:2][C:3]',\n",
    "    # Curtius 重排\n",
    "    '[C:1](=O)[N3]>>[C:1][N][H]',\n",
    "    # Ullmann 反应\n",
    "    '[C:1][Br].[C:2][Br]>>[C:1][C:2]',\n",
    "    # Hantzsch 合成\n",
    "    '[C:1]=O.[C:2]=O.[N:3][H][H]>>[C:1][C:2][N:3]',\n",
    "    # Pechmann 反应\n",
    "    '[C:1]=O.[C:2]=C[O][H]>>[C:1][C:2]=O',\n",
    "    # Skraup 合成\n",
    "    '[C:1]=C.[N:2][H][H].[O]>>[C:1][N:2]=C',\n",
    "    # Tiffeneau-Demjanov 重排\n",
    "    '[C:1][C:2][N][H][H]>>[C:1]=O.[C:2][H]'\n",
    "]\n",
    "\n",
    "\n",
    "reactions = [rdChemReactions.ReactionFromSmarts(rs) for rs in reaction_smarts]\n",
    "\n"
   ],
   "id": "ce18d870c9f07c61",
   "outputs": [],
   "execution_count": null
  },
  {
   "metadata": {},
   "cell_type": "code",
   "outputs": [],
   "execution_count": null,
   "source": [
    "\n",
    "# 4. 使用笛卡尔积生成片段组合并生成新分子\n",
    "def generate_new_molecules(fragments, reactions, num_molecules=1000):\n",
    "    new_molecules = set()\n",
    "    fragment_pairs = list(itertools.product(fragments, repeat=2))\n",
    "    random.shuffle(fragment_pairs)  # 随机打乱组合顺序\n",
    "    max_attempts = len(fragment_pairs)\n",
    "    attempts = 0\n",
    "\n",
    "    for frag1, frag2 in fragment_pairs:\n",
    "        if attempts >= max_attempts or len(new_molecules) >= num_molecules:\n",
    "            break\n",
    "        attempts += 1\n",
    "\n",
    "        for rxn in reactions:\n",
    "            try:\n",
    "                # 检查反应物是否匹配反应模式\n",
    "                reactants = []\n",
    "                if rxn.IsMoleculeReactant(frag1):\n",
    "                    reactants.append(frag1)\n",
    "                if rxn.IsMoleculeReactant(frag2):\n",
    "                    reactants.append(frag2)\n",
    "                if len(reactants) != rxn.GetNumReactantTemplates():\n",
    "                    continue\n",
    "\n",
    "                products = rxn.RunReactants(reactants)\n",
    "\n",
    "                # 提取生成的产品\n",
    "                for product in products:\n",
    "                    mol = product[0]\n",
    "                    Chem.SanitizeMol(mol)\n",
    "                    smi = Chem.MolToSmiles(mol)\n",
    "                    new_molecules.add(smi)\n",
    "            except Exception as e:\n",
    "                continue\n",
    "\n",
    "            if len(new_molecules) >= num_molecules:\n",
    "                break\n",
    "\n",
    "    return list(new_molecules)\n"
   ],
   "id": "8ce78302ad113fc1"
  },
  {
   "metadata": {},
   "cell_type": "code",
   "outputs": [],
   "execution_count": null,
   "source": [
    "# 生成新分子\n",
    "print(\"开始生成新分子...\")\n",
    "new_smiles = generate_new_molecules(fragment_mols, reactions, num_molecules=1000)\n",
    "print(f'生成的新分子数量: {len(new_smiles)}')\n"
   ],
   "id": "55fc5f05b21c73f"
  },
  {
   "metadata": {},
   "cell_type": "code",
   "outputs": [],
   "execution_count": null,
   "source": [
    "\n",
    "# 将 SMILES 转换为分子对象\n",
    "new_mols = [Chem.MolFromSmiles(smi) for smi in new_smiles]\n",
    "new_mols = [mol for mol in new_mols if mol is not None]\n"
   ],
   "id": "bcb12a980f103d18"
  },
  {
   "metadata": {},
   "cell_type": "code",
   "outputs": [],
   "execution_count": null,
   "source": [
    "# 5. 验证新分子\n",
    "# 应用 Lipinski 规则和 PAINS 过滤器\n",
    "def filter_molecules(mols):\n",
    "    filtered_mols = []\n",
    "    # 初始化 PAINS 过滤器\n",
    "    params = FilterCatalogParams()\n",
    "    params.AddCatalog(FilterCatalogParams.FilterCatalogs.PAINS)\n",
    "    catalog = FilterCatalog(params)\n",
    "\n",
    "    for mol in mols:\n",
    "        mol_weight = Descriptors.MolWt(mol)\n",
    "        logp = Descriptors.MolLogP(mol)\n",
    "        num_h_donors = rdMolDescriptors.CalcNumHBD(mol)\n",
    "        num_h_acceptors = rdMolDescriptors.CalcNumHBA(mol)\n",
    "        rotatable_bonds = Descriptors.NumRotatableBonds(mol)\n",
    "\n",
    "        # 应用 Lipinski 规则\n",
    "        lipinski_pass = (mol_weight <= 500 and\n",
    "                         logp <= 5 and\n",
    "                         num_h_donors <= 5 and\n",
    "                         num_h_acceptors <= 10 and\n",
    "                         rotatable_bonds <= 10)\n",
    "\n",
    "        # 应用 PAINS 过滤器\n",
    "        pains_matches = catalog.GetMatches(mol)\n",
    "        pains_pass = len(pains_matches) == 0\n",
    "\n",
    "        if lipinski_pass and pains_pass:\n",
    "            filtered_mols.append(mol)\n",
    "\n",
    "    return filtered_mols\n"
   ],
   "id": "a9eda8be50b2448b"
  },
  {
   "metadata": {},
   "cell_type": "code",
   "outputs": [],
   "execution_count": null,
   "source": [
    "valid_mols = filter_molecules(new_mols)\n",
    "print(f'符合筛选条件的分子数量: {len(valid_mols)}')"
   ],
   "id": "79fb621ab2301bd7"
  },
  {
   "metadata": {},
   "cell_type": "code",
   "outputs": [],
   "execution_count": null,
   "source": [
    "# 6. 可视化生成的分子\n",
    "# 绘制生成的分子（前16个）\n",
    "if valid_mols:\n",
    "    img = Draw.MolsToGridImage(valid_mols[:16], molsPerRow=4, subImgSize=(200, 200))\n",
    "    img.show()\n",
    "else:\n",
    "    print(\"没有符合条件的分子。\")"
   ],
   "id": "676822c7fb93ca0b"
  },
  {
   "metadata": {},
   "cell_type": "code",
   "outputs": [],
   "execution_count": null,
   "source": [
    "# 7. 保存结果\n",
    "# 创建 data 目录（如果不存在）\n",
    "os.makedirs('data', exist_ok=True)"
   ],
   "id": "cf74b2a949aa4d8c"
  },
  {
   "metadata": {},
   "cell_type": "code",
   "outputs": [],
   "execution_count": null,
   "source": [
    "# 将有效的分子 SMILES 保存到 CSV 文件\n",
    "valid_smiles = [Chem.MolToSmiles(mol) for mol in valid_mols]\n",
    "output_df = pd.DataFrame(valid_smiles, columns=['SMILES'])\n",
    "output_df.to_csv(DATA / 'Fragment-Design_Generate-New-Molecules.csv', index=False)\n",
    "print(\"生成的分子已保存到 data/Fragment-Design_Generate-New-Molecules.csv 文件中。\")"
   ],
   "id": "5d25315d47a3532b"
  },
  {
   "metadata": {},
   "cell_type": "markdown",
   "source": [],
   "id": "d24e74a75d553f81"
  }
 ],
 "metadata": {
  "kernelspec": {
   "display_name": "Python 3",
   "language": "python",
   "name": "python3"
  },
  "language_info": {
   "codemirror_mode": {
    "name": "ipython",
    "version": 2
   },
   "file_extension": ".py",
   "mimetype": "text/x-python",
   "name": "python",
   "nbconvert_exporter": "python",
   "pygments_lexer": "ipython2",
   "version": "2.7.6"
  }
 },
 "nbformat": 4,
 "nbformat_minor": 5
}
