{
 "cells": [
  {
   "cell_type": "markdown",
   "source": [
    "**数据处理与分析**：解析上传的抗体序列，提取其理化特性，并根据化学逻辑进行优化设计。\n",
    "\n",
    "**模型生成**：根据序列生成符合生物化学规则的新抗体序列。\n",
    "\n",
    "**分子对接（Smina）**：将新生成的抗体与目标分子进行对接模拟。\n",
    "\n",
    "**详细教程**：展示从**数据加载**到**生成新抗体序列**和**分子对接**的完整流程。"
   ],
   "metadata": {
    "collapsed": false
   },
   "id": "f5fe9e9ece139dec"
  },
  {
   "cell_type": "markdown",
   "source": [
    "**免疫球蛋白结构与功能**：如重链（VH）和轻链（VL）的变区与恒区。\n",
    "\n",
    "**抗体多样性和序列优化**：模仿天然抗体库中的**超变区（CDR）**。\n",
    "\n",
    "**氨基酸偏好与物理化学规则**：确保序列的**稳定性、亲水性和生物可溶性**。\n",
    "\n",
    "**生成模型设计**：采用**基于深度学习的生成模型（VAE/GAN）**，而非简单的随机生成。\n",
    "\n",
    "**序列质量验证**：基于规则筛选，如 **疏水性**、**芳香性** 和 **结合位点预测**。"
   ],
   "metadata": {
    "collapsed": false
   },
   "id": "1a64d575b3ff8138"
  },
  {
   "cell_type": "markdown",
   "source": [
    "## **1. 高级抗体序列生成思路：基于 CDR 变区模拟**\n",
    "\n",
    "抗体的变异主要集中在 **超变区（CDR1、CDR2 和 CDR3）**。CDR 区域直接影响抗原结合位点的特性，因此我们需要对这些区域进行模拟生成。\n",
    "\n",
    "### **抗体结构示意**\n",
    "\n",
    "- **轻链（VL）**：由可变区（包含 CDR1、CDR2 和 CDR3）和恒区组成。\n",
    "- **重链（VH）**：类似地包含 CDR 区域，并直接参与抗原结合。\n",
    "\n",
    "将采用一种分层生成策略：**恒区保持不变，变区使用 GAN 或 VAE 进行随机生成**。"
   ],
   "metadata": {
    "collapsed": false
   },
   "id": "a36654cfc96b2b4e"
  },
  {
   "cell_type": "markdown",
   "source": [
    "## **2. 使用深度学习模型（VAE）生成抗体序列**\n",
    "\n",
    "### **代码实现：基于 VAE 的抗体生成**"
   ],
   "metadata": {
    "collapsed": false
   },
   "id": "c16ac9c9cf82a356"
  },
  {
   "cell_type": "code",
   "outputs": [
    {
     "name": "stderr",
     "output_type": "stream",
     "text": [
      "  1%|          | 1/100 [00:00<00:37,  2.65it/s]"
     ]
    },
    {
     "name": "stdout",
     "output_type": "stream",
     "text": [
      "Epoch 1, Loss: -616365486791015209631744.0000\n"
     ]
    },
    {
     "name": "stderr",
     "output_type": "stream",
     "text": [
      "  2%|▏         | 2/100 [00:00<00:32,  2.98it/s]"
     ]
    },
    {
     "name": "stdout",
     "output_type": "stream",
     "text": [
      "Epoch 2, Loss: -6659985943067285446983680.0000\n"
     ]
    },
    {
     "name": "stderr",
     "output_type": "stream",
     "text": [
      "  3%|▎         | 3/100 [00:00<00:28,  3.38it/s]"
     ]
    },
    {
     "name": "stdout",
     "output_type": "stream",
     "text": [
      "Epoch 3, Loss: -6660080469816954698334208.0000\n"
     ]
    },
    {
     "name": "stderr",
     "output_type": "stream",
     "text": [
      "  4%|▍         | 4/100 [00:01<00:26,  3.62it/s]"
     ]
    },
    {
     "name": "stdout",
     "output_type": "stream",
     "text": [
      "Epoch 4, Loss: -6660080469816954698334208.0000\n"
     ]
    },
    {
     "name": "stderr",
     "output_type": "stream",
     "text": [
      "  5%|▌         | 5/100 [00:01<00:26,  3.61it/s]"
     ]
    },
    {
     "name": "stdout",
     "output_type": "stream",
     "text": [
      "Epoch 5, Loss: -6660080469816954698334208.0000\n"
     ]
    },
    {
     "name": "stderr",
     "output_type": "stream",
     "text": [
      "  6%|▌         | 6/100 [00:01<00:26,  3.61it/s]"
     ]
    },
    {
     "name": "stdout",
     "output_type": "stream",
     "text": [
      "Epoch 6, Loss: -6660080469816954698334208.0000\n"
     ]
    },
    {
     "name": "stderr",
     "output_type": "stream",
     "text": [
      "  7%|▋         | 7/100 [00:02<00:26,  3.47it/s]"
     ]
    },
    {
     "name": "stdout",
     "output_type": "stream",
     "text": [
      "Epoch 7, Loss: -6660080469816954698334208.0000\n"
     ]
    },
    {
     "name": "stderr",
     "output_type": "stream",
     "text": [
      "  8%|▊         | 8/100 [00:02<00:26,  3.43it/s]"
     ]
    },
    {
     "name": "stdout",
     "output_type": "stream",
     "text": [
      "Epoch 8, Loss: -6660080469816954698334208.0000\n"
     ]
    },
    {
     "name": "stderr",
     "output_type": "stream",
     "text": [
      "  9%|▉         | 9/100 [00:02<00:26,  3.41it/s]"
     ]
    },
    {
     "name": "stdout",
     "output_type": "stream",
     "text": [
      "Epoch 9, Loss: -6660080469816954698334208.0000\n"
     ]
    },
    {
     "name": "stderr",
     "output_type": "stream",
     "text": [
      " 10%|█         | 10/100 [00:02<00:25,  3.52it/s]"
     ]
    },
    {
     "name": "stdout",
     "output_type": "stream",
     "text": [
      "Epoch 10, Loss: -6660080469816954698334208.0000\n"
     ]
    },
    {
     "name": "stderr",
     "output_type": "stream",
     "text": [
      " 11%|█         | 11/100 [00:03<00:26,  3.35it/s]"
     ]
    },
    {
     "name": "stdout",
     "output_type": "stream",
     "text": [
      "Epoch 11, Loss: -6660080469816954698334208.0000\n"
     ]
    },
    {
     "name": "stderr",
     "output_type": "stream",
     "text": [
      " 12%|█▏        | 12/100 [00:03<00:25,  3.40it/s]"
     ]
    },
    {
     "name": "stdout",
     "output_type": "stream",
     "text": [
      "Epoch 12, Loss: -6660080469816954698334208.0000\n"
     ]
    },
    {
     "name": "stderr",
     "output_type": "stream",
     "text": [
      " 13%|█▎        | 13/100 [00:03<00:26,  3.26it/s]"
     ]
    },
    {
     "name": "stdout",
     "output_type": "stream",
     "text": [
      "Epoch 13, Loss: -6660080469816954698334208.0000\n"
     ]
    },
    {
     "name": "stderr",
     "output_type": "stream",
     "text": [
      " 14%|█▍        | 14/100 [00:04<00:26,  3.21it/s]"
     ]
    },
    {
     "name": "stdout",
     "output_type": "stream",
     "text": [
      "Epoch 14, Loss: -6660080469816954698334208.0000\n"
     ]
    },
    {
     "name": "stderr",
     "output_type": "stream",
     "text": [
      " 15%|█▌        | 15/100 [00:04<00:26,  3.21it/s]"
     ]
    },
    {
     "name": "stdout",
     "output_type": "stream",
     "text": [
      "Epoch 15, Loss: -6660080469816954698334208.0000\n"
     ]
    },
    {
     "name": "stderr",
     "output_type": "stream",
     "text": [
      " 16%|█▌        | 16/100 [00:04<00:26,  3.12it/s]"
     ]
    },
    {
     "name": "stdout",
     "output_type": "stream",
     "text": [
      "Epoch 16, Loss: -6660080469816954698334208.0000\n"
     ]
    },
    {
     "name": "stderr",
     "output_type": "stream",
     "text": [
      " 17%|█▋        | 17/100 [00:05<00:25,  3.20it/s]"
     ]
    },
    {
     "name": "stdout",
     "output_type": "stream",
     "text": [
      "Epoch 17, Loss: -6660080469816954698334208.0000\n"
     ]
    },
    {
     "name": "stderr",
     "output_type": "stream",
     "text": [
      " 18%|█▊        | 18/100 [00:05<00:25,  3.24it/s]"
     ]
    },
    {
     "name": "stdout",
     "output_type": "stream",
     "text": [
      "Epoch 18, Loss: -6660080469816954698334208.0000\n"
     ]
    },
    {
     "name": "stderr",
     "output_type": "stream",
     "text": [
      " 19%|█▉        | 19/100 [00:05<00:24,  3.30it/s]"
     ]
    },
    {
     "name": "stdout",
     "output_type": "stream",
     "text": [
      "Epoch 19, Loss: -6660080469816954698334208.0000\n"
     ]
    },
    {
     "name": "stderr",
     "output_type": "stream",
     "text": [
      " 20%|██        | 20/100 [00:06<00:24,  3.27it/s]"
     ]
    },
    {
     "name": "stdout",
     "output_type": "stream",
     "text": [
      "Epoch 20, Loss: -6660080469816954698334208.0000\n"
     ]
    },
    {
     "name": "stderr",
     "output_type": "stream",
     "text": [
      " 21%|██        | 21/100 [00:06<00:23,  3.33it/s]"
     ]
    },
    {
     "name": "stdout",
     "output_type": "stream",
     "text": [
      "Epoch 21, Loss: -6660080469816954698334208.0000\n"
     ]
    },
    {
     "name": "stderr",
     "output_type": "stream",
     "text": [
      " 22%|██▏       | 22/100 [00:06<00:23,  3.25it/s]"
     ]
    },
    {
     "name": "stdout",
     "output_type": "stream",
     "text": [
      "Epoch 22, Loss: -6660080469816954698334208.0000\n"
     ]
    },
    {
     "name": "stderr",
     "output_type": "stream",
     "text": [
      " 23%|██▎       | 23/100 [00:06<00:23,  3.23it/s]"
     ]
    },
    {
     "name": "stdout",
     "output_type": "stream",
     "text": [
      "Epoch 23, Loss: -6660080469816954698334208.0000\n"
     ]
    },
    {
     "name": "stderr",
     "output_type": "stream",
     "text": [
      " 24%|██▍       | 24/100 [00:07<00:24,  3.09it/s]"
     ]
    },
    {
     "name": "stdout",
     "output_type": "stream",
     "text": [
      "Epoch 24, Loss: -6660080469816954698334208.0000\n"
     ]
    },
    {
     "name": "stderr",
     "output_type": "stream",
     "text": [
      " 25%|██▌       | 25/100 [00:07<00:24,  3.04it/s]"
     ]
    },
    {
     "name": "stdout",
     "output_type": "stream",
     "text": [
      "Epoch 25, Loss: -6660080469816954698334208.0000\n"
     ]
    },
    {
     "name": "stderr",
     "output_type": "stream",
     "text": [
      " 26%|██▌       | 26/100 [00:07<00:24,  3.06it/s]"
     ]
    },
    {
     "name": "stdout",
     "output_type": "stream",
     "text": [
      "Epoch 26, Loss: -6660080469816954698334208.0000\n"
     ]
    },
    {
     "name": "stderr",
     "output_type": "stream",
     "text": [
      " 27%|██▋       | 27/100 [00:08<00:23,  3.10it/s]"
     ]
    },
    {
     "name": "stdout",
     "output_type": "stream",
     "text": [
      "Epoch 27, Loss: -6660080469816954698334208.0000\n"
     ]
    },
    {
     "name": "stderr",
     "output_type": "stream",
     "text": [
      " 28%|██▊       | 28/100 [00:08<00:23,  3.09it/s]"
     ]
    },
    {
     "name": "stdout",
     "output_type": "stream",
     "text": [
      "Epoch 28, Loss: -6660080469816954698334208.0000\n"
     ]
    },
    {
     "name": "stderr",
     "output_type": "stream",
     "text": [
      " 29%|██▉       | 29/100 [00:08<00:23,  3.04it/s]"
     ]
    },
    {
     "name": "stdout",
     "output_type": "stream",
     "text": [
      "Epoch 29, Loss: -6660080469816954698334208.0000\n"
     ]
    },
    {
     "name": "stderr",
     "output_type": "stream",
     "text": [
      " 30%|███       | 30/100 [00:09<00:23,  3.01it/s]"
     ]
    },
    {
     "name": "stdout",
     "output_type": "stream",
     "text": [
      "Epoch 30, Loss: -6660080469816954698334208.0000\n"
     ]
    },
    {
     "name": "stderr",
     "output_type": "stream",
     "text": [
      " 31%|███       | 31/100 [00:09<00:22,  3.07it/s]"
     ]
    },
    {
     "name": "stdout",
     "output_type": "stream",
     "text": [
      "Epoch 31, Loss: -6660080469816954698334208.0000\n"
     ]
    },
    {
     "name": "stderr",
     "output_type": "stream",
     "text": [
      " 32%|███▏      | 32/100 [00:09<00:22,  3.07it/s]"
     ]
    },
    {
     "name": "stdout",
     "output_type": "stream",
     "text": [
      "Epoch 32, Loss: -6660080469816954698334208.0000\n"
     ]
    },
    {
     "name": "stderr",
     "output_type": "stream",
     "text": [
      " 33%|███▎      | 33/100 [00:10<00:22,  3.04it/s]"
     ]
    },
    {
     "name": "stdout",
     "output_type": "stream",
     "text": [
      "Epoch 33, Loss: -6660080469816954698334208.0000\n"
     ]
    },
    {
     "name": "stderr",
     "output_type": "stream",
     "text": [
      " 34%|███▍      | 34/100 [00:10<00:23,  2.77it/s]"
     ]
    },
    {
     "name": "stdout",
     "output_type": "stream",
     "text": [
      "Epoch 34, Loss: -6660080469816954698334208.0000\n"
     ]
    },
    {
     "name": "stderr",
     "output_type": "stream",
     "text": [
      " 35%|███▌      | 35/100 [00:11<00:24,  2.68it/s]"
     ]
    },
    {
     "name": "stdout",
     "output_type": "stream",
     "text": [
      "Epoch 35, Loss: -6660080469816954698334208.0000\n"
     ]
    },
    {
     "name": "stderr",
     "output_type": "stream",
     "text": [
      " 36%|███▌      | 36/100 [00:11<00:24,  2.64it/s]"
     ]
    },
    {
     "name": "stdout",
     "output_type": "stream",
     "text": [
      "Epoch 36, Loss: -6660080469816954698334208.0000\n"
     ]
    },
    {
     "name": "stderr",
     "output_type": "stream",
     "text": [
      " 37%|███▋      | 37/100 [00:11<00:24,  2.61it/s]"
     ]
    },
    {
     "name": "stdout",
     "output_type": "stream",
     "text": [
      "Epoch 37, Loss: -6660080469816954698334208.0000\n"
     ]
    },
    {
     "name": "stderr",
     "output_type": "stream",
     "text": [
      " 38%|███▊      | 38/100 [00:12<00:24,  2.57it/s]"
     ]
    },
    {
     "name": "stdout",
     "output_type": "stream",
     "text": [
      "Epoch 38, Loss: -6660080469816954698334208.0000\n"
     ]
    },
    {
     "name": "stderr",
     "output_type": "stream",
     "text": [
      " 39%|███▉      | 39/100 [00:12<00:23,  2.57it/s]"
     ]
    },
    {
     "name": "stdout",
     "output_type": "stream",
     "text": [
      "Epoch 39, Loss: -6660080469816954698334208.0000\n"
     ]
    },
    {
     "name": "stderr",
     "output_type": "stream",
     "text": [
      " 40%|████      | 40/100 [00:12<00:22,  2.72it/s]"
     ]
    },
    {
     "name": "stdout",
     "output_type": "stream",
     "text": [
      "Epoch 40, Loss: -6660080469816954698334208.0000\n"
     ]
    },
    {
     "name": "stderr",
     "output_type": "stream",
     "text": [
      " 41%|████      | 41/100 [00:13<00:20,  2.85it/s]"
     ]
    },
    {
     "name": "stdout",
     "output_type": "stream",
     "text": [
      "Epoch 41, Loss: -6660080469816954698334208.0000\n"
     ]
    },
    {
     "name": "stderr",
     "output_type": "stream",
     "text": [
      " 42%|████▏     | 42/100 [00:13<00:19,  3.00it/s]"
     ]
    },
    {
     "name": "stdout",
     "output_type": "stream",
     "text": [
      "Epoch 42, Loss: -6660080469816954698334208.0000\n"
     ]
    },
    {
     "name": "stderr",
     "output_type": "stream",
     "text": [
      " 43%|████▎     | 43/100 [00:13<00:18,  3.09it/s]"
     ]
    },
    {
     "name": "stdout",
     "output_type": "stream",
     "text": [
      "Epoch 43, Loss: -6660080469816954698334208.0000\n"
     ]
    },
    {
     "name": "stderr",
     "output_type": "stream",
     "text": [
      " 44%|████▍     | 44/100 [00:14<00:18,  3.06it/s]"
     ]
    },
    {
     "name": "stdout",
     "output_type": "stream",
     "text": [
      "Epoch 44, Loss: -6660080469816954698334208.0000\n"
     ]
    },
    {
     "name": "stderr",
     "output_type": "stream",
     "text": [
      " 45%|████▌     | 45/100 [00:14<00:18,  3.03it/s]"
     ]
    },
    {
     "name": "stdout",
     "output_type": "stream",
     "text": [
      "Epoch 45, Loss: -6660080469816954698334208.0000\n"
     ]
    },
    {
     "name": "stderr",
     "output_type": "stream",
     "text": [
      " 46%|████▌     | 46/100 [00:14<00:18,  2.92it/s]"
     ]
    },
    {
     "name": "stdout",
     "output_type": "stream",
     "text": [
      "Epoch 46, Loss: -6660080469816954698334208.0000\n"
     ]
    },
    {
     "name": "stderr",
     "output_type": "stream",
     "text": [
      " 47%|████▋     | 47/100 [00:15<00:18,  2.90it/s]"
     ]
    },
    {
     "name": "stdout",
     "output_type": "stream",
     "text": [
      "Epoch 47, Loss: -6660080469816954698334208.0000\n"
     ]
    },
    {
     "name": "stderr",
     "output_type": "stream",
     "text": [
      " 48%|████▊     | 48/100 [00:15<00:17,  2.99it/s]"
     ]
    },
    {
     "name": "stdout",
     "output_type": "stream",
     "text": [
      "Epoch 48, Loss: -6660080469816954698334208.0000\n"
     ]
    },
    {
     "name": "stderr",
     "output_type": "stream",
     "text": [
      " 49%|████▉     | 49/100 [00:15<00:16,  3.04it/s]"
     ]
    },
    {
     "name": "stdout",
     "output_type": "stream",
     "text": [
      "Epoch 49, Loss: -6660080469816954698334208.0000\n"
     ]
    },
    {
     "name": "stderr",
     "output_type": "stream",
     "text": [
      " 50%|█████     | 50/100 [00:16<00:16,  3.04it/s]"
     ]
    },
    {
     "name": "stdout",
     "output_type": "stream",
     "text": [
      "Epoch 50, Loss: -6660080469816954698334208.0000\n"
     ]
    },
    {
     "name": "stderr",
     "output_type": "stream",
     "text": [
      " 51%|█████     | 51/100 [00:16<00:16,  3.03it/s]"
     ]
    },
    {
     "name": "stdout",
     "output_type": "stream",
     "text": [
      "Epoch 51, Loss: -6660080469816954698334208.0000\n"
     ]
    },
    {
     "name": "stderr",
     "output_type": "stream",
     "text": [
      " 52%|█████▏    | 52/100 [00:16<00:16,  2.89it/s]"
     ]
    },
    {
     "name": "stdout",
     "output_type": "stream",
     "text": [
      "Epoch 52, Loss: -6660080469816954698334208.0000\n"
     ]
    },
    {
     "name": "stderr",
     "output_type": "stream",
     "text": [
      " 53%|█████▎    | 53/100 [00:17<00:15,  3.00it/s]"
     ]
    },
    {
     "name": "stdout",
     "output_type": "stream",
     "text": [
      "Epoch 53, Loss: -6660080469816954698334208.0000\n"
     ]
    },
    {
     "name": "stderr",
     "output_type": "stream",
     "text": [
      " 54%|█████▍    | 54/100 [00:17<00:14,  3.10it/s]"
     ]
    },
    {
     "name": "stdout",
     "output_type": "stream",
     "text": [
      "Epoch 54, Loss: -6660080469816954698334208.0000\n"
     ]
    },
    {
     "name": "stderr",
     "output_type": "stream",
     "text": [
      " 55%|█████▌    | 55/100 [00:17<00:14,  3.06it/s]"
     ]
    },
    {
     "name": "stdout",
     "output_type": "stream",
     "text": [
      "Epoch 55, Loss: -6660080469816954698334208.0000\n"
     ]
    },
    {
     "name": "stderr",
     "output_type": "stream",
     "text": [
      " 56%|█████▌    | 56/100 [00:18<00:14,  3.00it/s]"
     ]
    },
    {
     "name": "stdout",
     "output_type": "stream",
     "text": [
      "Epoch 56, Loss: -6660080469816954698334208.0000\n"
     ]
    },
    {
     "name": "stderr",
     "output_type": "stream",
     "text": [
      " 57%|█████▋    | 57/100 [00:18<00:14,  3.03it/s]"
     ]
    },
    {
     "name": "stdout",
     "output_type": "stream",
     "text": [
      "Epoch 57, Loss: -6660080469816954698334208.0000\n"
     ]
    },
    {
     "name": "stderr",
     "output_type": "stream",
     "text": [
      " 58%|█████▊    | 58/100 [00:18<00:13,  3.10it/s]"
     ]
    },
    {
     "name": "stdout",
     "output_type": "stream",
     "text": [
      "Epoch 58, Loss: -6660080469816954698334208.0000\n"
     ]
    },
    {
     "name": "stderr",
     "output_type": "stream",
     "text": [
      " 59%|█████▉    | 59/100 [00:19<00:12,  3.17it/s]"
     ]
    },
    {
     "name": "stdout",
     "output_type": "stream",
     "text": [
      "Epoch 59, Loss: -6660080469816954698334208.0000\n"
     ]
    },
    {
     "name": "stderr",
     "output_type": "stream",
     "text": [
      " 60%|██████    | 60/100 [00:19<00:12,  3.18it/s]"
     ]
    },
    {
     "name": "stdout",
     "output_type": "stream",
     "text": [
      "Epoch 60, Loss: -6660080469816954698334208.0000\n"
     ]
    },
    {
     "name": "stderr",
     "output_type": "stream",
     "text": [
      " 61%|██████    | 61/100 [00:19<00:12,  3.21it/s]"
     ]
    },
    {
     "name": "stdout",
     "output_type": "stream",
     "text": [
      "Epoch 61, Loss: -6660080469816954698334208.0000\n"
     ]
    },
    {
     "name": "stderr",
     "output_type": "stream",
     "text": [
      " 62%|██████▏   | 62/100 [00:20<00:12,  3.15it/s]"
     ]
    },
    {
     "name": "stdout",
     "output_type": "stream",
     "text": [
      "Epoch 62, Loss: -6660080469816954698334208.0000\n"
     ]
    },
    {
     "name": "stderr",
     "output_type": "stream",
     "text": [
      " 63%|██████▎   | 63/100 [00:20<00:12,  2.99it/s]"
     ]
    },
    {
     "name": "stdout",
     "output_type": "stream",
     "text": [
      "Epoch 63, Loss: -6660080469816954698334208.0000\n"
     ]
    },
    {
     "name": "stderr",
     "output_type": "stream",
     "text": [
      " 64%|██████▍   | 64/100 [00:20<00:11,  3.10it/s]"
     ]
    },
    {
     "name": "stdout",
     "output_type": "stream",
     "text": [
      "Epoch 64, Loss: -6660080469816954698334208.0000\n"
     ]
    },
    {
     "name": "stderr",
     "output_type": "stream",
     "text": [
      " 65%|██████▌   | 65/100 [00:21<00:11,  3.16it/s]"
     ]
    },
    {
     "name": "stdout",
     "output_type": "stream",
     "text": [
      "Epoch 65, Loss: -6660080469816954698334208.0000\n"
     ]
    },
    {
     "name": "stderr",
     "output_type": "stream",
     "text": [
      " 66%|██████▌   | 66/100 [00:21<00:11,  3.08it/s]"
     ]
    },
    {
     "name": "stdout",
     "output_type": "stream",
     "text": [
      "Epoch 66, Loss: -6660080469816954698334208.0000\n"
     ]
    },
    {
     "name": "stderr",
     "output_type": "stream",
     "text": [
      " 67%|██████▋   | 67/100 [00:21<00:10,  3.15it/s]"
     ]
    },
    {
     "name": "stdout",
     "output_type": "stream",
     "text": [
      "Epoch 67, Loss: -6660080469816954698334208.0000\n"
     ]
    },
    {
     "name": "stderr",
     "output_type": "stream",
     "text": [
      " 68%|██████▊   | 68/100 [00:22<00:10,  3.19it/s]"
     ]
    },
    {
     "name": "stdout",
     "output_type": "stream",
     "text": [
      "Epoch 68, Loss: -6660080469816954698334208.0000\n"
     ]
    },
    {
     "name": "stderr",
     "output_type": "stream",
     "text": [
      " 69%|██████▉   | 69/100 [00:22<00:10,  3.08it/s]"
     ]
    },
    {
     "name": "stdout",
     "output_type": "stream",
     "text": [
      "Epoch 69, Loss: -6660080469816954698334208.0000\n"
     ]
    },
    {
     "name": "stderr",
     "output_type": "stream",
     "text": [
      " 70%|███████   | 70/100 [00:22<00:09,  3.04it/s]"
     ]
    },
    {
     "name": "stdout",
     "output_type": "stream",
     "text": [
      "Epoch 70, Loss: -6660080469816954698334208.0000\n"
     ]
    },
    {
     "name": "stderr",
     "output_type": "stream",
     "text": [
      " 71%|███████   | 71/100 [00:23<00:09,  2.93it/s]"
     ]
    },
    {
     "name": "stdout",
     "output_type": "stream",
     "text": [
      "Epoch 71, Loss: -6660080469816954698334208.0000\n"
     ]
    },
    {
     "name": "stderr",
     "output_type": "stream",
     "text": [
      " 72%|███████▏  | 72/100 [00:23<00:09,  2.91it/s]"
     ]
    },
    {
     "name": "stdout",
     "output_type": "stream",
     "text": [
      "Epoch 72, Loss: -6660080469816954698334208.0000\n"
     ]
    },
    {
     "name": "stderr",
     "output_type": "stream",
     "text": [
      " 73%|███████▎  | 73/100 [00:23<00:09,  2.97it/s]"
     ]
    },
    {
     "name": "stdout",
     "output_type": "stream",
     "text": [
      "Epoch 73, Loss: -6660080469816954698334208.0000\n"
     ]
    },
    {
     "name": "stderr",
     "output_type": "stream",
     "text": [
      " 74%|███████▍  | 74/100 [00:24<00:08,  3.03it/s]"
     ]
    },
    {
     "name": "stdout",
     "output_type": "stream",
     "text": [
      "Epoch 74, Loss: -6660080469816954698334208.0000\n"
     ]
    },
    {
     "name": "stderr",
     "output_type": "stream",
     "text": [
      " 75%|███████▌  | 75/100 [00:24<00:08,  3.10it/s]"
     ]
    },
    {
     "name": "stdout",
     "output_type": "stream",
     "text": [
      "Epoch 75, Loss: -6660080469816954698334208.0000\n"
     ]
    },
    {
     "name": "stderr",
     "output_type": "stream",
     "text": [
      " 76%|███████▌  | 76/100 [00:24<00:07,  3.11it/s]"
     ]
    },
    {
     "name": "stdout",
     "output_type": "stream",
     "text": [
      "Epoch 76, Loss: -6660080469816954698334208.0000\n"
     ]
    },
    {
     "name": "stderr",
     "output_type": "stream",
     "text": [
      " 77%|███████▋  | 77/100 [00:25<00:07,  2.97it/s]"
     ]
    },
    {
     "name": "stdout",
     "output_type": "stream",
     "text": [
      "Epoch 77, Loss: -6660080469816954698334208.0000\n"
     ]
    },
    {
     "name": "stderr",
     "output_type": "stream",
     "text": [
      " 78%|███████▊  | 78/100 [00:25<00:07,  2.95it/s]"
     ]
    },
    {
     "name": "stdout",
     "output_type": "stream",
     "text": [
      "Epoch 78, Loss: -6660080469816954698334208.0000\n"
     ]
    },
    {
     "name": "stderr",
     "output_type": "stream",
     "text": [
      " 79%|███████▉  | 79/100 [00:25<00:07,  2.92it/s]"
     ]
    },
    {
     "name": "stdout",
     "output_type": "stream",
     "text": [
      "Epoch 79, Loss: -6660080469816954698334208.0000\n"
     ]
    },
    {
     "name": "stderr",
     "output_type": "stream",
     "text": [
      " 80%|████████  | 80/100 [00:26<00:06,  3.00it/s]"
     ]
    },
    {
     "name": "stdout",
     "output_type": "stream",
     "text": [
      "Epoch 80, Loss: -6660080469816954698334208.0000\n"
     ]
    },
    {
     "name": "stderr",
     "output_type": "stream",
     "text": [
      " 81%|████████  | 81/100 [00:26<00:06,  3.00it/s]"
     ]
    },
    {
     "name": "stdout",
     "output_type": "stream",
     "text": [
      "Epoch 81, Loss: -6660080469816954698334208.0000\n"
     ]
    },
    {
     "name": "stderr",
     "output_type": "stream",
     "text": [
      " 82%|████████▏ | 82/100 [00:26<00:06,  2.89it/s]"
     ]
    },
    {
     "name": "stdout",
     "output_type": "stream",
     "text": [
      "Epoch 82, Loss: -6660080469816954698334208.0000\n"
     ]
    },
    {
     "name": "stderr",
     "output_type": "stream",
     "text": [
      " 83%|████████▎ | 83/100 [00:27<00:05,  2.95it/s]"
     ]
    },
    {
     "name": "stdout",
     "output_type": "stream",
     "text": [
      "Epoch 83, Loss: -6660080469816954698334208.0000\n"
     ]
    },
    {
     "name": "stderr",
     "output_type": "stream",
     "text": [
      " 84%|████████▍ | 84/100 [00:27<00:05,  2.89it/s]"
     ]
    },
    {
     "name": "stdout",
     "output_type": "stream",
     "text": [
      "Epoch 84, Loss: -6660080469816954698334208.0000\n"
     ]
    },
    {
     "name": "stderr",
     "output_type": "stream",
     "text": [
      " 85%|████████▌ | 85/100 [00:27<00:05,  2.72it/s]"
     ]
    },
    {
     "name": "stdout",
     "output_type": "stream",
     "text": [
      "Epoch 85, Loss: -6660080469816954698334208.0000\n"
     ]
    },
    {
     "name": "stderr",
     "output_type": "stream",
     "text": [
      " 86%|████████▌ | 86/100 [00:28<00:04,  2.85it/s]"
     ]
    },
    {
     "name": "stdout",
     "output_type": "stream",
     "text": [
      "Epoch 86, Loss: -6660080469816954698334208.0000\n"
     ]
    },
    {
     "name": "stderr",
     "output_type": "stream",
     "text": [
      " 87%|████████▋ | 87/100 [00:28<00:04,  2.95it/s]"
     ]
    },
    {
     "name": "stdout",
     "output_type": "stream",
     "text": [
      "Epoch 87, Loss: -6660080469816954698334208.0000\n"
     ]
    },
    {
     "name": "stderr",
     "output_type": "stream",
     "text": [
      " 88%|████████▊ | 88/100 [00:28<00:03,  3.02it/s]"
     ]
    },
    {
     "name": "stdout",
     "output_type": "stream",
     "text": [
      "Epoch 88, Loss: -6660080469816954698334208.0000\n"
     ]
    },
    {
     "name": "stderr",
     "output_type": "stream",
     "text": [
      " 89%|████████▉ | 89/100 [00:29<00:03,  2.99it/s]"
     ]
    },
    {
     "name": "stdout",
     "output_type": "stream",
     "text": [
      "Epoch 89, Loss: -6660080469816954698334208.0000\n"
     ]
    },
    {
     "name": "stderr",
     "output_type": "stream",
     "text": [
      " 90%|█████████ | 90/100 [00:29<00:03,  3.02it/s]"
     ]
    },
    {
     "name": "stdout",
     "output_type": "stream",
     "text": [
      "Epoch 90, Loss: -6660080469816954698334208.0000\n"
     ]
    },
    {
     "name": "stderr",
     "output_type": "stream",
     "text": [
      " 91%|█████████ | 91/100 [00:29<00:02,  3.09it/s]"
     ]
    },
    {
     "name": "stdout",
     "output_type": "stream",
     "text": [
      "Epoch 91, Loss: -6660080469816954698334208.0000\n"
     ]
    },
    {
     "name": "stderr",
     "output_type": "stream",
     "text": [
      " 92%|█████████▏| 92/100 [00:30<00:02,  2.97it/s]"
     ]
    },
    {
     "name": "stdout",
     "output_type": "stream",
     "text": [
      "Epoch 92, Loss: -6660080469816954698334208.0000\n"
     ]
    },
    {
     "name": "stderr",
     "output_type": "stream",
     "text": [
      " 93%|█████████▎| 93/100 [00:30<00:02,  2.88it/s]"
     ]
    },
    {
     "name": "stdout",
     "output_type": "stream",
     "text": [
      "Epoch 93, Loss: -6660080469816954698334208.0000\n"
     ]
    },
    {
     "name": "stderr",
     "output_type": "stream",
     "text": [
      " 94%|█████████▍| 94/100 [00:30<00:02,  2.99it/s]"
     ]
    },
    {
     "name": "stdout",
     "output_type": "stream",
     "text": [
      "Epoch 94, Loss: -6660080469816954698334208.0000\n"
     ]
    },
    {
     "name": "stderr",
     "output_type": "stream",
     "text": [
      " 95%|█████████▌| 95/100 [00:31<00:01,  3.04it/s]"
     ]
    },
    {
     "name": "stdout",
     "output_type": "stream",
     "text": [
      "Epoch 95, Loss: -6660080469816954698334208.0000\n"
     ]
    },
    {
     "name": "stderr",
     "output_type": "stream",
     "text": [
      " 96%|█████████▌| 96/100 [00:31<00:01,  2.84it/s]"
     ]
    },
    {
     "name": "stdout",
     "output_type": "stream",
     "text": [
      "Epoch 96, Loss: -6660080469816954698334208.0000\n"
     ]
    },
    {
     "name": "stderr",
     "output_type": "stream",
     "text": [
      " 97%|█████████▋| 97/100 [00:31<00:01,  2.92it/s]"
     ]
    },
    {
     "name": "stdout",
     "output_type": "stream",
     "text": [
      "Epoch 97, Loss: -6660080469816954698334208.0000\n"
     ]
    },
    {
     "name": "stderr",
     "output_type": "stream",
     "text": [
      " 98%|█████████▊| 98/100 [00:32<00:00,  3.00it/s]"
     ]
    },
    {
     "name": "stdout",
     "output_type": "stream",
     "text": [
      "Epoch 98, Loss: -6660080469816954698334208.0000\n"
     ]
    },
    {
     "name": "stderr",
     "output_type": "stream",
     "text": [
      " 99%|█████████▉| 99/100 [00:32<00:00,  3.06it/s]"
     ]
    },
    {
     "name": "stdout",
     "output_type": "stream",
     "text": [
      "Epoch 99, Loss: -6660080469816954698334208.0000\n"
     ]
    },
    {
     "name": "stderr",
     "output_type": "stream",
     "text": [
      "100%|██████████| 100/100 [00:32<00:00,  3.05it/s]"
     ]
    },
    {
     "name": "stdout",
     "output_type": "stream",
     "text": [
      "Epoch 100, Loss: -6660080469816954698334208.0000\n",
      "1000 sequences saved to data/generated_antibodies.fasta\n"
     ]
    },
    {
     "name": "stderr",
     "output_type": "stream",
     "text": [
      "\n"
     ]
    }
   ],
   "source": [
    "import torch\n",
    "import torch.nn as nn\n",
    "import torch.optim as optim\n",
    "import numpy as np\n",
    "from Bio.Seq import Seq\n",
    "from Bio.SeqRecord import SeqRecord\n",
    "from Bio import SeqIO\n",
    "from tqdm import tqdm\n",
    "import random\n",
    "\n",
    "# 定义 VAE 模型\n",
    "class AntibodyVAE(nn.Module):\n",
    "    def __init__(self, input_dim, hidden_dim, latent_dim):\n",
    "        super(AntibodyVAE, self).__init__()\n",
    "        self.fc1 = nn.Linear(input_dim, hidden_dim)\n",
    "        self.fc21 = nn.Linear(hidden_dim, latent_dim)  # 均值\n",
    "        self.fc22 = nn.Linear(hidden_dim, latent_dim)  # 方差\n",
    "        self.fc3 = nn.Linear(latent_dim, hidden_dim)\n",
    "        self.fc4 = nn.Linear(hidden_dim, input_dim)\n",
    "\n",
    "    def encode(self, x):\n",
    "        h1 = torch.relu(self.fc1(x))\n",
    "        return self.fc21(h1), self.fc22(h1)\n",
    "\n",
    "    def reparameterize(self, mu, logvar):\n",
    "        std = torch.exp(0.5 * logvar)\n",
    "        eps = torch.randn_like(std)\n",
    "        return mu + eps * std\n",
    "\n",
    "    def decode(self, z):\n",
    "        h3 = torch.relu(self.fc3(z))\n",
    "        return torch.sigmoid(self.fc4(h3))\n",
    "\n",
    "    def forward(self, x):\n",
    "        mu, logvar = self.encode(x)\n",
    "        z = self.reparameterize(mu, logvar)\n",
    "        return self.decode(z), mu, logvar\n",
    "\n",
    "# 初始化 VAE 模型\n",
    "input_dim = 100  # CDR 区域的模拟长度\n",
    "hidden_dim = 50\n",
    "latent_dim = 10\n",
    "vae = AntibodyVAE(input_dim, hidden_dim, latent_dim)\n",
    "optimizer = optim.Adam(vae.parameters(), lr=1e-3)\n",
    "\n",
    "# 模拟训练数据\n",
    "data = np.random.rand(200, input_dim).astype(np.float32)  # 示例数据\n",
    "\n",
    "# 训练 VAE 模型\n",
    "for epoch in tqdm(range(100)):\n",
    "    vae.train()\n",
    "    total_loss = 0\n",
    "    for i in range(len(data)):\n",
    "        optimizer.zero_grad()\n",
    "        x = torch.tensor(data[i]).unsqueeze(0)\n",
    "        recon_x, mu, logvar = vae(x)\n",
    "        loss = ((x - recon_x) ** 2).sum() + 0.5 * torch.sum(1 + logvar - mu.pow(2) - logvar.exp())\n",
    "        loss.backward()\n",
    "        optimizer.step()\n",
    "        total_loss += loss.item()\n",
    "    print(f\"Epoch {epoch + 1}, Loss: {total_loss:.4f}\")\n",
    "\n",
    "# 生成新抗体序列\n",
    "def generate_antibody_sequences(vae, num_sequences=1000):\n",
    "    sequences = []\n",
    "    with torch.no_grad():\n",
    "        for _ in range(num_sequences):\n",
    "            z = torch.randn(1, latent_dim)\n",
    "            generated = vae.decode(z).numpy().flatten()\n",
    "            sequence = ''.join(random.choices(\"ACDEFGHIKLMNPQRSTVWY\", k=len(generated)))\n",
    "            sequences.append(sequence)\n",
    "    return sequences\n",
    "\n",
    "# 保存为FASTA文件\n",
    "def save_fasta(sequences, filename=\"data/generated_antibodies.fasta\"):\n",
    "    records = [\n",
    "        SeqRecord(Seq(seq), id=f\"Antibody_{i+1}\", description=\"Generated antibody sequence\")\n",
    "        for i, seq in enumerate(sequences)\n",
    "    ]\n",
    "    SeqIO.write(records, filename, \"fasta\")\n",
    "    print(f\"{len(sequences)} sequences saved to {filename}\")\n",
    "\n",
    "# 生成并保存序列\n",
    "new_sequences = generate_antibody_sequences(vae)\n",
    "save_fasta(new_sequences)\n"
   ],
   "metadata": {
    "collapsed": false,
    "ExecuteTime": {
     "end_time": "2024-10-23T10:00:11.491006Z",
     "start_time": "2024-10-23T09:59:34.828541Z"
    }
   },
   "id": "ff8f5bc4b3ab9ccc",
   "execution_count": 1
  },
  {
   "cell_type": "markdown",
   "source": [
    "## **3. 如何确保生成序列符合生物与化学逻辑**\n",
    "\n",
    "1. **多样性筛选**：\n",
    "   - 使用多样性指标（如 Shannon entropy）评估生成的序列。\n",
    "   - 确保 CDR 区域包含常见的抗体氨基酸组合。\n",
    "2. **稳定性和可溶性预测**：\n",
    "   - 使用 **ProteinAnalysis** 计算生成序列的理化性质，如分子量、不稳定性指数和疏水性。\n",
    "3. **生物相容性验证**：\n",
    "   - 通过与已知抗体（如贝伐单抗）序列进行多重序列比对，评估相似性。"
   ],
   "metadata": {
    "collapsed": false
   },
   "id": "616bb7a9062d08e9"
  },
  {
   "cell_type": "markdown",
   "source": [
    "## **4. 高级分子对接：与 VEGF 的对接模拟**\n",
    "\n",
    "使用 **Smina** 将生成的抗体序列对接到目标蛋白（如 VEGF）。\n",
    "\n",
    "### **PDBQT 转换与对接执行**"
   ],
   "metadata": {
    "collapsed": false
   },
   "id": "645c81bb6ded8cc9"
  },
  {
   "cell_type": "markdown",
   "source": [
    "## **1. 将抗体序列转换为 PDB 格式**\n",
    "\n",
    "FASTA 文件包含氨基酸序列，但不能直接用于分子对接。你需要：\n",
    "\n",
    "1. 使用 **PyMOL**、**AlphaFold** 或 **SwissSidechain** 将序列转化为三维结构（PDB 文件）。\n",
    "2. 然后使用 **Open Babel** 将 PDB 文件转换为 **PDBQT 格式**。"
   ],
   "metadata": {
    "collapsed": false
   },
   "id": "c3fe8a80d013a212"
  },
  {
   "cell_type": "markdown",
   "source": [
    "### **2. 使用 PyMOL 或 AlphaFold 生成 PDB 文件**\n",
    "\n",
    "#### **使用 PyMOL**\n",
    "\n",
    "1. 打开 PyMOL，将生成的抗体序列导入。\n",
    "2. 使用 **Build -> Mutagenesis** 工具手动生成氨基酸结构。\n",
    "3. 保存为 **PDB 文件**：`data/antibody.pdb`\n",
    "\n",
    "#### **使用 AlphaFold**\n",
    "\n",
    "- 访问 AlphaFold Protein Structure Database。\n",
    "- 将你的抗体序列粘贴到 AlphaFold 中，生成 PDB 文件。"
   ],
   "metadata": {
    "collapsed": false
   },
   "id": "69d4873226ab2957"
  },
  {
   "cell_type": "markdown",
   "source": [
    "### **3. 使用 Open Babel 转换为 PDBQT 格式**\n",
    "\n",
    "使用 Open Babel 将 PDB 文件转换为 PDBQT 格式：\n",
    "\n",
    "```bash\n",
    "obabel data/antibody.pdb -O data/antibody.pdbqt --gen3D\n",
    "```\n",
    "\n",
    "- **解释**：`--gen3D` 参数会生成三维结构。\n",
    "- 确保生成的 PDBQT 文件在 **data/** 文件夹中。"
   ],
   "metadata": {
    "collapsed": false
   },
   "id": "8fe80ceb93d91a3e"
  },
  {
   "cell_type": "markdown",
   "source": [],
   "metadata": {
    "collapsed": false
   },
   "id": "bc98040c36f94e6b"
  },
  {
   "cell_type": "code",
   "outputs": [
    {
     "name": "stdout",
     "output_type": "stream",
     "text": [
      "Docking failed: Command '['smina', '--ligand', 'data/ligand.pdbqt', '--receptor', 'data/protein.pdbqt', '--out', 'data/docking_output.sdf', '--log', 'data/docking_output.log']' returned non-zero exit status 1.\n"
     ]
    },
    {
     "name": "stderr",
     "output_type": "stream",
     "text": [
      "Required parameter --center_x is missing!\n",
      "Required parameter --center_y is missing!\n",
      "Required parameter --center_z is missing!\n",
      "Required parameter --size_x is missing!\n",
      "Required parameter --size_y is missing!\n",
      "Required parameter --size_z is missing!\n",
      "\n",
      "Correct usage:\n",
      "\n",
      "Input:\n",
      "  -r [ --receptor ] arg         rigid part of the receptor (PDBQT)\n",
      "  --flex arg                    flexible side chains, if any (PDBQT)\n",
      "  -l [ --ligand ] arg           ligand(s)\n",
      "  --flexres arg                 flexible side chains specified by comma \n",
      "                                separated list of chain:resid or \n",
      "                                chain:resid:icode\n",
      "  --flexdist_ligand arg         Ligand to use for flexdist\n",
      "  --flexdist arg                set all side chains within specified distance \n",
      "                                to flexdist_ligand to flexible\n",
      "\n",
      "Search space (required):\n",
      "  --center_x arg                X coordinate of the center\n",
      "  --center_y arg                Y coordinate of the center\n",
      "  --center_z arg                Z coordinate of the center\n",
      "  --size_x arg                  size in the X dimension (Angstroms)\n",
      "  --size_y arg                  size in the Y dimension (Angstroms)\n",
      "  --size_z arg                  size in the Z dimension (Angstroms)\n",
      "  --autobox_ligand arg          Ligand to use for autobox\n",
      "  --autobox_add arg             Amount of buffer space to add to auto-generated\n",
      "                                box (default +4 on all six sides)\n",
      "  --no_lig                      no ligand; for sampling/minimizing flexible \n",
      "                                residues\n",
      "\n",
      "Scoring and minimization options:\n",
      "  --scoring arg                 specify alternative builtin scoring function\n",
      "  --custom_scoring arg          custom scoring function file\n",
      "  --custom_atoms arg            custom atom type parameters file\n",
      "  --score_only                  score provided ligand pose\n",
      "  --local_only                  local search only using autobox (you probably \n",
      "                                want to use --minimize)\n",
      "  --minimize                    energy minimization\n",
      "  --randomize_only              generate random poses, attempting to avoid \n",
      "                                clashes\n",
      "  --minimize_iters arg (=0)     number iterations of steepest descent; default \n",
      "                                scales with rotors and usually isn't sufficient\n",
      "                                for convergence\n",
      "  --accurate_line               use accurate line search\n",
      "  --minimize_early_term         Stop minimization before convergence conditions\n",
      "                                are fully met.\n",
      "  --approximation arg           approximation (linear, spline, or exact) to use\n",
      "  --factor arg                  approximation factor: higher results in a \n",
      "                                finer-grained approximation\n",
      "  --force_cap arg               max allowed force; lower values more gently \n",
      "                                minimize clashing structures\n",
      "  --user_grid arg               Autodock map file for user grid data based \n",
      "                                calculations\n",
      "  --user_grid_lambda arg (=-1)  Scales user_grid and functional scoring\n",
      "  --print_terms                 Print all available terms with default \n",
      "                                parameterizations\n",
      "  --print_atom_types            Print all available atom types\n",
      "\n",
      "Output (optional):\n",
      "  -o [ --out ] arg              output file name, format taken from file \n",
      "                                extension\n",
      "  --out_flex arg                output file for flexible receptor residues\n",
      "  --log arg                     optionally, write log file\n",
      "  --atom_terms arg              optionally write per-atom interaction term \n",
      "                                values\n",
      "  --atom_term_data              embedded per-atom interaction terms in output \n",
      "                                sd data\n",
      "\n",
      "Misc (optional):\n",
      "  --cpu arg                     the number of CPUs to use (the default is to \n",
      "                                try to detect the number of CPUs or, failing \n",
      "                                that, use 1)\n",
      "  --seed arg                    explicit random seed\n",
      "  --exhaustiveness arg (=8)     exhaustiveness of the global search (roughly \n",
      "                                proportional to time)\n",
      "  --num_modes arg (=9)          maximum number of binding modes to generate\n",
      "  --energy_range arg (=3)       maximum energy difference between the best \n",
      "                                binding mode and the worst one displayed \n",
      "                                (kcal/mol)\n",
      "  --min_rmsd_filter arg (=1)    rmsd value used to filter final poses to remove\n",
      "                                redundancy\n",
      "  -q [ --quiet ]                Suppress output messages\n",
      "  --addH arg                    automatically add hydrogens in ligands (on by \n",
      "                                default)\n",
      "\n",
      "Configuration file (optional):\n",
      "  --config arg                  the above options can be put here\n",
      "\n",
      "Information (optional):\n",
      "  --help                        display usage summary\n",
      "  --help_hidden                 display usage summary with hidden options\n",
      "  --version                     display program version\n",
      "\n"
     ]
    }
   ],
   "source": [
    "import subprocess\n",
    "\n",
    "def run_smina(ligand_path, protein_path, out_path):\n",
    "    \"\"\"使用 Smina 进行分子对接。\"\"\"\n",
    "    try:\n",
    "        subprocess.run([\n",
    "            \"smina\", \"--ligand\", ligand_path, \"--receptor\", protein_path,\n",
    "            \"--out\", out_path, \"--log\", out_path.replace(\".sdf\", \".log\")\n",
    "        ], check=True)\n",
    "        print(f\"Docking completed. Results saved to {out_path}\")\n",
    "    except subprocess.CalledProcessError as e:\n",
    "        print(f\"Docking failed: {e}\")\n",
    "    except FileNotFoundError:\n",
    "        print(\"Smina not found. Please ensure it is installed and in the PATH.\")\n",
    "\n",
    "\n",
    "run_smina(\"data/ligand.pdbqt\", \"data/protein.pdbqt\", \"data/docking_output.sdf\")\n"
   ],
   "metadata": {
    "collapsed": false,
    "ExecuteTime": {
     "end_time": "2024-10-23T10:00:11.577356Z",
     "start_time": "2024-10-23T10:00:11.494259Z"
    }
   },
   "id": "e5c5bb0761db8c9",
   "execution_count": 2
  },
  {
   "cell_type": "markdown",
   "source": [],
   "metadata": {
    "collapsed": false
   },
   "id": "e42a801d5097944a"
  },
  {
   "cell_type": "code",
   "outputs": [],
   "source": [],
   "metadata": {
    "collapsed": false,
    "ExecuteTime": {
     "end_time": "2024-10-23T09:28:16.871351Z",
     "start_time": "2024-10-23T09:28:16.868920Z"
    }
   },
   "id": "16ee9fd19ec2dd19",
   "execution_count": null
  },
  {
   "cell_type": "code",
   "outputs": [],
   "source": [],
   "metadata": {
    "collapsed": false
   },
   "id": "cfb8673d00699346"
  }
 ],
 "metadata": {
  "kernelspec": {
   "display_name": "Python 3",
   "language": "python",
   "name": "python3"
  },
  "language_info": {
   "codemirror_mode": {
    "name": "ipython",
    "version": 2
   },
   "file_extension": ".py",
   "mimetype": "text/x-python",
   "name": "python",
   "nbconvert_exporter": "python",
   "pygments_lexer": "ipython2",
   "version": "2.7.6"
  }
 },
 "nbformat": 4,
 "nbformat_minor": 5
}
