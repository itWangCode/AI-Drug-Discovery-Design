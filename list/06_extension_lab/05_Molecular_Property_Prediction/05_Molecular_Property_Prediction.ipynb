{
 "cells": [
  {
   "cell_type": "markdown",
   "source": [
    "# Molecular Property Prediction\n",
    "# 分子性质预测"
   ],
   "metadata": {
    "collapsed": false
   },
   "id": "b9709748ee981f63"
  },
  {
   "cell_type": "markdown",
   "source": [
    "- sigmoid函数是一种激活函数，它将输入值压缩到0到1之间。在深度学习中，sigmoid函数通常用于输出层，因为它可以将任意范围的输入值转换为0到1之间的概率。\n",
    "- \n",
    "- 对于分子性质预测，我们将使用一个多层感知器（MLP）来预测分子的活性值。MLP由多个隐藏层组成，每个隐藏层都有多个神经元。输入层接收分子的SMILEs编码，输出层输出预测的活性值。\n",
    "- \n",
    "- 为了训练模型，我们将使用带有权重的BCLWithLogitsLoss函数，它可以解决不平衡的类问题。\n",
    "- \n",
    "- 我们将使用以下步骤：\n",
    "- 1. 加载数据集\n",
    "- 2. 准备数据\n",
    "- 3. 定义模型\n",
    "- 4. 训练模型\n",
    "- 5. 评估模型\n",
    "- 6. 预测分子活性值    \n",
    "     "
   ],
   "metadata": {
    "collapsed": false
   },
   "id": "e3f06315617dd84f"
  },
  {
   "cell_type": "code",
   "execution_count": 2,
   "id": "initial_id",
   "metadata": {
    "collapsed": true,
    "ExecuteTime": {
     "end_time": "2024-10-23T03:58:15.230370Z",
     "start_time": "2024-10-23T03:58:08.962074Z"
    }
   },
   "outputs": [],
   "source": [
    "# Import libraries\n",
    "import tqdm\n",
    "import torch\n",
    "import random\n",
    "import torchvision\n",
    "\n",
    "import numpy as np\n",
    "import pandas as pd\n",
    "import torch.nn as nn\n",
    "import torch.optim as optim\n",
    "import torch.nn.functional as F\n",
    "import matplotlib.pyplot as plt\n",
    "import torchvision.utils as vutils\n",
    "\n",
    "from torch.utils.data import DataLoader\n",
    "from sklearn.metrics import accuracy_score\n",
    "from torchvision import datasets, transforms\n",
    "from sklearn.model_selection import StratifiedKFold\n",
    "from sklearn.model_selection import train_test_split\n",
    "from torch.utils.data import DataLoader, TensorDataset\n",
    "     "
   ]
  },
  {
   "cell_type": "code",
   "outputs": [
    {
     "name": "stdout",
     "output_type": "stream",
     "text": [
      "/Users/wangyang/Desktop/AI-drug-design/list/06_extension_lab/05_Molecular_Property_Prediction/data\n"
     ]
    }
   ],
   "source": [
    "from pathlib import Path\n",
    "import os\n",
    "\n",
    "# 获取当前工作目录\n",
    "HERE = Path(os.getcwd())\n",
    "DATA = HERE / 'data'\n",
    "if not DATA.exists():\n",
    "    DATA.mkdir(parents=True, exist_ok=True)\n",
    "print(DATA)\n"
   ],
   "metadata": {
    "collapsed": false,
    "ExecuteTime": {
     "end_time": "2024-10-23T03:58:17.092243Z",
     "start_time": "2024-10-23T03:58:17.087334Z"
    }
   },
   "id": "68e7ea78cc07479e",
   "execution_count": 3
  },
  {
   "cell_type": "code",
   "outputs": [
    {
     "data": {
      "text/plain": "       num                               name  p_np  \\\n0        1                         Propanolol     1   \n1        2               Terbutylchlorambucil     1   \n2        3                              40730     1   \n3        4                                 24     1   \n4        5                        cloxacillin     1   \n...    ...                                ...   ...   \n2045  2049                         licostinel     1   \n2046  2050  ademetionine(adenosyl-methionine)     1   \n2047  2051                           mesocarb     1   \n2048  2052                         tofisoline     1   \n2049  2053                      azidamfenicol     1   \n\n                                                 smiles  \n0                      [Cl].CC(C)NCC(O)COc1cccc2ccccc12  \n1              C(=O)(OC(C)(C)C)CCCc1ccc(cc1)N(CCCl)CCCl  \n2     c12c3c(N4CCN(C)CC4)c(F)cc1c(c(C(O)=O)cn2C(C)CO...  \n3                      C1CCN(CC1)Cc1cccc(c1)OCCCNC(=O)C  \n4     Cc1onc(c2ccccc2Cl)c1C(=O)N[C@H]3[C@H]4SC(C)(C)...  \n...                                                 ...  \n2045    C1=C(Cl)C(=C(C2=C1NC(=O)C(N2)=O)[N+](=O)[O-])Cl  \n2046  [C@H]3([N]2C1=C(C(=NC=N1)N)N=C2)[C@@H]([C@@H](...  \n2047  [O+]1=N[N](C=C1[N-]C(NC2=CC=CC=C2)=O)C(CC3=CC=...  \n2048  C1=C(OC)C(=CC2=C1C(=[N+](C(=C2CC)C)[NH-])C3=CC...  \n2049  [N+](=NCC(=O)N[C@@H]([C@H](O)C1=CC=C([N+]([O-]...  \n\n[2050 rows x 4 columns]",
      "text/html": "<div>\n<style scoped>\n    .dataframe tbody tr th:only-of-type {\n        vertical-align: middle;\n    }\n\n    .dataframe tbody tr th {\n        vertical-align: top;\n    }\n\n    .dataframe thead th {\n        text-align: right;\n    }\n</style>\n<table border=\"1\" class=\"dataframe\">\n  <thead>\n    <tr style=\"text-align: right;\">\n      <th></th>\n      <th>num</th>\n      <th>name</th>\n      <th>p_np</th>\n      <th>smiles</th>\n    </tr>\n  </thead>\n  <tbody>\n    <tr>\n      <th>0</th>\n      <td>1</td>\n      <td>Propanolol</td>\n      <td>1</td>\n      <td>[Cl].CC(C)NCC(O)COc1cccc2ccccc12</td>\n    </tr>\n    <tr>\n      <th>1</th>\n      <td>2</td>\n      <td>Terbutylchlorambucil</td>\n      <td>1</td>\n      <td>C(=O)(OC(C)(C)C)CCCc1ccc(cc1)N(CCCl)CCCl</td>\n    </tr>\n    <tr>\n      <th>2</th>\n      <td>3</td>\n      <td>40730</td>\n      <td>1</td>\n      <td>c12c3c(N4CCN(C)CC4)c(F)cc1c(c(C(O)=O)cn2C(C)CO...</td>\n    </tr>\n    <tr>\n      <th>3</th>\n      <td>4</td>\n      <td>24</td>\n      <td>1</td>\n      <td>C1CCN(CC1)Cc1cccc(c1)OCCCNC(=O)C</td>\n    </tr>\n    <tr>\n      <th>4</th>\n      <td>5</td>\n      <td>cloxacillin</td>\n      <td>1</td>\n      <td>Cc1onc(c2ccccc2Cl)c1C(=O)N[C@H]3[C@H]4SC(C)(C)...</td>\n    </tr>\n    <tr>\n      <th>...</th>\n      <td>...</td>\n      <td>...</td>\n      <td>...</td>\n      <td>...</td>\n    </tr>\n    <tr>\n      <th>2045</th>\n      <td>2049</td>\n      <td>licostinel</td>\n      <td>1</td>\n      <td>C1=C(Cl)C(=C(C2=C1NC(=O)C(N2)=O)[N+](=O)[O-])Cl</td>\n    </tr>\n    <tr>\n      <th>2046</th>\n      <td>2050</td>\n      <td>ademetionine(adenosyl-methionine)</td>\n      <td>1</td>\n      <td>[C@H]3([N]2C1=C(C(=NC=N1)N)N=C2)[C@@H]([C@@H](...</td>\n    </tr>\n    <tr>\n      <th>2047</th>\n      <td>2051</td>\n      <td>mesocarb</td>\n      <td>1</td>\n      <td>[O+]1=N[N](C=C1[N-]C(NC2=CC=CC=C2)=O)C(CC3=CC=...</td>\n    </tr>\n    <tr>\n      <th>2048</th>\n      <td>2052</td>\n      <td>tofisoline</td>\n      <td>1</td>\n      <td>C1=C(OC)C(=CC2=C1C(=[N+](C(=C2CC)C)[NH-])C3=CC...</td>\n    </tr>\n    <tr>\n      <th>2049</th>\n      <td>2053</td>\n      <td>azidamfenicol</td>\n      <td>1</td>\n      <td>[N+](=NCC(=O)N[C@@H]([C@H](O)C1=CC=C([N+]([O-]...</td>\n    </tr>\n  </tbody>\n</table>\n<p>2050 rows × 4 columns</p>\n</div>"
     },
     "execution_count": 4,
     "metadata": {},
     "output_type": "execute_result"
    }
   ],
   "source": [
    "# Load dataset\n",
    "df = pd.read_csv(DATA / 'BBBP.csv')\n",
    "df\n",
    "     "
   ],
   "metadata": {
    "collapsed": false,
    "ExecuteTime": {
     "end_time": "2024-10-23T03:58:26.966206Z",
     "start_time": "2024-10-23T03:58:26.929379Z"
    }
   },
   "id": "d32997a6bbfa0b79",
   "execution_count": 4
  },
  {
   "cell_type": "markdown",
   "source": [
    "正如您在以下图中看到的，这些类是不平衡的，在训练模型中，我使用带有权重的BCLWithLogitsLoss函数解决了这个问题。"
   ],
   "metadata": {
    "collapsed": false
   },
   "id": "79cfc573cfbbf1d2"
  },
  {
   "cell_type": "code",
   "outputs": [
    {
     "data": {
      "text/plain": "<Figure size 640x480 with 1 Axes>",
      "image/png": "[encoded data removed]"
     },
     "metadata": {},
     "output_type": "display_data"
    }
   ],
   "source": [
    "df['p_np'].plot(kind='hist', bins=20, title='p_np')\n",
    "plt.gca().spines[['top', 'right',]].set_visible(False)\n",
    "     "
   ],
   "metadata": {
    "collapsed": false,
    "ExecuteTime": {
     "end_time": "2024-10-23T03:58:47.949888Z",
     "start_time": "2024-10-23T03:58:47.728764Z"
    }
   },
   "id": "abc3daa11c659be5",
   "execution_count": 5
  },
  {
   "cell_type": "markdown",
   "source": [
    "沿用权标化SMILEs公式，然后在包含权标化d SMILE的数据帧中增加新的一列。"
   ],
   "metadata": {
    "collapsed": false
   },
   "id": "bb8b70006cf1d138"
  },
  {
   "cell_type": "code",
   "outputs": [],
   "source": [
    "def tokenize_smiles(smiles):\n",
    "\n",
    "    tokens = []\n",
    "    i = 0\n",
    "    while i < len(smiles):\n",
    "        # Check if the current and next characters form a two-character element\n",
    "        current_char = smiles[i]\n",
    "        next_char = smiles[i + 1] if i + 1 < len(smiles) else None\n",
    "        if next_char is not None and current_char + next_char in ['Br', 'Cl', '@@']:\n",
    "            tokens.append(current_char + next_char)\n",
    "            i += 2\n",
    "        else:\n",
    "            tokens.append(current_char)\n",
    "            i += 1\n",
    "    return tokens\n",
    "\n",
    "# apply the function on all rows of the dataframe\n",
    "df['tokenized'] = df['smiles'].apply(tokenize_smiles)"
   ],
   "metadata": {
    "collapsed": false,
    "ExecuteTime": {
     "end_time": "2024-10-23T03:59:05.121314Z",
     "start_time": "2024-10-23T03:59:05.068307Z"
    }
   },
   "id": "ee2eded10ced60c8",
   "execution_count": 6
  },
  {
   "cell_type": "markdown",
   "source": [
    "后续函数将令牌化的SMILEs存储在一个集合中，以获得唯一的令牌。"
   ],
   "metadata": {
    "collapsed": false
   },
   "id": "84ec48d5524bae3c"
  },
  {
   "cell_type": "code",
   "outputs": [],
   "source": [
    "unique_tokens = set()\n",
    "for row in df['tokenized'].values :\n",
    "    for token in row:\n",
    "        unique_tokens.add(token)\n",
    "\n",
    "unique_tokens_list = list(unique_tokens)\n",
    "     "
   ],
   "metadata": {
    "collapsed": false,
    "ExecuteTime": {
     "end_time": "2024-10-23T03:59:29.096464Z",
     "start_time": "2024-10-23T03:59:29.081955Z"
    }
   },
   "id": "2de343dc44a1e2b9",
   "execution_count": 8
  },
  {
   "cell_type": "markdown",
   "source": [
    "在下一个单元格中，我创建了一个令牌字典，将每个令牌映射到一个索引，以创建一个热编码。\n",
    "\n"
   ],
   "metadata": {
    "collapsed": false
   },
   "id": "b74a0011892295c9"
  },
  {
   "cell_type": "code",
   "outputs": [
    {
     "name": "stdout",
     "output_type": "stream",
     "text": [
      "{'=': 0, '2': 1, 'Br': 2, 'B': 3, 'P': 4, '3': 5, '4': 6, 'N': 7, 's': 8, 'I': 9, '5': 10, '[': 11, 'n': 12, '%': 13, '7': 14, '#': 15, '/': 16, '.': 17, 'S': 18, 'Cl': 19, 'o': 20, 'c': 21, '+': 22, '1': 23, '@': 24, '0': 25, '\\\\': 26, 'a': 27, ')': 28, 'F': 29, '(': 30, 'H': 31, '@@': 32, ']': 33, '9': 34, 'C': 35, '6': 36, 'O': 37, '8': 38, '-': 39}\n"
     ]
    }
   ],
   "source": [
    "token_dict = {}\n",
    "for  idx, token in enumerate(unique_tokens_list):\n",
    "    token_dict[token] = idx\n",
    "print(token_dict)"
   ],
   "metadata": {
    "collapsed": false,
    "ExecuteTime": {
     "end_time": "2024-10-23T03:59:45.615100Z",
     "start_time": "2024-10-23T03:59:45.611662Z"
    }
   },
   "id": "c93ea9d158c9cacd",
   "execution_count": 9
  },
  {
   "cell_type": "markdown",
   "source": [
    "现在我计算了令牌化SMILEs的长度，然后绘制长度图。"
   ],
   "metadata": {
    "collapsed": false
   },
   "id": "894a6b2509ba55e1"
  },
  {
   "cell_type": "code",
   "outputs": [
    {
     "data": {
      "text/plain": "<Figure size 640x480 with 1 Axes>",
      "image/png": "[encoded data removed]"
     },
     "metadata": {},
     "output_type": "display_data"
    }
   ],
   "source": [
    "#在令牌化列的所有行上应用len函数\n",
    "lengthes = df['tokenized'].apply(lambda x : len(x))\n",
    "\n",
    "# plot histogram of lengthes\n",
    "plt.hist(lengthes , bins=20)\n",
    "plt.title('Histogram of SMILE Length')\n",
    "plt.xlabel('Length')\n",
    "plt.ylabel('Frequency')\n",
    "plt.show()\n",
    "     "
   ],
   "metadata": {
    "collapsed": false,
    "ExecuteTime": {
     "end_time": "2024-10-23T04:00:43.387151Z",
     "start_time": "2024-10-23T04:00:43.228094Z"
    }
   },
   "id": "26fcb20b8b376f53",
   "execution_count": 10
  },
  {
   "cell_type": "code",
   "outputs": [
    {
     "name": "stdout",
     "output_type": "stream",
     "text": [
      "Max length in the data set is 384 , Min length is 3,\n",
      " and the average length in tokenized SMILE is about 51.0.\n"
     ]
    }
   ],
   "source": [
    "# Get length statistics\n",
    "max_length = np.max(lengthes)\n",
    "min_length = np.min(lengthes)\n",
    "avg_length = np.mean(lengthes)\n",
    "print(f'Max length in the data set is {max_length} , Min length is {min_length},\\n and the average length in tokenized SMILE is about {avg_length.round()}.')\n",
    "     "
   ],
   "metadata": {
    "collapsed": false,
    "ExecuteTime": {
     "end_time": "2024-10-23T04:00:50.135666Z",
     "start_time": "2024-10-23T04:00:50.131213Z"
    }
   },
   "id": "58e28ee870c2686b",
   "execution_count": 11
  },
  {
   "cell_type": "markdown",
   "source": [
    "在下面的单元格中，我计算每个令牌的频率，并将它们的数量存储在一个字典中，最后绘制令牌的频率。"
   ],
   "metadata": {
    "collapsed": false
   },
   "id": "496275282f08c333"
  },
  {
   "cell_type": "code",
   "outputs": [
    {
     "name": "stdout",
     "output_type": "stream",
     "text": [
      "{'=': 8034, '2': 3370, 'Br': 51, 'B': 1, 'P': 11, '3': 2553, '4': 1438, 'N': 3954, 's': 72, 'I': 6, '5': 454, '[': 3479, 'n': 515, '%': 24, '7': 56, '#': 53, '/': 184, '.': 163, 'S': 510, 'Cl': 618, 'o': 49, 'c': 6937, '+': 121, '1': 4128, '@': 1692, '0': 8, '\\\\': 203, 'a': 22, ')': 10491, 'F': 509, '(': 10491, 'H': 2392, '@@': 1251, ']': 3479, '9': 16, 'C': 29784, '6': 124, 'O': 6208, '8': 28, '-': 123}\n"
     ]
    }
   ],
   "source": [
    "# Calculate frequency of each token\n",
    "token_frequency_dict = {}\n",
    "for idx, token in enumerate(unique_tokens_list):\n",
    "    token_frequency_dict[token] = 0\n",
    "\n",
    "for smile in df['tokenized']:\n",
    "    for token in smile:\n",
    "        token_frequency_dict[token] +=1\n",
    "\n",
    "print(token_frequency_dict)"
   ],
   "metadata": {
    "collapsed": false,
    "ExecuteTime": {
     "end_time": "2024-10-23T04:01:02.502091Z",
     "start_time": "2024-10-23T04:01:02.485656Z"
    }
   },
   "id": "34d7f87952d091ca",
   "execution_count": 12
  },
  {
   "cell_type": "code",
   "outputs": [
    {
     "data": {
      "text/plain": "<Figure size 640x480 with 1 Axes>",
      "image/png": "[encoded data removed]"
     },
     "metadata": {},
     "output_type": "display_data"
    }
   ],
   "source": [
    "# Extract keys and values from the dictionary\n",
    "tokens = list(token_frequency_dict.keys())\n",
    "counts = list(token_frequency_dict.values())\n",
    "\n",
    "# adjust the width\n",
    "bar_width = 0.5\n",
    "\n",
    "# Plotting the bar histogram\n",
    "plt.bar(tokens, counts,width=bar_width, color='blue')\n",
    "\n",
    "# Adding labels and title\n",
    "plt.xlabel('Tokens')\n",
    "plt.ylabel('Frequency')\n",
    "plt.title('Bar Histogram of Tokens')\n",
    "plt.show()"
   ],
   "metadata": {
    "collapsed": false,
    "ExecuteTime": {
     "end_time": "2024-10-23T04:01:11.226538Z",
     "start_time": "2024-10-23T04:01:10.971336Z"
    }
   },
   "id": "62fd73e76189f5d",
   "execution_count": 13
  },
  {
   "cell_type": "markdown",
   "source": [
    "出现频率最高的是C (碳原子)，最少的是B (硼原子)。"
   ],
   "metadata": {
    "collapsed": false
   },
   "id": "f7b8f4fe62228df"
  },
  {
   "cell_type": "code",
   "outputs": [],
   "source": [
    "# make multi hot vector for each SMILE formula to feed to MLP\n",
    "list_of_multi_hots = []\n",
    "for row in df['tokenized']:\n",
    "    multi_hot = np.zeros(len(unique_tokens_list)) # 40\n",
    "    for token in row:\n",
    "        idx = token_dict[token]\n",
    "        multi_hot[idx] = 1\n",
    "\n",
    "    list_of_multi_hots.append(multi_hot)\n",
    "     \n"
   ],
   "metadata": {
    "collapsed": false,
    "ExecuteTime": {
     "end_time": "2024-10-23T04:01:25.381405Z",
     "start_time": "2024-10-23T04:01:25.351467Z"
    }
   },
   "id": "c8a3a9bb5b9fff6f",
   "execution_count": 14
  },
  {
   "cell_type": "code",
   "outputs": [],
   "source": [
    "df['Multi hot for MLP'] = list_of_multi_hots\n"
   ],
   "metadata": {
    "collapsed": false,
    "ExecuteTime": {
     "end_time": "2024-10-23T04:01:32.350965Z",
     "start_time": "2024-10-23T04:01:32.347850Z"
    }
   },
   "id": "719b79bdbc61be33",
   "execution_count": 15
  },
  {
   "cell_type": "code",
   "outputs": [
    {
     "name": "stderr",
     "output_type": "stream",
     "text": [
      "100%|██████████| 26/26 [00:00<00:00, 531.99it/s]\n"
     ]
    },
    {
     "name": "stdout",
     "output_type": "stream",
     "text": [
      "\n",
      " Epoch 1/100,  Train Loss: 0.3380, Train Accuracy: 76.34%\n"
     ]
    },
    {
     "name": "stderr",
     "output_type": "stream",
     "text": [
      "100%|██████████| 26/26 [00:00<00:00, 643.23it/s]\n"
     ]
    },
    {
     "name": "stdout",
     "output_type": "stream",
     "text": [
      "\n",
      " Epoch 2/100,  Train Loss: 0.3318, Train Accuracy: 76.34%\n"
     ]
    },
    {
     "name": "stderr",
     "output_type": "stream",
     "text": [
      "100%|██████████| 26/26 [00:00<00:00, 746.86it/s]\n"
     ]
    },
    {
     "name": "stdout",
     "output_type": "stream",
     "text": [
      "\n",
      " Epoch 3/100,  Train Loss: 0.3280, Train Accuracy: 76.34%\n"
     ]
    },
    {
     "name": "stderr",
     "output_type": "stream",
     "text": [
      "100%|██████████| 26/26 [00:00<00:00, 779.00it/s]\n"
     ]
    },
    {
     "name": "stdout",
     "output_type": "stream",
     "text": [
      "\n",
      " Epoch 4/100,  Train Loss: 0.3251, Train Accuracy: 76.34%\n"
     ]
    },
    {
     "name": "stderr",
     "output_type": "stream",
     "text": [
      "100%|██████████| 26/26 [00:00<00:00, 667.28it/s]\n"
     ]
    },
    {
     "name": "stdout",
     "output_type": "stream",
     "text": [
      "\n",
      " Epoch 5/100,  Train Loss: 0.3221, Train Accuracy: 76.34%\n"
     ]
    },
    {
     "name": "stderr",
     "output_type": "stream",
     "text": [
      "100%|██████████| 26/26 [00:00<00:00, 692.13it/s]\n"
     ]
    },
    {
     "name": "stdout",
     "output_type": "stream",
     "text": [
      "\n",
      " Epoch 6/100,  Train Loss: 0.3203, Train Accuracy: 76.34%\n"
     ]
    },
    {
     "name": "stderr",
     "output_type": "stream",
     "text": [
      "100%|██████████| 26/26 [00:00<00:00, 639.84it/s]\n"
     ]
    },
    {
     "name": "stdout",
     "output_type": "stream",
     "text": [
      "\n",
      " Epoch 7/100,  Train Loss: 0.3180, Train Accuracy: 76.34%\n"
     ]
    },
    {
     "name": "stderr",
     "output_type": "stream",
     "text": [
      "100%|██████████| 26/26 [00:00<00:00, 625.63it/s]\n"
     ]
    },
    {
     "name": "stdout",
     "output_type": "stream",
     "text": [
      "\n",
      " Epoch 8/100,  Train Loss: 0.3141, Train Accuracy: 76.34%\n"
     ]
    },
    {
     "name": "stderr",
     "output_type": "stream",
     "text": [
      "100%|██████████| 26/26 [00:00<00:00, 639.81it/s]\n"
     ]
    },
    {
     "name": "stdout",
     "output_type": "stream",
     "text": [
      "\n",
      " Epoch 9/100,  Train Loss: 0.3120, Train Accuracy: 76.34%\n"
     ]
    },
    {
     "name": "stderr",
     "output_type": "stream",
     "text": [
      "100%|██████████| 26/26 [00:00<00:00, 626.11it/s]\n"
     ]
    },
    {
     "name": "stdout",
     "output_type": "stream",
     "text": [
      "\n",
      " Epoch 10/100,  Train Loss: 0.3098, Train Accuracy: 76.34%\n"
     ]
    },
    {
     "name": "stderr",
     "output_type": "stream",
     "text": [
      "100%|██████████| 26/26 [00:00<00:00, 632.88it/s]\n"
     ]
    },
    {
     "name": "stdout",
     "output_type": "stream",
     "text": [
      "\n",
      " Epoch 11/100,  Train Loss: 0.3062, Train Accuracy: 76.34%\n"
     ]
    },
    {
     "name": "stderr",
     "output_type": "stream",
     "text": [
      "100%|██████████| 26/26 [00:00<00:00, 591.02it/s]\n"
     ]
    },
    {
     "name": "stdout",
     "output_type": "stream",
     "text": [
      "\n",
      " Epoch 12/100,  Train Loss: 0.3046, Train Accuracy: 76.34%\n"
     ]
    },
    {
     "name": "stderr",
     "output_type": "stream",
     "text": [
      "100%|██████████| 26/26 [00:00<00:00, 599.96it/s]\n"
     ]
    },
    {
     "name": "stdout",
     "output_type": "stream",
     "text": [
      "\n",
      " Epoch 13/100,  Train Loss: 0.3016, Train Accuracy: 76.34%\n"
     ]
    },
    {
     "name": "stderr",
     "output_type": "stream",
     "text": [
      "100%|██████████| 26/26 [00:00<00:00, 597.29it/s]\n"
     ]
    },
    {
     "name": "stdout",
     "output_type": "stream",
     "text": [
      "\n",
      " Epoch 14/100,  Train Loss: 0.3012, Train Accuracy: 76.34%\n"
     ]
    },
    {
     "name": "stderr",
     "output_type": "stream",
     "text": [
      "100%|██████████| 26/26 [00:00<00:00, 650.16it/s]\n"
     ]
    },
    {
     "name": "stdout",
     "output_type": "stream",
     "text": [
      "\n",
      " Epoch 15/100,  Train Loss: 0.2995, Train Accuracy: 76.34%\n"
     ]
    },
    {
     "name": "stderr",
     "output_type": "stream",
     "text": [
      "100%|██████████| 26/26 [00:00<00:00, 649.06it/s]\n"
     ]
    },
    {
     "name": "stdout",
     "output_type": "stream",
     "text": [
      "\n",
      " Epoch 16/100,  Train Loss: 0.2969, Train Accuracy: 76.34%\n"
     ]
    },
    {
     "name": "stderr",
     "output_type": "stream",
     "text": [
      "100%|██████████| 26/26 [00:00<00:00, 549.08it/s]\n"
     ]
    },
    {
     "name": "stdout",
     "output_type": "stream",
     "text": [
      "\n",
      " Epoch 17/100,  Train Loss: 0.2958, Train Accuracy: 76.34%\n"
     ]
    },
    {
     "name": "stderr",
     "output_type": "stream",
     "text": [
      "100%|██████████| 26/26 [00:00<00:00, 652.97it/s]\n"
     ]
    },
    {
     "name": "stdout",
     "output_type": "stream",
     "text": [
      "\n",
      " Epoch 18/100,  Train Loss: 0.2935, Train Accuracy: 76.34%\n"
     ]
    },
    {
     "name": "stderr",
     "output_type": "stream",
     "text": [
      "100%|██████████| 26/26 [00:00<00:00, 659.26it/s]\n"
     ]
    },
    {
     "name": "stdout",
     "output_type": "stream",
     "text": [
      "\n",
      " Epoch 19/100,  Train Loss: 0.2936, Train Accuracy: 76.34%\n"
     ]
    },
    {
     "name": "stderr",
     "output_type": "stream",
     "text": [
      "100%|██████████| 26/26 [00:00<00:00, 663.15it/s]\n"
     ]
    },
    {
     "name": "stdout",
     "output_type": "stream",
     "text": [
      "\n",
      " Epoch 20/100,  Train Loss: 0.2919, Train Accuracy: 76.34%\n"
     ]
    },
    {
     "name": "stderr",
     "output_type": "stream",
     "text": [
      "100%|██████████| 26/26 [00:00<00:00, 610.30it/s]\n"
     ]
    },
    {
     "name": "stdout",
     "output_type": "stream",
     "text": [
      "\n",
      " Epoch 21/100,  Train Loss: 0.2905, Train Accuracy: 76.34%\n"
     ]
    },
    {
     "name": "stderr",
     "output_type": "stream",
     "text": [
      "100%|██████████| 26/26 [00:00<00:00, 657.33it/s]\n"
     ]
    },
    {
     "name": "stdout",
     "output_type": "stream",
     "text": [
      "\n",
      " Epoch 22/100,  Train Loss: 0.2909, Train Accuracy: 76.34%\n"
     ]
    },
    {
     "name": "stderr",
     "output_type": "stream",
     "text": [
      "100%|██████████| 26/26 [00:00<00:00, 670.43it/s]\n"
     ]
    },
    {
     "name": "stdout",
     "output_type": "stream",
     "text": [
      "\n",
      " Epoch 23/100,  Train Loss: 0.2896, Train Accuracy: 76.34%\n"
     ]
    },
    {
     "name": "stderr",
     "output_type": "stream",
     "text": [
      "100%|██████████| 26/26 [00:00<00:00, 628.10it/s]\n"
     ]
    },
    {
     "name": "stdout",
     "output_type": "stream",
     "text": [
      "\n",
      " Epoch 24/100,  Train Loss: 0.2886, Train Accuracy: 76.34%\n"
     ]
    },
    {
     "name": "stderr",
     "output_type": "stream",
     "text": [
      "100%|██████████| 26/26 [00:00<00:00, 656.73it/s]\n"
     ]
    },
    {
     "name": "stdout",
     "output_type": "stream",
     "text": [
      "\n",
      " Epoch 25/100,  Train Loss: 0.2876, Train Accuracy: 76.34%\n"
     ]
    },
    {
     "name": "stderr",
     "output_type": "stream",
     "text": [
      "100%|██████████| 26/26 [00:00<00:00, 674.73it/s]\n"
     ]
    },
    {
     "name": "stdout",
     "output_type": "stream",
     "text": [
      "\n",
      " Epoch 26/100,  Train Loss: 0.2886, Train Accuracy: 76.34%\n"
     ]
    },
    {
     "name": "stderr",
     "output_type": "stream",
     "text": [
      "100%|██████████| 26/26 [00:00<00:00, 620.88it/s]\n"
     ]
    },
    {
     "name": "stdout",
     "output_type": "stream",
     "text": [
      "\n",
      " Epoch 27/100,  Train Loss: 0.2870, Train Accuracy: 76.34%\n"
     ]
    },
    {
     "name": "stderr",
     "output_type": "stream",
     "text": [
      "100%|██████████| 26/26 [00:00<00:00, 662.52it/s]\n"
     ]
    },
    {
     "name": "stdout",
     "output_type": "stream",
     "text": [
      "\n",
      " Epoch 28/100,  Train Loss: 0.2865, Train Accuracy: 76.34%\n"
     ]
    },
    {
     "name": "stderr",
     "output_type": "stream",
     "text": [
      "100%|██████████| 26/26 [00:00<00:00, 688.72it/s]\n"
     ]
    },
    {
     "name": "stdout",
     "output_type": "stream",
     "text": [
      "\n",
      " Epoch 29/100,  Train Loss: 0.2875, Train Accuracy: 76.34%\n"
     ]
    },
    {
     "name": "stderr",
     "output_type": "stream",
     "text": [
      "100%|██████████| 26/26 [00:00<00:00, 691.54it/s]\n"
     ]
    },
    {
     "name": "stdout",
     "output_type": "stream",
     "text": [
      "\n",
      " Epoch 30/100,  Train Loss: 0.2851, Train Accuracy: 76.34%\n"
     ]
    },
    {
     "name": "stderr",
     "output_type": "stream",
     "text": [
      "100%|██████████| 26/26 [00:00<00:00, 651.07it/s]\n"
     ]
    },
    {
     "name": "stdout",
     "output_type": "stream",
     "text": [
      "\n",
      " Epoch 31/100,  Train Loss: 0.2857, Train Accuracy: 76.34%\n"
     ]
    },
    {
     "name": "stderr",
     "output_type": "stream",
     "text": [
      "100%|██████████| 26/26 [00:00<00:00, 684.81it/s]\n"
     ]
    },
    {
     "name": "stdout",
     "output_type": "stream",
     "text": [
      "\n",
      " Epoch 32/100,  Train Loss: 0.2845, Train Accuracy: 76.34%\n"
     ]
    },
    {
     "name": "stderr",
     "output_type": "stream",
     "text": [
      "100%|██████████| 26/26 [00:00<00:00, 785.29it/s]\n"
     ]
    },
    {
     "name": "stdout",
     "output_type": "stream",
     "text": [
      "\n",
      " Epoch 33/100,  Train Loss: 0.2834, Train Accuracy: 76.34%\n"
     ]
    },
    {
     "name": "stderr",
     "output_type": "stream",
     "text": [
      "100%|██████████| 26/26 [00:00<00:00, 678.02it/s]\n"
     ]
    },
    {
     "name": "stdout",
     "output_type": "stream",
     "text": [
      "\n",
      " Epoch 34/100,  Train Loss: 0.2837, Train Accuracy: 76.34%\n"
     ]
    },
    {
     "name": "stderr",
     "output_type": "stream",
     "text": [
      "100%|██████████| 26/26 [00:00<00:00, 666.24it/s]\n"
     ]
    },
    {
     "name": "stdout",
     "output_type": "stream",
     "text": [
      "\n",
      " Epoch 35/100,  Train Loss: 0.2835, Train Accuracy: 76.34%\n"
     ]
    },
    {
     "name": "stderr",
     "output_type": "stream",
     "text": [
      "100%|██████████| 26/26 [00:00<00:00, 698.25it/s]\n"
     ]
    },
    {
     "name": "stdout",
     "output_type": "stream",
     "text": [
      "\n",
      " Epoch 36/100,  Train Loss: 0.2826, Train Accuracy: 76.34%\n"
     ]
    },
    {
     "name": "stderr",
     "output_type": "stream",
     "text": [
      "100%|██████████| 26/26 [00:00<00:00, 699.36it/s]\n"
     ]
    },
    {
     "name": "stdout",
     "output_type": "stream",
     "text": [
      "\n",
      " Epoch 37/100,  Train Loss: 0.2827, Train Accuracy: 76.34%\n"
     ]
    },
    {
     "name": "stderr",
     "output_type": "stream",
     "text": [
      "100%|██████████| 26/26 [00:00<00:00, 765.09it/s]\n"
     ]
    },
    {
     "name": "stdout",
     "output_type": "stream",
     "text": [
      "\n",
      " Epoch 38/100,  Train Loss: 0.2817, Train Accuracy: 76.34%\n"
     ]
    },
    {
     "name": "stderr",
     "output_type": "stream",
     "text": [
      "100%|██████████| 26/26 [00:00<00:00, 676.98it/s]\n"
     ]
    },
    {
     "name": "stdout",
     "output_type": "stream",
     "text": [
      "\n",
      " Epoch 39/100,  Train Loss: 0.2823, Train Accuracy: 76.34%\n"
     ]
    },
    {
     "name": "stderr",
     "output_type": "stream",
     "text": [
      "100%|██████████| 26/26 [00:00<00:00, 693.19it/s]\n"
     ]
    },
    {
     "name": "stdout",
     "output_type": "stream",
     "text": [
      "\n",
      " Epoch 40/100,  Train Loss: 0.2827, Train Accuracy: 76.34%\n"
     ]
    },
    {
     "name": "stderr",
     "output_type": "stream",
     "text": [
      "100%|██████████| 26/26 [00:00<00:00, 693.61it/s]\n"
     ]
    },
    {
     "name": "stdout",
     "output_type": "stream",
     "text": [
      "\n",
      " Epoch 41/100,  Train Loss: 0.2828, Train Accuracy: 76.34%\n"
     ]
    },
    {
     "name": "stderr",
     "output_type": "stream",
     "text": [
      "100%|██████████| 26/26 [00:00<00:00, 730.97it/s]\n"
     ]
    },
    {
     "name": "stdout",
     "output_type": "stream",
     "text": [
      "\n",
      " Epoch 42/100,  Train Loss: 0.2815, Train Accuracy: 76.34%\n"
     ]
    },
    {
     "name": "stderr",
     "output_type": "stream",
     "text": [
      "100%|██████████| 26/26 [00:00<00:00, 699.24it/s]\n"
     ]
    },
    {
     "name": "stdout",
     "output_type": "stream",
     "text": [
      "\n",
      " Epoch 43/100,  Train Loss: 0.2808, Train Accuracy: 76.34%\n"
     ]
    },
    {
     "name": "stderr",
     "output_type": "stream",
     "text": [
      "100%|██████████| 26/26 [00:00<00:00, 787.09it/s]\n"
     ]
    },
    {
     "name": "stdout",
     "output_type": "stream",
     "text": [
      "\n",
      " Epoch 44/100,  Train Loss: 0.2806, Train Accuracy: 76.34%\n"
     ]
    },
    {
     "name": "stderr",
     "output_type": "stream",
     "text": [
      "100%|██████████| 26/26 [00:00<00:00, 621.10it/s]\n"
     ]
    },
    {
     "name": "stdout",
     "output_type": "stream",
     "text": [
      "\n",
      " Epoch 45/100,  Train Loss: 0.2795, Train Accuracy: 76.34%\n"
     ]
    },
    {
     "name": "stderr",
     "output_type": "stream",
     "text": [
      "100%|██████████| 26/26 [00:00<00:00, 589.56it/s]\n"
     ]
    },
    {
     "name": "stdout",
     "output_type": "stream",
     "text": [
      "\n",
      " Epoch 46/100,  Train Loss: 0.2801, Train Accuracy: 76.34%\n"
     ]
    },
    {
     "name": "stderr",
     "output_type": "stream",
     "text": [
      "100%|██████████| 26/26 [00:00<00:00, 598.31it/s]\n"
     ]
    },
    {
     "name": "stdout",
     "output_type": "stream",
     "text": [
      "\n",
      " Epoch 47/100,  Train Loss: 0.2801, Train Accuracy: 76.34%\n"
     ]
    },
    {
     "name": "stderr",
     "output_type": "stream",
     "text": [
      "100%|██████████| 26/26 [00:00<00:00, 513.10it/s]\n"
     ]
    },
    {
     "name": "stdout",
     "output_type": "stream",
     "text": [
      "\n",
      " Epoch 48/100,  Train Loss: 0.2804, Train Accuracy: 76.34%\n"
     ]
    },
    {
     "name": "stderr",
     "output_type": "stream",
     "text": [
      "100%|██████████| 26/26 [00:00<00:00, 568.87it/s]\n"
     ]
    },
    {
     "name": "stdout",
     "output_type": "stream",
     "text": [
      "\n",
      " Epoch 49/100,  Train Loss: 0.2804, Train Accuracy: 76.34%\n"
     ]
    },
    {
     "name": "stderr",
     "output_type": "stream",
     "text": [
      "100%|██████████| 26/26 [00:00<00:00, 581.86it/s]\n"
     ]
    },
    {
     "name": "stdout",
     "output_type": "stream",
     "text": [
      "\n",
      " Epoch 50/100,  Train Loss: 0.2807, Train Accuracy: 76.34%\n"
     ]
    },
    {
     "name": "stderr",
     "output_type": "stream",
     "text": [
      "100%|██████████| 26/26 [00:00<00:00, 691.93it/s]\n"
     ]
    },
    {
     "name": "stdout",
     "output_type": "stream",
     "text": [
      "\n",
      " Epoch 51/100,  Train Loss: 0.2794, Train Accuracy: 76.34%\n"
     ]
    },
    {
     "name": "stderr",
     "output_type": "stream",
     "text": [
      "100%|██████████| 26/26 [00:00<00:00, 794.28it/s]\n"
     ]
    },
    {
     "name": "stdout",
     "output_type": "stream",
     "text": [
      "\n",
      " Epoch 52/100,  Train Loss: 0.2800, Train Accuracy: 76.34%\n"
     ]
    },
    {
     "name": "stderr",
     "output_type": "stream",
     "text": [
      "100%|██████████| 26/26 [00:00<00:00, 791.43it/s]\n"
     ]
    },
    {
     "name": "stdout",
     "output_type": "stream",
     "text": [
      "\n",
      " Epoch 53/100,  Train Loss: 0.2797, Train Accuracy: 76.34%\n"
     ]
    },
    {
     "name": "stderr",
     "output_type": "stream",
     "text": [
      "100%|██████████| 26/26 [00:00<00:00, 782.92it/s]\n"
     ]
    },
    {
     "name": "stdout",
     "output_type": "stream",
     "text": [
      "\n",
      " Epoch 54/100,  Train Loss: 0.2800, Train Accuracy: 76.34%\n"
     ]
    },
    {
     "name": "stderr",
     "output_type": "stream",
     "text": [
      "100%|██████████| 26/26 [00:00<00:00, 719.04it/s]\n"
     ]
    },
    {
     "name": "stdout",
     "output_type": "stream",
     "text": [
      "\n",
      " Epoch 55/100,  Train Loss: 0.2795, Train Accuracy: 76.34%\n"
     ]
    },
    {
     "name": "stderr",
     "output_type": "stream",
     "text": [
      "100%|██████████| 26/26 [00:00<00:00, 787.97it/s]\n"
     ]
    },
    {
     "name": "stdout",
     "output_type": "stream",
     "text": [
      "\n",
      " Epoch 56/100,  Train Loss: 0.2798, Train Accuracy: 76.34%\n"
     ]
    },
    {
     "name": "stderr",
     "output_type": "stream",
     "text": [
      "100%|██████████| 26/26 [00:00<00:00, 830.59it/s]\n"
     ]
    },
    {
     "name": "stdout",
     "output_type": "stream",
     "text": [
      "\n",
      " Epoch 57/100,  Train Loss: 0.2792, Train Accuracy: 76.34%\n"
     ]
    },
    {
     "name": "stderr",
     "output_type": "stream",
     "text": [
      "100%|██████████| 26/26 [00:00<00:00, 702.26it/s]\n"
     ]
    },
    {
     "name": "stdout",
     "output_type": "stream",
     "text": [
      "\n",
      " Epoch 58/100,  Train Loss: 0.2785, Train Accuracy: 76.34%\n"
     ]
    },
    {
     "name": "stderr",
     "output_type": "stream",
     "text": [
      "100%|██████████| 26/26 [00:00<00:00, 666.68it/s]\n"
     ]
    },
    {
     "name": "stdout",
     "output_type": "stream",
     "text": [
      "\n",
      " Epoch 59/100,  Train Loss: 0.2781, Train Accuracy: 76.34%\n"
     ]
    },
    {
     "name": "stderr",
     "output_type": "stream",
     "text": [
      "100%|██████████| 26/26 [00:00<00:00, 698.66it/s]\n"
     ]
    },
    {
     "name": "stdout",
     "output_type": "stream",
     "text": [
      "\n",
      " Epoch 60/100,  Train Loss: 0.2791, Train Accuracy: 76.34%\n"
     ]
    },
    {
     "name": "stderr",
     "output_type": "stream",
     "text": [
      "100%|██████████| 26/26 [00:00<00:00, 684.23it/s]\n"
     ]
    },
    {
     "name": "stdout",
     "output_type": "stream",
     "text": [
      "\n",
      " Epoch 61/100,  Train Loss: 0.2789, Train Accuracy: 76.34%\n"
     ]
    },
    {
     "name": "stderr",
     "output_type": "stream",
     "text": [
      "100%|██████████| 26/26 [00:00<00:00, 687.05it/s]\n"
     ]
    },
    {
     "name": "stdout",
     "output_type": "stream",
     "text": [
      "\n",
      " Epoch 62/100,  Train Loss: 0.2791, Train Accuracy: 76.34%\n"
     ]
    },
    {
     "name": "stderr",
     "output_type": "stream",
     "text": [
      "100%|██████████| 26/26 [00:00<00:00, 674.60it/s]\n"
     ]
    },
    {
     "name": "stdout",
     "output_type": "stream",
     "text": [
      "\n",
      " Epoch 63/100,  Train Loss: 0.2800, Train Accuracy: 76.34%\n"
     ]
    },
    {
     "name": "stderr",
     "output_type": "stream",
     "text": [
      "100%|██████████| 26/26 [00:00<00:00, 718.41it/s]\n"
     ]
    },
    {
     "name": "stdout",
     "output_type": "stream",
     "text": [
      "\n",
      " Epoch 64/100,  Train Loss: 0.2790, Train Accuracy: 76.34%\n"
     ]
    },
    {
     "name": "stderr",
     "output_type": "stream",
     "text": [
      "100%|██████████| 26/26 [00:00<00:00, 692.43it/s]\n"
     ]
    },
    {
     "name": "stdout",
     "output_type": "stream",
     "text": [
      "\n",
      " Epoch 65/100,  Train Loss: 0.2772, Train Accuracy: 76.34%\n"
     ]
    },
    {
     "name": "stderr",
     "output_type": "stream",
     "text": [
      "100%|██████████| 26/26 [00:00<00:00, 709.96it/s]\n"
     ]
    },
    {
     "name": "stdout",
     "output_type": "stream",
     "text": [
      "\n",
      " Epoch 66/100,  Train Loss: 0.2782, Train Accuracy: 76.34%\n"
     ]
    },
    {
     "name": "stderr",
     "output_type": "stream",
     "text": [
      "100%|██████████| 26/26 [00:00<00:00, 729.91it/s]\n"
     ]
    },
    {
     "name": "stdout",
     "output_type": "stream",
     "text": [
      "\n",
      " Epoch 67/100,  Train Loss: 0.2774, Train Accuracy: 76.34%\n"
     ]
    },
    {
     "name": "stderr",
     "output_type": "stream",
     "text": [
      "100%|██████████| 26/26 [00:00<00:00, 837.73it/s]\n"
     ]
    },
    {
     "name": "stdout",
     "output_type": "stream",
     "text": [
      "\n",
      " Epoch 68/100,  Train Loss: 0.2784, Train Accuracy: 76.34%\n"
     ]
    },
    {
     "name": "stderr",
     "output_type": "stream",
     "text": [
      "100%|██████████| 26/26 [00:00<00:00, 658.49it/s]\n"
     ]
    },
    {
     "name": "stdout",
     "output_type": "stream",
     "text": [
      "\n",
      " Epoch 69/100,  Train Loss: 0.2774, Train Accuracy: 76.34%\n"
     ]
    },
    {
     "name": "stderr",
     "output_type": "stream",
     "text": [
      "100%|██████████| 26/26 [00:00<00:00, 704.97it/s]\n"
     ]
    },
    {
     "name": "stdout",
     "output_type": "stream",
     "text": [
      "\n",
      " Epoch 70/100,  Train Loss: 0.2772, Train Accuracy: 76.34%\n"
     ]
    },
    {
     "name": "stderr",
     "output_type": "stream",
     "text": [
      "100%|██████████| 26/26 [00:00<00:00, 696.10it/s]\n"
     ]
    },
    {
     "name": "stdout",
     "output_type": "stream",
     "text": [
      "\n",
      " Epoch 71/100,  Train Loss: 0.2781, Train Accuracy: 76.34%\n"
     ]
    },
    {
     "name": "stderr",
     "output_type": "stream",
     "text": [
      "100%|██████████| 26/26 [00:00<00:00, 693.74it/s]\n"
     ]
    },
    {
     "name": "stdout",
     "output_type": "stream",
     "text": [
      "\n",
      " Epoch 72/100,  Train Loss: 0.2769, Train Accuracy: 76.34%\n"
     ]
    },
    {
     "name": "stderr",
     "output_type": "stream",
     "text": [
      "100%|██████████| 26/26 [00:00<00:00, 829.77it/s]\n"
     ]
    },
    {
     "name": "stdout",
     "output_type": "stream",
     "text": [
      "\n",
      " Epoch 73/100,  Train Loss: 0.2772, Train Accuracy: 76.34%\n"
     ]
    },
    {
     "name": "stderr",
     "output_type": "stream",
     "text": [
      "100%|██████████| 26/26 [00:00<00:00, 734.55it/s]\n"
     ]
    },
    {
     "name": "stdout",
     "output_type": "stream",
     "text": [
      "\n",
      " Epoch 74/100,  Train Loss: 0.2773, Train Accuracy: 76.34%\n"
     ]
    },
    {
     "name": "stderr",
     "output_type": "stream",
     "text": [
      "100%|██████████| 26/26 [00:00<00:00, 710.44it/s]\n"
     ]
    },
    {
     "name": "stdout",
     "output_type": "stream",
     "text": [
      "\n",
      " Epoch 75/100,  Train Loss: 0.2768, Train Accuracy: 76.34%\n"
     ]
    },
    {
     "name": "stderr",
     "output_type": "stream",
     "text": [
      "100%|██████████| 26/26 [00:00<00:00, 721.02it/s]\n"
     ]
    },
    {
     "name": "stdout",
     "output_type": "stream",
     "text": [
      "\n",
      " Epoch 76/100,  Train Loss: 0.2766, Train Accuracy: 76.34%\n"
     ]
    },
    {
     "name": "stderr",
     "output_type": "stream",
     "text": [
      "100%|██████████| 26/26 [00:00<00:00, 547.02it/s]\n"
     ]
    },
    {
     "name": "stdout",
     "output_type": "stream",
     "text": [
      "\n",
      " Epoch 77/100,  Train Loss: 0.2770, Train Accuracy: 76.34%\n"
     ]
    },
    {
     "name": "stderr",
     "output_type": "stream",
     "text": [
      "100%|██████████| 26/26 [00:00<00:00, 637.21it/s]\n"
     ]
    },
    {
     "name": "stdout",
     "output_type": "stream",
     "text": [
      "\n",
      " Epoch 78/100,  Train Loss: 0.2766, Train Accuracy: 76.34%\n"
     ]
    },
    {
     "name": "stderr",
     "output_type": "stream",
     "text": [
      "100%|██████████| 26/26 [00:00<00:00, 699.87it/s]\n"
     ]
    },
    {
     "name": "stdout",
     "output_type": "stream",
     "text": [
      "\n",
      " Epoch 79/100,  Train Loss: 0.2779, Train Accuracy: 76.34%\n"
     ]
    },
    {
     "name": "stderr",
     "output_type": "stream",
     "text": [
      "100%|██████████| 26/26 [00:00<00:00, 717.42it/s]\n"
     ]
    },
    {
     "name": "stdout",
     "output_type": "stream",
     "text": [
      "\n",
      " Epoch 80/100,  Train Loss: 0.2767, Train Accuracy: 76.34%\n"
     ]
    },
    {
     "name": "stderr",
     "output_type": "stream",
     "text": [
      "100%|██████████| 26/26 [00:00<00:00, 646.97it/s]\n"
     ]
    },
    {
     "name": "stdout",
     "output_type": "stream",
     "text": [
      "\n",
      " Epoch 81/100,  Train Loss: 0.2768, Train Accuracy: 76.34%\n"
     ]
    },
    {
     "name": "stderr",
     "output_type": "stream",
     "text": [
      "100%|██████████| 26/26 [00:00<00:00, 680.36it/s]\n"
     ]
    },
    {
     "name": "stdout",
     "output_type": "stream",
     "text": [
      "\n",
      " Epoch 82/100,  Train Loss: 0.2765, Train Accuracy: 76.34%\n"
     ]
    },
    {
     "name": "stderr",
     "output_type": "stream",
     "text": [
      "100%|██████████| 26/26 [00:00<00:00, 751.79it/s]\n"
     ]
    },
    {
     "name": "stdout",
     "output_type": "stream",
     "text": [
      "\n",
      " Epoch 83/100,  Train Loss: 0.2764, Train Accuracy: 76.34%\n"
     ]
    },
    {
     "name": "stderr",
     "output_type": "stream",
     "text": [
      "100%|██████████| 26/26 [00:00<00:00, 682.79it/s]\n"
     ]
    },
    {
     "name": "stdout",
     "output_type": "stream",
     "text": [
      "\n",
      " Epoch 84/100,  Train Loss: 0.2760, Train Accuracy: 76.34%\n"
     ]
    },
    {
     "name": "stderr",
     "output_type": "stream",
     "text": [
      "100%|██████████| 26/26 [00:00<00:00, 708.64it/s]\n"
     ]
    },
    {
     "name": "stdout",
     "output_type": "stream",
     "text": [
      "\n",
      " Epoch 85/100,  Train Loss: 0.2770, Train Accuracy: 76.34%\n"
     ]
    },
    {
     "name": "stderr",
     "output_type": "stream",
     "text": [
      "100%|██████████| 26/26 [00:00<00:00, 764.64it/s]\n"
     ]
    },
    {
     "name": "stdout",
     "output_type": "stream",
     "text": [
      "\n",
      " Epoch 86/100,  Train Loss: 0.2760, Train Accuracy: 76.34%\n"
     ]
    },
    {
     "name": "stderr",
     "output_type": "stream",
     "text": [
      "100%|██████████| 26/26 [00:00<00:00, 735.61it/s]\n"
     ]
    },
    {
     "name": "stdout",
     "output_type": "stream",
     "text": [
      "\n",
      " Epoch 87/100,  Train Loss: 0.2762, Train Accuracy: 76.34%\n"
     ]
    },
    {
     "name": "stderr",
     "output_type": "stream",
     "text": [
      "100%|██████████| 26/26 [00:00<00:00, 712.52it/s]\n"
     ]
    },
    {
     "name": "stdout",
     "output_type": "stream",
     "text": [
      "\n",
      " Epoch 88/100,  Train Loss: 0.2768, Train Accuracy: 76.34%\n"
     ]
    },
    {
     "name": "stderr",
     "output_type": "stream",
     "text": [
      "100%|██████████| 26/26 [00:00<00:00, 745.18it/s]\n"
     ]
    },
    {
     "name": "stdout",
     "output_type": "stream",
     "text": [
      "\n",
      " Epoch 89/100,  Train Loss: 0.2762, Train Accuracy: 76.34%\n"
     ]
    },
    {
     "name": "stderr",
     "output_type": "stream",
     "text": [
      "100%|██████████| 26/26 [00:00<00:00, 834.57it/s]\n"
     ]
    },
    {
     "name": "stdout",
     "output_type": "stream",
     "text": [
      "\n",
      " Epoch 90/100,  Train Loss: 0.2767, Train Accuracy: 76.34%\n"
     ]
    },
    {
     "name": "stderr",
     "output_type": "stream",
     "text": [
      "100%|██████████| 26/26 [00:00<00:00, 803.46it/s]\n"
     ]
    },
    {
     "name": "stdout",
     "output_type": "stream",
     "text": [
      "\n",
      " Epoch 91/100,  Train Loss: 0.2765, Train Accuracy: 76.34%\n"
     ]
    },
    {
     "name": "stderr",
     "output_type": "stream",
     "text": [
      "100%|██████████| 26/26 [00:00<00:00, 704.05it/s]\n"
     ]
    },
    {
     "name": "stdout",
     "output_type": "stream",
     "text": [
      "\n",
      " Epoch 92/100,  Train Loss: 0.2762, Train Accuracy: 76.34%\n"
     ]
    },
    {
     "name": "stderr",
     "output_type": "stream",
     "text": [
      "100%|██████████| 26/26 [00:00<00:00, 706.94it/s]\n"
     ]
    },
    {
     "name": "stdout",
     "output_type": "stream",
     "text": [
      "\n",
      " Epoch 93/100,  Train Loss: 0.2768, Train Accuracy: 76.34%\n"
     ]
    },
    {
     "name": "stderr",
     "output_type": "stream",
     "text": [
      "100%|██████████| 26/26 [00:00<00:00, 720.94it/s]\n"
     ]
    },
    {
     "name": "stdout",
     "output_type": "stream",
     "text": [
      "\n",
      " Epoch 94/100,  Train Loss: 0.2752, Train Accuracy: 76.34%\n"
     ]
    },
    {
     "name": "stderr",
     "output_type": "stream",
     "text": [
      "100%|██████████| 26/26 [00:00<00:00, 685.29it/s]\n"
     ]
    },
    {
     "name": "stdout",
     "output_type": "stream",
     "text": [
      "\n",
      " Epoch 95/100,  Train Loss: 0.2750, Train Accuracy: 76.34%\n"
     ]
    },
    {
     "name": "stderr",
     "output_type": "stream",
     "text": [
      "100%|██████████| 26/26 [00:00<00:00, 739.07it/s]\n"
     ]
    },
    {
     "name": "stdout",
     "output_type": "stream",
     "text": [
      "\n",
      " Epoch 96/100,  Train Loss: 0.2752, Train Accuracy: 76.34%\n"
     ]
    },
    {
     "name": "stderr",
     "output_type": "stream",
     "text": [
      "100%|██████████| 26/26 [00:00<00:00, 843.58it/s]\n"
     ]
    },
    {
     "name": "stdout",
     "output_type": "stream",
     "text": [
      "\n",
      " Epoch 97/100,  Train Loss: 0.2763, Train Accuracy: 76.34%\n"
     ]
    },
    {
     "name": "stderr",
     "output_type": "stream",
     "text": [
      "100%|██████████| 26/26 [00:00<00:00, 881.63it/s]\n"
     ]
    },
    {
     "name": "stdout",
     "output_type": "stream",
     "text": [
      "\n",
      " Epoch 98/100,  Train Loss: 0.2761, Train Accuracy: 76.34%\n"
     ]
    },
    {
     "name": "stderr",
     "output_type": "stream",
     "text": [
      "100%|██████████| 26/26 [00:00<00:00, 791.83it/s]\n"
     ]
    },
    {
     "name": "stdout",
     "output_type": "stream",
     "text": [
      "\n",
      " Epoch 99/100,  Train Loss: 0.2763, Train Accuracy: 76.34%\n"
     ]
    },
    {
     "name": "stderr",
     "output_type": "stream",
     "text": [
      "100%|██████████| 26/26 [00:00<00:00, 739.98it/s]"
     ]
    },
    {
     "name": "stdout",
     "output_type": "stream",
     "text": [
      "\n",
      " Epoch 100/100,  Train Loss: 0.2756, Train Accuracy: 76.34%\n",
      "Accuracy on the test set: 76.83%\n"
     ]
    },
    {
     "name": "stderr",
     "output_type": "stream",
     "text": [
      "\n"
     ]
    }
   ],
   "source": [
    "# Set device\n",
    "device = torch.device(\"cuda:0\" if torch.cuda.is_available() else \"cpu\")\n",
    "\n",
    "# X shape : 2050x40\n",
    "X = np.array(df['Multi hot for MLP'].to_list())\n",
    "y = np.array(df['p_np'].to_list())\n",
    "\n",
    "# Split the data into training and testing sets\n",
    "X_train, X_test, y_train, y_test = train_test_split(X, y, test_size=0.2, random_state=42)\n",
    "\n",
    "# Convert data to tensors\n",
    "X_train_tensor = torch.tensor(X_train, dtype=torch.float32).to(device)\n",
    "y_train_tensor = torch.tensor(y_train, dtype=torch.float32).to(device)\n",
    "X_test_tensor = torch.tensor(X_test, dtype=torch.float32).to(device)\n",
    "y_test_tensor = torch.tensor(y_test, dtype=torch.float32).to(device)\n",
    "\n",
    "# Create a simple fully connected neural network\n",
    "class FCModel(nn.Module):\n",
    "    def __init__(self, input_size):\n",
    "        super(FCModel, self).__init__()\n",
    "        self.fc1 = nn.Linear(input_size, 10)\n",
    "        self.relu = nn.ReLU()\n",
    "        self.fc2 = nn.Linear(10, 1)\n",
    "        self.sigmoid = nn.Sigmoid()\n",
    "\n",
    "    def forward(self, x):\n",
    "        x = self.fc1(x)\n",
    "        x = self.relu(x)\n",
    "        x = self.fc2(x)\n",
    "        x = self.sigmoid(x)\n",
    "        return x\n",
    "\n",
    "# Define weights for positive and negative classes (pos_weight is around 0.3)\n",
    "pos_weight = torch.tensor((y_train == 0).sum() / (y_train == 1).sum(), dtype=torch.float32)\n",
    "\n",
    "# Initialize the model, loss function, and optimizer\n",
    "fcModel = FCModel(input_size=X_train.shape[1]).to(device)\n",
    "criterion = nn.BCEWithLogitsLoss(pos_weight=pos_weight).to(device)\n",
    "optimizer = optim.Adam(fcModel.parameters(), lr=0.001)\n",
    "\n",
    "# Train the model\n",
    "num_epochs = 100\n",
    "batch_size = 64\n",
    "train_dataset = TensorDataset(X_train_tensor, y_train_tensor)\n",
    "train_loader = DataLoader(train_dataset, batch_size=batch_size, shuffle=True)\n",
    "\n",
    "for epoch in range(num_epochs):\n",
    "\n",
    "    fcModel.train()\n",
    "    total_loss = 0.0\n",
    "    correct_predictions = 0\n",
    "    total_samples = 0\n",
    "\n",
    "    for batch_X, batch_y in tqdm.tqdm(train_loader):\n",
    "        optimizer.zero_grad()\n",
    "        outputs = fcModel(batch_X)\n",
    "        loss = criterion(outputs, batch_y.view(-1, 1))\n",
    "        loss.backward()\n",
    "        optimizer.step()\n",
    "\n",
    "        # Update statistics\n",
    "        total_loss += loss.item()\n",
    "        predicted_labels = (fcModel.sigmoid(outputs) >= 0.5).float()\n",
    "        correct_predictions += torch.sum(predicted_labels.view(-1) == batch_y).item()\n",
    "        total_samples += len(batch_y)\n",
    "\n",
    "    # Calculate epoch-level statistics\n",
    "    average_loss = total_loss / len(train_loader)\n",
    "    accuracy = correct_predictions / total_samples\n",
    "\n",
    "    # Print epoch-level information\n",
    "    print(f\"\\n Epoch {epoch + 1}/{num_epochs},  Train Loss: {average_loss:.4f}, Train Accuracy: {accuracy * 100:.2f}%\")\n",
    "\n",
    "\n",
    "# Evaluate the model on the test set\n",
    "with torch.no_grad():\n",
    "    fcModel.eval()\n",
    "    test_outputs = fcModel(X_test_tensor)\n",
    "    predicted_labels = (fcModel.sigmoid(test_outputs) >= 0.5).float()\n",
    "    accuracy = torch.sum(predicted_labels.view(-1) == y_test_tensor).item() / len(y_test_tensor)\n",
    "\n",
    "print(f\"Accuracy on the test set: {accuracy * 100:.2f}%\")"
   ],
   "metadata": {
    "collapsed": false,
    "ExecuteTime": {
     "end_time": "2024-10-23T04:02:21.959844Z",
     "start_time": "2024-10-23T04:02:17.891078Z"
    }
   },
   "id": "3864f71bca00d641",
   "execution_count": 18
  },
  {
   "cell_type": "markdown",
   "source": [
    "# 下面是基于GPU的版本"
   ],
   "metadata": {
    "collapsed": false
   },
   "id": "b2d735160810fd45"
  },
  {
   "cell_type": "code",
   "outputs": [],
   "source": [
    "# find the longest length\n",
    "lengthes = df['tokenized'].apply(lambda x : len(x))\n",
    "MAX_LENGTH = np.max(lengthes.to_list())\n",
    "\n",
    "# create 40D one hot vector for each token (Each SMILE sequence will be a 384x40 tensor)\n",
    "list_of_data_LSTM = []\n",
    "\n",
    "for smile in df['tokenized']:\n",
    "    two_dim_array = np.zeros((MAX_LENGTH, len(unique_tokens_list))) #384X40\n",
    "    for token_index, token in enumerate(smile):\n",
    "        idx = token_dict[token]\n",
    "        two_dim_array[383-token_index][idx] = 1\n",
    "\n",
    "    list_of_data_LSTM.append(two_dim_array)"
   ],
   "metadata": {
    "collapsed": false,
    "ExecuteTime": {
     "end_time": "2024-10-23T04:02:58.723016Z",
     "start_time": "2024-10-23T04:02:58.650943Z"
    }
   },
   "id": "3db81d10b21ae408",
   "execution_count": 19
  },
  {
   "cell_type": "code",
   "outputs": [
    {
     "data": {
      "text/plain": "(2050, 384, 40)"
     },
     "execution_count": 20,
     "metadata": {},
     "output_type": "execute_result"
    }
   ],
   "source": [
    "np.array(list_of_data_LSTM).shape\n"
   ],
   "metadata": {
    "collapsed": false,
    "ExecuteTime": {
     "end_time": "2024-10-23T04:03:03.909808Z",
     "start_time": "2024-10-23T04:03:03.631533Z"
    }
   },
   "id": "dec60d127bed5ed2",
   "execution_count": 20
  },
  {
   "cell_type": "code",
   "outputs": [
    {
     "name": "stderr",
     "output_type": "stream",
     "text": [
      "100%|██████████| 58/58 [01:52<00:00,  1.94s/it]\n"
     ]
    },
    {
     "name": "stdout",
     "output_type": "stream",
     "text": [
      "Epoch 1/50,  Train Loss: 0.3368, Train Accuracy: 24.23% \n"
     ]
    },
    {
     "name": "stderr",
     "output_type": "stream",
     "text": [
      "100%|██████████| 58/58 [03:20<00:00,  3.45s/it]\n"
     ]
    },
    {
     "name": "stdout",
     "output_type": "stream",
     "text": [
      "Epoch 2/50,  Train Loss: 0.3358, Train Accuracy: 24.23% \n"
     ]
    },
    {
     "name": "stderr",
     "output_type": "stream",
     "text": [
      " 29%|██▉       | 17/58 [00:53<02:40,  3.91s/it]"
     ]
    }
   ],
   "source": [
    "# Set device\n",
    "device = torch.device(\"cuda:0\" if torch.cuda.is_available() else \"cpu\")\n",
    "\n",
    "# X_LSTM shape : (2050, 384, 40)\n",
    "X_LSTM = np.array(list_of_data_LSTM)\n",
    "y = np.array(df['p_np'].to_list())\n",
    "\n",
    "# Split the data into training and testing sets\n",
    "X_train, X_test, y_train, y_test = train_test_split(X_LSTM, y, test_size=0.1, random_state=40)\n",
    "\n",
    "# Define weights for positive and negative classes (pos_weight is around 0.3)\n",
    "pos_weight = torch.tensor((y_train == 0).sum() / (y_train == 1).sum(), dtype=torch.float32)\n",
    "\n",
    "# Convert data to PyTorch tensors\n",
    "X_train_tensor = torch.tensor(X_train, dtype=torch.float32).to(device)\n",
    "y_train_tensor = torch.tensor(y_train, dtype=torch.float32).to(device)\n",
    "X_test_tensor = torch.tensor(X_test, dtype=torch.float32).to(device)\n",
    "y_test_tensor = torch.tensor(y_test, dtype=torch.float32).to(device)\n",
    "\n",
    "# Define the LSTM model\n",
    "class LSTMClassifier(nn.Module):\n",
    "    def __init__(self, input_size, hidden_size, num_layers, output_size):\n",
    "        super(LSTMClassifier, self).__init__()\n",
    "        self.lstm = nn.LSTM(input_size, hidden_size, num_layers, batch_first=True)\n",
    "        self.fc1 = nn.Linear(hidden_size, 64)\n",
    "        self.relu = nn.ReLU()\n",
    "        self.fc2 = nn.Linear(64, 16)\n",
    "        self.relu1 = nn.ReLU()\n",
    "        self.fc3 = nn.Linear(16, output_size)\n",
    "        self.sigmoid = nn.Sigmoid()\n",
    "\n",
    "    def forward(self, x):\n",
    "\n",
    "        lstm_out, _ = self.lstm(x)\n",
    "\n",
    "        # Take the output from the last time step\n",
    "        lstm_out = lstm_out[:, -1, :]\n",
    "        x = self.fc1(lstm_out)\n",
    "        x = self.relu(x)\n",
    "        x = self.fc2(x)\n",
    "        x = self.relu1(x)\n",
    "        x = self.fc3(x)\n",
    "        # x = self.sigmoid(x)\n",
    "        return x\n",
    "\n",
    "# Initialize the LSTM model input_size = 40\n",
    "input_size = X_train_tensor.shape[2]\n",
    "\n",
    "# The number of features in the hidden state\n",
    "hidden_size = 128\n",
    "\n",
    "# Two stacked LSTM\n",
    "num_layers = 2\n",
    "\n",
    "# Binary classification\n",
    "output_size = 1\n",
    "lstm_model = LSTMClassifier(input_size, hidden_size, num_layers, output_size).to(device)\n",
    "\n",
    "# Define loss function and optimizer\n",
    "criterion = nn.BCEWithLogitsLoss(pos_weight=pos_weight).to(device)\n",
    "optimizer = optim.Adam(lstm_model.parameters(), lr=0.0001)\n",
    "\n",
    "# Train the LSTM model\n",
    "num_epochs = 50\n",
    "batch_size = 32\n",
    "train_dataset = TensorDataset(X_train_tensor, y_train_tensor)\n",
    "train_loader = DataLoader(train_dataset, batch_size=batch_size, shuffle=True)\n",
    "\n",
    "for epoch in range(num_epochs):\n",
    "    lstm_model.train()\n",
    "    total_loss = 0.0\n",
    "    correct_predictions = 0\n",
    "    total_samples = 0\n",
    "\n",
    "    for batch_X, batch_y in tqdm.tqdm(train_loader):\n",
    "        optimizer.zero_grad()\n",
    "        outputs = lstm_model(batch_X)\n",
    "        loss = criterion(outputs, batch_y.view(-1, 1))\n",
    "        loss.backward()\n",
    "        optimizer.step()\n",
    "\n",
    "        # Update statistics\n",
    "        total_loss += loss.item()\n",
    "        predicted_labels = (lstm_model.sigmoid(outputs) >= 0.5).float()\n",
    "        correct_predictions += torch.sum(predicted_labels.view(-1) == batch_y).item()\n",
    "        total_samples += len(batch_y)\n",
    "\n",
    "\n",
    "    # Calculate epoch-level statistics\n",
    "    accuracy = correct_predictions / total_samples\n",
    "    average_loss = total_loss / len(train_loader)\n",
    "\n",
    "    # Print epoch-level information\n",
    "    print(f\"Epoch {epoch + 1}/{num_epochs},  Train Loss: {average_loss:.4f}, Train Accuracy: {accuracy * 100:.2f}% \\n\")\n",
    "\n",
    "\n",
    "\n",
    "# Evaluate the LSTM model on the test set\n",
    "with torch.no_grad():\n",
    "    lstm_model.eval()\n",
    "    test_outputs = lstm_model(X_test_tensor)\n",
    "    predicted_labels = (lstm_model.sigmoid(test_outputs) >= 0.5).float()\n",
    "    accuracy = torch.sum(predicted_labels.view(-1) == y_test_tensor).item() / len(y_test_tensor)\n",
    "\n",
    "print(f\"Accuracy on the test set: {accuracy * 100:.2f}%\")"
   ],
   "metadata": {
    "collapsed": false,
    "is_executing": true,
    "ExecuteTime": {
     "start_time": "2024-10-23T04:03:12.574287Z"
    }
   },
   "id": "f263a9c095b38b49"
  },
  {
   "cell_type": "code",
   "outputs": [],
   "source": [
    "# Define the BiLSTM model\n",
    "class BiLSTMClassifier(nn.Module):\n",
    "    def __init__(self, input_size, hidden_size, num_layers, output_size):\n",
    "        super(BiLSTMClassifier, self).__init__()\n",
    "        self.bilstm = nn.LSTM(input_size, hidden_size, num_layers, batch_first=True, bidirectional=True)\n",
    "\n",
    "        # Multiply by 2 for bidirectional\n",
    "        self.fc1 = nn.Linear(hidden_size * 2, 64)\n",
    "        self.relu = nn.ReLU()\n",
    "        self.fc2 = nn.Linear(64, 16)\n",
    "        self.relu1 = nn.ReLU()\n",
    "        self.fc3 = nn.Linear(16, output_size)\n",
    "        self.sigmoid = nn.Sigmoid()\n",
    "\n",
    "    def forward(self, x):\n",
    "\n",
    "        bilstm_out, _ = self.bilstm(x)\n",
    "        # Concatenate the outputs from the last time step in both directions\n",
    "        bilstm_out = torch.cat((bilstm_out[:, -1, :hidden_size], bilstm_out[:, 0, hidden_size:]), dim=1)\n",
    "        x = self.fc1(bilstm_out)\n",
    "        x = self.relu(x)\n",
    "        x = self.fc2(x)\n",
    "        x = self.relu1(x)\n",
    "        x = self.fc3(x)\n",
    "        # x = self.sigmoid(x)\n",
    "        return x\n",
    "\n",
    "\n",
    "# Initialize the LSTM model input_size = 40\n",
    "input_size = X_train_tensor.shape[2]\n",
    "\n",
    "# Reduced hidden size for bidirectional\n",
    "hidden_size = 64\n",
    "num_layers = 2\n",
    "output_size = 1\n",
    "bilstm_model = BiLSTMClassifier(input_size, hidden_size, num_layers, output_size).to(device)\n",
    "\n",
    "# Define loss function and optimizer\n",
    "criterion = nn.BCEWithLogitsLoss(pos_weight=pos_weight).to(device)\n",
    "optimizer = optim.Adam(bilstm_model.parameters(), lr=0.001)\n",
    "\n",
    "# Train the BiLSTM model\n",
    "num_epochs = 50\n",
    "batch_size = 32\n",
    "train_dataset = TensorDataset(X_train_tensor, y_train_tensor)\n",
    "train_loader = DataLoader(train_dataset, batch_size=batch_size, shuffle=True)\n",
    "\n",
    "for epoch in range(num_epochs):\n",
    "    bilstm_model.train()\n",
    "    total_loss = 0.0\n",
    "    correct_predictions = 0\n",
    "    total_samples = 0\n",
    "\n",
    "    for batch_X, batch_y in tqdm.tqdm(train_loader):\n",
    "        optimizer.zero_grad()\n",
    "        outputs = bilstm_model(batch_X)\n",
    "        loss = criterion(outputs, batch_y.view(-1, 1))\n",
    "        loss.backward()\n",
    "        optimizer.step()\n",
    "\n",
    "        # Update statistics\n",
    "        total_loss += loss.item()\n",
    "        predicted_labels = (bilstm_model.sigmoid(outputs) >= 0.5).float()\n",
    "        correct_predictions += torch.sum(predicted_labels.view(-1) == batch_y).item()\n",
    "        total_samples += len(batch_y)\n",
    "\n",
    "\n",
    "    # Calculate epoch-level statistics\n",
    "    accuracy = correct_predictions / total_samples\n",
    "    average_loss = total_loss / len(train_loader)\n",
    "\n",
    "    # Print epoch-level information\n",
    "    print(f\"Epoch {epoch + 1}/{num_epochs},  Train Loss: {average_loss:.4f}, Train Accuracy: {accuracy * 100:.2f}% \\n\")\n",
    "\n",
    "\n",
    "\n",
    "# Evaluate the BiLSTM model on the test set\n",
    "with torch.no_grad():\n",
    "    bilstm_model.eval()\n",
    "    test_outputs = bilstm_model(X_test_tensor)\n",
    "    predicted_labels = (bilstm_model.sigmoid(test_outputs) >= 0.5).float()\n",
    "    accuracy = torch.sum(predicted_labels.view(-1) == y_test_tensor).item() / len(y_test_tensor)\n",
    "\n",
    "print(f\"Accuracy on the test set: {accuracy * 100:.2f}%\")\n"
   ],
   "metadata": {
    "collapsed": false
   },
   "id": "4a2bf682ce680607"
  },
  {
   "cell_type": "markdown",
   "source": [
    "# LSTM交叉验证"
   ],
   "metadata": {
    "collapsed": false
   },
   "id": "bbfb425e5ccb8e3d"
  },
  {
   "cell_type": "code",
   "outputs": [],
   "source": [
    "# Initialize the LSTM model input_size = 40\n",
    "input_size = X_train_tensor.shape[2]\n",
    "\n",
    "# The number of features in the hidden state\n",
    "hidden_size = 128\n",
    "\n",
    "# Two stacked LSTM\n",
    "num_layers = 2\n",
    "\n",
    "# Binary classification\n",
    "output_size = 1\n",
    "lstm_model = LSTMClassifier(input_size, hidden_size, num_layers, output_size).to(device)\n",
    "\n",
    "# Define loss function and optimizer\n",
    "criterion = nn.BCEWithLogitsLoss(pos_weight=pos_weight).to(device)\n",
    "optimizer = optim.Adam(lstm_model.parameters(), lr=0.001)\n",
    "\n",
    "\n",
    "# k-fold cross-validation\n",
    "num_folds = 5\n",
    "skf = StratifiedKFold(n_splits=num_folds, shuffle=True, random_state=42)\n",
    "\n",
    "# create array to store accs\n",
    "all_accuracies = []\n",
    "\n",
    "X_tensor = torch.tensor(X_LSTM, dtype=torch.float32)\n",
    "y_tensor = torch.tensor(y, dtype=torch.float32)\n",
    "\n",
    "# Perform k-fold cross-validation\n",
    "for fold, (train_index, test_index) in enumerate(skf.split(X_tensor, y_tensor)):\n",
    "    print(f\"Fold {fold + 1}/{num_folds}\")\n",
    "\n",
    "    # Split the data into training and testing sets for this fold\n",
    "    X_train_fold, X_test_fold = X_tensor[train_index], X_tensor[test_index]\n",
    "    y_train_fold, y_test_fold = y_tensor[train_index], y_tensor[test_index]\n",
    "\n",
    "    # Create DataLoader for training set\n",
    "    train_dataset = TensorDataset(X_train_fold, y_train_fold)\n",
    "    train_loader = DataLoader(train_dataset, batch_size=32, shuffle=True)\n",
    "\n",
    "    # Train the LSTM model\n",
    "    num_epochs = 50\n",
    "    for epoch in range(num_epochs):\n",
    "        lstm_model.train()\n",
    "        total_loss = 0.0\n",
    "\n",
    "        for batch_X, batch_y in train_loader:\n",
    "            batch_X, batch_y = batch_X.to(device), batch_y.to(device)\n",
    "\n",
    "            optimizer.zero_grad()\n",
    "            outputs = lstm_model(batch_X)\n",
    "            loss = criterion(outputs, batch_y.view(-1, 1))\n",
    "            loss.backward()\n",
    "            optimizer.step()\n",
    "\n",
    "            total_loss += loss.item()\n",
    "\n",
    "        average_loss = total_loss / len(train_loader)\n",
    "        print(f\"Epoch {epoch + 1}/{num_epochs}, Loss: {average_loss:.4f}\")\n",
    "\n",
    "    # Evaluate the LSTM model on the test set for this fold\n",
    "    with torch.no_grad():\n",
    "        lstm_model.eval()\n",
    "        X_test_fold, y_test_fold = X_test_fold.to(device), y_test_fold.to(device)\n",
    "        test_outputs = bilstm_model(X_test_fold)\n",
    "        predicted_labels = (lstm_model.sigmoid(test_outputs) >= 0.5).float()\n",
    "        accuracy_fold = accuracy_score(y_test_fold.cpu().numpy(), predicted_labels.cpu().numpy())\n",
    "        all_accuracies.append(accuracy_fold)\n",
    "\n",
    "        print(f\"Test Accuracy on Fold {fold + 1}: {accuracy_fold * 100:.2f}%\")\n",
    "\n",
    "# Print overall performance metrics\n",
    "average_accuracy = np.mean(all_accuracies)\n",
    "print(f\"\\nAverage Accuracy: {average_accuracy * 100:.2f}%\")"
   ],
   "metadata": {
    "collapsed": false
   },
   "id": "fed1fbf8d46ec962"
  },
  {
   "cell_type": "code",
   "outputs": [],
   "source": [
    "np.std([88.54,91.46,93.17,88.29,91.71])\n"
   ],
   "metadata": {
    "collapsed": false
   },
   "id": "44c97928b4820e80"
  },
  {
   "cell_type": "markdown",
   "source": [
    "# BiLSTM交叉验证"
   ],
   "metadata": {
    "collapsed": false
   },
   "id": "128283e166f7f642"
  },
  {
   "cell_type": "code",
   "outputs": [],
   "source": [
    "# Initialize the BiLSTM model input_size = 40\n",
    "input_size = X_train_tensor.shape[2]\n",
    "\n",
    "# Reduced hidden size for bidirectional\n",
    "hidden_size = 64\n",
    "num_layers = 2\n",
    "output_size = 1\n",
    "\n",
    "bilstm_model = BiLSTMClassifier(input_size, hidden_size, num_layers, output_size).to(device)\n",
    "\n",
    "# Define loss function and optimizer\n",
    "criterion = nn.BCEWithLogitsLoss(pos_weight=pos_weight).to(device)\n",
    "optimizer = optim.Adam(bilstm_model.parameters(), lr=0.001)\n",
    "\n",
    "# k-fold cross-validation\n",
    "num_folds = 5\n",
    "skf = StratifiedKFold(n_splits=num_folds, shuffle=True, random_state=40)\n",
    "\n",
    "# create arrays to store accs\n",
    "all_accuracies = []\n",
    "\n",
    "X_tensor = torch.tensor(X_LSTM, dtype=torch.float32)\n",
    "y_tensor = torch.tensor(y, dtype=torch.float32)\n",
    "\n",
    "# Perform k-fold cross-validation\n",
    "for fold, (train_index, test_index) in enumerate(skf.split(X_tensor, y_tensor)):\n",
    "    print(f\"Fold {fold + 1}/{num_folds}\")\n",
    "\n",
    "    # Split the data into training and testing sets for this fold\n",
    "    X_train_fold, X_test_fold = X_tensor[train_index], X_tensor[test_index]\n",
    "    y_train_fold, y_test_fold = y_tensor[train_index], y_tensor[test_index]\n",
    "\n",
    "    # Create DataLoader for training set\n",
    "    train_dataset = TensorDataset(X_train_fold, y_train_fold)\n",
    "    train_loader = DataLoader(train_dataset, batch_size=32, shuffle=True)\n",
    "\n",
    "    # Train the BiLSTM model\n",
    "    num_epochs = 50\n",
    "    for epoch in range(num_epochs):\n",
    "        bilstm_model.train()\n",
    "        total_loss = 0.0\n",
    "\n",
    "        for batch_X, batch_y in train_loader:\n",
    "            batch_X, batch_y = batch_X.to(device), batch_y.to(device)\n",
    "\n",
    "            optimizer.zero_grad()\n",
    "            outputs = bilstm_model(batch_X)\n",
    "            loss = criterion(outputs, batch_y.view(-1, 1))\n",
    "            loss.backward()\n",
    "            optimizer.step()\n",
    "\n",
    "            total_loss += loss.item()\n",
    "\n",
    "        average_loss = total_loss / len(train_loader)\n",
    "        print(f\"Epoch {epoch + 1}/{num_epochs}, Loss: {average_loss:.4f}\")\n",
    "\n",
    "    # Evaluate the BiLSTM model on the test set for this fold\n",
    "    with torch.no_grad():\n",
    "        bilstm_model.eval()\n",
    "        X_test_fold, y_test_fold = X_test_fold.to(device), y_test_fold.to(device)\n",
    "        test_outputs = bilstm_model(X_test_fold)\n",
    "        predicted_labels = (bilstm_model.sigmoid(test_outputs) >= 0.5).float()\n",
    "        accuracy_fold = accuracy_score(y_test_fold.cpu().numpy(), predicted_labels.cpu().numpy())\n",
    "        all_accuracies.append(accuracy_fold)\n",
    "\n",
    "        print(f\"Test Accuracy on Fold {fold + 1}: {accuracy_fold * 100:.2f}%\")\n",
    "\n",
    "# Print overall performance metrics\n",
    "average_accuracy = np.mean(all_accuracies)\n",
    "print(f\"\\nAverage Accuracy: {average_accuracy * 100:.2f}%\")"
   ],
   "metadata": {
    "collapsed": false
   },
   "id": "b6d858b41b188e7c"
  },
  {
   "cell_type": "code",
   "outputs": [],
   "source": [
    "np.std([87.32,90.49,89.51,96.83,95.37])\n"
   ],
   "metadata": {
    "collapsed": false,
    "is_executing": true
   },
   "id": "2a94416b76ac2bb3"
  },
  {
   "cell_type": "markdown",
   "source": [
    "## 结论\n",
    "\n",
    "基线模型（FC模型）的准确率为76.83%，顶级列车的准确率为76.34%。\n",
    "\n",
    "LSTM模型的平均准确率为90.63%（-+ 1.90%），最高准确率为93.17%。\n",
    "\n",
    "BiLSTM模型的平均精度为91.90%（-+3.60%），最高精度为96.83%。\n",
    "\n",
    "BiLSTM和LSTM\n",
    "\n",
    "BiLSTM在正向和向后方向上处理输入序列。这允许模型从序列的开头和结尾捕获上下文信息。对于SMILES公式来说，代币的顺序在确定分子结构方面至关重要，拥有来自双向的信息可能是有益的。\n",
    "\n",
    "在LSTM中，在处理令牌时，未来的信息不可用，可能会导致信息丢失。相比之下，BiLSTM通过双向处理令牌来解决这个问题，确保每个令牌都可以访问过去和未来令牌的信息。\n",
    "\n",
    "一言以蔽之，BiLSTM的双向性质使其能够学习更丰富的特征表示。"
   ],
   "metadata": {
    "collapsed": false
   },
   "id": "3208d6f08e47bfed"
  },
  {
   "cell_type": "code",
   "outputs": [],
   "source": [],
   "metadata": {
    "collapsed": false
   },
   "id": "c14f633d676ccd9b"
  }
 ],
 "metadata": {
  "kernelspec": {
   "display_name": "Python 3",
   "language": "python",
   "name": "python3"
  },
  "language_info": {
   "codemirror_mode": {
    "name": "ipython",
    "version": 2
   },
   "file_extension": ".py",
   "mimetype": "text/x-python",
   "name": "python",
   "nbconvert_exporter": "python",
   "pygments_lexer": "ipython2",
   "version": "2.7.6"
  }
 },
 "nbformat": 4,
 "nbformat_minor": 5
}
