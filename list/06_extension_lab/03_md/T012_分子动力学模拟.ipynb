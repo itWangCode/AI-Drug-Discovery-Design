{
 "cells": [
  {
   "cell_type": "code",
   "execution_count": 1,
   "id": "initial_id",
   "metadata": {
    "collapsed": true,
    "ExecuteTime": {
     "end_time": "2024-10-22T19:09:05.677657Z",
     "start_time": "2024-10-22T19:07:23.704012Z"
    }
   },
   "outputs": [
    {
     "name": "stdout",
     "output_type": "stream",
     "text": [
      "Channels:\n",
      " - conda-forge\n",
      " - defaults\n",
      " - https://mirrors.tuna.tsinghua.edu.cn/anaconda/pkgs/free\n",
      " - https://mirrors.tuna.tsinghua.edu.cn/anaconda/pkgs/main\n",
      " - pytorch\n",
      "Platform: osx-64\n",
      "Collecting package metadata (repodata.json): ...working... done\n",
      "Solving environment: ...working... done\n",
      "\n",
      "# All requested packages already installed.\n"
     ]
    }
   ],
   "source": [
    "import sys\n",
    "import os\n",
    "\n",
    "# Check if the current platform is macOS\n",
    "if sys.platform.startswith(\"darwin\"):\n",
    "    # For macOS with M1 chip, you might need to set CONDA_SUBDIR\n",
    "    if os.uname().machine == \"arm64\":\n",
    "        os.environ[\"CONDA_SUBDIR\"] = \"osx-64\"\n",
    "    \n",
    "    # Install openmmforcefields\n",
    "    os.system(\"conda install -q -y -c conda-forge openmmforcefields\")\n"
   ]
  },
  {
   "cell_type": "code",
   "execution_count": 2,
   "outputs": [
    {
     "name": "stdout",
     "output_type": "stream",
     "text": [
      "/Users/wangyang/Desktop/AI-drug-design/list/06_extension_lab/03_md/data\n"
     ]
    }
   ],
   "source": [
    "from pathlib import Path\n",
    "import os\n",
    "\n",
    "# 获取当前工作目录\n",
    "HERE = Path(os.getcwd())\n",
    "DATA = HERE / 'data'\n",
    "if not DATA.exists():\n",
    "    DATA.mkdir(parents=True, exist_ok=True)\n",
    "print(DATA)\n"
   ],
   "metadata": {
    "collapsed": false,
    "ExecuteTime": {
     "end_time": "2024-10-22T19:09:05.687599Z",
     "start_time": "2024-10-22T19:09:05.682049Z"
    }
   },
   "id": "26ae1df95b1b4167"
  },
  {
   "cell_type": "code",
   "execution_count": 3,
   "outputs": [],
   "source": [
    "import copy\n",
    "from pathlib import Path\n",
    "\n",
    "import requests\n",
    "from IPython.display import display\n",
    "import numpy as np\n",
    "from rdkit import Chem\n",
    "from rdkit.Chem import Draw\n",
    "from rdkit.Chem import AllChem\n",
    "import mdtraj as md\n",
    "import pdbfixer\n",
    "import openmm as mm\n",
    "import openmm.app as app\n",
    "from openmm import unit\n",
    "from openff.toolkit.topology import Molecule, Topology\n",
    "from openmmforcefields.generators import GAFFTemplateGenerator"
   ],
   "metadata": {
    "collapsed": false,
    "ExecuteTime": {
     "end_time": "2024-10-22T19:09:16.246675Z",
     "start_time": "2024-10-22T19:09:05.688977Z"
    }
   },
   "id": "a63c422453087ce7"
  },
  {
   "cell_type": "code",
   "execution_count": 4,
   "outputs": [],
   "source": [
    "pdbid = \"3W32\"\n",
    "ligand_name = \"W32\"\n",
    "pdb_path = DATA / f\"{pdbid}.pdb\"\n",
    "pdb_url = f\"https://files.rcsb.org/download/{pdbid}.pdb\""
   ],
   "metadata": {
    "collapsed": false,
    "ExecuteTime": {
     "end_time": "2024-10-22T19:09:16.254561Z",
     "start_time": "2024-10-22T19:09:16.250609Z"
    }
   },
   "id": "a858e1b4035acd62"
  },
  {
   "cell_type": "code",
   "execution_count": 5,
   "outputs": [],
   "source": [
    "r = requests.get(pdb_url)\n",
    "r.raise_for_status()\n",
    "with open(pdb_path, \"wb\") as f:\n",
    "    f.write(r.content)"
   ],
   "metadata": {
    "collapsed": false,
    "ExecuteTime": {
     "end_time": "2024-10-22T19:09:18.328921Z",
     "start_time": "2024-10-22T19:09:16.256248Z"
    }
   },
   "id": "d186251e6d8efe53"
  },
  {
   "cell_type": "markdown",
   "source": [
    "制备蛋白质配体复合物\n",
    " 蛋白质制备\n",
    "成功模拟的关键是要有一个正确完整的系统。从蛋白质数据库（Protein Data Bank）中获取的晶体结构经常会遗漏原子（主要是氢原子），并且可能包含非标准残基。在本讲座中，我们将使用 Python 软件包 PDBFixer 来准备蛋白质结构。不过，PDBFixer 不能很好地处理共晶体配体，因此将单独制备。"
   ],
   "metadata": {
    "collapsed": false
   },
   "id": "48c676177949e1ef"
  },
  {
   "cell_type": "code",
   "execution_count": 6,
   "outputs": [],
   "source": [
    "def prepare_protein(\n",
    "    pdb_file, ignore_missing_residues=True, ignore_terminal_missing_residues=True, ph=7.0\n",
    "):\n",
    "    \"\"\"\n",
    "    使用pdbfixer从PDB文件中制备蛋白质。杂原子如配体是\n",
    "    去除不符合标准的残留物替换。对已有的残基添加缺失原子。\n",
    "    缺省残差默认忽略，但可以包含在内。\n",
    "    参数\n",
    "    - - - - - - - -\n",
    "    pdb _ file：pathlib . Path或str\n",
    "    包含系统的PDB文件进行模拟。\n",
    "    忽略_缺失_残基：bool，可选\n",
    "    如果缺失的残基应该被忽略或者构建。\n",
    "    忽略_ terminal _ missing _ residue：bool，可选\n",
    "    如果在链的开始和结束处缺失残基，则应该被忽略或建立。\n",
    "    Ph：漂浮，可选\n",
    "    PH值用于判断残基的质子化状态\n",
    "    \n",
    "    返回\n",
    "    -------\n",
    "    fixer: pdbfixer.pdbfixer.PDBFixer\n",
    "          准备好的蛋白质系统\n",
    "    \"\"\"\n",
    "    fixer = pdbfixer.PDBFixer(str(pdb_file))\n",
    "    fixer.removeHeterogens()  # 共晶配体对PDBFixer来说是未知的\n",
    "    fixer.findMissingResidues()  # 识别缺失残基，为识别缺失原子所需\n",
    "\n",
    "    # 如果应忽略缺失的末端残基，则将其从字典中删除\n",
    "    if ignore_terminal_missing_residues:\n",
    "        chains = list(fixer.topology.chains())\n",
    "        keys = fixer.missingResidues.keys()\n",
    "        for key in list(keys):\n",
    "            chain = chains[key[0]]\n",
    "            if key[1] == 0 or key[1] == len(list(chain.residues())):\n",
    "                del fixer.missingResidues[key]\n",
    "\n",
    "    # 如果所有缺失的残基都被忽略，则清空字典\n",
    "    if ignore_missing_residues:\n",
    "        fixer.missingResidues = {}\n",
    "\n",
    "    fixer.findNonstandardResidues()  # find non-standard residue\n",
    "    fixer.replaceNonstandardResidues()  # replace non-standard residues with standard one\n",
    "    fixer.findMissingAtoms()  # find missing heavy atoms\n",
    "    fixer.addMissingAtoms()  # add missing atoms and residues\n",
    "    fixer.addMissingHydrogens(ph)  # add missing hydrogens\n",
    "    return fixer"
   ],
   "metadata": {
    "collapsed": false,
    "ExecuteTime": {
     "end_time": "2024-10-22T19:09:18.335940Z",
     "start_time": "2024-10-22T19:09:18.330154Z"
    }
   },
   "id": "7c67ab863eed50b2"
  },
  {
   "cell_type": "code",
   "execution_count": 7,
   "outputs": [],
   "source": [
    "# prepare protein and build only missing non-terminal residues\n",
    "prepared_protein = prepare_protein(pdb_path, ignore_missing_residues=False)"
   ],
   "metadata": {
    "collapsed": false,
    "ExecuteTime": {
     "end_time": "2024-10-22T19:09:23.072484Z",
     "start_time": "2024-10-22T19:09:18.337294Z"
    }
   },
   "id": "d3039098c9c159a7"
  },
  {
   "cell_type": "markdown",
   "source": [
    "制备配体\n",
    "准备好蛋白质后，我们将注意力转向配体。同样，我们需要添加氢，但也需要确保键序分配正确，因为一些 PDB 条目可能包含错误。我们使用 Python 软件包 RDKit，这是一个开源的化学信息学库。我们将通过 SMILES 字符串向 RDKit 提供正确的质子化状态和键序。每种共晶体配体的非带电异构体 SMILES 字符串可在其各自的 PDB 条目中找到。PDB 条目 3w32 的配体名称为 w32。如果配体可能以其带电形式或特定同分异构体形式结合，则需要将这些特征纳入 SMILES 字符串。"
   ],
   "metadata": {
    "collapsed": false
   },
   "id": "e41942ccb93292c0"
  },
  {
   "cell_type": "code",
   "execution_count": 8,
   "outputs": [],
   "source": [
    "def prepare_ligand(pdb_file, resname, smiles, depict=True):\n",
    "    \"\"\"\n",
    "    通过添加氢和指定键序，从 PDB 文件中制备配体。描述\n",
    "    配体制备前后的二维图像，以便检查\n",
    "    结果。非常感谢 @j-wags 的建议。\n",
    "    参数\n",
    "    ----------\n",
    "    pdb_file: pathlib.PosixPath\n",
    "    包含相关配体的 PDB 文件。\n",
    "    resname: str\n",
    "    配体的三个字符残基名称。\n",
    "    smiles : str\n",
    "    配体的 SMILES 字符串，用于说明正确的质子化和键序。\n",
    "    depict：bool，可选\n",
    "    显示配体的二维图像\n",
    "    返回\n",
    "    -------\n",
    "    prepared_ligand: rdkit.Chem.rdchem.Mol\n",
    "        制备配体。\n",
    "    \"\"\"\n",
    "    # split molecule\n",
    "    rdkit_mol = Chem.MolFromPDBFile(str(pdb_file))\n",
    "    rdkit_mol_split = Chem.rdmolops.SplitMolByPDBResidues(rdkit_mol)\n",
    "\n",
    "    # extract the ligand and remove any already present hydrogens\n",
    "    ligand = rdkit_mol_split[resname]\n",
    "    ligand = Chem.RemoveHs(ligand)\n",
    "\n",
    "    # assign bond orders from template\n",
    "    reference_mol = Chem.MolFromSmiles(smiles)\n",
    "    prepared_ligand = AllChem.AssignBondOrdersFromTemplate(reference_mol, ligand)\n",
    "    prepared_ligand.AddConformer(ligand.GetConformer(0))\n",
    "\n",
    "    # protonate ligand\n",
    "    prepared_ligand = Chem.rdmolops.AddHs(prepared_ligand, addCoords=True)\n",
    "    prepared_ligand = Chem.MolFromMolBlock(Chem.MolToMolBlock(prepared_ligand))\n",
    "\n",
    "    # 2D depiction\n",
    "    if depict:\n",
    "        ligand_2d = copy.deepcopy(ligand)\n",
    "        prepared_ligand_2d = copy.deepcopy(prepared_ligand)\n",
    "        AllChem.Compute2DCoords(ligand_2d)\n",
    "        AllChem.Compute2DCoords(prepared_ligand_2d)\n",
    "        display(\n",
    "            Draw.MolsToGridImage(\n",
    "                [ligand_2d, prepared_ligand_2d], molsPerRow=2, legends=[\"original\", \"prepared\"]\n",
    "            )\n",
    "        )\n",
    "\n",
    "    # return ligand\n",
    "    return prepared_ligand"
   ],
   "metadata": {
    "collapsed": false,
    "ExecuteTime": {
     "end_time": "2024-10-22T19:09:23.080097Z",
     "start_time": "2024-10-22T19:09:23.074410Z"
    }
   },
   "id": "817a7452c533ef3c"
  },
  {
   "cell_type": "markdown",
   "source": [
    "同分异构体 SMILES 字符串调用该函数，将返回正确制备的配体。打印出原始配体和制备配体的二维图像，以供检查。"
   ],
   "metadata": {
    "collapsed": false
   },
   "id": "f79edeac56e2581f"
  },
  {
   "cell_type": "code",
   "execution_count": 9,
   "outputs": [
    {
     "name": "stderr",
     "output_type": "stream",
     "text": [
      "[03:09:23] WARNING: More than one matching pattern found - picking one\n",
      "\n"
     ]
    },
    {
     "data": {
      "image/png": "[encoded data removed]",
      "text/plain": "<IPython.core.display.Image object>"
     },
     "metadata": {},
     "output_type": "display_data"
    }
   ],
   "source": [
    "smiles = \"CS(=O)(=O)CCNC(=O)C1=Cc2c(ncnc2Nc3ccc(c(c3)Cl)Oc4cccc(c4)C(F)(F)F)NCC1\"\n",
    "rdkit_ligand = prepare_ligand(pdb_path, ligand_name, smiles)"
   ],
   "metadata": {
    "collapsed": false,
    "ExecuteTime": {
     "end_time": "2024-10-22T19:09:23.130104Z",
     "start_time": "2024-10-22T19:09:23.081556Z"
    }
   },
   "id": "9a97297c2a9a2218"
  },
  {
   "cell_type": "markdown",
   "source": [
    "合并蛋白质和配体\n",
    "下一步，我们要使用 Python 软件包 MDTraj 合并制备的蛋白质和配体结构。MDTraj 可以处理准备好的蛋白质，它目前是一个 PDBFixer 分子，这种格式的拓扑结构和原子位置与 OpenMM Modeller 的拓扑结构和位置相似，通常可以互换。但对于配体，我们需要进行多次转换，因为它目前是 RDKit 分子。"
   ],
   "metadata": {
    "collapsed": false
   },
   "id": "4fdb3a7344e72e71"
  },
  {
   "cell_type": "code",
   "execution_count": 10,
   "outputs": [],
   "source": [
    "def rdkit_to_openmm(rdkit_mol, name=\"LIG\"):\n",
    "    \"\"\"\n",
    "    Convert an RDKit molecule to an OpenMM molecule.\n",
    "    Inspired by @hannahbrucemcdonald and @glass-w.\n",
    "\n",
    "    Parameters\n",
    "    ----------\n",
    "    rdkit_mol: rdkit.Chem.rdchem.Mol\n",
    "        RDKit molecule to convert.\n",
    "    name: str\n",
    "        Molecule name.\n",
    "\n",
    "    Returns\n",
    "    -------\n",
    "    omm_molecule: openmm.app.Modeller\n",
    "        OpenMM modeller object holding the molecule of interest.\n",
    "    \"\"\"\n",
    "    # convert RDKit to OpenFF\n",
    "    off_mol = Molecule.from_rdkit(rdkit_mol)\n",
    "\n",
    "    # add name for molecule\n",
    "    off_mol.name = name\n",
    "\n",
    "    # add names for atoms\n",
    "    element_counter_dict = {}\n",
    "    for off_atom, rdkit_atom in zip(off_mol.atoms, rdkit_mol.GetAtoms()):\n",
    "        element = rdkit_atom.GetSymbol()\n",
    "        if element in element_counter_dict.keys():\n",
    "            element_counter_dict[element] += 1\n",
    "        else:\n",
    "            element_counter_dict[element] = 1\n",
    "        off_atom.name = element + str(element_counter_dict[element])\n",
    "\n",
    "    # convert from OpenFF to OpenMM\n",
    "    off_mol_topology = off_mol.to_topology()\n",
    "    mol_topology = off_mol_topology.to_openmm()\n",
    "    mol_positions = off_mol.conformers[0]\n",
    "\n",
    "    # convert units from Ångström to nanometers\n",
    "    # since OpenMM works in nm\n",
    "    mol_positions = mol_positions.to(\"nanometers\")\n",
    "\n",
    "    # combine topology and positions in modeller object\n",
    "    omm_mol = app.Modeller(mol_topology, mol_positions)\n",
    "\n",
    "    return omm_mol"
   ],
   "metadata": {
    "collapsed": false,
    "ExecuteTime": {
     "end_time": "2024-10-22T19:09:23.139721Z",
     "start_time": "2024-10-22T19:09:23.134187Z"
    }
   },
   "id": "dbb60bc21df02053"
  },
  {
   "cell_type": "code",
   "execution_count": 11,
   "outputs": [],
   "source": [
    "omm_ligand = rdkit_to_openmm(rdkit_ligand, ligand_name)"
   ],
   "metadata": {
    "collapsed": false,
    "ExecuteTime": {
     "end_time": "2024-10-22T19:09:23.204151Z",
     "start_time": "2024-10-22T19:09:23.141158Z"
    }
   },
   "id": "898da09327e58180"
  },
  {
   "cell_type": "markdown",
   "source": [
    "现在，蛋白质和配体都是类似 OpenMM 的格式，可以与 MDTraj 合并。"
   ],
   "metadata": {
    "collapsed": false
   },
   "id": "71680ddedbab97b8"
  },
  {
   "cell_type": "code",
   "execution_count": 12,
   "outputs": [],
   "source": [
    "def merge_protein_and_ligand(protein, ligand):\n",
    "    \"\"\"\n",
    "    Merge two OpenMM objects.\n",
    "\n",
    "    Parameters\n",
    "    ----------\n",
    "    protein: pdbfixer.pdbfixer.PDBFixer\n",
    "        Protein to merge.\n",
    "    ligand: openmm.app.Modeller\n",
    "        Ligand to merge.\n",
    "\n",
    "    Returns\n",
    "    -------\n",
    "    complex_topology: openmm.app.topology.Topology\n",
    "        The merged topology.\n",
    "    complex_positions: openmm.unit.quantity.Quantity\n",
    "        The merged positions.\n",
    "    \"\"\"\n",
    "    # combine topologies\n",
    "    md_protein_topology = md.Topology.from_openmm(protein.topology)  # using mdtraj for protein top\n",
    "    md_ligand_topology = md.Topology.from_openmm(ligand.topology)  # using mdtraj for ligand top\n",
    "    md_complex_topology = md_protein_topology.join(md_ligand_topology)  # add them together\n",
    "    complex_topology = md_complex_topology.to_openmm()\n",
    "\n",
    "    # combine positions\n",
    "    total_atoms = len(protein.positions) + len(ligand.positions)\n",
    "\n",
    "    # create an array for storing all atom positions as tupels containing a value and a unit\n",
    "    # called OpenMM Quantities\n",
    "    complex_positions = unit.Quantity(np.zeros([total_atoms, 3]), unit=unit.nanometers)\n",
    "    complex_positions[: len(protein.positions)] = protein.positions  # add protein positions\n",
    "    complex_positions[len(protein.positions) :] = ligand.positions  # add ligand positions\n",
    "\n",
    "    return complex_topology, complex_positions"
   ],
   "metadata": {
    "collapsed": false,
    "ExecuteTime": {
     "end_time": "2024-10-22T19:09:23.211070Z",
     "start_time": "2024-10-22T19:09:23.205813Z"
    }
   },
   "id": "2edf8e70cdcfdbf6"
  },
  {
   "cell_type": "code",
   "execution_count": 13,
   "outputs": [
    {
     "name": "stderr",
     "output_type": "stream",
     "text": [
      "/opt/anaconda3/envs/teachopencadd/lib/python3.8/site-packages/openmm/unit/quantity.py:753: UnitStrippedWarning: The unit of the quantity is stripped when downcasting to ndarray.\n",
      "  self._value[key] = value / self.unit\n"
     ]
    }
   ],
   "source": [
    "complex_topology, complex_positions = merge_protein_and_ligand(prepared_protein, omm_ligand)"
   ],
   "metadata": {
    "collapsed": false,
    "ExecuteTime": {
     "end_time": "2024-10-22T19:09:23.389269Z",
     "start_time": "2024-10-22T19:09:23.212827Z"
    }
   },
   "id": "548224bd18f50147"
  },
  {
   "cell_type": "code",
   "execution_count": 14,
   "outputs": [
    {
     "name": "stdout",
     "output_type": "stream",
     "text": [
      "Complex topology has 5428 atoms.\n"
     ]
    }
   ],
   "source": [
    "print(\"Complex topology has\", complex_topology.getNumAtoms(), \"atoms.\")\n",
    "# NBVAL_CHECK_OUTPUT"
   ],
   "metadata": {
    "collapsed": false,
    "ExecuteTime": {
     "end_time": "2024-10-22T19:09:23.393080Z",
     "start_time": "2024-10-22T19:09:23.390560Z"
    }
   },
   "id": "a213c1eca894188a"
  },
  {
   "cell_type": "markdown",
   "source": [
    "MD 模拟设置\n",
    "现在，我们可以使用准备好的复合物来设置 MD 模拟。\n",
    "\n",
    " 力场\n",
    "常见的力场（如 AMBER）有氨基酸、核酸、水和离子的参数，通常会根据您的目的提供多种选择。我们使用 amber14-all.xml 力场文件，该文件随 OpenMM 一起提供，包含蛋白质、DNA、RNA 和脂质的参数。对于溶解，我们使用标准的三基点水模型 TIP3P。\n",
    "\n",
    "不过，配体的参数并不包括在内。要生成这些参数，我们可以使用通用安博力场（GAFF），它是在 Python 软件包 OpenMM Forcefields 中实现的。下面的函数生成了一个包含标准安博参数的力场对象，如果需要，还包括小分子的参数。"
   ],
   "metadata": {
    "collapsed": false
   },
   "id": "44a1fbeb359f601e"
  },
  {
   "cell_type": "code",
   "execution_count": 15,
   "outputs": [],
   "source": [
    "from openmmforcefields.generators import SMIRNOFFTemplateGenerator\n",
    "from openmm import app\n",
    "from openff.toolkit.topology import Molecule\n",
    "\n",
    "def generate_forcefield(\n",
    "    rdkit_mol=None, protein_ff=\"amber14-all.xml\", solvent_ff=\"amber14/tip3pfb.xml\"\n",
    "):\n",
    "    \"\"\"\n",
    "    Generate an OpenMM Forcefield object and register a small molecule.\n",
    "\n",
    "    Parameters\n",
    "    ----------\n",
    "    rdkit_mol: rdkit.Chem.rdchem.Mol\n",
    "        Small molecule to register in the force field.\n",
    "    protein_ff: string\n",
    "        Name of the force field.\n",
    "    solvent_ff: string\n",
    "        Name of the solvent force field.\n",
    "\n",
    "    Returns\n",
    "    -------\n",
    "    forcefield: openmm.app.Forcefield\n",
    "        Forcefield with registered small molecule.\n",
    "    \"\"\"\n",
    "    forcefield = app.ForceField(protein_ff, solvent_ff)\n",
    "\n",
    "    if rdkit_mol is not None:\n",
    "        smirnoff = SMIRNOFFTemplateGenerator(\n",
    "            molecules=[Molecule.from_rdkit(rdkit_mol, allow_undefined_stereo=True)],\n",
    "            forcefield=\"openff-2.0.0.offxml\"\n",
    "        )\n",
    "        forcefield.registerTemplateGenerator(smirnoff.generator)\n",
    "\n",
    "    return forcefield\n"
   ],
   "metadata": {
    "collapsed": false,
    "ExecuteTime": {
     "end_time": "2024-10-22T19:09:23.398333Z",
     "start_time": "2024-10-22T19:09:23.394472Z"
    }
   },
   "id": "73abc784bbe1f44b"
  },
  {
   "cell_type": "code",
   "execution_count": 16,
   "outputs": [],
   "source": [
    "forcefield = generate_forcefield(rdkit_ligand)"
   ],
   "metadata": {
    "collapsed": false,
    "ExecuteTime": {
     "end_time": "2024-10-22T19:09:24.056608Z",
     "start_time": "2024-10-22T19:09:23.399512Z"
    }
   },
   "id": "f55f7c5eb64001a9"
  },
  {
   "cell_type": "markdown",
   "source": [],
   "metadata": {
    "collapsed": false
   },
   "id": "bc9c4976a4b2bed7"
  },
  {
   "cell_type": "markdown",
   "source": [
    "系统\n",
    "有了配置好的力场，我们现在就可以使用 OpenMM Modeller 类来创建 MD 环境，这是一个包含复合物并充满溶剂的模拟盒。标准溶剂是含有一定量离子的水。模拟盒的大小可以通过多种方式确定。我们使用填充来定义，这样就得到了一个立方体盒子，其尺寸取决于复合物的最大尺寸。"
   ],
   "metadata": {
    "collapsed": false
   },
   "id": "8ae5fbfa99594f5f"
  },
  {
   "cell_type": "code",
   "execution_count": 17,
   "outputs": [],
   "source": [
    "modeller = app.Modeller(complex_topology, complex_positions)\n",
    "modeller.addSolvent(forcefield, padding=1.0 * unit.nanometers, ionicStrength=0.15 * unit.molar)"
   ],
   "metadata": {
    "collapsed": false,
    "ExecuteTime": {
     "end_time": "2024-10-22T19:13:06.496980Z",
     "start_time": "2024-10-22T19:09:24.058109Z"
    }
   },
   "id": "2e46ba93faa1da37"
  },
  {
   "cell_type": "markdown",
   "source": [
    "有了求解系统和力场，我们就可以创建 OpenMM 系统并进行仿真了。除了系统之外，模拟还需要一个积分器。OpenMM 积分器定义了通过积分运动方程模拟系统的方法。所选的朗温积分器使用朗温方程。"
   ],
   "metadata": {
    "collapsed": false
   },
   "id": "5dcb8497238a0267"
  },
  {
   "cell_type": "code",
   "execution_count": 18,
   "outputs": [],
   "source": [
    "system = forcefield.createSystem(modeller.topology, nonbondedMethod=app.PME)\n",
    "integrator = mm.LangevinIntegrator(\n",
    "    300 * unit.kelvin, 1.0 / unit.picoseconds, 2.0 * unit.femtoseconds\n",
    ")\n",
    "simulation = app.Simulation(modeller.topology, system, integrator)\n",
    "simulation.context.setPositions(modeller.positions)"
   ],
   "metadata": {
    "collapsed": false,
    "ExecuteTime": {
     "end_time": "2024-10-22T19:13:10.533058Z",
     "start_time": "2024-10-22T19:13:06.498683Z"
    }
   },
   "id": "d0780d8ed6269e7f"
  },
  {
   "cell_type": "markdown",
   "source": [
    "执行 MD 模拟\n",
    "一切准备就绪后，我们就可以进行模拟了。我们需要设置起始位置，并将系统的能量最小化，以获得低能量的起始配置，这对于降低因严重原子冲突而导致模拟失败的几率非常重要。我们将保存能量最小化的系统。"
   ],
   "metadata": {
    "collapsed": false
   },
   "id": "8ed2fea3cf65b6c8"
  },
  {
   "cell_type": "code",
   "execution_count": 19,
   "outputs": [],
   "source": [
    "simulation.minimizeEnergy()\n",
    "with open(DATA / \"topology.pdb\", \"w\") as pdb_file:\n",
    "    app.PDBFile.writeFile(\n",
    "        simulation.topology,\n",
    "        simulation.context.getState(getPositions=True, enforcePeriodicBox=True).getPositions(),\n",
    "        file=pdb_file,\n",
    "        keepIds=True,\n",
    "    )"
   ],
   "metadata": {
    "collapsed": false,
    "ExecuteTime": {
     "end_time": "2024-10-22T19:17:09.860350Z",
     "start_time": "2024-10-22T19:13:10.534362Z"
    }
   },
   "id": "b66283bf03b3d210"
  },
  {
   "cell_type": "markdown",
   "source": [
    "完成最小化后，我们就可以进行 MD 仿真了。在本讲座中，我们将做一个简短的仿真以作说明。用于研究目的的模拟时间跨度为几纳秒，甚至达到微秒。我们将只模拟 100 ps 的分子动力学，相当于 50k 步，每步 2 fs。我们每 10 ps（5000 步）保存一次分子 \"快照\"，总共 10 帧。结果保存在一个 .xtc 文件中，该文件包含所有原子在给定时间点的坐标。它与之前写入的能量最小化系统的 PDB 文件一起，为我们提供了稍后分析所需的所有信息。\n",
    "\n"
   ],
   "metadata": {
    "collapsed": false
   },
   "id": "df0d7c704ee0d1fd"
  },
  {
   "cell_type": "code",
   "execution_count": 20,
   "outputs": [],
   "source": [
    "steps = 50000  # corresponds to 100 ps\n",
    "write_interval = 5000  # write every 10 ps\n",
    "log_interval = 2500  # log progress to stdout every 5 ps"
   ],
   "metadata": {
    "collapsed": false,
    "ExecuteTime": {
     "end_time": "2024-10-22T19:17:09.864976Z",
     "start_time": "2024-10-22T19:17:09.861751Z"
    }
   },
   "id": "faa5e8c3e7f081a5"
  },
  {
   "cell_type": "code",
   "outputs": [],
   "source": [
    "simulation.reporters.append(\n",
    "    md.reporters.XTCReporter(file=str(DATA / \"trajectory.xtc\"), reportInterval=write_interval)\n",
    ")\n",
    "simulation.reporters.append(\n",
    "    app.StateDataReporter(\n",
    "        sys.stdout,\n",
    "        log_interval,\n",
    "        step=True,\n",
    "        potentialEnergy=True,\n",
    "        temperature=True,\n",
    "        progress=True,\n",
    "        remainingTime=True,\n",
    "        speed=True,\n",
    "        totalSteps=steps,\n",
    "        separator=\"\\t\",\n",
    "    )\n",
    ")"
   ],
   "metadata": {
    "collapsed": false,
    "ExecuteTime": {
     "end_time": "2024-10-23T02:09:32.044460Z",
     "start_time": "2024-10-23T02:09:32.036582Z"
    }
   },
   "id": "510d565daa9cab",
   "execution_count": 24
  },
  {
   "cell_type": "code",
   "execution_count": 25,
   "outputs": [
    {
     "name": "stdout",
     "output_type": "stream",
     "text": [
      "#\"Progress (%)\"\t\"Step\"\t\"Potential Energy (kJ/mole)\"\t\"Temperature (K)\"\t\"Speed (ns/day)\"\t\"Time Remaining\"\n",
      "105.0%\t52500\t-963357.2224086337\t299.9255524696846\t0\t--\n",
      "110.0%\t55000\t-964113.9372523837\t299.6586360620325\t4.86\t23:57:03\n",
      "115.0%\t57500\t-964312.3122523837\t299.9560348302563\t4.87\t23:55:34\n",
      "120.0%\t60000\t-965307.4020961337\t300.729221553349\t4.87\t23:54:06\n",
      "125.0%\t62500\t-966199.3981898837\t300.0890411102118\t4.87\t23:52:37\n",
      "130.0%\t65000\t-964433.4997523837\t300.37705695451837\t4.87\t23:51:09\n",
      "135.0%\t67500\t-964478.0427211337\t301.6519413917788\t4.87\t23:49:40\n",
      "140.0%\t70000\t-964781.3435023837\t298.0652014045315\t4.87\t23:48:12\n",
      "145.0%\t72500\t-964332.5114711337\t299.2705367761402\t4.88\t23:46:43\n",
      "150.0%\t75000\t-965422.4528773837\t299.73752931920353\t4.88\t23:45:15\n",
      "155.0%\t77500\t-963212.0310023837\t301.76555804253667\t4.88\t23:43:46\n",
      "160.0%\t80000\t-965164.7614711337\t299.1621833967417\t4.88\t23:42:18\n",
      "165.0%\t82500\t-965434.0270961337\t299.190619756499\t4.88\t23:40:49\n",
      "170.0%\t85000\t-966322.4763148837\t301.6244875796308\t4.88\t23:39:21\n",
      "175.0%\t87500\t-964788.5739711337\t298.65336366798795\t4.88\t23:37:52\n",
      "180.0%\t90000\t-963794.6716273837\t300.3192527389857\t4.88\t23:36:24\n",
      "185.0%\t92500\t-963629.7145961337\t300.7061347044283\t4.88\t23:34:55\n",
      "190.0%\t95000\t-964190.7263148837\t300.74073918826974\t4.88\t23:33:26\n",
      "195.0%\t97500\t-964509.0231898837\t300.7830804836717\t4.87\t23:31:56\n",
      "200.0%\t100000\t-965486.0700648837\t302.1724954672852\t4.83\t23:30:12\n"
     ]
    }
   ],
   "source": [
    "simulation.context.setVelocitiesToTemperature(300 * unit.kelvin)\n",
    "simulation.step(steps)  # perform the simulation"
   ],
   "metadata": {
    "collapsed": false,
    "ExecuteTime": {
     "end_time": "2024-10-23T02:39:25.582569Z",
     "start_time": "2024-10-23T02:09:34.418742Z"
    }
   },
   "id": "9483633165ac9784"
  },
  {
   "cell_type": "code",
   "execution_count": 26,
   "outputs": [
    {
     "data": {
      "text/plain": "True"
     },
     "execution_count": 26,
     "metadata": {},
     "output_type": "execute_result"
    }
   ],
   "source": [
    "# Check the trajectory exists and is not empty\n",
    "(DATA / \"trajectory.xtc\").stat().st_size > 0\n"
   ],
   "metadata": {
    "collapsed": false,
    "ExecuteTime": {
     "end_time": "2024-10-23T02:39:25.604624Z",
     "start_time": "2024-10-23T02:39:25.589569Z"
    }
   },
   "id": "892eef39add94bc8"
  },
  {
   "cell_type": "code",
   "outputs": [],
   "source": [],
   "metadata": {
    "collapsed": false,
    "ExecuteTime": {
     "end_time": "2024-10-22T19:46:32.122496Z",
     "start_time": "2024-10-22T19:46:32.122391Z"
    }
   },
   "id": "c1ec06eb3bff917f"
  },
  {
   "cell_type": "code",
   "outputs": [
    {
     "ename": "TypeError",
     "evalue": "saveState() got an unexpected keyword argument 'enforcePeriodicBox'",
     "output_type": "error",
     "traceback": [
      "\u001B[0;31m---------------------------------------------------------------------------\u001B[0m",
      "\u001B[0;31mTypeError\u001B[0m                                 Traceback (most recent call last)",
      "Cell \u001B[0;32mIn[23], line 3\u001B[0m\n\u001B[1;32m      1\u001B[0m \u001B[38;5;66;03m# xtc trajectory file\u001B[39;00m\n\u001B[1;32m      2\u001B[0m \u001B[38;5;28;01mwith\u001B[39;00m \u001B[38;5;28mopen\u001B[39m(DATA \u001B[38;5;241m/\u001B[39m \u001B[38;5;124m\"\u001B[39m\u001B[38;5;124mtrajectory.xtc\u001B[39m\u001B[38;5;124m\"\u001B[39m, \u001B[38;5;124m\"\u001B[39m\u001B[38;5;124mwb\u001B[39m\u001B[38;5;124m\"\u001B[39m) \u001B[38;5;28;01mas\u001B[39;00m xtc_file:\n\u001B[0;32m----> 3\u001B[0m     \u001B[43msimulation\u001B[49m\u001B[38;5;241;43m.\u001B[39;49m\u001B[43msaveState\u001B[49m\u001B[43m(\u001B[49m\u001B[43mxtc_file\u001B[49m\u001B[43m,\u001B[49m\u001B[43m \u001B[49m\u001B[43menforcePeriodicBox\u001B[49m\u001B[38;5;241;43m=\u001B[39;49m\u001B[38;5;28;43;01mTrue\u001B[39;49;00m\u001B[43m)\u001B[49m \n",
      "\u001B[0;31mTypeError\u001B[0m: saveState() got an unexpected keyword argument 'enforcePeriodicBox'"
     ]
    }
   ],
   "source": [],
   "metadata": {
    "collapsed": false,
    "ExecuteTime": {
     "end_time": "2024-10-23T02:06:17.187801Z",
     "start_time": "2024-10-23T02:06:17.164823Z"
    }
   },
   "id": "c078d8208700f58e",
   "execution_count": 23
  },
  {
   "cell_type": "markdown",
   "source": [
    "系统中所有粒子的速度都是从给定温度下的分布中随机选择的。我们选择了 300 开尔文，比室温高出几度。随机种子是生成的，但也可以明确给出以重现结果。\n",
    "\n",
    "然后按照之前定义的步骤进行模拟"
   ],
   "metadata": {
    "collapsed": false
   },
   "id": "c1533444598a0e29"
  },
  {
   "cell_type": "code",
   "execution_count": null,
   "outputs": [],
   "source": [],
   "metadata": {
    "collapsed": false,
    "is_executing": true
   },
   "id": "fbb4daa1974ab3e0"
  },
  {
   "cell_type": "markdown",
   "source": [],
   "metadata": {
    "collapsed": false
   },
   "id": "70945be42ab85658"
  },
  {
   "cell_type": "code",
   "execution_count": null,
   "outputs": [],
   "source": [],
   "metadata": {
    "collapsed": false,
    "ExecuteTime": {
     "start_time": "2024-06-11T20:22:59.934670Z"
    }
   },
   "id": "3fc2f6d7ace5ab68"
  },
  {
   "cell_type": "code",
   "execution_count": null,
   "outputs": [],
   "source": [],
   "metadata": {
    "collapsed": false,
    "ExecuteTime": {
     "start_time": "2024-06-11T20:22:59.960291Z"
    }
   },
   "id": "782627fe9b6ada70"
  },
  {
   "cell_type": "code",
   "execution_count": null,
   "outputs": [],
   "source": [],
   "metadata": {
    "collapsed": false
   },
   "id": "2c45401cea836e63"
  }
 ],
 "metadata": {
  "kernelspec": {
   "display_name": "Python 3",
   "language": "python",
   "name": "python3"
  },
  "language_info": {
   "codemirror_mode": {
    "name": "ipython",
    "version": 2
   },
   "file_extension": ".py",
   "mimetype": "text/x-python",
   "name": "python",
   "nbconvert_exporter": "python",
   "pygments_lexer": "ipython2",
   "version": "2.7.6"
  }
 },
 "nbformat": 4,
 "nbformat_minor": 5
}
