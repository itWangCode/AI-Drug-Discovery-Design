{
 "cells": [
  {
   "cell_type": "markdown",
   "id": "afecd79e",
   "metadata": {
    "id": "afecd79e"
   },
   "source": [
    "# Jupyter Notebook\n",
    "\n",
    "- 使用Jupyter Notebook 的方法主要有两种\n",
    "\n",
    "- 在PC上安装Anaconda的方法\n",
    "\n",
    "- 在自己的PC上安装anaconda后运行jupyter notebook\n",
    "\n",
    "- 详细的安装方法请在网上搜索\"Anaconda安装\"\n",
    "\n",
    "- 使用谷歌云colab\n",
    "\n",
    "- 可以在colab.research.google.com上使用笔记本电脑\n",
    "\n",
    "- 需要加入谷歌账户，需要使用Chrome浏览器登录"
   ]
  },
  {
   "cell_type": "markdown",
   "id": "9c337934",
   "metadata": {
    "id": "9c337934"
   },
   "source": [
    "## 主要命令快捷键（在PC上）\n",
    "\n",
    "- 点击单元格的左侧部分进入命令输入模式（单元格变为蓝色）。在命令输入模式下可以使用下面的快捷键\n",
    "\n",
    "- a : 在当前单元格上添加单元格 (above)\n",
    "\n",
    "- b : 在当前单元格下添加单元格(below)\n",
    "\n",
    "- x : 删除当前单元格 (delete)\n",
    "\n",
    "- m : 切换到文件用单元格 (mark up)\n",
    "\n",
    "- y : 切换到代码用单元格\n",
    "\n",
    "- o : 显示输出/不显示切换(output)\n",
    "\n",
    "- 和下面的单元格合并 shift + m (merge)\n",
    "\n",
    "- 将单元格一分为二 ctrl + shift + '-'\n",
    "\n",
    "- h：帮助"
   ]
  },
  {
   "cell_type": "code",
   "execution_count": 1,
   "id": "1e47cfbc",
   "metadata": {
    "colab": {
     "base_uri": "https://localhost:8080/"
    },
    "id": "1e47cfbc",
    "executionInfo": {
     "status": "ok",
     "timestamp": 1727050827858,
     "user_tz": -540,
     "elapsed": 22,
     "user": {
      "displayName": "전석환",
      "userId": "07131861431613450544"
     }
    },
    "outputId": "1ac07dbe-2c28-430e-c842-9c5734a6125b",
    "ExecuteTime": {
     "end_time": "2024-10-23T08:27:26.819144Z",
     "start_time": "2024-10-23T08:27:26.811188Z"
    }
   },
   "outputs": [
    {
     "name": "stdout",
     "output_type": "stream",
     "text": [
      "3 0.5 wangyang True\n"
     ]
    }
   ],
   "source": [
    "## Python的基本变量4种\n",
    "\n",
    "a = 3\n",
    "b = 0.5\n",
    "x = \"wangyang\"\n",
    "y = True\n",
    "print(a,b,x,y)"
   ]
  },
  {
   "cell_type": "code",
   "execution_count": 2,
   "id": "0933ea17",
   "metadata": {
    "colab": {
     "base_uri": "https://localhost:8080/"
    },
    "id": "0933ea17",
    "executionInfo": {
     "status": "ok",
     "timestamp": 1727050827859,
     "user_tz": -540,
     "elapsed": 8,
     "user": {
      "displayName": "전석환",
      "userId": "07131861431613450544"
     }
    },
    "outputId": "3c9b10c0-cc8c-40c9-f5f1-75390aa87aa3",
    "ExecuteTime": {
     "end_time": "2024-10-23T08:27:37.244443Z",
     "start_time": "2024-10-23T08:27:37.236031Z"
    }
   },
   "outputs": [
    {
     "data": {
      "text/plain": "8"
     },
     "execution_count": 2,
     "metadata": {},
     "output_type": "execute_result"
    }
   ],
   "source": [
    "## 查看字符串的长度（length）\n",
    "\n",
    "len(x)  # 3"
   ]
  },
  {
   "cell_type": "code",
   "execution_count": 3,
   "id": "5ec7bb46",
   "metadata": {
    "colab": {
     "base_uri": "https://localhost:8080/"
    },
    "id": "5ec7bb46",
    "outputId": "7ae33133-9e9c-4c5d-ed75-ecf2dc594828",
    "executionInfo": {
     "status": "ok",
     "timestamp": 1727050827859,
     "user_tz": -540,
     "elapsed": 7,
     "user": {
      "displayName": "전석환",
      "userId": "07131861431613450544"
     }
    },
    "ExecuteTime": {
     "end_time": "2024-10-23T08:27:47.866608Z",
     "start_time": "2024-10-23T08:27:47.862530Z"
    }
   },
   "outputs": [
    {
     "name": "stdout",
     "output_type": "stream",
     "text": [
      "3.5\n",
      "2.5\n",
      "1.5\n",
      "6.0\n",
      "4.5\n",
      "wangyangwangyang\n",
      "wangyangwangyangwangyang\n"
     ]
    }
   ],
   "source": [
    "##整数、小数、字符串、布尔的4规则运算\n",
    "\n",
    "print(a+b)\n",
    "print(a-b)\n",
    "print(a*b)\n",
    "print(a/b)\n",
    "print(a+b+y)\n",
    "print(x+x)\n",
    "print(x*a)"
   ]
  },
  {
   "cell_type": "code",
   "execution_count": 4,
   "id": "ccf06bd0",
   "metadata": {
    "colab": {
     "base_uri": "https://localhost:8080/"
    },
    "id": "ccf06bd0",
    "executionInfo": {
     "status": "ok",
     "timestamp": 1727050827859,
     "user_tz": -540,
     "elapsed": 7,
     "user": {
      "displayName": "전석환",
      "userId": "07131861431613450544"
     }
    },
    "outputId": "fb43868e-2cab-44e2-88d0-71a72063617b",
    "ExecuteTime": {
     "end_time": "2024-10-23T08:27:55.092065Z",
     "start_time": "2024-10-23T08:27:55.087460Z"
    }
   },
   "outputs": [
    {
     "data": {
      "text/plain": "(int, float, str, bool)"
     },
     "execution_count": 4,
     "metadata": {},
     "output_type": "execute_result"
    }
   ],
   "source": [
    "## 确认变量的类型\n",
    "\n",
    "type(a), type(b), type(x), type(y)"
   ]
  },
  {
   "cell_type": "code",
   "execution_count": 7,
   "id": "7673cce7",
   "metadata": {
    "colab": {
     "base_uri": "https://localhost:8080/"
    },
    "id": "7673cce7",
    "executionInfo": {
     "status": "ok",
     "timestamp": 1727050827859,
     "user_tz": -540,
     "elapsed": 6,
     "user": {
      "displayName": "전석환",
      "userId": "07131861431613450544"
     }
    },
    "outputId": "f6088533-e99c-408b-d591-2f45f727f784",
    "ExecuteTime": {
     "end_time": "2024-10-23T08:29:11.504848Z",
     "start_time": "2024-10-23T08:29:11.501127Z"
    }
   },
   "outputs": [
    {
     "name": "stdout",
     "output_type": "stream",
     "text": [
      "2\n",
      "1\n",
      "343\n"
     ]
    }
   ],
   "source": [
    "## 除法分和剩余，乘数\n",
    "\n",
    "a = 7\n",
    "b = 3\n",
    "\n",
    "print(a//b)  # 2\n",
    "print(a%b)   # 1,剩下的\n",
    "print(a**b)  # 343, 乘数"
   ]
  },
  {
   "cell_type": "markdown",
   "id": "c27ae0ac",
   "metadata": {
    "id": "c27ae0ac"
   },
   "source": [
    "## 문자열"
   ]
  },
  {
   "cell_type": "code",
   "execution_count": 8,
   "id": "acdfd47d",
   "metadata": {
    "colab": {
     "base_uri": "https://localhost:8080/"
    },
    "id": "acdfd47d",
    "executionInfo": {
     "status": "ok",
     "timestamp": 1727050827859,
     "user_tz": -540,
     "elapsed": 6,
     "user": {
      "displayName": "전석환",
      "userId": "07131861431613450544"
     }
    },
    "outputId": "1d426c4b-bc45-4e8e-8c49-5c1816ca9b4e",
    "ExecuteTime": {
     "end_time": "2024-10-23T08:29:30.247912Z",
     "start_time": "2024-10-23T08:29:30.243683Z"
    }
   },
   "outputs": [
    {
     "name": "stdout",
     "output_type": "stream",
     "text": [
      "likelick\n",
      "likelicklicklick\n"
     ]
    }
   ],
   "source": [
    "## 附加字符串\n",
    "\n",
    "x = \"like\"\n",
    "y = \"lick\"\n",
    "z = x + y\n",
    "print(z)\n",
    "print(x + 3*y)"
   ]
  },
  {
   "cell_type": "code",
   "execution_count": 9,
   "id": "98f8824e",
   "metadata": {
    "colab": {
     "base_uri": "https://localhost:8080/",
     "height": 36
    },
    "id": "98f8824e",
    "executionInfo": {
     "status": "ok",
     "timestamp": 1727050827859,
     "user_tz": -540,
     "elapsed": 6,
     "user": {
      "displayName": "전석환",
      "userId": "07131861431613450544"
     }
    },
    "outputId": "36c8045f-cf4f-4e1d-ef42-ee40171dc7df",
    "ExecuteTime": {
     "end_time": "2024-10-23T08:29:36.917225Z",
     "start_time": "2024-10-23T08:29:36.913541Z"
    }
   },
   "outputs": [
    {
     "data": {
      "text/plain": "'likelicklicklick'"
     },
     "execution_count": 9,
     "metadata": {},
     "output_type": "execute_result"
    }
   ],
   "source": [
    "## 重复字符串\n",
    "\n",
    "x + 3*y"
   ]
  },
  {
   "cell_type": "code",
   "execution_count": 10,
   "id": "c8558b0d",
   "metadata": {
    "colab": {
     "base_uri": "https://localhost:8080/"
    },
    "id": "c8558b0d",
    "executionInfo": {
     "status": "ok",
     "timestamp": 1727050828482,
     "user_tz": -540,
     "elapsed": 628,
     "user": {
      "displayName": "전석환",
      "userId": "07131861431613450544"
     }
    },
    "outputId": "feff720a-d72e-4729-c267-f51198fb315e",
    "ExecuteTime": {
     "end_time": "2024-10-23T08:30:03.166723Z",
     "start_time": "2024-10-23T08:30:03.162567Z"
    }
   },
   "outputs": [
    {
     "name": "stdout",
     "output_type": "stream",
     "text": [
      "8\n",
      "wangyang\n",
      "a\n",
      "wan\n",
      "gya\n",
      "a\n",
      "ang\n"
     ]
    }
   ],
   "source": [
    "## 查看部分字符串（切片）\n",
    "\n",
    "x = \"wangyang\"\n",
    "print(len(x)) \n",
    "print(x)      \n",
    "print(x[1])   \n",
    "print(x[:3])  \n",
    "print(x[3:6]) \n",
    "print(x[-3])  \n",
    "print(x[-3:]) "
   ]
  },
  {
   "cell_type": "markdown",
   "id": "ff03322a",
   "metadata": {
    "id": "ff03322a"
   },
   "source": [
    "## (실습) 문자열에 대해서 다양한 슬라이싱을 하는 예제를 작성하시오"
   ]
  },
  {
   "cell_type": "markdown",
   "id": "021b3ca0",
   "metadata": {
    "id": "021b3ca0"
   },
   "source": [
    "## (실습) 구구단을 출력하는 프로그램을 작성하시오"
   ]
  },
  {
   "cell_type": "markdown",
   "id": "e62d1163",
   "metadata": {
    "id": "e62d1163"
   },
   "source": [
    "### 문자열 조작, split과 join\n",
    "- 문자열을 공백, \"/\", \",\" 등을 기준으로 나누거나 합친다\n",
    "- 나누어진 항목은 리스트(list)에 저장된다 (리스트는 여러 데이터를 묶은 것)"
   ]
  },
  {
   "cell_type": "code",
   "execution_count": 10,
   "id": "a957734c",
   "metadata": {
    "colab": {
     "base_uri": "https://localhost:8080/"
    },
    "id": "a957734c",
    "executionInfo": {
     "status": "ok",
     "timestamp": 1727050828482,
     "user_tz": -540,
     "elapsed": 21,
     "user": {
      "displayName": "전석환",
      "userId": "07131861431613450544"
     }
    },
    "outputId": "0fe4a0a2-2710-4122-fc95-7303def7bd14"
   },
   "outputs": [
    {
     "output_type": "stream",
     "name": "stdout",
     "text": [
      "['김연아', '손흥민', '이선희', '유재석']\n",
      "['김연아', '손흥민', '이선희', '유재석']\n"
     ]
    }
   ],
   "source": [
    "## 문자열을 ','나 공백(스페이스) 등으로 나누기\n",
    "\n",
    "name1 = '김연아,손흥민,이선희,유재석'\n",
    "\n",
    "# ','로 나누기\n",
    "z = name1.split(',')\n",
    "print(z)\n",
    "\n",
    "# 스페이스로 나누기 (디폴트)\n",
    "name2 = '김연아 손흥민 이선희 유재석'\n",
    "print(name2.split())  # 디폴트로 공백을 기준으로 나눈다"
   ]
  },
  {
   "cell_type": "code",
   "execution_count": 11,
   "id": "6206236c",
   "metadata": {
    "colab": {
     "base_uri": "https://localhost:8080/",
     "height": 36
    },
    "id": "6206236c",
    "executionInfo": {
     "status": "ok",
     "timestamp": 1727050828483,
     "user_tz": -540,
     "elapsed": 15,
     "user": {
      "displayName": "전석환",
      "userId": "07131861431613450544"
     }
    },
    "outputId": "59d26223-44e5-4812-e2fd-7b91977d7a36"
   },
   "outputs": [
    {
     "output_type": "execute_result",
     "data": {
      "text/plain": [
       "'김연아;손흥민;이선희;유재석'"
      ],
      "application/vnd.google.colaboratory.intrinsic+json": {
       "type": "string"
      }
     },
     "metadata": {},
     "execution_count": 11
    }
   ],
   "source": [
    "## 단어 합치기\n",
    "\n",
    "';'.join(z)"
   ]
  },
  {
   "cell_type": "code",
   "execution_count": 12,
   "id": "fa98555c",
   "metadata": {
    "colab": {
     "base_uri": "https://localhost:8080/"
    },
    "id": "fa98555c",
    "executionInfo": {
     "status": "ok",
     "timestamp": 1727050828483,
     "user_tz": -540,
     "elapsed": 14,
     "user": {
      "displayName": "전석환",
      "userId": "07131861431613450544"
     }
    },
    "outputId": "449c243f-8ef6-4d55-bcce-c6e3561c00ea"
   },
   "outputs": [
    {
     "output_type": "stream",
     "name": "stdout",
     "text": [
      "['12', '31', '2023']\n",
      "31\n",
      "2023:12:31\n"
     ]
    }
   ],
   "source": [
    "## 날짜를 \"/\"를 기준으로 나누고 순서를 바꾸어서 합치기\n",
    "\n",
    "date = '12/31/2023'\n",
    "z = date.split('/')\n",
    "print(z)\n",
    "print(z[1])\n",
    "new_date = \":\".join((z[2], z[0], z[1]))\n",
    "print(new_date)"
   ]
  },
  {
   "cell_type": "code",
   "execution_count": 13,
   "id": "b7aae965",
   "metadata": {
    "colab": {
     "base_uri": "https://localhost:8080/"
    },
    "id": "b7aae965",
    "executionInfo": {
     "status": "ok",
     "timestamp": 1727050828483,
     "user_tz": -540,
     "elapsed": 13,
     "user": {
      "displayName": "전석환",
      "userId": "07131861431613450544"
     }
    },
    "outputId": "878ab7c8-74fe-415a-d73c-025961307350"
   },
   "outputs": [
    {
     "output_type": "stream",
     "name": "stdout",
     "text": [
      "오늘 기온은 \n"
     ]
    }
   ],
   "source": [
    "# 문자열 교체 (replace)\n",
    "\n",
    "x = \"오늘 날씨는 \"\n",
    "print(x.replace(\"날씨는\", \"기온은\"))"
   ]
  },
  {
   "cell_type": "markdown",
   "id": "b8c53925",
   "metadata": {
    "id": "b8c53925"
   },
   "source": [
    "### 문자열에 포맷( format) 사용하기\n",
    "- 문자열을 화면에 출력하는 방법(포맷)을 지정할 수 있다\n",
    "- 세가지 방법이 있다.\n",
    " - \"%\" 사용\n",
    " - format() 사용\n",
    " - f\"...\" 사용"
   ]
  },
  {
   "cell_type": "markdown",
   "id": "191988f7",
   "metadata": {
    "id": "191988f7"
   },
   "source": [
    "- %를 사용하는 방법"
   ]
  },
  {
   "cell_type": "code",
   "execution_count": 14,
   "id": "d927e7a7",
   "metadata": {
    "colab": {
     "base_uri": "https://localhost:8080/"
    },
    "id": "d927e7a7",
    "executionInfo": {
     "status": "ok",
     "timestamp": 1727050828483,
     "user_tz": -540,
     "elapsed": 13,
     "user": {
      "displayName": "전석환",
      "userId": "07131861431613450544"
     }
    },
    "outputId": "25d8cf6d-3ac0-4570-e3b0-b0ebd650c49f"
   },
   "outputs": [
    {
     "output_type": "stream",
     "name": "stdout",
     "text": [
      "틀린 갯수가 5개 이하이면 90.5 점입니다.\n",
      "틀린 갯수가 5개 이하이면 90.500000 점입니다.\n",
      "틀린 갯수가 5개 이하이면 90.5 점입니다.\n"
     ]
    }
   ],
   "source": [
    "## 문자열 내에 변수를 같이 출력하는 방법 (format)\n",
    "\n",
    "x = 5\n",
    "y = 90.5\n",
    "\n",
    "print(f\"틀린 갯수가 {x}개 이하이면 {y} 점입니다.\")\n",
    "print(\"틀린 갯수가 %d개 이하이면 %f 점입니다.\" %(x,y))\n",
    "print(\"틀린 갯수가 {0}개 이하이면 {1} 점입니다.\".format(x,y))"
   ]
  },
  {
   "cell_type": "markdown",
   "id": "be3195b4",
   "metadata": {
    "id": "be3195b4"
   },
   "source": [
    "## 불리언\n",
    "- 참과 거짓을 True, False로 표현\n",
    "- 대소문자를 구분함"
   ]
  },
  {
   "cell_type": "markdown",
   "id": "ff5918f8",
   "metadata": {
    "id": "ff5918f8"
   },
   "source": [
    "- \">\", \"<\", \"==\", \">=\",\"<=\" 등의 비교연산을 사용하여 불리언 값을 얻을 수 있다"
   ]
  },
  {
   "cell_type": "code",
   "execution_count": 15,
   "id": "49c1df5e",
   "metadata": {
    "colab": {
     "base_uri": "https://localhost:8080/"
    },
    "id": "49c1df5e",
    "executionInfo": {
     "status": "ok",
     "timestamp": 1727050828483,
     "user_tz": -540,
     "elapsed": 12,
     "user": {
      "displayName": "전석환",
      "userId": "07131861431613450544"
     }
    },
    "outputId": "46a80e43-f5de-4cbc-b631-27f3bdf6a7e7"
   },
   "outputs": [
    {
     "output_type": "stream",
     "name": "stdout",
     "text": [
      "False\n",
      "True\n"
     ]
    }
   ],
   "source": [
    "## 비교 연산의 결과는 논리형 값이다\n",
    "\n",
    "x = 5\n",
    "z = x < 1\n",
    "print(z)\n",
    "print(x > 0)"
   ]
  },
  {
   "cell_type": "code",
   "execution_count": 16,
   "id": "ceea3283",
   "metadata": {
    "colab": {
     "base_uri": "https://localhost:8080/"
    },
    "id": "ceea3283",
    "executionInfo": {
     "status": "ok",
     "timestamp": 1727050828483,
     "user_tz": -540,
     "elapsed": 12,
     "user": {
      "displayName": "전석환",
      "userId": "07131861431613450544"
     }
    },
    "outputId": "02827fae-bff4-4cd2-d774-9ec21f7bfd77"
   },
   "outputs": [
    {
     "output_type": "stream",
     "name": "stdout",
     "text": [
      "False\n",
      "True\n"
     ]
    }
   ],
   "source": [
    "## 논리형 연산 결과는 논리형 값이다\n",
    "\n",
    "a = True\n",
    "b = False\n",
    "print(a & b)# False\n",
    "print(a | b)# True"
   ]
  },
  {
   "cell_type": "markdown",
   "id": "a242e9b4",
   "metadata": {
    "id": "a242e9b4"
   },
   "source": [
    "### 불리언의 연산\n",
    "- 불리언 변수가 연산에 사용되면 True는 1로, False는 0으로 취급된다"
   ]
  },
  {
   "cell_type": "markdown",
   "id": "b49adaf8",
   "metadata": {
    "id": "b49adaf8"
   },
   "source": [
    "# 데이터 묶음\n",
    " - 숫자, 문자, 불리언 등 단변수들을 여러개 묶어 처리하는 방법\n",
    " - 리스트(list), 튜플(tuple), 사전(dictionary)"
   ]
  },
  {
   "cell_type": "markdown",
   "id": "5c04cea5",
   "metadata": {
    "id": "5c04cea5"
   },
   "source": [
    "## 리스트\n",
    " - 파이썬에서 가장 널리 사용되는 데이터 조작용 \"통\"\n",
    " - 리스트를 구성하는 각 항목의 데이터 타입은 서로 달라도 된다"
   ]
  },
  {
   "cell_type": "markdown",
   "id": "48439c31",
   "metadata": {
    "id": "48439c31"
   },
   "source": [
    "### 리스트 생성\n",
    " - 리스트를 만들려면 대괄호 \"[ ]\" 를 사용하고 각 항목을 ','로 구분한다\n",
    " - list() 함수로도 만들 수 있다"
   ]
  },
  {
   "cell_type": "markdown",
   "id": "1b0d26cc",
   "metadata": {
    "id": "1b0d26cc"
   },
   "source": [
    "### 슬라이싱\n",
    "- 리스트 내의 어떤 범위의 항목을 얻는다"
   ]
  },
  {
   "cell_type": "code",
   "execution_count": 17,
   "id": "bd813f7f",
   "metadata": {
    "colab": {
     "base_uri": "https://localhost:8080/"
    },
    "id": "bd813f7f",
    "outputId": "a4904fde-4937-45d0-f2e2-8bbb46421e68",
    "executionInfo": {
     "status": "ok",
     "timestamp": 1727050828483,
     "user_tz": -540,
     "elapsed": 11,
     "user": {
      "displayName": "전석환",
      "userId": "07131861431613450544"
     }
    }
   },
   "outputs": [
    {
     "output_type": "stream",
     "name": "stdout",
     "text": [
      "7\n",
      "[1, 2, 3, 30, 90, [100, 200], '김연아']\n",
      "2\n",
      "[1, 2, 3]\n",
      "[30, 90, [100, 200]]\n",
      "90\n",
      "[90, [100, 200], '김연아']\n"
     ]
    }
   ],
   "source": [
    "## 리스트 생성과 일부 항목 얻기\n",
    "\n",
    "a = 3\n",
    "b = 90\n",
    "small_list = [100,200]\n",
    "x = [1,2,a,a*10,b,small_list,'김연아']\n",
    "\n",
    "print(len(x)) # 리스트의 항목 수\n",
    "print(x)       # 전체 항목 보기\n",
    "print(x[1])   # 두 번째(1) 항목\n",
    "print(x[:3])  # 네 번재(3) 미만까지\n",
    "print(x[3:6]) # 네 번째(3) 이상 ~ 7번째(6) 미만\n",
    "print(x[-3])  # 뒤에서 세 번째(3) 항목\n",
    "print(x[-3:]) # 뒤에서 세 번째(3) 이후"
   ]
  },
  {
   "cell_type": "markdown",
   "id": "6dc16842",
   "metadata": {
    "id": "6dc16842"
   },
   "source": [
    "### 항목 추가 : append()"
   ]
  },
  {
   "cell_type": "code",
   "execution_count": 18,
   "id": "d365457b",
   "metadata": {
    "colab": {
     "base_uri": "https://localhost:8080/"
    },
    "id": "d365457b",
    "outputId": "f3c65f19-d4d5-4c2b-c9f2-65a8d2a3696d",
    "executionInfo": {
     "status": "ok",
     "timestamp": 1727050828483,
     "user_tz": -540,
     "elapsed": 11,
     "user": {
      "displayName": "전석환",
      "userId": "07131861431613450544"
     }
    }
   },
   "outputs": [
    {
     "output_type": "stream",
     "name": "stdout",
     "text": [
      "[1, 2, 3, 30, 90, [100, 200], '김연아']\n"
     ]
    },
    {
     "output_type": "execute_result",
     "data": {
      "text/plain": [
       "[1, 2, 3, 30, 90, [100, 200], '김연아', '손흥민', '손흥민']"
      ]
     },
     "metadata": {},
     "execution_count": 18
    }
   ],
   "source": [
    "## 리스트 맨 뒤에 항목 추가하기\n",
    "\n",
    "print(x)\n",
    "x.append('손흥민') # 맨 뒤에 추가된다\n",
    "x.append('손흥민') # 맨 뒤에 추가된다\n",
    "x"
   ]
  },
  {
   "cell_type": "code",
   "execution_count": 19,
   "id": "bd2f5014",
   "metadata": {
    "colab": {
     "base_uri": "https://localhost:8080/"
    },
    "id": "bd2f5014",
    "executionInfo": {
     "status": "ok",
     "timestamp": 1727050828483,
     "user_tz": -540,
     "elapsed": 10,
     "user": {
      "displayName": "전석환",
      "userId": "07131861431613450544"
     }
    },
    "outputId": "0fb087e5-0ff7-4c19-b432-df0ac6548d8b"
   },
   "outputs": [
    {
     "output_type": "execute_result",
     "data": {
      "text/plain": [
       "True"
      ]
     },
     "metadata": {},
     "execution_count": 19
    }
   ],
   "source": [
    "'김연아' in x"
   ]
  },
  {
   "cell_type": "code",
   "execution_count": 20,
   "id": "64283be5",
   "metadata": {
    "colab": {
     "base_uri": "https://localhost:8080/"
    },
    "id": "64283be5",
    "executionInfo": {
     "status": "ok",
     "timestamp": 1727050828483,
     "user_tz": -540,
     "elapsed": 10,
     "user": {
      "displayName": "전석환",
      "userId": "07131861431613450544"
     }
    },
    "outputId": "41c362e0-fb27-4567-bc73-9705ab95c4f8"
   },
   "outputs": [
    {
     "output_type": "stream",
     "name": "stdout",
     "text": [
      "True\n",
      "False\n",
      "True\n"
     ]
    }
   ],
   "source": [
    "## 리스트에 포함된 항목 확인하기\n",
    "\n",
    "x = [30,40,'김연아']\n",
    "print(30 in x)\n",
    "print(100 in x)\n",
    "print('김연아' in x)"
   ]
  },
  {
   "cell_type": "markdown",
   "id": "e88851d4",
   "metadata": {
    "id": "e88851d4"
   },
   "source": [
    "### 리스트 복제\n",
    "- 리스트 전체를 반복 복제 하려면 \"*\"를 사용한다"
   ]
  },
  {
   "cell_type": "code",
   "execution_count": 21,
   "id": "2fdb6f52",
   "metadata": {
    "colab": {
     "base_uri": "https://localhost:8080/"
    },
    "id": "2fdb6f52",
    "executionInfo": {
     "status": "ok",
     "timestamp": 1727050828483,
     "user_tz": -540,
     "elapsed": 9,
     "user": {
      "displayName": "전석환",
      "userId": "07131861431613450544"
     }
    },
    "outputId": "282059b5-4591-4358-cced-35a0c18a182b"
   },
   "outputs": [
    {
     "output_type": "execute_result",
     "data": {
      "text/plain": [
       "[0, 0, 0, 0, 0, 1, 1, 1, 1, 1]"
      ]
     },
     "metadata": {},
     "execution_count": 21
    }
   ],
   "source": [
    "## 리스트 복제 및 더하기\n",
    "\n",
    "a = [0] # 항목이 0 하나인 리스트\n",
    "b = [1] # 항목이 1 하나인 리스트\n",
    "z = a*5 + b*5\n",
    "z"
   ]
  },
  {
   "cell_type": "markdown",
   "id": "bde4a98b",
   "metadata": {
    "id": "bde4a98b"
   },
   "source": [
    "### 리스트 정렬, sorted\n",
    "- 숫자 또는 알파벳순으로 정렬한다"
   ]
  },
  {
   "cell_type": "code",
   "execution_count": 22,
   "id": "8394f8a0",
   "metadata": {
    "colab": {
     "base_uri": "https://localhost:8080/"
    },
    "id": "8394f8a0",
    "executionInfo": {
     "status": "ok",
     "timestamp": 1727050828483,
     "user_tz": -540,
     "elapsed": 9,
     "user": {
      "displayName": "전석환",
      "userId": "07131861431613450544"
     }
    },
    "outputId": "fa14d402-9509-4377-ded6-2fe8aa723cd7"
   },
   "outputs": [
    {
     "output_type": "stream",
     "name": "stdout",
     "text": [
      "[1, 2, 3, 4, 5]\n",
      "[5, 4, 3, 2, 1]\n",
      "['김연아', '박세리', '이선희']\n"
     ]
    }
   ],
   "source": [
    "## 리스트 순서 정렬하기\n",
    "\n",
    "x = [2,1,3,5,4]\n",
    "y = sorted(x)\n",
    "z = sorted(x, reverse=True)\n",
    "print(y)\n",
    "print(z)\n",
    "\n",
    "x = ['이선희', '김연아', '박세리']\n",
    "y = sorted(x)\n",
    "print(y)"
   ]
  },
  {
   "cell_type": "markdown",
   "id": "72a5dc1a",
   "metadata": {
    "id": "72a5dc1a"
   },
   "source": [
    "## 튜플 (tuple)\n",
    "- 튜플도 리스트처럼 여러 항목을 담을 수 있는 변수\n",
    "- 리스트와 달리 튜플의 내용은 '상수'로 취급되어 값을 바꿀 수 없다\n",
    "- 읽기 전용 리스트인 셈이며, 처리 속도가 빠르다\n",
    "- 튜플로 슬라이싱이 가능하다\n",
    "- 튜플을 만들려면 소괄호( )를 사용하여 만들거나 ( )  없이 \",\" 로 구분하여 나열한다"
   ]
  },
  {
   "cell_type": "code",
   "execution_count": 23,
   "id": "72c481a8",
   "metadata": {
    "colab": {
     "base_uri": "https://localhost:8080/"
    },
    "id": "72c481a8",
    "outputId": "4b47555c-d21f-4778-91b8-2713e7e35ab6",
    "executionInfo": {
     "status": "ok",
     "timestamp": 1727050828483,
     "user_tz": -540,
     "elapsed": 8,
     "user": {
      "displayName": "전석환",
      "userId": "07131861431613450544"
     }
    }
   },
   "outputs": [
    {
     "output_type": "stream",
     "name": "stdout",
     "text": [
      "(1, 2, 3, 1, 2, 3, 90, 'good')\n",
      "90\n",
      "True\n",
      "False\n"
     ]
    }
   ],
   "source": [
    "## 튜플 만들기, 복제, 합치기\n",
    "\n",
    "tuple_a = (1, 2, 3)\n",
    "tuple_b = 90,\"good\"\n",
    "z = tuple_a*2 + tuple_b\n",
    "print(z)\n",
    "print(z[-2])\n",
    "print(3 in z)\n",
    "print(4 in z)"
   ]
  },
  {
   "cell_type": "markdown",
   "id": "a77ccc1b",
   "metadata": {
    "id": "a77ccc1b"
   },
   "source": [
    "## 사전 (Dictionaries)\n",
    "- 키-값 조합 형태의 데이터 묶음\n",
    "- 간단한 데이터베이스처럼 사용된다\n",
    "- 항목을 찾을 때 키를 사용한다\n",
    "- 딕셔너리에서 저장된 순서는 의미가 없다\n",
    "- 딕셔너리는 중괄호 {  } 로 만들거나 dict()로 만든다"
   ]
  },
  {
   "cell_type": "code",
   "execution_count": 24,
   "id": "adf74da3",
   "metadata": {
    "colab": {
     "base_uri": "https://localhost:8080/"
    },
    "id": "adf74da3",
    "outputId": "c12138a8-ff4f-418e-8002-0b686ec1cb64",
    "executionInfo": {
     "status": "ok",
     "timestamp": 1727050828483,
     "user_tz": -540,
     "elapsed": 8,
     "user": {
      "displayName": "전석환",
      "userId": "07131861431613450544"
     }
    }
   },
   "outputs": [
    {
     "output_type": "stream",
     "name": "stdout",
     "text": [
      "3\n",
      "{'grade': 3, 'age': 28, 'name': 'kim', 'address': 'Seoul'}\n"
     ]
    }
   ],
   "source": [
    "## 딕셔너리 생성, 값변경, 항목 추가하기\n",
    "\n",
    "student = {'grade': 3,'age': 21,'name': \"kim\"  }\n",
    "print(student['grade'])\n",
    "student['age'] = 28\n",
    "student['address'] = 'Seoul'\n",
    "print(student)"
   ]
  },
  {
   "cell_type": "code",
   "execution_count": 25,
   "id": "9f55bb67",
   "metadata": {
    "colab": {
     "base_uri": "https://localhost:8080/"
    },
    "id": "9f55bb67",
    "outputId": "889a7e56-2d52-4db4-fb1e-c87b6c64174c",
    "executionInfo": {
     "status": "ok",
     "timestamp": 1727050828483,
     "user_tz": -540,
     "elapsed": 7,
     "user": {
      "displayName": "전석환",
      "userId": "07131861431613450544"
     }
    }
   },
   "outputs": [
    {
     "output_type": "stream",
     "name": "stdout",
     "text": [
      "dict_keys(['grade', 'age', 'name', 'address'])\n",
      "dict_values([3, 28, 'kim', 'Seoul'])\n",
      "dict_items([('grade', 3), ('age', 28), ('name', 'kim'), ('address', 'Seoul')])\n"
     ]
    }
   ],
   "source": [
    "## 딕셔너리의 키, 값, 항목 전체 출력하기\n",
    "\n",
    "print(student.keys())\n",
    "print(student.values())\n",
    "print(student.items())"
   ]
  },
  {
   "cell_type": "code",
   "execution_count": 26,
   "id": "83452982",
   "metadata": {
    "colab": {
     "base_uri": "https://localhost:8080/"
    },
    "id": "83452982",
    "executionInfo": {
     "status": "ok",
     "timestamp": 1727050828483,
     "user_tz": -540,
     "elapsed": 7,
     "user": {
      "displayName": "전석환",
      "userId": "07131861431613450544"
     }
    },
    "outputId": "f615b5d5-bfb2-4f41-b8ce-ee715f0b17c5"
   },
   "outputs": [
    {
     "output_type": "stream",
     "name": "stdout",
     "text": [
      "True\n",
      "False\n"
     ]
    }
   ],
   "source": [
    "## 딕셔너리에 특정 키가 존재하는지 확인하기\n",
    "\n",
    "print(\"age\" in student)\n",
    "print(\"sex\" in student)"
   ]
  },
  {
   "cell_type": "markdown",
   "id": "8257e1de",
   "metadata": {
    "id": "8257e1de"
   },
   "source": [
    "- 참고"
   ]
  },
  {
   "cell_type": "code",
   "execution_count": 27,
   "id": "d1f3e268",
   "metadata": {
    "colab": {
     "base_uri": "https://localhost:8080/"
    },
    "id": "d1f3e268",
    "executionInfo": {
     "status": "ok",
     "timestamp": 1727050828483,
     "user_tz": -540,
     "elapsed": 6,
     "user": {
      "displayName": "전석환",
      "userId": "07131861431613450544"
     }
    },
    "outputId": "591f1986-2a48-44ed-be22-41a85d34d969"
   },
   "outputs": [
    {
     "output_type": "execute_result",
     "data": {
      "text/plain": [
       "{'key1': 10, 'key2': 8, 'key3': 12, 'key4': 9}"
      ]
     },
     "metadata": {},
     "execution_count": 27
    }
   ],
   "source": [
    "d = {}\n",
    "d[\"key1\"] = 10\n",
    "d[\"key2\"] = 8\n",
    "d[\"key3\"] = 12\n",
    "d[\"key4\"] = 9\n",
    "d"
   ]
  },
  {
   "cell_type": "code",
   "execution_count": 28,
   "id": "6bc782f4",
   "metadata": {
    "colab": {
     "base_uri": "https://localhost:8080/"
    },
    "id": "6bc782f4",
    "executionInfo": {
     "status": "ok",
     "timestamp": 1727050828483,
     "user_tz": -540,
     "elapsed": 6,
     "user": {
      "displayName": "전석환",
      "userId": "07131861431613450544"
     }
    },
    "outputId": "3726a4f1-fec6-4316-e440-10cc1adc61ec"
   },
   "outputs": [
    {
     "output_type": "stream",
     "name": "stdout",
     "text": [
      "range(0, 10)\n",
      "[0, 1, 2, 3, 4, 5, 6, 7, 8, 9]\n",
      "range(2, 20, 3)\n",
      "[2, 5, 8, 11, 14, 17]\n"
     ]
    }
   ],
   "source": [
    "## 특수 변수 range와 내용 보기\n",
    "\n",
    "x = range(10)\n",
    "print(x)\n",
    "list_x = list(x)\n",
    "print(list_x)\n",
    "\n",
    "y = range(2,20,3)\n",
    "print(y)\n",
    "print(list(y))"
   ]
  },
  {
   "cell_type": "markdown",
   "id": "302cc8b2-954e-43bb-b2f6-50ff1b67958c",
   "metadata": {
    "id": "302cc8b2-954e-43bb-b2f6-50ff1b67958c"
   },
   "source": [
    "## 집합 (set)\n",
    "* 순서가 없다: 요소의 순서를 유지하지 않으며, 인덱스로 접근할 수 없습니다.\n",
    "* 중복을 허용하지 않는다: 동일한 값이 여러 번 저장될 수 없으며, 중복된 항목은 자동으로 제거됩니다.\n",
    "* 변경 가능(mutable): 요소를 추가하거나 제거할 수 있습니다.\n",
    "* 빠른 검색: 해시 기반 구조로, 항목을 빠르게 검색할 수 있습니다.\n",
    "* 집합 연산 지원: 합집합, 교집합, 차집합 등의 수학적 집합 연산을 쉽게 수행할 수 있습니다.\n",
    "* frozenset: 변경할 수 없는 불변 집합 타입도 제공됩니다."
   ]
  },
  {
   "cell_type": "code",
   "execution_count": 29,
   "id": "672caf65-4fcb-4a91-bffe-e66b445818e1",
   "metadata": {
    "colab": {
     "base_uri": "https://localhost:8080/"
    },
    "id": "672caf65-4fcb-4a91-bffe-e66b445818e1",
    "executionInfo": {
     "status": "ok",
     "timestamp": 1727050828985,
     "user_tz": -540,
     "elapsed": 507,
     "user": {
      "displayName": "전석환",
      "userId": "07131861431613450544"
     }
    },
    "outputId": "0fde7744-2a3a-427f-e144-29583239b5ab"
   },
   "outputs": [
    {
     "output_type": "stream",
     "name": "stdout",
     "text": [
      "{'banana', 'cherry', 'apple'}\n",
      "set()\n",
      "{1, 2, 3, 4}\n"
     ]
    }
   ],
   "source": [
    "# set 생성\n",
    "fruits = {\"apple\", \"banana\", \"cherry\"}\n",
    "empty_set = set()  # 빈 집합 생성\n",
    "\n",
    "# 중복된 값은 자동으로 제거됨\n",
    "numbers = {1, 2, 2, 3, 4}\n",
    "\n",
    "print(fruits)\n",
    "print(empty_set)\n",
    "print(numbers)"
   ]
  },
  {
   "cell_type": "code",
   "execution_count": 30,
   "id": "1f1316b9-f053-4489-8795-84cfa4ad3a84",
   "metadata": {
    "colab": {
     "base_uri": "https://localhost:8080/"
    },
    "id": "1f1316b9-f053-4489-8795-84cfa4ad3a84",
    "executionInfo": {
     "status": "ok",
     "timestamp": 1727050828986,
     "user_tz": -540,
     "elapsed": 6,
     "user": {
      "displayName": "전석환",
      "userId": "07131861431613450544"
     }
    },
    "outputId": "b33c3216-cd7c-4741-926a-2693e5c30eb7"
   },
   "outputs": [
    {
     "output_type": "stream",
     "name": "stdout",
     "text": [
      "{1, 2, 3, 4, 5, 6}\n",
      "{3, 4}\n",
      "{1, 2}\n",
      "{1, 2, 5, 6}\n"
     ]
    }
   ],
   "source": [
    "set1 = {1, 2, 3, 4}\n",
    "set2 = {3, 4, 5, 6}\n",
    "\n",
    "# 합집합\n",
    "print(set1 | set2)  # {1, 2, 3, 4, 5, 6}\n",
    "\n",
    "# 교집합\n",
    "print(set1 & set2)  # {3, 4}\n",
    "\n",
    "# 차집합\n",
    "print(set1 - set2)  # {1, 2}\n",
    "\n",
    "# 대칭차집합\n",
    "print(set1 ^ set2)  # {1, 2, 5, 6}\n"
   ]
  },
  {
   "cell_type": "markdown",
   "id": "59bd8023",
   "metadata": {
    "id": "59bd8023"
   },
   "source": [
    "\n",
    "\n",
    "# 프로그램 흐름"
   ]
  },
  {
   "cell_type": "markdown",
   "id": "8d439ad7",
   "metadata": {
    "id": "8d439ad7"
   },
   "source": [
    "## if\n",
    "- if 문 다음이 True이면 \":\" 이후 블록을 실행한다\n",
    "- 블록은 들여쓰기가 같은 영역으로 구분한다\n",
    "- else: 문을 사용할 수도 있다.\n",
    "- if 뒤에는 불리언이 필요하다"
   ]
  },
  {
   "cell_type": "code",
   "execution_count": 31,
   "id": "09599db0",
   "metadata": {
    "colab": {
     "base_uri": "https://localhost:8080/"
    },
    "id": "09599db0",
    "executionInfo": {
     "status": "ok",
     "timestamp": 1727050828986,
     "user_tz": -540,
     "elapsed": 5,
     "user": {
      "displayName": "전석환",
      "userId": "07131861431613450544"
     }
    },
    "outputId": "5c7b1ea8-0925-4a71-d6ae-f7e4fcfafdab"
   },
   "outputs": [
    {
     "output_type": "stream",
     "name": "stdout",
     "text": [
      "축하합니다~ 합격입니다\n",
      "다음주부터 출근하시면 됩니다.\n"
     ]
    }
   ],
   "source": [
    "## 기본적인 if, elif, else 사용법\n",
    "\n",
    "x = 90\n",
    "\n",
    "if x > 80:\n",
    "    print(\"축하합니다~ 합격입니다\")\n",
    "    print(\"다음주부터 출근하시면 됩니다.\")\n",
    "elif x > 60:\n",
    "    print(\"2차 면접시험 대상자 입니다.\")\n",
    "    print(\"시험 날짜를 알려드리겠습니다.\")\n",
    "else:\n",
    "    print(\"불합격입니다.\")"
   ]
  },
  {
   "cell_type": "markdown",
   "id": "235f183d",
   "metadata": {
    "id": "235f183d"
   },
   "source": [
    "### in 사용하여 불리언 얻기"
   ]
  },
  {
   "cell_type": "markdown",
   "id": "77c94958",
   "metadata": {
    "id": "77c94958"
   },
   "source": [
    "## for\n",
    "- 특정 조건이 만족되는 동안 \":\" 이후의 블록을 수행\n",
    "- 수행할 블록은 들여쓰기로 구분한다"
   ]
  },
  {
   "cell_type": "code",
   "execution_count": 32,
   "id": "b3fc3e51",
   "metadata": {
    "colab": {
     "base_uri": "https://localhost:8080/"
    },
    "id": "b3fc3e51",
    "executionInfo": {
     "status": "ok",
     "timestamp": 1727050828986,
     "user_tz": -540,
     "elapsed": 5,
     "user": {
      "displayName": "전석환",
      "userId": "07131861431613450544"
     }
    },
    "outputId": "b3e92c12-c806-4059-822e-b8fc21579b92"
   },
   "outputs": [
    {
     "output_type": "stream",
     "name": "stdout",
     "text": [
      "10\n",
      "20\n",
      "30\n",
      "40\n",
      "50\n"
     ]
    }
   ],
   "source": [
    "## 1~5 사이의 정수에 10을 곱하기\n",
    "\n",
    "for i in range(1,6):\n",
    "    print(i*10)"
   ]
  },
  {
   "cell_type": "markdown",
   "id": "61dcd73a",
   "metadata": {
    "id": "61dcd73a"
   },
   "source": [
    "### 리스트 내에서 for 사용하기"
   ]
  },
  {
   "cell_type": "code",
   "execution_count": 33,
   "id": "2a961ea2",
   "metadata": {
    "colab": {
     "base_uri": "https://localhost:8080/"
    },
    "id": "2a961ea2",
    "executionInfo": {
     "status": "ok",
     "timestamp": 1727050828986,
     "user_tz": -540,
     "elapsed": 4,
     "user": {
      "displayName": "전석환",
      "userId": "07131861431613450544"
     }
    },
    "outputId": "afbef884-478a-46f9-ca1d-78bfadef3e13"
   },
   "outputs": [
    {
     "output_type": "stream",
     "name": "stdout",
     "text": [
      "[10, 20, 30, 40, 50]\n"
     ]
    }
   ],
   "source": [
    "## 리스트 선언문 내에서 for를 사용하는 방법\n",
    "\n",
    "z = [i*10 for i in range(1,6)]\n",
    "print(z)"
   ]
  },
  {
   "cell_type": "code",
   "execution_count": 34,
   "id": "d9af1e6e",
   "metadata": {
    "colab": {
     "base_uri": "https://localhost:8080/"
    },
    "id": "d9af1e6e",
    "executionInfo": {
     "status": "ok",
     "timestamp": 1727050828986,
     "user_tz": -540,
     "elapsed": 4,
     "user": {
      "displayName": "전석환",
      "userId": "07131861431613450544"
     }
    },
    "outputId": "29a74f1d-a2ae-4bef-bb79-2b056daad960"
   },
   "outputs": [
    {
     "output_type": "stream",
     "name": "stdout",
     "text": [
      "----------------------\n",
      "불합격입니다.\n",
      "----------------------\n",
      "2차 면접시험 대상자 입니다.\n",
      "시험 날짜를 알려드리겠습니다.\n",
      "----------------------\n",
      "축하합니다~ 합격입니다\n",
      "다음주부터 출근하시면 됩니다.\n"
     ]
    }
   ],
   "source": [
    "## for 문을 사용하여 채점 결과를 알려주는 코드\n",
    "\n",
    "score = [50, 70, 90]\n",
    "for x in score:\n",
    "    print('----------------------')\n",
    "    if x > 80:\n",
    "        print(\"축하합니다~ 합격입니다\")\n",
    "        print(\"다음주부터 출근하시면 됩니다.\")\n",
    "    elif x > 60:\n",
    "        print(\"2차 면접시험 대상자 입니다.\")\n",
    "        print(\"시험 날짜를 알려드리겠습니다.\")\n",
    "    else:\n",
    "        print(\"불합격입니다.\")"
   ]
  },
  {
   "cell_type": "code",
   "execution_count": 35,
   "id": "8490d22b",
   "metadata": {
    "colab": {
     "base_uri": "https://localhost:8080/"
    },
    "id": "8490d22b",
    "executionInfo": {
     "status": "ok",
     "timestamp": 1727050828986,
     "user_tz": -540,
     "elapsed": 4,
     "user": {
      "displayName": "전석환",
      "userId": "07131861431613450544"
     }
    },
    "outputId": "597b7586-c88e-4767-e053-645292d7df8f"
   },
   "outputs": [
    {
     "output_type": "stream",
     "name": "stdout",
     "text": [
      "----------------------\n",
      "1 번째 응시자님:\n",
      "불합격입니다.\n",
      "----------------------\n",
      "2 번째 응시자님:\n",
      "2차 면접시험 대상자 입니다.\n",
      "시험 날짜를 알려드리겠습니다.\n",
      "----------------------\n",
      "3 번째 응시자님:\n",
      "축하합니다~ 합격입니다\n",
      "다음주부터 출근하시면 됩니다.\n"
     ]
    }
   ],
   "source": [
    "## 리스트의 인덱스를 얻는 enumerate() 사용예\n",
    "\n",
    "score = [50, 70, 90]\n",
    "\n",
    "for i, x in enumerate([50, 70, 90]):\n",
    "    print('----------------------')\n",
    "    print(i+1, \"번째 응시자님:\")\n",
    "    if x > 80:\n",
    "        print(\"축하합니다~ 합격입니다\")\n",
    "        print(\"다음주부터 출근하시면 됩니다.\")\n",
    "    elif x > 60:\n",
    "        print(\"2차 면접시험 대상자 입니다.\")\n",
    "        print(\"시험 날짜를 알려드리겠습니다.\")\n",
    "    else:\n",
    "        print(\"불합격입니다.\")"
   ]
  },
  {
   "cell_type": "code",
   "execution_count": 36,
   "id": "71ef153d",
   "metadata": {
    "colab": {
     "base_uri": "https://localhost:8080/"
    },
    "id": "71ef153d",
    "executionInfo": {
     "status": "ok",
     "timestamp": 1727050828986,
     "user_tz": -540,
     "elapsed": 3,
     "user": {
      "displayName": "전석환",
      "userId": "07131861431613450544"
     }
    },
    "outputId": "02b73d61-e904-44ad-ae52-d1657768d079"
   },
   "outputs": [
    {
     "output_type": "stream",
     "name": "stdout",
     "text": [
      "[(0, 'kim'), (1, 'park'), (2, 'lee')]\n",
      "1 번째 사람 이름은 kim입니다\n",
      "2 번째 사람 이름은 park입니다\n",
      "3 번째 사람 이름은 lee입니다\n"
     ]
    }
   ],
   "source": [
    "## enumerate 사용 예\n",
    "\n",
    "names = [\"kim\", \"park\", \"lee\"]\n",
    "print(list(enumerate(names)))\n",
    "\n",
    "for i, name in enumerate(names):\n",
    "    print(f\"{i+1} 번째 사람 이름은 {name}입니다\")"
   ]
  },
  {
   "cell_type": "code",
   "execution_count": 37,
   "id": "b0ecdcc3",
   "metadata": {
    "colab": {
     "base_uri": "https://localhost:8080/"
    },
    "id": "b0ecdcc3",
    "executionInfo": {
     "status": "ok",
     "timestamp": 1727050828986,
     "user_tz": -540,
     "elapsed": 3,
     "user": {
      "displayName": "전석환",
      "userId": "07131861431613450544"
     }
    },
    "outputId": "b749949e-85ef-4dd5-da70-6444ef8970d7"
   },
   "outputs": [
    {
     "output_type": "stream",
     "name": "stdout",
     "text": [
      "True\n",
      "True\n"
     ]
    }
   ],
   "source": [
    "## 문자열에 문자열 포함 확인하기\n",
    "\n",
    "s = 'I am happy'\n",
    "print('happy' in s)\n",
    "print('hap' in s)"
   ]
  },
  {
   "cell_type": "code",
   "execution_count": 38,
   "id": "f0c8db44",
   "metadata": {
    "colab": {
     "base_uri": "https://localhost:8080/"
    },
    "id": "f0c8db44",
    "executionInfo": {
     "status": "ok",
     "timestamp": 1727050828986,
     "user_tz": -540,
     "elapsed": 3,
     "user": {
      "displayName": "전석환",
      "userId": "07131861431613450544"
     }
    },
    "outputId": "31ccf378-511a-45bc-ea99-61ab57c235de"
   },
   "outputs": [
    {
     "output_type": "stream",
     "name": "stdout",
     "text": [
      "['cat001', 'cat002']\n"
     ]
    }
   ],
   "source": [
    "## 특정 문자열이 포함된 항목을 찾아서 리스트를 만들기\n",
    "\n",
    "files = ['cat001', 'cat002', 'dog003', 'dog004']\n",
    "match = 'cat'\n",
    "new_list = [s for s in files if match in s]\n",
    "print(new_list)"
   ]
  },
  {
   "cell_type": "code",
   "execution_count": 39,
   "id": "d84073ba-8127-4e5f-8761-038b5d4f7b54",
   "metadata": {
    "colab": {
     "base_uri": "https://localhost:8080/"
    },
    "id": "d84073ba-8127-4e5f-8761-038b5d4f7b54",
    "executionInfo": {
     "status": "ok",
     "timestamp": 1727050828986,
     "user_tz": -540,
     "elapsed": 2,
     "user": {
      "displayName": "전석환",
      "userId": "07131861431613450544"
     }
    },
    "outputId": "22d52add-2c9e-41a7-e870-5b93f9a173d7"
   },
   "outputs": [
    {
     "output_type": "stream",
     "name": "stdout",
     "text": [
      "0\n",
      "1\n",
      "2\n",
      "3\n",
      "4\n"
     ]
    }
   ],
   "source": [
    "count = 0\n",
    "\n",
    "while count < 5:\n",
    "    print(count)\n",
    "    count += 1"
   ]
  },
  {
   "cell_type": "markdown",
   "id": "ca8c9489",
   "metadata": {
    "id": "ca8c9489"
   },
   "source": [
    "## (실습) while, continue, break를 사용하는 예제를 작성하시오"
   ]
  },
  {
   "cell_type": "code",
   "execution_count": 39,
   "id": "c3853a25",
   "metadata": {
    "id": "c3853a25",
    "executionInfo": {
     "status": "ok",
     "timestamp": 1727050828986,
     "user_tz": -540,
     "elapsed": 2,
     "user": {
      "displayName": "전석환",
      "userId": "07131861431613450544"
     }
    }
   },
   "outputs": [],
   "source": []
  }
 ],
 "metadata": {
  "kernelspec": {
   "display_name": "Python 3 (ipykernel)",
   "language": "python",
   "name": "python3"
  },
  "language_info": {
   "codemirror_mode": {
    "name": "ipython",
    "version": 3
   },
   "file_extension": ".py",
   "mimetype": "text/x-python",
   "name": "python",
   "nbconvert_exporter": "python",
   "pygments_lexer": "ipython3",
   "version": "3.12.4"
  },
  "toc": {
   "base_numbering": 1,
   "nav_menu": {},
   "number_sections": false,
   "sideBar": true,
   "skip_h1_title": false,
   "title_cell": "Table of Contents",
   "title_sidebar": "Contents",
   "toc_cell": false,
   "toc_position": {
    "height": "calc(100% - 180px)",
    "left": "10px",
    "top": "150px",
    "width": "187.351px"
   },
   "toc_section_display": true,
   "toc_window_display": true
  },
  "colab": {
   "provenance": []
  }
 },
 "nbformat": 4,
 "nbformat_minor": 5
}
