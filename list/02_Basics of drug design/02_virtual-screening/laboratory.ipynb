{
 "cells": [
  {
   "metadata": {},
   "cell_type": "markdown",
   "source": [
    "# Virtual Screening\n",
    "# 虚拟筛选"
   ],
   "id": "3baf9400ff785295"
  },
  {
   "cell_type": "code",
   "execution_count": 1,
   "id": "7aa51028",
   "metadata": {},
   "outputs": [],
   "source": [
    "import sys\n",
    "sys.path.append('..')"
   ]
  },
  {
   "metadata": {
    "ExecuteTime": {
     "end_time": "2024-10-13T08:56:14.761060Z",
     "start_time": "2024-10-13T08:56:14.752921Z"
    }
   },
   "cell_type": "code",
   "source": [
    "from pathlib import Path\n",
    "import os\n",
    "\n",
    "# 获取当前工作目录\n",
    "HERE = Path(os.getcwd())\n",
    "DATA = HERE / 'data'\n",
    "if not DATA.exists():\n",
    "    DATA.mkdir(parents=True, exist_ok=True)\n",
    "print(DATA)"
   ],
   "id": "425ad2cd69c1f974",
   "outputs": [
    {
     "name": "stdout",
     "output_type": "stream",
     "text": [
      "/Users/wangyang/Desktop/AI-drug-design/list/02_Basics of drug design/02_virtual-screening/data\n"
     ]
    }
   ],
   "execution_count": 1
  },
  {
   "cell_type": "markdown",
   "id": "39fed690",
   "metadata": {},
   "source": [
    "# 药物发现过程\n",
    "\n",
    "---\n",
    "\n",
    "我们准备开始开发我们的药物发现平台。在之前的工作中，我们学习了创建简单的ADMET预测器。我们训练了溶解度预测模型(回归)和血脑屏障通透性预测模型(分类)。本周，我们将下载活性数据，训练基于配体的活性预测模型。该模型将帮助我们发现与我们的靶标结合的命中点，这是药物设计过程中的第一步。\n",
    "\n",
    "![drug discovery process overview](mldd_diagram_lab2.png)\n",
    "\n",
    "# Key Molecular Properties in Drug Design\n",
    "\n",
    "---\n",
    "\n",
    "药物设计是一个需要考虑多个参数的过程。首先，该分子需要具有一定的活性，即与其生物靶标相互作用，从而产生一定的治疗效果。其次，该分子还应该具有ADMET (吸收、分布、代谢、排泄和毒性)术语下已知的一组其他理想的分子性质。这些性质保证了我们的化合物会达到它的目标，并且不会产生任何副作用。\n",
    "\n",
    "## Activity\n",
    "\n",
    "化合物的生物活性是在实验室中通过进行生物**测定**测定的，以测试我们的分子与其生物靶点的结合和相互作用。测定可以使用蛋白质或全细胞进行，并且可以进行多种类型的活性测量。例如，我们只能测试分子是否与目标结合，或寻找引起理想效果或抑制的特定相互作用。活动值通常表示为：\n",
    "\n",
    "- **EC$_{50}$**/**IC$_{50}$** - 达到半数效应或抑制(阻断)的分子浓度；这个值越低，分子诱导的效应越强。\n",
    "- **Ki** - 抑制常数，用来衡量结合亲和力；再次，较低的值对应较强的约束力。\n",
    "- **Inhibition in %** - 抑制蛋白的百分比。\n",
    "\n",
    "通常，XC$_{50}$和Ki值被转换为负对数尺度。这用活动类型前面的字母“*p*”表示。此操作减少了极高值的影响。在此转换后，更高的值对应于更强的活动。\n",
    "\n",
    "For example, pIC$_{50}$ = $-\\log_{10} $ IC$_{50}$.\n",
    "\n",
    "\n",
    "## ADMET\n",
    "\n",
    "有无数的化学性质可以测量，以确保我们分子的成功。根据药物靶点，我们可能想要优化不同的ADMET特性。如果我们的药物需要在中枢神经系统中发挥作用，我们需要检查**血脑屏障渗透性**。其他口服药物需要**在肠道中吸收**。我们的分子需要**代谢稳定**，这意味着它在到达目的地之前不会被代谢。另一方面，我们需要确保它最终被代谢，并且不会在机体中积累。最终，药物不能**有毒**或通过与其他生物靶点（**非靶点**）相互作用而诱发任何严重的副作用。这是一个难以优化的特性，因为毒性是一种非特异性特性——有许多可能的相互作用会导致毒性，例如**hERG抑制**导致严重的心脏毒性（钾离子通道堵塞将导致心力衰竭）。\n",
    "\n",
    "---\n",
    "\n",
    "<div style=\"display: flex; justify-content: space-between\">\n",
    "    <div style=\"width: 100%; display: inline-block; margin: 20px\">\n",
    "        <p><strong>我是半吊子(这一块有错误的，请您们指出):</strong> 你好!作为一名专门从事药物化学AIDD的二愣子(半路出家)，我很兴奋地解释了测定化合物效价和结合亲和力的IC50和Ki值的关键过程。在我们的实验中，我们精心设计了微孔板实验，制备了不同浓度的化合物溶液，包括对照，并与我们的目标酶、蛋白质或受体孵育。我们根据目标物的性质采用不同的实验类型，如酶抑制实验、受体结合实验和基于细胞的实验。孵育后，我们测量了酶活性或荧光等活性读数。IC50值是通过分析测量数据产生的剂量-反应曲线来确定的，通常是通过非线性回归，确定其浓度</p>\n",
    "    </div>\n",
    "</div>\n",
    "<div style=\"width: 80%; display: block; margin: 0 20px 0\">\n",
    "    <p>在设置化合物筛选实验时，仔细的平板设计对结果准确可靠至关重要。每个平板应包括不同浓度的化合物溶液，以及阳性和阴性对照，以验证分析性能。每个条件和技术控制的复制有助于评估实验的可变性，并保证数据的稳健性。将化合物和对照品在整个板上的放置随机化，可以最大限度地减少系统误差，同时避免边缘效应，保持一致性。对板块布局进行细致的记录便于数据分析。中试实验优化检测条件并确认灵敏度。质量控制措施保证了整个筛查过程中检测结果的可靠性。这种综合方法提高了效率。</p>\n",
    "    </div>\n",
    "\n",
    "---"
   ]
  },
  {
   "cell_type": "markdown",
   "id": "48922344",
   "metadata": {},
   "source": [
    "# ChEMBL\n",
    "\n",
    "[ChEMBL](https://www.ebi.ac.uk/chembl/) 是生物活性化合物的公共数据库。这里收集了实验测量的数据点，它们可以用于训练机器学习模型。需要说明的是，该数据库是手工整理的，数据来源于出版物和专利。这些数据的质量并不总是完美的，并且根据实验地点的不同，同一化合物可能具有多个截然不同的活性值。有时这些值可能包含错误，要么是人为造成的，要么是源文件的不正确解析。\n",
    "\n",
    "![assay](https://upload.wikimedia.org/wikipedia/commons/thumb/a/a0/96_well_plate.jpg/1599px-96_well_plate.jpg)"
   ]
  },
  {
   "cell_type": "markdown",
   "id": "7c10da50",
   "metadata": {},
   "source": "从ChEMBL中提取的活动数据可用于训练ML模型。由于我们使用了结构信息(指纹图谱或分子图)，这些模型也被称为**QSAR模型**，其中QSAR代表定量结构-活性关系。"
  },
  {
   "cell_type": "markdown",
   "id": "fca4ef60",
   "metadata": {},
   "source": [
    "* *练习1 . * *选择下面的一个目标，从ChEMBL下载这个目标的活动数据。使用其中一种活动类型( e.g. Ki或IC$_{50}$)来训练ML模型。对数据进行拆分，并将评价结果打印在测试集上。\n",
    "- MAO-B (单胺氧化酶B) -其抑制剂可用于治疗帕金森病的症状\n",
    "- ACE2 (血管紧张素转换酶2) -作为SARS - CoV - 2的切入点\n",
    "- COX-2 (环氧合酶2 ) -非甾体类抗炎药的靶点\n",
    "- 5-HT3( 5 -羟色胺受体3) -止吐药(抗呕吐、抗恶心药物)的共同靶点\n",
    "- hERG -钾离子通道，常与心脏毒性有关(抑制时)"
   ]
  },
  {
   "cell_type": "code",
   "id": "643593fc",
   "metadata": {
    "ExecuteTime": {
     "end_time": "2024-10-13T09:10:22.321137Z",
     "start_time": "2024-10-13T09:09:53.691919Z"
    }
   },
   "source": [
    "import pandas as pd\n",
    "import matplotlib.pyplot as plt\n",
    "import numpy as np\n",
    "from rdkit import Chem\n",
    "from rdkit.Chem import AllChem"
   ],
   "outputs": [],
   "execution_count": 2
  },
  {
   "cell_type": "code",
   "id": "4dac5ae8",
   "metadata": {
    "ExecuteTime": {
     "end_time": "2024-10-13T09:24:27.713764Z",
     "start_time": "2024-10-13T09:24:27.665572Z"
    }
   },
   "source": [
    "pd.set_option('display.max_columns', None)\n",
    "data_path = DATA / 'bioactivities.csv'  \n",
    "df = pd.read_csv(data_path, sep=',')\n",
    "df.head()"
   ],
   "outputs": [
    {
     "data": {
      "text/plain": [
       "   activity_id assay_chembl_id  \\\n",
       "0        32262    CHEMBL816964   \n",
       "1        32335    CHEMBL817617   \n",
       "2        33033    CHEMBL812621   \n",
       "3        33408    CHEMBL816964   \n",
       "4        34276    CHEMBL812621   \n",
       "\n",
       "                                   assay_description assay_type  \\\n",
       "0  Inhibition of tyrosine phosphorylation in cell...          B   \n",
       "1  Inhibition of Vascular endothelial growth fact...          B   \n",
       "2  Inhibitory activity towards vascular endotheli...          B   \n",
       "3  Inhibition of tyrosine phosphorylation in cell...          B   \n",
       "4  Inhibitory activity towards vascular endotheli...          B   \n",
       "\n",
       "  molecule_chembl_id relation standard_units  standard_value target_chembl_id  \\\n",
       "0        CHEMBL68920        =             nM         16500.0        CHEMBL279   \n",
       "1        CHEMBL69638        =             nM          7100.0        CHEMBL279   \n",
       "2       CHEMBL419526        =             nM          1880.0        CHEMBL279   \n",
       "3       CHEMBL443268        =             nM         10100.0        CHEMBL279   \n",
       "4       CHEMBL330621        =             nM            19.0        CHEMBL279   \n",
       "\n",
       "  target_organism  type units   value  \n",
       "0    Homo sapiens  IC50    uM    16.5  \n",
       "1    Homo sapiens  IC50    uM     7.1  \n",
       "2    Homo sapiens  IC50    nM  1880.0  \n",
       "3    Homo sapiens  IC50    uM    10.1  \n",
       "4    Homo sapiens  IC50    nM    19.0  "
      ],
      "text/html": [
       "<div>\n",
       "<style scoped>\n",
       "    .dataframe tbody tr th:only-of-type {\n",
       "        vertical-align: middle;\n",
       "    }\n",
       "\n",
       "    .dataframe tbody tr th {\n",
       "        vertical-align: top;\n",
       "    }\n",
       "\n",
       "    .dataframe thead th {\n",
       "        text-align: right;\n",
       "    }\n",
       "</style>\n",
       "<table border=\"1\" class=\"dataframe\">\n",
       "  <thead>\n",
       "    <tr style=\"text-align: right;\">\n",
       "      <th></th>\n",
       "      <th>activity_id</th>\n",
       "      <th>assay_chembl_id</th>\n",
       "      <th>assay_description</th>\n",
       "      <th>assay_type</th>\n",
       "      <th>molecule_chembl_id</th>\n",
       "      <th>relation</th>\n",
       "      <th>standard_units</th>\n",
       "      <th>standard_value</th>\n",
       "      <th>target_chembl_id</th>\n",
       "      <th>target_organism</th>\n",
       "      <th>type</th>\n",
       "      <th>units</th>\n",
       "      <th>value</th>\n",
       "    </tr>\n",
       "  </thead>\n",
       "  <tbody>\n",
       "    <tr>\n",
       "      <th>0</th>\n",
       "      <td>32262</td>\n",
       "      <td>CHEMBL816964</td>\n",
       "      <td>Inhibition of tyrosine phosphorylation in cell...</td>\n",
       "      <td>B</td>\n",
       "      <td>CHEMBL68920</td>\n",
       "      <td>=</td>\n",
       "      <td>nM</td>\n",
       "      <td>16500.0</td>\n",
       "      <td>CHEMBL279</td>\n",
       "      <td>Homo sapiens</td>\n",
       "      <td>IC50</td>\n",
       "      <td>uM</td>\n",
       "      <td>16.5</td>\n",
       "    </tr>\n",
       "    <tr>\n",
       "      <th>1</th>\n",
       "      <td>32335</td>\n",
       "      <td>CHEMBL817617</td>\n",
       "      <td>Inhibition of Vascular endothelial growth fact...</td>\n",
       "      <td>B</td>\n",
       "      <td>CHEMBL69638</td>\n",
       "      <td>=</td>\n",
       "      <td>nM</td>\n",
       "      <td>7100.0</td>\n",
       "      <td>CHEMBL279</td>\n",
       "      <td>Homo sapiens</td>\n",
       "      <td>IC50</td>\n",
       "      <td>uM</td>\n",
       "      <td>7.1</td>\n",
       "    </tr>\n",
       "    <tr>\n",
       "      <th>2</th>\n",
       "      <td>33033</td>\n",
       "      <td>CHEMBL812621</td>\n",
       "      <td>Inhibitory activity towards vascular endotheli...</td>\n",
       "      <td>B</td>\n",
       "      <td>CHEMBL419526</td>\n",
       "      <td>=</td>\n",
       "      <td>nM</td>\n",
       "      <td>1880.0</td>\n",
       "      <td>CHEMBL279</td>\n",
       "      <td>Homo sapiens</td>\n",
       "      <td>IC50</td>\n",
       "      <td>nM</td>\n",
       "      <td>1880.0</td>\n",
       "    </tr>\n",
       "    <tr>\n",
       "      <th>3</th>\n",
       "      <td>33408</td>\n",
       "      <td>CHEMBL816964</td>\n",
       "      <td>Inhibition of tyrosine phosphorylation in cell...</td>\n",
       "      <td>B</td>\n",
       "      <td>CHEMBL443268</td>\n",
       "      <td>=</td>\n",
       "      <td>nM</td>\n",
       "      <td>10100.0</td>\n",
       "      <td>CHEMBL279</td>\n",
       "      <td>Homo sapiens</td>\n",
       "      <td>IC50</td>\n",
       "      <td>uM</td>\n",
       "      <td>10.1</td>\n",
       "    </tr>\n",
       "    <tr>\n",
       "      <th>4</th>\n",
       "      <td>34276</td>\n",
       "      <td>CHEMBL812621</td>\n",
       "      <td>Inhibitory activity towards vascular endotheli...</td>\n",
       "      <td>B</td>\n",
       "      <td>CHEMBL330621</td>\n",
       "      <td>=</td>\n",
       "      <td>nM</td>\n",
       "      <td>19.0</td>\n",
       "      <td>CHEMBL279</td>\n",
       "      <td>Homo sapiens</td>\n",
       "      <td>IC50</td>\n",
       "      <td>nM</td>\n",
       "      <td>19.0</td>\n",
       "    </tr>\n",
       "  </tbody>\n",
       "</table>\n",
       "</div>"
      ]
     },
     "execution_count": 25,
     "metadata": {},
     "output_type": "execute_result"
    }
   ],
   "execution_count": 25
  },
  {
   "cell_type": "code",
   "id": "9182e4f9",
   "metadata": {
    "ExecuteTime": {
     "end_time": "2024-10-13T09:24:29.440652Z",
     "start_time": "2024-10-13T09:24:29.423487Z"
    }
   },
   "source": "df",
   "outputs": [
    {
     "data": {
      "text/plain": [
       "      activity_id assay_chembl_id  \\\n",
       "0           32262    CHEMBL816964   \n",
       "1           32335    CHEMBL817617   \n",
       "2           33033    CHEMBL812621   \n",
       "3           33408    CHEMBL816964   \n",
       "4           34276    CHEMBL812621   \n",
       "...           ...             ...   \n",
       "9144     25104818   CHEMBL5262915   \n",
       "9145     25104819   CHEMBL5262915   \n",
       "9146     25104820   CHEMBL5262915   \n",
       "9147     25104821   CHEMBL5262915   \n",
       "9148     25106991   CHEMBL5263723   \n",
       "\n",
       "                                      assay_description assay_type  \\\n",
       "0     Inhibition of tyrosine phosphorylation in cell...          B   \n",
       "1     Inhibition of Vascular endothelial growth fact...          B   \n",
       "2     Inhibitory activity towards vascular endotheli...          B   \n",
       "3     Inhibition of tyrosine phosphorylation in cell...          B   \n",
       "4     Inhibitory activity towards vascular endotheli...          B   \n",
       "...                                                 ...        ...   \n",
       "9144             Inhibition of VEGFR-2 (unknown origin)          B   \n",
       "9145             Inhibition of VEGFR-2 (unknown origin)          B   \n",
       "9146             Inhibition of VEGFR-2 (unknown origin)          B   \n",
       "9147             Inhibition of VEGFR-2 (unknown origin)          B   \n",
       "9148  Inhibition of VEGFR-2 (unknown origin) kinase ...          B   \n",
       "\n",
       "     molecule_chembl_id relation standard_units  standard_value  \\\n",
       "0           CHEMBL68920        =             nM         16500.0   \n",
       "1           CHEMBL69638        =             nM          7100.0   \n",
       "2          CHEMBL419526        =             nM          1880.0   \n",
       "3          CHEMBL443268        =             nM         10100.0   \n",
       "4          CHEMBL330621        =             nM            19.0   \n",
       "...                 ...      ...            ...             ...   \n",
       "9144       CHEMBL184750        =             nM           654.0   \n",
       "9145       CHEMBL187431        =             nM         29400.0   \n",
       "9146       CHEMBL186001        =             nM           200.0   \n",
       "9147      CHEMBL5273702        =             nM           350.0   \n",
       "9148      CHEMBL5267844        =             nM           190.0   \n",
       "\n",
       "     target_chembl_id target_organism  type units     value  \n",
       "0           CHEMBL279    Homo sapiens  IC50    uM    16.500  \n",
       "1           CHEMBL279    Homo sapiens  IC50    uM     7.100  \n",
       "2           CHEMBL279    Homo sapiens  IC50    nM  1880.000  \n",
       "3           CHEMBL279    Homo sapiens  IC50    uM    10.100  \n",
       "4           CHEMBL279    Homo sapiens  IC50    nM    19.000  \n",
       "...               ...             ...   ...   ...       ...  \n",
       "9144        CHEMBL279    Homo sapiens  IC50    uM     0.654  \n",
       "9145        CHEMBL279    Homo sapiens  IC50    uM    29.400  \n",
       "9146        CHEMBL279    Homo sapiens  IC50    uM     0.200  \n",
       "9147        CHEMBL279    Homo sapiens  IC50    uM     0.350  \n",
       "9148        CHEMBL279    Homo sapiens  IC50    uM     0.190  \n",
       "\n",
       "[9149 rows x 13 columns]"
      ],
      "text/html": [
       "<div>\n",
       "<style scoped>\n",
       "    .dataframe tbody tr th:only-of-type {\n",
       "        vertical-align: middle;\n",
       "    }\n",
       "\n",
       "    .dataframe tbody tr th {\n",
       "        vertical-align: top;\n",
       "    }\n",
       "\n",
       "    .dataframe thead th {\n",
       "        text-align: right;\n",
       "    }\n",
       "</style>\n",
       "<table border=\"1\" class=\"dataframe\">\n",
       "  <thead>\n",
       "    <tr style=\"text-align: right;\">\n",
       "      <th></th>\n",
       "      <th>activity_id</th>\n",
       "      <th>assay_chembl_id</th>\n",
       "      <th>assay_description</th>\n",
       "      <th>assay_type</th>\n",
       "      <th>molecule_chembl_id</th>\n",
       "      <th>relation</th>\n",
       "      <th>standard_units</th>\n",
       "      <th>standard_value</th>\n",
       "      <th>target_chembl_id</th>\n",
       "      <th>target_organism</th>\n",
       "      <th>type</th>\n",
       "      <th>units</th>\n",
       "      <th>value</th>\n",
       "    </tr>\n",
       "  </thead>\n",
       "  <tbody>\n",
       "    <tr>\n",
       "      <th>0</th>\n",
       "      <td>32262</td>\n",
       "      <td>CHEMBL816964</td>\n",
       "      <td>Inhibition of tyrosine phosphorylation in cell...</td>\n",
       "      <td>B</td>\n",
       "      <td>CHEMBL68920</td>\n",
       "      <td>=</td>\n",
       "      <td>nM</td>\n",
       "      <td>16500.0</td>\n",
       "      <td>CHEMBL279</td>\n",
       "      <td>Homo sapiens</td>\n",
       "      <td>IC50</td>\n",
       "      <td>uM</td>\n",
       "      <td>16.500</td>\n",
       "    </tr>\n",
       "    <tr>\n",
       "      <th>1</th>\n",
       "      <td>32335</td>\n",
       "      <td>CHEMBL817617</td>\n",
       "      <td>Inhibition of Vascular endothelial growth fact...</td>\n",
       "      <td>B</td>\n",
       "      <td>CHEMBL69638</td>\n",
       "      <td>=</td>\n",
       "      <td>nM</td>\n",
       "      <td>7100.0</td>\n",
       "      <td>CHEMBL279</td>\n",
       "      <td>Homo sapiens</td>\n",
       "      <td>IC50</td>\n",
       "      <td>uM</td>\n",
       "      <td>7.100</td>\n",
       "    </tr>\n",
       "    <tr>\n",
       "      <th>2</th>\n",
       "      <td>33033</td>\n",
       "      <td>CHEMBL812621</td>\n",
       "      <td>Inhibitory activity towards vascular endotheli...</td>\n",
       "      <td>B</td>\n",
       "      <td>CHEMBL419526</td>\n",
       "      <td>=</td>\n",
       "      <td>nM</td>\n",
       "      <td>1880.0</td>\n",
       "      <td>CHEMBL279</td>\n",
       "      <td>Homo sapiens</td>\n",
       "      <td>IC50</td>\n",
       "      <td>nM</td>\n",
       "      <td>1880.000</td>\n",
       "    </tr>\n",
       "    <tr>\n",
       "      <th>3</th>\n",
       "      <td>33408</td>\n",
       "      <td>CHEMBL816964</td>\n",
       "      <td>Inhibition of tyrosine phosphorylation in cell...</td>\n",
       "      <td>B</td>\n",
       "      <td>CHEMBL443268</td>\n",
       "      <td>=</td>\n",
       "      <td>nM</td>\n",
       "      <td>10100.0</td>\n",
       "      <td>CHEMBL279</td>\n",
       "      <td>Homo sapiens</td>\n",
       "      <td>IC50</td>\n",
       "      <td>uM</td>\n",
       "      <td>10.100</td>\n",
       "    </tr>\n",
       "    <tr>\n",
       "      <th>4</th>\n",
       "      <td>34276</td>\n",
       "      <td>CHEMBL812621</td>\n",
       "      <td>Inhibitory activity towards vascular endotheli...</td>\n",
       "      <td>B</td>\n",
       "      <td>CHEMBL330621</td>\n",
       "      <td>=</td>\n",
       "      <td>nM</td>\n",
       "      <td>19.0</td>\n",
       "      <td>CHEMBL279</td>\n",
       "      <td>Homo sapiens</td>\n",
       "      <td>IC50</td>\n",
       "      <td>nM</td>\n",
       "      <td>19.000</td>\n",
       "    </tr>\n",
       "    <tr>\n",
       "      <th>...</th>\n",
       "      <td>...</td>\n",
       "      <td>...</td>\n",
       "      <td>...</td>\n",
       "      <td>...</td>\n",
       "      <td>...</td>\n",
       "      <td>...</td>\n",
       "      <td>...</td>\n",
       "      <td>...</td>\n",
       "      <td>...</td>\n",
       "      <td>...</td>\n",
       "      <td>...</td>\n",
       "      <td>...</td>\n",
       "      <td>...</td>\n",
       "    </tr>\n",
       "    <tr>\n",
       "      <th>9144</th>\n",
       "      <td>25104818</td>\n",
       "      <td>CHEMBL5262915</td>\n",
       "      <td>Inhibition of VEGFR-2 (unknown origin)</td>\n",
       "      <td>B</td>\n",
       "      <td>CHEMBL184750</td>\n",
       "      <td>=</td>\n",
       "      <td>nM</td>\n",
       "      <td>654.0</td>\n",
       "      <td>CHEMBL279</td>\n",
       "      <td>Homo sapiens</td>\n",
       "      <td>IC50</td>\n",
       "      <td>uM</td>\n",
       "      <td>0.654</td>\n",
       "    </tr>\n",
       "    <tr>\n",
       "      <th>9145</th>\n",
       "      <td>25104819</td>\n",
       "      <td>CHEMBL5262915</td>\n",
       "      <td>Inhibition of VEGFR-2 (unknown origin)</td>\n",
       "      <td>B</td>\n",
       "      <td>CHEMBL187431</td>\n",
       "      <td>=</td>\n",
       "      <td>nM</td>\n",
       "      <td>29400.0</td>\n",
       "      <td>CHEMBL279</td>\n",
       "      <td>Homo sapiens</td>\n",
       "      <td>IC50</td>\n",
       "      <td>uM</td>\n",
       "      <td>29.400</td>\n",
       "    </tr>\n",
       "    <tr>\n",
       "      <th>9146</th>\n",
       "      <td>25104820</td>\n",
       "      <td>CHEMBL5262915</td>\n",
       "      <td>Inhibition of VEGFR-2 (unknown origin)</td>\n",
       "      <td>B</td>\n",
       "      <td>CHEMBL186001</td>\n",
       "      <td>=</td>\n",
       "      <td>nM</td>\n",
       "      <td>200.0</td>\n",
       "      <td>CHEMBL279</td>\n",
       "      <td>Homo sapiens</td>\n",
       "      <td>IC50</td>\n",
       "      <td>uM</td>\n",
       "      <td>0.200</td>\n",
       "    </tr>\n",
       "    <tr>\n",
       "      <th>9147</th>\n",
       "      <td>25104821</td>\n",
       "      <td>CHEMBL5262915</td>\n",
       "      <td>Inhibition of VEGFR-2 (unknown origin)</td>\n",
       "      <td>B</td>\n",
       "      <td>CHEMBL5273702</td>\n",
       "      <td>=</td>\n",
       "      <td>nM</td>\n",
       "      <td>350.0</td>\n",
       "      <td>CHEMBL279</td>\n",
       "      <td>Homo sapiens</td>\n",
       "      <td>IC50</td>\n",
       "      <td>uM</td>\n",
       "      <td>0.350</td>\n",
       "    </tr>\n",
       "    <tr>\n",
       "      <th>9148</th>\n",
       "      <td>25106991</td>\n",
       "      <td>CHEMBL5263723</td>\n",
       "      <td>Inhibition of VEGFR-2 (unknown origin) kinase ...</td>\n",
       "      <td>B</td>\n",
       "      <td>CHEMBL5267844</td>\n",
       "      <td>=</td>\n",
       "      <td>nM</td>\n",
       "      <td>190.0</td>\n",
       "      <td>CHEMBL279</td>\n",
       "      <td>Homo sapiens</td>\n",
       "      <td>IC50</td>\n",
       "      <td>uM</td>\n",
       "      <td>0.190</td>\n",
       "    </tr>\n",
       "  </tbody>\n",
       "</table>\n",
       "<p>9149 rows × 13 columns</p>\n",
       "</div>"
      ]
     },
     "execution_count": 26,
     "metadata": {},
     "output_type": "execute_result"
    }
   ],
   "execution_count": 26
  },
  {
   "cell_type": "code",
   "id": "0ca06a54",
   "metadata": {
    "ExecuteTime": {
     "end_time": "2024-10-13T09:24:33.133060Z",
     "start_time": "2024-10-13T09:24:33.125309Z"
    }
   },
   "source": [
    "from sklearn.model_selection import train_test_split\n",
    "\n",
    "df_train, df_test = train_test_split(df, test_size=0.2)\n",
    "len(df_train), len(df_test)"
   ],
   "outputs": [
    {
     "data": {
      "text/plain": [
       "(7319, 1830)"
      ]
     },
     "execution_count": 27,
     "metadata": {},
     "output_type": "execute_result"
    }
   ],
   "execution_count": 27
  },
  {
   "cell_type": "code",
   "id": "ef4581a3",
   "metadata": {
    "ExecuteTime": {
     "end_time": "2024-10-13T09:25:38.367329Z",
     "start_time": "2024-10-13T09:25:37.951124Z"
    }
   },
   "source": [
    "# TODO: Use your training script\n",
    "# 根据目标选择活性类型\n",
    "activity_type = 'IC50'\n",
    "\n",
    "# 选择特征和标签   \n",
    "X_train = df_train.drop(['Molecule ChEMBL ID', 'Standard Type', 'Standard Value', 'Activity Comment', 'Assay ChEMBL ID'], axis=1)\n",
    "y_train = df_train[activity_type]\n",
    "\n",
    "X_test = df_test.drop(['Molecule ChEMBL ID', 'Standard Type', 'Standard Value', 'Activity Comment', 'Assay ChEMBL ID'], axis=1)\n",
    "y_test = df_test[activity_type]\n",
    "\n",
    "# 训练模型\n",
    "from sklearn.ensemble import RandomForestRegressor\n",
    "\n",
    "model = RandomForestRegressor(n_estimators=100, random_state=42)\n",
    "model.fit(X_train, y_train)\n",
    "\n",
    "# 评估模型\n",
    "from sklearn.metrics import mean_squared_error, r2_score\n",
    "\n",
    "y_pred = model.predict(X_test)\n",
    "mse = mean_squared_error(y_test, y_pred)\n",
    "r2 = r2_score(y_test, y_pred)\n",
    "\n",
    "print(f\"Mean Squared Error: {mse:.2f}\")\n",
    "print(f\"R-squared: {r2:.2f}\")   "
   ],
   "outputs": [
    {
     "ename": "KeyError",
     "evalue": "\"['Molecule ChEMBL ID', 'Standard Type', 'Standard Value', 'Activity Comment', 'Assay ChEMBL ID'] not found in axis\"",
     "output_type": "error",
     "traceback": [
      "\u001B[0;31m---------------------------------------------------------------------------\u001B[0m",
      "\u001B[0;31mKeyError\u001B[0m                                  Traceback (most recent call last)",
      "Cell \u001B[0;32mIn[28], line 6\u001B[0m\n\u001B[1;32m      3\u001B[0m activity_type \u001B[38;5;241m=\u001B[39m \u001B[38;5;124m'\u001B[39m\u001B[38;5;124mIC50\u001B[39m\u001B[38;5;124m'\u001B[39m\n\u001B[1;32m      5\u001B[0m \u001B[38;5;66;03m# 选择特征和标签   \u001B[39;00m\n\u001B[0;32m----> 6\u001B[0m X_train \u001B[38;5;241m=\u001B[39m \u001B[43mdf_train\u001B[49m\u001B[38;5;241;43m.\u001B[39;49m\u001B[43mdrop\u001B[49m\u001B[43m(\u001B[49m\u001B[43m[\u001B[49m\u001B[38;5;124;43m'\u001B[39;49m\u001B[38;5;124;43mMolecule ChEMBL ID\u001B[39;49m\u001B[38;5;124;43m'\u001B[39;49m\u001B[43m,\u001B[49m\u001B[43m \u001B[49m\u001B[38;5;124;43m'\u001B[39;49m\u001B[38;5;124;43mStandard Type\u001B[39;49m\u001B[38;5;124;43m'\u001B[39;49m\u001B[43m,\u001B[49m\u001B[43m \u001B[49m\u001B[38;5;124;43m'\u001B[39;49m\u001B[38;5;124;43mStandard Value\u001B[39;49m\u001B[38;5;124;43m'\u001B[39;49m\u001B[43m,\u001B[49m\u001B[43m \u001B[49m\u001B[38;5;124;43m'\u001B[39;49m\u001B[38;5;124;43mActivity Comment\u001B[39;49m\u001B[38;5;124;43m'\u001B[39;49m\u001B[43m,\u001B[49m\u001B[43m \u001B[49m\u001B[38;5;124;43m'\u001B[39;49m\u001B[38;5;124;43mAssay ChEMBL ID\u001B[39;49m\u001B[38;5;124;43m'\u001B[39;49m\u001B[43m]\u001B[49m\u001B[43m,\u001B[49m\u001B[43m \u001B[49m\u001B[43maxis\u001B[49m\u001B[38;5;241;43m=\u001B[39;49m\u001B[38;5;241;43m1\u001B[39;49m\u001B[43m)\u001B[49m\n\u001B[1;32m      7\u001B[0m y_train \u001B[38;5;241m=\u001B[39m df_train[activity_type]\n\u001B[1;32m      9\u001B[0m X_test \u001B[38;5;241m=\u001B[39m df_test\u001B[38;5;241m.\u001B[39mdrop([\u001B[38;5;124m'\u001B[39m\u001B[38;5;124mMolecule ChEMBL ID\u001B[39m\u001B[38;5;124m'\u001B[39m, \u001B[38;5;124m'\u001B[39m\u001B[38;5;124mStandard Type\u001B[39m\u001B[38;5;124m'\u001B[39m, \u001B[38;5;124m'\u001B[39m\u001B[38;5;124mStandard Value\u001B[39m\u001B[38;5;124m'\u001B[39m, \u001B[38;5;124m'\u001B[39m\u001B[38;5;124mActivity Comment\u001B[39m\u001B[38;5;124m'\u001B[39m, \u001B[38;5;124m'\u001B[39m\u001B[38;5;124mAssay ChEMBL ID\u001B[39m\u001B[38;5;124m'\u001B[39m], axis\u001B[38;5;241m=\u001B[39m\u001B[38;5;241m1\u001B[39m)\n",
      "File \u001B[0;32m/opt/anaconda3/envs/teachopencadd/lib/python3.8/site-packages/pandas/util/_decorators.py:311\u001B[0m, in \u001B[0;36mdeprecate_nonkeyword_arguments.<locals>.decorate.<locals>.wrapper\u001B[0;34m(*args, **kwargs)\u001B[0m\n\u001B[1;32m    305\u001B[0m \u001B[38;5;28;01mif\u001B[39;00m \u001B[38;5;28mlen\u001B[39m(args) \u001B[38;5;241m>\u001B[39m num_allow_args:\n\u001B[1;32m    306\u001B[0m     warnings\u001B[38;5;241m.\u001B[39mwarn(\n\u001B[1;32m    307\u001B[0m         msg\u001B[38;5;241m.\u001B[39mformat(arguments\u001B[38;5;241m=\u001B[39marguments),\n\u001B[1;32m    308\u001B[0m         \u001B[38;5;167;01mFutureWarning\u001B[39;00m,\n\u001B[1;32m    309\u001B[0m         stacklevel\u001B[38;5;241m=\u001B[39mstacklevel,\n\u001B[1;32m    310\u001B[0m     )\n\u001B[0;32m--> 311\u001B[0m \u001B[38;5;28;01mreturn\u001B[39;00m \u001B[43mfunc\u001B[49m\u001B[43m(\u001B[49m\u001B[38;5;241;43m*\u001B[39;49m\u001B[43margs\u001B[49m\u001B[43m,\u001B[49m\u001B[43m \u001B[49m\u001B[38;5;241;43m*\u001B[39;49m\u001B[38;5;241;43m*\u001B[39;49m\u001B[43mkwargs\u001B[49m\u001B[43m)\u001B[49m\n",
      "File \u001B[0;32m/opt/anaconda3/envs/teachopencadd/lib/python3.8/site-packages/pandas/core/frame.py:4957\u001B[0m, in \u001B[0;36mDataFrame.drop\u001B[0;34m(self, labels, axis, index, columns, level, inplace, errors)\u001B[0m\n\u001B[1;32m   4809\u001B[0m \u001B[38;5;129m@deprecate_nonkeyword_arguments\u001B[39m(version\u001B[38;5;241m=\u001B[39m\u001B[38;5;28;01mNone\u001B[39;00m, allowed_args\u001B[38;5;241m=\u001B[39m[\u001B[38;5;124m\"\u001B[39m\u001B[38;5;124mself\u001B[39m\u001B[38;5;124m\"\u001B[39m, \u001B[38;5;124m\"\u001B[39m\u001B[38;5;124mlabels\u001B[39m\u001B[38;5;124m\"\u001B[39m])\n\u001B[1;32m   4810\u001B[0m \u001B[38;5;28;01mdef\u001B[39;00m \u001B[38;5;21mdrop\u001B[39m(\n\u001B[1;32m   4811\u001B[0m     \u001B[38;5;28mself\u001B[39m,\n\u001B[0;32m   (...)\u001B[0m\n\u001B[1;32m   4818\u001B[0m     errors: \u001B[38;5;28mstr\u001B[39m \u001B[38;5;241m=\u001B[39m \u001B[38;5;124m\"\u001B[39m\u001B[38;5;124mraise\u001B[39m\u001B[38;5;124m\"\u001B[39m,\n\u001B[1;32m   4819\u001B[0m ):\n\u001B[1;32m   4820\u001B[0m \u001B[38;5;250m    \u001B[39m\u001B[38;5;124;03m\"\"\"\u001B[39;00m\n\u001B[1;32m   4821\u001B[0m \u001B[38;5;124;03m    Drop specified labels from rows or columns.\u001B[39;00m\n\u001B[1;32m   4822\u001B[0m \n\u001B[0;32m   (...)\u001B[0m\n\u001B[1;32m   4955\u001B[0m \u001B[38;5;124;03m            weight  1.0     0.8\u001B[39;00m\n\u001B[1;32m   4956\u001B[0m \u001B[38;5;124;03m    \"\"\"\u001B[39;00m\n\u001B[0;32m-> 4957\u001B[0m     \u001B[38;5;28;01mreturn\u001B[39;00m \u001B[38;5;28;43msuper\u001B[39;49m\u001B[43m(\u001B[49m\u001B[43m)\u001B[49m\u001B[38;5;241;43m.\u001B[39;49m\u001B[43mdrop\u001B[49m\u001B[43m(\u001B[49m\n\u001B[1;32m   4958\u001B[0m \u001B[43m        \u001B[49m\u001B[43mlabels\u001B[49m\u001B[38;5;241;43m=\u001B[39;49m\u001B[43mlabels\u001B[49m\u001B[43m,\u001B[49m\n\u001B[1;32m   4959\u001B[0m \u001B[43m        \u001B[49m\u001B[43maxis\u001B[49m\u001B[38;5;241;43m=\u001B[39;49m\u001B[43maxis\u001B[49m\u001B[43m,\u001B[49m\n\u001B[1;32m   4960\u001B[0m \u001B[43m        \u001B[49m\u001B[43mindex\u001B[49m\u001B[38;5;241;43m=\u001B[39;49m\u001B[43mindex\u001B[49m\u001B[43m,\u001B[49m\n\u001B[1;32m   4961\u001B[0m \u001B[43m        \u001B[49m\u001B[43mcolumns\u001B[49m\u001B[38;5;241;43m=\u001B[39;49m\u001B[43mcolumns\u001B[49m\u001B[43m,\u001B[49m\n\u001B[1;32m   4962\u001B[0m \u001B[43m        \u001B[49m\u001B[43mlevel\u001B[49m\u001B[38;5;241;43m=\u001B[39;49m\u001B[43mlevel\u001B[49m\u001B[43m,\u001B[49m\n\u001B[1;32m   4963\u001B[0m \u001B[43m        \u001B[49m\u001B[43minplace\u001B[49m\u001B[38;5;241;43m=\u001B[39;49m\u001B[43minplace\u001B[49m\u001B[43m,\u001B[49m\n\u001B[1;32m   4964\u001B[0m \u001B[43m        \u001B[49m\u001B[43merrors\u001B[49m\u001B[38;5;241;43m=\u001B[39;49m\u001B[43merrors\u001B[49m\u001B[43m,\u001B[49m\n\u001B[1;32m   4965\u001B[0m \u001B[43m    \u001B[49m\u001B[43m)\u001B[49m\n",
      "File \u001B[0;32m/opt/anaconda3/envs/teachopencadd/lib/python3.8/site-packages/pandas/core/generic.py:4267\u001B[0m, in \u001B[0;36mNDFrame.drop\u001B[0;34m(self, labels, axis, index, columns, level, inplace, errors)\u001B[0m\n\u001B[1;32m   4265\u001B[0m \u001B[38;5;28;01mfor\u001B[39;00m axis, labels \u001B[38;5;129;01min\u001B[39;00m axes\u001B[38;5;241m.\u001B[39mitems():\n\u001B[1;32m   4266\u001B[0m     \u001B[38;5;28;01mif\u001B[39;00m labels \u001B[38;5;129;01mis\u001B[39;00m \u001B[38;5;129;01mnot\u001B[39;00m \u001B[38;5;28;01mNone\u001B[39;00m:\n\u001B[0;32m-> 4267\u001B[0m         obj \u001B[38;5;241m=\u001B[39m \u001B[43mobj\u001B[49m\u001B[38;5;241;43m.\u001B[39;49m\u001B[43m_drop_axis\u001B[49m\u001B[43m(\u001B[49m\u001B[43mlabels\u001B[49m\u001B[43m,\u001B[49m\u001B[43m \u001B[49m\u001B[43maxis\u001B[49m\u001B[43m,\u001B[49m\u001B[43m \u001B[49m\u001B[43mlevel\u001B[49m\u001B[38;5;241;43m=\u001B[39;49m\u001B[43mlevel\u001B[49m\u001B[43m,\u001B[49m\u001B[43m \u001B[49m\u001B[43merrors\u001B[49m\u001B[38;5;241;43m=\u001B[39;49m\u001B[43merrors\u001B[49m\u001B[43m)\u001B[49m\n\u001B[1;32m   4269\u001B[0m \u001B[38;5;28;01mif\u001B[39;00m inplace:\n\u001B[1;32m   4270\u001B[0m     \u001B[38;5;28mself\u001B[39m\u001B[38;5;241m.\u001B[39m_update_inplace(obj)\n",
      "File \u001B[0;32m/opt/anaconda3/envs/teachopencadd/lib/python3.8/site-packages/pandas/core/generic.py:4311\u001B[0m, in \u001B[0;36mNDFrame._drop_axis\u001B[0;34m(self, labels, axis, level, errors, consolidate, only_slice)\u001B[0m\n\u001B[1;32m   4309\u001B[0m         new_axis \u001B[38;5;241m=\u001B[39m axis\u001B[38;5;241m.\u001B[39mdrop(labels, level\u001B[38;5;241m=\u001B[39mlevel, errors\u001B[38;5;241m=\u001B[39merrors)\n\u001B[1;32m   4310\u001B[0m     \u001B[38;5;28;01melse\u001B[39;00m:\n\u001B[0;32m-> 4311\u001B[0m         new_axis \u001B[38;5;241m=\u001B[39m \u001B[43maxis\u001B[49m\u001B[38;5;241;43m.\u001B[39;49m\u001B[43mdrop\u001B[49m\u001B[43m(\u001B[49m\u001B[43mlabels\u001B[49m\u001B[43m,\u001B[49m\u001B[43m \u001B[49m\u001B[43merrors\u001B[49m\u001B[38;5;241;43m=\u001B[39;49m\u001B[43merrors\u001B[49m\u001B[43m)\u001B[49m\n\u001B[1;32m   4312\u001B[0m     indexer \u001B[38;5;241m=\u001B[39m axis\u001B[38;5;241m.\u001B[39mget_indexer(new_axis)\n\u001B[1;32m   4314\u001B[0m \u001B[38;5;66;03m# Case for non-unique axis\u001B[39;00m\n\u001B[1;32m   4315\u001B[0m \u001B[38;5;28;01melse\u001B[39;00m:\n",
      "File \u001B[0;32m/opt/anaconda3/envs/teachopencadd/lib/python3.8/site-packages/pandas/core/indexes/base.py:6661\u001B[0m, in \u001B[0;36mIndex.drop\u001B[0;34m(self, labels, errors)\u001B[0m\n\u001B[1;32m   6659\u001B[0m \u001B[38;5;28;01mif\u001B[39;00m mask\u001B[38;5;241m.\u001B[39many():\n\u001B[1;32m   6660\u001B[0m     \u001B[38;5;28;01mif\u001B[39;00m errors \u001B[38;5;241m!=\u001B[39m \u001B[38;5;124m\"\u001B[39m\u001B[38;5;124mignore\u001B[39m\u001B[38;5;124m\"\u001B[39m:\n\u001B[0;32m-> 6661\u001B[0m         \u001B[38;5;28;01mraise\u001B[39;00m \u001B[38;5;167;01mKeyError\u001B[39;00m(\u001B[38;5;124mf\u001B[39m\u001B[38;5;124m\"\u001B[39m\u001B[38;5;132;01m{\u001B[39;00m\u001B[38;5;28mlist\u001B[39m(labels[mask])\u001B[38;5;132;01m}\u001B[39;00m\u001B[38;5;124m not found in axis\u001B[39m\u001B[38;5;124m\"\u001B[39m)\n\u001B[1;32m   6662\u001B[0m     indexer \u001B[38;5;241m=\u001B[39m indexer[\u001B[38;5;241m~\u001B[39mmask]\n\u001B[1;32m   6663\u001B[0m \u001B[38;5;28;01mreturn\u001B[39;00m \u001B[38;5;28mself\u001B[39m\u001B[38;5;241m.\u001B[39mdelete(indexer)\n",
      "\u001B[0;31mKeyError\u001B[0m: \"['Molecule ChEMBL ID', 'Standard Type', 'Standard Value', 'Activity Comment', 'Assay ChEMBL ID'] not found in axis\""
     ]
    }
   ],
   "execution_count": 28
  },
  {
   "cell_type": "markdown",
   "id": "b19db5ec",
   "metadata": {},
   "source": [
    "If you want to automate your data pipelines, you can use the ChEMBL Python API, as shown in the example below."
   ]
  },
  {
   "cell_type": "code",
   "execution_count": 36,
   "id": "2d49d665",
   "metadata": {},
   "outputs": [],
   "source": [
    "from chembl_webresource_client.new_client import new_client\n",
    "from tqdm.notebook import tqdm\n",
    "\n",
    "target = new_client.target\n",
    "activity = new_client.activity\n",
    "bace = target.filter(pref_name__iexact='Beta secretase 2').only('target_chembl_id')[0]\n",
    "activities_provider = activity.filter(target_chembl_id=bace['target_chembl_id']).filter(standard_type=\"IC50\")\n",
    "activities = list(tqdm(activities_provider))\n",
    "df_bace = pd.DataFrame.from_records(activities)"
   ]
  },
  {
   "cell_type": "code",
   "execution_count": 43,
   "id": "63454260",
   "metadata": {},
   "outputs": [],
   "source": [
    "molecule = new_client.molecule\n",
    "compounds_provider = molecule.filter(\n",
    "    molecule_chembl_id__in=list(df_bace[\"molecule_chembl_id\"])\n",
    ").only(\"molecule_chembl_id\", \"molecule_structures\")\n",
    "compounds = list(tqdm(compounds_provider))\n",
    "df_cmpds = pd.DataFrame.from_records(compounds)\n",
    "print(f\"DataFrame shape: {df_cmpds.shape}\")"
   ]
  },
  {
   "cell_type": "markdown",
   "id": "79b84d43",
   "metadata": {},
   "source": [
    "**(optional) Excercise 1.1.** *(advanced data splitting methods)*\n",
    "\n",
    "You might be surprised how good results you can achieve using a random data split. The model performance measured this way can be misleading as ChEMBL contains many similar compounds, series of compounds containing the same scaffold, or even duplicated records. Thus, a better form of evaluation would be to employ a more advanced splitting method, e.g. **scaffold-based split** in which all compounds containing the same scaffold are put in the same set. Another option is to use a **time-based split** because most records in ChEBML should be tagged with the date of their publication. \n",
    "\n",
    "Don't be discouraged by the lower results you obtain with these splits. By evaluating your model this way, you get more realistic scores that better reflect the future use cases of your model. The fact that lower evaluation scores may correspond to a better model is known as the **Kubinyi paradox**.\n",
    "\n",
    "You can now implement a more advanced data split and compare the prediction results on the testing set."
   ]
  },
  {
   "cell_type": "code",
   "execution_count": null,
   "id": "75da0975",
   "metadata": {},
   "outputs": [],
   "source": [
    "# TODO repeat training with scaffold/time/clustering-based split"
   ]
  },
  {
   "cell_type": "markdown",
   "id": "1b4adf86",
   "metadata": {},
   "source": [
    "**(optional) Excercise 1.2.** *(label transformations)*\n",
    "\n",
    "As mentioned above, using the logarithmic values can improve the prediction results by eliminating extreme values. Another option is to transform continuous measurements into binary classes, where active compounds are those with IC$_{50}$/Ki values below a certain treshold, and the rest is assumed inactive. This approach can also help dealing with inaccurate noisy measurements.\n",
    "\n",
    "Try to convert labels into pIC$_{50}$/pKi values or change the regression task to a binary classification problem."
   ]
  },
  {
   "cell_type": "code",
   "execution_count": null,
   "id": "c6c50659",
   "metadata": {},
   "outputs": [],
   "source": [
    "activity_threshold = 100\n",
    "df['class'] = (df['Standard Value'] <= activity_threshold).astype(int)\n",
    "df"
   ]
  },
  {
   "cell_type": "code",
   "execution_count": null,
   "id": "ff25db02",
   "metadata": {},
   "outputs": [],
   "source": [
    "# TODO: classification setup"
   ]
  },
  {
   "cell_type": "markdown",
   "id": "f52bdb65",
   "metadata": {},
   "source": [
    "**(optional) Excercise 1.3.** *(exploratory data analysis, data filtering)*\n",
    "\n",
    "Can you find any discrepancies in the data? For example, do you find any outliers or duplicated SMILES strings? Can you solve these problems?"
   ]
  },
  {
   "cell_type": "code",
   "execution_count": null,
   "id": "e04424b6",
   "metadata": {},
   "outputs": [],
   "source": [
    "# Hint: A dot in the SMILES string indicates multiple compounds (this is a separator)\n",
    "df[df.Smiles.str.contains('\\.')]\n",
    "\n",
    "# TODO: Perform Exploratory Data Analysis"
   ]
  },
  {
   "cell_type": "markdown",
   "id": "05485c54",
   "metadata": {},
   "source": [
    "# ZINC\n",
    "\n",
    "[ZINC](https://zinc.docking.org/) is a database of commercially available compounds. This data can be used for **virtual screening**, i.e. finding active molecules using only *in silico* (computer) methods. These compounds can be then purchased and tested *in vitro* (in cells or biomolecules) or *in vivo* (in living organisms).\n",
    "\n",
    "---\n",
    "\n",
    "<div style=\"display: flex; justify-content: space-between\">\n",
    "    <div style=\"width: 20%; display: inline-block; margin: 20px\">\n",
    "        <img src=\"../../assets/profile1.png\" width=\"100%\">\n",
    "    </div>\n",
    "    <div style=\"width: 60%; display: inline-block; margin: 20px\">\n",
    "        <p><strong>Nitro:</strong> Hi there! In hit discovery, high-throughput screening plays a crucial role by swiftly evaluating vast compound libraries for potential drug candidates. Molecules for screening can be sourced from diverse sources such as chemical libraries, natural products, or even synthesized compounds. In high-throughput experiments utilizing commercially available compound libraries, thousands to millions of compounds are screened simultaneously against a specific biological target. Typically, automated robotic systems handle the process, dispensing small volumes of compounds into assay plates containing the target of interest. These assays are designed to detect interactions between the compounds and the target, such as binding or inhibition. Following incubation, the plates are analyzed using various detection methods, such as fluorescence, luminescence, or absorbance, to identify hits. Hits are compounds that exhibit the desired activity or effect on the target. These experiments enable rapid screening of immense compound libraries, accelerating the hit discovery process in drug development.</p>\n",
    "    </div>\n",
    "</div>\n",
    "<div style=\"width: 80%; display: inline-block; margin: 0 20px 0\">\n",
    "        <p>Techniques like DNA-Encoded Libraries (DELs), fragment-based screens, and phenotypic screens offer distinct approaches to identify hits. DELs enable rapid screening of extensive compound collections with unique DNA tags, while fragment-based screens focus on identifying small, low molecular weight compounds that may serve as starting points for drug development. Phenotypic screens, on the other hand, assess compounds based on their cellular effects, allowing for the discovery of drugs for complex diseases. Phenotypic screening, such as high-content screening, can measure various cellular features and processes in fluorescence microscopy images, including cell morphology, protein localization, organelle structure, cell cycle progression, and changes in signaling pathways or gene expression levels. Each technique has its strengths, contributing to the efficiency and success of hit discovery endeavors.</p>\n",
    "</div>\n",
    "\n",
    "---"
   ]
  },
  {
   "cell_type": "markdown",
   "id": "26a93a55",
   "metadata": {},
   "source": [
    "**Exercise 2.** Perform virtual screening. Use the data in the `mystery_target.csv` file to train a model and use it to find the most active compounds in a ZINC subset. Which compounds should be selected to be purchased or synthesized?\n",
    "\n",
    "Save the output as a CSV file containing 100 compounds (SMILES strings) and their predicted activity values."
   ]
  },
  {
   "cell_type": "code",
   "execution_count": null,
   "id": "a87fc1e0",
   "metadata": {},
   "outputs": [],
   "source": [
    "# TODO: inference: (1) load data (2) convert representation (3) predict activity (4) show drug candidates\n",
    "df = pd.read_csv('data/mystery_target.csv')\n",
    "\n",
    "# save the selected 100 compounds\n",
    "results.to_csv('results.csv')"
   ]
  },
  {
   "cell_type": "markdown",
   "id": "ba027987",
   "metadata": {},
   "source": [
    "**(optional) Exercise 2.1.** *(Compound novelty and diversity)*\n",
    "\n",
    "How similar are the selected compounds to the training data? Can you measure the diversity of these compounds? How should these values impact your selection?"
   ]
  },
  {
   "cell_type": "code",
   "execution_count": null,
   "id": "0dc65ca3",
   "metadata": {},
   "outputs": [],
   "source": [
    "# TODO: Check structural similarity"
   ]
  },
  {
   "cell_type": "markdown",
   "id": "738763e0",
   "metadata": {},
   "source": [
    "---\n",
    "\n",
    "<div style=\"display: flex; justify-content: space-between\">\n",
    "    <div style=\"width: 20%; display: inline-block; margin: 20px\">\n",
    "        <img src=\"../../assets/profile2.png\" width=\"100%\">\n",
    "    </div>\n",
    "    <div style=\"width: 60%; display: inline-block; margin: 20px\">\n",
    "        <p><strong>Ester:</strong> \n",
    "Hey there, fellow data voyagers and knowledge seekers! In data analysis, especially in fields like chemistry and biology, we often deal with datasets that have a large number of features or dimensions. Each feature represents a different aspect or property of the data. While having a rich set of features can provide valuable insights, it can also pose challenges. One such challenge is the curse of dimensionality.</p>\n",
    "        <p>As the number of dimensions increases, the amount of data required to generalize accurately increases exponentially. Moreover, high-dimensional data can be difficult to visualize and interpret, making it challenging to extract meaningful patterns or relationships.</p>\n",
    "        <p>This is where dimensionality reduction techniques come into play. Dimensionality reduction refers to the process of reducing the number of features in a dataset while preserving as much relevant information as possible.</p>\n",
    "    </div>\n",
    "</div>\n",
    "<div style=\"width: 80%; display: inline-block; margin: 0 20px 0\">\n",
    "<h4>Principal Component Analysis (PCA):</h4>\n",
    "\n",
    "Imagine you have a bunch of points in space representing different things (like chemicals). PCA helps you find the most important directions (called principal components) along which these points vary the most. It squishes and rotates the space so that the first principal component points in the direction where the data varies the most, the second principal component points in the direction where the data varies the second most, and so on. This helps in reducing the dimensions of the data while retaining most of its variance.\n",
    "\n",
    "<h4>t-Distributed Stochastic Neighbor Embedding (t-SNE):</h4>\n",
    "\n",
    "t-SNE is like PCA's more artistic cousin. Instead of just focusing on variance, it's more interested in keeping similar things close together and dissimilar things far apart. It measures the similarity between points in high-dimensional space and then tries to represent those similarities in a lower-dimensional space. It's really good at preserving local structure, so nearby points in high-dimensional space tend to stay nearby in the visualization.\n",
    "\n",
    "<h4>Insights from these plots:</h4>\n",
    "\n",
    "From PCA plots, you can see which properties of chemicals contribute most to their variation. For example, you might find that compounds with similar structures or properties cluster together.\n",
    "\n",
    "From t-SNE plots, you can see how similar or dissimilar compounds are to each other. Clusters of similar compounds will appear as tight groups, while outliers or distinct classes will be more spread out.\n",
    "\n",
    "In both cases, these plots help chemists understand the relationships between different chemicals, identify outliers, and potentially discover new trends or groupings that were not immediately obvious from the raw data.\n",
    "</div>\n",
    "\n",
    "---\n",
    "\n",
    "You can use **t-SNE** to find structural similarities in your dataset. t-SNE is a tool for high-dimensional data visualization (**dimensionality reduction**). It transforms n-dimensional data into 2-dimensional map in which distances should be proportional to the distances in the original space."
   ]
  },
  {
   "cell_type": "code",
   "execution_count": 12,
   "id": "3fc49217",
   "metadata": {},
   "outputs": [],
   "source": [
    "from sklearn.manifold import TSNE\n",
    "\n",
    "def get_morgan(smiles):\n",
    "    mol = Chem.MolFromSmiles(smiles)\n",
    "    fingerprint = AllChem.GetMorganFingerprintAsBitVect(mol, radius=4)\n",
    "    return np.array(fingerprint)\n",
    "\n",
    "df_zinc = pd.read_csv('zinc.smi', sep=' ', index_col=1).sample(n=1000)\n",
    "df_zinc['fingerprint'] = [get_morgan(smiles) for smiles in df_zinc.smiles]"
   ]
  },
  {
   "cell_type": "code",
   "execution_count": 21,
   "id": "edc0aac3",
   "metadata": {},
   "outputs": [],
   "source": [
    "tsne = TSNE(metric='jaccard')\n",
    "components = tsne.fit_transform(np.stack(df_zinc.fingerprint))"
   ]
  },
  {
   "cell_type": "code",
   "execution_count": 23,
   "id": "4d2af722",
   "metadata": {},
   "outputs": [
    {
     "data": {
      "image/png": "[encoded data removed]",
      "text/plain": [
       "<Figure size 640x480 with 1 Axes>"
      ]
     },
     "metadata": {},
     "output_type": "display_data"
    }
   ],
   "source": [
    "plt.scatter(components[:, 0], components[:, 1], s=10)\n",
    "plt.gca().set_aspect('equal')\n",
    "plt.title('t-SNE map of a ZINC subset')\n",
    "plt.xlabel('dim 1')\n",
    "plt.ylabel('dim 2')\n",
    "plt.show()"
   ]
  },
  {
   "cell_type": "markdown",
   "id": "724b5645",
   "metadata": {},
   "source": [
    "**(optional) Exercise 2.2.** *(Additional ADMET filters)*\n",
    "\n",
    "When selecting compounds, we need to consider also other properties, e.g. toxicity. Some structural patterns are well known to cause issues in terms of toxicity or synthesizability. We can quickly filter out compounds containing these patterns using their SMARTS strings (\"regular expressions\" for SMILES).\n",
    "\n",
    "Use [SureChEMBL](https://www.surechembl.org/search/) to remove problematic compounds."
   ]
  },
  {
   "cell_type": "code",
   "execution_count": null,
   "id": "da4176ed",
   "metadata": {},
   "outputs": [],
   "source": [
    "# TODO: Use SMARTS to filter out compounds"
   ]
  },
  {
   "cell_type": "markdown",
   "id": "a026098b",
   "metadata": {},
   "source": [
    "# PubChem"
   ]
  },
  {
   "cell_type": "markdown",
   "id": "b58edab6",
   "metadata": {},
   "source": [
    "[PubChem](https://pubchem.ncbi.nlm.nih.gov/) is a database of chemical information about small molecules. It contains various ADMET properties and 3D crystal structures of these molecules. You can easily find any compound using the SMILES representation or by drawing the structure in the tool on the website."
   ]
  },
  {
   "cell_type": "markdown",
   "id": "6fa5b555",
   "metadata": {},
   "source": [
    "**(optional) Exercise 3.** What information can you find about your selected top compounds?"
   ]
  }
 ],
 "metadata": {
  "kernelspec": {
   "display_name": "Python 3 (ipykernel)",
   "language": "python",
   "name": "python3"
  },
  "language_info": {
   "codemirror_mode": {
    "name": "ipython",
    "version": 3
   },
   "file_extension": ".py",
   "mimetype": "text/x-python",
   "name": "python",
   "nbconvert_exporter": "python",
   "pygments_lexer": "ipython3",
   "version": "3.10.13"
  }
 },
 "nbformat": 4,
 "nbformat_minor": 5
}
