{
 "cells": [
  {
   "cell_type": "markdown",
   "id": "a45326bd8b8e9cb7",
   "metadata": {
    "collapsed": false
   },
   "source": [
    "# CheEMBL化合物数据采集 \n",
    "## 网址\n",
    "https://www.ebi.ac.uk/chembl/\n",
    "## 简介\n",
    "ChEMBL是由欧洲核生物研究组织（European Bioinformatics Institute, EBI）开发的化合物数据库，其包含了超过100万条化合物的结构、活性、活性指标、注释等信息。ChEMBL的目标是成为一个开放、公开、全面的化合物数据库，为全人类提供有效的化学信息。ChEMBL的开发始于2000年，目前已成为欧洲核生物研究组织（EBI）的重要组成部分。\n",
    "\n",
    "ChEMBL的化合物数据采集主要包括以下几个方面：\n",
    "1. 化合物结构采集：ChEMBL提供的化合物结构数据包括分子式、二维结构图、三维结构图、分子量等信息。\n",
    "2. 化合物活性数据采集：ChEMBL提供的化合物活性数据包括分子活性数据、化学反应数据、化学反应物质数据等。\n",
    "3. 化合物注释数据采集：ChEMBL提供的化合物注释数据包括化学家注释、结构注释、活性注释等。\n",
    "4. 化合物相互作用数据采集：ChEMBL提供的化合物相互作用数据包括化合物相互作用数据、化合物相互作用网络数据等。\n",
    "5. 化合物药物数据采集：ChEMBL提供的化合物药物数据包括药物结构、药物活性数据、药物相互作用数据等。\n",
    "\n",
    "ChEMBL化合物数据采集的主要流程如下：\n",
    "1. 注册ChEMBL账号：首先需要注册ChEMBL账号，注册地址为https://www.ebi.ac.uk/chembl/user_signup。\n",
    "2. 选择化合物数据类型：选择需要采集的化合物数据类型，如化合物结构数据、化合物活性数据、化合物注释数据等。\n",
    "3. 选择采集目标：选择需要采集的化合物数据目标，如特定分子、特定类型化合物、特定药物等。\n",
    "4. 选择采集方式：选择采集方式，如API、Web界面、Excel文件等。\n",
    "5. 采集数据：根据选择的采集方式，采集化合物数据。\n",
    "\n",
    "ChEMBL化合物数据采集的优点有：\n",
    "1. 全面性：ChEMBL提供的化合物数据覆盖了化学、生物、药物领域，涵盖了各个领域的最新研究成果。\n",
    "2. 准确性：ChEMBL的化合物数据采集是基于结构、活性、注释等多方面信息，具有较高的准确性。\n",
    "3. 开放性：ChEMBL的化合物数据采集是开放的，任何人都可以免费使用。\n",
    "\n",
    "## 目标\n",
    "本次项目的目标是利用ChEMBL数据库，采集化合物结构、活性、注释数据，并进行数据分析。\n",
    "了解 ChEMBL 数据库以及如何从 ChEMBL 中提取数据，即感兴趣目标的（化合物、活性数据）对。这些数据集可用于许多化学信息学任务，例如相似性搜索、聚类或机器学习。\n",
    "\n",
    "## 理论内容\n",
    "1. 化学信息学基础\n",
    "2. ChEMBL 数据库\n",
    "    ChEMBL 网络服务\n",
    "    ChEMBL 网络资源客户端\n",
    "3. 化合物结构数据\n",
    "4. 化合物活性数据\n",
    "    复合活性测量\n",
    "     IC50测量\n",
    "     pIC50值\n",
    "5. 化合物注释数据\n",
    "6. 化合物相互作用数据\n",
    "7. 化合物药物数据\n",
    "8. 数据分析方法\n",
    "\n",
    "## 实践内容\n",
    "目标：获取具有给定目标的生物活性数据的化合物列表\n",
    "- 连接到 ChEMBL 数据库\n",
    "- 获取目标数据（CAMK1D:Q8IU85）\n",
    "    - 获取并下载目标数据\n",
    "    - 选择目标 ChEMBL ID\n",
    "\n",
    "- 获取生物活性数据\n",
    "    - 获取并下载目标的生物活性数据\n",
    "    - 预处理和过滤生物活性数据\n",
    "\n",
    "- 获取化合物数据\n",
    "    - 获取并下载化合物数据\n",
    "    - 预处理和过滤化合物数据\n",
    "\n",
    "- 输出生物活性化合物数据\n",
    "    - 并生物活性和化合物数据，并添加 pIC50 值\n",
    "    - 绘制具有最高 pIC50 的分子\n",
    "\n",
    "\n",
    "\n",
    "####  pIC50 值\n",
    "\n",
    "- 为了便于比较 IC50 值，IC50 值具有较大的值范围并以不同的单位（M、nM、...）给出，通常使用 pIC50 值\n",
    "- pIC50 是转换为摩尔单位时 IC50 值的负对数： pIC50=−log10(IC50) ， 在哪里 IC50 以 M 为单位指定\n",
    "- pIC50 值越高表明药物的效力呈指数级增长\n",
    "- 请注意，转换可以适应相应的 IC50 单位，例如对于纳米： pIC50=−log10(IC50∗10−9)=9−log10(IC50)\n",
    "\n",
    " 其他活动措施：\n",
    "此外，IC50和pIC50，还使用其他生物活性测量，例如平衡常数[KI]和半最大有效浓度[EC50]"
   ]
  },
  {
   "cell_type": "code",
   "id": "initial_id",
   "metadata": {
    "ExecuteTime": {
     "end_time": "2024-10-13T09:39:15.204167Z",
     "start_time": "2024-10-13T09:39:09.418819Z"
    }
   },
   "source": [
    "# 连接到 ChEMBL 数据库\n",
    "# 首先，导入 ChEMBL Web 资源客户端以及其他 Python 库。\n",
    "\n",
    "import math\n",
    "from pathlib import Path\n",
    "from zipfile import ZipFile\n",
    "from tempfile import TemporaryDirectory\n",
    "import numpy as np\n",
    "import pandas as pd\n",
    "from rdkit.Chem import PandasTools\n",
    "from chembl_webresource_client.new_client import new_client\n",
    "from tqdm.auto import tqdm\n"
   ],
   "outputs": [],
   "execution_count": 2
  },
  {
   "cell_type": "code",
   "id": "1e1a7fef2196c750",
   "metadata": {
    "collapsed": false,
    "ExecuteTime": {
     "end_time": "2024-10-13T09:39:20.756871Z",
     "start_time": "2024-10-13T09:39:20.752366Z"
    }
   },
   "source": [
    "from pathlib import Path\n",
    "import os\n",
    "\n",
    "# 获取当前工作目录\n",
    "HERE = Path(os.getcwd())\n",
    "DATA = HERE / 'data_P54368'\n",
    "if not DATA.exists():\n",
    "    DATA.mkdir(parents=True, exist_ok=True)\n",
    "print(DATA)"
   ],
   "outputs": [
    {
     "name": "stdout",
     "output_type": "stream",
     "text": [
      "/Users/wangyang/Desktop/AI-drug-design/list/03_Al Drug Discovery & Design/01_Compound_data_acquisition/data_P54368\n"
     ]
    }
   ],
   "execution_count": 4
  },
  {
   "cell_type": "code",
   "id": "e3d55737ff3b386",
   "metadata": {
    "collapsed": false,
    "ExecuteTime": {
     "end_time": "2024-10-13T09:39:21.704133Z",
     "start_time": "2024-10-13T09:39:21.701386Z"
    }
   },
   "source": [
    "# 接下来，我们创建用于 API 访问的资源对象。\n",
    "targets_api = new_client.target\n",
    "compounds_api = new_client.molecule\n",
    "bioactivities_api = new_client.activity"
   ],
   "outputs": [],
   "execution_count": 5
  },
  {
   "cell_type": "code",
   "id": "2508cb2fadd727bd",
   "metadata": {
    "collapsed": false,
    "ExecuteTime": {
     "end_time": "2024-10-13T09:39:36.526033Z",
     "start_time": "2024-10-13T09:39:36.518784Z"
    }
   },
   "source": [
    "# 查看类型\n",
    "type(targets_api)"
   ],
   "outputs": [
    {
     "data": {
      "text/plain": [
       "chembl_webresource_client.query_set.QuerySet"
      ]
     },
     "execution_count": 6,
     "metadata": {},
     "output_type": "execute_result"
    }
   ],
   "execution_count": 6
  },
  {
   "cell_type": "code",
   "id": "f42660934d345c14",
   "metadata": {
    "collapsed": false,
    "ExecuteTime": {
     "end_time": "2024-10-13T10:21:40.276483Z",
     "start_time": "2024-10-13T10:21:40.259176Z"
    }
   },
   "source": [
    "'''\n",
    "获取目标数据（CAMK1D:Q8IU85） \n",
    "从UniProt 网站获取感兴趣靶点的 UniProt ID（CAMK1D:Q8IU85 ）https://www.uniprot.org/uniprotkb\n",
    "使用UniProt ID获取目标信息\n",
    "如果您对其他目标感兴趣，请选择不同的 UniProt ID。\n",
    "'''\n",
    "\n",
    "uniprot_id = \"Q9BQT8\""
   ],
   "outputs": [],
   "execution_count": 124
  },
  {
   "cell_type": "markdown",
   "id": "030e1945-1964-4c4c-b9fe-336e6c726e98",
   "metadata": {},
   "source": [
    "## 从ChEMBL获取目标数据"
   ]
  },
  {
   "cell_type": "code",
   "id": "04ccb71a-d90e-4feb-8c63-7b970bc9220c",
   "metadata": {
    "ExecuteTime": {
     "end_time": "2024-10-13T10:21:40.867619Z",
     "start_time": "2024-10-13T10:21:40.860355Z"
    }
   },
   "source": [
    "# 从 ChEMBL 获取目标信息，但仅限于指定值\n",
    "targets = targets_api.get(target_components__accession=uniprot_id).only(\n",
    "    \"target_chembl_id\", \"organism\", \"pref_name\", \"target_type\"\n",
    ")\n",
    "print(f'目标的类型是 \"{type(targets)}\"')"
   ],
   "outputs": [
    {
     "name": "stdout",
     "output_type": "stream",
     "text": [
      "目标的类型是 \"<class 'chembl_webresource_client.query_set.QuerySet'>\"\n"
     ]
    }
   ],
   "execution_count": 125
  },
  {
   "cell_type": "markdown",
   "id": "6eb4abdf-babd-4565-a02e-70224be969fa",
   "metadata": {},
   "source": [
    "## 从ChEMBL下载目标数据\n",
    "\n",
    "查询结果存储在一个QuerySet（查询集）目标中，也就是说，在我们提出要求之前，查询结果不会从 ChEMBL 中获取（此处使用pandas.DataFrame.from_records）。\n"
   ]
  },
  {
   "cell_type": "code",
   "id": "52695ecd-70ee-4d1f-8e82-d2f87a3f20a0",
   "metadata": {
    "ExecuteTime": {
     "end_time": "2024-10-13T10:21:42.032185Z",
     "start_time": "2024-10-13T10:21:42.015910Z"
    }
   },
   "source": [
    "targets = pd.DataFrame.from_records(targets)\n",
    "targets"
   ],
   "outputs": [
    {
     "data": {
      "text/plain": [
       "       organism                                 pref_name target_chembl_id  \\\n",
       "0  Homo sapiens  Mitochondrial 2-oxodicarboxylate carrier    CHEMBL4680040   \n",
       "1  Homo sapiens  Mitochondrial 2-oxodicarboxylate carrier    CHEMBL4680040   \n",
       "\n",
       "      target_type  \n",
       "0  SINGLE PROTEIN  \n",
       "1  SINGLE PROTEIN  "
      ],
      "text/html": [
       "<div>\n",
       "<style scoped>\n",
       "    .dataframe tbody tr th:only-of-type {\n",
       "        vertical-align: middle;\n",
       "    }\n",
       "\n",
       "    .dataframe tbody tr th {\n",
       "        vertical-align: top;\n",
       "    }\n",
       "\n",
       "    .dataframe thead th {\n",
       "        text-align: right;\n",
       "    }\n",
       "</style>\n",
       "<table border=\"1\" class=\"dataframe\">\n",
       "  <thead>\n",
       "    <tr style=\"text-align: right;\">\n",
       "      <th></th>\n",
       "      <th>organism</th>\n",
       "      <th>pref_name</th>\n",
       "      <th>target_chembl_id</th>\n",
       "      <th>target_type</th>\n",
       "    </tr>\n",
       "  </thead>\n",
       "  <tbody>\n",
       "    <tr>\n",
       "      <th>0</th>\n",
       "      <td>Homo sapiens</td>\n",
       "      <td>Mitochondrial 2-oxodicarboxylate carrier</td>\n",
       "      <td>CHEMBL4680040</td>\n",
       "      <td>SINGLE PROTEIN</td>\n",
       "    </tr>\n",
       "    <tr>\n",
       "      <th>1</th>\n",
       "      <td>Homo sapiens</td>\n",
       "      <td>Mitochondrial 2-oxodicarboxylate carrier</td>\n",
       "      <td>CHEMBL4680040</td>\n",
       "      <td>SINGLE PROTEIN</td>\n",
       "    </tr>\n",
       "  </tbody>\n",
       "</table>\n",
       "</div>"
      ]
     },
     "execution_count": 126,
     "metadata": {},
     "output_type": "execute_result"
    }
   ],
   "execution_count": 126
  },
  {
   "cell_type": "markdown",
   "id": "56bfe904-e614-4997-a5ec-4315746934f3",
   "metadata": {},
   "source": [
    "## 选择目标（目标 ChEMBL ID）\n",
    "\n",
    "检查条目后，我们选择第一个条目作为关注目标："
   ]
  },
  {
   "cell_type": "code",
   "id": "f73faac0-dfff-4cf2-bfe9-0086d651ecd4",
   "metadata": {
    "ExecuteTime": {
     "end_time": "2024-10-13T10:21:43.051485Z",
     "start_time": "2024-10-13T10:21:43.045754Z"
    }
   },
   "source": [
    "target = targets.iloc[0]\n",
    "target"
   ],
   "outputs": [
    {
     "data": {
      "text/plain": [
       "organism                                        Homo sapiens\n",
       "pref_name           Mitochondrial 2-oxodicarboxylate carrier\n",
       "target_chembl_id                               CHEMBL4680040\n",
       "target_type                                   SINGLE PROTEIN\n",
       "Name: 0, dtype: object"
      ]
     },
     "execution_count": 127,
     "metadata": {},
     "output_type": "execute_result"
    }
   ],
   "execution_count": 127
  },
  {
   "cell_type": "markdown",
   "id": "3c25cf7b-37a0-4322-9a5a-310b630f7e57",
   "metadata": {},
   "source": [
    "## 保存选定的 ChEMBL ID"
   ]
  },
  {
   "cell_type": "code",
   "id": "d704b55a-af37-4adb-8923-e70186dbbf8d",
   "metadata": {
    "ExecuteTime": {
     "end_time": "2024-10-13T10:21:44.255077Z",
     "start_time": "2024-10-13T10:21:44.251457Z"
    }
   },
   "source": [
    "chembl_id = target.target_chembl_id\n",
    "print(f\"目标 ChEMBL ID 为 {chembl_id}\")"
   ],
   "outputs": [
    {
     "name": "stdout",
     "output_type": "stream",
     "text": [
      "目标 ChEMBL ID 为 CHEMBL4680040\n"
     ]
    }
   ],
   "execution_count": 128
  },
  {
   "cell_type": "markdown",
   "id": "41d0c2b0-9414-4f7a-92a7-a01ece4d8c3c",
   "metadata": {},
   "source": [
    "## 获取生物活性数据\n",
    "\n",
    "- 现在，我们要查询感兴趣目标的生物活性数据。\n",
    "\n",
    "- 从ChEMBL中获取目标的生物活性数据\n",
    "\n",
    "- 在这一步中，我们将获取生物活性数据，并对其进行筛选，以便只考虑\n",
    "\n",
    "    - 人类蛋白质\n",
    "    - 生物活性类型 IC50、\n",
    "    -  精确测量（关系式\"=\"）\n",
    "    - 结合数据（化验类型\"B\"）"
   ]
  },
  {
   "cell_type": "code",
   "id": "edd4c66a-a69a-4ac2-8afd-a8650613bc2f",
   "metadata": {
    "ExecuteTime": {
     "end_time": "2024-10-13T10:21:45.027606Z",
     "start_time": "2024-10-13T10:21:45.018060Z"
    }
   },
   "source": [
    "# 使用bioactivities_api接口过滤符合条件的生物活动数据\n",
    "# 过滤条件：目标ID为chembl_id，类型为\"IC50\"，关系符为\"=\"，实验类型为\"B\"\n",
    "bioactivities = bioactivities_api.filter(\n",
    "    target_chembl_id=chembl_id,   # 指定目标的ChEMBL ID\n",
    "    type=\"IC50\",                 # 活动类型为IC50（半数抑制浓度）\n",
    "    relation=\"=\",                # 关系符为等于\n",
    "    assay_type=\"B\"                # 实验类型为B\n",
    ").only(\n",
    "    # 选择返回的数据字段\n",
    "    \"activity_id\",               # 活动ID\n",
    "    \"assay_chembl_id\",           # 实验的ChEMBL ID\n",
    "    \"assay_description\",         # 实验描述\n",
    "    \"assay_type\",                # 实验类型\n",
    "    \"molecule_chembl_id\",        # 分子的ChEMBL ID\n",
    "    \"type\",                      # 活动类型\n",
    "    \"standard_units\",            # 标准单位\n",
    "    \"relation\",                  # 活动值的关系符\n",
    "    \"standard_value\",            # 标准化后的活动值\n",
    "    \"target_chembl_id\",          # 目标的ChEMBL ID\n",
    "    \"target_organism\",           # 目标所属的生物体\n",
    ")\n",
    "\n",
    "# 打印生物活动对象的长度（数量）和数据类型\n",
    "print(f\"生物活动对象的长度和类型: {len(bioactivities)}, {type(bioactivities)}\")\n",
    "\n",
    "# 这段代码的作用是通过API过滤并获取符合条件的生物活动数据，然后输出获取到的数据数量和其数据类型。"
   ],
   "outputs": [
    {
     "name": "stdout",
     "output_type": "stream",
     "text": [
      "生物活动对象的长度和类型: 2, <class 'chembl_webresource_client.query_set.QuerySet'>\n"
     ]
    }
   ],
   "execution_count": 129
  },
  {
   "cell_type": "markdown",
   "id": "4d552c3f-e095-4e6a-9d40-a1e13650e98d",
   "metadata": {},
   "source": [
    "## 生物活性集的每个条目都包含以下信息："
   ]
  },
  {
   "cell_type": "code",
   "id": "9d1a7bf4-4402-4fb6-813a-9c73fd84d9a8",
   "metadata": {
    "ExecuteTime": {
     "end_time": "2024-10-13T10:21:47.188582Z",
     "start_time": "2024-10-13T10:21:47.183424Z"
    }
   },
   "source": [
    "print(f\"第一个元素的长度和类型: {len(bioactivities[0])}, {type(bioactivities[0])}\")\n",
    "bioactivities[0]"
   ],
   "outputs": [
    {
     "name": "stdout",
     "output_type": "stream",
     "text": [
      "第一个元素的长度和类型: 13, <class 'dict'>\n"
     ]
    },
    {
     "data": {
      "text/plain": [
       "{'activity_id': 22400925,\n",
       " 'assay_chembl_id': 'CHEMBL4669553',\n",
       " 'assay_description': 'Inhibition of ODC (unknown origin) expressed in Escherichia coli after 30 mins in presence of [1-14C] L-ornithine by liquid scintillation counter analysis',\n",
       " 'assay_type': 'B',\n",
       " 'molecule_chembl_id': 'CHEMBL359965',\n",
       " 'relation': '=',\n",
       " 'standard_units': 'nM',\n",
       " 'standard_value': '11.0',\n",
       " 'target_chembl_id': 'CHEMBL4680040',\n",
       " 'target_organism': 'Homo sapiens',\n",
       " 'type': 'IC50',\n",
       " 'units': 'nM',\n",
       " 'value': '11.0'}"
      ]
     },
     "execution_count": 130,
     "metadata": {},
     "output_type": "execute_result"
    }
   ],
   "execution_count": 130
  },
  {
   "cell_type": "markdown",
   "id": "255461c6-0c37-456e-9763-6c478977e537",
   "metadata": {},
   "source": [
    "'''\n",
    "- **activity_id**: `32262`\n",
    "  - 这是生物活性数据的唯一标识符，表示该条记录的编号。\n",
    "\n",
    "- **assay_chembl_id**: `'CHEMBL816964'`\n",
    "  - 这是实验（assay）的ChEMBL ID，用于唯一标识该生物实验。\n",
    "\n",
    "- **assay_description**: `'Inhibition of tyrosine phosphorylation in cells expressing human CAMK1D2 (Flk-1/KDR) kinase'`\n",
    "  - 实验的描述，说明实验的内容。在这里，实验是研究一种化合物对人类CAMK1D2（Flk-1/KDR）激酶磷酸化的抑制作用。\n",
    "\n",
    "- **assay_type**: `'B'`\n",
    "  - 实验类型，可能代表某种特定的实验类别或方法，例如细胞实验或体外实验。\n",
    "\n",
    "- **molecule_chembl_id**: `'CHEMBL68920'`\n",
    "  - 这是分子或化合物的ChEMBL ID，表示该条记录中研究的化合物的唯一标识符。\n",
    "\n",
    "- **relation**: `'='`\n",
    "  - 表示数值关系，在这里表示该生物活性值是精确的等于给出的值。\n",
    "\n",
    "- **standard_units**: `'nM'`\n",
    "  - 这是生物活性标准化后的单位。在该条记录中，单位是纳摩尔（nM）。\n",
    "\n",
    "- **standard_value**: `'16500.0'`\n",
    "  - 这是标准化后的生物活性值，表示IC50的值为16500纳摩尔（nM），即16.5微摩尔（uM）。\n",
    "\n",
    "- **target_chembl_id**: `'CHEMBL279'`\n",
    "  - 这是目标蛋白（如酶或受体）的ChEMBL ID，在此记录中，目标是编号为CHEMBL279的蛋白。\n",
    "\n",
    "- **target_organism**: `'Homo sapiens'`\n",
    "  - 目标生物体，这里表示实验是在人体的细胞或蛋白质上进行的。\n",
    "\n",
    "- **type**: `'IC50'`\n",
    "  - 活性类型，IC50表示半数抑制浓度，即能够抑制50%目标生物活性的化合物浓度。\n",
    "\n",
    "- **units**: `'uM'`\n",
    "  - 生物活性值的原始单位，在此为微摩尔（uM）。\n",
    "\n",
    "- **value**: `'16.5'`\n",
    "  - 实验原始记录的活性值，表示IC50为16.5微摩尔（uM）。\n",
    "\n",
    "这条记录描述了一个化合物（CHEMBL68920）在细胞实验中抑制人类CAMK1D2激酶磷酸化的IC50值为16.5微摩尔。\n",
    "'''"
   ]
  },
  {
   "cell_type": "markdown",
   "id": "10bcaff3-af03-4305-a1fc-deffe9a6c426",
   "metadata": {},
   "source": [
    "## 从ChEMBL下载生物活性数据\n",
    "\n",
    "最后，我们以pandasDataFrame 的形式下载QuerySet。\n",
    "\n",
    "⚠️下面这一行代码差不多需要等待10分钟样子，请您耐心等待，！❤️"
   ]
  },
  {
   "cell_type": "code",
   "id": "ddcf9982-5263-48c7-9f5c-ba1bfd58d36b",
   "metadata": {
    "ExecuteTime": {
     "end_time": "2024-10-13T10:21:48.654544Z",
     "start_time": "2024-10-13T10:21:48.632921Z"
    }
   },
   "source": [
    "bioactivities_df = pd.DataFrame.from_dict(bioactivities)\n",
    "print(f\"数据框架形状: {bioactivities_df.shape}\")\n",
    "bioactivities_df.head()"
   ],
   "outputs": [
    {
     "name": "stdout",
     "output_type": "stream",
     "text": [
      "数据框架形状: (2, 13)\n"
     ]
    },
    {
     "data": {
      "text/plain": [
       "   activity_id assay_chembl_id  \\\n",
       "0     22400925   CHEMBL4669553   \n",
       "1     22400926   CHEMBL4669553   \n",
       "\n",
       "                                   assay_description assay_type  \\\n",
       "0  Inhibition of ODC (unknown origin) expressed i...          B   \n",
       "1  Inhibition of ODC (unknown origin) expressed i...          B   \n",
       "\n",
       "  molecule_chembl_id relation standard_units standard_value target_chembl_id  \\\n",
       "0       CHEMBL359965        =             nM           11.0    CHEMBL4680040   \n",
       "1          CHEMBL830        =             nM       252000.0    CHEMBL4680040   \n",
       "\n",
       "  target_organism  type units  value  \n",
       "0    Homo sapiens  IC50    nM   11.0  \n",
       "1    Homo sapiens  IC50    uM  252.0  "
      ],
      "text/html": [
       "<div>\n",
       "<style scoped>\n",
       "    .dataframe tbody tr th:only-of-type {\n",
       "        vertical-align: middle;\n",
       "    }\n",
       "\n",
       "    .dataframe tbody tr th {\n",
       "        vertical-align: top;\n",
       "    }\n",
       "\n",
       "    .dataframe thead th {\n",
       "        text-align: right;\n",
       "    }\n",
       "</style>\n",
       "<table border=\"1\" class=\"dataframe\">\n",
       "  <thead>\n",
       "    <tr style=\"text-align: right;\">\n",
       "      <th></th>\n",
       "      <th>activity_id</th>\n",
       "      <th>assay_chembl_id</th>\n",
       "      <th>assay_description</th>\n",
       "      <th>assay_type</th>\n",
       "      <th>molecule_chembl_id</th>\n",
       "      <th>relation</th>\n",
       "      <th>standard_units</th>\n",
       "      <th>standard_value</th>\n",
       "      <th>target_chembl_id</th>\n",
       "      <th>target_organism</th>\n",
       "      <th>type</th>\n",
       "      <th>units</th>\n",
       "      <th>value</th>\n",
       "    </tr>\n",
       "  </thead>\n",
       "  <tbody>\n",
       "    <tr>\n",
       "      <th>0</th>\n",
       "      <td>22400925</td>\n",
       "      <td>CHEMBL4669553</td>\n",
       "      <td>Inhibition of ODC (unknown origin) expressed i...</td>\n",
       "      <td>B</td>\n",
       "      <td>CHEMBL359965</td>\n",
       "      <td>=</td>\n",
       "      <td>nM</td>\n",
       "      <td>11.0</td>\n",
       "      <td>CHEMBL4680040</td>\n",
       "      <td>Homo sapiens</td>\n",
       "      <td>IC50</td>\n",
       "      <td>nM</td>\n",
       "      <td>11.0</td>\n",
       "    </tr>\n",
       "    <tr>\n",
       "      <th>1</th>\n",
       "      <td>22400926</td>\n",
       "      <td>CHEMBL4669553</td>\n",
       "      <td>Inhibition of ODC (unknown origin) expressed i...</td>\n",
       "      <td>B</td>\n",
       "      <td>CHEMBL830</td>\n",
       "      <td>=</td>\n",
       "      <td>nM</td>\n",
       "      <td>252000.0</td>\n",
       "      <td>CHEMBL4680040</td>\n",
       "      <td>Homo sapiens</td>\n",
       "      <td>IC50</td>\n",
       "      <td>uM</td>\n",
       "      <td>252.0</td>\n",
       "    </tr>\n",
       "  </tbody>\n",
       "</table>\n",
       "</div>"
      ]
     },
     "execution_count": 131,
     "metadata": {},
     "output_type": "execute_result"
    }
   ],
   "execution_count": 131
  },
  {
   "cell_type": "code",
   "id": "dd96719f-68be-4e17-bf5c-2231b245a29e",
   "metadata": {
    "ExecuteTime": {
     "end_time": "2024-10-13T10:21:49.621047Z",
     "start_time": "2024-10-13T10:21:49.615051Z"
    }
   },
   "source": [
    "# 保存生物活性数据\n",
    "bioactivities_df.to_csv(DATA / \"bioactivities.csv\", index=False)"
   ],
   "outputs": [],
   "execution_count": 132
  },
  {
   "cell_type": "markdown",
   "id": "68a5cde0-4ebe-4327-afc2-82769f499741",
   "metadata": {},
   "source": [
    "## 如果使用单位和数值列，我们需要将所有不同单位的数值转换为 nM："
   ]
  },
  {
   "cell_type": "code",
   "id": "82132cc0-fb42-4305-b3be-ae17661eac98",
   "metadata": {
    "ExecuteTime": {
     "end_time": "2024-10-13T10:21:50.352462Z",
     "start_time": "2024-10-13T10:21:50.347566Z"
    }
   },
   "source": [
    "bioactivities_df[\"units\"].unique()"
   ],
   "outputs": [
    {
     "data": {
      "text/plain": [
       "array(['nM', 'uM'], dtype=object)"
      ]
     },
     "execution_count": 133,
     "metadata": {},
     "output_type": "execute_result"
    }
   ],
   "execution_count": 133
  },
  {
   "cell_type": "code",
   "id": "f81d20c4-48f8-4f4c-96c6-1cea7330a166",
   "metadata": {
    "ExecuteTime": {
     "end_time": "2024-10-13T10:21:50.803343Z",
     "start_time": "2024-10-13T10:21:50.786450Z"
    }
   },
   "source": [
    "bioactivities_df.drop([\"units\", \"value\"], axis=1, inplace=True)\n",
    "bioactivities_df.head()"
   ],
   "outputs": [
    {
     "data": {
      "text/plain": [
       "   activity_id assay_chembl_id  \\\n",
       "0     22400925   CHEMBL4669553   \n",
       "1     22400926   CHEMBL4669553   \n",
       "\n",
       "                                   assay_description assay_type  \\\n",
       "0  Inhibition of ODC (unknown origin) expressed i...          B   \n",
       "1  Inhibition of ODC (unknown origin) expressed i...          B   \n",
       "\n",
       "  molecule_chembl_id relation standard_units standard_value target_chembl_id  \\\n",
       "0       CHEMBL359965        =             nM           11.0    CHEMBL4680040   \n",
       "1          CHEMBL830        =             nM       252000.0    CHEMBL4680040   \n",
       "\n",
       "  target_organism  type  \n",
       "0    Homo sapiens  IC50  \n",
       "1    Homo sapiens  IC50  "
      ],
      "text/html": [
       "<div>\n",
       "<style scoped>\n",
       "    .dataframe tbody tr th:only-of-type {\n",
       "        vertical-align: middle;\n",
       "    }\n",
       "\n",
       "    .dataframe tbody tr th {\n",
       "        vertical-align: top;\n",
       "    }\n",
       "\n",
       "    .dataframe thead th {\n",
       "        text-align: right;\n",
       "    }\n",
       "</style>\n",
       "<table border=\"1\" class=\"dataframe\">\n",
       "  <thead>\n",
       "    <tr style=\"text-align: right;\">\n",
       "      <th></th>\n",
       "      <th>activity_id</th>\n",
       "      <th>assay_chembl_id</th>\n",
       "      <th>assay_description</th>\n",
       "      <th>assay_type</th>\n",
       "      <th>molecule_chembl_id</th>\n",
       "      <th>relation</th>\n",
       "      <th>standard_units</th>\n",
       "      <th>standard_value</th>\n",
       "      <th>target_chembl_id</th>\n",
       "      <th>target_organism</th>\n",
       "      <th>type</th>\n",
       "    </tr>\n",
       "  </thead>\n",
       "  <tbody>\n",
       "    <tr>\n",
       "      <th>0</th>\n",
       "      <td>22400925</td>\n",
       "      <td>CHEMBL4669553</td>\n",
       "      <td>Inhibition of ODC (unknown origin) expressed i...</td>\n",
       "      <td>B</td>\n",
       "      <td>CHEMBL359965</td>\n",
       "      <td>=</td>\n",
       "      <td>nM</td>\n",
       "      <td>11.0</td>\n",
       "      <td>CHEMBL4680040</td>\n",
       "      <td>Homo sapiens</td>\n",
       "      <td>IC50</td>\n",
       "    </tr>\n",
       "    <tr>\n",
       "      <th>1</th>\n",
       "      <td>22400926</td>\n",
       "      <td>CHEMBL4669553</td>\n",
       "      <td>Inhibition of ODC (unknown origin) expressed i...</td>\n",
       "      <td>B</td>\n",
       "      <td>CHEMBL830</td>\n",
       "      <td>=</td>\n",
       "      <td>nM</td>\n",
       "      <td>252000.0</td>\n",
       "      <td>CHEMBL4680040</td>\n",
       "      <td>Homo sapiens</td>\n",
       "      <td>IC50</td>\n",
       "    </tr>\n",
       "  </tbody>\n",
       "</table>\n",
       "</div>"
      ]
     },
     "execution_count": 134,
     "metadata": {},
     "output_type": "execute_result"
    }
   ],
   "execution_count": 134
  },
  {
   "cell_type": "markdown",
   "id": "77fd2df5-5b70-4e65-bf5b-01f6cbd282a1",
   "metadata": {},
   "source": [
    "## 预处理和过滤生物活性数据\n",
    "- 将standard_value的数据类型从对象转换为浮点数\n",
    "- 删除缺失值的条目\n",
    "- 只保留标准单位 == nM 的条目\n",
    "- 删除重复的分子\n",
    "- 重置数据帧索引\n",
    "- 重新命名列"
   ]
  },
  {
   "cell_type": "markdown",
   "id": "b0066681-f4f7-44fa-a061-990c545cb61b",
   "metadata": {},
   "source": [
    "## 1.将 \"standard_value \"的数据类型从 \"object \"转换为 \"float\"。\n",
    "\n",
    "字段standard_value保存的是标准化值（此处为 IC50）。为了在以后的计算中使用这些值，请将其转换为浮点数。"
   ]
  },
  {
   "cell_type": "code",
   "id": "22de00dd-6d0c-4af0-bf66-dbddfe53dc2a",
   "metadata": {
    "ExecuteTime": {
     "end_time": "2024-10-13T10:21:52.177185Z",
     "start_time": "2024-10-13T10:21:52.171591Z"
    }
   },
   "source": [
    "bioactivities_df.dtypes"
   ],
   "outputs": [
    {
     "data": {
      "text/plain": [
       "activity_id            int64\n",
       "assay_chembl_id       object\n",
       "assay_description     object\n",
       "assay_type            object\n",
       "molecule_chembl_id    object\n",
       "relation              object\n",
       "standard_units        object\n",
       "standard_value        object\n",
       "target_chembl_id      object\n",
       "target_organism       object\n",
       "type                  object\n",
       "dtype: object"
      ]
     },
     "execution_count": 135,
     "metadata": {},
     "output_type": "execute_result"
    }
   ],
   "execution_count": 135
  },
  {
   "cell_type": "code",
   "id": "e59d3a73-44e5-4f8a-9ebe-4cb8c9c87075",
   "metadata": {
    "ExecuteTime": {
     "end_time": "2024-10-13T10:21:52.881903Z",
     "start_time": "2024-10-13T10:21:52.873108Z"
    }
   },
   "source": [
    "bioactivities_df = bioactivities_df.astype({\"standard_value\": \"float64\"})\n",
    "bioactivities_df.dtypes"
   ],
   "outputs": [
    {
     "data": {
      "text/plain": [
       "activity_id             int64\n",
       "assay_chembl_id        object\n",
       "assay_description      object\n",
       "assay_type             object\n",
       "molecule_chembl_id     object\n",
       "relation               object\n",
       "standard_units         object\n",
       "standard_value        float64\n",
       "target_chembl_id       object\n",
       "target_organism        object\n",
       "type                   object\n",
       "dtype: object"
      ]
     },
     "execution_count": 136,
     "metadata": {},
     "output_type": "execute_result"
    }
   ],
   "execution_count": 136
  },
  {
   "cell_type": "markdown",
   "id": "b1ecc3b0-0ddb-406f-869a-1c7ccd5ac7ac",
   "metadata": {},
   "source": [
    "## 2.删除缺失值的条目\n",
    "\n",
    "使用参数inplace=True可直接在当前DataFrame中丢弃数值。"
   ]
  },
  {
   "cell_type": "code",
   "id": "fecb4c8c-f2e4-4ec9-b03d-3482f89590ab",
   "metadata": {
    "ExecuteTime": {
     "end_time": "2024-10-13T10:21:53.792884Z",
     "start_time": "2024-10-13T10:21:53.787883Z"
    }
   },
   "source": [
    "bioactivities_df.dropna(axis=0, how=\"any\", inplace=True)\n",
    "print(f\"数据框架形状: {bioactivities_df.shape}\")"
   ],
   "outputs": [
    {
     "name": "stdout",
     "output_type": "stream",
     "text": [
      "数据框架形状: (2, 11)\n"
     ]
    }
   ],
   "execution_count": 137
  },
  {
   "cell_type": "markdown",
   "id": "b44b7c70-ebce-4b62-aa41-9f0fa9a38487",
   "metadata": {},
   "source": [
    "## 3.只保留 \"标准单位 == nM \"的条目\n",
    "\n",
    "我们只想保留nM 单位的生物活性条目，因此删除了所有其他单位的条目。"
   ]
  },
  {
   "cell_type": "code",
   "id": "c1d1d714-208b-4d8e-a45e-3b4faaa5edb9",
   "metadata": {
    "ExecuteTime": {
     "end_time": "2024-10-13T10:21:54.568604Z",
     "start_time": "2024-10-13T10:21:54.563050Z"
    }
   },
   "source": [
    "print(f\"下载数据的单位: {bioactivities_df['standard_units'].unique()}\")\n",
    "print(\n",
    "    f\"非 NM 条目的数量:\\\n",
    "    {bioactivities_df[bioactivities_df['standard_units'] != 'nM'].shape[0]}\"\n",
    ")"
   ],
   "outputs": [
    {
     "name": "stdout",
     "output_type": "stream",
     "text": [
      "下载数据的单位: ['nM']\n",
      "非 NM 条目的数量:    0\n"
     ]
    }
   ],
   "execution_count": 138
  },
  {
   "cell_type": "code",
   "id": "e50fc95e-717b-4397-aa88-2a4d6f8c4fd6",
   "metadata": {
    "ExecuteTime": {
     "end_time": "2024-10-13T10:21:54.898686Z",
     "start_time": "2024-10-13T10:21:54.893767Z"
    }
   },
   "source": [
    "bioactivities_df = bioactivities_df[bioactivities_df[\"standard_units\"] == \"nM\"]\n",
    "print(f\"过滤后的单位: {bioactivities_df['standard_units'].unique()}\")"
   ],
   "outputs": [
    {
     "name": "stdout",
     "output_type": "stream",
     "text": [
      "过滤后的单位: ['nM']\n"
     ]
    }
   ],
   "execution_count": 139
  },
  {
   "cell_type": "code",
   "id": "e19edf62-f07c-45cc-9956-b4320c50467d",
   "metadata": {
    "ExecuteTime": {
     "end_time": "2024-10-13T10:21:55.167436Z",
     "start_time": "2024-10-13T10:21:55.164337Z"
    }
   },
   "source": [
    "print(f\"数据框架形状: {bioactivities_df.shape}\")"
   ],
   "outputs": [
    {
     "name": "stdout",
     "output_type": "stream",
     "text": [
      "数据框架形状: (2, 11)\n"
     ]
    }
   ],
   "execution_count": 140
  },
  {
   "cell_type": "code",
   "id": "2caab210-4cd1-47d3-8fc0-27b942578cba",
   "metadata": {
    "ExecuteTime": {
     "end_time": "2024-10-13T10:21:55.444226Z",
     "start_time": "2024-10-13T10:21:55.440168Z"
    }
   },
   "source": [
    "# 保存生物活性数据只有nM的数据\n",
    "bioactivities_df.to_csv(DATA / \"bioactivities_only_nM.csv\", index=False)"
   ],
   "outputs": [],
   "execution_count": 141
  },
  {
   "cell_type": "markdown",
   "id": "5a5a0901-1ea3-4fd0-b01c-1a2a43b4acb6",
   "metadata": {},
   "source": [
    "## 4.删除重复的分子\n",
    "\n",
    "有时，同一个分子（molecule_chembl_id）会被测试多次，在这种情况下，我们只保留第一次测试的结果。\n",
    "\n",
    "请注意，其他选择可以是保留最佳值或相应化合物所有检测结果的平均值。"
   ]
  },
  {
   "cell_type": "code",
   "id": "938fe1b3-535d-485e-988d-88288770969e",
   "metadata": {
    "ExecuteTime": {
     "end_time": "2024-10-13T10:21:56.067749Z",
     "start_time": "2024-10-13T10:21:56.061453Z"
    }
   },
   "source": [
    "bioactivities_df.drop_duplicates(\"molecule_chembl_id\", keep=\"first\", inplace=True)\n",
    "print(f\"数据框架形状: {bioactivities_df.shape}\")"
   ],
   "outputs": [
    {
     "name": "stdout",
     "output_type": "stream",
     "text": [
      "数据框架形状: (2, 11)\n"
     ]
    }
   ],
   "execution_count": 142
  },
  {
   "cell_type": "markdown",
   "id": "0a95f719-9670-44b4-a644-97aa0f4a3971",
   "metadata": {},
   "source": [
    "## 5.重置 \"DataFrame \"索引\n",
    "\n",
    "由于我们删除了一些记录，但我们希望稍后遍历该索引，因此我们重置该索引为连续索引。"
   ]
  },
  {
   "cell_type": "code",
   "id": "4f6cae86-659b-42fc-b65d-3ea183c86402",
   "metadata": {
    "ExecuteTime": {
     "end_time": "2024-10-13T10:21:56.691269Z",
     "start_time": "2024-10-13T10:21:56.674083Z"
    }
   },
   "source": [
    "bioactivities_df.reset_index(drop=True, inplace=True)\n",
    "bioactivities_df.head()"
   ],
   "outputs": [
    {
     "data": {
      "text/plain": [
       "   activity_id assay_chembl_id  \\\n",
       "0     22400925   CHEMBL4669553   \n",
       "1     22400926   CHEMBL4669553   \n",
       "\n",
       "                                   assay_description assay_type  \\\n",
       "0  Inhibition of ODC (unknown origin) expressed i...          B   \n",
       "1  Inhibition of ODC (unknown origin) expressed i...          B   \n",
       "\n",
       "  molecule_chembl_id relation standard_units  standard_value target_chembl_id  \\\n",
       "0       CHEMBL359965        =             nM            11.0    CHEMBL4680040   \n",
       "1          CHEMBL830        =             nM        252000.0    CHEMBL4680040   \n",
       "\n",
       "  target_organism  type  \n",
       "0    Homo sapiens  IC50  \n",
       "1    Homo sapiens  IC50  "
      ],
      "text/html": [
       "<div>\n",
       "<style scoped>\n",
       "    .dataframe tbody tr th:only-of-type {\n",
       "        vertical-align: middle;\n",
       "    }\n",
       "\n",
       "    .dataframe tbody tr th {\n",
       "        vertical-align: top;\n",
       "    }\n",
       "\n",
       "    .dataframe thead th {\n",
       "        text-align: right;\n",
       "    }\n",
       "</style>\n",
       "<table border=\"1\" class=\"dataframe\">\n",
       "  <thead>\n",
       "    <tr style=\"text-align: right;\">\n",
       "      <th></th>\n",
       "      <th>activity_id</th>\n",
       "      <th>assay_chembl_id</th>\n",
       "      <th>assay_description</th>\n",
       "      <th>assay_type</th>\n",
       "      <th>molecule_chembl_id</th>\n",
       "      <th>relation</th>\n",
       "      <th>standard_units</th>\n",
       "      <th>standard_value</th>\n",
       "      <th>target_chembl_id</th>\n",
       "      <th>target_organism</th>\n",
       "      <th>type</th>\n",
       "    </tr>\n",
       "  </thead>\n",
       "  <tbody>\n",
       "    <tr>\n",
       "      <th>0</th>\n",
       "      <td>22400925</td>\n",
       "      <td>CHEMBL4669553</td>\n",
       "      <td>Inhibition of ODC (unknown origin) expressed i...</td>\n",
       "      <td>B</td>\n",
       "      <td>CHEMBL359965</td>\n",
       "      <td>=</td>\n",
       "      <td>nM</td>\n",
       "      <td>11.0</td>\n",
       "      <td>CHEMBL4680040</td>\n",
       "      <td>Homo sapiens</td>\n",
       "      <td>IC50</td>\n",
       "    </tr>\n",
       "    <tr>\n",
       "      <th>1</th>\n",
       "      <td>22400926</td>\n",
       "      <td>CHEMBL4669553</td>\n",
       "      <td>Inhibition of ODC (unknown origin) expressed i...</td>\n",
       "      <td>B</td>\n",
       "      <td>CHEMBL830</td>\n",
       "      <td>=</td>\n",
       "      <td>nM</td>\n",
       "      <td>252000.0</td>\n",
       "      <td>CHEMBL4680040</td>\n",
       "      <td>Homo sapiens</td>\n",
       "      <td>IC50</td>\n",
       "    </tr>\n",
       "  </tbody>\n",
       "</table>\n",
       "</div>"
      ]
     },
     "execution_count": 143,
     "metadata": {},
     "output_type": "execute_result"
    }
   ],
   "execution_count": 143
  },
  {
   "cell_type": "markdown",
   "id": "83d4dbfd-3e54-4f1b-b596-47f368907b94",
   "metadata": {},
   "source": [
    "## 6.重新命名列"
   ]
  },
  {
   "cell_type": "code",
   "id": "bbd0eb6b-d98d-4483-b56f-1094bc63bff6",
   "metadata": {
    "ExecuteTime": {
     "end_time": "2024-10-13T10:21:57.561757Z",
     "start_time": "2024-10-13T10:21:57.544371Z"
    }
   },
   "source": [
    "bioactivities_df.rename(\n",
    "    columns={\"standard_value\": \"IC50\", \"standard_units\": \"units\"}, inplace=True\n",
    ")\n",
    "bioactivities_df.head()"
   ],
   "outputs": [
    {
     "data": {
      "text/plain": [
       "   activity_id assay_chembl_id  \\\n",
       "0     22400925   CHEMBL4669553   \n",
       "1     22400926   CHEMBL4669553   \n",
       "\n",
       "                                   assay_description assay_type  \\\n",
       "0  Inhibition of ODC (unknown origin) expressed i...          B   \n",
       "1  Inhibition of ODC (unknown origin) expressed i...          B   \n",
       "\n",
       "  molecule_chembl_id relation units      IC50 target_chembl_id  \\\n",
       "0       CHEMBL359965        =    nM      11.0    CHEMBL4680040   \n",
       "1          CHEMBL830        =    nM  252000.0    CHEMBL4680040   \n",
       "\n",
       "  target_organism  type  \n",
       "0    Homo sapiens  IC50  \n",
       "1    Homo sapiens  IC50  "
      ],
      "text/html": [
       "<div>\n",
       "<style scoped>\n",
       "    .dataframe tbody tr th:only-of-type {\n",
       "        vertical-align: middle;\n",
       "    }\n",
       "\n",
       "    .dataframe tbody tr th {\n",
       "        vertical-align: top;\n",
       "    }\n",
       "\n",
       "    .dataframe thead th {\n",
       "        text-align: right;\n",
       "    }\n",
       "</style>\n",
       "<table border=\"1\" class=\"dataframe\">\n",
       "  <thead>\n",
       "    <tr style=\"text-align: right;\">\n",
       "      <th></th>\n",
       "      <th>activity_id</th>\n",
       "      <th>assay_chembl_id</th>\n",
       "      <th>assay_description</th>\n",
       "      <th>assay_type</th>\n",
       "      <th>molecule_chembl_id</th>\n",
       "      <th>relation</th>\n",
       "      <th>units</th>\n",
       "      <th>IC50</th>\n",
       "      <th>target_chembl_id</th>\n",
       "      <th>target_organism</th>\n",
       "      <th>type</th>\n",
       "    </tr>\n",
       "  </thead>\n",
       "  <tbody>\n",
       "    <tr>\n",
       "      <th>0</th>\n",
       "      <td>22400925</td>\n",
       "      <td>CHEMBL4669553</td>\n",
       "      <td>Inhibition of ODC (unknown origin) expressed i...</td>\n",
       "      <td>B</td>\n",
       "      <td>CHEMBL359965</td>\n",
       "      <td>=</td>\n",
       "      <td>nM</td>\n",
       "      <td>11.0</td>\n",
       "      <td>CHEMBL4680040</td>\n",
       "      <td>Homo sapiens</td>\n",
       "      <td>IC50</td>\n",
       "    </tr>\n",
       "    <tr>\n",
       "      <th>1</th>\n",
       "      <td>22400926</td>\n",
       "      <td>CHEMBL4669553</td>\n",
       "      <td>Inhibition of ODC (unknown origin) expressed i...</td>\n",
       "      <td>B</td>\n",
       "      <td>CHEMBL830</td>\n",
       "      <td>=</td>\n",
       "      <td>nM</td>\n",
       "      <td>252000.0</td>\n",
       "      <td>CHEMBL4680040</td>\n",
       "      <td>Homo sapiens</td>\n",
       "      <td>IC50</td>\n",
       "    </tr>\n",
       "  </tbody>\n",
       "</table>\n",
       "</div>"
      ]
     },
     "execution_count": 144,
     "metadata": {},
     "output_type": "execute_result"
    }
   ],
   "execution_count": 144
  },
  {
   "cell_type": "code",
   "id": "f7d9469e-06e1-465f-a32b-b975ce259085",
   "metadata": {
    "ExecuteTime": {
     "end_time": "2024-10-13T10:21:57.882935Z",
     "start_time": "2024-10-13T10:21:57.878023Z"
    }
   },
   "source": [
    "# 保存生物活性数据过滤好的数据\n",
    "bioactivities_df.to_csv(DATA / \"bioactivities_filtration.csv\", index=False)"
   ],
   "outputs": [],
   "execution_count": 145
  },
  {
   "cell_type": "code",
   "id": "c3c4ad5a-b42c-472c-9a97-d4c5537df207",
   "metadata": {
    "ExecuteTime": {
     "end_time": "2024-10-13T10:21:58.481975Z",
     "start_time": "2024-10-13T10:21:58.478307Z"
    }
   },
   "source": [
    "print(f\"数据框架形状： {bioactivities_df.shape}\")"
   ],
   "outputs": [
    {
     "name": "stdout",
     "output_type": "stream",
     "text": [
      "数据框架形状： (2, 11)\n"
     ]
    }
   ],
   "execution_count": 146
  },
  {
   "cell_type": "markdown",
   "id": "59ed1cae-cf9f-4720-9b3d-40c230341f88",
   "metadata": {},
   "source": [
    "现在，我们有了一组7504 个分子 ID，以及各自针对目标激酶的 IC50 值。"
   ]
  },
  {
   "cell_type": "markdown",
   "id": "f28ae0ba-9fb5-48c2-b28a-6301912b3a72",
   "metadata": {},
   "source": [
    "## 获取复合数据\n",
    "\n",
    "我们有一个DataFrame，其中包含针对CAMK1D测试的所有分子（以及各自测得的生物活性）。\n",
    "\n",
    "现在，我们要获取与各自生物活性 ChEMBL ID 相关联的分子结构。\n",
    "\n",
    "## 从ChEMBL获取化合物数据\n",
    "\n",
    "让我们来看看 ChEMBL 中定义了生物活性数据的化合物：我们从 ChEMBL 中获取与我们过滤的生物活性数据相关联的化合物 ID 和结构。"
   ]
  },
  {
   "cell_type": "code",
   "id": "ca136709-f2e9-4bb3-a4ac-43b8ba56d50d",
   "metadata": {
    "ExecuteTime": {
     "end_time": "2024-10-13T10:21:59.928444Z",
     "start_time": "2024-10-13T10:21:59.921922Z"
    }
   },
   "source": [
    "compounds_provider = compounds_api.filter(\n",
    "    molecule_chembl_id__in=list(bioactivities_df[\"molecule_chembl_id\"])\n",
    ").only(\"molecule_chembl_id\", \"molecule_structures\")"
   ],
   "outputs": [],
   "execution_count": 147
  },
  {
   "cell_type": "markdown",
   "id": "fb0248fc-1a41-4508-b17e-40e9fca80896",
   "metadata": {},
   "source": [
    "## 从ChEMBL下载化合物数据¶\n",
    "\n",
    "同样，我们要将QuerySet对象导出到pandas.DataFrame 中。考虑到数据量，这可能需要一些时间。因此，我们将首先通过tqdm 获取记录列表，这样就能得到一个漂亮的进度条和一些 ETA。然后，我们可以将化合物列表传递给 DataFrame。\n",
    "\n",
    "❤️这里需要耐心等待，需要30分钟左右！！！！！❤️"
   ]
  },
  {
   "cell_type": "code",
   "id": "f2b49745-6b7d-4ff1-8698-b45c3f6d6d9b",
   "metadata": {
    "ExecuteTime": {
     "end_time": "2024-10-13T10:22:02.185302Z",
     "start_time": "2024-10-13T10:22:02.152429Z"
    }
   },
   "source": [
    "compounds = list(tqdm(compounds_provider))"
   ],
   "outputs": [
    {
     "data": {
      "text/plain": [
       "  0%|          | 0/2 [00:00<?, ?it/s]"
      ],
      "application/vnd.jupyter.widget-view+json": {
       "version_major": 2,
       "version_minor": 0,
       "model_id": "1d9ca3910acd4ab0bb348d01eb963ed6"
      }
     },
     "metadata": {},
     "output_type": "display_data"
    }
   ],
   "execution_count": 148
  },
  {
   "cell_type": "code",
   "id": "0534491b-529a-4ed5-9972-8920f58870c4",
   "metadata": {
    "ExecuteTime": {
     "end_time": "2024-10-13T10:22:02.246712Z",
     "start_time": "2024-10-13T10:22:02.243077Z"
    }
   },
   "source": [
    "# 保存从ChEMBL下载化合物数据\n",
    "bioactivities_df.to_csv(DATA / \"bioactivities_compounds.csv\", index=False)"
   ],
   "outputs": [],
   "execution_count": 149
  },
  {
   "cell_type": "code",
   "id": "dc6618fd-f0a9-40e0-bf17-35fb99fb6e65",
   "metadata": {
    "ExecuteTime": {
     "end_time": "2024-10-13T10:22:02.314129Z",
     "start_time": "2024-10-13T10:22:02.311589Z"
    }
   },
   "source": [
    "# # 读取bioactivities_compounds.csv文件\n",
    "# compounds = pd.read_csv(DATA / \"bioactivities_compounds.csv\")\n",
    "# compounds"
   ],
   "outputs": [],
   "execution_count": 150
  },
  {
   "cell_type": "code",
   "id": "2dfc70f7-e330-417a-8b18-a764ea4ece26",
   "metadata": {
    "ExecuteTime": {
     "end_time": "2024-10-13T10:22:03.120178Z",
     "start_time": "2024-10-13T10:22:03.115985Z"
    }
   },
   "source": [
    "compounds_df = pd.DataFrame.from_records(\n",
    "    compounds,\n",
    ")\n",
    "print(f\"数据框架形状: {compounds_df.shape}\")"
   ],
   "outputs": [
    {
     "name": "stdout",
     "output_type": "stream",
     "text": [
      "数据框架形状: (2, 2)\n"
     ]
    }
   ],
   "execution_count": 151
  },
  {
   "cell_type": "code",
   "id": "2addbd1d-4b44-44f1-993b-95f96258a1f9",
   "metadata": {
    "ExecuteTime": {
     "end_time": "2024-10-13T10:22:03.807928Z",
     "start_time": "2024-10-13T10:22:03.800113Z"
    }
   },
   "source": [
    "# 查看前面几行：\n",
    "compounds_df.head()"
   ],
   "outputs": [
    {
     "data": {
      "text/plain": [
       "  molecule_chembl_id                                molecule_structures\n",
       "0          CHEMBL830  {'canonical_smiles': 'NCCCC(N)(C(=O)O)C(F)F', ...\n",
       "1       CHEMBL359965  {'canonical_smiles': 'C=CCS[S+]([O-])CC=C', 'm..."
      ],
      "text/html": [
       "<div>\n",
       "<style scoped>\n",
       "    .dataframe tbody tr th:only-of-type {\n",
       "        vertical-align: middle;\n",
       "    }\n",
       "\n",
       "    .dataframe tbody tr th {\n",
       "        vertical-align: top;\n",
       "    }\n",
       "\n",
       "    .dataframe thead th {\n",
       "        text-align: right;\n",
       "    }\n",
       "</style>\n",
       "<table border=\"1\" class=\"dataframe\">\n",
       "  <thead>\n",
       "    <tr style=\"text-align: right;\">\n",
       "      <th></th>\n",
       "      <th>molecule_chembl_id</th>\n",
       "      <th>molecule_structures</th>\n",
       "    </tr>\n",
       "  </thead>\n",
       "  <tbody>\n",
       "    <tr>\n",
       "      <th>0</th>\n",
       "      <td>CHEMBL830</td>\n",
       "      <td>{'canonical_smiles': 'NCCCC(N)(C(=O)O)C(F)F', ...</td>\n",
       "    </tr>\n",
       "    <tr>\n",
       "      <th>1</th>\n",
       "      <td>CHEMBL359965</td>\n",
       "      <td>{'canonical_smiles': 'C=CCS[S+]([O-])CC=C', 'm...</td>\n",
       "    </tr>\n",
       "  </tbody>\n",
       "</table>\n",
       "</div>"
      ]
     },
     "execution_count": 152,
     "metadata": {},
     "output_type": "execute_result"
    }
   ],
   "execution_count": 152
  },
  {
   "cell_type": "markdown",
   "id": "45a47d4c-46e4-4f5b-97aa-30574f04a221",
   "metadata": {},
   "source": [
    "## 预处理和过滤复合数据\n",
    "\n",
    "- 删除缺失的条目\n",
    "- 删除重复的分子（按 molecule_chembl_id 计）\n",
    "- 使用标准 SMILES 获取分子"
   ]
  },
  {
   "cell_type": "markdown",
   "id": "f90c8954-2934-477d-b500-9ede89018b7e",
   "metadata": {},
   "source": [
    "## 1.删除缺少分子结构条目的条目"
   ]
  },
  {
   "cell_type": "code",
   "id": "89db0149-1125-4de3-a49e-2549bf21ed95",
   "metadata": {
    "ExecuteTime": {
     "end_time": "2024-10-13T10:22:06.835306Z",
     "start_time": "2024-10-13T10:22:06.829872Z"
    }
   },
   "source": [
    "compounds_df.dropna(axis=0, how=\"any\", inplace=True)\n",
    "print(f\"数据框架形状: {compounds_df.shape}\")"
   ],
   "outputs": [
    {
     "name": "stdout",
     "output_type": "stream",
     "text": [
      "数据框架形状: (2, 2)\n"
     ]
    }
   ],
   "execution_count": 153
  },
  {
   "cell_type": "markdown",
   "id": "c37aa087-4567-4322-bf84-d1f5fdd2578d",
   "metadata": {},
   "source": [
    "## 2.删除重复的分子"
   ]
  },
  {
   "cell_type": "code",
   "id": "58c18916-b0bc-40e4-840a-eb3e07f18154",
   "metadata": {
    "ExecuteTime": {
     "end_time": "2024-10-13T10:22:07.626798Z",
     "start_time": "2024-10-13T10:22:07.621544Z"
    }
   },
   "source": [
    "compounds_df.drop_duplicates(\"molecule_chembl_id\", keep=\"first\", inplace=True)\n",
    "print(f\"数据框架形状: {compounds_df.shape}\")"
   ],
   "outputs": [
    {
     "name": "stdout",
     "output_type": "stream",
     "text": [
      "数据框架形状: (2, 2)\n"
     ]
    }
   ],
   "execution_count": 154
  },
  {
   "cell_type": "markdown",
   "id": "9aa7a5e4-b8b4-4aaf-9a80-40b53428ab63",
   "metadata": {},
   "source": [
    "## 3.用标准 SMILES 获取分子"
   ]
  },
  {
   "cell_type": "code",
   "id": "1419dff5-e670-4c8e-9adb-88b39ad35ccb",
   "metadata": {
    "ExecuteTime": {
     "end_time": "2024-10-13T10:22:08.741169Z",
     "start_time": "2024-10-13T10:22:08.736326Z"
    }
   },
   "source": [
    "# 到目前为止，我们有多种不同的分子结构表示法。我们只想保留标准的 SMILES。\n",
    "compounds_df.iloc[0].molecule_structures.keys()"
   ],
   "outputs": [
    {
     "data": {
      "text/plain": [
       "dict_keys(['canonical_smiles', 'molfile', 'standard_inchi', 'standard_inchi_key'])"
      ]
     },
     "execution_count": 155,
     "metadata": {},
     "output_type": "execute_result"
    }
   ],
   "execution_count": 155
  },
  {
   "cell_type": "code",
   "id": "b5c3d284-9f48-458c-82ad-33ca9365cc0c",
   "metadata": {
    "ExecuteTime": {
     "end_time": "2024-10-13T10:22:09.021130Z",
     "start_time": "2024-10-13T10:22:09.014782Z"
    }
   },
   "source": [
    "# 初始化一个空列表，用于存储化合物的canonical SMILES字符串\n",
    "canonical_smiles = []\n",
    "\n",
    "# 使用iterrows()方法迭代compounds_df数据框中的每一行数据\n",
    "for i, compounds in compounds_df.iterrows():\n",
    "    try:\n",
    "        # 尝试从当前化合物的'molecule_structures'字段中提取'canonical_smiles'\n",
    "        canonical_smiles.append(compounds[\"molecule_structures\"][\"canonical_smiles\"])\n",
    "    except KeyError:\n",
    "        # 如果'molecule_structures'字段中没有'canonical_smiles'键，则添加None\n",
    "        canonical_smiles.append(None)\n",
    "\n",
    "# 将提取到的canonical_smiles列表作为新列添加到数据框中\n",
    "compounds_df[\"smiles\"] = canonical_smiles\n",
    "\n",
    "# 删除不再需要的'molecule_structures'列\n",
    "compounds_df.drop(\"molecule_structures\", axis=1, inplace=True)\n",
    "\n",
    "# 输出数据框的形状，显示行数和列数\n",
    "print(f\"数据框架形状: {compounds_df.shape}\")\n"
   ],
   "outputs": [
    {
     "name": "stdout",
     "output_type": "stream",
     "text": [
      "数据框架形状: (2, 2)\n"
     ]
    }
   ],
   "execution_count": 156
  },
  {
   "cell_type": "markdown",
   "id": "6b6c596f-b829-4e12-be6b-cd8d4f87d4b0",
   "metadata": {},
   "source": [
    "## 合理性检查：删除所有没有规范 SMILES 字符串的分子。"
   ]
  },
  {
   "cell_type": "code",
   "id": "c0611bf4-025c-4ef8-b9ad-2fdb3bc6afb8",
   "metadata": {
    "ExecuteTime": {
     "end_time": "2024-10-13T10:22:09.723102Z",
     "start_time": "2024-10-13T10:22:09.718656Z"
    }
   },
   "source": [
    "compounds_df.dropna(axis=0, how=\"any\", inplace=True)\n",
    "print(f\"数据框架形状: {compounds_df.shape}\")"
   ],
   "outputs": [
    {
     "name": "stdout",
     "output_type": "stream",
     "text": [
      "数据框架形状: (2, 2)\n"
     ]
    }
   ],
   "execution_count": 157
  },
  {
   "cell_type": "markdown",
   "id": "0dfa41f0-ba35-4395-a55b-59b546f901c4",
   "metadata": {},
   "source": [
    "## 输出（生物活性-化合物）数据\n",
    "\n",
    "- 化合物和生物活性数据摘要"
   ]
  },
  {
   "cell_type": "code",
   "id": "564039f5-64d0-4032-94e2-1e2432fc1988",
   "metadata": {
    "ExecuteTime": {
     "end_time": "2024-10-13T10:22:10.265842Z",
     "start_time": "2024-10-13T10:22:10.259491Z"
    }
   },
   "source": [
    "print(f\"生物活性筛选: {bioactivities_df.shape[0]}\")\n",
    "bioactivities_df.columns"
   ],
   "outputs": [
    {
     "name": "stdout",
     "output_type": "stream",
     "text": [
      "生物活性筛选: 2\n"
     ]
    },
    {
     "data": {
      "text/plain": [
       "Index(['activity_id', 'assay_chembl_id', 'assay_description', 'assay_type',\n",
       "       'molecule_chembl_id', 'relation', 'units', 'IC50', 'target_chembl_id',\n",
       "       'target_organism', 'type'],\n",
       "      dtype='object')"
      ]
     },
     "execution_count": 158,
     "metadata": {},
     "output_type": "execute_result"
    }
   ],
   "execution_count": 158
  },
  {
   "cell_type": "code",
   "id": "bd1a6d83-0b39-4025-877d-8f800291dd0d",
   "metadata": {
    "ExecuteTime": {
     "end_time": "2024-10-13T10:22:10.688958Z",
     "start_time": "2024-10-13T10:22:10.684249Z"
    }
   },
   "source": [
    "print(f\"化合物过滤: {compounds_df.shape[0]}\")\n",
    "compounds_df.columns"
   ],
   "outputs": [
    {
     "name": "stdout",
     "output_type": "stream",
     "text": [
      "化合物过滤: 2\n"
     ]
    },
    {
     "data": {
      "text/plain": [
       "Index(['molecule_chembl_id', 'smiles'], dtype='object')"
      ]
     },
     "execution_count": 159,
     "metadata": {},
     "output_type": "execute_result"
    }
   ],
   "execution_count": 159
  },
  {
   "cell_type": "markdown",
   "id": "9bc49b47-0f67-483f-9361-37ca6ef456de",
   "metadata": {},
   "source": [
    "## 合并两个数据集\n",
    "\n",
    "- 根据化合物的 ChEMBL ID（mole_chembl_id），将生物活性数据集（bioactivities_ df）和化合物数据集（compounds_ df）中的相关值合并到输出数据集（output_ df）中，保留以下列：\n",
    "    - ChEMBL IDs: molecule_chembl_id\n",
    "    - SMILES: smiles\n",
    "    - units: units\n",
    "    - IC50: IC50"
   ]
  },
  {
   "cell_type": "code",
   "id": "2315fd3f-9d6a-49af-a00a-7d3b0f69b4f7",
   "metadata": {
    "ExecuteTime": {
     "end_time": "2024-10-13T10:22:12.082553Z",
     "start_time": "2024-10-13T10:22:12.075095Z"
    }
   },
   "source": [
    "# 合并数据\n",
    "output_df = pd.merge(\n",
    "    bioactivities_df[[\"molecule_chembl_id\", \"IC50\", \"units\"]],\n",
    "    compounds_df,\n",
    "    on=\"molecule_chembl_id\",\n",
    ")\n",
    "\n",
    "# 重置行指数\n",
    "output_df.reset_index(drop=True, inplace=True)\n",
    "\n",
    "print(f\"数据集包括 {output_df.shape[0]} 条目.\")"
   ],
   "outputs": [
    {
     "name": "stdout",
     "output_type": "stream",
     "text": [
      "数据集包括 2 条目.\n"
     ]
    }
   ],
   "execution_count": 160
  },
  {
   "cell_type": "code",
   "id": "acebceae-c215-41c6-8af3-24ff4c66a61b",
   "metadata": {
    "ExecuteTime": {
     "end_time": "2024-10-13T10:22:12.760013Z",
     "start_time": "2024-10-13T10:22:12.754070Z"
    }
   },
   "source": [
    "output_df.dtypes"
   ],
   "outputs": [
    {
     "data": {
      "text/plain": [
       "molecule_chembl_id     object\n",
       "IC50                  float64\n",
       "units                  object\n",
       "smiles                 object\n",
       "dtype: object"
      ]
     },
     "execution_count": 161,
     "metadata": {},
     "output_type": "execute_result"
    }
   ],
   "execution_count": 161
  },
  {
   "cell_type": "code",
   "id": "b6a9ab3e-c00b-421e-bf05-678cee1395df",
   "metadata": {
    "ExecuteTime": {
     "end_time": "2024-10-13T10:22:22.850773Z",
     "start_time": "2024-10-13T10:22:22.841587Z"
    }
   },
   "source": [
    "output_df.head(10)"
   ],
   "outputs": [
    {
     "data": {
      "text/plain": [
       "  molecule_chembl_id      IC50 units                 smiles\n",
       "0       CHEMBL359965      11.0    nM    C=CCS[S+]([O-])CC=C\n",
       "1          CHEMBL830  252000.0    nM  NCCCC(N)(C(=O)O)C(F)F"
      ],
      "text/html": [
       "<div>\n",
       "<style scoped>\n",
       "    .dataframe tbody tr th:only-of-type {\n",
       "        vertical-align: middle;\n",
       "    }\n",
       "\n",
       "    .dataframe tbody tr th {\n",
       "        vertical-align: top;\n",
       "    }\n",
       "\n",
       "    .dataframe thead th {\n",
       "        text-align: right;\n",
       "    }\n",
       "</style>\n",
       "<table border=\"1\" class=\"dataframe\">\n",
       "  <thead>\n",
       "    <tr style=\"text-align: right;\">\n",
       "      <th></th>\n",
       "      <th>molecule_chembl_id</th>\n",
       "      <th>IC50</th>\n",
       "      <th>units</th>\n",
       "      <th>smiles</th>\n",
       "    </tr>\n",
       "  </thead>\n",
       "  <tbody>\n",
       "    <tr>\n",
       "      <th>0</th>\n",
       "      <td>CHEMBL359965</td>\n",
       "      <td>11.0</td>\n",
       "      <td>nM</td>\n",
       "      <td>C=CCS[S+]([O-])CC=C</td>\n",
       "    </tr>\n",
       "    <tr>\n",
       "      <th>1</th>\n",
       "      <td>CHEMBL830</td>\n",
       "      <td>252000.0</td>\n",
       "      <td>nM</td>\n",
       "      <td>NCCCC(N)(C(=O)O)C(F)F</td>\n",
       "    </tr>\n",
       "  </tbody>\n",
       "</table>\n",
       "</div>"
      ]
     },
     "execution_count": 163,
     "metadata": {},
     "output_type": "execute_result"
    }
   ],
   "execution_count": 163
  },
  {
   "cell_type": "markdown",
   "id": "feb66037-4dba-43ac-a16d-5a5678669760",
   "metadata": {},
   "source": [
    "## 添加 pIC50值\n",
    "\n",
    "- 正如您所看到的，低 IC50 值很难读取（值分布在多个刻度上），因此我们将 IC50 值转换为 pIC50。"
   ]
  },
  {
   "cell_type": "code",
   "id": "ea3a665e-cc18-4ea6-9694-447d800df497",
   "metadata": {
    "ExecuteTime": {
     "end_time": "2024-10-13T10:22:23.845456Z",
     "start_time": "2024-10-13T10:22:23.842089Z"
    }
   },
   "source": [
    "def convert_ic50_to_pic50(IC50_value):\n",
    "    pIC50_value = 9 - math.log10(IC50_value)\n",
    "    return pIC50_value"
   ],
   "outputs": [],
   "execution_count": 164
  },
  {
   "cell_type": "code",
   "id": "7e8d998a-50d3-4ef3-b0a4-eb99af7e68de",
   "metadata": {
    "ExecuteTime": {
     "end_time": "2024-10-13T10:22:24.193206Z",
     "start_time": "2024-10-13T10:22:24.188621Z"
    }
   },
   "source": [
    "# 对化合物 DataFrame 的每一行进行转换\n",
    "output_df[\"pIC50\"] = output_df.apply(lambda x: convert_ic50_to_pic50(x.IC50), axis=1)"
   ],
   "outputs": [],
   "execution_count": 165
  },
  {
   "cell_type": "code",
   "id": "d09eb839-df57-4f2d-91d6-4ea155ae8e43",
   "metadata": {
    "ExecuteTime": {
     "end_time": "2024-10-13T10:22:25.160303Z",
     "start_time": "2024-10-13T10:22:25.148782Z"
    }
   },
   "source": [
    "output_df.head()"
   ],
   "outputs": [
    {
     "data": {
      "text/plain": [
       "  molecule_chembl_id      IC50 units                 smiles     pIC50\n",
       "0       CHEMBL359965      11.0    nM    C=CCS[S+]([O-])CC=C  7.958607\n",
       "1          CHEMBL830  252000.0    nM  NCCCC(N)(C(=O)O)C(F)F  3.598599"
      ],
      "text/html": [
       "<div>\n",
       "<style scoped>\n",
       "    .dataframe tbody tr th:only-of-type {\n",
       "        vertical-align: middle;\n",
       "    }\n",
       "\n",
       "    .dataframe tbody tr th {\n",
       "        vertical-align: top;\n",
       "    }\n",
       "\n",
       "    .dataframe thead th {\n",
       "        text-align: right;\n",
       "    }\n",
       "</style>\n",
       "<table border=\"1\" class=\"dataframe\">\n",
       "  <thead>\n",
       "    <tr style=\"text-align: right;\">\n",
       "      <th></th>\n",
       "      <th>molecule_chembl_id</th>\n",
       "      <th>IC50</th>\n",
       "      <th>units</th>\n",
       "      <th>smiles</th>\n",
       "      <th>pIC50</th>\n",
       "    </tr>\n",
       "  </thead>\n",
       "  <tbody>\n",
       "    <tr>\n",
       "      <th>0</th>\n",
       "      <td>CHEMBL359965</td>\n",
       "      <td>11.0</td>\n",
       "      <td>nM</td>\n",
       "      <td>C=CCS[S+]([O-])CC=C</td>\n",
       "      <td>7.958607</td>\n",
       "    </tr>\n",
       "    <tr>\n",
       "      <th>1</th>\n",
       "      <td>CHEMBL830</td>\n",
       "      <td>252000.0</td>\n",
       "      <td>nM</td>\n",
       "      <td>NCCCC(N)(C(=O)O)C(F)F</td>\n",
       "      <td>3.598599</td>\n",
       "    </tr>\n",
       "  </tbody>\n",
       "</table>\n",
       "</div>"
      ]
     },
     "execution_count": 166,
     "metadata": {},
     "output_type": "execute_result"
    }
   ],
   "execution_count": 166
  },
  {
   "cell_type": "markdown",
   "id": "8c2811c1-be58-43f8-baa4-84685f8623e5",
   "metadata": {},
   "source": [
    "## 绘制复合数据\n",
    "\n",
    "- 让我们来看看收集到的数据集。\n",
    "- 首先，我们绘制了 pIC50 值的分布图"
   ]
  },
  {
   "cell_type": "markdown",
   "id": "3996f557-992e-417e-9c5c-217e57b5b80d",
   "metadata": {},
   "source": [
    "## 在接下来的步骤中，我们将在DataFrame中添加一列 RDKit 分子对象，并查看 pIC50 值最高的分子的结构。"
   ]
  },
  {
   "cell_type": "code",
   "id": "d73b8c8a-f919-4fbb-8312-6b587807933c",
   "metadata": {
    "ExecuteTime": {
     "end_time": "2024-10-13T10:04:41.781535Z",
     "start_time": "2024-10-13T10:04:41.775444Z"
    }
   },
   "source": [
    "# 新增 molecule column\n",
    "PandasTools.AddMoleculeColumnToFrame(output_df, smilesCol=\"smiles\")"
   ],
   "outputs": [],
   "execution_count": 78
  },
  {
   "cell_type": "code",
   "id": "3d9ca90b-e1e1-4ccb-a867-f3eff94f2505",
   "metadata": {
    "ExecuteTime": {
     "end_time": "2024-10-13T10:04:42.137150Z",
     "start_time": "2024-10-13T10:04:42.133435Z"
    }
   },
   "source": [
    "# 通过pIC50对分子进行排序\n",
    "output_df.sort_values(by=\"pIC50\", ascending=False, inplace=True)\n",
    "\n",
    "# 重置index\n",
    "output_df.reset_index(drop=True, inplace=True)"
   ],
   "outputs": [],
   "execution_count": 79
  },
  {
   "cell_type": "code",
   "id": "7f0c99d3-a9e7-41f5-836f-5f5cf125f577",
   "metadata": {
    "ExecuteTime": {
     "end_time": "2024-10-13T10:05:21.205050Z",
     "start_time": "2024-10-13T10:05:21.193992Z"
    }
   },
   "source": [
    "# 显示三种最活跃的分子，即 pIC50 值最高的分子。\n",
    "output_df.drop(\"smiles\", axis=1).head(3)"
   ],
   "outputs": [
    {
     "data": {
      "text/plain": [
       "  molecule_chembl_id  IC50 units     pIC50\n",
       "0        CHEMBL27061  14.0    nM  7.853872\n",
       "1        CHEMBL26435  33.0    nM  7.481486\n",
       "2      CHEMBL1209776  35.0    nM  7.455932"
      ],
      "text/html": [
       "<div>\n",
       "<style scoped>\n",
       "    .dataframe tbody tr th:only-of-type {\n",
       "        vertical-align: middle;\n",
       "    }\n",
       "\n",
       "    .dataframe tbody tr th {\n",
       "        vertical-align: top;\n",
       "    }\n",
       "\n",
       "    .dataframe thead th {\n",
       "        text-align: right;\n",
       "    }\n",
       "</style>\n",
       "<table border=\"1\" class=\"dataframe\">\n",
       "  <thead>\n",
       "    <tr style=\"text-align: right;\">\n",
       "      <th></th>\n",
       "      <th>molecule_chembl_id</th>\n",
       "      <th>IC50</th>\n",
       "      <th>units</th>\n",
       "      <th>pIC50</th>\n",
       "    </tr>\n",
       "  </thead>\n",
       "  <tbody>\n",
       "    <tr>\n",
       "      <th>0</th>\n",
       "      <td>CHEMBL27061</td>\n",
       "      <td>14.0</td>\n",
       "      <td>nM</td>\n",
       "      <td>7.853872</td>\n",
       "    </tr>\n",
       "    <tr>\n",
       "      <th>1</th>\n",
       "      <td>CHEMBL26435</td>\n",
       "      <td>33.0</td>\n",
       "      <td>nM</td>\n",
       "      <td>7.481486</td>\n",
       "    </tr>\n",
       "    <tr>\n",
       "      <th>2</th>\n",
       "      <td>CHEMBL1209776</td>\n",
       "      <td>35.0</td>\n",
       "      <td>nM</td>\n",
       "      <td>7.455932</td>\n",
       "    </tr>\n",
       "  </tbody>\n",
       "</table>\n",
       "</div>"
      ]
     },
     "execution_count": 89,
     "metadata": {},
     "output_type": "execute_result"
    }
   ],
   "execution_count": 89
  },
  {
   "cell_type": "code",
   "id": "b8cd8908-73b2-487f-99b5-72027ed0711f",
   "metadata": {
    "ExecuteTime": {
     "end_time": "2024-10-13T10:05:29.532657Z",
     "start_time": "2024-10-13T10:05:29.476470Z"
    }
   },
   "source": [
    "# 准备保存数据集：删除ROMol列\n",
    "output_df = output_df.drop(\"ROMol\", axis=1)\n",
    "print(f\"数据框架形状: {output_df.shape}\")"
   ],
   "outputs": [
    {
     "ename": "KeyError",
     "evalue": "\"['ROMol'] not found in axis\"",
     "output_type": "error",
     "traceback": [
      "\u001B[0;31m---------------------------------------------------------------------------\u001B[0m",
      "\u001B[0;31mKeyError\u001B[0m                                  Traceback (most recent call last)",
      "Cell \u001B[0;32mIn[91], line 2\u001B[0m\n\u001B[1;32m      1\u001B[0m \u001B[38;5;66;03m# 准备保存数据集：删除ROMol列\u001B[39;00m\n\u001B[0;32m----> 2\u001B[0m output_df \u001B[38;5;241m=\u001B[39m \u001B[43moutput_df\u001B[49m\u001B[38;5;241;43m.\u001B[39;49m\u001B[43mdrop\u001B[49m\u001B[43m(\u001B[49m\u001B[38;5;124;43m\"\u001B[39;49m\u001B[38;5;124;43mROMol\u001B[39;49m\u001B[38;5;124;43m\"\u001B[39;49m\u001B[43m,\u001B[49m\u001B[43m \u001B[49m\u001B[43maxis\u001B[49m\u001B[38;5;241;43m=\u001B[39;49m\u001B[38;5;241;43m1\u001B[39;49m\u001B[43m)\u001B[49m\n\u001B[1;32m      3\u001B[0m \u001B[38;5;28mprint\u001B[39m(\u001B[38;5;124mf\u001B[39m\u001B[38;5;124m\"\u001B[39m\u001B[38;5;124m数据框架形状: \u001B[39m\u001B[38;5;132;01m{\u001B[39;00moutput_df\u001B[38;5;241m.\u001B[39mshape\u001B[38;5;132;01m}\u001B[39;00m\u001B[38;5;124m\"\u001B[39m)\n",
      "File \u001B[0;32m/opt/anaconda3/envs/teachopencadd/lib/python3.8/site-packages/pandas/util/_decorators.py:311\u001B[0m, in \u001B[0;36mdeprecate_nonkeyword_arguments.<locals>.decorate.<locals>.wrapper\u001B[0;34m(*args, **kwargs)\u001B[0m\n\u001B[1;32m    305\u001B[0m \u001B[38;5;28;01mif\u001B[39;00m \u001B[38;5;28mlen\u001B[39m(args) \u001B[38;5;241m>\u001B[39m num_allow_args:\n\u001B[1;32m    306\u001B[0m     warnings\u001B[38;5;241m.\u001B[39mwarn(\n\u001B[1;32m    307\u001B[0m         msg\u001B[38;5;241m.\u001B[39mformat(arguments\u001B[38;5;241m=\u001B[39marguments),\n\u001B[1;32m    308\u001B[0m         \u001B[38;5;167;01mFutureWarning\u001B[39;00m,\n\u001B[1;32m    309\u001B[0m         stacklevel\u001B[38;5;241m=\u001B[39mstacklevel,\n\u001B[1;32m    310\u001B[0m     )\n\u001B[0;32m--> 311\u001B[0m \u001B[38;5;28;01mreturn\u001B[39;00m \u001B[43mfunc\u001B[49m\u001B[43m(\u001B[49m\u001B[38;5;241;43m*\u001B[39;49m\u001B[43margs\u001B[49m\u001B[43m,\u001B[49m\u001B[43m \u001B[49m\u001B[38;5;241;43m*\u001B[39;49m\u001B[38;5;241;43m*\u001B[39;49m\u001B[43mkwargs\u001B[49m\u001B[43m)\u001B[49m\n",
      "File \u001B[0;32m/opt/anaconda3/envs/teachopencadd/lib/python3.8/site-packages/pandas/core/frame.py:4957\u001B[0m, in \u001B[0;36mDataFrame.drop\u001B[0;34m(self, labels, axis, index, columns, level, inplace, errors)\u001B[0m\n\u001B[1;32m   4809\u001B[0m \u001B[38;5;129m@deprecate_nonkeyword_arguments\u001B[39m(version\u001B[38;5;241m=\u001B[39m\u001B[38;5;28;01mNone\u001B[39;00m, allowed_args\u001B[38;5;241m=\u001B[39m[\u001B[38;5;124m\"\u001B[39m\u001B[38;5;124mself\u001B[39m\u001B[38;5;124m\"\u001B[39m, \u001B[38;5;124m\"\u001B[39m\u001B[38;5;124mlabels\u001B[39m\u001B[38;5;124m\"\u001B[39m])\n\u001B[1;32m   4810\u001B[0m \u001B[38;5;28;01mdef\u001B[39;00m \u001B[38;5;21mdrop\u001B[39m(\n\u001B[1;32m   4811\u001B[0m     \u001B[38;5;28mself\u001B[39m,\n\u001B[0;32m   (...)\u001B[0m\n\u001B[1;32m   4818\u001B[0m     errors: \u001B[38;5;28mstr\u001B[39m \u001B[38;5;241m=\u001B[39m \u001B[38;5;124m\"\u001B[39m\u001B[38;5;124mraise\u001B[39m\u001B[38;5;124m\"\u001B[39m,\n\u001B[1;32m   4819\u001B[0m ):\n\u001B[1;32m   4820\u001B[0m \u001B[38;5;250m    \u001B[39m\u001B[38;5;124;03m\"\"\"\u001B[39;00m\n\u001B[1;32m   4821\u001B[0m \u001B[38;5;124;03m    Drop specified labels from rows or columns.\u001B[39;00m\n\u001B[1;32m   4822\u001B[0m \n\u001B[0;32m   (...)\u001B[0m\n\u001B[1;32m   4955\u001B[0m \u001B[38;5;124;03m            weight  1.0     0.8\u001B[39;00m\n\u001B[1;32m   4956\u001B[0m \u001B[38;5;124;03m    \"\"\"\u001B[39;00m\n\u001B[0;32m-> 4957\u001B[0m     \u001B[38;5;28;01mreturn\u001B[39;00m \u001B[38;5;28;43msuper\u001B[39;49m\u001B[43m(\u001B[49m\u001B[43m)\u001B[49m\u001B[38;5;241;43m.\u001B[39;49m\u001B[43mdrop\u001B[49m\u001B[43m(\u001B[49m\n\u001B[1;32m   4958\u001B[0m \u001B[43m        \u001B[49m\u001B[43mlabels\u001B[49m\u001B[38;5;241;43m=\u001B[39;49m\u001B[43mlabels\u001B[49m\u001B[43m,\u001B[49m\n\u001B[1;32m   4959\u001B[0m \u001B[43m        \u001B[49m\u001B[43maxis\u001B[49m\u001B[38;5;241;43m=\u001B[39;49m\u001B[43maxis\u001B[49m\u001B[43m,\u001B[49m\n\u001B[1;32m   4960\u001B[0m \u001B[43m        \u001B[49m\u001B[43mindex\u001B[49m\u001B[38;5;241;43m=\u001B[39;49m\u001B[43mindex\u001B[49m\u001B[43m,\u001B[49m\n\u001B[1;32m   4961\u001B[0m \u001B[43m        \u001B[49m\u001B[43mcolumns\u001B[49m\u001B[38;5;241;43m=\u001B[39;49m\u001B[43mcolumns\u001B[49m\u001B[43m,\u001B[49m\n\u001B[1;32m   4962\u001B[0m \u001B[43m        \u001B[49m\u001B[43mlevel\u001B[49m\u001B[38;5;241;43m=\u001B[39;49m\u001B[43mlevel\u001B[49m\u001B[43m,\u001B[49m\n\u001B[1;32m   4963\u001B[0m \u001B[43m        \u001B[49m\u001B[43minplace\u001B[49m\u001B[38;5;241;43m=\u001B[39;49m\u001B[43minplace\u001B[49m\u001B[43m,\u001B[49m\n\u001B[1;32m   4964\u001B[0m \u001B[43m        \u001B[49m\u001B[43merrors\u001B[49m\u001B[38;5;241;43m=\u001B[39;49m\u001B[43merrors\u001B[49m\u001B[43m,\u001B[49m\n\u001B[1;32m   4965\u001B[0m \u001B[43m    \u001B[49m\u001B[43m)\u001B[49m\n",
      "File \u001B[0;32m/opt/anaconda3/envs/teachopencadd/lib/python3.8/site-packages/pandas/core/generic.py:4267\u001B[0m, in \u001B[0;36mNDFrame.drop\u001B[0;34m(self, labels, axis, index, columns, level, inplace, errors)\u001B[0m\n\u001B[1;32m   4265\u001B[0m \u001B[38;5;28;01mfor\u001B[39;00m axis, labels \u001B[38;5;129;01min\u001B[39;00m axes\u001B[38;5;241m.\u001B[39mitems():\n\u001B[1;32m   4266\u001B[0m     \u001B[38;5;28;01mif\u001B[39;00m labels \u001B[38;5;129;01mis\u001B[39;00m \u001B[38;5;129;01mnot\u001B[39;00m \u001B[38;5;28;01mNone\u001B[39;00m:\n\u001B[0;32m-> 4267\u001B[0m         obj \u001B[38;5;241m=\u001B[39m \u001B[43mobj\u001B[49m\u001B[38;5;241;43m.\u001B[39;49m\u001B[43m_drop_axis\u001B[49m\u001B[43m(\u001B[49m\u001B[43mlabels\u001B[49m\u001B[43m,\u001B[49m\u001B[43m \u001B[49m\u001B[43maxis\u001B[49m\u001B[43m,\u001B[49m\u001B[43m \u001B[49m\u001B[43mlevel\u001B[49m\u001B[38;5;241;43m=\u001B[39;49m\u001B[43mlevel\u001B[49m\u001B[43m,\u001B[49m\u001B[43m \u001B[49m\u001B[43merrors\u001B[49m\u001B[38;5;241;43m=\u001B[39;49m\u001B[43merrors\u001B[49m\u001B[43m)\u001B[49m\n\u001B[1;32m   4269\u001B[0m \u001B[38;5;28;01mif\u001B[39;00m inplace:\n\u001B[1;32m   4270\u001B[0m     \u001B[38;5;28mself\u001B[39m\u001B[38;5;241m.\u001B[39m_update_inplace(obj)\n",
      "File \u001B[0;32m/opt/anaconda3/envs/teachopencadd/lib/python3.8/site-packages/pandas/core/generic.py:4311\u001B[0m, in \u001B[0;36mNDFrame._drop_axis\u001B[0;34m(self, labels, axis, level, errors, consolidate, only_slice)\u001B[0m\n\u001B[1;32m   4309\u001B[0m         new_axis \u001B[38;5;241m=\u001B[39m axis\u001B[38;5;241m.\u001B[39mdrop(labels, level\u001B[38;5;241m=\u001B[39mlevel, errors\u001B[38;5;241m=\u001B[39merrors)\n\u001B[1;32m   4310\u001B[0m     \u001B[38;5;28;01melse\u001B[39;00m:\n\u001B[0;32m-> 4311\u001B[0m         new_axis \u001B[38;5;241m=\u001B[39m \u001B[43maxis\u001B[49m\u001B[38;5;241;43m.\u001B[39;49m\u001B[43mdrop\u001B[49m\u001B[43m(\u001B[49m\u001B[43mlabels\u001B[49m\u001B[43m,\u001B[49m\u001B[43m \u001B[49m\u001B[43merrors\u001B[49m\u001B[38;5;241;43m=\u001B[39;49m\u001B[43merrors\u001B[49m\u001B[43m)\u001B[49m\n\u001B[1;32m   4312\u001B[0m     indexer \u001B[38;5;241m=\u001B[39m axis\u001B[38;5;241m.\u001B[39mget_indexer(new_axis)\n\u001B[1;32m   4314\u001B[0m \u001B[38;5;66;03m# Case for non-unique axis\u001B[39;00m\n\u001B[1;32m   4315\u001B[0m \u001B[38;5;28;01melse\u001B[39;00m:\n",
      "File \u001B[0;32m/opt/anaconda3/envs/teachopencadd/lib/python3.8/site-packages/pandas/core/indexes/base.py:6661\u001B[0m, in \u001B[0;36mIndex.drop\u001B[0;34m(self, labels, errors)\u001B[0m\n\u001B[1;32m   6659\u001B[0m \u001B[38;5;28;01mif\u001B[39;00m mask\u001B[38;5;241m.\u001B[39many():\n\u001B[1;32m   6660\u001B[0m     \u001B[38;5;28;01mif\u001B[39;00m errors \u001B[38;5;241m!=\u001B[39m \u001B[38;5;124m\"\u001B[39m\u001B[38;5;124mignore\u001B[39m\u001B[38;5;124m\"\u001B[39m:\n\u001B[0;32m-> 6661\u001B[0m         \u001B[38;5;28;01mraise\u001B[39;00m \u001B[38;5;167;01mKeyError\u001B[39;00m(\u001B[38;5;124mf\u001B[39m\u001B[38;5;124m\"\u001B[39m\u001B[38;5;132;01m{\u001B[39;00m\u001B[38;5;28mlist\u001B[39m(labels[mask])\u001B[38;5;132;01m}\u001B[39;00m\u001B[38;5;124m not found in axis\u001B[39m\u001B[38;5;124m\"\u001B[39m)\n\u001B[1;32m   6662\u001B[0m     indexer \u001B[38;5;241m=\u001B[39m indexer[\u001B[38;5;241m~\u001B[39mmask]\n\u001B[1;32m   6663\u001B[0m \u001B[38;5;28;01mreturn\u001B[39;00m \u001B[38;5;28mself\u001B[39m\u001B[38;5;241m.\u001B[39mdelete(indexer)\n",
      "\u001B[0;31mKeyError\u001B[0m: \"['ROMol'] not found in axis\""
     ]
    }
   ],
   "execution_count": 91
  },
  {
   "cell_type": "code",
   "id": "47683bb8-e91c-4a1e-9076-2bfc99423a89",
   "metadata": {
    "ExecuteTime": {
     "end_time": "2024-10-13T10:05:32.393508Z",
     "start_time": "2024-10-13T10:05:32.388305Z"
    }
   },
   "source": [
    "# 保存最终的数据集\n",
    "output_df.to_csv(DATA / \"bioactivities_compounds_P09057.csv\", index=False)"
   ],
   "outputs": [],
   "execution_count": 92
  },
  {
   "cell_type": "code",
   "source": "",
   "metadata": {
    "collapsed": false,
    "ExecuteTime": {
     "end_time": "2024-10-13T10:05:14.432138Z",
     "start_time": "2024-10-13T10:05:14.429932Z"
    }
   },
   "id": "9c3e0268bf724292",
   "outputs": [],
   "execution_count": null
  },
  {
   "cell_type": "markdown",
   "source": [
    "在药物发现中，pIC50是衡量化合物药效的一个重要指标，其中pIC50是IC50值(抑制一个生物过程所需化合物的浓度为50 %)的负对数。\n",
    "- 药物设计的阈值\n",
    "PIC50 > 6：通常，pIC50值大于6被认为是有效的，表明该化合物的IC50小于1 μM。具有这种效力的化合物往往是进一步药物开发的合适候选者。\n",
    "PIC50在7 ~ 9之间：如果pIC50在这个范围内，该化合物通常是非常强的，对应于亚微摩尔的IC50值( 100 nM ~ 10 nM)。\n",
    "PIC50 > 9：pIC50大于9的化合物被认为是非常强的，IC50值在纳摩尔或皮摩尔范围内。这些化合物是先进药物设计的理想选择"
   ],
   "metadata": {
    "collapsed": false
   },
   "id": "fcc62a723f3fb790"
  },
  {
   "cell_type": "code",
   "source": "",
   "metadata": {
    "collapsed": false,
    "ExecuteTime": {
     "end_time": "2024-10-13T10:05:14.491314Z",
     "start_time": "2024-10-13T10:05:14.489407Z"
    }
   },
   "id": "cf0c8ae5d9f461f",
   "outputs": [],
   "execution_count": null
  },
  {
   "cell_type": "markdown",
   "source": [
    "\n",
    "# 绘制pIC50值分布图\n",
    "import matplotlib.pyplot as plt\n",
    "import seaborn as sns\n",
    "    \n",
    "sns.distplot(merge_data[\"pIC50\"], bins=20, kde=False)\n",
    "plt.xlabel(\"pIC50\")\n",
    "plt.ylabel(\"Frequency\")\n",
    "plt.title(\"Distribution of pIC50 values\")\n",
    "plt.show()\n",
    "\n",
    "    "
   ],
   "metadata": {
    "collapsed": false
   },
   "id": "42f6eb15942f4009"
  },
  {
   "cell_type": "markdown",
   "source": [],
   "metadata": {
    "collapsed": false
   },
   "id": "39fac6083d4fda00"
  },
  {
   "cell_type": "code",
   "execution_count": null,
   "id": "6f5c49fe-6571-4b34-a710-aaa3503c4317",
   "metadata": {},
   "outputs": [],
   "source": []
  },
  {
   "cell_type": "code",
   "execution_count": null,
   "id": "9c8ad880-e5b6-4836-9dfc-bdd4e296dcd6",
   "metadata": {},
   "outputs": [],
   "source": []
  },
  {
   "cell_type": "code",
   "execution_count": null,
   "id": "8aa629cc-ca6e-41a8-8f88-f245baf10af4",
   "metadata": {},
   "outputs": [],
   "source": []
  },
  {
   "cell_type": "code",
   "execution_count": null,
   "id": "d693c853-a25c-4cee-9749-e580a6b8a16d",
   "metadata": {},
   "outputs": [],
   "source": []
  },
  {
   "cell_type": "code",
   "execution_count": null,
   "id": "800bdca7-c348-4fa3-82f6-7b826792a4b4",
   "metadata": {},
   "outputs": [],
   "source": []
  },
  {
   "cell_type": "code",
   "execution_count": null,
   "id": "a2c94bf4-eed4-4877-9db8-c82f716efea8",
   "metadata": {},
   "outputs": [],
   "source": []
  },
  {
   "cell_type": "code",
   "execution_count": null,
   "id": "27baf336-30d6-45cc-8f83-dca69a938765",
   "metadata": {},
   "outputs": [],
   "source": []
  },
  {
   "cell_type": "code",
   "execution_count": null,
   "id": "362855e3-d93b-43e4-8ced-8c8e6e49927d",
   "metadata": {},
   "outputs": [],
   "source": []
  }
 ],
 "metadata": {
  "kernelspec": {
   "display_name": "Python 3 (ipykernel)",
   "language": "python",
   "name": "python3"
  },
  "language_info": {
   "codemirror_mode": {
    "name": "ipython",
    "version": 3
   },
   "file_extension": ".py",
   "mimetype": "text/x-python",
   "name": "python",
   "nbconvert_exporter": "python",
   "pygments_lexer": "ipython3",
   "version": "3.9.15"
  }
 },
 "nbformat": 4,
 "nbformat_minor": 5
}
