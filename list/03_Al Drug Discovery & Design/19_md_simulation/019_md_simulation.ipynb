{
 "cells": [
  {
   "metadata": {},
   "cell_type": "markdown",
   "source": "# 019 · 分子动力学模拟"
  },
  {
   "metadata": {},
   "cell_type": "markdown",
   "source": "## 目的"
  },
  {
   "cell_type": "markdown",
   "metadata": {
    "id": "ETO2kR5CE6-E"
   },
   "source": "我们将了解为什么分子动力学( MD )模拟对于药物设计很重要，以及对与配体结合的蛋白质进行MD模拟需要哪些步骤。激酶EGFR将作为样本系统进行模拟。"
  },
  {
   "cell_type": "markdown",
   "metadata": {
    "id": "1KVizU3UVCxF"
   },
   "source": [
    "### *理论*\n",
    "- 分子动力学\n",
    "- 力场\n",
    "- 边界条件\n",
    "- MD模拟和药物设计\n",
    "- EGFR激酶"
   ]
  },
  {
   "cell_type": "markdown",
   "metadata": {
    "id": "kdamNfk7VCxF"
   },
   "source": [
    "#### 内容*实用*\n",
    "- 在Google Colab上安装\n",
    "- 调整本地安装在Linux或MacOS上运行的环境\n",
    "- 进口依存度\n",
    "-下载PDB文件\n",
    "- 制备蛋白配体复合物\n",
    "- 蛋白制备\n",
    "- 配体制备\n",
    "- 合并蛋白和配体\n",
    "- MD模拟设置\n",
    "- 力场\n",
    "- 系统\n",
    "- 进行MD模拟\n",
    "- 下载结果"
   ]
  },
  {
   "cell_type": "markdown",
   "metadata": {
    "id": "mNvsYi3OLgmU"
   },
   "source": ""
  },
  {
   "cell_type": "markdown",
   "metadata": {
    "id": "WpSLhe8ZLgmd"
   },
   "source": [
    "## Theory"
   ]
  },
  {
   "cell_type": "markdown",
   "metadata": {
    "id": "lxhBZyifLgmm"
   },
   "source": [
    "### Molecular dynamics"
   ]
  },
  {
   "cell_type": "markdown",
   "metadata": {
    "id": "svQEDsBCwUa5"
   },
   "source": [
    "分子动力学是一种分析定义系统中原子和分子运动和相互作用的计算方法。该方法源于理论物理学\n",
    "\n",
    ">一种智能，它可以随时理解自然界被激发的所有力量，以及由它组成的生物的各自位置，此外，如果这种智能足够深远，可以对这些数据进行分析，它将在该公式中包含宇宙中最大天体的运动和最轻的原子的运动：对它来说，没有什么是不确定的，未来以及过去，将呈现在它的眼中。人类的思想，在它赋予天文学的完美中，为我们提供了这种智力的微弱素描。（皮埃尔-西蒙·拉普拉斯，1820年）"
   ]
  },
  {
   "cell_type": "markdown",
   "metadata": {
    "id": "kLgNBvtIm7S3"
   },
   "source": "让我们把拉普拉斯的这一说法作为分子动力学模拟的思想基础。换句话说，我们可以通过知道其组件的特性并应用牛顿运动定律来近似物理系统的行为。通过求解运动方程，我们可以得到系统的分子轨迹，它是一系列的快照，其中包括所有粒子的位置和速度，以及势能。为此，我们定义了一个函数，称为力场，它提供了对系统中每个粒子施加的所有力的近似描述。然后，我们使用数值积分器来解决系统的初值问题，并获得轨迹。听起来，这个过程需要相当多的过程"
  },
  {
   "cell_type": "markdown",
   "metadata": {
    "id": "yXlInBPrwUa6"
   },
   "source": ""
  },
  {
   "cell_type": "markdown",
   "metadata": {
    "id": "8-uCG3KPwUa8"
   },
   "source": [
    "### Force fields\n",
    "\n"
   ]
  },
  {
   "cell_type": "markdown",
   "metadata": {
    "id": "NC8t-i-cwUbB"
   },
   "source": [
    "力场描述了分子内和分子间原子间的作用力。它们是含有不同力分量的参数方程(键拉伸,范德华力和更多)。参数值通常是通过实验得出的，并根据所涉及的分子和模拟设置的不同而改变。其结果是对系统能量图景的数学描述，其中作用在每个粒子上的力来自势能相对于原子坐标的梯度。\n",
    "\n",
    "\n",
    "$$V(r^N) = \\sum_{i \\in  bonds}k_{bi} (l_i-l^0_i)^2 + \\sum_{i \\in  angles}k_{ai}(\\theta_i - \\theta^0_i)^2 + \\sum_{i\\in torsions} \\sum_n \\frac{1}{2} V_i^n[1+cos(nw_i-\\gamma_i)]$$\n",
    "$$+ \\sum_{j=1}^{N-1}\\sum_{I=j+1}^{N} f_{ij}\\in ij [(\\frac{r^0_{ij}}{r_{ij}})^{12}-2(\\frac{r^0_{ij}}{r_{ij}})^{6}]+\\frac{q_iq_j}{4\\pi \\in_0 r_{ij}}$$"
   ]
  },
  {
   "cell_type": "markdown",
   "metadata": {
    "id": "pjSsc4l-wUbB"
   },
   "source": [
    "该公式由不同分量之和构成。前三个分量包含了有关键长、键角和扭转(分子内力)的信息。最后一部分描述了分子间的非键作用力，如范德华力和静电相互作用。用上标0表示的各种参数依赖于所使用的力场，并且在AMBER力场家族的所有成员之间变化。注意到这些力场假设粒子是固定电荷的，不允许极化，也不考虑局部电荷如何影响周围的环境。\n",
    "下面力场分量的可视化表示以更直观的方式展示了相同的概念。"
   ]
  },
  {
   "cell_type": "markdown",
   "metadata": {
    "id": "6aDDjIqYwUbC"
   },
   "source": ""
  },
  {
   "cell_type": "markdown",
   "metadata": {
    "id": "3J7LdqzKB0PM"
   },
   "source": [
    "#### 边界条件\n",
    "通常，分子体系是在充满溶剂(如水)的箱子中模拟的。这些盒子是有限尺寸的，这导致了盒子边界处或附近的分子存在问题。这些分子应该与哪些分子相互作用?周期性边界条件可以通过模拟一个理论上无穷大的系统来避免这种边界伪影。位于盒子一侧边界的分子与位于盒子另一侧边界的分子相互作用。这模拟了一种情况，在这种情况下，模拟盒被自身的副本包围。在可视化这种MD模拟时，人们经常可以观察到粒子在一边离开盒子(图3 )。然而，它们以相同的速度在盒子的另一侧同时再现。对于per下的模拟"
   ]
  },
  {
   "cell_type": "markdown",
   "metadata": {
    "id": "fdnT_He0VCxF"
   },
   "source": ""
  },
  {
   "cell_type": "markdown",
   "metadata": {
    "id": "zjcLLVbKNt-F"
   },
   "source": [
    "### MD模拟和药物设计\n",
    "\n",
    "MD模拟为配体与目标结合的高度动态过程提供了宝贵的见解。当配体（或药物）接近溶液中的大分子（蛋白质）时，它会遇到一个不断运动的结构。此外，配体可能会诱发大分子的构象变化，而大分子可以最好地适应小分子。这种构象可能无法通过静态方法被发现。因此，在静态无配体结构中未观察到但可以通过MD模拟发现的结合位点，有时被称为*隐性结合位点*（[_J Med Chem_（2016），**59**（9），4035-4061]（https://doi.org/10.1021/acs.jmedchem.5b01684））。用MD模拟识别这种结合位点可以启动新的药物发现运动。在药物发现过程中，在进行更昂贵和耗时的*体外*测试之前，MD模拟也可用于估计计算确定的小分子的质量。总的来说，MD模拟在计算药物设计中构成了宝贵的资产。"
   ]
  },
  {
   "cell_type": "markdown",
   "metadata": {
    "id": "z-ZEaeB2n4hg"
   },
   "source": [
    "### EGFR激酶\n",
    "\n",
    "**E**pidermal **G**rowth **F**actor **R**eceptor（EGFR）是一种重要的药物靶点，对癌症和炎症有影响（[Wikipedia]（https://en.wikipedia.org/wiki/Epidermal_growth_factor_receptor））。\n",
    "它是一种具有细胞外受体结构域和细胞内激酶结构域的跨膜蛋白。内源性配体表皮生长因子的结合通过二聚体化和自磷酸化导致激酶结构域的激活。然后，激活的激酶结构域可以磷酸化下游信号蛋白，触发DNA合成和细胞增殖（https://dx.doi.org/10.3390%2Fcancers9050052）。\n",
    "抑制这种激酶是几种已批准的癌症药物（[DrugBank]（https://go.drugbank.com/bio_entities/BE0000767））\n",
    "的潜在作用机制。在这个谈话中，我们使用这种激酶的PDB结构**3POZ**，该结构与小分子抑制剂**03P**复合，来进行MD模拟（[PDB：3POZ]（https://www.rcsb.org/structure/3poz））。"
   ]
  },
  {
   "cell_type": "markdown",
   "metadata": {
    "id": "fARXaAnzwUau"
   },
   "source": ""
  },
  {
   "cell_type": "markdown",
   "metadata": {
    "id": "dkhvXl0HLgnb"
   },
   "source": [
    "## 实用的\n",
    "\n",
    "我们现在将使用分子动力学引擎[OpenMM]（https://github.com/openmm/openmm）\n",
    "进行MD模拟，这是一个用于分子模拟的高性能工具包。它是开源的，可以用作应用程序或库。我们将把它用作Python库。"
   ]
  },
  {
   "cell_type": "markdown",
   "metadata": {
    "id": "7I_BbH58n4h2"
   },
   "source": [
    "### 在Google Colab上安装\n",
    "\n",
    "如果您正在[Google Colab]（https://colab.research.google.com/notebooks/intro.ipynb）\n",
    "上工作，以下代码单元格将安装所有所需的软件包。安装[condacolab]（https://github.com/jaimergp/condacolab）\n",
    "软件包将重新启动内核，这是预期的。这款笔记本也可以在本地计算机上使用，但需要相当大的计算能力。"
   ]
  },
  {
   "cell_type": "code",
   "execution_count": 1,
   "metadata": {
    "colab": {
     "base_uri": "https://localhost:8080/"
    },
    "id": "K78GGT60Nu8p",
    "outputId": "40251762-3bfd-474a-8dda-c030b2a22b1d"
   },
   "outputs": [],
   "source": [
    "try:\n",
    "    import google.colab\n",
    "\n",
    "    !pip install condacolab\n",
    "    import condacolab\n",
    "\n",
    "    condacolab.install()\n",
    "except ModuleNotFoundError:\n",
    "    pass"
   ]
  },
  {
   "cell_type": "code",
   "execution_count": 2,
   "metadata": {
    "colab": {
     "base_uri": "https://localhost:8080/"
    },
    "id": "VbqoZFShp00I",
    "outputId": "0f44a9dd-0cfd-49bc-dd46-969b50c2a9e8"
   },
   "outputs": [],
   "source": [
    "try:\n",
    "    import condacolab\n",
    "    from google.colab import files\n",
    "    from IPython.display import clear_output\n",
    "\n",
    "    condacolab.check()\n",
    "    !conda install -q -y -c conda-forge mdtraj openmm openmmforcefields openff-toolkit pdbfixer pypdb rdkit\n",
    "except ModuleNotFoundError:\n",
    "    on_colab = False\n",
    "else:\n",
    "    # check if installation was succesful\n",
    "    try:\n",
    "        import rdkit\n",
    "\n",
    "        on_colab = True\n",
    "        clear_output()  # clear the excessive installation outputs\n",
    "        print(\"Dependencies successfully installed!\")\n",
    "    except ModuleNotFoundError:\n",
    "        print(\"Error while installing dependencies!\")"
   ]
  },
  {
   "cell_type": "markdown",
   "metadata": {},
   "source": [
    "### Adjust environment for local installations running on Linux or MacOS"
   ]
  },
  {
   "cell_type": "code",
   "execution_count": 3,
   "metadata": {},
   "outputs": [
    {
     "name": "stdout",
     "output_type": "stream",
     "text": [
      "  Package                       Version  Build                   Channel                    Size\n",
      "──────────────────────────────────────────────────────────────────────────────────────────────────\n",
      "  Install:\n",
      "──────────────────────────────────────────────────────────────────────────────────────────────────\n",
      "\n",
      "\u001B[32m  + ambertools             \u001B[00m        22.0  py39h464e725_3          conda-forge/linux-64\u001B[32m     Cached\u001B[00m\n",
      "\u001B[32m  + arpack                 \u001B[00m       3.7.0  hdefa2d7_2              conda-forge/linux-64\u001B[32m     Cached\u001B[00m\n",
      "\u001B[32m  + cached-property        \u001B[00m       1.5.2  hd8ed1ab_1              conda-forge/noarch  \u001B[32m     Cached\u001B[00m\n",
      "\u001B[32m  + cached_property        \u001B[00m       1.5.2  pyha770c72_1            conda-forge/noarch  \u001B[32m     Cached\u001B[00m\n",
      "\u001B[32m  + cython                 \u001B[00m     0.29.34  py39h227be39_0          conda-forge/linux-64\u001B[32m     Cached\u001B[00m\n",
      "\u001B[32m  + flatbuffers            \u001B[00m    22.12.06  hcb278e6_2              conda-forge/linux-64\u001B[32m     Cached\u001B[00m\n",
      "\u001B[32m  + giflib                 \u001B[00m       5.2.1  h0b41bf4_3              conda-forge/linux-64\u001B[32m     Cached\u001B[00m\n",
      "\u001B[32m  + keras                  \u001B[00m      2.11.0  pyhd8ed1ab_0            conda-forge/noarch  \u001B[32m     Cached\u001B[00m\n",
      "\u001B[32m  + libaec                 \u001B[00m       1.0.6  hcb278e6_1              conda-forge/linux-64\u001B[32m     Cached\u001B[00m\n",
      "\u001B[32m  + libgomp                \u001B[00m      12.2.0  h65d4601_19             conda-forge/linux-64\u001B[32m     Cached\u001B[00m\n",
      "\u001B[32m  + netcdf-fortran         \u001B[00m       4.6.0  nompi_he1eeb6f_102      conda-forge/linux-64\u001B[32m     Cached\u001B[00m\n",
      "\u001B[32m  + openff-amber-ff-ports  \u001B[00m       0.0.3  pyh6c4a22f_0            conda-forge/noarch  \u001B[32m     Cached\u001B[00m\n",
      "\u001B[32m  + openff-forcefields     \u001B[00m   2023.05.1  pyh1a96a4e_1            conda-forge/noarch  \u001B[32m     Cached\u001B[00m\n",
      "\u001B[32m  + openff-interchange     \u001B[00m       0.3.4  pyhd8ed1ab_0            conda-forge/noarch  \u001B[32m     Cached\u001B[00m\n",
      "\u001B[32m  + openff-interchange-base\u001B[00m       0.3.4  pyhd8ed1ab_0            conda-forge/noarch  \u001B[32m     Cached\u001B[00m\n",
      "\u001B[32m  + openff-models          \u001B[00m       0.0.5  pyh1a96a4e_0            conda-forge/noarch  \u001B[32m     Cached\u001B[00m\n",
      "\u001B[32m  + openff-toolkit         \u001B[00m      0.13.0  pyhd8ed1ab_0            conda-forge/noarch  \u001B[32m     Cached\u001B[00m\n",
      "\u001B[32m  + openff-toolkit-base    \u001B[00m      0.13.0  pyhd8ed1ab_0            conda-forge/noarch  \u001B[32m     Cached\u001B[00m\n",
      "\u001B[32m  + openff-units           \u001B[00m       0.2.0  pyh1a96a4e_1            conda-forge/noarch  \u001B[32m     Cached\u001B[00m\n",
      "\u001B[32m  + openff-utilities       \u001B[00m       0.1.8  pyh1a96a4e_0            conda-forge/noarch  \u001B[32m     Cached\u001B[00m\n",
      "\u001B[32m  + openmmforcefields      \u001B[00m      0.11.2  pyhd8ed1ab_1            conda-forge/noarch  \u001B[32m     Cached\u001B[00m\n",
      "\u001B[32m  + packmol                \u001B[00m      20.010  h86c2bf4_0              conda-forge/linux-64\u001B[32m     Cached\u001B[00m\n",
      "\u001B[32m  + panedr                 \u001B[00m       0.7.1  pyhd8ed1ab_0            conda-forge/noarch  \u001B[32m     Cached\u001B[00m\n",
      "\u001B[32m  + parmed                 \u001B[00m       3.4.4  py39h227be39_0          conda-forge/linux-64\u001B[32m     Cached\u001B[00m\n",
      "\u001B[32m  + pbr                    \u001B[00m      5.11.1  pyhd8ed1ab_0            conda-forge/noarch  \u001B[32m     Cached\u001B[00m\n",
      "\u001B[32m  + perl                   \u001B[00m      5.32.1  2_h7f98852_perl5        conda-forge/linux-64\u001B[32m     Cached\u001B[00m\n",
      "\u001B[32m  + pint                   \u001B[00m        0.21  pyhd8ed1ab_0            conda-forge/noarch  \u001B[32m     Cached\u001B[00m\n",
      "\u001B[32m  + pydantic               \u001B[00m      1.10.7  py39h72bdee0_0          conda-forge/linux-64\u001B[32m     Cached\u001B[00m\n",
      "\u001B[32m  + pyedr                  \u001B[00m       0.7.1  pyhd8ed1ab_0            conda-forge/noarch  \u001B[32m     Cached\u001B[00m\n",
      "\u001B[32m  + python-constraint      \u001B[00m       1.4.0  py_0                    conda-forge/noarch  \u001B[32m     Cached\u001B[00m\n",
      "\u001B[32m  + smirnoff99frosst       \u001B[00m       1.1.0  pyh44b312d_0            conda-forge/noarch  \u001B[32m     Cached\u001B[00m\n",
      "\u001B[32m  + tensorboard-plugin-wit \u001B[00m       1.8.1  pyhd8ed1ab_0            conda-forge/noarch  \u001B[32m     Cached\u001B[00m\n",
      "\u001B[32m  + tinydb                 \u001B[00m       4.7.1  pyhd8ed1ab_0            conda-forge/noarch  \u001B[32m     Cached\u001B[00m\n",
      "\u001B[32m  + validators             \u001B[00m      0.20.0  pyhd8ed1ab_0            conda-forge/noarch  \u001B[32m     Cached\u001B[00m\n",
      "\u001B[32m  + xmltodict              \u001B[00m      0.13.0  pyhd8ed1ab_0            conda-forge/noarch  \u001B[32m     Cached\u001B[00m\n",
      "\u001B[32m  + xorg-libxt             \u001B[00m       1.2.1  h7f98852_2              conda-forge/linux-64\u001B[32m     Cached\u001B[00m\n",
      "\n",
      "  Change:\n",
      "──────────────────────────────────────────────────────────────────────────────────────────────────\n",
      "\n",
      "\u001B[31m  - libnetcdf              \u001B[00m       4.8.1  h8322cc2_2              installed                      \n",
      "\u001B[32m  + libnetcdf              \u001B[00m       4.8.1  nompi_h261ec11_106      conda-forge/linux-64\u001B[32m     Cached\u001B[00m\n",
      "\n",
      "  Upgrade:\n",
      "──────────────────────────────────────────────────────────────────────────────────────────────────\n",
      "\n",
      "\u001B[31m  - h5py                   \u001B[00m      2.10.0  nompi_py39h98ba4bc_106  installed                      \n",
      "\u001B[32m  + h5py                   \u001B[00m       3.7.0  nompi_py39h817c9c5_102  conda-forge/linux-64\u001B[32m     Cached\u001B[00m\n",
      "\u001B[31m  - hdf4                   \u001B[00m      4.2.13  h10796ff_1005           installed                      \n",
      "\u001B[32m  + hdf4                   \u001B[00m      4.2.15  h9772cbc_5              conda-forge/linux-64\u001B[32m     Cached\u001B[00m\n",
      "\u001B[31m  - hdf5                   \u001B[00m      1.10.6  h3ffc7dd_1              installed                      \n",
      "\u001B[32m  + hdf5                   \u001B[00m      1.12.2  nompi_h4df4325_101      conda-forge/linux-64\u001B[32m     Cached\u001B[00m\n",
      "\u001B[31m  - netcdf4                \u001B[00m       1.5.7  nompi_py39hd2e3950_101  installed                      \n",
      "\u001B[32m  + netcdf4                \u001B[00m       1.6.2  nompi_py39hfaa66c4_100  conda-forge/linux-64\u001B[32m     Cached\u001B[00m\n",
      "\u001B[31m  - pytables               \u001B[00m       3.6.1  py39hf6dc253_3          installed                      \n",
      "\u001B[32m  + pytables               \u001B[00m       3.7.0  py39h6a7961f_3          conda-forge/linux-64\u001B[32m     Cached\u001B[00m\n",
      "\u001B[31m  - tensorflow             \u001B[00m       2.4.1  mkl_py39h4683426_0      installed                      \n",
      "\u001B[32m  + tensorflow             \u001B[00m      2.11.0  cpu_py39h4655687_0      conda-forge/linux-64\u001B[32m     Cached\u001B[00m\n",
      "\u001B[31m  - tensorflow-base        \u001B[00m       2.4.1  mkl_py39h43e0292_0      installed                      \n",
      "\u001B[32m  + tensorflow-base        \u001B[00m      2.11.0  cpu_py39h9b4020c_0      conda-forge/linux-64\u001B[32m     Cached\u001B[00m\n",
      "\u001B[31m  - tensorflow-estimator   \u001B[00m       2.6.0  py39he80948d_0          installed                      \n",
      "\u001B[32m  + tensorflow-estimator   \u001B[00m      2.11.0  cpu_py39hf050123_0      conda-forge/linux-64\u001B[32m     Cached\u001B[00m\n",
      "\n",
      "  Downgrade:\n",
      "──────────────────────────────────────────────────────────────────────────────────────────────────\n",
      "\n",
      "\u001B[31m  - google-auth-oauthlib   \u001B[00m       1.0.0  pyhd8ed1ab_0            installed                      \n",
      "\u001B[32m  + google-auth-oauthlib   \u001B[00m       0.4.6  pyhd8ed1ab_0            conda-forge/noarch  \u001B[32m     Cached\u001B[00m\n",
      "\u001B[31m  - grpcio                 \u001B[00m      1.54.2  py39h227be39_2          installed                      \n",
      "\u001B[32m  + grpcio                 \u001B[00m      1.51.1  py39he859823_1          conda-forge/linux-64\u001B[32m     Cached\u001B[00m\n",
      "\u001B[31m  - libabseil              \u001B[00m  20230125.2  cxx17_h59595ed_2        installed                      \n",
      "\u001B[32m  + libabseil              \u001B[00m  20220623.0  cxx17_h05df665_6        conda-forge/linux-64\u001B[32m     Cached\u001B[00m\n",
      "\u001B[31m  - libgrpc                \u001B[00m      1.54.2  hb20ce57_2              installed                      \n",
      "\u001B[32m  + libgrpc                \u001B[00m      1.51.1  h4fad500_1              conda-forge/linux-64\u001B[32m     Cached\u001B[00m\n",
      "\u001B[31m  - re2                    \u001B[00m  2023.03.02  h8c504da_0              installed                      \n",
      "\u001B[32m  + re2                    \u001B[00m  2023.02.01  hcb278e6_0              conda-forge/linux-64\u001B[32m     Cached\u001B[00m\n",
      "\u001B[31m  - tensorboard            \u001B[00m      2.13.0  pyhd8ed1ab_0            installed                      \n",
      "\u001B[32m  + tensorboard            \u001B[00m      2.11.2  pyhd8ed1ab_0            conda-forge/noarch  \u001B[32m     Cached\u001B[00m\n",
      "\u001B[31m  - tensorboard-data-server\u001B[00m       0.7.0  py39h079d5ae_0          installed                      \n",
      "\u001B[32m  + tensorboard-data-server\u001B[00m       0.6.1  py39h3ccb8fc_4          conda-forge/linux-64\u001B[32m     Cached\u001B[00m\n",
      "\n",
      "  Summary:\n",
      "\n",
      "  Install: 36 packages\n",
      "  Change: 1 packages\n",
      "  Upgrade: 8 packages\n",
      "  Downgrade: 7 packages\n",
      "\n",
      "  Total download: 0  B\n",
      "\n",
      "──────────────────────────────────────────────────────────────────────────────────────────────────\n",
      "\n",
      "Preparing transaction: ...working... done\n",
      "Verifying transaction: ...working... done\n",
      "Executing transaction: ...working... done\n"
     ]
    }
   ],
   "source": [
    "import sys\n",
    "\n",
    "if not on_colab and sys.platform.startswith((\"linux\", \"darwin\")):\n",
    "    !mamba install -q -y -c conda-forge openmmforcefields\n",
    "    # Notes:\n",
    "    # - If you do not have mamba installed, install it or use conda instead\n",
    "    # - Under MacOS with an M1 chip you may need to use\n",
    "    #   CONDA_SUBDIR=osx-64 in front of the above command"
   ]
  },
  {
   "cell_type": "markdown",
   "metadata": {},
   "source": [
    "### Import dependencies"
   ]
  },
  {
   "cell_type": "code",
   "execution_count": 4,
   "metadata": {
    "colab": {
     "base_uri": "https://localhost:8080/"
    },
    "id": "3g6vsWucLgng",
    "outputId": "daef1613-b0bf-4929-d5ed-8c3137151645"
   },
   "outputs": [],
   "source": [
    "import copy\n",
    "from pathlib import Path\n",
    "\n",
    "import requests\n",
    "from IPython.display import display\n",
    "import numpy as np\n",
    "from rdkit import Chem\n",
    "from rdkit.Chem import Draw\n",
    "from rdkit.Chem import AllChem\n",
    "import mdtraj as md\n",
    "import pdbfixer\n",
    "import openmm as mm\n",
    "import openmm.app as app\n",
    "from openmm import unit\n",
    "from openff.toolkit.topology import Molecule, Topology\n",
    "from openmmforcefields.generators import GAFFTemplateGenerator"
   ]
  },
  {
   "cell_type": "code",
   "execution_count": 5,
   "metadata": {
    "id": "w5g1k527SexH"
   },
   "outputs": [],
   "source": [
    "# create data directory if not exists\n",
    "HERE = Path(_dh[-1])\n",
    "DATA = HERE / \"data\"\n",
    "DATA.mkdir(exist_ok=True)"
   ]
  },
  {
   "cell_type": "markdown",
   "metadata": {
    "id": "ltkfdrHvn4iI"
   },
   "source": [
    "### Download PDB file\n",
    "The Protein Data Bank ([PDB](https://www.rcsb.org/)) allows for easy downloading of files via url."
   ]
  },
  {
   "cell_type": "code",
   "execution_count": 6,
   "metadata": {
    "id": "Ecabaj2Y9kte"
   },
   "outputs": [],
   "source": [
    "pdbid = \"3POZ\"\n",
    "ligand_name = \"03P\"\n",
    "pdb_path = DATA / f\"{pdbid}.pdb\"\n",
    "pdb_url = f\"https://files.rcsb.org/download/{pdbid}.pdb\""
   ]
  },
  {
   "cell_type": "code",
   "execution_count": 7,
   "metadata": {},
   "outputs": [],
   "source": [
    "r = requests.get(pdb_url)\n",
    "r.raise_for_status()\n",
    "with open(pdb_path, \"wb\") as f:\n",
    "    f.write(r.content)"
   ]
  },
  {
   "cell_type": "markdown",
   "metadata": {
    "id": "krsfBvoenaYu"
   },
   "source": [
    "### Prepare the protein ligand complex"
   ]
  },
  {
   "cell_type": "markdown",
   "metadata": {
    "id": "t3mGSg8LLgop"
   },
   "source": [
    "#### 蛋白质制备\n",
    "\n",
    "成功模拟的关键部分是正确和完整的系统。从蛋白质数据库中检索到的晶体结构经常缺少原子，主要是氢，并且可能包含非标准残基。在这个演讲中，我们将使用Python软件包[PDBFixer]（https://github.com/openmm/pdbfixer）来准备蛋白质结构。然而，[PDBFixer]（https://github.com/openmm/pdbfixer）\n",
    "不能很好地处理共阻化配体，因此将单独制备。"
   ]
  },
  {
   "cell_type": "code",
   "execution_count": 8,
   "metadata": {
    "id": "pA9Vct0iNRhl"
   },
   "outputs": [],
   "source": [
    "def prepare_protein(\n",
    "    pdb_file, ignore_missing_residues=True, ignore_terminal_missing_residues=True, ph=7.0\n",
    "):\n",
    "    \"\"\"\n",
    "    使用pdbfixer从PDB文件中准备蛋白质。杂原子如配体是\n",
    "    去除不符合标准的残留物替换。对已有的残基添加缺失原子。\n",
    "    缺省残差默认忽略，但可以包含在内。\n",
    "\n",
    "    Parameters\n",
    "    ----------\n",
    "    pdb_file: pathlib.Path or str\n",
    "        PDB file containing the system to simulate.\n",
    "    ignore_missing_residues: bool, optional\n",
    "        If missing residues should be ignored or built.\n",
    "    ignore_terminal_missing_residues: bool, optional\n",
    "        If missing residues at the beginning and the end of a chain should be ignored or built.\n",
    "    ph: float, optional\n",
    "        pH value used to determine protonation state of residues\n",
    "\n",
    "    Returns\n",
    "    -------\n",
    "    fixer: pdbfixer.pdbfixer.PDBFixer\n",
    "        Prepared protein system.\n",
    "    \"\"\"\n",
    "    fixer = pdbfixer.PDBFixer(str(pdb_file))\n",
    "    fixer.removeHeterogens()  # co-crystallized ligands are unknown to PDBFixer\n",
    "    fixer.findMissingResidues()  # identify missing residues, needed for identification of missing atoms\n",
    "\n",
    "    # if missing terminal residues shall be ignored, remove them from the dictionary\n",
    "    if ignore_terminal_missing_residues:\n",
    "        chains = list(fixer.topology.chains())\n",
    "        keys = fixer.missingResidues.keys()\n",
    "        for key in list(keys):\n",
    "            chain = chains[key[0]]\n",
    "            if key[1] == 0 or key[1] == len(list(chain.residues())):\n",
    "                del fixer.missingResidues[key]\n",
    "\n",
    "    # if all missing residues shall be ignored ignored, clear the dictionary\n",
    "    if ignore_missing_residues:\n",
    "        fixer.missingResidues = {}\n",
    "\n",
    "    fixer.findNonstandardResidues()  # find non-standard residue\n",
    "    fixer.replaceNonstandardResidues()  # replace non-standard residues with standard one\n",
    "    fixer.findMissingAtoms()  # find missing heavy atoms\n",
    "    fixer.addMissingAtoms()  # add missing atoms and residues\n",
    "    fixer.addMissingHydrogens(ph)  # add missing hydrogens\n",
    "    return fixer"
   ]
  },
  {
   "cell_type": "code",
   "execution_count": 9,
   "metadata": {
    "id": "bxuyg-oxOtvn"
   },
   "outputs": [
    {
     "name": "stderr",
     "output_type": "stream",
     "text": [
      "Warning: importing 'simtk.openmm' is deprecated.  Import 'openmm' instead.\n"
     ]
    }
   ],
   "source": [
    "# 制备蛋白并构建仅缺失非末端残基\n",
    "prepared_protein = prepare_protein(pdb_path, ignore_missing_residues=False)"
   ]
  },
  {
   "cell_type": "markdown",
   "metadata": {
    "id": "_wR47KGjnP2O"
   },
   "source": [
    "#### Prepare ligand"
   ]
  },
  {
   "cell_type": "markdown",
   "metadata": {
    "id": "8VoOjhASZ4Jh"
   },
   "source": [
    "在制备完蛋白之后，我们将目光转向了配体。再次，我们需要添加氢，但也需要确保键序被正确分配，因为一些PDB条目可能包含错误。我们使用Python包[ RDKit ] ( https://github.com/rdkit/rdkit),是一个开源的化学信息学库。\n",
    "我们将通过SMILES字符串向[ RDKit ] ( https://github.com/rdkit/rdkit) )提供正确的质子化状态和键级。每个共晶配体的无电荷异构SMILES串可以在各自的[ PDB ] ( https://www.rcsb.org) entry )中找到。PDB的配体条目[ 3POZ ] ( https://www.rcsb.org/structure/3poz)的名称为[ 03P ] ( https://www.rcsb.org/ligand/03P).如果一个配体很可能以其带电形式结合或作为特定的互变异构体，这种特性需要"
   ]
  },
  {
   "cell_type": "code",
   "execution_count": 11,
   "metadata": {
    "id": "si7ARKHoabal"
   },
   "outputs": [],
   "source": [
    "def prepare_ligand(pdb_file, resname, smiles, depict=True):\n",
    "    \"\"\"\n",
    "    通过添加氢和分配键序，从PDB文件中制备配体。一种描绘\n",
    "    对配体在制备前和制备后进行了2D渲染，以允许对其进行考察\n",
    "    结果。巨大的感谢！@hannahbrucemcdonald和@glass-wags的建议。\n",
    "\n",
    "    Parameters\n",
    "    ----------\n",
    "    pdb_file: pathlib.PosixPath\n",
    "       PDB file containing the ligand of interest.\n",
    "    resname: str\n",
    "        Three character residue name of the ligand.\n",
    "    smiles : str\n",
    "        SMILES string of the ligand informing about correct protonation and bond orders.\n",
    "    depict: bool, optional\n",
    "        show a 2D representation of the ligand\n",
    "\n",
    "    Returns\n",
    "    -------\n",
    "    prepared_ligand: rdkit.Chem.rdchem.Mol\n",
    "        Prepared ligand.\n",
    "    \"\"\"\n",
    "    # split molecule\n",
    "    rdkit_mol = Chem.MolFromPDBFile(str(pdb_file))\n",
    "    rdkit_mol_split = Chem.rdmolops.SplitMolByPDBResidues(rdkit_mol)\n",
    "\n",
    "    # extract the ligand and remove any already present hydrogens\n",
    "    ligand = rdkit_mol_split[resname]\n",
    "    ligand = Chem.RemoveHs(ligand)\n",
    "\n",
    "    # assign bond orders from template\n",
    "    reference_mol = Chem.MolFromSmiles(smiles)\n",
    "    prepared_ligand = AllChem.AssignBondOrdersFromTemplate(reference_mol, ligand)\n",
    "    prepared_ligand.AddConformer(ligand.GetConformer(0))\n",
    "\n",
    "    # protonate ligand\n",
    "    prepared_ligand = Chem.rdmolops.AddHs(prepared_ligand, addCoords=True)\n",
    "    prepared_ligand = Chem.MolFromMolBlock(Chem.MolToMolBlock(prepared_ligand))\n",
    "\n",
    "    # 2D depiction\n",
    "    if depict:\n",
    "        ligand_2d = copy.deepcopy(ligand)\n",
    "        prepared_ligand_2d = copy.deepcopy(prepared_ligand)\n",
    "        AllChem.Compute2DCoords(ligand_2d)\n",
    "        AllChem.Compute2DCoords(prepared_ligand_2d)\n",
    "        display(\n",
    "            Draw.MolsToGridImage(\n",
    "                [ligand_2d, prepared_ligand_2d], molsPerRow=2, legends=[\"original\", \"prepared\"]\n",
    "            )\n",
    "        )\n",
    "\n",
    "    # return ligand\n",
    "    return prepared_ligand"
   ]
  },
  {
   "cell_type": "markdown",
   "metadata": {
    "id": "GkqslZRknFbq"
   },
   "source": [
    "用取自[ 03P ]的PDB条目的同分异构体SMILES字符串调用此函数( https://www.rcsb.org/ligand/03P)\n",
    "返回正确制备的配体)。打印是对原始和准备好的配体进行检查的2D表示。"
   ]
  },
  {
   "metadata": {},
   "cell_type": "code",
   "outputs": [],
   "execution_count": null,
   "source": [
    "# def prepare_ligand(pdb_file, resname, smiles, depict=True):\n",
    "#     # 使用 SMILES 直接创建参考配体\n",
    "#     reference_mol = Chem.MolFromSmiles(smiles)\n",
    "#     \n",
    "#     # 确保从 SMILES 生成的分子正确\n",
    "#     if reference_mol is None:\n",
    "#         raise ValueError(\"Invalid SMILES string provided.\")\n",
    "#     \n",
    "#     # 尝试从 PDB 文件加载配体\n",
    "#     rdkit_mol = Chem.MolFromPDBFile(str(pdb_file))\n",
    "#     rdkit_mol_split = Chem.rdmolops.SplitMolByPDBResidues(rdkit_mol)\n",
    "# \n",
    "#     # 获取配体\n",
    "#     if resname not in rdkit_mol_split:\n",
    "#         raise ValueError(f\"Residue name {resname} not found in PDB file.\")\n",
    "#     ligand = rdkit_mol_split[resname]\n",
    "#     ligand = Chem.RemoveHs(ligand)\n",
    "# \n",
    "#     # 忽略 PDB 文件的键序信息，直接使用 SMILES 重建\n",
    "#     prepared_ligand = Chem.MolFromSmiles(smiles)\n",
    "# \n",
    "#     # 添加氢原子\n",
    "#     prepared_ligand = Chem.rdmolops.AddHs(prepared_ligand)\n",
    "# \n",
    "#     # 2D 结构显示\n",
    "#     if depict:\n",
    "#         AllChem.Compute2DCoords(prepared_ligand)\n",
    "#         display(Draw.MolToImage(prepared_ligand))\n",
    "# \n",
    "#     return prepared_ligand\n",
    "# \n",
    "# \n"
   ]
  },
  {
   "cell_type": "code",
   "execution_count": 12,
   "metadata": {
    "colab": {
     "base_uri": "https://localhost:8080/",
     "height": 217
    },
    "id": "04v75eTlcEtx",
    "outputId": "800d782f-8e3c-40c7-bd2d-3339fc8e8b54",
    "tags": [
     "nbsphinx-thumbnail"
    ]
   },
   "outputs": [
    {
     "name": "stderr",
     "output_type": "stream",
     "text": [
      "[12:25:08] WARNING: More than one matching pattern found - picking one\n",
      "\n"
     ]
    },
    {
     "data": {
      "image/png": "[encoded data removed]",
      "text/plain": [
       "<IPython.core.display.Image object>"
      ]
     },
     "metadata": {},
     "output_type": "display_data"
    }
   ],
   "source": [
    "smiles = \"CC(C)(O)CC(=O)NCCn1ccc2ncnc(Nc3ccc(Oc4cccc(c4)C(F)(F)F)c(Cl)c3)c12\"\n",
    "rdkit_ligand = prepare_ligand(pdb_path, ligand_name, smiles)"
   ]
  },
  {
   "cell_type": "markdown",
   "metadata": {
    "id": "NP9WekSTO5N3"
   },
   "source": [
    "#### 合并蛋白质和配体\n",
    "\n",
    "在下一步中，我们想使用Python软件包[MDTraj]（https://github.com/mdtraj/mdtraj）合并准备好的蛋白质和配体结构。[MDTraj]（https://github.com/mdtraj/mdtraj）\n",
    "可以处理制备的蛋白质，它目前是一个[PDBFixer]（https://github.com/openmm/pdbfixer）分子，这种格式的拓扑结构和原子位置与[OpenMM Modeler]（http://docs.openmm.org/latest/userguide/application.html#model-building-and-editing）\n",
    "拓扑和位置相似，通常可与之互换。然而，对于配体，我们需要进行几次转换，因为它目前是一个[RDKit]（https://github.com/rdkit/rdkit）分子。"
   ]
  },
  {
   "cell_type": "code",
   "execution_count": 13,
   "metadata": {
    "id": "UwehzZrhpDnD"
   },
   "outputs": [],
   "source": [
    "def rdkit_to_openmm(rdkit_mol, name=\"LIG\"):\n",
    "    \"\"\"\n",
    "    将一个RDKit分子转换为一个OpenMM分子。\n",
    "    受到@ Hannahbrucemcdonald和@ Glass - W的启发。\n",
    "\n",
    "    Parameters\n",
    "    ----------\n",
    "    rdkit_mol: rdkit.Chem.rdchem.Mol\n",
    "        RDKit molecule to convert.\n",
    "    name: str\n",
    "        Molecule name.\n",
    "\n",
    "    Returns\n",
    "    -------\n",
    "    omm_molecule: openmm.app.Modeller\n",
    "        OpenMM modeller object holding the molecule of interest.\n",
    "    \"\"\"\n",
    "    # convert RDKit to OpenFF\n",
    "    off_mol = Molecule.from_rdkit(rdkit_mol)\n",
    "\n",
    "    # add name for molecule\n",
    "    off_mol.name = name\n",
    "\n",
    "    # add names for atoms\n",
    "    element_counter_dict = {}\n",
    "    for off_atom, rdkit_atom in zip(off_mol.atoms, rdkit_mol.GetAtoms()):\n",
    "        element = rdkit_atom.GetSymbol()\n",
    "        if element in element_counter_dict.keys():\n",
    "            element_counter_dict[element] += 1\n",
    "        else:\n",
    "            element_counter_dict[element] = 1\n",
    "        off_atom.name = element + str(element_counter_dict[element])\n",
    "\n",
    "    # convert from OpenFF to OpenMM\n",
    "    off_mol_topology = off_mol.to_topology()\n",
    "    mol_topology = off_mol_topology.to_openmm()\n",
    "    mol_positions = off_mol.conformers[0]\n",
    "\n",
    "    # convert units from Ångström to nanometers\n",
    "    # since OpenMM works in nm\n",
    "    mol_positions = mol_positions.to(\"nanometers\")\n",
    "\n",
    "    # combine topology and positions in modeller object\n",
    "    omm_mol = app.Modeller(mol_topology, mol_positions)\n",
    "\n",
    "    return omm_mol"
   ]
  },
  {
   "cell_type": "code",
   "execution_count": 14,
   "metadata": {
    "id": "I77OHmv47vEN"
   },
   "outputs": [],
   "source": [
    "omm_ligand = rdkit_to_openmm(rdkit_ligand, ligand_name)"
   ]
  },
  {
   "cell_type": "markdown",
   "metadata": {
    "id": "dqY5AE0JGIgL"
   },
   "source": [
    "Now protein and ligand are both in [OpenMM](https://github.com/openmm/openmm) like formats and can be merged with [MDTraj](https://github.com/mdtraj/mdtraj)."
   ]
  },
  {
   "cell_type": "code",
   "execution_count": 15,
   "metadata": {
    "id": "8gJMRq8fZYOU"
   },
   "outputs": [],
   "source": [
    "def merge_protein_and_ligand(protein, ligand):\n",
    "    \"\"\"\n",
    "    Merge two OpenMM objects.\n",
    "\n",
    "    Parameters\n",
    "    ----------\n",
    "    protein: pdbfixer.pdbfixer.PDBFixer\n",
    "        Protein to merge.\n",
    "    ligand: openmm.app.Modeller\n",
    "        Ligand to merge.\n",
    "\n",
    "    Returns\n",
    "    -------\n",
    "    complex_topology: openmm.app.topology.Topology\n",
    "        The merged topology.\n",
    "    complex_positions: openmm.unit.quantity.Quantity\n",
    "        The merged positions.\n",
    "    \"\"\"\n",
    "    # combine topologies\n",
    "    md_protein_topology = md.Topology.from_openmm(protein.topology)  # using mdtraj for protein top\n",
    "    md_ligand_topology = md.Topology.from_openmm(ligand.topology)  # using mdtraj for ligand top\n",
    "    md_complex_topology = md_protein_topology.join(md_ligand_topology)  # add them together\n",
    "    complex_topology = md_complex_topology.to_openmm()\n",
    "\n",
    "    # combine positions\n",
    "    total_atoms = len(protein.positions) + len(ligand.positions)\n",
    "\n",
    "    # create an array for storing all atom positions as tupels containing a value and a unit\n",
    "    # called OpenMM Quantities\n",
    "    complex_positions = unit.Quantity(np.zeros([total_atoms, 3]), unit=unit.nanometers)\n",
    "    complex_positions[: len(protein.positions)] = protein.positions  # add protein positions\n",
    "    complex_positions[len(protein.positions) :] = ligand.positions  # add ligand positions\n",
    "\n",
    "    return complex_topology, complex_positions"
   ]
  },
  {
   "cell_type": "code",
   "execution_count": 26,
   "metadata": {
    "id": "ZXmeeV0ZPOho"
   },
   "outputs": [
    {
     "name": "stderr",
     "output_type": "stream",
     "text": [
      "~/.miniconda3/envs/teachopencadd/lib/python3.9/site-packages/openmm/unit/quantity.py:750: UnitStrippedWarning: The unit of the quantity is stripped when downcasting to ndarray.\n",
      "  self._value[key] = value / self.unit\n"
     ]
    }
   ],
   "source": [
    "omm_ligand = rdkit_to_openmm(rdkit_ligand, name=ligand_name)\n",
    "complex_topology, complex_positions = merge_protein_and_ligand(prepared_protein, omm_ligand)"
   ]
  },
  {
   "cell_type": "code",
   "execution_count": 27,
   "metadata": {
    "id": "ZXmeeV0ZPOho"
   },
   "outputs": [
    {
     "name": "stdout",
     "output_type": "stream",
     "text": [
      "Complex topology has 5561 atoms.\n"
     ]
    }
   ],
   "source": [
    "print(\"Complex topology has\", complex_topology.getNumAtoms(), \"atoms.\")\n",
    "# NBVAL_CHECK_OUTPUT"
   ]
  },
  {
   "cell_type": "markdown",
   "metadata": {
    "id": "2HAmjMG5Lgpd"
   },
   "source": [
    "### MD模拟设置\n",
    "\n",
    "我们现在可以使用准备好的复合物来设置MD模拟。"
   ]
  },
  {
   "cell_type": "markdown",
   "metadata": {
    "id": "1B9DRdICny_f"
   },
   "source": [
    "#### 力场\n",
    "\n",
    "像琥珀这样的普通力场具有氨基酸、核酸、水和离子的参数，通常根据您的目标提供几种选择。我们使用`amber14-all.xml`力场文件，该文件与OpenMM一起发货，包括蛋白质、DNA、RNA和脂质的参数。为了解决，我们使用标准的三站点[水模型](https://en.wikipedia.org/wiki/Water_model) \n",
    "[**TIP3P**](https://aip.scitation.org/doi/10.1063/1.445869)。\n",
    "\n",
    "然而，配体的参数不包括在内。为了生成这些参数，我们可以使用**G**eneral **A**MBER **F**orce**F**ield ([GAFF](http://ambermd.org/antechamber/gaff.html))，\n",
    "该软件包在Python软件包[OpenMM Forcefields](https://github.com/openmm/openmmforcefields)\n",
    "中实现。以下函数生成一个包含标准琥珀参数的力场对象，如果需要，还包括小分子的参数。"
   ]
  },
  {
   "cell_type": "code",
   "execution_count": 17,
   "metadata": {
    "id": "EFHKhU6v1k-h"
   },
   "outputs": [],
   "source": [
    "def generate_forcefield(\n",
    "    rdkit_mol=None, protein_ff=\"amber14-all.xml\", solvent_ff=\"amber14/tip3pfb.xml\"\n",
    "):\n",
    "    \"\"\"\n",
    "    生成一个OpenMM Forcefield对象并注册一个小分子。\n",
    "\n",
    "    Parameters\n",
    "    ----------\n",
    "    rdkit_mol: rdkit.Chem.rdchem.Mol\n",
    "        Small molecule to register in the force field.\n",
    "    protein_ff: string\n",
    "        Name of the force field.\n",
    "    solvent_ff: string\n",
    "        Name of the solvent force field.\n",
    "\n",
    "    Returns\n",
    "    -------\n",
    "    forcefield: openmm.app.Forcefield\n",
    "        Forcefield with registered small molecule.\n",
    "    \"\"\"\n",
    "    forcefield = app.ForceField(protein_ff, solvent_ff)\n",
    "\n",
    "    if rdkit_mol is not None:\n",
    "        gaff = GAFFTemplateGenerator(\n",
    "            molecules=Molecule.from_rdkit(rdkit_mol, allow_undefined_stereo=True)\n",
    "        )\n",
    "        forcefield.registerTemplateGenerator(gaff.generator)\n",
    "\n",
    "    return forcefield"
   ]
  },
  {
   "cell_type": "code",
   "execution_count": 18,
   "metadata": {
    "id": "5is-oVrO2Fjy"
   },
   "outputs": [],
   "source": [
    "forcefield = generate_forcefield(rdkit_ligand)"
   ]
  },
  {
   "cell_type": "markdown",
   "metadata": {
    "id": "cGrreylan6XS"
   },
   "source": [
    "#### System"
   ]
  },
  {
   "cell_type": "markdown",
   "metadata": {
    "id": "DzO12MFp2P48"
   },
   "source": [
    "利用我们配置的力场，我们现在可以使用[ OpenMM莫德勒] ( http://docs.openmm.org/latest/userguide/application.html # model-build-and-editing )类来创建MD环境，这是一个包含复合物并充满溶剂的模拟盒子。标准溶剂为含有一定量离子的水。箱体的尺寸可以通过多种方式确定。我们用一个填充来定义它，这就产生了一个立方体盒子，它的维数依赖于复形的最大维数。\n",
    ">注意，这一步可能需要很长的时间，以分钟为单位，取决于你的硬件。"
   ]
  },
  {
   "cell_type": "code",
   "execution_count": 19,
   "metadata": {
    "id": "c4LEvWMI8ash"
   },
   "outputs": [],
   "source": [
    "modeller = app.Modeller(complex_topology, complex_positions)\n",
    "modeller.addSolvent(forcefield, padding=1.0 * unit.nanometers, ionicStrength=0.15 * unit.molar)"
   ]
  },
  {
   "cell_type": "markdown",
   "metadata": {
    "id": "TwAEe5d8n4jf"
   },
   "source": [
    "借助我们的解系统和力场，我们最终可以创建一个[OpenMM系统]（http://docs.openmm.org/development/api-python/generated/openmm.openmm.System.html#openmm.openmm.System）\n",
    "并设置模拟。\n",
    "\n",
    "除了系统之外，模拟还需要一个集成器。[OpenMM集成器]（http://docs.openmm.org/development/api-python/library.html#integrators）\n",
    "定义了一种通过积分运动方程来模拟系统的方法。所选的**朗格文集成器**使用朗格文方程。所有不同类型的集成商的列表可以在[OpenMM文档]（http://docs.openmm.org/development/api-python/library.html#integrators）\n",
    "中找到。要进一步了解**朗格文集成器**，我们建议阅读朗格文方程，例如在[维基百科]（https://en.wikipedia.org/wiki/Langevin_equation）上。"
   ]
  },
  {
   "cell_type": "code",
   "execution_count": 20,
   "metadata": {
    "id": "n52Cmkr4dpI-"
   },
   "outputs": [],
   "source": [
    "system = forcefield.createSystem(modeller.topology, nonbondedMethod=app.PME)\n",
    "integrator = mm.LangevinIntegrator(\n",
    "    300 * unit.kelvin, 1.0 / unit.picoseconds, 2.0 * unit.femtoseconds\n",
    ")\n",
    "simulation = app.Simulation(modeller.topology, system, integrator)\n",
    "simulation.context.setPositions(modeller.positions)"
   ]
  },
  {
   "cell_type": "markdown",
   "metadata": {
    "id": "JwEgrFkILgqL"
   },
   "source": [
    "### 执行MD模拟\n",
    "\n",
    "现在一切都设置好了，我们可以进行模拟了。我们需要设置起始位置，并将系统的能量最小化，以获得低能量起始配置，这对减少严重原子碰撞导致模拟失败的机会很重要。节能最小化系统被节省了。"
   ]
  },
  {
   "cell_type": "code",
   "execution_count": 21,
   "metadata": {
    "id": "EgkE1EUGLgqP"
   },
   "outputs": [],
   "source": [
    "simulation.minimizeEnergy()\n",
    "with open(DATA / \"topology.pdb\", \"w\") as pdb_file:\n",
    "    app.PDBFile.writeFile(\n",
    "        simulation.topology,\n",
    "        simulation.context.getState(getPositions=True, enforcePeriodicBox=True).getPositions(),\n",
    "        file=pdb_file,\n",
    "        keepIds=True,\n",
    "    )"
   ]
  },
  {
   "cell_type": "markdown",
   "metadata": {
    "id": "KAwpxWM7ozSo"
   },
   "source": [
    "一旦最小化完成，我们就可以执行MD模拟。在这个谈话中，我们将做一个简短的模拟来说明。用于研究目的的模拟跨越了几纳秒，甚至高达微秒。我们将只模拟100 ps的分子动力学，对应于每个2 fs的5万步。我们每10 ps（5000步）保存一次分子“快照”，总共10帧。结果保存在.xtc文件中，其中包含给定时间点所有原子的坐标。与之前编写的能量最小化系统的PDB文件一起，它为我们提供了以后分析所需的所有信息。\n",
    "\n",
    "**注**：如果不是在Google Colab上，这个只会生成20 fs的轨迹。然而，如果您有一个好的GPU可用，您还可以增加模拟时间。"
   ]
  },
  {
   "cell_type": "code",
   "execution_count": 22,
   "metadata": {
    "id": "E8t-0ZxFLgqh"
   },
   "outputs": [],
   "source": [
    "# output settings\n",
    "if on_colab:\n",
    "    steps = 50000  # corresponds to 100 ps\n",
    "    write_interval = 5000  # write every 10 ps\n",
    "    log_interval = 2500  # log progress to stdout every 5 ps\n",
    "else:\n",
    "    steps = 10  # corresponds to 20 fs\n",
    "    write_interval = 1  # write every 2 fs\n",
    "    log_interval = 1  # log progress to stdout every 2 fs\n",
    "simulation.reporters.append(\n",
    "    md.reporters.XTCReporter(file=str(DATA / \"trajectory.xtc\"), reportInterval=write_interval)\n",
    ")\n",
    "simulation.reporters.append(\n",
    "    app.StateDataReporter(\n",
    "        sys.stdout,\n",
    "        log_interval,\n",
    "        step=True,\n",
    "        potentialEnergy=True,\n",
    "        temperature=True,\n",
    "        progress=True,\n",
    "        remainingTime=True,\n",
    "        speed=True,\n",
    "        totalSteps=steps,\n",
    "        separator=\"\\t\",\n",
    "    )\n",
    ")"
   ]
  },
  {
   "cell_type": "markdown",
   "metadata": {
    "id": "J3gGRFBFozSp"
   },
   "source": [
    "系统中所有粒子的速度从给定温度下的分布中随机选择。我们选择了300开尔文，比室温高了一些度。\n",
    "生成一个随机种子，但可以显式给出以重现结果。\n",
    "然后通过采取之前定义的步骤进行仿真。"
   ]
  },
  {
   "cell_type": "code",
   "execution_count": 23,
   "metadata": {
    "colab": {
     "base_uri": "https://localhost:8080/"
    },
    "id": "7B7AiVO3fr03",
    "outputId": "1efb21e9-74de-47a4-dce9-961a514175f0"
   },
   "outputs": [
    {
     "name": "stdout",
     "output_type": "stream",
     "text": [
      "#\"Progress (%)\"\t\"Step\"\t\"Potential Energy (kJ/mole)\"\t\"Temperature (K)\"\t\"Speed (ns/day)\"\t\"Time Remaining\"\n",
      "10.0%\t1\t-992629.2532507611\t280.59188983053207\t0\t--\n",
      "20.0%\t2\t-978514.3140385933\t250.1140053691449\t1.88\t0:00\n",
      "30.0%\t3\t-961427.9816461714\t214.09328454071326\t1.92\t0:00\n",
      "40.0%\t4\t-944609.5657245225\t180.29949178380076\t1.9\t0:00\n",
      "50.0%\t5\t-938426.3768274506\t165.17778679274846\t1.89\t0:00\n",
      "60.0%\t6\t-930096.1319021038\t149.4126629808844\t1.89\t0:00\n",
      "70.0%\t7\t-926924.8985479049\t143.336941762251\t1.9\t0:00\n",
      "80.0%\t8\t-930284.4123182578\t149.77757492192208\t1.91\t0:00\n",
      "90.0%\t9\t-932318.9156875424\t155.78884925604478\t1.9\t0:00\n",
      "100.0%\t10\t-937770.7580560565\t167.02287919129623\t1.9\t0:00\n"
     ]
    }
   ],
   "source": [
    "simulation.context.setVelocitiesToTemperature(300 * unit.kelvin)\n",
    "simulation.step(steps)  # perform the simulation"
   ]
  },
  {
   "cell_type": "code",
   "execution_count": 24,
   "metadata": {},
   "outputs": [
    {
     "data": {
      "text/plain": [
       "True"
      ]
     },
     "execution_count": 24,
     "metadata": {},
     "output_type": "execute_result"
    }
   ],
   "source": [
    "# Check the trajectory exists and is not empty\n",
    "(DATA / \"trajectory.xtc\").stat().st_size > 0\n",
    "# NBVAL_CHECK_OUTPUT"
   ]
  },
  {
   "cell_type": "markdown",
   "metadata": {
    "id": "M_Wf2prXqoif"
   },
   "source": [
    "### 下载结果\n",
    "\n",
    "如果您正在Google Colab上下载MD模拟结果，您可以执行以下单元格。"
   ]
  },
  {
   "cell_type": "code",
   "execution_count": 25,
   "metadata": {
    "colab": {
     "base_uri": "https://localhost:8080/",
     "height": 17
    },
    "id": "FfcMX8G1i0RY",
    "outputId": "84b171f2-7ae1-42fd-cce6-9fa34431a88a"
   },
   "outputs": [],
   "source": [
    "if on_colab:\n",
    "    files.download(DATA / \"topology.pdb\")\n",
    "    files.download(DATA / \"trajectory.xtc\")"
   ]
  },
  {
   "cell_type": "markdown",
   "metadata": {
    "id": "aAleBNfKyhCd"
   },
   "source": [
    "## 讨论\n",
    "\n",
    "我们成功对蛋白质配体复合物进行了MD模拟。然而，我们只模拟了相当短的时间，以保持谈话的执行时间短。为了解决药物设计中的关键问题，通常需要更长的模拟。"
   ]
  },
  {
   "cell_type": "markdown",
   "metadata": {
    "id": "qFsGM5zEozSq"
   },
   "source": ""
  },
  {
   "cell_type": "markdown",
   "metadata": {
    "id": "DYy_qmUJF1W6"
   },
   "source": ""
  },
  {
   "cell_type": "markdown",
   "metadata": {
    "id": "IWYS2Q40u_dl"
   },
   "source": ""
  },
  {
   "metadata": {},
   "cell_type": "code",
   "outputs": [],
   "execution_count": null,
   "source": ""
  }
 ],
 "metadata": {
  "accelerator": "GPU",
  "colab": {
   "collapsed_sections": [],
   "name": "talktorial.ipynb",
   "provenance": [],
   "toc_visible": true
  },
  "kernelspec": {
   "display_name": "Python 3 (ipykernel)",
   "language": "python",
   "name": "python3"
  },
  "language_info": {
   "codemirror_mode": {
    "name": "ipython",
    "version": 3
   },
   "file_extension": ".py",
   "mimetype": "text/x-python",
   "name": "python",
   "nbconvert_exporter": "python",
   "pygments_lexer": "ipython3",
   "version": "3.9.16"
  },
  "widgets": {
   "application/vnd.jupyter.widget-state+json": {
    "state": {},
    "version_major": 2,
    "version_minor": 0
   }
  }
 },
 "nbformat": 4,
 "nbformat_minor": 4
}
