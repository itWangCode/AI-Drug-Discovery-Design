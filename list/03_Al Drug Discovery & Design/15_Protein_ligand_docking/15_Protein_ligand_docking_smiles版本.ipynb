{
 "cells": [
  {
   "metadata": {},
   "cell_type": "markdown",
   "source": [
    "# # Protein-Ligand Docking with SMILES\n",
    "# \n",
    "# In this notebook, we will use the `Docking` module of the `rdkit` package to perform protein-ligand docking using SMILES strings. We will use the `PDBBind` dataset to train and test our model.\n",
    "# \n",
    "# First, let's import the necessary packages."
   ],
   "id": "ef4d2fe4d5dd9ac0"
  },
  {
   "cell_type": "code",
   "id": "initial_id",
   "metadata": {
    "collapsed": true,
    "ExecuteTime": {
     "end_time": "2024-10-15T08:51:15.382227Z",
     "start_time": "2024-10-15T08:51:12.803122Z"
    }
   },
   "source": [
    "# 修改后的代码\n",
    "import warnings  # 导入警告模块\n",
    "from pathlib import Path  # 导入路径处理模块\n",
    "import subprocess  # 导入子进程模块\n",
    "import numpy as np  # 导入NumPy模块\n",
    "from MDAnalysis import Universe  # 从MDAnalysis导入Universe类\n",
    "from openbabel import pybel  # 从Open Babel导入pybel模块\n",
    "import nglview as nv  # 导入nglview用于可视化\n",
    "\n",
    "import openmm  # 导入OpenMM模块\n",
    "import openmm.app  # 导入OpenMM.app模块\n",
    "\n",
    "# Filter warnings\n",
    "warnings.filterwarnings(\"ignore\")  # 忽略警告信息"
   ],
   "outputs": [
    {
     "data": {
      "text/plain": [],
      "application/vnd.jupyter.widget-view+json": {
       "version_major": 2,
       "version_minor": 0,
       "model_id": "982c6314d80340788054ee88ea53b080"
      }
     },
     "metadata": {},
     "output_type": "display_data"
    }
   ],
   "execution_count": 1
  },
  {
   "metadata": {
    "ExecuteTime": {
     "end_time": "2024-10-15T08:51:16.941584Z",
     "start_time": "2024-10-15T08:51:16.935730Z"
    }
   },
   "cell_type": "code",
   "source": [
    "# 设置工作目录\n",
    "from pathlib import Path\n",
    "import os\n",
    "\n",
    "# 获取当前工作目录\n",
    "HERE = Path(os.getcwd())\n",
    "DATA = HERE / 'data'\n",
    "if not DATA.exists():\n",
    "    DATA.mkdir(parents=True, exist_ok=True)\n",
    "print(DATA)"
   ],
   "id": "32daa4a3b5ca055e",
   "outputs": [
    {
     "name": "stdout",
     "output_type": "stream",
     "text": [
      "/Users/wangyang/Desktop/Breast_cancer_brain_metastasis/wang_Gene/AIDD/15_Protein_ligand_docking/data\n"
     ]
    }
   ],
   "execution_count": 2
  },
  {
   "metadata": {
    "ExecuteTime": {
     "end_time": "2024-10-15T08:56:02.125488Z",
     "start_time": "2024-10-15T08:55:18.550439Z"
    }
   },
   "cell_type": "code",
   "source": [
    "class Structure(Universe):\n",
    "    \"\"\"Core object to load structures with.\"\"\"\n",
    "    \n",
    "    @classmethod\n",
    "    def from_string(cls, pdb_path):\n",
    "        \"\"\"Load a structure from a local PDB file.\"\"\"\n",
    "        return cls(pdb_path)  # 从本地PDB文件加载结构\n",
    "\n",
    "\n",
    "# Load local structure\n",
    "pdb_path = DATA / \"6Q4G.pdb\"  # 确保这个路径指向本地的PDB文件\n",
    "# Define ligand SMILES and convert to PDBQT\n",
    "smiles = \"C[C@@H](Nc1ncnc2c(C(N)=O)cccc12)c1cccc(NC(=O)c2ccc(F)c(O)c2)c1\"  # 定义配体SMILES\n",
    "structure = Structure.from_string(pdb_path)  # 加载本地结构\n",
    "\n",
    "# Prepare protein file\n",
    "protein_path = DATA / \"protein.pdb\"  # 定义蛋白质文件路径\n",
    "protein = structure.select_atoms(\"protein\")  # 选择蛋白质原子\n",
    "protein.write(str(protein_path))  # 将蛋白质写入文件\n",
    "\n",
    "def pdb_to_pdbqt(pdb_path, pdbqt_path, pH=7.4):\n",
    "    \"\"\"Convert a PDB file to a PDBQT file.\"\"\"\n",
    "    molecule = list(pybel.readfile(\"pdb\", str(pdb_path)))[0]  # 读取PDB文件\n",
    "    molecule.OBMol.CorrectForPH(pH)  # 根据pH值进行修正\n",
    "    molecule.addh()  # 添加氢原子\n",
    "    for atom in molecule.atoms:\n",
    "        atom.OBAtom.GetPartialCharge()  # 获取部分电荷\n",
    "    molecule.write(\"pdbqt\", str(pdbqt_path), overwrite=True)  # 写入PDBQT文件\n",
    "\n",
    "# Convert protein to PDBQT format\n",
    "protein_pdbqt_path = DATA / \"protein.pdbqt\"  # 定义转换后的蛋白质PDBQT文件路径\n",
    "pdb_to_pdbqt(protein_path, protein_pdbqt_path)  # 转换蛋白质为PDBQT格式\n",
    "\n",
    "# 自动检测配体残基\n",
    "# 修改后的代码\n",
    "\n",
    "# 自动检测配体残基\n",
    "def find_ligand_resname(structure):\n",
    "    \"\"\"自动检测配体残基并返回配体的残基名称\"\"\"\n",
    "    # 选择所有非蛋白质和非水分子的原子\n",
    "    ligand_atoms = structure.select_atoms(\"not protein and not resname HOH\")\n",
    "    \n",
    "    # 获取这些原子的残基名称\n",
    "    ligand_resnames = set(ligand_atoms.resnames)\n",
    "    \n",
    "    if len(ligand_resnames) == 0:\n",
    "        raise ValueError(\"No ligand found in the structure.\")\n",
    "    \n",
    "    # 假设只有一个配体残基，返回该残基名称\n",
    "    return list(ligand_resnames)[0]\n",
    "\n",
    "# 自动选择配体残基名称\n",
    "ligand_resname = find_ligand_resname(structure)\n",
    "print(f\"Using ligand resname: {ligand_resname}\")\n",
    "ligand = structure.select_atoms(f\"resname {ligand_resname}\")  # 选择配体原子\n",
    "\n",
    "\n",
    "# Calculate pocket center and size\n",
    "pocket_center = (ligand.positions.max(axis=0) + ligand.positions.min(axis=0)) / 2  # 计算口袋中心\n",
    "pocket_size = ligand.positions.max(axis=0) - ligand.positions.min(axis=0) + 5  # 计算口袋大小\n",
    "\n",
    "\n",
    "ligand_path = DATA / \"ligand.pdbqt\"  # 定义配体PDBQT文件路径\n",
    "\n",
    "def smiles_to_pdbqt(smiles, pdbqt_path, pH=7.4):\n",
    "    \"\"\"Convert a SMILES string to a PDBQT file.\"\"\"\n",
    "    molecule = pybel.readstring(\"smi\", smiles)  # 从SMILES字符串读取分子\n",
    "    molecule.OBMol.CorrectForPH(pH)  # 根据pH值进行修正\n",
    "    molecule.addh()  # 添加氢原子\n",
    "    molecule.make3D(forcefield=\"mmff94s\", steps=10000)  # 生成3D构象\n",
    "    for atom in molecule.atoms:\n",
    "        atom.OBAtom.GetPartialCharge()  # 获取部分电荷\n",
    "    molecule.write(\"pdbqt\", str(pdbqt_path), overwrite=True)  # 写入PDBQT文件\n",
    "\n",
    "# Convert ligand SMILES to PDBQT format\n",
    "smiles_to_pdbqt(smiles, ligand_path)  # 将配体SMILES转换为PDBQT格式\n",
    "\n",
    "# Run Smina docking\n",
    "def run_smina(ligand_path, protein_path, out_path, pocket_center, pocket_size):\n",
    "    \"\"\"Perform docking with Smina.\"\"\"\n",
    "    output_text = subprocess.check_output([\n",
    "        \"smina\",  # Smina命令\n",
    "        \"--receptor\", str(protein_path),  # 蛋白质路径\n",
    "        \"--ligand\", str(ligand_path),  # 配体路径\n",
    "        \"--out\", str(out_path),  # 输出路径\n",
    "        \"--center_x\", str(pocket_center[0]),  # 口袋中心x坐标\n",
    "        \"--center_y\", str(pocket_center[1]),  # 口袋中心y坐标\n",
    "        \"--center_z\", str(pocket_center[2]),  # 口袋中心z坐标\n",
    "        \"--size_x\", str(pocket_size[0]),  # 口袋大小x\n",
    "        \"--size_y\", str(pocket_size[1]),  # 口袋大小y\n",
    "        \"--size_z\", str(pocket_size[2])   # 口袋大小z\n",
    "    ])\n",
    "    # print(output_text.decode())\n",
    "    # 保存output_text结果\n",
    "    # .txt文件，保存到DATA目录下\n",
    "    with open(DATA / \"output_text.txt\", \"w\") as f:\n",
    "        f.write(output_text.decode())\n",
    "    return output_text.decode(\"utf-8\")  # 返回输出文本\n",
    "\n",
    "# 执行分子对接\n",
    "docking_out_path = DATA / \"docking_poses.sdf\"  # 定义对接输出文件路径\n",
    "run_smina(ligand_path, protein_pdbqt_path, docking_out_path, pocket_center, pocket_size)  # 运行对接"
   ],
   "id": "7a4c19ef9b7b2b99",
   "outputs": [
    {
     "name": "stderr",
     "output_type": "stream",
     "text": [
      "==============================\n",
      "*** Open Babel Warning  in PerceiveBondOrders\n",
      "  Failed to kekulize aromatic bonds in OBMol::PerceiveBondOrders (title is /Users/wangyang/Desktop/Breast_cancer_brain_metastasis/wang_Gene/AIDD/15_Protein_ligand_docking/data/protein.pdb)\n",
      "\n"
     ]
    },
    {
     "name": "stdout",
     "output_type": "stream",
     "text": [
      "Using ligand resname: HJK\n",
      "   _______  _______ _________ _        _______ \n",
      "  (  ____ \\(       )\\__   __/( (    /|(  ___  )\n",
      "  | (    \\/| () () |   ) (   |  \\  ( || (   ) |\n",
      "  | (_____ | || || |   | |   |   \\ | || (___) |\n",
      "  (_____  )| |(_)| |   | |   | (\\ \\) ||  ___  |\n",
      "        ) || |   | |   | |   | | \\   || (   ) |\n",
      "  /\\____) || )   ( |___) (___| )  \\  || )   ( |\n",
      "  \\_______)|/     \\|\\_______/|/    )_)|/     \\|\n",
      "\n",
      "\n",
      "smina is based off AutoDock Vina. Please cite appropriately.\n",
      "\n",
      "Weights      Terms\n",
      "-0.035579    gauss(o=0,_w=0.5,_c=8)\n",
      "-0.005156    gauss(o=3,_w=2,_c=8)\n",
      "0.840245     repulsion(o=0,_c=8)\n",
      "-0.035069    hydrophobic(g=0.5,_b=1.5,_c=8)\n",
      "-0.587439    non_dir_h_bond(g=-0.7,_b=0,_c=8)\n",
      "1.923        num_tors_div\n",
      "\n",
      "Using random seed: 337003265\n",
      "\n",
      "0%   10   20   30   40   50   60   70   80   90   100%\n",
      "|----|----|----|----|----|----|----|----|----|----|\n",
      "***************************************************\n",
      "\n",
      "mode |   affinity | dist from best mode\n",
      "     | (kcal/mol) | rmsd l.b.| rmsd u.b.\n",
      "-----+------------+----------+----------\n",
      "1       -9.7       0.000      0.000    \n",
      "2       -8.9       2.418      4.424    \n",
      "3       -8.7       2.747      7.539    \n",
      "4       -8.2       2.904      7.169    \n",
      "5       -7.9       2.489      4.290    \n",
      "6       -7.5       3.114      7.432    \n",
      "7       -7.1       3.181      5.378    \n",
      "Refine time 38.280\n",
      "Loop time 38.786\n",
      "\n"
     ]
    },
    {
     "data": {
      "text/plain": [
       "'   _______  _______ _________ _        _______ \\n  (  ____ \\\\(       )\\\\__   __/( (    /|(  ___  )\\n  | (    \\\\/| () () |   ) (   |  \\\\  ( || (   ) |\\n  | (_____ | || || |   | |   |   \\\\ | || (___) |\\n  (_____  )| |(_)| |   | |   | (\\\\ \\\\) ||  ___  |\\n        ) || |   | |   | |   | | \\\\   || (   ) |\\n  /\\\\____) || )   ( |___) (___| )  \\\\  || )   ( |\\n  \\\\_______)|/     \\\\|\\\\_______/|/    )_)|/     \\\\|\\n\\n\\nsmina is based off AutoDock Vina. Please cite appropriately.\\n\\nWeights      Terms\\n-0.035579    gauss(o=0,_w=0.5,_c=8)\\n-0.005156    gauss(o=3,_w=2,_c=8)\\n0.840245     repulsion(o=0,_c=8)\\n-0.035069    hydrophobic(g=0.5,_b=1.5,_c=8)\\n-0.587439    non_dir_h_bond(g=-0.7,_b=0,_c=8)\\n1.923        num_tors_div\\n\\nUsing random seed: 337003265\\n\\n0%   10   20   30   40   50   60   70   80   90   100%\\n|----|----|----|----|----|----|----|----|----|----|\\n***************************************************\\n\\nmode |   affinity | dist from best mode\\n     | (kcal/mol) | rmsd l.b.| rmsd u.b.\\n-----+------------+----------+----------\\n1       -9.7       0.000      0.000    \\n2       -8.9       2.418      4.424    \\n3       -8.7       2.747      7.539    \\n4       -8.2       2.904      7.169    \\n5       -7.9       2.489      4.290    \\n6       -7.5       3.114      7.432    \\n7       -7.1       3.181      5.378    \\nRefine time 38.280\\nLoop time 38.786\\n'"
      ]
     },
     "execution_count": 5,
     "metadata": {},
     "output_type": "execute_result"
    }
   ],
   "execution_count": 5
  },
  {
   "metadata": {},
   "cell_type": "code",
   "outputs": [],
   "execution_count": null,
   "source": "",
   "id": "aaa2b1424b092407"
  },
  {
   "metadata": {
    "ExecuteTime": {
     "end_time": "2024-10-15T08:57:41.470837Z",
     "start_time": "2024-10-15T08:57:41.454095Z"
    }
   },
   "cell_type": "code",
   "source": [
    "def split_sdf_file(sdf_path):\n",
    "    \"\"\"\n",
    "    Split an SDF file into separate files for each molecule.\n",
    "    Each file is named with consecutive numbers.\n",
    "\n",
    "    Parameters\n",
    "    ----------\n",
    "    sdf_path: str or pathlib.Path\n",
    "        Path to SDF file that should be split.\n",
    "    \"\"\"\n",
    "    sdf_path = Path(sdf_path)  # 转换为Path对象\n",
    "    stem = sdf_path.stem  # 获取文件名（不带扩展名）\n",
    "    parent = sdf_path.parent  # 获取父目录\n",
    "    molecules = pybel.readfile(\"sdf\", str(sdf_path))  # 读取SDF文件中的分子\n",
    "    for i, molecule in enumerate(molecules, 1):  # 遍历每个分子\n",
    "        molecule.write(\"sdf\", str(parent / f\"{stem}_{i}.sdf\"), overwrite=True)  # 写入单独的SDF文件\n",
    "    return\n",
    "\n",
    "# 分割对接输出的SDF文件\n",
    "split_sdf_file(DATA / \"docking_poses.sdf\")  # 调用函数分割SDF文件"
   ],
   "id": "77d9521093cd7cee",
   "outputs": [],
   "execution_count": 6
  },
  {
   "metadata": {
    "ExecuteTime": {
     "end_time": "2024-10-15T08:57:42.660199Z",
     "start_time": "2024-10-15T08:57:42.626641Z"
    }
   },
   "cell_type": "code",
   "source": [
    "# 可视化对接结果\n",
    "docking_pose_id = 1  # 定义要查看的对接位点ID\n",
    "view = nv.show_structure_file(  # 创建可视化对象\n",
    "    str(DATA / f\"docking_poses_{docking_pose_id}.sdf\"),  # 指定要显示的SDF文件\n",
    "    representations=[{\"params\": {}, \"type\": \"licorice\"}],  # 设置可视化参数\n",
    ")\n",
    "view.add_pdbid(pdb_path.stem)  # 添加PDB ID到视图\n",
    "view  # 显示视图\n",
    "\n"
   ],
   "id": "41aee1503b5567fe",
   "outputs": [
    {
     "data": {
      "text/plain": [
       "NGLWidget()"
      ],
      "application/vnd.jupyter.widget-view+json": {
       "version_major": 2,
       "version_minor": 0,
       "model_id": "38b5bbbb47dd4572a5a6ad90b7223713"
      }
     },
     "metadata": {},
     "output_type": "display_data"
    }
   ],
   "execution_count": 7
  },
  {
   "metadata": {},
   "cell_type": "code",
   "outputs": [],
   "execution_count": null,
   "source": "",
   "id": "e6276db18dd91a98"
  }
 ],
 "metadata": {
  "kernelspec": {
   "display_name": "Python 3",
   "language": "python",
   "name": "python3"
  },
  "language_info": {
   "codemirror_mode": {
    "name": "ipython",
    "version": 2
   },
   "file_extension": ".py",
   "mimetype": "text/x-python",
   "name": "python",
   "nbconvert_exporter": "python",
   "pygments_lexer": "ipython2",
   "version": "2.7.6"
  }
 },
 "nbformat": 4,
 "nbformat_minor": 5
}
