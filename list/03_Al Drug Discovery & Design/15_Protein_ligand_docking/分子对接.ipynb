{
 "cells": [
  {
   "cell_type": "code",
   "outputs": [],
   "source": [
    "import pandas as pd\n",
    "smiles_list = pd.read_csv('data/pic50_greater_equal_9.0.csv')['smiles'][:50]"
   ],
   "metadata": {
    "collapsed": false,
    "ExecuteTime": {
     "end_time": "2024-11-19T14:19:44.539630Z",
     "start_time": "2024-11-19T14:19:42.892119Z"
    }
   },
   "id": "1c66757628b9fe9d",
   "execution_count": 2
  },
  {
   "cell_type": "code",
   "outputs": [
    {
     "data": {
      "text/plain": "0     CC1(N)CCN(c2cccnc2NC(=O)c2nc(-c3nc(N4CCOCC4)cc...\n1     Nc1ncc(-c2cccc(N3CCOCC3)c2)nc1C(=O)Nc1ncccc1N1...\n2     Nc1ncc(-c2cccc3[nH]ncc23)nc1C(=O)Nc1ncccc1N1CC...\n3     Cc1cc2c(-c3cnc(N)c(C(=O)Nc4ncccc4N4CCC(N)CC4)n...\n4     CC1(N)CCN(c2cccnc2NC(=O)c2nc(-c3nc(N4CCC(F)(F)...\n5     CN(C)c1ccc(C(F)(F)F)c(-c2cnc(N)c(C(=O)Nc3ncccc...\n6     Nc1ncc(-c2cccc3[nH]c(C(F)(F)F)cc23)nc1C(=O)Nc1...\n7     Nc1ncc(-c2nc(N3CCOCC3)ccc2C(F)(F)F)nc1C(=O)Nc1...\n8     Nc1ncc(-c2nc(N3CCOCC3)cc3ccccc23)nc1C(=O)Nc1nc...\n9     Nc1ncc(-c2cc(N3CCOCC3)cc(C(F)(F)F)c2)nc1C(=O)N...\n10        Nc1ncc(-c2ccccc2)nc1C(=O)Nc1cnccc1N1CCC(N)CC1\n11       Nc1ncc(-c2ccccc2F)nc1C(=O)Nc1cnccc1N1CCC(N)CC1\n12    CC1(N)CCN(c2cccnc2NC(=O)c2nc(-c3nc(C4=CCOCC4)n...\n13    Nc1ncc(-c2cc(N3CCOCC3)ccc2C(F)(F)F)nc1C(=O)Nc1...\n14    Nc1ncc(-c2cccc3[nH]ccc23)nc1C(=O)Nc1ncccc1N1CC...\n15        Nc1ncc(-c2ccccc2)nc1C(=O)Nc1ccccc1N1CCC(N)CC1\n16    CCOCC1(N)CCN(c2cccnc2NC(=O)c2nc(-c3ncccc3OC(F)...\n17    CC1(N)CCN(c2cccnc2NC(=O)c2nc(-c3cc(N4CCOCC4)cc...\n18    COc1ccc(-c2cnc(N)c(C(=O)Nc3cnccc3N3CCC(N)CC3)n...\n19    Nc1ncc(-c2cccc(N3CCOCC3)n2)nc1C(=O)Nc1ncccc1N1...\n20    Nc1ncc(-c2nc(N3CCC3)ccc2C(F)(F)F)nc1C(=O)Nc1nc...\n21    Nc1ncc(-c2ncccc2OC(F)(F)F)nc1C(=O)Nc1ncccc1N1C...\n22      NC(=O)c1ccccc1Nc1nc(Nc2ccc(N3CCCC3=O)cc2)ncc1Cl\n23    Nc1ncc(-c2ncccc2OC(F)(F)F)nc1C(=O)Nc1ncccc1N1C...\n24    Nc1ncc(-c2ncccc2OC(F)(F)F)nc1C(=O)Nc1ncccc1N1C...\n25    C[C@H](CO)Nc1ccc(C(F)(F)F)c(-c2cnc(N)c(C(=O)Nc...\n26    Cn1ncc2c(-c3cnc(N)c(C(=O)Nc4ncccc4N4CCC(N)CC4)...\n27    Nc1ncc(-c2ccnc(N3CCOCC3)n2)nc1C(=O)Nc1ncccc1N1...\n28    Nc1ncc(-c2ncccc2OC(F)(F)F)nc1C(=O)Nc1ncccc1N1C...\n29    C[C@H]1COCCN1c1ccc(C(F)(F)F)c(-c2cnc(N)c(C(=O)...\n30       Nc1ncc(-c2ncccc2F)nc1C(=O)Nc1ncccc1N1CCC(N)CC1\n31    Nc1ncc(-c2ncnc3[nH]cc(F)c23)nc1C(=O)Nc1ncccc1N...\n32    CC1(N)CCN(c2cccnc2NC(=O)c2nc(-c3nc(N)ncc3Cl)cn...\n33    COC1CN(c2cccnc2NC(=O)c2nc(-c3ncccc3OC(F)(F)F)c...\n34    CC1(N)CCN(c2cccnc2NC(=O)c2nc(-c3ncccc3C#N)cnc2...\n35    CC1(N)CCN(c2cccnc2NC(=O)c2nc(-c3nc(C4CC4)ccc3C...\n36    CC1(N)CCN(c2cccnc2NC(=O)c2nc(-c3nc(C(N)=O)ncc3...\n37    Nc1ncc(-c2ncnc3c2CCCC3)nc1C(=O)Nc1ncccc1N1CCC(...\n38    Nc1ncc(-c2nc(C(F)(F)F)ccc2C(F)(F)F)nc1C(=O)Nc1...\n39    CC1(N)CCN(c2cccnc2NC(=O)c2nc(-c3nc(C#N)ncc3C(F...\n40    CC1(N)CCN(c2cccnc2NC(=O)c2nc(-c3nccc(Cl)c3C(F)...\n41    Nc1ncc(-c2nc(N3CCOCC3)ccc2C(F)(F)F)nc1C(=O)Nc1...\n42    CC1CN(c2ccc(C(F)(F)F)c(-c3cnc(N)c(C(=O)Nc4nccc...\n43    COc1ccnc(-c2cnc(N)c(C(=O)Nc3ncccc3N3CCC(N)(CC#...\n44    CN(C)c1ccc(C(F)(F)F)c(-c2cnc(N)c(C(=O)Nc3ncccc...\n45    COc1ccnc(-c2cnc(N)c(C(=O)Nc3ncccc3N3CCC(C)(N)C...\n46    CC1(N)CCN(c2cccnc2NC(=O)c2nc(-c3nc(N4CCOCC4)cc...\n47      NC(=O)c1ccccc1Nc1nc(Nc2ccc(N3CCOCC3)cc2F)ncc1Cl\n48    CC1(N)CCN(c2cccnc2NC(=O)c2nc(-c3nccc(OC(F)(F)F...\n49    CCC1(N)CCN(c2cccnc2NC(=O)c2nc(-c3ncccc3OC(F)(F...\nName: smiles, dtype: object"
     },
     "execution_count": 4,
     "metadata": {},
     "output_type": "execute_result"
    }
   ],
   "source": [
    "smiles_list"
   ],
   "metadata": {
    "collapsed": false,
    "ExecuteTime": {
     "end_time": "2024-11-19T14:19:50.202380Z",
     "start_time": "2024-11-19T14:19:50.196648Z"
    }
   },
   "id": "a23d7744fa9a3620",
   "execution_count": 4
  },
  {
   "cell_type": "code",
   "execution_count": 5,
   "id": "11216863-91e9-4bb8-bfa8-76416b4f8cf7",
   "metadata": {
    "ExecuteTime": {
     "end_time": "2024-11-19T21:36:17.116907Z",
     "start_time": "2024-11-19T14:20:16.484160Z"
    }
   },
   "outputs": [
    {
     "name": "stderr",
     "output_type": "stream",
     "text": [
      "Warning: importing 'simtk.openmm' is deprecated.  Import 'openmm' instead.\n",
      "==============================\n",
      "*** Open Babel Warning  in PerceiveBondOrders\n",
      "  Failed to kekulize aromatic bonds in OBMol::PerceiveBondOrders (title is /Users/wangyang/Desktop/小辣椒/07-AIDD/分子对接/data/data_7N8T/protein.pdb)\n",
      "\n"
     ]
    },
    {
     "name": "stdout",
     "output_type": "stream",
     "text": [
      "7N8T - Detected Ligands: ['AMP', 'P6G']\n",
      "Processing 7N8T CC1(N)CCN(c2cccnc2NC(=O)c2nc(-c3nc(N4CCOCC4)cc4ccccc34)cnc2N)CC1 AMP\n",
      "Processing 7N8T CC1(N)CCN(c2cccnc2NC(=O)c2nc(-c3nc(N4CCOCC4)cc4ccccc34)cnc2N)CC1 P6G\n"
     ]
    },
    {
     "name": "stderr",
     "output_type": "stream",
     "text": [
      "==============================\n",
      "*** Open Babel Warning  in PerceiveBondOrders\n",
      "  Failed to kekulize aromatic bonds in OBMol::PerceiveBondOrders (title is /Users/wangyang/Desktop/小辣椒/07-AIDD/分子对接/data/data_7N8T/protein.pdb)\n",
      "\n"
     ]
    },
    {
     "name": "stdout",
     "output_type": "stream",
     "text": [
      "7N8T - Detected Ligands: ['AMP', 'P6G']\n",
      "Processing 7N8T Nc1ncc(-c2cccc(N3CCOCC3)c2)nc1C(=O)Nc1ncccc1N1CCC(N)CC1 AMP\n",
      "Processing 7N8T Nc1ncc(-c2cccc(N3CCOCC3)c2)nc1C(=O)Nc1ncccc1N1CCC(N)CC1 P6G\n"
     ]
    },
    {
     "name": "stderr",
     "output_type": "stream",
     "text": [
      "==============================\n",
      "*** Open Babel Warning  in PerceiveBondOrders\n",
      "  Failed to kekulize aromatic bonds in OBMol::PerceiveBondOrders (title is /Users/wangyang/Desktop/小辣椒/07-AIDD/分子对接/data/data_7N8T/protein.pdb)\n",
      "\n"
     ]
    },
    {
     "name": "stdout",
     "output_type": "stream",
     "text": [
      "7N8T - Detected Ligands: ['AMP', 'P6G']\n",
      "Processing 7N8T Nc1ncc(-c2cccc3[nH]ncc23)nc1C(=O)Nc1ncccc1N1CCC(N)CC1 AMP\n",
      "Processing 7N8T Nc1ncc(-c2cccc3[nH]ncc23)nc1C(=O)Nc1ncccc1N1CCC(N)CC1 P6G\n"
     ]
    },
    {
     "name": "stderr",
     "output_type": "stream",
     "text": [
      "==============================\n",
      "*** Open Babel Warning  in PerceiveBondOrders\n",
      "  Failed to kekulize aromatic bonds in OBMol::PerceiveBondOrders (title is /Users/wangyang/Desktop/小辣椒/07-AIDD/分子对接/data/data_7N8T/protein.pdb)\n",
      "\n"
     ]
    },
    {
     "name": "stdout",
     "output_type": "stream",
     "text": [
      "7N8T - Detected Ligands: ['AMP', 'P6G']\n",
      "Processing 7N8T Cc1cc2c(-c3cnc(N)c(C(=O)Nc4ncccc4N4CCC(N)CC4)n3)cccc2[nH]1 AMP\n",
      "Processing 7N8T Cc1cc2c(-c3cnc(N)c(C(=O)Nc4ncccc4N4CCC(N)CC4)n3)cccc2[nH]1 P6G\n"
     ]
    },
    {
     "name": "stderr",
     "output_type": "stream",
     "text": [
      "==============================\n",
      "*** Open Babel Warning  in PerceiveBondOrders\n",
      "  Failed to kekulize aromatic bonds in OBMol::PerceiveBondOrders (title is /Users/wangyang/Desktop/小辣椒/07-AIDD/分子对接/data/data_7N8T/protein.pdb)\n",
      "\n"
     ]
    },
    {
     "name": "stdout",
     "output_type": "stream",
     "text": [
      "7N8T - Detected Ligands: ['AMP', 'P6G']\n",
      "Processing 7N8T CC1(N)CCN(c2cccnc2NC(=O)c2nc(-c3nc(N4CCC(F)(F)CC4)ncc3F)cnc2N)CC1 AMP\n",
      "Processing 7N8T CC1(N)CCN(c2cccnc2NC(=O)c2nc(-c3nc(N4CCC(F)(F)CC4)ncc3F)cnc2N)CC1 P6G\n"
     ]
    },
    {
     "name": "stderr",
     "output_type": "stream",
     "text": [
      "==============================\n",
      "*** Open Babel Warning  in PerceiveBondOrders\n",
      "  Failed to kekulize aromatic bonds in OBMol::PerceiveBondOrders (title is /Users/wangyang/Desktop/小辣椒/07-AIDD/分子对接/data/data_7N8T/protein.pdb)\n",
      "\n"
     ]
    },
    {
     "name": "stdout",
     "output_type": "stream",
     "text": [
      "7N8T - Detected Ligands: ['AMP', 'P6G']\n",
      "Processing 7N8T CN(C)c1ccc(C(F)(F)F)c(-c2cnc(N)c(C(=O)Nc3ncccc3N3CCC(N)CC3)n2)n1 AMP\n",
      "Processing 7N8T CN(C)c1ccc(C(F)(F)F)c(-c2cnc(N)c(C(=O)Nc3ncccc3N3CCC(N)CC3)n2)n1 P6G\n"
     ]
    },
    {
     "name": "stderr",
     "output_type": "stream",
     "text": [
      "==============================\n",
      "*** Open Babel Warning  in PerceiveBondOrders\n",
      "  Failed to kekulize aromatic bonds in OBMol::PerceiveBondOrders (title is /Users/wangyang/Desktop/小辣椒/07-AIDD/分子对接/data/data_7N8T/protein.pdb)\n",
      "\n"
     ]
    },
    {
     "name": "stdout",
     "output_type": "stream",
     "text": [
      "7N8T - Detected Ligands: ['AMP', 'P6G']\n",
      "Processing 7N8T Nc1ncc(-c2cccc3[nH]c(C(F)(F)F)cc23)nc1C(=O)Nc1ncccc1N1CCC(N)CC1 AMP\n",
      "Processing 7N8T Nc1ncc(-c2cccc3[nH]c(C(F)(F)F)cc23)nc1C(=O)Nc1ncccc1N1CCC(N)CC1 P6G\n"
     ]
    },
    {
     "name": "stderr",
     "output_type": "stream",
     "text": [
      "==============================\n",
      "*** Open Babel Warning  in PerceiveBondOrders\n",
      "  Failed to kekulize aromatic bonds in OBMol::PerceiveBondOrders (title is /Users/wangyang/Desktop/小辣椒/07-AIDD/分子对接/data/data_7N8T/protein.pdb)\n",
      "\n"
     ]
    },
    {
     "name": "stdout",
     "output_type": "stream",
     "text": [
      "7N8T - Detected Ligands: ['AMP', 'P6G']\n",
      "Processing 7N8T Nc1ncc(-c2nc(N3CCOCC3)ccc2C(F)(F)F)nc1C(=O)Nc1ncccc1N1CCC(N)CC1 AMP\n",
      "Processing 7N8T Nc1ncc(-c2nc(N3CCOCC3)ccc2C(F)(F)F)nc1C(=O)Nc1ncccc1N1CCC(N)CC1 P6G\n"
     ]
    },
    {
     "name": "stderr",
     "output_type": "stream",
     "text": [
      "==============================\n",
      "*** Open Babel Warning  in PerceiveBondOrders\n",
      "  Failed to kekulize aromatic bonds in OBMol::PerceiveBondOrders (title is /Users/wangyang/Desktop/小辣椒/07-AIDD/分子对接/data/data_7N8T/protein.pdb)\n",
      "\n"
     ]
    },
    {
     "name": "stdout",
     "output_type": "stream",
     "text": [
      "7N8T - Detected Ligands: ['AMP', 'P6G']\n",
      "Processing 7N8T Nc1ncc(-c2nc(N3CCOCC3)cc3ccccc23)nc1C(=O)Nc1ncccc1N1CCC(N)CC1 AMP\n",
      "Processing 7N8T Nc1ncc(-c2nc(N3CCOCC3)cc3ccccc23)nc1C(=O)Nc1ncccc1N1CCC(N)CC1 P6G\n"
     ]
    },
    {
     "name": "stderr",
     "output_type": "stream",
     "text": [
      "==============================\n",
      "*** Open Babel Warning  in PerceiveBondOrders\n",
      "  Failed to kekulize aromatic bonds in OBMol::PerceiveBondOrders (title is /Users/wangyang/Desktop/小辣椒/07-AIDD/分子对接/data/data_7N8T/protein.pdb)\n",
      "\n"
     ]
    },
    {
     "name": "stdout",
     "output_type": "stream",
     "text": [
      "7N8T - Detected Ligands: ['AMP', 'P6G']\n",
      "Processing 7N8T Nc1ncc(-c2cc(N3CCOCC3)cc(C(F)(F)F)c2)nc1C(=O)Nc1ncccc1N1CCC(N)CC1 AMP\n",
      "Processing 7N8T Nc1ncc(-c2cc(N3CCOCC3)cc(C(F)(F)F)c2)nc1C(=O)Nc1ncccc1N1CCC(N)CC1 P6G\n"
     ]
    },
    {
     "name": "stderr",
     "output_type": "stream",
     "text": [
      "==============================\n",
      "*** Open Babel Warning  in PerceiveBondOrders\n",
      "  Failed to kekulize aromatic bonds in OBMol::PerceiveBondOrders (title is /Users/wangyang/Desktop/小辣椒/07-AIDD/分子对接/data/data_7N8T/protein.pdb)\n",
      "\n"
     ]
    },
    {
     "name": "stdout",
     "output_type": "stream",
     "text": [
      "7N8T - Detected Ligands: ['AMP', 'P6G']\n",
      "Processing 7N8T Nc1ncc(-c2ccccc2)nc1C(=O)Nc1cnccc1N1CCC(N)CC1 AMP\n",
      "Processing 7N8T Nc1ncc(-c2ccccc2)nc1C(=O)Nc1cnccc1N1CCC(N)CC1 P6G\n"
     ]
    },
    {
     "name": "stderr",
     "output_type": "stream",
     "text": [
      "==============================\n",
      "*** Open Babel Warning  in PerceiveBondOrders\n",
      "  Failed to kekulize aromatic bonds in OBMol::PerceiveBondOrders (title is /Users/wangyang/Desktop/小辣椒/07-AIDD/分子对接/data/data_7N8T/protein.pdb)\n",
      "\n"
     ]
    },
    {
     "name": "stdout",
     "output_type": "stream",
     "text": [
      "7N8T - Detected Ligands: ['AMP', 'P6G']\n",
      "Processing 7N8T Nc1ncc(-c2ccccc2F)nc1C(=O)Nc1cnccc1N1CCC(N)CC1 AMP\n",
      "Processing 7N8T Nc1ncc(-c2ccccc2F)nc1C(=O)Nc1cnccc1N1CCC(N)CC1 P6G\n"
     ]
    },
    {
     "name": "stderr",
     "output_type": "stream",
     "text": [
      "==============================\n",
      "*** Open Babel Warning  in PerceiveBondOrders\n",
      "  Failed to kekulize aromatic bonds in OBMol::PerceiveBondOrders (title is /Users/wangyang/Desktop/小辣椒/07-AIDD/分子对接/data/data_7N8T/protein.pdb)\n",
      "\n"
     ]
    },
    {
     "name": "stdout",
     "output_type": "stream",
     "text": [
      "7N8T - Detected Ligands: ['AMP', 'P6G']\n",
      "Processing 7N8T CC1(N)CCN(c2cccnc2NC(=O)c2nc(-c3nc(C4=CCOCC4)ncc3C(F)(F)F)cnc2N)CC1 AMP\n",
      "Processing 7N8T CC1(N)CCN(c2cccnc2NC(=O)c2nc(-c3nc(C4=CCOCC4)ncc3C(F)(F)F)cnc2N)CC1 P6G\n"
     ]
    },
    {
     "name": "stderr",
     "output_type": "stream",
     "text": [
      "==============================\n",
      "*** Open Babel Warning  in PerceiveBondOrders\n",
      "  Failed to kekulize aromatic bonds in OBMol::PerceiveBondOrders (title is /Users/wangyang/Desktop/小辣椒/07-AIDD/分子对接/data/data_7N8T/protein.pdb)\n",
      "\n"
     ]
    },
    {
     "name": "stdout",
     "output_type": "stream",
     "text": [
      "7N8T - Detected Ligands: ['AMP', 'P6G']\n",
      "Processing 7N8T Nc1ncc(-c2cc(N3CCOCC3)ccc2C(F)(F)F)nc1C(=O)Nc1ncccc1N1CCC(N)CC1 AMP\n",
      "Processing 7N8T Nc1ncc(-c2cc(N3CCOCC3)ccc2C(F)(F)F)nc1C(=O)Nc1ncccc1N1CCC(N)CC1 P6G\n"
     ]
    },
    {
     "name": "stderr",
     "output_type": "stream",
     "text": [
      "==============================\n",
      "*** Open Babel Warning  in PerceiveBondOrders\n",
      "  Failed to kekulize aromatic bonds in OBMol::PerceiveBondOrders (title is /Users/wangyang/Desktop/小辣椒/07-AIDD/分子对接/data/data_7N8T/protein.pdb)\n",
      "\n"
     ]
    },
    {
     "name": "stdout",
     "output_type": "stream",
     "text": [
      "7N8T - Detected Ligands: ['AMP', 'P6G']\n",
      "Processing 7N8T Nc1ncc(-c2cccc3[nH]ccc23)nc1C(=O)Nc1ncccc1N1CCC(N)CC1 AMP\n",
      "Processing 7N8T Nc1ncc(-c2cccc3[nH]ccc23)nc1C(=O)Nc1ncccc1N1CCC(N)CC1 P6G\n"
     ]
    },
    {
     "name": "stderr",
     "output_type": "stream",
     "text": [
      "==============================\n",
      "*** Open Babel Warning  in PerceiveBondOrders\n",
      "  Failed to kekulize aromatic bonds in OBMol::PerceiveBondOrders (title is /Users/wangyang/Desktop/小辣椒/07-AIDD/分子对接/data/data_7N8T/protein.pdb)\n",
      "\n"
     ]
    },
    {
     "name": "stdout",
     "output_type": "stream",
     "text": [
      "7N8T - Detected Ligands: ['AMP', 'P6G']\n",
      "Processing 7N8T Nc1ncc(-c2ccccc2)nc1C(=O)Nc1ccccc1N1CCC(N)CC1 AMP\n",
      "Processing 7N8T Nc1ncc(-c2ccccc2)nc1C(=O)Nc1ccccc1N1CCC(N)CC1 P6G\n"
     ]
    },
    {
     "name": "stderr",
     "output_type": "stream",
     "text": [
      "==============================\n",
      "*** Open Babel Warning  in PerceiveBondOrders\n",
      "  Failed to kekulize aromatic bonds in OBMol::PerceiveBondOrders (title is /Users/wangyang/Desktop/小辣椒/07-AIDD/分子对接/data/data_7N8T/protein.pdb)\n",
      "\n"
     ]
    },
    {
     "name": "stdout",
     "output_type": "stream",
     "text": [
      "7N8T - Detected Ligands: ['AMP', 'P6G']\n",
      "Processing 7N8T CCOCC1(N)CCN(c2cccnc2NC(=O)c2nc(-c3ncccc3OC(F)(F)F)cnc2N)CC1 AMP\n",
      "Processing 7N8T CCOCC1(N)CCN(c2cccnc2NC(=O)c2nc(-c3ncccc3OC(F)(F)F)cnc2N)CC1 P6G\n"
     ]
    },
    {
     "name": "stderr",
     "output_type": "stream",
     "text": [
      "==============================\n",
      "*** Open Babel Warning  in PerceiveBondOrders\n",
      "  Failed to kekulize aromatic bonds in OBMol::PerceiveBondOrders (title is /Users/wangyang/Desktop/小辣椒/07-AIDD/分子对接/data/data_7N8T/protein.pdb)\n",
      "\n"
     ]
    },
    {
     "name": "stdout",
     "output_type": "stream",
     "text": [
      "7N8T - Detected Ligands: ['AMP', 'P6G']\n",
      "Processing 7N8T CC1(N)CCN(c2cccnc2NC(=O)c2nc(-c3cc(N4CCOCC4)ccc3C(F)(F)F)cnc2N)CC1 AMP\n",
      "Processing 7N8T CC1(N)CCN(c2cccnc2NC(=O)c2nc(-c3cc(N4CCOCC4)ccc3C(F)(F)F)cnc2N)CC1 P6G\n"
     ]
    },
    {
     "name": "stderr",
     "output_type": "stream",
     "text": [
      "==============================\n",
      "*** Open Babel Warning  in PerceiveBondOrders\n",
      "  Failed to kekulize aromatic bonds in OBMol::PerceiveBondOrders (title is /Users/wangyang/Desktop/小辣椒/07-AIDD/分子对接/data/data_7N8T/protein.pdb)\n",
      "\n"
     ]
    },
    {
     "name": "stdout",
     "output_type": "stream",
     "text": [
      "7N8T - Detected Ligands: ['AMP', 'P6G']\n",
      "Processing 7N8T COc1ccc(-c2cnc(N)c(C(=O)Nc3cnccc3N3CCC(N)CC3)n2)cc1 AMP\n",
      "Processing 7N8T COc1ccc(-c2cnc(N)c(C(=O)Nc3cnccc3N3CCC(N)CC3)n2)cc1 P6G\n"
     ]
    },
    {
     "name": "stderr",
     "output_type": "stream",
     "text": [
      "==============================\n",
      "*** Open Babel Warning  in PerceiveBondOrders\n",
      "  Failed to kekulize aromatic bonds in OBMol::PerceiveBondOrders (title is /Users/wangyang/Desktop/小辣椒/07-AIDD/分子对接/data/data_7N8T/protein.pdb)\n",
      "\n"
     ]
    },
    {
     "name": "stdout",
     "output_type": "stream",
     "text": [
      "7N8T - Detected Ligands: ['AMP', 'P6G']\n",
      "Processing 7N8T Nc1ncc(-c2cccc(N3CCOCC3)n2)nc1C(=O)Nc1ncccc1N1CCC(N)CC1 AMP\n",
      "Processing 7N8T Nc1ncc(-c2cccc(N3CCOCC3)n2)nc1C(=O)Nc1ncccc1N1CCC(N)CC1 P6G\n"
     ]
    },
    {
     "name": "stderr",
     "output_type": "stream",
     "text": [
      "==============================\n",
      "*** Open Babel Warning  in PerceiveBondOrders\n",
      "  Failed to kekulize aromatic bonds in OBMol::PerceiveBondOrders (title is /Users/wangyang/Desktop/小辣椒/07-AIDD/分子对接/data/data_7N8T/protein.pdb)\n",
      "\n"
     ]
    },
    {
     "name": "stdout",
     "output_type": "stream",
     "text": [
      "7N8T - Detected Ligands: ['AMP', 'P6G']\n",
      "Processing 7N8T Nc1ncc(-c2nc(N3CCC3)ccc2C(F)(F)F)nc1C(=O)Nc1ncccc1N1CCC(N)CC1 AMP\n",
      "Processing 7N8T Nc1ncc(-c2nc(N3CCC3)ccc2C(F)(F)F)nc1C(=O)Nc1ncccc1N1CCC(N)CC1 P6G\n"
     ]
    },
    {
     "name": "stderr",
     "output_type": "stream",
     "text": [
      "==============================\n",
      "*** Open Babel Warning  in PerceiveBondOrders\n",
      "  Failed to kekulize aromatic bonds in OBMol::PerceiveBondOrders (title is /Users/wangyang/Desktop/小辣椒/07-AIDD/分子对接/data/data_7N8T/protein.pdb)\n",
      "\n"
     ]
    },
    {
     "name": "stdout",
     "output_type": "stream",
     "text": [
      "7N8T - Detected Ligands: ['AMP', 'P6G']\n",
      "Processing 7N8T Nc1ncc(-c2ncccc2OC(F)(F)F)nc1C(=O)Nc1ncccc1N1CCC(N)(CO)CC1 AMP\n",
      "Processing 7N8T Nc1ncc(-c2ncccc2OC(F)(F)F)nc1C(=O)Nc1ncccc1N1CCC(N)(CO)CC1 P6G\n"
     ]
    },
    {
     "name": "stderr",
     "output_type": "stream",
     "text": [
      "==============================\n",
      "*** Open Babel Warning  in PerceiveBondOrders\n",
      "  Failed to kekulize aromatic bonds in OBMol::PerceiveBondOrders (title is /Users/wangyang/Desktop/小辣椒/07-AIDD/分子对接/data/data_7N8T/protein.pdb)\n",
      "\n"
     ]
    },
    {
     "name": "stdout",
     "output_type": "stream",
     "text": [
      "7N8T - Detected Ligands: ['AMP', 'P6G']\n",
      "Processing 7N8T NC(=O)c1ccccc1Nc1nc(Nc2ccc(N3CCCC3=O)cc2)ncc1Cl AMP\n",
      "Processing 7N8T NC(=O)c1ccccc1Nc1nc(Nc2ccc(N3CCCC3=O)cc2)ncc1Cl P6G\n"
     ]
    },
    {
     "name": "stderr",
     "output_type": "stream",
     "text": [
      "==============================\n",
      "*** Open Babel Warning  in PerceiveBondOrders\n",
      "  Failed to kekulize aromatic bonds in OBMol::PerceiveBondOrders (title is /Users/wangyang/Desktop/小辣椒/07-AIDD/分子对接/data/data_7N8T/protein.pdb)\n",
      "\n"
     ]
    },
    {
     "name": "stdout",
     "output_type": "stream",
     "text": [
      "7N8T - Detected Ligands: ['AMP', 'P6G']\n",
      "Processing 7N8T Nc1ncc(-c2ncccc2OC(F)(F)F)nc1C(=O)Nc1ncccc1N1CCC(N)CC1 AMP\n",
      "Processing 7N8T Nc1ncc(-c2ncccc2OC(F)(F)F)nc1C(=O)Nc1ncccc1N1CCC(N)CC1 P6G\n"
     ]
    },
    {
     "name": "stderr",
     "output_type": "stream",
     "text": [
      "==============================\n",
      "*** Open Babel Warning  in PerceiveBondOrders\n",
      "  Failed to kekulize aromatic bonds in OBMol::PerceiveBondOrders (title is /Users/wangyang/Desktop/小辣椒/07-AIDD/分子对接/data/data_7N8T/protein.pdb)\n",
      "\n"
     ]
    },
    {
     "name": "stdout",
     "output_type": "stream",
     "text": [
      "7N8T - Detected Ligands: ['AMP', 'P6G']\n",
      "Processing 7N8T Nc1ncc(-c2ncccc2OC(F)(F)F)nc1C(=O)Nc1ncccc1N1CC[C@@H](N)[C@@H](F)C1 AMP\n",
      "Processing 7N8T Nc1ncc(-c2ncccc2OC(F)(F)F)nc1C(=O)Nc1ncccc1N1CC[C@@H](N)[C@@H](F)C1 P6G\n"
     ]
    },
    {
     "name": "stderr",
     "output_type": "stream",
     "text": [
      "==============================\n",
      "*** Open Babel Warning  in PerceiveBondOrders\n",
      "  Failed to kekulize aromatic bonds in OBMol::PerceiveBondOrders (title is /Users/wangyang/Desktop/小辣椒/07-AIDD/分子对接/data/data_7N8T/protein.pdb)\n",
      "\n"
     ]
    },
    {
     "name": "stdout",
     "output_type": "stream",
     "text": [
      "7N8T - Detected Ligands: ['AMP', 'P6G']\n",
      "Processing 7N8T C[C@H](CO)Nc1ccc(C(F)(F)F)c(-c2cnc(N)c(C(=O)Nc3ncccc3N3CCC(C)(N)CC3)n2)n1 AMP\n",
      "Processing 7N8T C[C@H](CO)Nc1ccc(C(F)(F)F)c(-c2cnc(N)c(C(=O)Nc3ncccc3N3CCC(C)(N)CC3)n2)n1 P6G\n"
     ]
    },
    {
     "name": "stderr",
     "output_type": "stream",
     "text": [
      "==============================\n",
      "*** Open Babel Warning  in PerceiveBondOrders\n",
      "  Failed to kekulize aromatic bonds in OBMol::PerceiveBondOrders (title is /Users/wangyang/Desktop/小辣椒/07-AIDD/分子对接/data/data_7N8T/protein.pdb)\n",
      "\n"
     ]
    },
    {
     "name": "stdout",
     "output_type": "stream",
     "text": [
      "7N8T - Detected Ligands: ['AMP', 'P6G']\n",
      "Processing 7N8T Cn1ncc2c(-c3cnc(N)c(C(=O)Nc4ncccc4N4CCC(N)CC4)n3)ncnc21 AMP\n",
      "Processing 7N8T Cn1ncc2c(-c3cnc(N)c(C(=O)Nc4ncccc4N4CCC(N)CC4)n3)ncnc21 P6G\n"
     ]
    },
    {
     "name": "stderr",
     "output_type": "stream",
     "text": [
      "==============================\n",
      "*** Open Babel Warning  in PerceiveBondOrders\n",
      "  Failed to kekulize aromatic bonds in OBMol::PerceiveBondOrders (title is /Users/wangyang/Desktop/小辣椒/07-AIDD/分子对接/data/data_7N8T/protein.pdb)\n",
      "\n"
     ]
    },
    {
     "name": "stdout",
     "output_type": "stream",
     "text": [
      "7N8T - Detected Ligands: ['AMP', 'P6G']\n",
      "Processing 7N8T Nc1ncc(-c2ccnc(N3CCOCC3)n2)nc1C(=O)Nc1ncccc1N1CCC(N)CC1 AMP\n",
      "Processing 7N8T Nc1ncc(-c2ccnc(N3CCOCC3)n2)nc1C(=O)Nc1ncccc1N1CCC(N)CC1 P6G\n"
     ]
    },
    {
     "name": "stderr",
     "output_type": "stream",
     "text": [
      "==============================\n",
      "*** Open Babel Warning  in PerceiveBondOrders\n",
      "  Failed to kekulize aromatic bonds in OBMol::PerceiveBondOrders (title is /Users/wangyang/Desktop/小辣椒/07-AIDD/分子对接/data/data_7N8T/protein.pdb)\n",
      "\n"
     ]
    },
    {
     "name": "stdout",
     "output_type": "stream",
     "text": [
      "7N8T - Detected Ligands: ['AMP', 'P6G']\n",
      "Processing 7N8T Nc1ncc(-c2ncccc2OC(F)(F)F)nc1C(=O)Nc1ncccc1N1CCC(N)C(F)C1 AMP\n",
      "Processing 7N8T Nc1ncc(-c2ncccc2OC(F)(F)F)nc1C(=O)Nc1ncccc1N1CCC(N)C(F)C1 P6G\n"
     ]
    },
    {
     "name": "stderr",
     "output_type": "stream",
     "text": [
      "==============================\n",
      "*** Open Babel Warning  in PerceiveBondOrders\n",
      "  Failed to kekulize aromatic bonds in OBMol::PerceiveBondOrders (title is /Users/wangyang/Desktop/小辣椒/07-AIDD/分子对接/data/data_7N8T/protein.pdb)\n",
      "\n"
     ]
    },
    {
     "name": "stdout",
     "output_type": "stream",
     "text": [
      "7N8T - Detected Ligands: ['AMP', 'P6G']\n",
      "Processing 7N8T C[C@H]1COCCN1c1ccc(C(F)(F)F)c(-c2cnc(N)c(C(=O)Nc3ncccc3N3CCC(C)(N)CC3)n2)n1 AMP\n",
      "Processing 7N8T C[C@H]1COCCN1c1ccc(C(F)(F)F)c(-c2cnc(N)c(C(=O)Nc3ncccc3N3CCC(C)(N)CC3)n2)n1 P6G\n"
     ]
    },
    {
     "name": "stderr",
     "output_type": "stream",
     "text": [
      "==============================\n",
      "*** Open Babel Warning  in PerceiveBondOrders\n",
      "  Failed to kekulize aromatic bonds in OBMol::PerceiveBondOrders (title is /Users/wangyang/Desktop/小辣椒/07-AIDD/分子对接/data/data_7N8T/protein.pdb)\n",
      "\n"
     ]
    },
    {
     "name": "stdout",
     "output_type": "stream",
     "text": [
      "7N8T - Detected Ligands: ['AMP', 'P6G']\n",
      "Processing 7N8T Nc1ncc(-c2ncccc2F)nc1C(=O)Nc1ncccc1N1CCC(N)CC1 AMP\n",
      "Processing 7N8T Nc1ncc(-c2ncccc2F)nc1C(=O)Nc1ncccc1N1CCC(N)CC1 P6G\n"
     ]
    },
    {
     "name": "stderr",
     "output_type": "stream",
     "text": [
      "==============================\n",
      "*** Open Babel Warning  in PerceiveBondOrders\n",
      "  Failed to kekulize aromatic bonds in OBMol::PerceiveBondOrders (title is /Users/wangyang/Desktop/小辣椒/07-AIDD/分子对接/data/data_7N8T/protein.pdb)\n",
      "\n"
     ]
    },
    {
     "name": "stdout",
     "output_type": "stream",
     "text": [
      "7N8T - Detected Ligands: ['AMP', 'P6G']\n",
      "Processing 7N8T Nc1ncc(-c2ncnc3[nH]cc(F)c23)nc1C(=O)Nc1ncccc1N1CCC(N)CC1 AMP\n",
      "Processing 7N8T Nc1ncc(-c2ncnc3[nH]cc(F)c23)nc1C(=O)Nc1ncccc1N1CCC(N)CC1 P6G\n"
     ]
    },
    {
     "name": "stderr",
     "output_type": "stream",
     "text": [
      "==============================\n",
      "*** Open Babel Warning  in PerceiveBondOrders\n",
      "  Failed to kekulize aromatic bonds in OBMol::PerceiveBondOrders (title is /Users/wangyang/Desktop/小辣椒/07-AIDD/分子对接/data/data_7N8T/protein.pdb)\n",
      "\n"
     ]
    },
    {
     "name": "stdout",
     "output_type": "stream",
     "text": [
      "7N8T - Detected Ligands: ['AMP', 'P6G']\n",
      "Processing 7N8T CC1(N)CCN(c2cccnc2NC(=O)c2nc(-c3nc(N)ncc3Cl)cnc2N)CC1 AMP\n",
      "Processing 7N8T CC1(N)CCN(c2cccnc2NC(=O)c2nc(-c3nc(N)ncc3Cl)cnc2N)CC1 P6G\n"
     ]
    },
    {
     "name": "stderr",
     "output_type": "stream",
     "text": [
      "==============================\n",
      "*** Open Babel Warning  in PerceiveBondOrders\n",
      "  Failed to kekulize aromatic bonds in OBMol::PerceiveBondOrders (title is /Users/wangyang/Desktop/小辣椒/07-AIDD/分子对接/data/data_7N8T/protein.pdb)\n",
      "\n"
     ]
    },
    {
     "name": "stdout",
     "output_type": "stream",
     "text": [
      "7N8T - Detected Ligands: ['AMP', 'P6G']\n",
      "Processing 7N8T COC1CN(c2cccnc2NC(=O)c2nc(-c3ncccc3OC(F)(F)F)cnc2N)CCC1N AMP\n",
      "Processing 7N8T COC1CN(c2cccnc2NC(=O)c2nc(-c3ncccc3OC(F)(F)F)cnc2N)CCC1N P6G\n"
     ]
    },
    {
     "name": "stderr",
     "output_type": "stream",
     "text": [
      "==============================\n",
      "*** Open Babel Warning  in PerceiveBondOrders\n",
      "  Failed to kekulize aromatic bonds in OBMol::PerceiveBondOrders (title is /Users/wangyang/Desktop/小辣椒/07-AIDD/分子对接/data/data_7N8T/protein.pdb)\n",
      "\n"
     ]
    },
    {
     "name": "stdout",
     "output_type": "stream",
     "text": [
      "7N8T - Detected Ligands: ['AMP', 'P6G']\n",
      "Processing 7N8T CC1(N)CCN(c2cccnc2NC(=O)c2nc(-c3ncccc3C#N)cnc2N)CC1 AMP\n",
      "Processing 7N8T CC1(N)CCN(c2cccnc2NC(=O)c2nc(-c3ncccc3C#N)cnc2N)CC1 P6G\n"
     ]
    },
    {
     "name": "stderr",
     "output_type": "stream",
     "text": [
      "==============================\n",
      "*** Open Babel Warning  in PerceiveBondOrders\n",
      "  Failed to kekulize aromatic bonds in OBMol::PerceiveBondOrders (title is /Users/wangyang/Desktop/小辣椒/07-AIDD/分子对接/data/data_7N8T/protein.pdb)\n",
      "\n"
     ]
    },
    {
     "name": "stdout",
     "output_type": "stream",
     "text": [
      "7N8T - Detected Ligands: ['AMP', 'P6G']\n",
      "Processing 7N8T CC1(N)CCN(c2cccnc2NC(=O)c2nc(-c3nc(C4CC4)ccc3C(F)(F)F)cnc2N)CC1 AMP\n",
      "Processing 7N8T CC1(N)CCN(c2cccnc2NC(=O)c2nc(-c3nc(C4CC4)ccc3C(F)(F)F)cnc2N)CC1 P6G\n"
     ]
    },
    {
     "name": "stderr",
     "output_type": "stream",
     "text": [
      "==============================\n",
      "*** Open Babel Warning  in PerceiveBondOrders\n",
      "  Failed to kekulize aromatic bonds in OBMol::PerceiveBondOrders (title is /Users/wangyang/Desktop/小辣椒/07-AIDD/分子对接/data/data_7N8T/protein.pdb)\n",
      "\n"
     ]
    },
    {
     "name": "stdout",
     "output_type": "stream",
     "text": [
      "7N8T - Detected Ligands: ['AMP', 'P6G']\n",
      "Processing 7N8T CC1(N)CCN(c2cccnc2NC(=O)c2nc(-c3nc(C(N)=O)ncc3F)cnc2N)CC1 AMP\n",
      "Processing 7N8T CC1(N)CCN(c2cccnc2NC(=O)c2nc(-c3nc(C(N)=O)ncc3F)cnc2N)CC1 P6G\n"
     ]
    },
    {
     "name": "stderr",
     "output_type": "stream",
     "text": [
      "==============================\n",
      "*** Open Babel Warning  in PerceiveBondOrders\n",
      "  Failed to kekulize aromatic bonds in OBMol::PerceiveBondOrders (title is /Users/wangyang/Desktop/小辣椒/07-AIDD/分子对接/data/data_7N8T/protein.pdb)\n",
      "\n"
     ]
    },
    {
     "name": "stdout",
     "output_type": "stream",
     "text": [
      "7N8T - Detected Ligands: ['AMP', 'P6G']\n",
      "Processing 7N8T Nc1ncc(-c2ncnc3c2CCCC3)nc1C(=O)Nc1ncccc1N1CCC(N)CC1 AMP\n",
      "Processing 7N8T Nc1ncc(-c2ncnc3c2CCCC3)nc1C(=O)Nc1ncccc1N1CCC(N)CC1 P6G\n"
     ]
    },
    {
     "name": "stderr",
     "output_type": "stream",
     "text": [
      "==============================\n",
      "*** Open Babel Warning  in PerceiveBondOrders\n",
      "  Failed to kekulize aromatic bonds in OBMol::PerceiveBondOrders (title is /Users/wangyang/Desktop/小辣椒/07-AIDD/分子对接/data/data_7N8T/protein.pdb)\n",
      "\n"
     ]
    },
    {
     "name": "stdout",
     "output_type": "stream",
     "text": [
      "7N8T - Detected Ligands: ['AMP', 'P6G']\n",
      "Processing 7N8T Nc1ncc(-c2nc(C(F)(F)F)ccc2C(F)(F)F)nc1C(=O)Nc1ncccc1N1CCC(N)CC1 AMP\n",
      "Processing 7N8T Nc1ncc(-c2nc(C(F)(F)F)ccc2C(F)(F)F)nc1C(=O)Nc1ncccc1N1CCC(N)CC1 P6G\n"
     ]
    },
    {
     "name": "stderr",
     "output_type": "stream",
     "text": [
      "==============================\n",
      "*** Open Babel Warning  in PerceiveBondOrders\n",
      "  Failed to kekulize aromatic bonds in OBMol::PerceiveBondOrders (title is /Users/wangyang/Desktop/小辣椒/07-AIDD/分子对接/data/data_7N8T/protein.pdb)\n",
      "\n"
     ]
    },
    {
     "name": "stdout",
     "output_type": "stream",
     "text": [
      "7N8T - Detected Ligands: ['AMP', 'P6G']\n",
      "Processing 7N8T CC1(N)CCN(c2cccnc2NC(=O)c2nc(-c3nc(C#N)ncc3C(F)(F)F)cnc2N)CC1 AMP\n",
      "Processing 7N8T CC1(N)CCN(c2cccnc2NC(=O)c2nc(-c3nc(C#N)ncc3C(F)(F)F)cnc2N)CC1 P6G\n"
     ]
    },
    {
     "name": "stderr",
     "output_type": "stream",
     "text": [
      "==============================\n",
      "*** Open Babel Warning  in PerceiveBondOrders\n",
      "  Failed to kekulize aromatic bonds in OBMol::PerceiveBondOrders (title is /Users/wangyang/Desktop/小辣椒/07-AIDD/分子对接/data/data_7N8T/protein.pdb)\n",
      "\n"
     ]
    },
    {
     "name": "stdout",
     "output_type": "stream",
     "text": [
      "7N8T - Detected Ligands: ['AMP', 'P6G']\n",
      "Processing 7N8T CC1(N)CCN(c2cccnc2NC(=O)c2nc(-c3nccc(Cl)c3C(F)(F)F)cnc2N)CC1 AMP\n",
      "Processing 7N8T CC1(N)CCN(c2cccnc2NC(=O)c2nc(-c3nccc(Cl)c3C(F)(F)F)cnc2N)CC1 P6G\n"
     ]
    },
    {
     "name": "stderr",
     "output_type": "stream",
     "text": [
      "==============================\n",
      "*** Open Babel Warning  in PerceiveBondOrders\n",
      "  Failed to kekulize aromatic bonds in OBMol::PerceiveBondOrders (title is /Users/wangyang/Desktop/小辣椒/07-AIDD/分子对接/data/data_7N8T/protein.pdb)\n",
      "\n"
     ]
    },
    {
     "name": "stdout",
     "output_type": "stream",
     "text": [
      "7N8T - Detected Ligands: ['AMP', 'P6G']\n",
      "Processing 7N8T Nc1ncc(-c2nc(N3CCOCC3)ccc2C(F)(F)F)nc1C(=O)Nc1ncccc1N1C[C@H]2CC[C@@H](C1)[C@@H]2N AMP\n",
      "Processing 7N8T Nc1ncc(-c2nc(N3CCOCC3)ccc2C(F)(F)F)nc1C(=O)Nc1ncccc1N1C[C@H]2CC[C@@H](C1)[C@@H]2N P6G\n"
     ]
    },
    {
     "name": "stderr",
     "output_type": "stream",
     "text": [
      "==============================\n",
      "*** Open Babel Warning  in PerceiveBondOrders\n",
      "  Failed to kekulize aromatic bonds in OBMol::PerceiveBondOrders (title is /Users/wangyang/Desktop/小辣椒/07-AIDD/分子对接/data/data_7N8T/protein.pdb)\n",
      "\n"
     ]
    },
    {
     "name": "stdout",
     "output_type": "stream",
     "text": [
      "7N8T - Detected Ligands: ['AMP', 'P6G']\n",
      "Processing 7N8T CC1CN(c2ccc(C(F)(F)F)c(-c3cnc(N)c(C(=O)Nc4ncccc4N4CCC(C)(N)CC4)n3)n2)CCO1 AMP\n",
      "Processing 7N8T CC1CN(c2ccc(C(F)(F)F)c(-c3cnc(N)c(C(=O)Nc4ncccc4N4CCC(C)(N)CC4)n3)n2)CCO1 P6G\n"
     ]
    },
    {
     "name": "stderr",
     "output_type": "stream",
     "text": [
      "==============================\n",
      "*** Open Babel Warning  in PerceiveBondOrders\n",
      "  Failed to kekulize aromatic bonds in OBMol::PerceiveBondOrders (title is /Users/wangyang/Desktop/小辣椒/07-AIDD/分子对接/data/data_7N8T/protein.pdb)\n",
      "\n"
     ]
    },
    {
     "name": "stdout",
     "output_type": "stream",
     "text": [
      "7N8T - Detected Ligands: ['AMP', 'P6G']\n",
      "Processing 7N8T COc1ccnc(-c2cnc(N)c(C(=O)Nc3ncccc3N3CCC(N)(CC#N)CC3)n2)c1C#N AMP\n",
      "Processing 7N8T COc1ccnc(-c2cnc(N)c(C(=O)Nc3ncccc3N3CCC(N)(CC#N)CC3)n2)c1C#N P6G\n"
     ]
    },
    {
     "name": "stderr",
     "output_type": "stream",
     "text": [
      "==============================\n",
      "*** Open Babel Warning  in PerceiveBondOrders\n",
      "  Failed to kekulize aromatic bonds in OBMol::PerceiveBondOrders (title is /Users/wangyang/Desktop/小辣椒/07-AIDD/分子对接/data/data_7N8T/protein.pdb)\n",
      "\n"
     ]
    },
    {
     "name": "stdout",
     "output_type": "stream",
     "text": [
      "7N8T - Detected Ligands: ['AMP', 'P6G']\n",
      "Processing 7N8T CN(C)c1ccc(C(F)(F)F)c(-c2cnc(N)c(C(=O)Nc3ncccc3N3CCC(C)(N)CC3)n2)n1 AMP\n",
      "Processing 7N8T CN(C)c1ccc(C(F)(F)F)c(-c2cnc(N)c(C(=O)Nc3ncccc3N3CCC(C)(N)CC3)n2)n1 P6G\n"
     ]
    },
    {
     "name": "stderr",
     "output_type": "stream",
     "text": [
      "==============================\n",
      "*** Open Babel Warning  in PerceiveBondOrders\n",
      "  Failed to kekulize aromatic bonds in OBMol::PerceiveBondOrders (title is /Users/wangyang/Desktop/小辣椒/07-AIDD/分子对接/data/data_7N8T/protein.pdb)\n",
      "\n"
     ]
    },
    {
     "name": "stdout",
     "output_type": "stream",
     "text": [
      "7N8T - Detected Ligands: ['AMP', 'P6G']\n",
      "Processing 7N8T COc1ccnc(-c2cnc(N)c(C(=O)Nc3ncccc3N3CCC(C)(N)CC3)n2)c1F AMP\n",
      "Processing 7N8T COc1ccnc(-c2cnc(N)c(C(=O)Nc3ncccc3N3CCC(C)(N)CC3)n2)c1F P6G\n"
     ]
    },
    {
     "name": "stderr",
     "output_type": "stream",
     "text": [
      "==============================\n",
      "*** Open Babel Warning  in PerceiveBondOrders\n",
      "  Failed to kekulize aromatic bonds in OBMol::PerceiveBondOrders (title is /Users/wangyang/Desktop/小辣椒/07-AIDD/分子对接/data/data_7N8T/protein.pdb)\n",
      "\n"
     ]
    },
    {
     "name": "stdout",
     "output_type": "stream",
     "text": [
      "7N8T - Detected Ligands: ['AMP', 'P6G']\n",
      "Processing 7N8T CC1(N)CCN(c2cccnc2NC(=O)c2nc(-c3nc(N4CCOCC4)ccc3C(F)(F)F)cnc2N)CC1 AMP\n",
      "Processing 7N8T CC1(N)CCN(c2cccnc2NC(=O)c2nc(-c3nc(N4CCOCC4)ccc3C(F)(F)F)cnc2N)CC1 P6G\n"
     ]
    },
    {
     "name": "stderr",
     "output_type": "stream",
     "text": [
      "==============================\n",
      "*** Open Babel Warning  in PerceiveBondOrders\n",
      "  Failed to kekulize aromatic bonds in OBMol::PerceiveBondOrders (title is /Users/wangyang/Desktop/小辣椒/07-AIDD/分子对接/data/data_7N8T/protein.pdb)\n",
      "\n"
     ]
    },
    {
     "name": "stdout",
     "output_type": "stream",
     "text": [
      "7N8T - Detected Ligands: ['AMP', 'P6G']\n",
      "Processing 7N8T NC(=O)c1ccccc1Nc1nc(Nc2ccc(N3CCOCC3)cc2F)ncc1Cl AMP\n",
      "Processing 7N8T NC(=O)c1ccccc1Nc1nc(Nc2ccc(N3CCOCC3)cc2F)ncc1Cl P6G\n"
     ]
    },
    {
     "name": "stderr",
     "output_type": "stream",
     "text": [
      "==============================\n",
      "*** Open Babel Warning  in PerceiveBondOrders\n",
      "  Failed to kekulize aromatic bonds in OBMol::PerceiveBondOrders (title is /Users/wangyang/Desktop/小辣椒/07-AIDD/分子对接/data/data_7N8T/protein.pdb)\n",
      "\n"
     ]
    },
    {
     "name": "stdout",
     "output_type": "stream",
     "text": [
      "7N8T - Detected Ligands: ['AMP', 'P6G']\n",
      "Processing 7N8T CC1(N)CCN(c2cccnc2NC(=O)c2nc(-c3nccc(OC(F)(F)F)c3C#N)cnc2N)CC1 AMP\n",
      "Processing 7N8T CC1(N)CCN(c2cccnc2NC(=O)c2nc(-c3nccc(OC(F)(F)F)c3C#N)cnc2N)CC1 P6G\n"
     ]
    },
    {
     "name": "stderr",
     "output_type": "stream",
     "text": [
      "==============================\n",
      "*** Open Babel Warning  in PerceiveBondOrders\n",
      "  Failed to kekulize aromatic bonds in OBMol::PerceiveBondOrders (title is /Users/wangyang/Desktop/小辣椒/07-AIDD/分子对接/data/data_7N8T/protein.pdb)\n",
      "\n"
     ]
    },
    {
     "name": "stdout",
     "output_type": "stream",
     "text": [
      "7N8T - Detected Ligands: ['AMP', 'P6G']\n",
      "Processing 7N8T CCC1(N)CCN(c2cccnc2NC(=O)c2nc(-c3ncccc3OC(F)(F)F)cnc2N)CC1 AMP\n",
      "Processing 7N8T CCC1(N)CCN(c2cccnc2NC(=O)c2nc(-c3ncccc3OC(F)(F)F)cnc2N)CC1 P6G\n"
     ]
    },
    {
     "name": "stderr",
     "output_type": "stream",
     "text": [
      "==============================\n",
      "*** Open Babel Warning  in PerceiveBondOrders\n",
      "  Failed to kekulize aromatic bonds in OBMol::PerceiveBondOrders (title is /Users/wangyang/Desktop/小辣椒/07-AIDD/分子对接/data/data_8ELC/protein.pdb)\n",
      "\n"
     ]
    },
    {
     "name": "stdout",
     "output_type": "stream",
     "text": [
      "8ELC - Detected Ligands: ['Y56']\n",
      "Processing 8ELC CC1(N)CCN(c2cccnc2NC(=O)c2nc(-c3nc(N4CCOCC4)cc4ccccc34)cnc2N)CC1 Y56\n"
     ]
    },
    {
     "name": "stderr",
     "output_type": "stream",
     "text": [
      "==============================\n",
      "*** Open Babel Warning  in PerceiveBondOrders\n",
      "  Failed to kekulize aromatic bonds in OBMol::PerceiveBondOrders (title is /Users/wangyang/Desktop/小辣椒/07-AIDD/分子对接/data/data_8ELC/protein.pdb)\n",
      "\n"
     ]
    },
    {
     "name": "stdout",
     "output_type": "stream",
     "text": [
      "8ELC - Detected Ligands: ['Y56']\n",
      "Processing 8ELC Nc1ncc(-c2cccc(N3CCOCC3)c2)nc1C(=O)Nc1ncccc1N1CCC(N)CC1 Y56\n"
     ]
    },
    {
     "name": "stderr",
     "output_type": "stream",
     "text": [
      "==============================\n",
      "*** Open Babel Warning  in PerceiveBondOrders\n",
      "  Failed to kekulize aromatic bonds in OBMol::PerceiveBondOrders (title is /Users/wangyang/Desktop/小辣椒/07-AIDD/分子对接/data/data_8ELC/protein.pdb)\n",
      "\n"
     ]
    },
    {
     "name": "stdout",
     "output_type": "stream",
     "text": [
      "8ELC - Detected Ligands: ['Y56']\n",
      "Processing 8ELC Nc1ncc(-c2cccc3[nH]ncc23)nc1C(=O)Nc1ncccc1N1CCC(N)CC1 Y56\n"
     ]
    },
    {
     "name": "stderr",
     "output_type": "stream",
     "text": [
      "==============================\n",
      "*** Open Babel Warning  in PerceiveBondOrders\n",
      "  Failed to kekulize aromatic bonds in OBMol::PerceiveBondOrders (title is /Users/wangyang/Desktop/小辣椒/07-AIDD/分子对接/data/data_8ELC/protein.pdb)\n",
      "\n"
     ]
    },
    {
     "name": "stdout",
     "output_type": "stream",
     "text": [
      "8ELC - Detected Ligands: ['Y56']\n",
      "Processing 8ELC Cc1cc2c(-c3cnc(N)c(C(=O)Nc4ncccc4N4CCC(N)CC4)n3)cccc2[nH]1 Y56\n"
     ]
    },
    {
     "name": "stderr",
     "output_type": "stream",
     "text": [
      "==============================\n",
      "*** Open Babel Warning  in PerceiveBondOrders\n",
      "  Failed to kekulize aromatic bonds in OBMol::PerceiveBondOrders (title is /Users/wangyang/Desktop/小辣椒/07-AIDD/分子对接/data/data_8ELC/protein.pdb)\n",
      "\n"
     ]
    },
    {
     "name": "stdout",
     "output_type": "stream",
     "text": [
      "8ELC - Detected Ligands: ['Y56']\n",
      "Processing 8ELC CC1(N)CCN(c2cccnc2NC(=O)c2nc(-c3nc(N4CCC(F)(F)CC4)ncc3F)cnc2N)CC1 Y56\n"
     ]
    },
    {
     "name": "stderr",
     "output_type": "stream",
     "text": [
      "==============================\n",
      "*** Open Babel Warning  in PerceiveBondOrders\n",
      "  Failed to kekulize aromatic bonds in OBMol::PerceiveBondOrders (title is /Users/wangyang/Desktop/小辣椒/07-AIDD/分子对接/data/data_8ELC/protein.pdb)\n",
      "\n"
     ]
    },
    {
     "name": "stdout",
     "output_type": "stream",
     "text": [
      "8ELC - Detected Ligands: ['Y56']\n",
      "Processing 8ELC CN(C)c1ccc(C(F)(F)F)c(-c2cnc(N)c(C(=O)Nc3ncccc3N3CCC(N)CC3)n2)n1 Y56\n"
     ]
    },
    {
     "name": "stderr",
     "output_type": "stream",
     "text": [
      "==============================\n",
      "*** Open Babel Warning  in PerceiveBondOrders\n",
      "  Failed to kekulize aromatic bonds in OBMol::PerceiveBondOrders (title is /Users/wangyang/Desktop/小辣椒/07-AIDD/分子对接/data/data_8ELC/protein.pdb)\n",
      "\n"
     ]
    },
    {
     "name": "stdout",
     "output_type": "stream",
     "text": [
      "8ELC - Detected Ligands: ['Y56']\n",
      "Processing 8ELC Nc1ncc(-c2cccc3[nH]c(C(F)(F)F)cc23)nc1C(=O)Nc1ncccc1N1CCC(N)CC1 Y56\n"
     ]
    },
    {
     "name": "stderr",
     "output_type": "stream",
     "text": [
      "==============================\n",
      "*** Open Babel Warning  in PerceiveBondOrders\n",
      "  Failed to kekulize aromatic bonds in OBMol::PerceiveBondOrders (title is /Users/wangyang/Desktop/小辣椒/07-AIDD/分子对接/data/data_8ELC/protein.pdb)\n",
      "\n"
     ]
    },
    {
     "name": "stdout",
     "output_type": "stream",
     "text": [
      "8ELC - Detected Ligands: ['Y56']\n",
      "Processing 8ELC Nc1ncc(-c2nc(N3CCOCC3)ccc2C(F)(F)F)nc1C(=O)Nc1ncccc1N1CCC(N)CC1 Y56\n"
     ]
    },
    {
     "name": "stderr",
     "output_type": "stream",
     "text": [
      "==============================\n",
      "*** Open Babel Warning  in PerceiveBondOrders\n",
      "  Failed to kekulize aromatic bonds in OBMol::PerceiveBondOrders (title is /Users/wangyang/Desktop/小辣椒/07-AIDD/分子对接/data/data_8ELC/protein.pdb)\n",
      "\n"
     ]
    },
    {
     "name": "stdout",
     "output_type": "stream",
     "text": [
      "8ELC - Detected Ligands: ['Y56']\n",
      "Processing 8ELC Nc1ncc(-c2nc(N3CCOCC3)cc3ccccc23)nc1C(=O)Nc1ncccc1N1CCC(N)CC1 Y56\n"
     ]
    },
    {
     "name": "stderr",
     "output_type": "stream",
     "text": [
      "==============================\n",
      "*** Open Babel Warning  in PerceiveBondOrders\n",
      "  Failed to kekulize aromatic bonds in OBMol::PerceiveBondOrders (title is /Users/wangyang/Desktop/小辣椒/07-AIDD/分子对接/data/data_8ELC/protein.pdb)\n",
      "\n"
     ]
    },
    {
     "name": "stdout",
     "output_type": "stream",
     "text": [
      "8ELC - Detected Ligands: ['Y56']\n",
      "Processing 8ELC Nc1ncc(-c2cc(N3CCOCC3)cc(C(F)(F)F)c2)nc1C(=O)Nc1ncccc1N1CCC(N)CC1 Y56\n"
     ]
    },
    {
     "name": "stderr",
     "output_type": "stream",
     "text": [
      "==============================\n",
      "*** Open Babel Warning  in PerceiveBondOrders\n",
      "  Failed to kekulize aromatic bonds in OBMol::PerceiveBondOrders (title is /Users/wangyang/Desktop/小辣椒/07-AIDD/分子对接/data/data_8ELC/protein.pdb)\n",
      "\n"
     ]
    },
    {
     "name": "stdout",
     "output_type": "stream",
     "text": [
      "8ELC - Detected Ligands: ['Y56']\n",
      "Processing 8ELC Nc1ncc(-c2ccccc2)nc1C(=O)Nc1cnccc1N1CCC(N)CC1 Y56\n"
     ]
    },
    {
     "name": "stderr",
     "output_type": "stream",
     "text": [
      "==============================\n",
      "*** Open Babel Warning  in PerceiveBondOrders\n",
      "  Failed to kekulize aromatic bonds in OBMol::PerceiveBondOrders (title is /Users/wangyang/Desktop/小辣椒/07-AIDD/分子对接/data/data_8ELC/protein.pdb)\n",
      "\n"
     ]
    },
    {
     "name": "stdout",
     "output_type": "stream",
     "text": [
      "8ELC - Detected Ligands: ['Y56']\n",
      "Processing 8ELC Nc1ncc(-c2ccccc2F)nc1C(=O)Nc1cnccc1N1CCC(N)CC1 Y56\n"
     ]
    },
    {
     "name": "stderr",
     "output_type": "stream",
     "text": [
      "==============================\n",
      "*** Open Babel Warning  in PerceiveBondOrders\n",
      "  Failed to kekulize aromatic bonds in OBMol::PerceiveBondOrders (title is /Users/wangyang/Desktop/小辣椒/07-AIDD/分子对接/data/data_8ELC/protein.pdb)\n",
      "\n"
     ]
    },
    {
     "name": "stdout",
     "output_type": "stream",
     "text": [
      "8ELC - Detected Ligands: ['Y56']\n",
      "Processing 8ELC CC1(N)CCN(c2cccnc2NC(=O)c2nc(-c3nc(C4=CCOCC4)ncc3C(F)(F)F)cnc2N)CC1 Y56\n"
     ]
    },
    {
     "name": "stderr",
     "output_type": "stream",
     "text": [
      "==============================\n",
      "*** Open Babel Warning  in PerceiveBondOrders\n",
      "  Failed to kekulize aromatic bonds in OBMol::PerceiveBondOrders (title is /Users/wangyang/Desktop/小辣椒/07-AIDD/分子对接/data/data_8ELC/protein.pdb)\n",
      "\n"
     ]
    },
    {
     "name": "stdout",
     "output_type": "stream",
     "text": [
      "8ELC - Detected Ligands: ['Y56']\n",
      "Processing 8ELC Nc1ncc(-c2cc(N3CCOCC3)ccc2C(F)(F)F)nc1C(=O)Nc1ncccc1N1CCC(N)CC1 Y56\n"
     ]
    },
    {
     "name": "stderr",
     "output_type": "stream",
     "text": [
      "==============================\n",
      "*** Open Babel Warning  in PerceiveBondOrders\n",
      "  Failed to kekulize aromatic bonds in OBMol::PerceiveBondOrders (title is /Users/wangyang/Desktop/小辣椒/07-AIDD/分子对接/data/data_8ELC/protein.pdb)\n",
      "\n"
     ]
    },
    {
     "name": "stdout",
     "output_type": "stream",
     "text": [
      "8ELC - Detected Ligands: ['Y56']\n",
      "Processing 8ELC Nc1ncc(-c2cccc3[nH]ccc23)nc1C(=O)Nc1ncccc1N1CCC(N)CC1 Y56\n"
     ]
    },
    {
     "name": "stderr",
     "output_type": "stream",
     "text": [
      "==============================\n",
      "*** Open Babel Warning  in PerceiveBondOrders\n",
      "  Failed to kekulize aromatic bonds in OBMol::PerceiveBondOrders (title is /Users/wangyang/Desktop/小辣椒/07-AIDD/分子对接/data/data_8ELC/protein.pdb)\n",
      "\n"
     ]
    },
    {
     "name": "stdout",
     "output_type": "stream",
     "text": [
      "8ELC - Detected Ligands: ['Y56']\n",
      "Processing 8ELC Nc1ncc(-c2ccccc2)nc1C(=O)Nc1ccccc1N1CCC(N)CC1 Y56\n"
     ]
    },
    {
     "name": "stderr",
     "output_type": "stream",
     "text": [
      "==============================\n",
      "*** Open Babel Warning  in PerceiveBondOrders\n",
      "  Failed to kekulize aromatic bonds in OBMol::PerceiveBondOrders (title is /Users/wangyang/Desktop/小辣椒/07-AIDD/分子对接/data/data_8ELC/protein.pdb)\n",
      "\n"
     ]
    },
    {
     "name": "stdout",
     "output_type": "stream",
     "text": [
      "8ELC - Detected Ligands: ['Y56']\n",
      "Processing 8ELC CCOCC1(N)CCN(c2cccnc2NC(=O)c2nc(-c3ncccc3OC(F)(F)F)cnc2N)CC1 Y56\n"
     ]
    },
    {
     "name": "stderr",
     "output_type": "stream",
     "text": [
      "==============================\n",
      "*** Open Babel Warning  in PerceiveBondOrders\n",
      "  Failed to kekulize aromatic bonds in OBMol::PerceiveBondOrders (title is /Users/wangyang/Desktop/小辣椒/07-AIDD/分子对接/data/data_8ELC/protein.pdb)\n",
      "\n"
     ]
    },
    {
     "name": "stdout",
     "output_type": "stream",
     "text": [
      "8ELC - Detected Ligands: ['Y56']\n",
      "Processing 8ELC CC1(N)CCN(c2cccnc2NC(=O)c2nc(-c3cc(N4CCOCC4)ccc3C(F)(F)F)cnc2N)CC1 Y56\n"
     ]
    },
    {
     "name": "stderr",
     "output_type": "stream",
     "text": [
      "==============================\n",
      "*** Open Babel Warning  in PerceiveBondOrders\n",
      "  Failed to kekulize aromatic bonds in OBMol::PerceiveBondOrders (title is /Users/wangyang/Desktop/小辣椒/07-AIDD/分子对接/data/data_8ELC/protein.pdb)\n",
      "\n"
     ]
    },
    {
     "name": "stdout",
     "output_type": "stream",
     "text": [
      "8ELC - Detected Ligands: ['Y56']\n",
      "Processing 8ELC COc1ccc(-c2cnc(N)c(C(=O)Nc3cnccc3N3CCC(N)CC3)n2)cc1 Y56\n"
     ]
    },
    {
     "name": "stderr",
     "output_type": "stream",
     "text": [
      "==============================\n",
      "*** Open Babel Warning  in PerceiveBondOrders\n",
      "  Failed to kekulize aromatic bonds in OBMol::PerceiveBondOrders (title is /Users/wangyang/Desktop/小辣椒/07-AIDD/分子对接/data/data_8ELC/protein.pdb)\n",
      "\n"
     ]
    },
    {
     "name": "stdout",
     "output_type": "stream",
     "text": [
      "8ELC - Detected Ligands: ['Y56']\n",
      "Processing 8ELC Nc1ncc(-c2cccc(N3CCOCC3)n2)nc1C(=O)Nc1ncccc1N1CCC(N)CC1 Y56\n"
     ]
    },
    {
     "name": "stderr",
     "output_type": "stream",
     "text": [
      "==============================\n",
      "*** Open Babel Warning  in PerceiveBondOrders\n",
      "  Failed to kekulize aromatic bonds in OBMol::PerceiveBondOrders (title is /Users/wangyang/Desktop/小辣椒/07-AIDD/分子对接/data/data_8ELC/protein.pdb)\n",
      "\n"
     ]
    },
    {
     "name": "stdout",
     "output_type": "stream",
     "text": [
      "8ELC - Detected Ligands: ['Y56']\n",
      "Processing 8ELC Nc1ncc(-c2nc(N3CCC3)ccc2C(F)(F)F)nc1C(=O)Nc1ncccc1N1CCC(N)CC1 Y56\n"
     ]
    },
    {
     "name": "stderr",
     "output_type": "stream",
     "text": [
      "==============================\n",
      "*** Open Babel Warning  in PerceiveBondOrders\n",
      "  Failed to kekulize aromatic bonds in OBMol::PerceiveBondOrders (title is /Users/wangyang/Desktop/小辣椒/07-AIDD/分子对接/data/data_8ELC/protein.pdb)\n",
      "\n"
     ]
    },
    {
     "name": "stdout",
     "output_type": "stream",
     "text": [
      "8ELC - Detected Ligands: ['Y56']\n",
      "Processing 8ELC Nc1ncc(-c2ncccc2OC(F)(F)F)nc1C(=O)Nc1ncccc1N1CCC(N)(CO)CC1 Y56\n"
     ]
    },
    {
     "name": "stderr",
     "output_type": "stream",
     "text": [
      "==============================\n",
      "*** Open Babel Warning  in PerceiveBondOrders\n",
      "  Failed to kekulize aromatic bonds in OBMol::PerceiveBondOrders (title is /Users/wangyang/Desktop/小辣椒/07-AIDD/分子对接/data/data_8ELC/protein.pdb)\n",
      "\n"
     ]
    },
    {
     "name": "stdout",
     "output_type": "stream",
     "text": [
      "8ELC - Detected Ligands: ['Y56']\n",
      "Processing 8ELC NC(=O)c1ccccc1Nc1nc(Nc2ccc(N3CCCC3=O)cc2)ncc1Cl Y56\n"
     ]
    },
    {
     "name": "stderr",
     "output_type": "stream",
     "text": [
      "==============================\n",
      "*** Open Babel Warning  in PerceiveBondOrders\n",
      "  Failed to kekulize aromatic bonds in OBMol::PerceiveBondOrders (title is /Users/wangyang/Desktop/小辣椒/07-AIDD/分子对接/data/data_8ELC/protein.pdb)\n",
      "\n"
     ]
    },
    {
     "name": "stdout",
     "output_type": "stream",
     "text": [
      "8ELC - Detected Ligands: ['Y56']\n",
      "Processing 8ELC Nc1ncc(-c2ncccc2OC(F)(F)F)nc1C(=O)Nc1ncccc1N1CCC(N)CC1 Y56\n"
     ]
    },
    {
     "name": "stderr",
     "output_type": "stream",
     "text": [
      "==============================\n",
      "*** Open Babel Warning  in PerceiveBondOrders\n",
      "  Failed to kekulize aromatic bonds in OBMol::PerceiveBondOrders (title is /Users/wangyang/Desktop/小辣椒/07-AIDD/分子对接/data/data_8ELC/protein.pdb)\n",
      "\n"
     ]
    },
    {
     "name": "stdout",
     "output_type": "stream",
     "text": [
      "8ELC - Detected Ligands: ['Y56']\n",
      "Processing 8ELC Nc1ncc(-c2ncccc2OC(F)(F)F)nc1C(=O)Nc1ncccc1N1CC[C@@H](N)[C@@H](F)C1 Y56\n"
     ]
    },
    {
     "name": "stderr",
     "output_type": "stream",
     "text": [
      "==============================\n",
      "*** Open Babel Warning  in PerceiveBondOrders\n",
      "  Failed to kekulize aromatic bonds in OBMol::PerceiveBondOrders (title is /Users/wangyang/Desktop/小辣椒/07-AIDD/分子对接/data/data_8ELC/protein.pdb)\n",
      "\n"
     ]
    },
    {
     "name": "stdout",
     "output_type": "stream",
     "text": [
      "8ELC - Detected Ligands: ['Y56']\n",
      "Processing 8ELC C[C@H](CO)Nc1ccc(C(F)(F)F)c(-c2cnc(N)c(C(=O)Nc3ncccc3N3CCC(C)(N)CC3)n2)n1 Y56\n"
     ]
    },
    {
     "name": "stderr",
     "output_type": "stream",
     "text": [
      "==============================\n",
      "*** Open Babel Warning  in PerceiveBondOrders\n",
      "  Failed to kekulize aromatic bonds in OBMol::PerceiveBondOrders (title is /Users/wangyang/Desktop/小辣椒/07-AIDD/分子对接/data/data_8ELC/protein.pdb)\n",
      "\n"
     ]
    },
    {
     "name": "stdout",
     "output_type": "stream",
     "text": [
      "8ELC - Detected Ligands: ['Y56']\n",
      "Processing 8ELC Cn1ncc2c(-c3cnc(N)c(C(=O)Nc4ncccc4N4CCC(N)CC4)n3)ncnc21 Y56\n"
     ]
    },
    {
     "name": "stderr",
     "output_type": "stream",
     "text": [
      "==============================\n",
      "*** Open Babel Warning  in PerceiveBondOrders\n",
      "  Failed to kekulize aromatic bonds in OBMol::PerceiveBondOrders (title is /Users/wangyang/Desktop/小辣椒/07-AIDD/分子对接/data/data_8ELC/protein.pdb)\n",
      "\n"
     ]
    },
    {
     "name": "stdout",
     "output_type": "stream",
     "text": [
      "8ELC - Detected Ligands: ['Y56']\n",
      "Processing 8ELC Nc1ncc(-c2ccnc(N3CCOCC3)n2)nc1C(=O)Nc1ncccc1N1CCC(N)CC1 Y56\n"
     ]
    },
    {
     "name": "stderr",
     "output_type": "stream",
     "text": [
      "==============================\n",
      "*** Open Babel Warning  in PerceiveBondOrders\n",
      "  Failed to kekulize aromatic bonds in OBMol::PerceiveBondOrders (title is /Users/wangyang/Desktop/小辣椒/07-AIDD/分子对接/data/data_8ELC/protein.pdb)\n",
      "\n"
     ]
    },
    {
     "name": "stdout",
     "output_type": "stream",
     "text": [
      "8ELC - Detected Ligands: ['Y56']\n",
      "Processing 8ELC Nc1ncc(-c2ncccc2OC(F)(F)F)nc1C(=O)Nc1ncccc1N1CCC(N)C(F)C1 Y56\n"
     ]
    },
    {
     "name": "stderr",
     "output_type": "stream",
     "text": [
      "==============================\n",
      "*** Open Babel Warning  in PerceiveBondOrders\n",
      "  Failed to kekulize aromatic bonds in OBMol::PerceiveBondOrders (title is /Users/wangyang/Desktop/小辣椒/07-AIDD/分子对接/data/data_8ELC/protein.pdb)\n",
      "\n"
     ]
    },
    {
     "name": "stdout",
     "output_type": "stream",
     "text": [
      "8ELC - Detected Ligands: ['Y56']\n",
      "Processing 8ELC C[C@H]1COCCN1c1ccc(C(F)(F)F)c(-c2cnc(N)c(C(=O)Nc3ncccc3N3CCC(C)(N)CC3)n2)n1 Y56\n"
     ]
    },
    {
     "name": "stderr",
     "output_type": "stream",
     "text": [
      "==============================\n",
      "*** Open Babel Warning  in PerceiveBondOrders\n",
      "  Failed to kekulize aromatic bonds in OBMol::PerceiveBondOrders (title is /Users/wangyang/Desktop/小辣椒/07-AIDD/分子对接/data/data_8ELC/protein.pdb)\n",
      "\n"
     ]
    },
    {
     "name": "stdout",
     "output_type": "stream",
     "text": [
      "8ELC - Detected Ligands: ['Y56']\n",
      "Processing 8ELC Nc1ncc(-c2ncccc2F)nc1C(=O)Nc1ncccc1N1CCC(N)CC1 Y56\n"
     ]
    },
    {
     "name": "stderr",
     "output_type": "stream",
     "text": [
      "==============================\n",
      "*** Open Babel Warning  in PerceiveBondOrders\n",
      "  Failed to kekulize aromatic bonds in OBMol::PerceiveBondOrders (title is /Users/wangyang/Desktop/小辣椒/07-AIDD/分子对接/data/data_8ELC/protein.pdb)\n",
      "\n"
     ]
    },
    {
     "name": "stdout",
     "output_type": "stream",
     "text": [
      "8ELC - Detected Ligands: ['Y56']\n",
      "Processing 8ELC Nc1ncc(-c2ncnc3[nH]cc(F)c23)nc1C(=O)Nc1ncccc1N1CCC(N)CC1 Y56\n"
     ]
    },
    {
     "name": "stderr",
     "output_type": "stream",
     "text": [
      "==============================\n",
      "*** Open Babel Warning  in PerceiveBondOrders\n",
      "  Failed to kekulize aromatic bonds in OBMol::PerceiveBondOrders (title is /Users/wangyang/Desktop/小辣椒/07-AIDD/分子对接/data/data_8ELC/protein.pdb)\n",
      "\n"
     ]
    },
    {
     "name": "stdout",
     "output_type": "stream",
     "text": [
      "8ELC - Detected Ligands: ['Y56']\n",
      "Processing 8ELC CC1(N)CCN(c2cccnc2NC(=O)c2nc(-c3nc(N)ncc3Cl)cnc2N)CC1 Y56\n"
     ]
    },
    {
     "name": "stderr",
     "output_type": "stream",
     "text": [
      "==============================\n",
      "*** Open Babel Warning  in PerceiveBondOrders\n",
      "  Failed to kekulize aromatic bonds in OBMol::PerceiveBondOrders (title is /Users/wangyang/Desktop/小辣椒/07-AIDD/分子对接/data/data_8ELC/protein.pdb)\n",
      "\n"
     ]
    },
    {
     "name": "stdout",
     "output_type": "stream",
     "text": [
      "8ELC - Detected Ligands: ['Y56']\n",
      "Processing 8ELC COC1CN(c2cccnc2NC(=O)c2nc(-c3ncccc3OC(F)(F)F)cnc2N)CCC1N Y56\n"
     ]
    },
    {
     "name": "stderr",
     "output_type": "stream",
     "text": [
      "==============================\n",
      "*** Open Babel Warning  in PerceiveBondOrders\n",
      "  Failed to kekulize aromatic bonds in OBMol::PerceiveBondOrders (title is /Users/wangyang/Desktop/小辣椒/07-AIDD/分子对接/data/data_8ELC/protein.pdb)\n",
      "\n"
     ]
    },
    {
     "name": "stdout",
     "output_type": "stream",
     "text": [
      "8ELC - Detected Ligands: ['Y56']\n",
      "Processing 8ELC CC1(N)CCN(c2cccnc2NC(=O)c2nc(-c3ncccc3C#N)cnc2N)CC1 Y56\n"
     ]
    },
    {
     "name": "stderr",
     "output_type": "stream",
     "text": [
      "==============================\n",
      "*** Open Babel Warning  in PerceiveBondOrders\n",
      "  Failed to kekulize aromatic bonds in OBMol::PerceiveBondOrders (title is /Users/wangyang/Desktop/小辣椒/07-AIDD/分子对接/data/data_8ELC/protein.pdb)\n",
      "\n"
     ]
    },
    {
     "name": "stdout",
     "output_type": "stream",
     "text": [
      "8ELC - Detected Ligands: ['Y56']\n",
      "Processing 8ELC CC1(N)CCN(c2cccnc2NC(=O)c2nc(-c3nc(C4CC4)ccc3C(F)(F)F)cnc2N)CC1 Y56\n"
     ]
    },
    {
     "name": "stderr",
     "output_type": "stream",
     "text": [
      "==============================\n",
      "*** Open Babel Warning  in PerceiveBondOrders\n",
      "  Failed to kekulize aromatic bonds in OBMol::PerceiveBondOrders (title is /Users/wangyang/Desktop/小辣椒/07-AIDD/分子对接/data/data_8ELC/protein.pdb)\n",
      "\n"
     ]
    },
    {
     "name": "stdout",
     "output_type": "stream",
     "text": [
      "8ELC - Detected Ligands: ['Y56']\n",
      "Processing 8ELC CC1(N)CCN(c2cccnc2NC(=O)c2nc(-c3nc(C(N)=O)ncc3F)cnc2N)CC1 Y56\n"
     ]
    },
    {
     "name": "stderr",
     "output_type": "stream",
     "text": [
      "==============================\n",
      "*** Open Babel Warning  in PerceiveBondOrders\n",
      "  Failed to kekulize aromatic bonds in OBMol::PerceiveBondOrders (title is /Users/wangyang/Desktop/小辣椒/07-AIDD/分子对接/data/data_8ELC/protein.pdb)\n",
      "\n"
     ]
    },
    {
     "name": "stdout",
     "output_type": "stream",
     "text": [
      "8ELC - Detected Ligands: ['Y56']\n",
      "Processing 8ELC Nc1ncc(-c2ncnc3c2CCCC3)nc1C(=O)Nc1ncccc1N1CCC(N)CC1 Y56\n"
     ]
    },
    {
     "name": "stderr",
     "output_type": "stream",
     "text": [
      "==============================\n",
      "*** Open Babel Warning  in PerceiveBondOrders\n",
      "  Failed to kekulize aromatic bonds in OBMol::PerceiveBondOrders (title is /Users/wangyang/Desktop/小辣椒/07-AIDD/分子对接/data/data_8ELC/protein.pdb)\n",
      "\n"
     ]
    },
    {
     "name": "stdout",
     "output_type": "stream",
     "text": [
      "8ELC - Detected Ligands: ['Y56']\n",
      "Processing 8ELC Nc1ncc(-c2nc(C(F)(F)F)ccc2C(F)(F)F)nc1C(=O)Nc1ncccc1N1CCC(N)CC1 Y56\n"
     ]
    },
    {
     "name": "stderr",
     "output_type": "stream",
     "text": [
      "==============================\n",
      "*** Open Babel Warning  in PerceiveBondOrders\n",
      "  Failed to kekulize aromatic bonds in OBMol::PerceiveBondOrders (title is /Users/wangyang/Desktop/小辣椒/07-AIDD/分子对接/data/data_8ELC/protein.pdb)\n",
      "\n"
     ]
    },
    {
     "name": "stdout",
     "output_type": "stream",
     "text": [
      "8ELC - Detected Ligands: ['Y56']\n",
      "Processing 8ELC CC1(N)CCN(c2cccnc2NC(=O)c2nc(-c3nc(C#N)ncc3C(F)(F)F)cnc2N)CC1 Y56\n"
     ]
    },
    {
     "name": "stderr",
     "output_type": "stream",
     "text": [
      "==============================\n",
      "*** Open Babel Warning  in PerceiveBondOrders\n",
      "  Failed to kekulize aromatic bonds in OBMol::PerceiveBondOrders (title is /Users/wangyang/Desktop/小辣椒/07-AIDD/分子对接/data/data_8ELC/protein.pdb)\n",
      "\n"
     ]
    },
    {
     "name": "stdout",
     "output_type": "stream",
     "text": [
      "8ELC - Detected Ligands: ['Y56']\n",
      "Processing 8ELC CC1(N)CCN(c2cccnc2NC(=O)c2nc(-c3nccc(Cl)c3C(F)(F)F)cnc2N)CC1 Y56\n"
     ]
    },
    {
     "name": "stderr",
     "output_type": "stream",
     "text": [
      "==============================\n",
      "*** Open Babel Warning  in PerceiveBondOrders\n",
      "  Failed to kekulize aromatic bonds in OBMol::PerceiveBondOrders (title is /Users/wangyang/Desktop/小辣椒/07-AIDD/分子对接/data/data_8ELC/protein.pdb)\n",
      "\n"
     ]
    },
    {
     "name": "stdout",
     "output_type": "stream",
     "text": [
      "8ELC - Detected Ligands: ['Y56']\n",
      "Processing 8ELC Nc1ncc(-c2nc(N3CCOCC3)ccc2C(F)(F)F)nc1C(=O)Nc1ncccc1N1C[C@H]2CC[C@@H](C1)[C@@H]2N Y56\n"
     ]
    },
    {
     "name": "stderr",
     "output_type": "stream",
     "text": [
      "==============================\n",
      "*** Open Babel Warning  in PerceiveBondOrders\n",
      "  Failed to kekulize aromatic bonds in OBMol::PerceiveBondOrders (title is /Users/wangyang/Desktop/小辣椒/07-AIDD/分子对接/data/data_8ELC/protein.pdb)\n",
      "\n"
     ]
    },
    {
     "name": "stdout",
     "output_type": "stream",
     "text": [
      "8ELC - Detected Ligands: ['Y56']\n",
      "Processing 8ELC CC1CN(c2ccc(C(F)(F)F)c(-c3cnc(N)c(C(=O)Nc4ncccc4N4CCC(C)(N)CC4)n3)n2)CCO1 Y56\n"
     ]
    },
    {
     "name": "stderr",
     "output_type": "stream",
     "text": [
      "==============================\n",
      "*** Open Babel Warning  in PerceiveBondOrders\n",
      "  Failed to kekulize aromatic bonds in OBMol::PerceiveBondOrders (title is /Users/wangyang/Desktop/小辣椒/07-AIDD/分子对接/data/data_8ELC/protein.pdb)\n",
      "\n"
     ]
    },
    {
     "name": "stdout",
     "output_type": "stream",
     "text": [
      "8ELC - Detected Ligands: ['Y56']\n",
      "Processing 8ELC COc1ccnc(-c2cnc(N)c(C(=O)Nc3ncccc3N3CCC(N)(CC#N)CC3)n2)c1C#N Y56\n"
     ]
    },
    {
     "name": "stderr",
     "output_type": "stream",
     "text": [
      "==============================\n",
      "*** Open Babel Warning  in PerceiveBondOrders\n",
      "  Failed to kekulize aromatic bonds in OBMol::PerceiveBondOrders (title is /Users/wangyang/Desktop/小辣椒/07-AIDD/分子对接/data/data_8ELC/protein.pdb)\n",
      "\n"
     ]
    },
    {
     "name": "stdout",
     "output_type": "stream",
     "text": [
      "8ELC - Detected Ligands: ['Y56']\n",
      "Processing 8ELC CN(C)c1ccc(C(F)(F)F)c(-c2cnc(N)c(C(=O)Nc3ncccc3N3CCC(C)(N)CC3)n2)n1 Y56\n"
     ]
    },
    {
     "name": "stderr",
     "output_type": "stream",
     "text": [
      "==============================\n",
      "*** Open Babel Warning  in PerceiveBondOrders\n",
      "  Failed to kekulize aromatic bonds in OBMol::PerceiveBondOrders (title is /Users/wangyang/Desktop/小辣椒/07-AIDD/分子对接/data/data_8ELC/protein.pdb)\n",
      "\n"
     ]
    },
    {
     "name": "stdout",
     "output_type": "stream",
     "text": [
      "8ELC - Detected Ligands: ['Y56']\n",
      "Processing 8ELC COc1ccnc(-c2cnc(N)c(C(=O)Nc3ncccc3N3CCC(C)(N)CC3)n2)c1F Y56\n"
     ]
    },
    {
     "name": "stderr",
     "output_type": "stream",
     "text": [
      "==============================\n",
      "*** Open Babel Warning  in PerceiveBondOrders\n",
      "  Failed to kekulize aromatic bonds in OBMol::PerceiveBondOrders (title is /Users/wangyang/Desktop/小辣椒/07-AIDD/分子对接/data/data_8ELC/protein.pdb)\n",
      "\n"
     ]
    },
    {
     "name": "stdout",
     "output_type": "stream",
     "text": [
      "8ELC - Detected Ligands: ['Y56']\n",
      "Processing 8ELC CC1(N)CCN(c2cccnc2NC(=O)c2nc(-c3nc(N4CCOCC4)ccc3C(F)(F)F)cnc2N)CC1 Y56\n"
     ]
    },
    {
     "name": "stderr",
     "output_type": "stream",
     "text": [
      "==============================\n",
      "*** Open Babel Warning  in PerceiveBondOrders\n",
      "  Failed to kekulize aromatic bonds in OBMol::PerceiveBondOrders (title is /Users/wangyang/Desktop/小辣椒/07-AIDD/分子对接/data/data_8ELC/protein.pdb)\n",
      "\n"
     ]
    },
    {
     "name": "stdout",
     "output_type": "stream",
     "text": [
      "8ELC - Detected Ligands: ['Y56']\n",
      "Processing 8ELC NC(=O)c1ccccc1Nc1nc(Nc2ccc(N3CCOCC3)cc2F)ncc1Cl Y56\n"
     ]
    },
    {
     "name": "stderr",
     "output_type": "stream",
     "text": [
      "==============================\n",
      "*** Open Babel Warning  in PerceiveBondOrders\n",
      "  Failed to kekulize aromatic bonds in OBMol::PerceiveBondOrders (title is /Users/wangyang/Desktop/小辣椒/07-AIDD/分子对接/data/data_8ELC/protein.pdb)\n",
      "\n"
     ]
    },
    {
     "name": "stdout",
     "output_type": "stream",
     "text": [
      "8ELC - Detected Ligands: ['Y56']\n",
      "Processing 8ELC CC1(N)CCN(c2cccnc2NC(=O)c2nc(-c3nccc(OC(F)(F)F)c3C#N)cnc2N)CC1 Y56\n"
     ]
    },
    {
     "name": "stderr",
     "output_type": "stream",
     "text": [
      "==============================\n",
      "*** Open Babel Warning  in PerceiveBondOrders\n",
      "  Failed to kekulize aromatic bonds in OBMol::PerceiveBondOrders (title is /Users/wangyang/Desktop/小辣椒/07-AIDD/分子对接/data/data_8ELC/protein.pdb)\n",
      "\n"
     ]
    },
    {
     "name": "stdout",
     "output_type": "stream",
     "text": [
      "8ELC - Detected Ligands: ['Y56']\n",
      "Processing 8ELC CCC1(N)CCN(c2cccnc2NC(=O)c2nc(-c3ncccc3OC(F)(F)F)cnc2N)CC1 Y56\n"
     ]
    },
    {
     "name": "stderr",
     "output_type": "stream",
     "text": [
      "==============================\n",
      "*** Open Babel Warning  in PerceiveBondOrders\n",
      "  Failed to kekulize aromatic bonds in OBMol::PerceiveBondOrders (title is /Users/wangyang/Desktop/小辣椒/07-AIDD/分子对接/data/data_4RA4/protein.pdb)\n",
      "\n"
     ]
    },
    {
     "name": "stdout",
     "output_type": "stream",
     "text": [
      "4RA4 - Detected Ligands: ['3KZ', 'TPO', 'SEP']\n",
      "Processing 4RA4 CC1(N)CCN(c2cccnc2NC(=O)c2nc(-c3nc(N4CCOCC4)cc4ccccc34)cnc2N)CC1 3KZ\n",
      "Processing 4RA4 CC1(N)CCN(c2cccnc2NC(=O)c2nc(-c3nc(N4CCOCC4)cc4ccccc34)cnc2N)CC1 TPO\n",
      "Processing 4RA4 CC1(N)CCN(c2cccnc2NC(=O)c2nc(-c3nc(N4CCOCC4)cc4ccccc34)cnc2N)CC1 SEP\n"
     ]
    },
    {
     "name": "stderr",
     "output_type": "stream",
     "text": [
      "==============================\n",
      "*** Open Babel Warning  in PerceiveBondOrders\n",
      "  Failed to kekulize aromatic bonds in OBMol::PerceiveBondOrders (title is /Users/wangyang/Desktop/小辣椒/07-AIDD/分子对接/data/data_4RA4/protein.pdb)\n",
      "\n"
     ]
    },
    {
     "name": "stdout",
     "output_type": "stream",
     "text": [
      "4RA4 - Detected Ligands: ['3KZ', 'TPO', 'SEP']\n",
      "Processing 4RA4 Nc1ncc(-c2cccc(N3CCOCC3)c2)nc1C(=O)Nc1ncccc1N1CCC(N)CC1 3KZ\n",
      "Processing 4RA4 Nc1ncc(-c2cccc(N3CCOCC3)c2)nc1C(=O)Nc1ncccc1N1CCC(N)CC1 TPO\n",
      "Processing 4RA4 Nc1ncc(-c2cccc(N3CCOCC3)c2)nc1C(=O)Nc1ncccc1N1CCC(N)CC1 SEP\n"
     ]
    },
    {
     "name": "stderr",
     "output_type": "stream",
     "text": [
      "==============================\n",
      "*** Open Babel Warning  in PerceiveBondOrders\n",
      "  Failed to kekulize aromatic bonds in OBMol::PerceiveBondOrders (title is /Users/wangyang/Desktop/小辣椒/07-AIDD/分子对接/data/data_4RA4/protein.pdb)\n",
      "\n"
     ]
    },
    {
     "name": "stdout",
     "output_type": "stream",
     "text": [
      "4RA4 - Detected Ligands: ['3KZ', 'TPO', 'SEP']\n",
      "Processing 4RA4 Nc1ncc(-c2cccc3[nH]ncc23)nc1C(=O)Nc1ncccc1N1CCC(N)CC1 3KZ\n",
      "Processing 4RA4 Nc1ncc(-c2cccc3[nH]ncc23)nc1C(=O)Nc1ncccc1N1CCC(N)CC1 TPO\n",
      "Processing 4RA4 Nc1ncc(-c2cccc3[nH]ncc23)nc1C(=O)Nc1ncccc1N1CCC(N)CC1 SEP\n"
     ]
    },
    {
     "name": "stderr",
     "output_type": "stream",
     "text": [
      "==============================\n",
      "*** Open Babel Warning  in PerceiveBondOrders\n",
      "  Failed to kekulize aromatic bonds in OBMol::PerceiveBondOrders (title is /Users/wangyang/Desktop/小辣椒/07-AIDD/分子对接/data/data_4RA4/protein.pdb)\n",
      "\n"
     ]
    },
    {
     "name": "stdout",
     "output_type": "stream",
     "text": [
      "4RA4 - Detected Ligands: ['3KZ', 'TPO', 'SEP']\n",
      "Processing 4RA4 Cc1cc2c(-c3cnc(N)c(C(=O)Nc4ncccc4N4CCC(N)CC4)n3)cccc2[nH]1 3KZ\n",
      "Processing 4RA4 Cc1cc2c(-c3cnc(N)c(C(=O)Nc4ncccc4N4CCC(N)CC4)n3)cccc2[nH]1 TPO\n",
      "Processing 4RA4 Cc1cc2c(-c3cnc(N)c(C(=O)Nc4ncccc4N4CCC(N)CC4)n3)cccc2[nH]1 SEP\n"
     ]
    },
    {
     "name": "stderr",
     "output_type": "stream",
     "text": [
      "==============================\n",
      "*** Open Babel Warning  in PerceiveBondOrders\n",
      "  Failed to kekulize aromatic bonds in OBMol::PerceiveBondOrders (title is /Users/wangyang/Desktop/小辣椒/07-AIDD/分子对接/data/data_4RA4/protein.pdb)\n",
      "\n"
     ]
    },
    {
     "name": "stdout",
     "output_type": "stream",
     "text": [
      "4RA4 - Detected Ligands: ['3KZ', 'TPO', 'SEP']\n",
      "Processing 4RA4 CC1(N)CCN(c2cccnc2NC(=O)c2nc(-c3nc(N4CCC(F)(F)CC4)ncc3F)cnc2N)CC1 3KZ\n",
      "Processing 4RA4 CC1(N)CCN(c2cccnc2NC(=O)c2nc(-c3nc(N4CCC(F)(F)CC4)ncc3F)cnc2N)CC1 TPO\n",
      "Processing 4RA4 CC1(N)CCN(c2cccnc2NC(=O)c2nc(-c3nc(N4CCC(F)(F)CC4)ncc3F)cnc2N)CC1 SEP\n"
     ]
    },
    {
     "name": "stderr",
     "output_type": "stream",
     "text": [
      "==============================\n",
      "*** Open Babel Warning  in PerceiveBondOrders\n",
      "  Failed to kekulize aromatic bonds in OBMol::PerceiveBondOrders (title is /Users/wangyang/Desktop/小辣椒/07-AIDD/分子对接/data/data_4RA4/protein.pdb)\n",
      "\n"
     ]
    },
    {
     "name": "stdout",
     "output_type": "stream",
     "text": [
      "4RA4 - Detected Ligands: ['3KZ', 'TPO', 'SEP']\n",
      "Processing 4RA4 CN(C)c1ccc(C(F)(F)F)c(-c2cnc(N)c(C(=O)Nc3ncccc3N3CCC(N)CC3)n2)n1 3KZ\n",
      "Processing 4RA4 CN(C)c1ccc(C(F)(F)F)c(-c2cnc(N)c(C(=O)Nc3ncccc3N3CCC(N)CC3)n2)n1 TPO\n",
      "Processing 4RA4 CN(C)c1ccc(C(F)(F)F)c(-c2cnc(N)c(C(=O)Nc3ncccc3N3CCC(N)CC3)n2)n1 SEP\n"
     ]
    },
    {
     "name": "stderr",
     "output_type": "stream",
     "text": [
      "==============================\n",
      "*** Open Babel Warning  in PerceiveBondOrders\n",
      "  Failed to kekulize aromatic bonds in OBMol::PerceiveBondOrders (title is /Users/wangyang/Desktop/小辣椒/07-AIDD/分子对接/data/data_4RA4/protein.pdb)\n",
      "\n"
     ]
    },
    {
     "name": "stdout",
     "output_type": "stream",
     "text": [
      "4RA4 - Detected Ligands: ['3KZ', 'TPO', 'SEP']\n",
      "Processing 4RA4 Nc1ncc(-c2cccc3[nH]c(C(F)(F)F)cc23)nc1C(=O)Nc1ncccc1N1CCC(N)CC1 3KZ\n",
      "Processing 4RA4 Nc1ncc(-c2cccc3[nH]c(C(F)(F)F)cc23)nc1C(=O)Nc1ncccc1N1CCC(N)CC1 TPO\n",
      "Processing 4RA4 Nc1ncc(-c2cccc3[nH]c(C(F)(F)F)cc23)nc1C(=O)Nc1ncccc1N1CCC(N)CC1 SEP\n"
     ]
    },
    {
     "name": "stderr",
     "output_type": "stream",
     "text": [
      "==============================\n",
      "*** Open Babel Warning  in PerceiveBondOrders\n",
      "  Failed to kekulize aromatic bonds in OBMol::PerceiveBondOrders (title is /Users/wangyang/Desktop/小辣椒/07-AIDD/分子对接/data/data_4RA4/protein.pdb)\n",
      "\n"
     ]
    },
    {
     "name": "stdout",
     "output_type": "stream",
     "text": [
      "4RA4 - Detected Ligands: ['3KZ', 'TPO', 'SEP']\n",
      "Processing 4RA4 Nc1ncc(-c2nc(N3CCOCC3)ccc2C(F)(F)F)nc1C(=O)Nc1ncccc1N1CCC(N)CC1 3KZ\n",
      "Processing 4RA4 Nc1ncc(-c2nc(N3CCOCC3)ccc2C(F)(F)F)nc1C(=O)Nc1ncccc1N1CCC(N)CC1 TPO\n",
      "Processing 4RA4 Nc1ncc(-c2nc(N3CCOCC3)ccc2C(F)(F)F)nc1C(=O)Nc1ncccc1N1CCC(N)CC1 SEP\n"
     ]
    },
    {
     "name": "stderr",
     "output_type": "stream",
     "text": [
      "==============================\n",
      "*** Open Babel Warning  in PerceiveBondOrders\n",
      "  Failed to kekulize aromatic bonds in OBMol::PerceiveBondOrders (title is /Users/wangyang/Desktop/小辣椒/07-AIDD/分子对接/data/data_4RA4/protein.pdb)\n",
      "\n"
     ]
    },
    {
     "name": "stdout",
     "output_type": "stream",
     "text": [
      "4RA4 - Detected Ligands: ['3KZ', 'TPO', 'SEP']\n",
      "Processing 4RA4 Nc1ncc(-c2nc(N3CCOCC3)cc3ccccc23)nc1C(=O)Nc1ncccc1N1CCC(N)CC1 3KZ\n",
      "Processing 4RA4 Nc1ncc(-c2nc(N3CCOCC3)cc3ccccc23)nc1C(=O)Nc1ncccc1N1CCC(N)CC1 TPO\n",
      "Processing 4RA4 Nc1ncc(-c2nc(N3CCOCC3)cc3ccccc23)nc1C(=O)Nc1ncccc1N1CCC(N)CC1 SEP\n"
     ]
    },
    {
     "name": "stderr",
     "output_type": "stream",
     "text": [
      "==============================\n",
      "*** Open Babel Warning  in PerceiveBondOrders\n",
      "  Failed to kekulize aromatic bonds in OBMol::PerceiveBondOrders (title is /Users/wangyang/Desktop/小辣椒/07-AIDD/分子对接/data/data_4RA4/protein.pdb)\n",
      "\n"
     ]
    },
    {
     "name": "stdout",
     "output_type": "stream",
     "text": [
      "4RA4 - Detected Ligands: ['3KZ', 'TPO', 'SEP']\n",
      "Processing 4RA4 Nc1ncc(-c2cc(N3CCOCC3)cc(C(F)(F)F)c2)nc1C(=O)Nc1ncccc1N1CCC(N)CC1 3KZ\n",
      "Processing 4RA4 Nc1ncc(-c2cc(N3CCOCC3)cc(C(F)(F)F)c2)nc1C(=O)Nc1ncccc1N1CCC(N)CC1 TPO\n",
      "Processing 4RA4 Nc1ncc(-c2cc(N3CCOCC3)cc(C(F)(F)F)c2)nc1C(=O)Nc1ncccc1N1CCC(N)CC1 SEP\n"
     ]
    },
    {
     "name": "stderr",
     "output_type": "stream",
     "text": [
      "==============================\n",
      "*** Open Babel Warning  in PerceiveBondOrders\n",
      "  Failed to kekulize aromatic bonds in OBMol::PerceiveBondOrders (title is /Users/wangyang/Desktop/小辣椒/07-AIDD/分子对接/data/data_4RA4/protein.pdb)\n",
      "\n"
     ]
    },
    {
     "name": "stdout",
     "output_type": "stream",
     "text": [
      "4RA4 - Detected Ligands: ['3KZ', 'TPO', 'SEP']\n",
      "Processing 4RA4 Nc1ncc(-c2ccccc2)nc1C(=O)Nc1cnccc1N1CCC(N)CC1 3KZ\n",
      "Processing 4RA4 Nc1ncc(-c2ccccc2)nc1C(=O)Nc1cnccc1N1CCC(N)CC1 TPO\n",
      "Processing 4RA4 Nc1ncc(-c2ccccc2)nc1C(=O)Nc1cnccc1N1CCC(N)CC1 SEP\n"
     ]
    },
    {
     "name": "stderr",
     "output_type": "stream",
     "text": [
      "==============================\n",
      "*** Open Babel Warning  in PerceiveBondOrders\n",
      "  Failed to kekulize aromatic bonds in OBMol::PerceiveBondOrders (title is /Users/wangyang/Desktop/小辣椒/07-AIDD/分子对接/data/data_4RA4/protein.pdb)\n",
      "\n"
     ]
    },
    {
     "name": "stdout",
     "output_type": "stream",
     "text": [
      "4RA4 - Detected Ligands: ['3KZ', 'TPO', 'SEP']\n",
      "Processing 4RA4 Nc1ncc(-c2ccccc2F)nc1C(=O)Nc1cnccc1N1CCC(N)CC1 3KZ\n",
      "Processing 4RA4 Nc1ncc(-c2ccccc2F)nc1C(=O)Nc1cnccc1N1CCC(N)CC1 TPO\n",
      "Processing 4RA4 Nc1ncc(-c2ccccc2F)nc1C(=O)Nc1cnccc1N1CCC(N)CC1 SEP\n"
     ]
    },
    {
     "name": "stderr",
     "output_type": "stream",
     "text": [
      "==============================\n",
      "*** Open Babel Warning  in PerceiveBondOrders\n",
      "  Failed to kekulize aromatic bonds in OBMol::PerceiveBondOrders (title is /Users/wangyang/Desktop/小辣椒/07-AIDD/分子对接/data/data_4RA4/protein.pdb)\n",
      "\n"
     ]
    },
    {
     "name": "stdout",
     "output_type": "stream",
     "text": [
      "4RA4 - Detected Ligands: ['3KZ', 'TPO', 'SEP']\n",
      "Processing 4RA4 CC1(N)CCN(c2cccnc2NC(=O)c2nc(-c3nc(C4=CCOCC4)ncc3C(F)(F)F)cnc2N)CC1 3KZ\n",
      "Processing 4RA4 CC1(N)CCN(c2cccnc2NC(=O)c2nc(-c3nc(C4=CCOCC4)ncc3C(F)(F)F)cnc2N)CC1 TPO\n",
      "Processing 4RA4 CC1(N)CCN(c2cccnc2NC(=O)c2nc(-c3nc(C4=CCOCC4)ncc3C(F)(F)F)cnc2N)CC1 SEP\n"
     ]
    },
    {
     "name": "stderr",
     "output_type": "stream",
     "text": [
      "==============================\n",
      "*** Open Babel Warning  in PerceiveBondOrders\n",
      "  Failed to kekulize aromatic bonds in OBMol::PerceiveBondOrders (title is /Users/wangyang/Desktop/小辣椒/07-AIDD/分子对接/data/data_4RA4/protein.pdb)\n",
      "\n"
     ]
    },
    {
     "name": "stdout",
     "output_type": "stream",
     "text": [
      "4RA4 - Detected Ligands: ['3KZ', 'TPO', 'SEP']\n",
      "Processing 4RA4 Nc1ncc(-c2cc(N3CCOCC3)ccc2C(F)(F)F)nc1C(=O)Nc1ncccc1N1CCC(N)CC1 3KZ\n",
      "Processing 4RA4 Nc1ncc(-c2cc(N3CCOCC3)ccc2C(F)(F)F)nc1C(=O)Nc1ncccc1N1CCC(N)CC1 TPO\n",
      "Processing 4RA4 Nc1ncc(-c2cc(N3CCOCC3)ccc2C(F)(F)F)nc1C(=O)Nc1ncccc1N1CCC(N)CC1 SEP\n"
     ]
    },
    {
     "name": "stderr",
     "output_type": "stream",
     "text": [
      "==============================\n",
      "*** Open Babel Warning  in PerceiveBondOrders\n",
      "  Failed to kekulize aromatic bonds in OBMol::PerceiveBondOrders (title is /Users/wangyang/Desktop/小辣椒/07-AIDD/分子对接/data/data_4RA4/protein.pdb)\n",
      "\n"
     ]
    },
    {
     "name": "stdout",
     "output_type": "stream",
     "text": [
      "4RA4 - Detected Ligands: ['3KZ', 'TPO', 'SEP']\n",
      "Processing 4RA4 Nc1ncc(-c2cccc3[nH]ccc23)nc1C(=O)Nc1ncccc1N1CCC(N)CC1 3KZ\n",
      "Processing 4RA4 Nc1ncc(-c2cccc3[nH]ccc23)nc1C(=O)Nc1ncccc1N1CCC(N)CC1 TPO\n",
      "Processing 4RA4 Nc1ncc(-c2cccc3[nH]ccc23)nc1C(=O)Nc1ncccc1N1CCC(N)CC1 SEP\n"
     ]
    },
    {
     "name": "stderr",
     "output_type": "stream",
     "text": [
      "==============================\n",
      "*** Open Babel Warning  in PerceiveBondOrders\n",
      "  Failed to kekulize aromatic bonds in OBMol::PerceiveBondOrders (title is /Users/wangyang/Desktop/小辣椒/07-AIDD/分子对接/data/data_4RA4/protein.pdb)\n",
      "\n"
     ]
    },
    {
     "name": "stdout",
     "output_type": "stream",
     "text": [
      "4RA4 - Detected Ligands: ['3KZ', 'TPO', 'SEP']\n",
      "Processing 4RA4 Nc1ncc(-c2ccccc2)nc1C(=O)Nc1ccccc1N1CCC(N)CC1 3KZ\n",
      "Processing 4RA4 Nc1ncc(-c2ccccc2)nc1C(=O)Nc1ccccc1N1CCC(N)CC1 TPO\n",
      "Processing 4RA4 Nc1ncc(-c2ccccc2)nc1C(=O)Nc1ccccc1N1CCC(N)CC1 SEP\n"
     ]
    },
    {
     "name": "stderr",
     "output_type": "stream",
     "text": [
      "==============================\n",
      "*** Open Babel Warning  in PerceiveBondOrders\n",
      "  Failed to kekulize aromatic bonds in OBMol::PerceiveBondOrders (title is /Users/wangyang/Desktop/小辣椒/07-AIDD/分子对接/data/data_4RA4/protein.pdb)\n",
      "\n"
     ]
    },
    {
     "name": "stdout",
     "output_type": "stream",
     "text": [
      "4RA4 - Detected Ligands: ['3KZ', 'TPO', 'SEP']\n",
      "Processing 4RA4 CCOCC1(N)CCN(c2cccnc2NC(=O)c2nc(-c3ncccc3OC(F)(F)F)cnc2N)CC1 3KZ\n",
      "Processing 4RA4 CCOCC1(N)CCN(c2cccnc2NC(=O)c2nc(-c3ncccc3OC(F)(F)F)cnc2N)CC1 TPO\n",
      "Processing 4RA4 CCOCC1(N)CCN(c2cccnc2NC(=O)c2nc(-c3ncccc3OC(F)(F)F)cnc2N)CC1 SEP\n"
     ]
    },
    {
     "name": "stderr",
     "output_type": "stream",
     "text": [
      "==============================\n",
      "*** Open Babel Warning  in PerceiveBondOrders\n",
      "  Failed to kekulize aromatic bonds in OBMol::PerceiveBondOrders (title is /Users/wangyang/Desktop/小辣椒/07-AIDD/分子对接/data/data_4RA4/protein.pdb)\n",
      "\n"
     ]
    },
    {
     "name": "stdout",
     "output_type": "stream",
     "text": [
      "4RA4 - Detected Ligands: ['3KZ', 'TPO', 'SEP']\n",
      "Processing 4RA4 CC1(N)CCN(c2cccnc2NC(=O)c2nc(-c3cc(N4CCOCC4)ccc3C(F)(F)F)cnc2N)CC1 3KZ\n",
      "Processing 4RA4 CC1(N)CCN(c2cccnc2NC(=O)c2nc(-c3cc(N4CCOCC4)ccc3C(F)(F)F)cnc2N)CC1 TPO\n",
      "Processing 4RA4 CC1(N)CCN(c2cccnc2NC(=O)c2nc(-c3cc(N4CCOCC4)ccc3C(F)(F)F)cnc2N)CC1 SEP\n"
     ]
    },
    {
     "name": "stderr",
     "output_type": "stream",
     "text": [
      "==============================\n",
      "*** Open Babel Warning  in PerceiveBondOrders\n",
      "  Failed to kekulize aromatic bonds in OBMol::PerceiveBondOrders (title is /Users/wangyang/Desktop/小辣椒/07-AIDD/分子对接/data/data_4RA4/protein.pdb)\n",
      "\n"
     ]
    },
    {
     "name": "stdout",
     "output_type": "stream",
     "text": [
      "4RA4 - Detected Ligands: ['3KZ', 'TPO', 'SEP']\n",
      "Processing 4RA4 COc1ccc(-c2cnc(N)c(C(=O)Nc3cnccc3N3CCC(N)CC3)n2)cc1 3KZ\n",
      "Processing 4RA4 COc1ccc(-c2cnc(N)c(C(=O)Nc3cnccc3N3CCC(N)CC3)n2)cc1 TPO\n",
      "Processing 4RA4 COc1ccc(-c2cnc(N)c(C(=O)Nc3cnccc3N3CCC(N)CC3)n2)cc1 SEP\n"
     ]
    },
    {
     "name": "stderr",
     "output_type": "stream",
     "text": [
      "==============================\n",
      "*** Open Babel Warning  in PerceiveBondOrders\n",
      "  Failed to kekulize aromatic bonds in OBMol::PerceiveBondOrders (title is /Users/wangyang/Desktop/小辣椒/07-AIDD/分子对接/data/data_4RA4/protein.pdb)\n",
      "\n"
     ]
    },
    {
     "name": "stdout",
     "output_type": "stream",
     "text": [
      "4RA4 - Detected Ligands: ['3KZ', 'TPO', 'SEP']\n",
      "Processing 4RA4 Nc1ncc(-c2cccc(N3CCOCC3)n2)nc1C(=O)Nc1ncccc1N1CCC(N)CC1 3KZ\n",
      "Processing 4RA4 Nc1ncc(-c2cccc(N3CCOCC3)n2)nc1C(=O)Nc1ncccc1N1CCC(N)CC1 TPO\n",
      "Processing 4RA4 Nc1ncc(-c2cccc(N3CCOCC3)n2)nc1C(=O)Nc1ncccc1N1CCC(N)CC1 SEP\n"
     ]
    },
    {
     "name": "stderr",
     "output_type": "stream",
     "text": [
      "==============================\n",
      "*** Open Babel Warning  in PerceiveBondOrders\n",
      "  Failed to kekulize aromatic bonds in OBMol::PerceiveBondOrders (title is /Users/wangyang/Desktop/小辣椒/07-AIDD/分子对接/data/data_4RA4/protein.pdb)\n",
      "\n"
     ]
    },
    {
     "name": "stdout",
     "output_type": "stream",
     "text": [
      "4RA4 - Detected Ligands: ['3KZ', 'TPO', 'SEP']\n",
      "Processing 4RA4 Nc1ncc(-c2nc(N3CCC3)ccc2C(F)(F)F)nc1C(=O)Nc1ncccc1N1CCC(N)CC1 3KZ\n",
      "Processing 4RA4 Nc1ncc(-c2nc(N3CCC3)ccc2C(F)(F)F)nc1C(=O)Nc1ncccc1N1CCC(N)CC1 TPO\n",
      "Processing 4RA4 Nc1ncc(-c2nc(N3CCC3)ccc2C(F)(F)F)nc1C(=O)Nc1ncccc1N1CCC(N)CC1 SEP\n"
     ]
    },
    {
     "name": "stderr",
     "output_type": "stream",
     "text": [
      "==============================\n",
      "*** Open Babel Warning  in PerceiveBondOrders\n",
      "  Failed to kekulize aromatic bonds in OBMol::PerceiveBondOrders (title is /Users/wangyang/Desktop/小辣椒/07-AIDD/分子对接/data/data_4RA4/protein.pdb)\n",
      "\n"
     ]
    },
    {
     "name": "stdout",
     "output_type": "stream",
     "text": [
      "4RA4 - Detected Ligands: ['3KZ', 'TPO', 'SEP']\n",
      "Processing 4RA4 Nc1ncc(-c2ncccc2OC(F)(F)F)nc1C(=O)Nc1ncccc1N1CCC(N)(CO)CC1 3KZ\n",
      "Processing 4RA4 Nc1ncc(-c2ncccc2OC(F)(F)F)nc1C(=O)Nc1ncccc1N1CCC(N)(CO)CC1 TPO\n",
      "Processing 4RA4 Nc1ncc(-c2ncccc2OC(F)(F)F)nc1C(=O)Nc1ncccc1N1CCC(N)(CO)CC1 SEP\n"
     ]
    },
    {
     "name": "stderr",
     "output_type": "stream",
     "text": [
      "==============================\n",
      "*** Open Babel Warning  in PerceiveBondOrders\n",
      "  Failed to kekulize aromatic bonds in OBMol::PerceiveBondOrders (title is /Users/wangyang/Desktop/小辣椒/07-AIDD/分子对接/data/data_4RA4/protein.pdb)\n",
      "\n"
     ]
    },
    {
     "name": "stdout",
     "output_type": "stream",
     "text": [
      "4RA4 - Detected Ligands: ['3KZ', 'TPO', 'SEP']\n",
      "Processing 4RA4 NC(=O)c1ccccc1Nc1nc(Nc2ccc(N3CCCC3=O)cc2)ncc1Cl 3KZ\n",
      "Processing 4RA4 NC(=O)c1ccccc1Nc1nc(Nc2ccc(N3CCCC3=O)cc2)ncc1Cl TPO\n",
      "Processing 4RA4 NC(=O)c1ccccc1Nc1nc(Nc2ccc(N3CCCC3=O)cc2)ncc1Cl SEP\n"
     ]
    },
    {
     "name": "stderr",
     "output_type": "stream",
     "text": [
      "==============================\n",
      "*** Open Babel Warning  in PerceiveBondOrders\n",
      "  Failed to kekulize aromatic bonds in OBMol::PerceiveBondOrders (title is /Users/wangyang/Desktop/小辣椒/07-AIDD/分子对接/data/data_4RA4/protein.pdb)\n",
      "\n"
     ]
    },
    {
     "name": "stdout",
     "output_type": "stream",
     "text": [
      "4RA4 - Detected Ligands: ['3KZ', 'TPO', 'SEP']\n",
      "Processing 4RA4 Nc1ncc(-c2ncccc2OC(F)(F)F)nc1C(=O)Nc1ncccc1N1CCC(N)CC1 3KZ\n",
      "Processing 4RA4 Nc1ncc(-c2ncccc2OC(F)(F)F)nc1C(=O)Nc1ncccc1N1CCC(N)CC1 TPO\n",
      "Processing 4RA4 Nc1ncc(-c2ncccc2OC(F)(F)F)nc1C(=O)Nc1ncccc1N1CCC(N)CC1 SEP\n"
     ]
    },
    {
     "name": "stderr",
     "output_type": "stream",
     "text": [
      "==============================\n",
      "*** Open Babel Warning  in PerceiveBondOrders\n",
      "  Failed to kekulize aromatic bonds in OBMol::PerceiveBondOrders (title is /Users/wangyang/Desktop/小辣椒/07-AIDD/分子对接/data/data_4RA4/protein.pdb)\n",
      "\n"
     ]
    },
    {
     "name": "stdout",
     "output_type": "stream",
     "text": [
      "4RA4 - Detected Ligands: ['3KZ', 'TPO', 'SEP']\n",
      "Processing 4RA4 Nc1ncc(-c2ncccc2OC(F)(F)F)nc1C(=O)Nc1ncccc1N1CC[C@@H](N)[C@@H](F)C1 3KZ\n",
      "Processing 4RA4 Nc1ncc(-c2ncccc2OC(F)(F)F)nc1C(=O)Nc1ncccc1N1CC[C@@H](N)[C@@H](F)C1 TPO\n",
      "Processing 4RA4 Nc1ncc(-c2ncccc2OC(F)(F)F)nc1C(=O)Nc1ncccc1N1CC[C@@H](N)[C@@H](F)C1 SEP\n"
     ]
    },
    {
     "name": "stderr",
     "output_type": "stream",
     "text": [
      "==============================\n",
      "*** Open Babel Warning  in PerceiveBondOrders\n",
      "  Failed to kekulize aromatic bonds in OBMol::PerceiveBondOrders (title is /Users/wangyang/Desktop/小辣椒/07-AIDD/分子对接/data/data_4RA4/protein.pdb)\n",
      "\n"
     ]
    },
    {
     "name": "stdout",
     "output_type": "stream",
     "text": [
      "4RA4 - Detected Ligands: ['3KZ', 'TPO', 'SEP']\n",
      "Processing 4RA4 C[C@H](CO)Nc1ccc(C(F)(F)F)c(-c2cnc(N)c(C(=O)Nc3ncccc3N3CCC(C)(N)CC3)n2)n1 3KZ\n",
      "Processing 4RA4 C[C@H](CO)Nc1ccc(C(F)(F)F)c(-c2cnc(N)c(C(=O)Nc3ncccc3N3CCC(C)(N)CC3)n2)n1 TPO\n",
      "Processing 4RA4 C[C@H](CO)Nc1ccc(C(F)(F)F)c(-c2cnc(N)c(C(=O)Nc3ncccc3N3CCC(C)(N)CC3)n2)n1 SEP\n"
     ]
    },
    {
     "name": "stderr",
     "output_type": "stream",
     "text": [
      "==============================\n",
      "*** Open Babel Warning  in PerceiveBondOrders\n",
      "  Failed to kekulize aromatic bonds in OBMol::PerceiveBondOrders (title is /Users/wangyang/Desktop/小辣椒/07-AIDD/分子对接/data/data_4RA4/protein.pdb)\n",
      "\n"
     ]
    },
    {
     "name": "stdout",
     "output_type": "stream",
     "text": [
      "4RA4 - Detected Ligands: ['3KZ', 'TPO', 'SEP']\n",
      "Processing 4RA4 Cn1ncc2c(-c3cnc(N)c(C(=O)Nc4ncccc4N4CCC(N)CC4)n3)ncnc21 3KZ\n",
      "Processing 4RA4 Cn1ncc2c(-c3cnc(N)c(C(=O)Nc4ncccc4N4CCC(N)CC4)n3)ncnc21 TPO\n",
      "Processing 4RA4 Cn1ncc2c(-c3cnc(N)c(C(=O)Nc4ncccc4N4CCC(N)CC4)n3)ncnc21 SEP\n"
     ]
    },
    {
     "name": "stderr",
     "output_type": "stream",
     "text": [
      "==============================\n",
      "*** Open Babel Warning  in PerceiveBondOrders\n",
      "  Failed to kekulize aromatic bonds in OBMol::PerceiveBondOrders (title is /Users/wangyang/Desktop/小辣椒/07-AIDD/分子对接/data/data_4RA4/protein.pdb)\n",
      "\n"
     ]
    },
    {
     "name": "stdout",
     "output_type": "stream",
     "text": [
      "4RA4 - Detected Ligands: ['3KZ', 'TPO', 'SEP']\n",
      "Processing 4RA4 Nc1ncc(-c2ccnc(N3CCOCC3)n2)nc1C(=O)Nc1ncccc1N1CCC(N)CC1 3KZ\n",
      "Processing 4RA4 Nc1ncc(-c2ccnc(N3CCOCC3)n2)nc1C(=O)Nc1ncccc1N1CCC(N)CC1 TPO\n",
      "Processing 4RA4 Nc1ncc(-c2ccnc(N3CCOCC3)n2)nc1C(=O)Nc1ncccc1N1CCC(N)CC1 SEP\n"
     ]
    },
    {
     "name": "stderr",
     "output_type": "stream",
     "text": [
      "==============================\n",
      "*** Open Babel Warning  in PerceiveBondOrders\n",
      "  Failed to kekulize aromatic bonds in OBMol::PerceiveBondOrders (title is /Users/wangyang/Desktop/小辣椒/07-AIDD/分子对接/data/data_4RA4/protein.pdb)\n",
      "\n"
     ]
    },
    {
     "name": "stdout",
     "output_type": "stream",
     "text": [
      "4RA4 - Detected Ligands: ['3KZ', 'TPO', 'SEP']\n",
      "Processing 4RA4 Nc1ncc(-c2ncccc2OC(F)(F)F)nc1C(=O)Nc1ncccc1N1CCC(N)C(F)C1 3KZ\n",
      "Processing 4RA4 Nc1ncc(-c2ncccc2OC(F)(F)F)nc1C(=O)Nc1ncccc1N1CCC(N)C(F)C1 TPO\n",
      "Processing 4RA4 Nc1ncc(-c2ncccc2OC(F)(F)F)nc1C(=O)Nc1ncccc1N1CCC(N)C(F)C1 SEP\n"
     ]
    },
    {
     "name": "stderr",
     "output_type": "stream",
     "text": [
      "==============================\n",
      "*** Open Babel Warning  in PerceiveBondOrders\n",
      "  Failed to kekulize aromatic bonds in OBMol::PerceiveBondOrders (title is /Users/wangyang/Desktop/小辣椒/07-AIDD/分子对接/data/data_4RA4/protein.pdb)\n",
      "\n"
     ]
    },
    {
     "name": "stdout",
     "output_type": "stream",
     "text": [
      "4RA4 - Detected Ligands: ['3KZ', 'TPO', 'SEP']\n",
      "Processing 4RA4 C[C@H]1COCCN1c1ccc(C(F)(F)F)c(-c2cnc(N)c(C(=O)Nc3ncccc3N3CCC(C)(N)CC3)n2)n1 3KZ\n",
      "Processing 4RA4 C[C@H]1COCCN1c1ccc(C(F)(F)F)c(-c2cnc(N)c(C(=O)Nc3ncccc3N3CCC(C)(N)CC3)n2)n1 TPO\n",
      "Processing 4RA4 C[C@H]1COCCN1c1ccc(C(F)(F)F)c(-c2cnc(N)c(C(=O)Nc3ncccc3N3CCC(C)(N)CC3)n2)n1 SEP\n"
     ]
    },
    {
     "name": "stderr",
     "output_type": "stream",
     "text": [
      "==============================\n",
      "*** Open Babel Warning  in PerceiveBondOrders\n",
      "  Failed to kekulize aromatic bonds in OBMol::PerceiveBondOrders (title is /Users/wangyang/Desktop/小辣椒/07-AIDD/分子对接/data/data_4RA4/protein.pdb)\n",
      "\n"
     ]
    },
    {
     "name": "stdout",
     "output_type": "stream",
     "text": [
      "4RA4 - Detected Ligands: ['3KZ', 'TPO', 'SEP']\n",
      "Processing 4RA4 Nc1ncc(-c2ncccc2F)nc1C(=O)Nc1ncccc1N1CCC(N)CC1 3KZ\n",
      "Processing 4RA4 Nc1ncc(-c2ncccc2F)nc1C(=O)Nc1ncccc1N1CCC(N)CC1 TPO\n",
      "Processing 4RA4 Nc1ncc(-c2ncccc2F)nc1C(=O)Nc1ncccc1N1CCC(N)CC1 SEP\n"
     ]
    },
    {
     "name": "stderr",
     "output_type": "stream",
     "text": [
      "==============================\n",
      "*** Open Babel Warning  in PerceiveBondOrders\n",
      "  Failed to kekulize aromatic bonds in OBMol::PerceiveBondOrders (title is /Users/wangyang/Desktop/小辣椒/07-AIDD/分子对接/data/data_4RA4/protein.pdb)\n",
      "\n"
     ]
    },
    {
     "name": "stdout",
     "output_type": "stream",
     "text": [
      "4RA4 - Detected Ligands: ['3KZ', 'TPO', 'SEP']\n",
      "Processing 4RA4 Nc1ncc(-c2ncnc3[nH]cc(F)c23)nc1C(=O)Nc1ncccc1N1CCC(N)CC1 3KZ\n",
      "Processing 4RA4 Nc1ncc(-c2ncnc3[nH]cc(F)c23)nc1C(=O)Nc1ncccc1N1CCC(N)CC1 TPO\n",
      "Processing 4RA4 Nc1ncc(-c2ncnc3[nH]cc(F)c23)nc1C(=O)Nc1ncccc1N1CCC(N)CC1 SEP\n"
     ]
    },
    {
     "name": "stderr",
     "output_type": "stream",
     "text": [
      "==============================\n",
      "*** Open Babel Warning  in PerceiveBondOrders\n",
      "  Failed to kekulize aromatic bonds in OBMol::PerceiveBondOrders (title is /Users/wangyang/Desktop/小辣椒/07-AIDD/分子对接/data/data_4RA4/protein.pdb)\n",
      "\n"
     ]
    },
    {
     "name": "stdout",
     "output_type": "stream",
     "text": [
      "4RA4 - Detected Ligands: ['3KZ', 'TPO', 'SEP']\n",
      "Processing 4RA4 CC1(N)CCN(c2cccnc2NC(=O)c2nc(-c3nc(N)ncc3Cl)cnc2N)CC1 3KZ\n",
      "Processing 4RA4 CC1(N)CCN(c2cccnc2NC(=O)c2nc(-c3nc(N)ncc3Cl)cnc2N)CC1 TPO\n",
      "Processing 4RA4 CC1(N)CCN(c2cccnc2NC(=O)c2nc(-c3nc(N)ncc3Cl)cnc2N)CC1 SEP\n"
     ]
    },
    {
     "name": "stderr",
     "output_type": "stream",
     "text": [
      "==============================\n",
      "*** Open Babel Warning  in PerceiveBondOrders\n",
      "  Failed to kekulize aromatic bonds in OBMol::PerceiveBondOrders (title is /Users/wangyang/Desktop/小辣椒/07-AIDD/分子对接/data/data_4RA4/protein.pdb)\n",
      "\n"
     ]
    },
    {
     "name": "stdout",
     "output_type": "stream",
     "text": [
      "4RA4 - Detected Ligands: ['3KZ', 'TPO', 'SEP']\n",
      "Processing 4RA4 COC1CN(c2cccnc2NC(=O)c2nc(-c3ncccc3OC(F)(F)F)cnc2N)CCC1N 3KZ\n",
      "Processing 4RA4 COC1CN(c2cccnc2NC(=O)c2nc(-c3ncccc3OC(F)(F)F)cnc2N)CCC1N TPO\n",
      "Processing 4RA4 COC1CN(c2cccnc2NC(=O)c2nc(-c3ncccc3OC(F)(F)F)cnc2N)CCC1N SEP\n"
     ]
    },
    {
     "name": "stderr",
     "output_type": "stream",
     "text": [
      "==============================\n",
      "*** Open Babel Warning  in PerceiveBondOrders\n",
      "  Failed to kekulize aromatic bonds in OBMol::PerceiveBondOrders (title is /Users/wangyang/Desktop/小辣椒/07-AIDD/分子对接/data/data_4RA4/protein.pdb)\n",
      "\n"
     ]
    },
    {
     "name": "stdout",
     "output_type": "stream",
     "text": [
      "4RA4 - Detected Ligands: ['3KZ', 'TPO', 'SEP']\n",
      "Processing 4RA4 CC1(N)CCN(c2cccnc2NC(=O)c2nc(-c3ncccc3C#N)cnc2N)CC1 3KZ\n",
      "Processing 4RA4 CC1(N)CCN(c2cccnc2NC(=O)c2nc(-c3ncccc3C#N)cnc2N)CC1 TPO\n",
      "Processing 4RA4 CC1(N)CCN(c2cccnc2NC(=O)c2nc(-c3ncccc3C#N)cnc2N)CC1 SEP\n"
     ]
    },
    {
     "name": "stderr",
     "output_type": "stream",
     "text": [
      "==============================\n",
      "*** Open Babel Warning  in PerceiveBondOrders\n",
      "  Failed to kekulize aromatic bonds in OBMol::PerceiveBondOrders (title is /Users/wangyang/Desktop/小辣椒/07-AIDD/分子对接/data/data_4RA4/protein.pdb)\n",
      "\n"
     ]
    },
    {
     "name": "stdout",
     "output_type": "stream",
     "text": [
      "4RA4 - Detected Ligands: ['3KZ', 'TPO', 'SEP']\n",
      "Processing 4RA4 CC1(N)CCN(c2cccnc2NC(=O)c2nc(-c3nc(C4CC4)ccc3C(F)(F)F)cnc2N)CC1 3KZ\n",
      "Processing 4RA4 CC1(N)CCN(c2cccnc2NC(=O)c2nc(-c3nc(C4CC4)ccc3C(F)(F)F)cnc2N)CC1 TPO\n",
      "Processing 4RA4 CC1(N)CCN(c2cccnc2NC(=O)c2nc(-c3nc(C4CC4)ccc3C(F)(F)F)cnc2N)CC1 SEP\n"
     ]
    },
    {
     "name": "stderr",
     "output_type": "stream",
     "text": [
      "==============================\n",
      "*** Open Babel Warning  in PerceiveBondOrders\n",
      "  Failed to kekulize aromatic bonds in OBMol::PerceiveBondOrders (title is /Users/wangyang/Desktop/小辣椒/07-AIDD/分子对接/data/data_4RA4/protein.pdb)\n",
      "\n"
     ]
    },
    {
     "name": "stdout",
     "output_type": "stream",
     "text": [
      "4RA4 - Detected Ligands: ['3KZ', 'TPO', 'SEP']\n",
      "Processing 4RA4 CC1(N)CCN(c2cccnc2NC(=O)c2nc(-c3nc(C(N)=O)ncc3F)cnc2N)CC1 3KZ\n",
      "Processing 4RA4 CC1(N)CCN(c2cccnc2NC(=O)c2nc(-c3nc(C(N)=O)ncc3F)cnc2N)CC1 TPO\n",
      "Processing 4RA4 CC1(N)CCN(c2cccnc2NC(=O)c2nc(-c3nc(C(N)=O)ncc3F)cnc2N)CC1 SEP\n"
     ]
    },
    {
     "name": "stderr",
     "output_type": "stream",
     "text": [
      "==============================\n",
      "*** Open Babel Warning  in PerceiveBondOrders\n",
      "  Failed to kekulize aromatic bonds in OBMol::PerceiveBondOrders (title is /Users/wangyang/Desktop/小辣椒/07-AIDD/分子对接/data/data_4RA4/protein.pdb)\n",
      "\n"
     ]
    },
    {
     "name": "stdout",
     "output_type": "stream",
     "text": [
      "4RA4 - Detected Ligands: ['3KZ', 'TPO', 'SEP']\n",
      "Processing 4RA4 Nc1ncc(-c2ncnc3c2CCCC3)nc1C(=O)Nc1ncccc1N1CCC(N)CC1 3KZ\n",
      "Processing 4RA4 Nc1ncc(-c2ncnc3c2CCCC3)nc1C(=O)Nc1ncccc1N1CCC(N)CC1 TPO\n",
      "Processing 4RA4 Nc1ncc(-c2ncnc3c2CCCC3)nc1C(=O)Nc1ncccc1N1CCC(N)CC1 SEP\n"
     ]
    },
    {
     "name": "stderr",
     "output_type": "stream",
     "text": [
      "==============================\n",
      "*** Open Babel Warning  in PerceiveBondOrders\n",
      "  Failed to kekulize aromatic bonds in OBMol::PerceiveBondOrders (title is /Users/wangyang/Desktop/小辣椒/07-AIDD/分子对接/data/data_4RA4/protein.pdb)\n",
      "\n"
     ]
    },
    {
     "name": "stdout",
     "output_type": "stream",
     "text": [
      "4RA4 - Detected Ligands: ['3KZ', 'TPO', 'SEP']\n",
      "Processing 4RA4 Nc1ncc(-c2nc(C(F)(F)F)ccc2C(F)(F)F)nc1C(=O)Nc1ncccc1N1CCC(N)CC1 3KZ\n",
      "Processing 4RA4 Nc1ncc(-c2nc(C(F)(F)F)ccc2C(F)(F)F)nc1C(=O)Nc1ncccc1N1CCC(N)CC1 TPO\n",
      "Processing 4RA4 Nc1ncc(-c2nc(C(F)(F)F)ccc2C(F)(F)F)nc1C(=O)Nc1ncccc1N1CCC(N)CC1 SEP\n"
     ]
    },
    {
     "name": "stderr",
     "output_type": "stream",
     "text": [
      "==============================\n",
      "*** Open Babel Warning  in PerceiveBondOrders\n",
      "  Failed to kekulize aromatic bonds in OBMol::PerceiveBondOrders (title is /Users/wangyang/Desktop/小辣椒/07-AIDD/分子对接/data/data_4RA4/protein.pdb)\n",
      "\n"
     ]
    },
    {
     "name": "stdout",
     "output_type": "stream",
     "text": [
      "4RA4 - Detected Ligands: ['3KZ', 'TPO', 'SEP']\n",
      "Processing 4RA4 CC1(N)CCN(c2cccnc2NC(=O)c2nc(-c3nc(C#N)ncc3C(F)(F)F)cnc2N)CC1 3KZ\n",
      "Processing 4RA4 CC1(N)CCN(c2cccnc2NC(=O)c2nc(-c3nc(C#N)ncc3C(F)(F)F)cnc2N)CC1 TPO\n",
      "Processing 4RA4 CC1(N)CCN(c2cccnc2NC(=O)c2nc(-c3nc(C#N)ncc3C(F)(F)F)cnc2N)CC1 SEP\n"
     ]
    },
    {
     "name": "stderr",
     "output_type": "stream",
     "text": [
      "==============================\n",
      "*** Open Babel Warning  in PerceiveBondOrders\n",
      "  Failed to kekulize aromatic bonds in OBMol::PerceiveBondOrders (title is /Users/wangyang/Desktop/小辣椒/07-AIDD/分子对接/data/data_4RA4/protein.pdb)\n",
      "\n"
     ]
    },
    {
     "name": "stdout",
     "output_type": "stream",
     "text": [
      "4RA4 - Detected Ligands: ['3KZ', 'TPO', 'SEP']\n",
      "Processing 4RA4 CC1(N)CCN(c2cccnc2NC(=O)c2nc(-c3nccc(Cl)c3C(F)(F)F)cnc2N)CC1 3KZ\n",
      "Processing 4RA4 CC1(N)CCN(c2cccnc2NC(=O)c2nc(-c3nccc(Cl)c3C(F)(F)F)cnc2N)CC1 TPO\n",
      "Processing 4RA4 CC1(N)CCN(c2cccnc2NC(=O)c2nc(-c3nccc(Cl)c3C(F)(F)F)cnc2N)CC1 SEP\n"
     ]
    },
    {
     "name": "stderr",
     "output_type": "stream",
     "text": [
      "==============================\n",
      "*** Open Babel Warning  in PerceiveBondOrders\n",
      "  Failed to kekulize aromatic bonds in OBMol::PerceiveBondOrders (title is /Users/wangyang/Desktop/小辣椒/07-AIDD/分子对接/data/data_4RA4/protein.pdb)\n",
      "\n"
     ]
    },
    {
     "name": "stdout",
     "output_type": "stream",
     "text": [
      "4RA4 - Detected Ligands: ['3KZ', 'TPO', 'SEP']\n",
      "Processing 4RA4 Nc1ncc(-c2nc(N3CCOCC3)ccc2C(F)(F)F)nc1C(=O)Nc1ncccc1N1C[C@H]2CC[C@@H](C1)[C@@H]2N 3KZ\n",
      "Processing 4RA4 Nc1ncc(-c2nc(N3CCOCC3)ccc2C(F)(F)F)nc1C(=O)Nc1ncccc1N1C[C@H]2CC[C@@H](C1)[C@@H]2N TPO\n",
      "Processing 4RA4 Nc1ncc(-c2nc(N3CCOCC3)ccc2C(F)(F)F)nc1C(=O)Nc1ncccc1N1C[C@H]2CC[C@@H](C1)[C@@H]2N SEP\n"
     ]
    },
    {
     "name": "stderr",
     "output_type": "stream",
     "text": [
      "==============================\n",
      "*** Open Babel Warning  in PerceiveBondOrders\n",
      "  Failed to kekulize aromatic bonds in OBMol::PerceiveBondOrders (title is /Users/wangyang/Desktop/小辣椒/07-AIDD/分子对接/data/data_4RA4/protein.pdb)\n",
      "\n"
     ]
    },
    {
     "name": "stdout",
     "output_type": "stream",
     "text": [
      "4RA4 - Detected Ligands: ['3KZ', 'TPO', 'SEP']\n",
      "Processing 4RA4 CC1CN(c2ccc(C(F)(F)F)c(-c3cnc(N)c(C(=O)Nc4ncccc4N4CCC(C)(N)CC4)n3)n2)CCO1 3KZ\n",
      "Processing 4RA4 CC1CN(c2ccc(C(F)(F)F)c(-c3cnc(N)c(C(=O)Nc4ncccc4N4CCC(C)(N)CC4)n3)n2)CCO1 TPO\n",
      "Processing 4RA4 CC1CN(c2ccc(C(F)(F)F)c(-c3cnc(N)c(C(=O)Nc4ncccc4N4CCC(C)(N)CC4)n3)n2)CCO1 SEP\n"
     ]
    },
    {
     "name": "stderr",
     "output_type": "stream",
     "text": [
      "==============================\n",
      "*** Open Babel Warning  in PerceiveBondOrders\n",
      "  Failed to kekulize aromatic bonds in OBMol::PerceiveBondOrders (title is /Users/wangyang/Desktop/小辣椒/07-AIDD/分子对接/data/data_4RA4/protein.pdb)\n",
      "\n"
     ]
    },
    {
     "name": "stdout",
     "output_type": "stream",
     "text": [
      "4RA4 - Detected Ligands: ['3KZ', 'TPO', 'SEP']\n",
      "Processing 4RA4 COc1ccnc(-c2cnc(N)c(C(=O)Nc3ncccc3N3CCC(N)(CC#N)CC3)n2)c1C#N 3KZ\n",
      "Processing 4RA4 COc1ccnc(-c2cnc(N)c(C(=O)Nc3ncccc3N3CCC(N)(CC#N)CC3)n2)c1C#N TPO\n",
      "Processing 4RA4 COc1ccnc(-c2cnc(N)c(C(=O)Nc3ncccc3N3CCC(N)(CC#N)CC3)n2)c1C#N SEP\n"
     ]
    },
    {
     "name": "stderr",
     "output_type": "stream",
     "text": [
      "==============================\n",
      "*** Open Babel Warning  in PerceiveBondOrders\n",
      "  Failed to kekulize aromatic bonds in OBMol::PerceiveBondOrders (title is /Users/wangyang/Desktop/小辣椒/07-AIDD/分子对接/data/data_4RA4/protein.pdb)\n",
      "\n"
     ]
    },
    {
     "name": "stdout",
     "output_type": "stream",
     "text": [
      "4RA4 - Detected Ligands: ['3KZ', 'TPO', 'SEP']\n",
      "Processing 4RA4 CN(C)c1ccc(C(F)(F)F)c(-c2cnc(N)c(C(=O)Nc3ncccc3N3CCC(C)(N)CC3)n2)n1 3KZ\n",
      "Processing 4RA4 CN(C)c1ccc(C(F)(F)F)c(-c2cnc(N)c(C(=O)Nc3ncccc3N3CCC(C)(N)CC3)n2)n1 TPO\n",
      "Processing 4RA4 CN(C)c1ccc(C(F)(F)F)c(-c2cnc(N)c(C(=O)Nc3ncccc3N3CCC(C)(N)CC3)n2)n1 SEP\n"
     ]
    },
    {
     "name": "stderr",
     "output_type": "stream",
     "text": [
      "==============================\n",
      "*** Open Babel Warning  in PerceiveBondOrders\n",
      "  Failed to kekulize aromatic bonds in OBMol::PerceiveBondOrders (title is /Users/wangyang/Desktop/小辣椒/07-AIDD/分子对接/data/data_4RA4/protein.pdb)\n",
      "\n"
     ]
    },
    {
     "name": "stdout",
     "output_type": "stream",
     "text": [
      "4RA4 - Detected Ligands: ['3KZ', 'TPO', 'SEP']\n",
      "Processing 4RA4 COc1ccnc(-c2cnc(N)c(C(=O)Nc3ncccc3N3CCC(C)(N)CC3)n2)c1F 3KZ\n",
      "Processing 4RA4 COc1ccnc(-c2cnc(N)c(C(=O)Nc3ncccc3N3CCC(C)(N)CC3)n2)c1F TPO\n",
      "Processing 4RA4 COc1ccnc(-c2cnc(N)c(C(=O)Nc3ncccc3N3CCC(C)(N)CC3)n2)c1F SEP\n"
     ]
    },
    {
     "name": "stderr",
     "output_type": "stream",
     "text": [
      "==============================\n",
      "*** Open Babel Warning  in PerceiveBondOrders\n",
      "  Failed to kekulize aromatic bonds in OBMol::PerceiveBondOrders (title is /Users/wangyang/Desktop/小辣椒/07-AIDD/分子对接/data/data_4RA4/protein.pdb)\n",
      "\n"
     ]
    },
    {
     "name": "stdout",
     "output_type": "stream",
     "text": [
      "4RA4 - Detected Ligands: ['3KZ', 'TPO', 'SEP']\n",
      "Processing 4RA4 CC1(N)CCN(c2cccnc2NC(=O)c2nc(-c3nc(N4CCOCC4)ccc3C(F)(F)F)cnc2N)CC1 3KZ\n",
      "Processing 4RA4 CC1(N)CCN(c2cccnc2NC(=O)c2nc(-c3nc(N4CCOCC4)ccc3C(F)(F)F)cnc2N)CC1 TPO\n",
      "Processing 4RA4 CC1(N)CCN(c2cccnc2NC(=O)c2nc(-c3nc(N4CCOCC4)ccc3C(F)(F)F)cnc2N)CC1 SEP\n"
     ]
    },
    {
     "name": "stderr",
     "output_type": "stream",
     "text": [
      "==============================\n",
      "*** Open Babel Warning  in PerceiveBondOrders\n",
      "  Failed to kekulize aromatic bonds in OBMol::PerceiveBondOrders (title is /Users/wangyang/Desktop/小辣椒/07-AIDD/分子对接/data/data_4RA4/protein.pdb)\n",
      "\n"
     ]
    },
    {
     "name": "stdout",
     "output_type": "stream",
     "text": [
      "4RA4 - Detected Ligands: ['3KZ', 'TPO', 'SEP']\n",
      "Processing 4RA4 NC(=O)c1ccccc1Nc1nc(Nc2ccc(N3CCOCC3)cc2F)ncc1Cl 3KZ\n",
      "Processing 4RA4 NC(=O)c1ccccc1Nc1nc(Nc2ccc(N3CCOCC3)cc2F)ncc1Cl TPO\n",
      "Processing 4RA4 NC(=O)c1ccccc1Nc1nc(Nc2ccc(N3CCOCC3)cc2F)ncc1Cl SEP\n"
     ]
    },
    {
     "name": "stderr",
     "output_type": "stream",
     "text": [
      "==============================\n",
      "*** Open Babel Warning  in PerceiveBondOrders\n",
      "  Failed to kekulize aromatic bonds in OBMol::PerceiveBondOrders (title is /Users/wangyang/Desktop/小辣椒/07-AIDD/分子对接/data/data_4RA4/protein.pdb)\n",
      "\n"
     ]
    },
    {
     "name": "stdout",
     "output_type": "stream",
     "text": [
      "4RA4 - Detected Ligands: ['3KZ', 'TPO', 'SEP']\n",
      "Processing 4RA4 CC1(N)CCN(c2cccnc2NC(=O)c2nc(-c3nccc(OC(F)(F)F)c3C#N)cnc2N)CC1 3KZ\n",
      "Processing 4RA4 CC1(N)CCN(c2cccnc2NC(=O)c2nc(-c3nccc(OC(F)(F)F)c3C#N)cnc2N)CC1 TPO\n",
      "Processing 4RA4 CC1(N)CCN(c2cccnc2NC(=O)c2nc(-c3nccc(OC(F)(F)F)c3C#N)cnc2N)CC1 SEP\n"
     ]
    },
    {
     "name": "stderr",
     "output_type": "stream",
     "text": [
      "==============================\n",
      "*** Open Babel Warning  in PerceiveBondOrders\n",
      "  Failed to kekulize aromatic bonds in OBMol::PerceiveBondOrders (title is /Users/wangyang/Desktop/小辣椒/07-AIDD/分子对接/data/data_4RA4/protein.pdb)\n",
      "\n"
     ]
    },
    {
     "name": "stdout",
     "output_type": "stream",
     "text": [
      "4RA4 - Detected Ligands: ['3KZ', 'TPO', 'SEP']\n",
      "Processing 4RA4 CCC1(N)CCN(c2cccnc2NC(=O)c2nc(-c3ncccc3OC(F)(F)F)cnc2N)CC1 3KZ\n",
      "Processing 4RA4 CCC1(N)CCN(c2cccnc2NC(=O)c2nc(-c3ncccc3OC(F)(F)F)cnc2N)CC1 TPO\n",
      "Processing 4RA4 CCC1(N)CCN(c2cccnc2NC(=O)c2nc(-c3ncccc3OC(F)(F)F)cnc2N)CC1 SEP\n"
     ]
    },
    {
     "name": "stderr",
     "output_type": "stream",
     "text": [
      "==============================\n",
      "*** Open Babel Warning  in PerceiveBondOrders\n",
      "  Failed to kekulize aromatic bonds in OBMol::PerceiveBondOrders (title is /Users/wangyang/Desktop/小辣椒/07-AIDD/分子对接/data/data_8U37/protein.pdb)\n",
      "\n"
     ]
    },
    {
     "name": "stdout",
     "output_type": "stream",
     "text": [
      "8U37 - Detected Ligands: ['MG', 'TPO', 'V5U']\n",
      "Processing 8U37 CC1(N)CCN(c2cccnc2NC(=O)c2nc(-c3nc(N4CCOCC4)cc4ccccc34)cnc2N)CC1 MG\n",
      "Processing 8U37 CC1(N)CCN(c2cccnc2NC(=O)c2nc(-c3nc(N4CCOCC4)cc4ccccc34)cnc2N)CC1 TPO\n",
      "Processing 8U37 CC1(N)CCN(c2cccnc2NC(=O)c2nc(-c3nc(N4CCOCC4)cc4ccccc34)cnc2N)CC1 V5U\n"
     ]
    },
    {
     "name": "stderr",
     "output_type": "stream",
     "text": [
      "==============================\n",
      "*** Open Babel Warning  in PerceiveBondOrders\n",
      "  Failed to kekulize aromatic bonds in OBMol::PerceiveBondOrders (title is /Users/wangyang/Desktop/小辣椒/07-AIDD/分子对接/data/data_8U37/protein.pdb)\n",
      "\n"
     ]
    },
    {
     "name": "stdout",
     "output_type": "stream",
     "text": [
      "8U37 - Detected Ligands: ['MG', 'TPO', 'V5U']\n",
      "Processing 8U37 Nc1ncc(-c2cccc(N3CCOCC3)c2)nc1C(=O)Nc1ncccc1N1CCC(N)CC1 MG\n",
      "Processing 8U37 Nc1ncc(-c2cccc(N3CCOCC3)c2)nc1C(=O)Nc1ncccc1N1CCC(N)CC1 TPO\n",
      "Processing 8U37 Nc1ncc(-c2cccc(N3CCOCC3)c2)nc1C(=O)Nc1ncccc1N1CCC(N)CC1 V5U\n"
     ]
    },
    {
     "name": "stderr",
     "output_type": "stream",
     "text": [
      "==============================\n",
      "*** Open Babel Warning  in PerceiveBondOrders\n",
      "  Failed to kekulize aromatic bonds in OBMol::PerceiveBondOrders (title is /Users/wangyang/Desktop/小辣椒/07-AIDD/分子对接/data/data_8U37/protein.pdb)\n",
      "\n"
     ]
    },
    {
     "name": "stdout",
     "output_type": "stream",
     "text": [
      "8U37 - Detected Ligands: ['MG', 'TPO', 'V5U']\n",
      "Processing 8U37 Nc1ncc(-c2cccc3[nH]ncc23)nc1C(=O)Nc1ncccc1N1CCC(N)CC1 MG\n",
      "Processing 8U37 Nc1ncc(-c2cccc3[nH]ncc23)nc1C(=O)Nc1ncccc1N1CCC(N)CC1 TPO\n",
      "Processing 8U37 Nc1ncc(-c2cccc3[nH]ncc23)nc1C(=O)Nc1ncccc1N1CCC(N)CC1 V5U\n"
     ]
    },
    {
     "name": "stderr",
     "output_type": "stream",
     "text": [
      "==============================\n",
      "*** Open Babel Warning  in PerceiveBondOrders\n",
      "  Failed to kekulize aromatic bonds in OBMol::PerceiveBondOrders (title is /Users/wangyang/Desktop/小辣椒/07-AIDD/分子对接/data/data_8U37/protein.pdb)\n",
      "\n"
     ]
    },
    {
     "name": "stdout",
     "output_type": "stream",
     "text": [
      "8U37 - Detected Ligands: ['MG', 'TPO', 'V5U']\n",
      "Processing 8U37 Cc1cc2c(-c3cnc(N)c(C(=O)Nc4ncccc4N4CCC(N)CC4)n3)cccc2[nH]1 MG\n",
      "Processing 8U37 Cc1cc2c(-c3cnc(N)c(C(=O)Nc4ncccc4N4CCC(N)CC4)n3)cccc2[nH]1 TPO\n",
      "Processing 8U37 Cc1cc2c(-c3cnc(N)c(C(=O)Nc4ncccc4N4CCC(N)CC4)n3)cccc2[nH]1 V5U\n"
     ]
    },
    {
     "name": "stderr",
     "output_type": "stream",
     "text": [
      "==============================\n",
      "*** Open Babel Warning  in PerceiveBondOrders\n",
      "  Failed to kekulize aromatic bonds in OBMol::PerceiveBondOrders (title is /Users/wangyang/Desktop/小辣椒/07-AIDD/分子对接/data/data_8U37/protein.pdb)\n",
      "\n"
     ]
    },
    {
     "name": "stdout",
     "output_type": "stream",
     "text": [
      "8U37 - Detected Ligands: ['MG', 'TPO', 'V5U']\n",
      "Processing 8U37 CC1(N)CCN(c2cccnc2NC(=O)c2nc(-c3nc(N4CCC(F)(F)CC4)ncc3F)cnc2N)CC1 MG\n",
      "Processing 8U37 CC1(N)CCN(c2cccnc2NC(=O)c2nc(-c3nc(N4CCC(F)(F)CC4)ncc3F)cnc2N)CC1 TPO\n",
      "Processing 8U37 CC1(N)CCN(c2cccnc2NC(=O)c2nc(-c3nc(N4CCC(F)(F)CC4)ncc3F)cnc2N)CC1 V5U\n"
     ]
    },
    {
     "name": "stderr",
     "output_type": "stream",
     "text": [
      "==============================\n",
      "*** Open Babel Warning  in PerceiveBondOrders\n",
      "  Failed to kekulize aromatic bonds in OBMol::PerceiveBondOrders (title is /Users/wangyang/Desktop/小辣椒/07-AIDD/分子对接/data/data_8U37/protein.pdb)\n",
      "\n"
     ]
    },
    {
     "name": "stdout",
     "output_type": "stream",
     "text": [
      "8U37 - Detected Ligands: ['MG', 'TPO', 'V5U']\n",
      "Processing 8U37 CN(C)c1ccc(C(F)(F)F)c(-c2cnc(N)c(C(=O)Nc3ncccc3N3CCC(N)CC3)n2)n1 MG\n",
      "Processing 8U37 CN(C)c1ccc(C(F)(F)F)c(-c2cnc(N)c(C(=O)Nc3ncccc3N3CCC(N)CC3)n2)n1 TPO\n",
      "Processing 8U37 CN(C)c1ccc(C(F)(F)F)c(-c2cnc(N)c(C(=O)Nc3ncccc3N3CCC(N)CC3)n2)n1 V5U\n"
     ]
    },
    {
     "name": "stderr",
     "output_type": "stream",
     "text": [
      "==============================\n",
      "*** Open Babel Warning  in PerceiveBondOrders\n",
      "  Failed to kekulize aromatic bonds in OBMol::PerceiveBondOrders (title is /Users/wangyang/Desktop/小辣椒/07-AIDD/分子对接/data/data_8U37/protein.pdb)\n",
      "\n"
     ]
    },
    {
     "name": "stdout",
     "output_type": "stream",
     "text": [
      "8U37 - Detected Ligands: ['MG', 'TPO', 'V5U']\n",
      "Processing 8U37 Nc1ncc(-c2cccc3[nH]c(C(F)(F)F)cc23)nc1C(=O)Nc1ncccc1N1CCC(N)CC1 MG\n",
      "Processing 8U37 Nc1ncc(-c2cccc3[nH]c(C(F)(F)F)cc23)nc1C(=O)Nc1ncccc1N1CCC(N)CC1 TPO\n",
      "Processing 8U37 Nc1ncc(-c2cccc3[nH]c(C(F)(F)F)cc23)nc1C(=O)Nc1ncccc1N1CCC(N)CC1 V5U\n"
     ]
    },
    {
     "name": "stderr",
     "output_type": "stream",
     "text": [
      "==============================\n",
      "*** Open Babel Warning  in PerceiveBondOrders\n",
      "  Failed to kekulize aromatic bonds in OBMol::PerceiveBondOrders (title is /Users/wangyang/Desktop/小辣椒/07-AIDD/分子对接/data/data_8U37/protein.pdb)\n",
      "\n"
     ]
    },
    {
     "name": "stdout",
     "output_type": "stream",
     "text": [
      "8U37 - Detected Ligands: ['MG', 'TPO', 'V5U']\n",
      "Processing 8U37 Nc1ncc(-c2nc(N3CCOCC3)ccc2C(F)(F)F)nc1C(=O)Nc1ncccc1N1CCC(N)CC1 MG\n",
      "Processing 8U37 Nc1ncc(-c2nc(N3CCOCC3)ccc2C(F)(F)F)nc1C(=O)Nc1ncccc1N1CCC(N)CC1 TPO\n",
      "Processing 8U37 Nc1ncc(-c2nc(N3CCOCC3)ccc2C(F)(F)F)nc1C(=O)Nc1ncccc1N1CCC(N)CC1 V5U\n"
     ]
    },
    {
     "name": "stderr",
     "output_type": "stream",
     "text": [
      "==============================\n",
      "*** Open Babel Warning  in PerceiveBondOrders\n",
      "  Failed to kekulize aromatic bonds in OBMol::PerceiveBondOrders (title is /Users/wangyang/Desktop/小辣椒/07-AIDD/分子对接/data/data_8U37/protein.pdb)\n",
      "\n"
     ]
    },
    {
     "name": "stdout",
     "output_type": "stream",
     "text": [
      "8U37 - Detected Ligands: ['MG', 'TPO', 'V5U']\n",
      "Processing 8U37 Nc1ncc(-c2nc(N3CCOCC3)cc3ccccc23)nc1C(=O)Nc1ncccc1N1CCC(N)CC1 MG\n",
      "Processing 8U37 Nc1ncc(-c2nc(N3CCOCC3)cc3ccccc23)nc1C(=O)Nc1ncccc1N1CCC(N)CC1 TPO\n",
      "Processing 8U37 Nc1ncc(-c2nc(N3CCOCC3)cc3ccccc23)nc1C(=O)Nc1ncccc1N1CCC(N)CC1 V5U\n"
     ]
    },
    {
     "name": "stderr",
     "output_type": "stream",
     "text": [
      "==============================\n",
      "*** Open Babel Warning  in PerceiveBondOrders\n",
      "  Failed to kekulize aromatic bonds in OBMol::PerceiveBondOrders (title is /Users/wangyang/Desktop/小辣椒/07-AIDD/分子对接/data/data_8U37/protein.pdb)\n",
      "\n"
     ]
    },
    {
     "name": "stdout",
     "output_type": "stream",
     "text": [
      "8U37 - Detected Ligands: ['MG', 'TPO', 'V5U']\n",
      "Processing 8U37 Nc1ncc(-c2cc(N3CCOCC3)cc(C(F)(F)F)c2)nc1C(=O)Nc1ncccc1N1CCC(N)CC1 MG\n",
      "Processing 8U37 Nc1ncc(-c2cc(N3CCOCC3)cc(C(F)(F)F)c2)nc1C(=O)Nc1ncccc1N1CCC(N)CC1 TPO\n",
      "Processing 8U37 Nc1ncc(-c2cc(N3CCOCC3)cc(C(F)(F)F)c2)nc1C(=O)Nc1ncccc1N1CCC(N)CC1 V5U\n"
     ]
    },
    {
     "name": "stderr",
     "output_type": "stream",
     "text": [
      "==============================\n",
      "*** Open Babel Warning  in PerceiveBondOrders\n",
      "  Failed to kekulize aromatic bonds in OBMol::PerceiveBondOrders (title is /Users/wangyang/Desktop/小辣椒/07-AIDD/分子对接/data/data_8U37/protein.pdb)\n",
      "\n"
     ]
    },
    {
     "name": "stdout",
     "output_type": "stream",
     "text": [
      "8U37 - Detected Ligands: ['MG', 'TPO', 'V5U']\n",
      "Processing 8U37 Nc1ncc(-c2ccccc2)nc1C(=O)Nc1cnccc1N1CCC(N)CC1 MG\n",
      "Processing 8U37 Nc1ncc(-c2ccccc2)nc1C(=O)Nc1cnccc1N1CCC(N)CC1 TPO\n",
      "Processing 8U37 Nc1ncc(-c2ccccc2)nc1C(=O)Nc1cnccc1N1CCC(N)CC1 V5U\n"
     ]
    },
    {
     "name": "stderr",
     "output_type": "stream",
     "text": [
      "==============================\n",
      "*** Open Babel Warning  in PerceiveBondOrders\n",
      "  Failed to kekulize aromatic bonds in OBMol::PerceiveBondOrders (title is /Users/wangyang/Desktop/小辣椒/07-AIDD/分子对接/data/data_8U37/protein.pdb)\n",
      "\n"
     ]
    },
    {
     "name": "stdout",
     "output_type": "stream",
     "text": [
      "8U37 - Detected Ligands: ['MG', 'TPO', 'V5U']\n",
      "Processing 8U37 Nc1ncc(-c2ccccc2F)nc1C(=O)Nc1cnccc1N1CCC(N)CC1 MG\n",
      "Processing 8U37 Nc1ncc(-c2ccccc2F)nc1C(=O)Nc1cnccc1N1CCC(N)CC1 TPO\n",
      "Processing 8U37 Nc1ncc(-c2ccccc2F)nc1C(=O)Nc1cnccc1N1CCC(N)CC1 V5U\n"
     ]
    },
    {
     "name": "stderr",
     "output_type": "stream",
     "text": [
      "==============================\n",
      "*** Open Babel Warning  in PerceiveBondOrders\n",
      "  Failed to kekulize aromatic bonds in OBMol::PerceiveBondOrders (title is /Users/wangyang/Desktop/小辣椒/07-AIDD/分子对接/data/data_8U37/protein.pdb)\n",
      "\n"
     ]
    },
    {
     "name": "stdout",
     "output_type": "stream",
     "text": [
      "8U37 - Detected Ligands: ['MG', 'TPO', 'V5U']\n",
      "Processing 8U37 CC1(N)CCN(c2cccnc2NC(=O)c2nc(-c3nc(C4=CCOCC4)ncc3C(F)(F)F)cnc2N)CC1 MG\n",
      "Processing 8U37 CC1(N)CCN(c2cccnc2NC(=O)c2nc(-c3nc(C4=CCOCC4)ncc3C(F)(F)F)cnc2N)CC1 TPO\n",
      "Processing 8U37 CC1(N)CCN(c2cccnc2NC(=O)c2nc(-c3nc(C4=CCOCC4)ncc3C(F)(F)F)cnc2N)CC1 V5U\n"
     ]
    },
    {
     "name": "stderr",
     "output_type": "stream",
     "text": [
      "==============================\n",
      "*** Open Babel Warning  in PerceiveBondOrders\n",
      "  Failed to kekulize aromatic bonds in OBMol::PerceiveBondOrders (title is /Users/wangyang/Desktop/小辣椒/07-AIDD/分子对接/data/data_8U37/protein.pdb)\n",
      "\n"
     ]
    },
    {
     "name": "stdout",
     "output_type": "stream",
     "text": [
      "8U37 - Detected Ligands: ['MG', 'TPO', 'V5U']\n",
      "Processing 8U37 Nc1ncc(-c2cc(N3CCOCC3)ccc2C(F)(F)F)nc1C(=O)Nc1ncccc1N1CCC(N)CC1 MG\n",
      "Processing 8U37 Nc1ncc(-c2cc(N3CCOCC3)ccc2C(F)(F)F)nc1C(=O)Nc1ncccc1N1CCC(N)CC1 TPO\n",
      "Processing 8U37 Nc1ncc(-c2cc(N3CCOCC3)ccc2C(F)(F)F)nc1C(=O)Nc1ncccc1N1CCC(N)CC1 V5U\n"
     ]
    },
    {
     "name": "stderr",
     "output_type": "stream",
     "text": [
      "==============================\n",
      "*** Open Babel Warning  in PerceiveBondOrders\n",
      "  Failed to kekulize aromatic bonds in OBMol::PerceiveBondOrders (title is /Users/wangyang/Desktop/小辣椒/07-AIDD/分子对接/data/data_8U37/protein.pdb)\n",
      "\n"
     ]
    },
    {
     "name": "stdout",
     "output_type": "stream",
     "text": [
      "8U37 - Detected Ligands: ['MG', 'TPO', 'V5U']\n",
      "Processing 8U37 Nc1ncc(-c2cccc3[nH]ccc23)nc1C(=O)Nc1ncccc1N1CCC(N)CC1 MG\n",
      "Processing 8U37 Nc1ncc(-c2cccc3[nH]ccc23)nc1C(=O)Nc1ncccc1N1CCC(N)CC1 TPO\n",
      "Processing 8U37 Nc1ncc(-c2cccc3[nH]ccc23)nc1C(=O)Nc1ncccc1N1CCC(N)CC1 V5U\n"
     ]
    },
    {
     "name": "stderr",
     "output_type": "stream",
     "text": [
      "==============================\n",
      "*** Open Babel Warning  in PerceiveBondOrders\n",
      "  Failed to kekulize aromatic bonds in OBMol::PerceiveBondOrders (title is /Users/wangyang/Desktop/小辣椒/07-AIDD/分子对接/data/data_8U37/protein.pdb)\n",
      "\n"
     ]
    },
    {
     "name": "stdout",
     "output_type": "stream",
     "text": [
      "8U37 - Detected Ligands: ['MG', 'TPO', 'V5U']\n",
      "Processing 8U37 Nc1ncc(-c2ccccc2)nc1C(=O)Nc1ccccc1N1CCC(N)CC1 MG\n",
      "Processing 8U37 Nc1ncc(-c2ccccc2)nc1C(=O)Nc1ccccc1N1CCC(N)CC1 TPO\n",
      "Processing 8U37 Nc1ncc(-c2ccccc2)nc1C(=O)Nc1ccccc1N1CCC(N)CC1 V5U\n"
     ]
    },
    {
     "name": "stderr",
     "output_type": "stream",
     "text": [
      "==============================\n",
      "*** Open Babel Warning  in PerceiveBondOrders\n",
      "  Failed to kekulize aromatic bonds in OBMol::PerceiveBondOrders (title is /Users/wangyang/Desktop/小辣椒/07-AIDD/分子对接/data/data_8U37/protein.pdb)\n",
      "\n"
     ]
    },
    {
     "name": "stdout",
     "output_type": "stream",
     "text": [
      "8U37 - Detected Ligands: ['MG', 'TPO', 'V5U']\n",
      "Processing 8U37 CCOCC1(N)CCN(c2cccnc2NC(=O)c2nc(-c3ncccc3OC(F)(F)F)cnc2N)CC1 MG\n",
      "Processing 8U37 CCOCC1(N)CCN(c2cccnc2NC(=O)c2nc(-c3ncccc3OC(F)(F)F)cnc2N)CC1 TPO\n",
      "Processing 8U37 CCOCC1(N)CCN(c2cccnc2NC(=O)c2nc(-c3ncccc3OC(F)(F)F)cnc2N)CC1 V5U\n"
     ]
    },
    {
     "name": "stderr",
     "output_type": "stream",
     "text": [
      "==============================\n",
      "*** Open Babel Warning  in PerceiveBondOrders\n",
      "  Failed to kekulize aromatic bonds in OBMol::PerceiveBondOrders (title is /Users/wangyang/Desktop/小辣椒/07-AIDD/分子对接/data/data_8U37/protein.pdb)\n",
      "\n"
     ]
    },
    {
     "name": "stdout",
     "output_type": "stream",
     "text": [
      "8U37 - Detected Ligands: ['MG', 'TPO', 'V5U']\n",
      "Processing 8U37 CC1(N)CCN(c2cccnc2NC(=O)c2nc(-c3cc(N4CCOCC4)ccc3C(F)(F)F)cnc2N)CC1 MG\n",
      "Processing 8U37 CC1(N)CCN(c2cccnc2NC(=O)c2nc(-c3cc(N4CCOCC4)ccc3C(F)(F)F)cnc2N)CC1 TPO\n",
      "Processing 8U37 CC1(N)CCN(c2cccnc2NC(=O)c2nc(-c3cc(N4CCOCC4)ccc3C(F)(F)F)cnc2N)CC1 V5U\n"
     ]
    },
    {
     "name": "stderr",
     "output_type": "stream",
     "text": [
      "==============================\n",
      "*** Open Babel Warning  in PerceiveBondOrders\n",
      "  Failed to kekulize aromatic bonds in OBMol::PerceiveBondOrders (title is /Users/wangyang/Desktop/小辣椒/07-AIDD/分子对接/data/data_8U37/protein.pdb)\n",
      "\n"
     ]
    },
    {
     "name": "stdout",
     "output_type": "stream",
     "text": [
      "8U37 - Detected Ligands: ['MG', 'TPO', 'V5U']\n",
      "Processing 8U37 COc1ccc(-c2cnc(N)c(C(=O)Nc3cnccc3N3CCC(N)CC3)n2)cc1 MG\n",
      "Processing 8U37 COc1ccc(-c2cnc(N)c(C(=O)Nc3cnccc3N3CCC(N)CC3)n2)cc1 TPO\n",
      "Processing 8U37 COc1ccc(-c2cnc(N)c(C(=O)Nc3cnccc3N3CCC(N)CC3)n2)cc1 V5U\n"
     ]
    },
    {
     "name": "stderr",
     "output_type": "stream",
     "text": [
      "==============================\n",
      "*** Open Babel Warning  in PerceiveBondOrders\n",
      "  Failed to kekulize aromatic bonds in OBMol::PerceiveBondOrders (title is /Users/wangyang/Desktop/小辣椒/07-AIDD/分子对接/data/data_8U37/protein.pdb)\n",
      "\n"
     ]
    },
    {
     "name": "stdout",
     "output_type": "stream",
     "text": [
      "8U37 - Detected Ligands: ['MG', 'TPO', 'V5U']\n",
      "Processing 8U37 Nc1ncc(-c2cccc(N3CCOCC3)n2)nc1C(=O)Nc1ncccc1N1CCC(N)CC1 MG\n",
      "Processing 8U37 Nc1ncc(-c2cccc(N3CCOCC3)n2)nc1C(=O)Nc1ncccc1N1CCC(N)CC1 TPO\n",
      "Processing 8U37 Nc1ncc(-c2cccc(N3CCOCC3)n2)nc1C(=O)Nc1ncccc1N1CCC(N)CC1 V5U\n"
     ]
    },
    {
     "name": "stderr",
     "output_type": "stream",
     "text": [
      "==============================\n",
      "*** Open Babel Warning  in PerceiveBondOrders\n",
      "  Failed to kekulize aromatic bonds in OBMol::PerceiveBondOrders (title is /Users/wangyang/Desktop/小辣椒/07-AIDD/分子对接/data/data_8U37/protein.pdb)\n",
      "\n"
     ]
    },
    {
     "name": "stdout",
     "output_type": "stream",
     "text": [
      "8U37 - Detected Ligands: ['MG', 'TPO', 'V5U']\n",
      "Processing 8U37 Nc1ncc(-c2nc(N3CCC3)ccc2C(F)(F)F)nc1C(=O)Nc1ncccc1N1CCC(N)CC1 MG\n",
      "Processing 8U37 Nc1ncc(-c2nc(N3CCC3)ccc2C(F)(F)F)nc1C(=O)Nc1ncccc1N1CCC(N)CC1 TPO\n",
      "Processing 8U37 Nc1ncc(-c2nc(N3CCC3)ccc2C(F)(F)F)nc1C(=O)Nc1ncccc1N1CCC(N)CC1 V5U\n"
     ]
    },
    {
     "name": "stderr",
     "output_type": "stream",
     "text": [
      "==============================\n",
      "*** Open Babel Warning  in PerceiveBondOrders\n",
      "  Failed to kekulize aromatic bonds in OBMol::PerceiveBondOrders (title is /Users/wangyang/Desktop/小辣椒/07-AIDD/分子对接/data/data_8U37/protein.pdb)\n",
      "\n"
     ]
    },
    {
     "name": "stdout",
     "output_type": "stream",
     "text": [
      "8U37 - Detected Ligands: ['MG', 'TPO', 'V5U']\n",
      "Processing 8U37 Nc1ncc(-c2ncccc2OC(F)(F)F)nc1C(=O)Nc1ncccc1N1CCC(N)(CO)CC1 MG\n",
      "Processing 8U37 Nc1ncc(-c2ncccc2OC(F)(F)F)nc1C(=O)Nc1ncccc1N1CCC(N)(CO)CC1 TPO\n",
      "Processing 8U37 Nc1ncc(-c2ncccc2OC(F)(F)F)nc1C(=O)Nc1ncccc1N1CCC(N)(CO)CC1 V5U\n"
     ]
    },
    {
     "name": "stderr",
     "output_type": "stream",
     "text": [
      "==============================\n",
      "*** Open Babel Warning  in PerceiveBondOrders\n",
      "  Failed to kekulize aromatic bonds in OBMol::PerceiveBondOrders (title is /Users/wangyang/Desktop/小辣椒/07-AIDD/分子对接/data/data_8U37/protein.pdb)\n",
      "\n"
     ]
    },
    {
     "name": "stdout",
     "output_type": "stream",
     "text": [
      "8U37 - Detected Ligands: ['MG', 'TPO', 'V5U']\n",
      "Processing 8U37 NC(=O)c1ccccc1Nc1nc(Nc2ccc(N3CCCC3=O)cc2)ncc1Cl MG\n",
      "Processing 8U37 NC(=O)c1ccccc1Nc1nc(Nc2ccc(N3CCCC3=O)cc2)ncc1Cl TPO\n",
      "Processing 8U37 NC(=O)c1ccccc1Nc1nc(Nc2ccc(N3CCCC3=O)cc2)ncc1Cl V5U\n"
     ]
    },
    {
     "name": "stderr",
     "output_type": "stream",
     "text": [
      "==============================\n",
      "*** Open Babel Warning  in PerceiveBondOrders\n",
      "  Failed to kekulize aromatic bonds in OBMol::PerceiveBondOrders (title is /Users/wangyang/Desktop/小辣椒/07-AIDD/分子对接/data/data_8U37/protein.pdb)\n",
      "\n"
     ]
    },
    {
     "name": "stdout",
     "output_type": "stream",
     "text": [
      "8U37 - Detected Ligands: ['MG', 'TPO', 'V5U']\n",
      "Processing 8U37 Nc1ncc(-c2ncccc2OC(F)(F)F)nc1C(=O)Nc1ncccc1N1CCC(N)CC1 MG\n",
      "Processing 8U37 Nc1ncc(-c2ncccc2OC(F)(F)F)nc1C(=O)Nc1ncccc1N1CCC(N)CC1 TPO\n",
      "Processing 8U37 Nc1ncc(-c2ncccc2OC(F)(F)F)nc1C(=O)Nc1ncccc1N1CCC(N)CC1 V5U\n"
     ]
    },
    {
     "name": "stderr",
     "output_type": "stream",
     "text": [
      "==============================\n",
      "*** Open Babel Warning  in PerceiveBondOrders\n",
      "  Failed to kekulize aromatic bonds in OBMol::PerceiveBondOrders (title is /Users/wangyang/Desktop/小辣椒/07-AIDD/分子对接/data/data_8U37/protein.pdb)\n",
      "\n"
     ]
    },
    {
     "name": "stdout",
     "output_type": "stream",
     "text": [
      "8U37 - Detected Ligands: ['MG', 'TPO', 'V5U']\n",
      "Processing 8U37 Nc1ncc(-c2ncccc2OC(F)(F)F)nc1C(=O)Nc1ncccc1N1CC[C@@H](N)[C@@H](F)C1 MG\n",
      "Processing 8U37 Nc1ncc(-c2ncccc2OC(F)(F)F)nc1C(=O)Nc1ncccc1N1CC[C@@H](N)[C@@H](F)C1 TPO\n",
      "Processing 8U37 Nc1ncc(-c2ncccc2OC(F)(F)F)nc1C(=O)Nc1ncccc1N1CC[C@@H](N)[C@@H](F)C1 V5U\n"
     ]
    },
    {
     "name": "stderr",
     "output_type": "stream",
     "text": [
      "==============================\n",
      "*** Open Babel Warning  in PerceiveBondOrders\n",
      "  Failed to kekulize aromatic bonds in OBMol::PerceiveBondOrders (title is /Users/wangyang/Desktop/小辣椒/07-AIDD/分子对接/data/data_8U37/protein.pdb)\n",
      "\n"
     ]
    },
    {
     "name": "stdout",
     "output_type": "stream",
     "text": [
      "8U37 - Detected Ligands: ['MG', 'TPO', 'V5U']\n",
      "Processing 8U37 C[C@H](CO)Nc1ccc(C(F)(F)F)c(-c2cnc(N)c(C(=O)Nc3ncccc3N3CCC(C)(N)CC3)n2)n1 MG\n",
      "Processing 8U37 C[C@H](CO)Nc1ccc(C(F)(F)F)c(-c2cnc(N)c(C(=O)Nc3ncccc3N3CCC(C)(N)CC3)n2)n1 TPO\n",
      "Processing 8U37 C[C@H](CO)Nc1ccc(C(F)(F)F)c(-c2cnc(N)c(C(=O)Nc3ncccc3N3CCC(C)(N)CC3)n2)n1 V5U\n"
     ]
    },
    {
     "name": "stderr",
     "output_type": "stream",
     "text": [
      "==============================\n",
      "*** Open Babel Warning  in PerceiveBondOrders\n",
      "  Failed to kekulize aromatic bonds in OBMol::PerceiveBondOrders (title is /Users/wangyang/Desktop/小辣椒/07-AIDD/分子对接/data/data_8U37/protein.pdb)\n",
      "\n"
     ]
    },
    {
     "name": "stdout",
     "output_type": "stream",
     "text": [
      "8U37 - Detected Ligands: ['MG', 'TPO', 'V5U']\n",
      "Processing 8U37 Cn1ncc2c(-c3cnc(N)c(C(=O)Nc4ncccc4N4CCC(N)CC4)n3)ncnc21 MG\n",
      "Processing 8U37 Cn1ncc2c(-c3cnc(N)c(C(=O)Nc4ncccc4N4CCC(N)CC4)n3)ncnc21 TPO\n",
      "Processing 8U37 Cn1ncc2c(-c3cnc(N)c(C(=O)Nc4ncccc4N4CCC(N)CC4)n3)ncnc21 V5U\n"
     ]
    },
    {
     "name": "stderr",
     "output_type": "stream",
     "text": [
      "==============================\n",
      "*** Open Babel Warning  in PerceiveBondOrders\n",
      "  Failed to kekulize aromatic bonds in OBMol::PerceiveBondOrders (title is /Users/wangyang/Desktop/小辣椒/07-AIDD/分子对接/data/data_8U37/protein.pdb)\n",
      "\n"
     ]
    },
    {
     "name": "stdout",
     "output_type": "stream",
     "text": [
      "8U37 - Detected Ligands: ['MG', 'TPO', 'V5U']\n",
      "Processing 8U37 Nc1ncc(-c2ccnc(N3CCOCC3)n2)nc1C(=O)Nc1ncccc1N1CCC(N)CC1 MG\n",
      "Processing 8U37 Nc1ncc(-c2ccnc(N3CCOCC3)n2)nc1C(=O)Nc1ncccc1N1CCC(N)CC1 TPO\n",
      "Processing 8U37 Nc1ncc(-c2ccnc(N3CCOCC3)n2)nc1C(=O)Nc1ncccc1N1CCC(N)CC1 V5U\n"
     ]
    },
    {
     "name": "stderr",
     "output_type": "stream",
     "text": [
      "==============================\n",
      "*** Open Babel Warning  in PerceiveBondOrders\n",
      "  Failed to kekulize aromatic bonds in OBMol::PerceiveBondOrders (title is /Users/wangyang/Desktop/小辣椒/07-AIDD/分子对接/data/data_8U37/protein.pdb)\n",
      "\n"
     ]
    },
    {
     "name": "stdout",
     "output_type": "stream",
     "text": [
      "8U37 - Detected Ligands: ['MG', 'TPO', 'V5U']\n",
      "Processing 8U37 Nc1ncc(-c2ncccc2OC(F)(F)F)nc1C(=O)Nc1ncccc1N1CCC(N)C(F)C1 MG\n",
      "Processing 8U37 Nc1ncc(-c2ncccc2OC(F)(F)F)nc1C(=O)Nc1ncccc1N1CCC(N)C(F)C1 TPO\n",
      "Processing 8U37 Nc1ncc(-c2ncccc2OC(F)(F)F)nc1C(=O)Nc1ncccc1N1CCC(N)C(F)C1 V5U\n"
     ]
    },
    {
     "name": "stderr",
     "output_type": "stream",
     "text": [
      "==============================\n",
      "*** Open Babel Warning  in PerceiveBondOrders\n",
      "  Failed to kekulize aromatic bonds in OBMol::PerceiveBondOrders (title is /Users/wangyang/Desktop/小辣椒/07-AIDD/分子对接/data/data_8U37/protein.pdb)\n",
      "\n"
     ]
    },
    {
     "name": "stdout",
     "output_type": "stream",
     "text": [
      "8U37 - Detected Ligands: ['MG', 'TPO', 'V5U']\n",
      "Processing 8U37 C[C@H]1COCCN1c1ccc(C(F)(F)F)c(-c2cnc(N)c(C(=O)Nc3ncccc3N3CCC(C)(N)CC3)n2)n1 MG\n",
      "Processing 8U37 C[C@H]1COCCN1c1ccc(C(F)(F)F)c(-c2cnc(N)c(C(=O)Nc3ncccc3N3CCC(C)(N)CC3)n2)n1 TPO\n",
      "Processing 8U37 C[C@H]1COCCN1c1ccc(C(F)(F)F)c(-c2cnc(N)c(C(=O)Nc3ncccc3N3CCC(C)(N)CC3)n2)n1 V5U\n"
     ]
    },
    {
     "name": "stderr",
     "output_type": "stream",
     "text": [
      "==============================\n",
      "*** Open Babel Warning  in PerceiveBondOrders\n",
      "  Failed to kekulize aromatic bonds in OBMol::PerceiveBondOrders (title is /Users/wangyang/Desktop/小辣椒/07-AIDD/分子对接/data/data_8U37/protein.pdb)\n",
      "\n"
     ]
    },
    {
     "name": "stdout",
     "output_type": "stream",
     "text": [
      "8U37 - Detected Ligands: ['MG', 'TPO', 'V5U']\n",
      "Processing 8U37 Nc1ncc(-c2ncccc2F)nc1C(=O)Nc1ncccc1N1CCC(N)CC1 MG\n",
      "Processing 8U37 Nc1ncc(-c2ncccc2F)nc1C(=O)Nc1ncccc1N1CCC(N)CC1 TPO\n",
      "Processing 8U37 Nc1ncc(-c2ncccc2F)nc1C(=O)Nc1ncccc1N1CCC(N)CC1 V5U\n"
     ]
    },
    {
     "name": "stderr",
     "output_type": "stream",
     "text": [
      "==============================\n",
      "*** Open Babel Warning  in PerceiveBondOrders\n",
      "  Failed to kekulize aromatic bonds in OBMol::PerceiveBondOrders (title is /Users/wangyang/Desktop/小辣椒/07-AIDD/分子对接/data/data_8U37/protein.pdb)\n",
      "\n"
     ]
    },
    {
     "name": "stdout",
     "output_type": "stream",
     "text": [
      "8U37 - Detected Ligands: ['MG', 'TPO', 'V5U']\n",
      "Processing 8U37 Nc1ncc(-c2ncnc3[nH]cc(F)c23)nc1C(=O)Nc1ncccc1N1CCC(N)CC1 MG\n",
      "Processing 8U37 Nc1ncc(-c2ncnc3[nH]cc(F)c23)nc1C(=O)Nc1ncccc1N1CCC(N)CC1 TPO\n",
      "Processing 8U37 Nc1ncc(-c2ncnc3[nH]cc(F)c23)nc1C(=O)Nc1ncccc1N1CCC(N)CC1 V5U\n"
     ]
    },
    {
     "name": "stderr",
     "output_type": "stream",
     "text": [
      "==============================\n",
      "*** Open Babel Warning  in PerceiveBondOrders\n",
      "  Failed to kekulize aromatic bonds in OBMol::PerceiveBondOrders (title is /Users/wangyang/Desktop/小辣椒/07-AIDD/分子对接/data/data_8U37/protein.pdb)\n",
      "\n"
     ]
    },
    {
     "name": "stdout",
     "output_type": "stream",
     "text": [
      "8U37 - Detected Ligands: ['MG', 'TPO', 'V5U']\n",
      "Processing 8U37 CC1(N)CCN(c2cccnc2NC(=O)c2nc(-c3nc(N)ncc3Cl)cnc2N)CC1 MG\n",
      "Processing 8U37 CC1(N)CCN(c2cccnc2NC(=O)c2nc(-c3nc(N)ncc3Cl)cnc2N)CC1 TPO\n",
      "Processing 8U37 CC1(N)CCN(c2cccnc2NC(=O)c2nc(-c3nc(N)ncc3Cl)cnc2N)CC1 V5U\n"
     ]
    },
    {
     "name": "stderr",
     "output_type": "stream",
     "text": [
      "==============================\n",
      "*** Open Babel Warning  in PerceiveBondOrders\n",
      "  Failed to kekulize aromatic bonds in OBMol::PerceiveBondOrders (title is /Users/wangyang/Desktop/小辣椒/07-AIDD/分子对接/data/data_8U37/protein.pdb)\n",
      "\n"
     ]
    },
    {
     "name": "stdout",
     "output_type": "stream",
     "text": [
      "8U37 - Detected Ligands: ['MG', 'TPO', 'V5U']\n",
      "Processing 8U37 COC1CN(c2cccnc2NC(=O)c2nc(-c3ncccc3OC(F)(F)F)cnc2N)CCC1N MG\n",
      "Processing 8U37 COC1CN(c2cccnc2NC(=O)c2nc(-c3ncccc3OC(F)(F)F)cnc2N)CCC1N TPO\n",
      "Processing 8U37 COC1CN(c2cccnc2NC(=O)c2nc(-c3ncccc3OC(F)(F)F)cnc2N)CCC1N V5U\n"
     ]
    },
    {
     "name": "stderr",
     "output_type": "stream",
     "text": [
      "==============================\n",
      "*** Open Babel Warning  in PerceiveBondOrders\n",
      "  Failed to kekulize aromatic bonds in OBMol::PerceiveBondOrders (title is /Users/wangyang/Desktop/小辣椒/07-AIDD/分子对接/data/data_8U37/protein.pdb)\n",
      "\n"
     ]
    },
    {
     "name": "stdout",
     "output_type": "stream",
     "text": [
      "8U37 - Detected Ligands: ['MG', 'TPO', 'V5U']\n",
      "Processing 8U37 CC1(N)CCN(c2cccnc2NC(=O)c2nc(-c3ncccc3C#N)cnc2N)CC1 MG\n",
      "Processing 8U37 CC1(N)CCN(c2cccnc2NC(=O)c2nc(-c3ncccc3C#N)cnc2N)CC1 TPO\n",
      "Processing 8U37 CC1(N)CCN(c2cccnc2NC(=O)c2nc(-c3ncccc3C#N)cnc2N)CC1 V5U\n"
     ]
    },
    {
     "name": "stderr",
     "output_type": "stream",
     "text": [
      "==============================\n",
      "*** Open Babel Warning  in PerceiveBondOrders\n",
      "  Failed to kekulize aromatic bonds in OBMol::PerceiveBondOrders (title is /Users/wangyang/Desktop/小辣椒/07-AIDD/分子对接/data/data_8U37/protein.pdb)\n",
      "\n"
     ]
    },
    {
     "name": "stdout",
     "output_type": "stream",
     "text": [
      "8U37 - Detected Ligands: ['MG', 'TPO', 'V5U']\n",
      "Processing 8U37 CC1(N)CCN(c2cccnc2NC(=O)c2nc(-c3nc(C4CC4)ccc3C(F)(F)F)cnc2N)CC1 MG\n",
      "Processing 8U37 CC1(N)CCN(c2cccnc2NC(=O)c2nc(-c3nc(C4CC4)ccc3C(F)(F)F)cnc2N)CC1 TPO\n",
      "Processing 8U37 CC1(N)CCN(c2cccnc2NC(=O)c2nc(-c3nc(C4CC4)ccc3C(F)(F)F)cnc2N)CC1 V5U\n"
     ]
    },
    {
     "name": "stderr",
     "output_type": "stream",
     "text": [
      "==============================\n",
      "*** Open Babel Warning  in PerceiveBondOrders\n",
      "  Failed to kekulize aromatic bonds in OBMol::PerceiveBondOrders (title is /Users/wangyang/Desktop/小辣椒/07-AIDD/分子对接/data/data_8U37/protein.pdb)\n",
      "\n"
     ]
    },
    {
     "name": "stdout",
     "output_type": "stream",
     "text": [
      "8U37 - Detected Ligands: ['MG', 'TPO', 'V5U']\n",
      "Processing 8U37 CC1(N)CCN(c2cccnc2NC(=O)c2nc(-c3nc(C(N)=O)ncc3F)cnc2N)CC1 MG\n",
      "Processing 8U37 CC1(N)CCN(c2cccnc2NC(=O)c2nc(-c3nc(C(N)=O)ncc3F)cnc2N)CC1 TPO\n",
      "Processing 8U37 CC1(N)CCN(c2cccnc2NC(=O)c2nc(-c3nc(C(N)=O)ncc3F)cnc2N)CC1 V5U\n"
     ]
    },
    {
     "name": "stderr",
     "output_type": "stream",
     "text": [
      "==============================\n",
      "*** Open Babel Warning  in PerceiveBondOrders\n",
      "  Failed to kekulize aromatic bonds in OBMol::PerceiveBondOrders (title is /Users/wangyang/Desktop/小辣椒/07-AIDD/分子对接/data/data_8U37/protein.pdb)\n",
      "\n"
     ]
    },
    {
     "name": "stdout",
     "output_type": "stream",
     "text": [
      "8U37 - Detected Ligands: ['MG', 'TPO', 'V5U']\n",
      "Processing 8U37 Nc1ncc(-c2ncnc3c2CCCC3)nc1C(=O)Nc1ncccc1N1CCC(N)CC1 MG\n",
      "Processing 8U37 Nc1ncc(-c2ncnc3c2CCCC3)nc1C(=O)Nc1ncccc1N1CCC(N)CC1 TPO\n",
      "Processing 8U37 Nc1ncc(-c2ncnc3c2CCCC3)nc1C(=O)Nc1ncccc1N1CCC(N)CC1 V5U\n"
     ]
    },
    {
     "name": "stderr",
     "output_type": "stream",
     "text": [
      "==============================\n",
      "*** Open Babel Warning  in PerceiveBondOrders\n",
      "  Failed to kekulize aromatic bonds in OBMol::PerceiveBondOrders (title is /Users/wangyang/Desktop/小辣椒/07-AIDD/分子对接/data/data_8U37/protein.pdb)\n",
      "\n"
     ]
    },
    {
     "name": "stdout",
     "output_type": "stream",
     "text": [
      "8U37 - Detected Ligands: ['MG', 'TPO', 'V5U']\n",
      "Processing 8U37 Nc1ncc(-c2nc(C(F)(F)F)ccc2C(F)(F)F)nc1C(=O)Nc1ncccc1N1CCC(N)CC1 MG\n",
      "Processing 8U37 Nc1ncc(-c2nc(C(F)(F)F)ccc2C(F)(F)F)nc1C(=O)Nc1ncccc1N1CCC(N)CC1 TPO\n",
      "Processing 8U37 Nc1ncc(-c2nc(C(F)(F)F)ccc2C(F)(F)F)nc1C(=O)Nc1ncccc1N1CCC(N)CC1 V5U\n"
     ]
    },
    {
     "name": "stderr",
     "output_type": "stream",
     "text": [
      "==============================\n",
      "*** Open Babel Warning  in PerceiveBondOrders\n",
      "  Failed to kekulize aromatic bonds in OBMol::PerceiveBondOrders (title is /Users/wangyang/Desktop/小辣椒/07-AIDD/分子对接/data/data_8U37/protein.pdb)\n",
      "\n"
     ]
    },
    {
     "name": "stdout",
     "output_type": "stream",
     "text": [
      "8U37 - Detected Ligands: ['MG', 'TPO', 'V5U']\n",
      "Processing 8U37 CC1(N)CCN(c2cccnc2NC(=O)c2nc(-c3nc(C#N)ncc3C(F)(F)F)cnc2N)CC1 MG\n",
      "Processing 8U37 CC1(N)CCN(c2cccnc2NC(=O)c2nc(-c3nc(C#N)ncc3C(F)(F)F)cnc2N)CC1 TPO\n",
      "Processing 8U37 CC1(N)CCN(c2cccnc2NC(=O)c2nc(-c3nc(C#N)ncc3C(F)(F)F)cnc2N)CC1 V5U\n"
     ]
    },
    {
     "name": "stderr",
     "output_type": "stream",
     "text": [
      "==============================\n",
      "*** Open Babel Warning  in PerceiveBondOrders\n",
      "  Failed to kekulize aromatic bonds in OBMol::PerceiveBondOrders (title is /Users/wangyang/Desktop/小辣椒/07-AIDD/分子对接/data/data_8U37/protein.pdb)\n",
      "\n"
     ]
    },
    {
     "name": "stdout",
     "output_type": "stream",
     "text": [
      "8U37 - Detected Ligands: ['MG', 'TPO', 'V5U']\n",
      "Processing 8U37 CC1(N)CCN(c2cccnc2NC(=O)c2nc(-c3nccc(Cl)c3C(F)(F)F)cnc2N)CC1 MG\n",
      "Processing 8U37 CC1(N)CCN(c2cccnc2NC(=O)c2nc(-c3nccc(Cl)c3C(F)(F)F)cnc2N)CC1 TPO\n",
      "Processing 8U37 CC1(N)CCN(c2cccnc2NC(=O)c2nc(-c3nccc(Cl)c3C(F)(F)F)cnc2N)CC1 V5U\n"
     ]
    },
    {
     "name": "stderr",
     "output_type": "stream",
     "text": [
      "==============================\n",
      "*** Open Babel Warning  in PerceiveBondOrders\n",
      "  Failed to kekulize aromatic bonds in OBMol::PerceiveBondOrders (title is /Users/wangyang/Desktop/小辣椒/07-AIDD/分子对接/data/data_8U37/protein.pdb)\n",
      "\n"
     ]
    },
    {
     "name": "stdout",
     "output_type": "stream",
     "text": [
      "8U37 - Detected Ligands: ['MG', 'TPO', 'V5U']\n",
      "Processing 8U37 Nc1ncc(-c2nc(N3CCOCC3)ccc2C(F)(F)F)nc1C(=O)Nc1ncccc1N1C[C@H]2CC[C@@H](C1)[C@@H]2N MG\n",
      "Processing 8U37 Nc1ncc(-c2nc(N3CCOCC3)ccc2C(F)(F)F)nc1C(=O)Nc1ncccc1N1C[C@H]2CC[C@@H](C1)[C@@H]2N TPO\n",
      "Processing 8U37 Nc1ncc(-c2nc(N3CCOCC3)ccc2C(F)(F)F)nc1C(=O)Nc1ncccc1N1C[C@H]2CC[C@@H](C1)[C@@H]2N V5U\n"
     ]
    },
    {
     "name": "stderr",
     "output_type": "stream",
     "text": [
      "==============================\n",
      "*** Open Babel Warning  in PerceiveBondOrders\n",
      "  Failed to kekulize aromatic bonds in OBMol::PerceiveBondOrders (title is /Users/wangyang/Desktop/小辣椒/07-AIDD/分子对接/data/data_8U37/protein.pdb)\n",
      "\n"
     ]
    },
    {
     "name": "stdout",
     "output_type": "stream",
     "text": [
      "8U37 - Detected Ligands: ['MG', 'TPO', 'V5U']\n",
      "Processing 8U37 CC1CN(c2ccc(C(F)(F)F)c(-c3cnc(N)c(C(=O)Nc4ncccc4N4CCC(C)(N)CC4)n3)n2)CCO1 MG\n",
      "Processing 8U37 CC1CN(c2ccc(C(F)(F)F)c(-c3cnc(N)c(C(=O)Nc4ncccc4N4CCC(C)(N)CC4)n3)n2)CCO1 TPO\n",
      "Processing 8U37 CC1CN(c2ccc(C(F)(F)F)c(-c3cnc(N)c(C(=O)Nc4ncccc4N4CCC(C)(N)CC4)n3)n2)CCO1 V5U\n"
     ]
    },
    {
     "name": "stderr",
     "output_type": "stream",
     "text": [
      "==============================\n",
      "*** Open Babel Warning  in PerceiveBondOrders\n",
      "  Failed to kekulize aromatic bonds in OBMol::PerceiveBondOrders (title is /Users/wangyang/Desktop/小辣椒/07-AIDD/分子对接/data/data_8U37/protein.pdb)\n",
      "\n"
     ]
    },
    {
     "name": "stdout",
     "output_type": "stream",
     "text": [
      "8U37 - Detected Ligands: ['MG', 'TPO', 'V5U']\n",
      "Processing 8U37 COc1ccnc(-c2cnc(N)c(C(=O)Nc3ncccc3N3CCC(N)(CC#N)CC3)n2)c1C#N MG\n",
      "Processing 8U37 COc1ccnc(-c2cnc(N)c(C(=O)Nc3ncccc3N3CCC(N)(CC#N)CC3)n2)c1C#N TPO\n",
      "Processing 8U37 COc1ccnc(-c2cnc(N)c(C(=O)Nc3ncccc3N3CCC(N)(CC#N)CC3)n2)c1C#N V5U\n"
     ]
    },
    {
     "name": "stderr",
     "output_type": "stream",
     "text": [
      "==============================\n",
      "*** Open Babel Warning  in PerceiveBondOrders\n",
      "  Failed to kekulize aromatic bonds in OBMol::PerceiveBondOrders (title is /Users/wangyang/Desktop/小辣椒/07-AIDD/分子对接/data/data_8U37/protein.pdb)\n",
      "\n"
     ]
    },
    {
     "name": "stdout",
     "output_type": "stream",
     "text": [
      "8U37 - Detected Ligands: ['MG', 'TPO', 'V5U']\n",
      "Processing 8U37 CN(C)c1ccc(C(F)(F)F)c(-c2cnc(N)c(C(=O)Nc3ncccc3N3CCC(C)(N)CC3)n2)n1 MG\n",
      "Processing 8U37 CN(C)c1ccc(C(F)(F)F)c(-c2cnc(N)c(C(=O)Nc3ncccc3N3CCC(C)(N)CC3)n2)n1 TPO\n",
      "Processing 8U37 CN(C)c1ccc(C(F)(F)F)c(-c2cnc(N)c(C(=O)Nc3ncccc3N3CCC(C)(N)CC3)n2)n1 V5U\n"
     ]
    },
    {
     "name": "stderr",
     "output_type": "stream",
     "text": [
      "==============================\n",
      "*** Open Babel Warning  in PerceiveBondOrders\n",
      "  Failed to kekulize aromatic bonds in OBMol::PerceiveBondOrders (title is /Users/wangyang/Desktop/小辣椒/07-AIDD/分子对接/data/data_8U37/protein.pdb)\n",
      "\n"
     ]
    },
    {
     "name": "stdout",
     "output_type": "stream",
     "text": [
      "8U37 - Detected Ligands: ['MG', 'TPO', 'V5U']\n",
      "Processing 8U37 COc1ccnc(-c2cnc(N)c(C(=O)Nc3ncccc3N3CCC(C)(N)CC3)n2)c1F MG\n",
      "Processing 8U37 COc1ccnc(-c2cnc(N)c(C(=O)Nc3ncccc3N3CCC(C)(N)CC3)n2)c1F TPO\n",
      "Processing 8U37 COc1ccnc(-c2cnc(N)c(C(=O)Nc3ncccc3N3CCC(C)(N)CC3)n2)c1F V5U\n"
     ]
    },
    {
     "name": "stderr",
     "output_type": "stream",
     "text": [
      "==============================\n",
      "*** Open Babel Warning  in PerceiveBondOrders\n",
      "  Failed to kekulize aromatic bonds in OBMol::PerceiveBondOrders (title is /Users/wangyang/Desktop/小辣椒/07-AIDD/分子对接/data/data_8U37/protein.pdb)\n",
      "\n"
     ]
    },
    {
     "name": "stdout",
     "output_type": "stream",
     "text": [
      "8U37 - Detected Ligands: ['MG', 'TPO', 'V5U']\n",
      "Processing 8U37 CC1(N)CCN(c2cccnc2NC(=O)c2nc(-c3nc(N4CCOCC4)ccc3C(F)(F)F)cnc2N)CC1 MG\n",
      "Processing 8U37 CC1(N)CCN(c2cccnc2NC(=O)c2nc(-c3nc(N4CCOCC4)ccc3C(F)(F)F)cnc2N)CC1 TPO\n",
      "Processing 8U37 CC1(N)CCN(c2cccnc2NC(=O)c2nc(-c3nc(N4CCOCC4)ccc3C(F)(F)F)cnc2N)CC1 V5U\n"
     ]
    },
    {
     "name": "stderr",
     "output_type": "stream",
     "text": [
      "==============================\n",
      "*** Open Babel Warning  in PerceiveBondOrders\n",
      "  Failed to kekulize aromatic bonds in OBMol::PerceiveBondOrders (title is /Users/wangyang/Desktop/小辣椒/07-AIDD/分子对接/data/data_8U37/protein.pdb)\n",
      "\n"
     ]
    },
    {
     "name": "stdout",
     "output_type": "stream",
     "text": [
      "8U37 - Detected Ligands: ['MG', 'TPO', 'V5U']\n",
      "Processing 8U37 NC(=O)c1ccccc1Nc1nc(Nc2ccc(N3CCOCC3)cc2F)ncc1Cl MG\n",
      "Processing 8U37 NC(=O)c1ccccc1Nc1nc(Nc2ccc(N3CCOCC3)cc2F)ncc1Cl TPO\n",
      "Processing 8U37 NC(=O)c1ccccc1Nc1nc(Nc2ccc(N3CCOCC3)cc2F)ncc1Cl V5U\n"
     ]
    },
    {
     "name": "stderr",
     "output_type": "stream",
     "text": [
      "==============================\n",
      "*** Open Babel Warning  in PerceiveBondOrders\n",
      "  Failed to kekulize aromatic bonds in OBMol::PerceiveBondOrders (title is /Users/wangyang/Desktop/小辣椒/07-AIDD/分子对接/data/data_8U37/protein.pdb)\n",
      "\n"
     ]
    },
    {
     "name": "stdout",
     "output_type": "stream",
     "text": [
      "8U37 - Detected Ligands: ['MG', 'TPO', 'V5U']\n",
      "Processing 8U37 CC1(N)CCN(c2cccnc2NC(=O)c2nc(-c3nccc(OC(F)(F)F)c3C#N)cnc2N)CC1 MG\n",
      "Processing 8U37 CC1(N)CCN(c2cccnc2NC(=O)c2nc(-c3nccc(OC(F)(F)F)c3C#N)cnc2N)CC1 TPO\n",
      "Processing 8U37 CC1(N)CCN(c2cccnc2NC(=O)c2nc(-c3nccc(OC(F)(F)F)c3C#N)cnc2N)CC1 V5U\n"
     ]
    },
    {
     "name": "stderr",
     "output_type": "stream",
     "text": [
      "==============================\n",
      "*** Open Babel Warning  in PerceiveBondOrders\n",
      "  Failed to kekulize aromatic bonds in OBMol::PerceiveBondOrders (title is /Users/wangyang/Desktop/小辣椒/07-AIDD/分子对接/data/data_8U37/protein.pdb)\n",
      "\n"
     ]
    },
    {
     "name": "stdout",
     "output_type": "stream",
     "text": [
      "8U37 - Detected Ligands: ['MG', 'TPO', 'V5U']\n",
      "Processing 8U37 CCC1(N)CCN(c2cccnc2NC(=O)c2nc(-c3ncccc3OC(F)(F)F)cnc2N)CC1 MG\n",
      "Processing 8U37 CCC1(N)CCN(c2cccnc2NC(=O)c2nc(-c3ncccc3OC(F)(F)F)cnc2N)CC1 TPO\n",
      "Processing 8U37 CCC1(N)CCN(c2cccnc2NC(=O)c2nc(-c3ncccc3OC(F)(F)F)cnc2N)CC1 V5U\n"
     ]
    },
    {
     "name": "stderr",
     "output_type": "stream",
     "text": [
      "==============================\n",
      "*** Open Babel Warning  in PerceiveBondOrders\n",
      "  Failed to kekulize aromatic bonds in OBMol::PerceiveBondOrders (title is /Users/wangyang/Desktop/小辣椒/07-AIDD/分子对接/data/data_8UAK/protein.pdb)\n",
      "\n"
     ]
    },
    {
     "name": "stdout",
     "output_type": "stream",
     "text": [
      "8UAK - Detected Ligands: ['W39', 'TPO']\n",
      "Processing 8UAK CC1(N)CCN(c2cccnc2NC(=O)c2nc(-c3nc(N4CCOCC4)cc4ccccc34)cnc2N)CC1 W39\n",
      "Processing 8UAK CC1(N)CCN(c2cccnc2NC(=O)c2nc(-c3nc(N4CCOCC4)cc4ccccc34)cnc2N)CC1 TPO\n"
     ]
    },
    {
     "name": "stderr",
     "output_type": "stream",
     "text": [
      "==============================\n",
      "*** Open Babel Warning  in PerceiveBondOrders\n",
      "  Failed to kekulize aromatic bonds in OBMol::PerceiveBondOrders (title is /Users/wangyang/Desktop/小辣椒/07-AIDD/分子对接/data/data_8UAK/protein.pdb)\n",
      "\n"
     ]
    },
    {
     "name": "stdout",
     "output_type": "stream",
     "text": [
      "8UAK - Detected Ligands: ['W39', 'TPO']\n",
      "Processing 8UAK Nc1ncc(-c2cccc(N3CCOCC3)c2)nc1C(=O)Nc1ncccc1N1CCC(N)CC1 W39\n",
      "Processing 8UAK Nc1ncc(-c2cccc(N3CCOCC3)c2)nc1C(=O)Nc1ncccc1N1CCC(N)CC1 TPO\n"
     ]
    },
    {
     "name": "stderr",
     "output_type": "stream",
     "text": [
      "==============================\n",
      "*** Open Babel Warning  in PerceiveBondOrders\n",
      "  Failed to kekulize aromatic bonds in OBMol::PerceiveBondOrders (title is /Users/wangyang/Desktop/小辣椒/07-AIDD/分子对接/data/data_8UAK/protein.pdb)\n",
      "\n"
     ]
    },
    {
     "name": "stdout",
     "output_type": "stream",
     "text": [
      "8UAK - Detected Ligands: ['W39', 'TPO']\n",
      "Processing 8UAK Nc1ncc(-c2cccc3[nH]ncc23)nc1C(=O)Nc1ncccc1N1CCC(N)CC1 W39\n",
      "Processing 8UAK Nc1ncc(-c2cccc3[nH]ncc23)nc1C(=O)Nc1ncccc1N1CCC(N)CC1 TPO\n"
     ]
    },
    {
     "name": "stderr",
     "output_type": "stream",
     "text": [
      "==============================\n",
      "*** Open Babel Warning  in PerceiveBondOrders\n",
      "  Failed to kekulize aromatic bonds in OBMol::PerceiveBondOrders (title is /Users/wangyang/Desktop/小辣椒/07-AIDD/分子对接/data/data_8UAK/protein.pdb)\n",
      "\n"
     ]
    },
    {
     "name": "stdout",
     "output_type": "stream",
     "text": [
      "8UAK - Detected Ligands: ['W39', 'TPO']\n",
      "Processing 8UAK Cc1cc2c(-c3cnc(N)c(C(=O)Nc4ncccc4N4CCC(N)CC4)n3)cccc2[nH]1 W39\n",
      "Processing 8UAK Cc1cc2c(-c3cnc(N)c(C(=O)Nc4ncccc4N4CCC(N)CC4)n3)cccc2[nH]1 TPO\n"
     ]
    },
    {
     "name": "stderr",
     "output_type": "stream",
     "text": [
      "==============================\n",
      "*** Open Babel Warning  in PerceiveBondOrders\n",
      "  Failed to kekulize aromatic bonds in OBMol::PerceiveBondOrders (title is /Users/wangyang/Desktop/小辣椒/07-AIDD/分子对接/data/data_8UAK/protein.pdb)\n",
      "\n"
     ]
    },
    {
     "name": "stdout",
     "output_type": "stream",
     "text": [
      "8UAK - Detected Ligands: ['W39', 'TPO']\n",
      "Processing 8UAK CC1(N)CCN(c2cccnc2NC(=O)c2nc(-c3nc(N4CCC(F)(F)CC4)ncc3F)cnc2N)CC1 W39\n",
      "Processing 8UAK CC1(N)CCN(c2cccnc2NC(=O)c2nc(-c3nc(N4CCC(F)(F)CC4)ncc3F)cnc2N)CC1 TPO\n"
     ]
    },
    {
     "name": "stderr",
     "output_type": "stream",
     "text": [
      "==============================\n",
      "*** Open Babel Warning  in PerceiveBondOrders\n",
      "  Failed to kekulize aromatic bonds in OBMol::PerceiveBondOrders (title is /Users/wangyang/Desktop/小辣椒/07-AIDD/分子对接/data/data_8UAK/protein.pdb)\n",
      "\n"
     ]
    },
    {
     "name": "stdout",
     "output_type": "stream",
     "text": [
      "8UAK - Detected Ligands: ['W39', 'TPO']\n",
      "Processing 8UAK CN(C)c1ccc(C(F)(F)F)c(-c2cnc(N)c(C(=O)Nc3ncccc3N3CCC(N)CC3)n2)n1 W39\n",
      "Processing 8UAK CN(C)c1ccc(C(F)(F)F)c(-c2cnc(N)c(C(=O)Nc3ncccc3N3CCC(N)CC3)n2)n1 TPO\n"
     ]
    },
    {
     "name": "stderr",
     "output_type": "stream",
     "text": [
      "==============================\n",
      "*** Open Babel Warning  in PerceiveBondOrders\n",
      "  Failed to kekulize aromatic bonds in OBMol::PerceiveBondOrders (title is /Users/wangyang/Desktop/小辣椒/07-AIDD/分子对接/data/data_8UAK/protein.pdb)\n",
      "\n"
     ]
    },
    {
     "name": "stdout",
     "output_type": "stream",
     "text": [
      "8UAK - Detected Ligands: ['W39', 'TPO']\n",
      "Processing 8UAK Nc1ncc(-c2cccc3[nH]c(C(F)(F)F)cc23)nc1C(=O)Nc1ncccc1N1CCC(N)CC1 W39\n",
      "Processing 8UAK Nc1ncc(-c2cccc3[nH]c(C(F)(F)F)cc23)nc1C(=O)Nc1ncccc1N1CCC(N)CC1 TPO\n"
     ]
    },
    {
     "name": "stderr",
     "output_type": "stream",
     "text": [
      "==============================\n",
      "*** Open Babel Warning  in PerceiveBondOrders\n",
      "  Failed to kekulize aromatic bonds in OBMol::PerceiveBondOrders (title is /Users/wangyang/Desktop/小辣椒/07-AIDD/分子对接/data/data_8UAK/protein.pdb)\n",
      "\n"
     ]
    },
    {
     "name": "stdout",
     "output_type": "stream",
     "text": [
      "8UAK - Detected Ligands: ['W39', 'TPO']\n",
      "Processing 8UAK Nc1ncc(-c2nc(N3CCOCC3)ccc2C(F)(F)F)nc1C(=O)Nc1ncccc1N1CCC(N)CC1 W39\n",
      "Processing 8UAK Nc1ncc(-c2nc(N3CCOCC3)ccc2C(F)(F)F)nc1C(=O)Nc1ncccc1N1CCC(N)CC1 TPO\n"
     ]
    },
    {
     "name": "stderr",
     "output_type": "stream",
     "text": [
      "==============================\n",
      "*** Open Babel Warning  in PerceiveBondOrders\n",
      "  Failed to kekulize aromatic bonds in OBMol::PerceiveBondOrders (title is /Users/wangyang/Desktop/小辣椒/07-AIDD/分子对接/data/data_8UAK/protein.pdb)\n",
      "\n"
     ]
    },
    {
     "name": "stdout",
     "output_type": "stream",
     "text": [
      "8UAK - Detected Ligands: ['W39', 'TPO']\n",
      "Processing 8UAK Nc1ncc(-c2nc(N3CCOCC3)cc3ccccc23)nc1C(=O)Nc1ncccc1N1CCC(N)CC1 W39\n",
      "Processing 8UAK Nc1ncc(-c2nc(N3CCOCC3)cc3ccccc23)nc1C(=O)Nc1ncccc1N1CCC(N)CC1 TPO\n"
     ]
    },
    {
     "name": "stderr",
     "output_type": "stream",
     "text": [
      "==============================\n",
      "*** Open Babel Warning  in PerceiveBondOrders\n",
      "  Failed to kekulize aromatic bonds in OBMol::PerceiveBondOrders (title is /Users/wangyang/Desktop/小辣椒/07-AIDD/分子对接/data/data_8UAK/protein.pdb)\n",
      "\n"
     ]
    },
    {
     "name": "stdout",
     "output_type": "stream",
     "text": [
      "8UAK - Detected Ligands: ['W39', 'TPO']\n",
      "Processing 8UAK Nc1ncc(-c2cc(N3CCOCC3)cc(C(F)(F)F)c2)nc1C(=O)Nc1ncccc1N1CCC(N)CC1 W39\n",
      "Processing 8UAK Nc1ncc(-c2cc(N3CCOCC3)cc(C(F)(F)F)c2)nc1C(=O)Nc1ncccc1N1CCC(N)CC1 TPO\n"
     ]
    },
    {
     "name": "stderr",
     "output_type": "stream",
     "text": [
      "==============================\n",
      "*** Open Babel Warning  in PerceiveBondOrders\n",
      "  Failed to kekulize aromatic bonds in OBMol::PerceiveBondOrders (title is /Users/wangyang/Desktop/小辣椒/07-AIDD/分子对接/data/data_8UAK/protein.pdb)\n",
      "\n"
     ]
    },
    {
     "name": "stdout",
     "output_type": "stream",
     "text": [
      "8UAK - Detected Ligands: ['W39', 'TPO']\n",
      "Processing 8UAK Nc1ncc(-c2ccccc2)nc1C(=O)Nc1cnccc1N1CCC(N)CC1 W39\n",
      "Processing 8UAK Nc1ncc(-c2ccccc2)nc1C(=O)Nc1cnccc1N1CCC(N)CC1 TPO\n"
     ]
    },
    {
     "name": "stderr",
     "output_type": "stream",
     "text": [
      "==============================\n",
      "*** Open Babel Warning  in PerceiveBondOrders\n",
      "  Failed to kekulize aromatic bonds in OBMol::PerceiveBondOrders (title is /Users/wangyang/Desktop/小辣椒/07-AIDD/分子对接/data/data_8UAK/protein.pdb)\n",
      "\n"
     ]
    },
    {
     "name": "stdout",
     "output_type": "stream",
     "text": [
      "8UAK - Detected Ligands: ['W39', 'TPO']\n",
      "Processing 8UAK Nc1ncc(-c2ccccc2F)nc1C(=O)Nc1cnccc1N1CCC(N)CC1 W39\n",
      "Processing 8UAK Nc1ncc(-c2ccccc2F)nc1C(=O)Nc1cnccc1N1CCC(N)CC1 TPO\n"
     ]
    },
    {
     "name": "stderr",
     "output_type": "stream",
     "text": [
      "==============================\n",
      "*** Open Babel Warning  in PerceiveBondOrders\n",
      "  Failed to kekulize aromatic bonds in OBMol::PerceiveBondOrders (title is /Users/wangyang/Desktop/小辣椒/07-AIDD/分子对接/data/data_8UAK/protein.pdb)\n",
      "\n"
     ]
    },
    {
     "name": "stdout",
     "output_type": "stream",
     "text": [
      "8UAK - Detected Ligands: ['W39', 'TPO']\n",
      "Processing 8UAK CC1(N)CCN(c2cccnc2NC(=O)c2nc(-c3nc(C4=CCOCC4)ncc3C(F)(F)F)cnc2N)CC1 W39\n",
      "Processing 8UAK CC1(N)CCN(c2cccnc2NC(=O)c2nc(-c3nc(C4=CCOCC4)ncc3C(F)(F)F)cnc2N)CC1 TPO\n"
     ]
    },
    {
     "name": "stderr",
     "output_type": "stream",
     "text": [
      "==============================\n",
      "*** Open Babel Warning  in PerceiveBondOrders\n",
      "  Failed to kekulize aromatic bonds in OBMol::PerceiveBondOrders (title is /Users/wangyang/Desktop/小辣椒/07-AIDD/分子对接/data/data_8UAK/protein.pdb)\n",
      "\n"
     ]
    },
    {
     "name": "stdout",
     "output_type": "stream",
     "text": [
      "8UAK - Detected Ligands: ['W39', 'TPO']\n",
      "Processing 8UAK Nc1ncc(-c2cc(N3CCOCC3)ccc2C(F)(F)F)nc1C(=O)Nc1ncccc1N1CCC(N)CC1 W39\n",
      "Processing 8UAK Nc1ncc(-c2cc(N3CCOCC3)ccc2C(F)(F)F)nc1C(=O)Nc1ncccc1N1CCC(N)CC1 TPO\n"
     ]
    },
    {
     "name": "stderr",
     "output_type": "stream",
     "text": [
      "==============================\n",
      "*** Open Babel Warning  in PerceiveBondOrders\n",
      "  Failed to kekulize aromatic bonds in OBMol::PerceiveBondOrders (title is /Users/wangyang/Desktop/小辣椒/07-AIDD/分子对接/data/data_8UAK/protein.pdb)\n",
      "\n"
     ]
    },
    {
     "name": "stdout",
     "output_type": "stream",
     "text": [
      "8UAK - Detected Ligands: ['W39', 'TPO']\n",
      "Processing 8UAK Nc1ncc(-c2cccc3[nH]ccc23)nc1C(=O)Nc1ncccc1N1CCC(N)CC1 W39\n",
      "Processing 8UAK Nc1ncc(-c2cccc3[nH]ccc23)nc1C(=O)Nc1ncccc1N1CCC(N)CC1 TPO\n"
     ]
    },
    {
     "name": "stderr",
     "output_type": "stream",
     "text": [
      "==============================\n",
      "*** Open Babel Warning  in PerceiveBondOrders\n",
      "  Failed to kekulize aromatic bonds in OBMol::PerceiveBondOrders (title is /Users/wangyang/Desktop/小辣椒/07-AIDD/分子对接/data/data_8UAK/protein.pdb)\n",
      "\n"
     ]
    },
    {
     "name": "stdout",
     "output_type": "stream",
     "text": [
      "8UAK - Detected Ligands: ['W39', 'TPO']\n",
      "Processing 8UAK Nc1ncc(-c2ccccc2)nc1C(=O)Nc1ccccc1N1CCC(N)CC1 W39\n",
      "Processing 8UAK Nc1ncc(-c2ccccc2)nc1C(=O)Nc1ccccc1N1CCC(N)CC1 TPO\n"
     ]
    },
    {
     "name": "stderr",
     "output_type": "stream",
     "text": [
      "==============================\n",
      "*** Open Babel Warning  in PerceiveBondOrders\n",
      "  Failed to kekulize aromatic bonds in OBMol::PerceiveBondOrders (title is /Users/wangyang/Desktop/小辣椒/07-AIDD/分子对接/data/data_8UAK/protein.pdb)\n",
      "\n"
     ]
    },
    {
     "name": "stdout",
     "output_type": "stream",
     "text": [
      "8UAK - Detected Ligands: ['W39', 'TPO']\n",
      "Processing 8UAK CCOCC1(N)CCN(c2cccnc2NC(=O)c2nc(-c3ncccc3OC(F)(F)F)cnc2N)CC1 W39\n",
      "Processing 8UAK CCOCC1(N)CCN(c2cccnc2NC(=O)c2nc(-c3ncccc3OC(F)(F)F)cnc2N)CC1 TPO\n"
     ]
    },
    {
     "name": "stderr",
     "output_type": "stream",
     "text": [
      "==============================\n",
      "*** Open Babel Warning  in PerceiveBondOrders\n",
      "  Failed to kekulize aromatic bonds in OBMol::PerceiveBondOrders (title is /Users/wangyang/Desktop/小辣椒/07-AIDD/分子对接/data/data_8UAK/protein.pdb)\n",
      "\n"
     ]
    },
    {
     "name": "stdout",
     "output_type": "stream",
     "text": [
      "8UAK - Detected Ligands: ['W39', 'TPO']\n",
      "Processing 8UAK CC1(N)CCN(c2cccnc2NC(=O)c2nc(-c3cc(N4CCOCC4)ccc3C(F)(F)F)cnc2N)CC1 W39\n",
      "Processing 8UAK CC1(N)CCN(c2cccnc2NC(=O)c2nc(-c3cc(N4CCOCC4)ccc3C(F)(F)F)cnc2N)CC1 TPO\n"
     ]
    },
    {
     "name": "stderr",
     "output_type": "stream",
     "text": [
      "==============================\n",
      "*** Open Babel Warning  in PerceiveBondOrders\n",
      "  Failed to kekulize aromatic bonds in OBMol::PerceiveBondOrders (title is /Users/wangyang/Desktop/小辣椒/07-AIDD/分子对接/data/data_8UAK/protein.pdb)\n",
      "\n"
     ]
    },
    {
     "name": "stdout",
     "output_type": "stream",
     "text": [
      "8UAK - Detected Ligands: ['W39', 'TPO']\n",
      "Processing 8UAK COc1ccc(-c2cnc(N)c(C(=O)Nc3cnccc3N3CCC(N)CC3)n2)cc1 W39\n",
      "Processing 8UAK COc1ccc(-c2cnc(N)c(C(=O)Nc3cnccc3N3CCC(N)CC3)n2)cc1 TPO\n"
     ]
    },
    {
     "name": "stderr",
     "output_type": "stream",
     "text": [
      "==============================\n",
      "*** Open Babel Warning  in PerceiveBondOrders\n",
      "  Failed to kekulize aromatic bonds in OBMol::PerceiveBondOrders (title is /Users/wangyang/Desktop/小辣椒/07-AIDD/分子对接/data/data_8UAK/protein.pdb)\n",
      "\n"
     ]
    },
    {
     "name": "stdout",
     "output_type": "stream",
     "text": [
      "8UAK - Detected Ligands: ['W39', 'TPO']\n",
      "Processing 8UAK Nc1ncc(-c2cccc(N3CCOCC3)n2)nc1C(=O)Nc1ncccc1N1CCC(N)CC1 W39\n",
      "Processing 8UAK Nc1ncc(-c2cccc(N3CCOCC3)n2)nc1C(=O)Nc1ncccc1N1CCC(N)CC1 TPO\n"
     ]
    },
    {
     "name": "stderr",
     "output_type": "stream",
     "text": [
      "==============================\n",
      "*** Open Babel Warning  in PerceiveBondOrders\n",
      "  Failed to kekulize aromatic bonds in OBMol::PerceiveBondOrders (title is /Users/wangyang/Desktop/小辣椒/07-AIDD/分子对接/data/data_8UAK/protein.pdb)\n",
      "\n"
     ]
    },
    {
     "name": "stdout",
     "output_type": "stream",
     "text": [
      "8UAK - Detected Ligands: ['W39', 'TPO']\n",
      "Processing 8UAK Nc1ncc(-c2nc(N3CCC3)ccc2C(F)(F)F)nc1C(=O)Nc1ncccc1N1CCC(N)CC1 W39\n",
      "Processing 8UAK Nc1ncc(-c2nc(N3CCC3)ccc2C(F)(F)F)nc1C(=O)Nc1ncccc1N1CCC(N)CC1 TPO\n"
     ]
    },
    {
     "name": "stderr",
     "output_type": "stream",
     "text": [
      "==============================\n",
      "*** Open Babel Warning  in PerceiveBondOrders\n",
      "  Failed to kekulize aromatic bonds in OBMol::PerceiveBondOrders (title is /Users/wangyang/Desktop/小辣椒/07-AIDD/分子对接/data/data_8UAK/protein.pdb)\n",
      "\n"
     ]
    },
    {
     "name": "stdout",
     "output_type": "stream",
     "text": [
      "8UAK - Detected Ligands: ['W39', 'TPO']\n",
      "Processing 8UAK Nc1ncc(-c2ncccc2OC(F)(F)F)nc1C(=O)Nc1ncccc1N1CCC(N)(CO)CC1 W39\n",
      "Processing 8UAK Nc1ncc(-c2ncccc2OC(F)(F)F)nc1C(=O)Nc1ncccc1N1CCC(N)(CO)CC1 TPO\n"
     ]
    },
    {
     "name": "stderr",
     "output_type": "stream",
     "text": [
      "==============================\n",
      "*** Open Babel Warning  in PerceiveBondOrders\n",
      "  Failed to kekulize aromatic bonds in OBMol::PerceiveBondOrders (title is /Users/wangyang/Desktop/小辣椒/07-AIDD/分子对接/data/data_8UAK/protein.pdb)\n",
      "\n"
     ]
    },
    {
     "name": "stdout",
     "output_type": "stream",
     "text": [
      "8UAK - Detected Ligands: ['W39', 'TPO']\n",
      "Processing 8UAK NC(=O)c1ccccc1Nc1nc(Nc2ccc(N3CCCC3=O)cc2)ncc1Cl W39\n",
      "Processing 8UAK NC(=O)c1ccccc1Nc1nc(Nc2ccc(N3CCCC3=O)cc2)ncc1Cl TPO\n"
     ]
    },
    {
     "name": "stderr",
     "output_type": "stream",
     "text": [
      "==============================\n",
      "*** Open Babel Warning  in PerceiveBondOrders\n",
      "  Failed to kekulize aromatic bonds in OBMol::PerceiveBondOrders (title is /Users/wangyang/Desktop/小辣椒/07-AIDD/分子对接/data/data_8UAK/protein.pdb)\n",
      "\n"
     ]
    },
    {
     "name": "stdout",
     "output_type": "stream",
     "text": [
      "8UAK - Detected Ligands: ['W39', 'TPO']\n",
      "Processing 8UAK Nc1ncc(-c2ncccc2OC(F)(F)F)nc1C(=O)Nc1ncccc1N1CCC(N)CC1 W39\n",
      "Processing 8UAK Nc1ncc(-c2ncccc2OC(F)(F)F)nc1C(=O)Nc1ncccc1N1CCC(N)CC1 TPO\n"
     ]
    },
    {
     "name": "stderr",
     "output_type": "stream",
     "text": [
      "==============================\n",
      "*** Open Babel Warning  in PerceiveBondOrders\n",
      "  Failed to kekulize aromatic bonds in OBMol::PerceiveBondOrders (title is /Users/wangyang/Desktop/小辣椒/07-AIDD/分子对接/data/data_8UAK/protein.pdb)\n",
      "\n"
     ]
    },
    {
     "name": "stdout",
     "output_type": "stream",
     "text": [
      "8UAK - Detected Ligands: ['W39', 'TPO']\n",
      "Processing 8UAK Nc1ncc(-c2ncccc2OC(F)(F)F)nc1C(=O)Nc1ncccc1N1CC[C@@H](N)[C@@H](F)C1 W39\n",
      "Processing 8UAK Nc1ncc(-c2ncccc2OC(F)(F)F)nc1C(=O)Nc1ncccc1N1CC[C@@H](N)[C@@H](F)C1 TPO\n"
     ]
    },
    {
     "name": "stderr",
     "output_type": "stream",
     "text": [
      "==============================\n",
      "*** Open Babel Warning  in PerceiveBondOrders\n",
      "  Failed to kekulize aromatic bonds in OBMol::PerceiveBondOrders (title is /Users/wangyang/Desktop/小辣椒/07-AIDD/分子对接/data/data_8UAK/protein.pdb)\n",
      "\n"
     ]
    },
    {
     "name": "stdout",
     "output_type": "stream",
     "text": [
      "8UAK - Detected Ligands: ['W39', 'TPO']\n",
      "Processing 8UAK C[C@H](CO)Nc1ccc(C(F)(F)F)c(-c2cnc(N)c(C(=O)Nc3ncccc3N3CCC(C)(N)CC3)n2)n1 W39\n",
      "Processing 8UAK C[C@H](CO)Nc1ccc(C(F)(F)F)c(-c2cnc(N)c(C(=O)Nc3ncccc3N3CCC(C)(N)CC3)n2)n1 TPO\n"
     ]
    },
    {
     "name": "stderr",
     "output_type": "stream",
     "text": [
      "==============================\n",
      "*** Open Babel Warning  in PerceiveBondOrders\n",
      "  Failed to kekulize aromatic bonds in OBMol::PerceiveBondOrders (title is /Users/wangyang/Desktop/小辣椒/07-AIDD/分子对接/data/data_8UAK/protein.pdb)\n",
      "\n"
     ]
    },
    {
     "name": "stdout",
     "output_type": "stream",
     "text": [
      "8UAK - Detected Ligands: ['W39', 'TPO']\n",
      "Processing 8UAK Cn1ncc2c(-c3cnc(N)c(C(=O)Nc4ncccc4N4CCC(N)CC4)n3)ncnc21 W39\n",
      "Processing 8UAK Cn1ncc2c(-c3cnc(N)c(C(=O)Nc4ncccc4N4CCC(N)CC4)n3)ncnc21 TPO\n"
     ]
    },
    {
     "name": "stderr",
     "output_type": "stream",
     "text": [
      "==============================\n",
      "*** Open Babel Warning  in PerceiveBondOrders\n",
      "  Failed to kekulize aromatic bonds in OBMol::PerceiveBondOrders (title is /Users/wangyang/Desktop/小辣椒/07-AIDD/分子对接/data/data_8UAK/protein.pdb)\n",
      "\n"
     ]
    },
    {
     "name": "stdout",
     "output_type": "stream",
     "text": [
      "8UAK - Detected Ligands: ['W39', 'TPO']\n",
      "Processing 8UAK Nc1ncc(-c2ccnc(N3CCOCC3)n2)nc1C(=O)Nc1ncccc1N1CCC(N)CC1 W39\n",
      "Processing 8UAK Nc1ncc(-c2ccnc(N3CCOCC3)n2)nc1C(=O)Nc1ncccc1N1CCC(N)CC1 TPO\n"
     ]
    },
    {
     "name": "stderr",
     "output_type": "stream",
     "text": [
      "==============================\n",
      "*** Open Babel Warning  in PerceiveBondOrders\n",
      "  Failed to kekulize aromatic bonds in OBMol::PerceiveBondOrders (title is /Users/wangyang/Desktop/小辣椒/07-AIDD/分子对接/data/data_8UAK/protein.pdb)\n",
      "\n"
     ]
    },
    {
     "name": "stdout",
     "output_type": "stream",
     "text": [
      "8UAK - Detected Ligands: ['W39', 'TPO']\n",
      "Processing 8UAK Nc1ncc(-c2ncccc2OC(F)(F)F)nc1C(=O)Nc1ncccc1N1CCC(N)C(F)C1 W39\n",
      "Processing 8UAK Nc1ncc(-c2ncccc2OC(F)(F)F)nc1C(=O)Nc1ncccc1N1CCC(N)C(F)C1 TPO\n"
     ]
    },
    {
     "name": "stderr",
     "output_type": "stream",
     "text": [
      "==============================\n",
      "*** Open Babel Warning  in PerceiveBondOrders\n",
      "  Failed to kekulize aromatic bonds in OBMol::PerceiveBondOrders (title is /Users/wangyang/Desktop/小辣椒/07-AIDD/分子对接/data/data_8UAK/protein.pdb)\n",
      "\n"
     ]
    },
    {
     "name": "stdout",
     "output_type": "stream",
     "text": [
      "8UAK - Detected Ligands: ['W39', 'TPO']\n",
      "Processing 8UAK C[C@H]1COCCN1c1ccc(C(F)(F)F)c(-c2cnc(N)c(C(=O)Nc3ncccc3N3CCC(C)(N)CC3)n2)n1 W39\n",
      "Processing 8UAK C[C@H]1COCCN1c1ccc(C(F)(F)F)c(-c2cnc(N)c(C(=O)Nc3ncccc3N3CCC(C)(N)CC3)n2)n1 TPO\n"
     ]
    },
    {
     "name": "stderr",
     "output_type": "stream",
     "text": [
      "==============================\n",
      "*** Open Babel Warning  in PerceiveBondOrders\n",
      "  Failed to kekulize aromatic bonds in OBMol::PerceiveBondOrders (title is /Users/wangyang/Desktop/小辣椒/07-AIDD/分子对接/data/data_8UAK/protein.pdb)\n",
      "\n"
     ]
    },
    {
     "name": "stdout",
     "output_type": "stream",
     "text": [
      "8UAK - Detected Ligands: ['W39', 'TPO']\n",
      "Processing 8UAK Nc1ncc(-c2ncccc2F)nc1C(=O)Nc1ncccc1N1CCC(N)CC1 W39\n",
      "Processing 8UAK Nc1ncc(-c2ncccc2F)nc1C(=O)Nc1ncccc1N1CCC(N)CC1 TPO\n"
     ]
    },
    {
     "name": "stderr",
     "output_type": "stream",
     "text": [
      "==============================\n",
      "*** Open Babel Warning  in PerceiveBondOrders\n",
      "  Failed to kekulize aromatic bonds in OBMol::PerceiveBondOrders (title is /Users/wangyang/Desktop/小辣椒/07-AIDD/分子对接/data/data_8UAK/protein.pdb)\n",
      "\n"
     ]
    },
    {
     "name": "stdout",
     "output_type": "stream",
     "text": [
      "8UAK - Detected Ligands: ['W39', 'TPO']\n",
      "Processing 8UAK Nc1ncc(-c2ncnc3[nH]cc(F)c23)nc1C(=O)Nc1ncccc1N1CCC(N)CC1 W39\n",
      "Processing 8UAK Nc1ncc(-c2ncnc3[nH]cc(F)c23)nc1C(=O)Nc1ncccc1N1CCC(N)CC1 TPO\n"
     ]
    },
    {
     "name": "stderr",
     "output_type": "stream",
     "text": [
      "==============================\n",
      "*** Open Babel Warning  in PerceiveBondOrders\n",
      "  Failed to kekulize aromatic bonds in OBMol::PerceiveBondOrders (title is /Users/wangyang/Desktop/小辣椒/07-AIDD/分子对接/data/data_8UAK/protein.pdb)\n",
      "\n"
     ]
    },
    {
     "name": "stdout",
     "output_type": "stream",
     "text": [
      "8UAK - Detected Ligands: ['W39', 'TPO']\n",
      "Processing 8UAK CC1(N)CCN(c2cccnc2NC(=O)c2nc(-c3nc(N)ncc3Cl)cnc2N)CC1 W39\n",
      "Processing 8UAK CC1(N)CCN(c2cccnc2NC(=O)c2nc(-c3nc(N)ncc3Cl)cnc2N)CC1 TPO\n"
     ]
    },
    {
     "name": "stderr",
     "output_type": "stream",
     "text": [
      "==============================\n",
      "*** Open Babel Warning  in PerceiveBondOrders\n",
      "  Failed to kekulize aromatic bonds in OBMol::PerceiveBondOrders (title is /Users/wangyang/Desktop/小辣椒/07-AIDD/分子对接/data/data_8UAK/protein.pdb)\n",
      "\n"
     ]
    },
    {
     "name": "stdout",
     "output_type": "stream",
     "text": [
      "8UAK - Detected Ligands: ['W39', 'TPO']\n",
      "Processing 8UAK COC1CN(c2cccnc2NC(=O)c2nc(-c3ncccc3OC(F)(F)F)cnc2N)CCC1N W39\n",
      "Processing 8UAK COC1CN(c2cccnc2NC(=O)c2nc(-c3ncccc3OC(F)(F)F)cnc2N)CCC1N TPO\n"
     ]
    },
    {
     "name": "stderr",
     "output_type": "stream",
     "text": [
      "==============================\n",
      "*** Open Babel Warning  in PerceiveBondOrders\n",
      "  Failed to kekulize aromatic bonds in OBMol::PerceiveBondOrders (title is /Users/wangyang/Desktop/小辣椒/07-AIDD/分子对接/data/data_8UAK/protein.pdb)\n",
      "\n"
     ]
    },
    {
     "name": "stdout",
     "output_type": "stream",
     "text": [
      "8UAK - Detected Ligands: ['W39', 'TPO']\n",
      "Processing 8UAK CC1(N)CCN(c2cccnc2NC(=O)c2nc(-c3ncccc3C#N)cnc2N)CC1 W39\n",
      "Processing 8UAK CC1(N)CCN(c2cccnc2NC(=O)c2nc(-c3ncccc3C#N)cnc2N)CC1 TPO\n"
     ]
    },
    {
     "name": "stderr",
     "output_type": "stream",
     "text": [
      "==============================\n",
      "*** Open Babel Warning  in PerceiveBondOrders\n",
      "  Failed to kekulize aromatic bonds in OBMol::PerceiveBondOrders (title is /Users/wangyang/Desktop/小辣椒/07-AIDD/分子对接/data/data_8UAK/protein.pdb)\n",
      "\n"
     ]
    },
    {
     "name": "stdout",
     "output_type": "stream",
     "text": [
      "8UAK - Detected Ligands: ['W39', 'TPO']\n",
      "Processing 8UAK CC1(N)CCN(c2cccnc2NC(=O)c2nc(-c3nc(C4CC4)ccc3C(F)(F)F)cnc2N)CC1 W39\n",
      "Processing 8UAK CC1(N)CCN(c2cccnc2NC(=O)c2nc(-c3nc(C4CC4)ccc3C(F)(F)F)cnc2N)CC1 TPO\n"
     ]
    },
    {
     "name": "stderr",
     "output_type": "stream",
     "text": [
      "==============================\n",
      "*** Open Babel Warning  in PerceiveBondOrders\n",
      "  Failed to kekulize aromatic bonds in OBMol::PerceiveBondOrders (title is /Users/wangyang/Desktop/小辣椒/07-AIDD/分子对接/data/data_8UAK/protein.pdb)\n",
      "\n"
     ]
    },
    {
     "name": "stdout",
     "output_type": "stream",
     "text": [
      "8UAK - Detected Ligands: ['W39', 'TPO']\n",
      "Processing 8UAK CC1(N)CCN(c2cccnc2NC(=O)c2nc(-c3nc(C(N)=O)ncc3F)cnc2N)CC1 W39\n",
      "Processing 8UAK CC1(N)CCN(c2cccnc2NC(=O)c2nc(-c3nc(C(N)=O)ncc3F)cnc2N)CC1 TPO\n"
     ]
    },
    {
     "name": "stderr",
     "output_type": "stream",
     "text": [
      "==============================\n",
      "*** Open Babel Warning  in PerceiveBondOrders\n",
      "  Failed to kekulize aromatic bonds in OBMol::PerceiveBondOrders (title is /Users/wangyang/Desktop/小辣椒/07-AIDD/分子对接/data/data_8UAK/protein.pdb)\n",
      "\n"
     ]
    },
    {
     "name": "stdout",
     "output_type": "stream",
     "text": [
      "8UAK - Detected Ligands: ['W39', 'TPO']\n",
      "Processing 8UAK Nc1ncc(-c2ncnc3c2CCCC3)nc1C(=O)Nc1ncccc1N1CCC(N)CC1 W39\n",
      "Processing 8UAK Nc1ncc(-c2ncnc3c2CCCC3)nc1C(=O)Nc1ncccc1N1CCC(N)CC1 TPO\n"
     ]
    },
    {
     "name": "stderr",
     "output_type": "stream",
     "text": [
      "==============================\n",
      "*** Open Babel Warning  in PerceiveBondOrders\n",
      "  Failed to kekulize aromatic bonds in OBMol::PerceiveBondOrders (title is /Users/wangyang/Desktop/小辣椒/07-AIDD/分子对接/data/data_8UAK/protein.pdb)\n",
      "\n"
     ]
    },
    {
     "name": "stdout",
     "output_type": "stream",
     "text": [
      "8UAK - Detected Ligands: ['W39', 'TPO']\n",
      "Processing 8UAK Nc1ncc(-c2nc(C(F)(F)F)ccc2C(F)(F)F)nc1C(=O)Nc1ncccc1N1CCC(N)CC1 W39\n",
      "Processing 8UAK Nc1ncc(-c2nc(C(F)(F)F)ccc2C(F)(F)F)nc1C(=O)Nc1ncccc1N1CCC(N)CC1 TPO\n"
     ]
    },
    {
     "name": "stderr",
     "output_type": "stream",
     "text": [
      "==============================\n",
      "*** Open Babel Warning  in PerceiveBondOrders\n",
      "  Failed to kekulize aromatic bonds in OBMol::PerceiveBondOrders (title is /Users/wangyang/Desktop/小辣椒/07-AIDD/分子对接/data/data_8UAK/protein.pdb)\n",
      "\n"
     ]
    },
    {
     "name": "stdout",
     "output_type": "stream",
     "text": [
      "8UAK - Detected Ligands: ['W39', 'TPO']\n",
      "Processing 8UAK CC1(N)CCN(c2cccnc2NC(=O)c2nc(-c3nc(C#N)ncc3C(F)(F)F)cnc2N)CC1 W39\n",
      "Processing 8UAK CC1(N)CCN(c2cccnc2NC(=O)c2nc(-c3nc(C#N)ncc3C(F)(F)F)cnc2N)CC1 TPO\n"
     ]
    },
    {
     "name": "stderr",
     "output_type": "stream",
     "text": [
      "==============================\n",
      "*** Open Babel Warning  in PerceiveBondOrders\n",
      "  Failed to kekulize aromatic bonds in OBMol::PerceiveBondOrders (title is /Users/wangyang/Desktop/小辣椒/07-AIDD/分子对接/data/data_8UAK/protein.pdb)\n",
      "\n"
     ]
    },
    {
     "name": "stdout",
     "output_type": "stream",
     "text": [
      "8UAK - Detected Ligands: ['W39', 'TPO']\n",
      "Processing 8UAK CC1(N)CCN(c2cccnc2NC(=O)c2nc(-c3nccc(Cl)c3C(F)(F)F)cnc2N)CC1 W39\n",
      "Processing 8UAK CC1(N)CCN(c2cccnc2NC(=O)c2nc(-c3nccc(Cl)c3C(F)(F)F)cnc2N)CC1 TPO\n"
     ]
    },
    {
     "name": "stderr",
     "output_type": "stream",
     "text": [
      "==============================\n",
      "*** Open Babel Warning  in PerceiveBondOrders\n",
      "  Failed to kekulize aromatic bonds in OBMol::PerceiveBondOrders (title is /Users/wangyang/Desktop/小辣椒/07-AIDD/分子对接/data/data_8UAK/protein.pdb)\n",
      "\n"
     ]
    },
    {
     "name": "stdout",
     "output_type": "stream",
     "text": [
      "8UAK - Detected Ligands: ['W39', 'TPO']\n",
      "Processing 8UAK Nc1ncc(-c2nc(N3CCOCC3)ccc2C(F)(F)F)nc1C(=O)Nc1ncccc1N1C[C@H]2CC[C@@H](C1)[C@@H]2N W39\n",
      "Processing 8UAK Nc1ncc(-c2nc(N3CCOCC3)ccc2C(F)(F)F)nc1C(=O)Nc1ncccc1N1C[C@H]2CC[C@@H](C1)[C@@H]2N TPO\n"
     ]
    },
    {
     "name": "stderr",
     "output_type": "stream",
     "text": [
      "==============================\n",
      "*** Open Babel Warning  in PerceiveBondOrders\n",
      "  Failed to kekulize aromatic bonds in OBMol::PerceiveBondOrders (title is /Users/wangyang/Desktop/小辣椒/07-AIDD/分子对接/data/data_8UAK/protein.pdb)\n",
      "\n"
     ]
    },
    {
     "name": "stdout",
     "output_type": "stream",
     "text": [
      "8UAK - Detected Ligands: ['W39', 'TPO']\n",
      "Processing 8UAK CC1CN(c2ccc(C(F)(F)F)c(-c3cnc(N)c(C(=O)Nc4ncccc4N4CCC(C)(N)CC4)n3)n2)CCO1 W39\n",
      "Processing 8UAK CC1CN(c2ccc(C(F)(F)F)c(-c3cnc(N)c(C(=O)Nc4ncccc4N4CCC(C)(N)CC4)n3)n2)CCO1 TPO\n"
     ]
    },
    {
     "name": "stderr",
     "output_type": "stream",
     "text": [
      "==============================\n",
      "*** Open Babel Warning  in PerceiveBondOrders\n",
      "  Failed to kekulize aromatic bonds in OBMol::PerceiveBondOrders (title is /Users/wangyang/Desktop/小辣椒/07-AIDD/分子对接/data/data_8UAK/protein.pdb)\n",
      "\n"
     ]
    },
    {
     "name": "stdout",
     "output_type": "stream",
     "text": [
      "8UAK - Detected Ligands: ['W39', 'TPO']\n",
      "Processing 8UAK COc1ccnc(-c2cnc(N)c(C(=O)Nc3ncccc3N3CCC(N)(CC#N)CC3)n2)c1C#N W39\n",
      "Processing 8UAK COc1ccnc(-c2cnc(N)c(C(=O)Nc3ncccc3N3CCC(N)(CC#N)CC3)n2)c1C#N TPO\n"
     ]
    },
    {
     "name": "stderr",
     "output_type": "stream",
     "text": [
      "==============================\n",
      "*** Open Babel Warning  in PerceiveBondOrders\n",
      "  Failed to kekulize aromatic bonds in OBMol::PerceiveBondOrders (title is /Users/wangyang/Desktop/小辣椒/07-AIDD/分子对接/data/data_8UAK/protein.pdb)\n",
      "\n"
     ]
    },
    {
     "name": "stdout",
     "output_type": "stream",
     "text": [
      "8UAK - Detected Ligands: ['W39', 'TPO']\n",
      "Processing 8UAK CN(C)c1ccc(C(F)(F)F)c(-c2cnc(N)c(C(=O)Nc3ncccc3N3CCC(C)(N)CC3)n2)n1 W39\n",
      "Processing 8UAK CN(C)c1ccc(C(F)(F)F)c(-c2cnc(N)c(C(=O)Nc3ncccc3N3CCC(C)(N)CC3)n2)n1 TPO\n"
     ]
    },
    {
     "name": "stderr",
     "output_type": "stream",
     "text": [
      "==============================\n",
      "*** Open Babel Warning  in PerceiveBondOrders\n",
      "  Failed to kekulize aromatic bonds in OBMol::PerceiveBondOrders (title is /Users/wangyang/Desktop/小辣椒/07-AIDD/分子对接/data/data_8UAK/protein.pdb)\n",
      "\n"
     ]
    },
    {
     "name": "stdout",
     "output_type": "stream",
     "text": [
      "8UAK - Detected Ligands: ['W39', 'TPO']\n",
      "Processing 8UAK COc1ccnc(-c2cnc(N)c(C(=O)Nc3ncccc3N3CCC(C)(N)CC3)n2)c1F W39\n",
      "Processing 8UAK COc1ccnc(-c2cnc(N)c(C(=O)Nc3ncccc3N3CCC(C)(N)CC3)n2)c1F TPO\n"
     ]
    },
    {
     "name": "stderr",
     "output_type": "stream",
     "text": [
      "==============================\n",
      "*** Open Babel Warning  in PerceiveBondOrders\n",
      "  Failed to kekulize aromatic bonds in OBMol::PerceiveBondOrders (title is /Users/wangyang/Desktop/小辣椒/07-AIDD/分子对接/data/data_8UAK/protein.pdb)\n",
      "\n"
     ]
    },
    {
     "name": "stdout",
     "output_type": "stream",
     "text": [
      "8UAK - Detected Ligands: ['W39', 'TPO']\n",
      "Processing 8UAK CC1(N)CCN(c2cccnc2NC(=O)c2nc(-c3nc(N4CCOCC4)ccc3C(F)(F)F)cnc2N)CC1 W39\n",
      "Processing 8UAK CC1(N)CCN(c2cccnc2NC(=O)c2nc(-c3nc(N4CCOCC4)ccc3C(F)(F)F)cnc2N)CC1 TPO\n"
     ]
    },
    {
     "name": "stderr",
     "output_type": "stream",
     "text": [
      "==============================\n",
      "*** Open Babel Warning  in PerceiveBondOrders\n",
      "  Failed to kekulize aromatic bonds in OBMol::PerceiveBondOrders (title is /Users/wangyang/Desktop/小辣椒/07-AIDD/分子对接/data/data_8UAK/protein.pdb)\n",
      "\n"
     ]
    },
    {
     "name": "stdout",
     "output_type": "stream",
     "text": [
      "8UAK - Detected Ligands: ['W39', 'TPO']\n",
      "Processing 8UAK NC(=O)c1ccccc1Nc1nc(Nc2ccc(N3CCOCC3)cc2F)ncc1Cl W39\n",
      "Processing 8UAK NC(=O)c1ccccc1Nc1nc(Nc2ccc(N3CCOCC3)cc2F)ncc1Cl TPO\n"
     ]
    },
    {
     "name": "stderr",
     "output_type": "stream",
     "text": [
      "==============================\n",
      "*** Open Babel Warning  in PerceiveBondOrders\n",
      "  Failed to kekulize aromatic bonds in OBMol::PerceiveBondOrders (title is /Users/wangyang/Desktop/小辣椒/07-AIDD/分子对接/data/data_8UAK/protein.pdb)\n",
      "\n"
     ]
    },
    {
     "name": "stdout",
     "output_type": "stream",
     "text": [
      "8UAK - Detected Ligands: ['W39', 'TPO']\n",
      "Processing 8UAK CC1(N)CCN(c2cccnc2NC(=O)c2nc(-c3nccc(OC(F)(F)F)c3C#N)cnc2N)CC1 W39\n",
      "Processing 8UAK CC1(N)CCN(c2cccnc2NC(=O)c2nc(-c3nccc(OC(F)(F)F)c3C#N)cnc2N)CC1 TPO\n"
     ]
    },
    {
     "name": "stderr",
     "output_type": "stream",
     "text": [
      "==============================\n",
      "*** Open Babel Warning  in PerceiveBondOrders\n",
      "  Failed to kekulize aromatic bonds in OBMol::PerceiveBondOrders (title is /Users/wangyang/Desktop/小辣椒/07-AIDD/分子对接/data/data_8UAK/protein.pdb)\n",
      "\n"
     ]
    },
    {
     "name": "stdout",
     "output_type": "stream",
     "text": [
      "8UAK - Detected Ligands: ['W39', 'TPO']\n",
      "Processing 8UAK CCC1(N)CCN(c2cccnc2NC(=O)c2nc(-c3ncccc3OC(F)(F)F)cnc2N)CC1 W39\n",
      "Processing 8UAK CCC1(N)CCN(c2cccnc2NC(=O)c2nc(-c3ncccc3OC(F)(F)F)cnc2N)CC1 TPO\n",
      "Docking workflow completed successfully!\n"
     ]
    }
   ],
   "source": [
    "import warnings\n",
    "from pathlib import Path\n",
    "import subprocess\n",
    "from itertools import product\n",
    "import numpy as np\n",
    "import pandas as pd  # 用于记录 CSV 结果\n",
    "from MDAnalysis import Universe\n",
    "from openbabel import pybel\n",
    "import os\n",
    "\n",
    "# Filter warnings\n",
    "warnings.filterwarnings(\"ignore\")\n",
    "\n",
    "# 设置工作目录\n",
    "HERE = Path(os.getcwd())\n",
    "DATA = HERE / 'data'\n",
    "DATA.mkdir(parents=True, exist_ok=True)\n",
    "\n",
    "# CSV 文件路径\n",
    "RESULT_CSV = DATA / 'result_dock.csv'\n",
    "\n",
    "# 初始化 CSV 文件\n",
    "if not RESULT_CSV.exists():\n",
    "    pd.DataFrame(columns=['pdb', 'ligand_resnames', 'smiles', 'dock_info']).to_csv(RESULT_CSV, index=False)\n",
    "\n",
    "\n",
    "class Structure(Universe):\n",
    "    \"\"\"Core object to load structures with.\"\"\"\n",
    "\n",
    "    @classmethod\n",
    "    def from_string(cls, pdb_path):\n",
    "        \"\"\"Load a structure from a local PDB file.\"\"\"\n",
    "        return cls(pdb_path)\n",
    "\n",
    "\n",
    "# 提取蛋白质并保存为 PDB 格式\n",
    "def extract_protein_to_pdb(structure, protein_path):\n",
    "    \"\"\"Extract protein from structure and save it as PDB.\"\"\"\n",
    "    protein = structure.select_atoms(\"protein\")\n",
    "    protein.write(str(protein_path))  # 自动根据扩展名保存为 PDB 格式\n",
    "\n",
    "\n",
    "# 自动检测所有配体残基\n",
    "def find_all_ligand_resnames(structure):\n",
    "    \"\"\"返回所有非蛋白质和非水分子的残基名称列表\"\"\"\n",
    "    ligand_atoms = structure.select_atoms(\"not protein and not resname HOH\")\n",
    "    return list(set(ligand_atoms.resnames))\n",
    "\n",
    "\n",
    "def pdb_to_pdbqt(pdb_path, pdbqt_path, pH=7.4):\n",
    "    \"\"\"Convert a PDB file to a PDBQT file.\"\"\"\n",
    "    molecule = list(pybel.readfile(\"pdb\", str(pdb_path)))[0]\n",
    "    molecule.OBMol.CorrectForPH(pH)\n",
    "    molecule.addh()\n",
    "    for atom in molecule.atoms:\n",
    "        atom.OBAtom.GetPartialCharge()\n",
    "    molecule.write(\"pdbqt\", str(pdbqt_path), overwrite=True)\n",
    "\n",
    "\n",
    "def smiles_to_pdbqt(smiles, pdbqt_path, pH=7.4):\n",
    "    \"\"\"Convert a SMILES string to a PDBQT file.\"\"\"\n",
    "    molecule = pybel.readstring(\"smi\", smiles)\n",
    "    molecule.OBMol.CorrectForPH(pH)\n",
    "    molecule.addh()\n",
    "    molecule.make3D(forcefield=\"mmff94s\", steps=10000)\n",
    "    for atom in molecule.atoms:\n",
    "        atom.OBAtom.GetPartialCharge()\n",
    "    molecule.write(\"pdbqt\", str(pdbqt_path), overwrite=True)\n",
    "\n",
    "\n",
    "def run_smina(ligand_path, protein_path, out_path, pocket_center, pocket_size):\n",
    "    \"\"\"Perform docking with Smina.\"\"\"\n",
    "    output_text = subprocess.check_output([\n",
    "        \"smina\",\n",
    "        \"--receptor\", str(protein_path),\n",
    "        \"--ligand\", str(ligand_path),\n",
    "        \"--out\", str(out_path),\n",
    "        \"--center_x\", str(pocket_center[0]),\n",
    "        \"--center_y\", str(pocket_center[1]),\n",
    "        \"--center_z\", str(pocket_center[2]),\n",
    "        \"--size_x\", str(pocket_size[0]),\n",
    "        \"--size_y\", str(pocket_size[1]),\n",
    "        \"--size_z\", str(pocket_size[2])\n",
    "    ])\n",
    "    return output_text.decode(\"utf-8\")\n",
    "\n",
    "\n",
    "def parse_dock_info(dock_output):\n",
    "    \"\"\"解析 Smina 输出中的对接信息\"\"\"\n",
    "    dock_lines = dock_output.splitlines()\n",
    "    dock_data = []\n",
    "    capture = False\n",
    "    for line in dock_lines:\n",
    "        if \"mode\" in line and \"affinity\" in line:  # 开始捕获表格数据\n",
    "            capture = True\n",
    "            continue\n",
    "        if capture:\n",
    "            if line.strip() == \"\" or \"Refine time\" in line or \"Loop time\" in line:\n",
    "                break\n",
    "            dock_data.append(line.strip())\n",
    "    return \"\\n\".join(dock_data)\n",
    "\n",
    "\n",
    "def split_sdf_file(sdf_path):\n",
    "    \"\"\"Split an SDF file into separate files for each molecule.\"\"\"\n",
    "    sdf_path = Path(sdf_path)\n",
    "    stem = sdf_path.stem\n",
    "    parent = sdf_path.parent\n",
    "    molecules = pybel.readfile(\"sdf\", str(sdf_path))\n",
    "    for i, molecule in enumerate(molecules, 1):\n",
    "        molecule.write(\"sdf\", str(parent / f\"{stem}_{i}.sdf\"), overwrite=True)\n",
    "\n",
    "\n",
    "# 主程序\n",
    "pdb_list = ['7N8T', '8ELC', '4RA4', '8U37', '8UAK']\n",
    "# 读取data里面的pic50_greater_equal_9.0.csv文件，获取其中的smiles，前面的50个\n",
    "smiles_list = pd.read_csv('data/pic50_greater_equal_9.0.csv')['smiles'][:50]\n",
    "# smiles_list = [\n",
    "#     \"CC1(N)CCN(c2cccnc2NC(=O)c2nc(-c3nc(N4CCOCC4)cc4ccccc34)cnc2N)CC1\",\n",
    "#     \"Nc1ncc(-c2cccc(N3CCOCC3)c2)nc1C(=O)Nc1ncccc1N1CCC(N)CC1\",\n",
    "# ]\n",
    "\n",
    "# 遍历所有 PDB 和 SMILES 的笛卡尔积\n",
    "for pdb_id, smiles in product(pdb_list, smiles_list):\n",
    "    # 创建每个 PDB 的独立目录\n",
    "    pdb_dir = DATA / f\"data_{pdb_id}\"\n",
    "    pdb_dir.mkdir(parents=True, exist_ok=True)\n",
    "\n",
    "    # 定义 PDB 文件路径\n",
    "    pdb_path = pdb_dir / f\"{pdb_id}.pdb\"\n",
    "\n",
    "    # 加载结构\n",
    "    structure = Structure.from_string(pdb_path)\n",
    "\n",
    "    # 提取并保存蛋白质部分\n",
    "    protein_path = pdb_dir / \"protein.pdb\"\n",
    "    extract_protein_to_pdb(structure, protein_path)\n",
    "\n",
    "    # 转换蛋白质为 PDBQT 格式\n",
    "    protein_pdbqt_path = pdb_dir / \"protein.pdbqt\"\n",
    "    pdb_to_pdbqt(protein_path, protein_pdbqt_path)\n",
    "\n",
    "    # 检测所有 ligand\n",
    "    all_ligands = find_all_ligand_resnames(structure)\n",
    "    print(f\"{pdb_id} - Detected Ligands: {all_ligands}\")\n",
    "\n",
    "    # 对所有 ligand 进行处理\n",
    "    for ligand_resname in all_ligands:\n",
    "        # 创建 ligand-specific 子目录\n",
    "        ligand_dir = pdb_dir / f\"ligand_{ligand_resname}\"\n",
    "        ligand_dir.mkdir(parents=True, exist_ok=True)\n",
    "\n",
    "        # 自动检测口袋中心和大小\n",
    "        ligand = structure.select_atoms(f\"resname {ligand_resname}\")\n",
    "        print(f\"Processing {pdb_id} {smiles} {ligand_resname}\")\n",
    "        pocket_center = (ligand.positions.max(axis=0) + ligand.positions.min(axis=0)) / 2\n",
    "        pocket_size = ligand.positions.max(axis=0) - ligand.positions.min(axis=0) + 5\n",
    "\n",
    "        # 创建针对 SMILES 的子目录\n",
    "        smiles_hash = smiles.replace(\"(\", \"\").replace(\")\", \"\").replace(\"=\", \"\").replace(\"-\", \"\").replace(\"/\", \"\").replace(\"\\\\\", \"\").replace(\".\", \"\").replace(\",\", \"\").replace(\":\", \"\")\n",
    "        smiles_dir = ligand_dir / f\"smiles_{smiles_hash}\"\n",
    "        smiles_dir.mkdir(parents=True, exist_ok=True)\n",
    "\n",
    "        # 定义文件路径\n",
    "        ligand_path = smiles_dir / \"ligand.pdbqt\"\n",
    "        docking_out_path = smiles_dir / \"ligand_docking.sdf\"\n",
    "        log_path = smiles_dir / \"docking_log.txt\"\n",
    "\n",
    "        # 转换配体为 PDBQT 格式\n",
    "        smiles_to_pdbqt(smiles, ligand_path)\n",
    "\n",
    "        # 运行对接并保存日志\n",
    "        docking_output = run_smina(ligand_path, protein_pdbqt_path, docking_out_path, pocket_center, pocket_size)\n",
    "        with open(log_path, \"w\") as log_file:\n",
    "            log_file.write(f\"PDB: {pdb_id}\\nSMILES: {smiles}\\nLigand Resname: {ligand_resname}\\n\")\n",
    "            log_file.write(f\"Pocket Center: {pocket_center}\\nPocket Size: {pocket_size}\\n\\nDocking Output:\\n\")\n",
    "            log_file.write(docking_output)\n",
    "\n",
    "        # 拆分 SDF 文件\n",
    "        split_sdf_file(docking_out_path)\n",
    "\n",
    "        # 提取对接结果并更新到 CSV\n",
    "        dock_info = parse_dock_info(docking_output)\n",
    "        new_row = {'pdb': pdb_id, 'ligand_resnames': ligand_resname, 'smiles': smiles, 'dock_info': dock_info}\n",
    "        result_df = pd.read_csv(RESULT_CSV)\n",
    "        result_df = pd.concat([result_df, pd.DataFrame([new_row])], ignore_index=True)\n",
    "        # 保存更新的结果到 CSV 文件\n",
    "        result_df.to_csv(RESULT_CSV, index=False)\n",
    "\n",
    "print(\"Docking workflow completed successfully!\")\n"
   ]
  },
  {
   "cell_type": "code",
   "outputs": [],
   "source": [],
   "metadata": {
    "collapsed": false,
    "ExecuteTime": {
     "end_time": "2024-11-19T08:32:55.405592Z",
     "start_time": "2024-11-19T08:32:55.401541Z"
    }
   },
   "id": "1fd2352c63ba00c1",
   "execution_count": 1
  },
  {
   "cell_type": "code",
   "outputs": [],
   "source": [],
   "metadata": {
    "collapsed": false,
    "ExecuteTime": {
     "end_time": "2024-11-19T08:32:55.410023Z",
     "start_time": "2024-11-19T08:32:55.407250Z"
    }
   },
   "id": "2dfd176f7354dc6c",
   "execution_count": 1
  },
  {
   "cell_type": "code",
   "outputs": [
    {
     "ename": "FileNotFoundError",
     "evalue": "[Errno 2] No such file or directory: '7N8T.pdb'",
     "output_type": "error",
     "traceback": [
      "\u001B[0;31m---------------------------------------------------------------------------\u001B[0m",
      "\u001B[0;31mFileNotFoundError\u001B[0m                         Traceback (most recent call last)",
      "    \u001B[0;31m[... skipping hidden 1 frame]\u001B[0m\n",
      "Cell \u001B[0;32mIn[6], line 10\u001B[0m\n\u001B[1;32m      9\u001B[0m \u001B[38;5;28;01mfor\u001B[39;00m pdb \u001B[38;5;129;01min\u001B[39;00m pdb_list:\n\u001B[0;32m---> 10\u001B[0m     structure \u001B[38;5;241m=\u001B[39m \u001B[43mStructure\u001B[49m\u001B[38;5;241;43m.\u001B[39;49m\u001B[43mfrom_string\u001B[49m\u001B[43m(\u001B[49m\u001B[38;5;124;43mf\u001B[39;49m\u001B[38;5;124;43m\"\u001B[39;49m\u001B[38;5;132;43;01m{\u001B[39;49;00m\u001B[43mpdb\u001B[49m\u001B[38;5;132;43;01m}\u001B[39;49;00m\u001B[38;5;124;43m.pdb\u001B[39;49m\u001B[38;5;124;43m\"\u001B[39;49m\u001B[43m)\u001B[49m\n\u001B[1;32m     11\u001B[0m     extract_protein_to_pdb(structure, DATA \u001B[38;5;241m/\u001B[39m \u001B[38;5;124mf\u001B[39m\u001B[38;5;124m\"\u001B[39m\u001B[38;5;132;01m{\u001B[39;00mpdb\u001B[38;5;132;01m}\u001B[39;00m\u001B[38;5;124m_protein.pdb\u001B[39m\u001B[38;5;124m\"\u001B[39m)\n",
      "Cell \u001B[0;32mIn[5], line 37\u001B[0m, in \u001B[0;36mStructure.from_string\u001B[0;34m(cls, pdb_path)\u001B[0m\n\u001B[1;32m     36\u001B[0m \u001B[38;5;250m\u001B[39m\u001B[38;5;124;03m\"\"\"从本地 PDB 文件加载结构\"\"\"\u001B[39;00m\n\u001B[0;32m---> 37\u001B[0m \u001B[38;5;28;01mreturn\u001B[39;00m \u001B[38;5;28;43mcls\u001B[39;49m\u001B[43m(\u001B[49m\u001B[43mpdb_path\u001B[49m\u001B[43m)\u001B[49m\n",
      "File \u001B[0;32m/opt/anaconda3/envs/teachopencadd/lib/python3.8/site-packages/MDAnalysis/core/universe.py:346\u001B[0m, in \u001B[0;36mUniverse.__init__\u001B[0;34m(self, topology, all_coordinates, format, topology_format, transformations, guess_bonds, vdwradii, in_memory, in_memory_step, *coordinates, **kwargs)\u001B[0m\n\u001B[1;32m    345\u001B[0m     \u001B[38;5;28mself\u001B[39m\u001B[38;5;241m.\u001B[39mfilename \u001B[38;5;241m=\u001B[39m _check_file_like(topology)\n\u001B[0;32m--> 346\u001B[0m     topology \u001B[38;5;241m=\u001B[39m \u001B[43m_topology_from_file_like\u001B[49m\u001B[43m(\u001B[49m\u001B[38;5;28;43mself\u001B[39;49m\u001B[38;5;241;43m.\u001B[39;49m\u001B[43mfilename\u001B[49m\u001B[43m,\u001B[49m\n\u001B[1;32m    347\u001B[0m \u001B[43m                                        \u001B[49m\u001B[43mtopology_format\u001B[49m\u001B[38;5;241;43m=\u001B[39;49m\u001B[43mtopology_format\u001B[49m\u001B[43m,\u001B[49m\n\u001B[1;32m    348\u001B[0m \u001B[43m                                        \u001B[49m\u001B[38;5;241;43m*\u001B[39;49m\u001B[38;5;241;43m*\u001B[39;49m\u001B[43mkwargs\u001B[49m\u001B[43m)\u001B[49m\n\u001B[1;32m    350\u001B[0m \u001B[38;5;28;01mif\u001B[39;00m topology \u001B[38;5;129;01mis\u001B[39;00m \u001B[38;5;129;01mnot\u001B[39;00m \u001B[38;5;28;01mNone\u001B[39;00m:\n",
      "File \u001B[0;32m/opt/anaconda3/envs/teachopencadd/lib/python3.8/site-packages/MDAnalysis/core/universe.py:118\u001B[0m, in \u001B[0;36m_topology_from_file_like\u001B[0;34m(topology_file, topology_format, **kwargs)\u001B[0m\n\u001B[1;32m    115\u001B[0m \u001B[38;5;28;01mif\u001B[39;00m (err\u001B[38;5;241m.\u001B[39merrno \u001B[38;5;129;01mis\u001B[39;00m \u001B[38;5;129;01mnot\u001B[39;00m \u001B[38;5;28;01mNone\u001B[39;00m \u001B[38;5;129;01mand\u001B[39;00m\n\u001B[1;32m    116\u001B[0m     errno\u001B[38;5;241m.\u001B[39merrorcode[err\u001B[38;5;241m.\u001B[39merrno] \u001B[38;5;129;01min\u001B[39;00m [\u001B[38;5;124m'\u001B[39m\u001B[38;5;124mENOENT\u001B[39m\u001B[38;5;124m'\u001B[39m, \u001B[38;5;124m'\u001B[39m\u001B[38;5;124mEACCES\u001B[39m\u001B[38;5;124m'\u001B[39m]):\n\u001B[1;32m    117\u001B[0m     \u001B[38;5;66;03m# Runs if the error is propagated due to no permission / file not found\u001B[39;00m\n\u001B[0;32m--> 118\u001B[0m     \u001B[38;5;28;01mraise\u001B[39;00m sys\u001B[38;5;241m.\u001B[39mexc_info()[\u001B[38;5;241m1\u001B[39m] \u001B[38;5;28;01mfrom\u001B[39;00m \u001B[38;5;21;01merr\u001B[39;00m\n\u001B[1;32m    119\u001B[0m \u001B[38;5;28;01melse\u001B[39;00m:\n\u001B[1;32m    120\u001B[0m     \u001B[38;5;66;03m# Runs when the parser fails\u001B[39;00m\n",
      "File \u001B[0;32m/opt/anaconda3/envs/teachopencadd/lib/python3.8/site-packages/MDAnalysis/core/universe.py:110\u001B[0m, in \u001B[0;36m_topology_from_file_like\u001B[0;34m(topology_file, topology_format, **kwargs)\u001B[0m\n\u001B[1;32m    109\u001B[0m     \u001B[38;5;28;01mwith\u001B[39;00m parser(topology_file) \u001B[38;5;28;01mas\u001B[39;00m p:\n\u001B[0;32m--> 110\u001B[0m         topology \u001B[38;5;241m=\u001B[39m \u001B[43mp\u001B[49m\u001B[38;5;241;43m.\u001B[39;49m\u001B[43mparse\u001B[49m\u001B[43m(\u001B[49m\u001B[38;5;241;43m*\u001B[39;49m\u001B[38;5;241;43m*\u001B[39;49m\u001B[43mkwargs\u001B[49m\u001B[43m)\u001B[49m\n\u001B[1;32m    111\u001B[0m \u001B[38;5;28;01mexcept\u001B[39;00m (\u001B[38;5;167;01mIOError\u001B[39;00m, \u001B[38;5;167;01mOSError\u001B[39;00m) \u001B[38;5;28;01mas\u001B[39;00m err:\n\u001B[1;32m    112\u001B[0m     \u001B[38;5;66;03m# There are 2 kinds of errors that might be raised here:\u001B[39;00m\n\u001B[1;32m    113\u001B[0m     \u001B[38;5;66;03m# one because the file isn't present\u001B[39;00m\n\u001B[1;32m    114\u001B[0m     \u001B[38;5;66;03m# or the permissions are bad, second when the parser fails\u001B[39;00m\n",
      "File \u001B[0;32m/opt/anaconda3/envs/teachopencadd/lib/python3.8/site-packages/MDAnalysis/topology/PDBParser.py:207\u001B[0m, in \u001B[0;36mPDBParser.parse\u001B[0;34m(self, **kwargs)\u001B[0m\n\u001B[1;32m    201\u001B[0m \u001B[38;5;250m\u001B[39m\u001B[38;5;124;03m\"\"\"Parse atom information from PDB file\u001B[39;00m\n\u001B[1;32m    202\u001B[0m \n\u001B[1;32m    203\u001B[0m \u001B[38;5;124;03mReturns\u001B[39;00m\n\u001B[1;32m    204\u001B[0m \u001B[38;5;124;03m-------\u001B[39;00m\n\u001B[1;32m    205\u001B[0m \u001B[38;5;124;03mMDAnalysis Topology object\u001B[39;00m\n\u001B[1;32m    206\u001B[0m \u001B[38;5;124;03m\"\"\"\u001B[39;00m\n\u001B[0;32m--> 207\u001B[0m top \u001B[38;5;241m=\u001B[39m \u001B[38;5;28;43mself\u001B[39;49m\u001B[38;5;241;43m.\u001B[39;49m\u001B[43m_parseatoms\u001B[49m\u001B[43m(\u001B[49m\u001B[43m)\u001B[49m\n\u001B[1;32m    209\u001B[0m \u001B[38;5;28;01mtry\u001B[39;00m:\n",
      "File \u001B[0;32m/opt/anaconda3/envs/teachopencadd/lib/python3.8/site-packages/MDAnalysis/topology/PDBParser.py:244\u001B[0m, in \u001B[0;36mPDBParser._parseatoms\u001B[0;34m(self)\u001B[0m\n\u001B[1;32m    243\u001B[0m last_wrapped_serial \u001B[38;5;241m=\u001B[39m \u001B[38;5;241m100000\u001B[39m  \u001B[38;5;66;03m# if serials wrap, start from here\u001B[39;00m\n\u001B[0;32m--> 244\u001B[0m \u001B[38;5;28;01mwith\u001B[39;00m util\u001B[38;5;241m.\u001B[39mopenany(\u001B[38;5;28mself\u001B[39m\u001B[38;5;241m.\u001B[39mfilename) \u001B[38;5;28;01mas\u001B[39;00m f:\n\u001B[1;32m    245\u001B[0m     \u001B[38;5;28;01mfor\u001B[39;00m line \u001B[38;5;129;01min\u001B[39;00m f:\n",
      "File \u001B[0;32m/opt/anaconda3/envs/teachopencadd/lib/python3.8/contextlib.py:113\u001B[0m, in \u001B[0;36m_GeneratorContextManager.__enter__\u001B[0;34m(self)\u001B[0m\n\u001B[1;32m    112\u001B[0m \u001B[38;5;28;01mtry\u001B[39;00m:\n\u001B[0;32m--> 113\u001B[0m     \u001B[38;5;28;01mreturn\u001B[39;00m \u001B[38;5;28;43mnext\u001B[39;49m\u001B[43m(\u001B[49m\u001B[38;5;28;43mself\u001B[39;49m\u001B[38;5;241;43m.\u001B[39;49m\u001B[43mgen\u001B[49m\u001B[43m)\u001B[49m\n\u001B[1;32m    114\u001B[0m \u001B[38;5;28;01mexcept\u001B[39;00m \u001B[38;5;167;01mStopIteration\u001B[39;00m:\n",
      "File \u001B[0;32m/opt/anaconda3/envs/teachopencadd/lib/python3.8/site-packages/MDAnalysis/lib/util.py:318\u001B[0m, in \u001B[0;36mopenany\u001B[0;34m(datasource, mode, reset)\u001B[0m\n\u001B[1;32m    276\u001B[0m \u001B[38;5;250m\u001B[39m\u001B[38;5;124;03m\"\"\"Context manager for :func:`anyopen`.\u001B[39;00m\n\u001B[1;32m    277\u001B[0m \n\u001B[1;32m    278\u001B[0m \u001B[38;5;124;03mOpen the `datasource` and close it when the context of the :keyword:`with`\u001B[39;00m\n\u001B[0;32m   (...)\u001B[0m\n\u001B[1;32m    316\u001B[0m \u001B[38;5;124;03m:func:`anyopen`\u001B[39;00m\n\u001B[1;32m    317\u001B[0m \u001B[38;5;124;03m\"\"\"\u001B[39;00m\n\u001B[0;32m--> 318\u001B[0m stream \u001B[38;5;241m=\u001B[39m \u001B[43manyopen\u001B[49m\u001B[43m(\u001B[49m\u001B[43mdatasource\u001B[49m\u001B[43m,\u001B[49m\u001B[43m \u001B[49m\u001B[43mmode\u001B[49m\u001B[38;5;241;43m=\u001B[39;49m\u001B[43mmode\u001B[49m\u001B[43m,\u001B[49m\u001B[43m \u001B[49m\u001B[43mreset\u001B[49m\u001B[38;5;241;43m=\u001B[39;49m\u001B[43mreset\u001B[49m\u001B[43m)\u001B[49m\n\u001B[1;32m    319\u001B[0m \u001B[38;5;28;01mtry\u001B[39;00m:\n",
      "File \u001B[0;32m/opt/anaconda3/envs/teachopencadd/lib/python3.8/site-packages/MDAnalysis/lib/util.py:397\u001B[0m, in \u001B[0;36manyopen\u001B[0;34m(datasource, mode, reset)\u001B[0m\n\u001B[1;32m    396\u001B[0m openfunc \u001B[38;5;241m=\u001B[39m read_handlers[ext]\n\u001B[0;32m--> 397\u001B[0m stream \u001B[38;5;241m=\u001B[39m \u001B[43m_get_stream\u001B[49m\u001B[43m(\u001B[49m\u001B[43mdatasource\u001B[49m\u001B[43m,\u001B[49m\u001B[43m \u001B[49m\u001B[43mopenfunc\u001B[49m\u001B[43m,\u001B[49m\u001B[43m \u001B[49m\u001B[43mmode\u001B[49m\u001B[38;5;241;43m=\u001B[39;49m\u001B[43mmode\u001B[49m\u001B[43m)\u001B[49m\n\u001B[1;32m    398\u001B[0m \u001B[38;5;28;01mif\u001B[39;00m stream \u001B[38;5;129;01mis\u001B[39;00m \u001B[38;5;129;01mnot\u001B[39;00m \u001B[38;5;28;01mNone\u001B[39;00m:\n",
      "File \u001B[0;32m/opt/anaconda3/envs/teachopencadd/lib/python3.8/site-packages/MDAnalysis/lib/util.py:439\u001B[0m, in \u001B[0;36m_get_stream\u001B[0;34m(filename, openfunction, mode)\u001B[0m\n\u001B[1;32m    438\u001B[0m \u001B[38;5;28;01mif\u001B[39;00m errno\u001B[38;5;241m.\u001B[39merrorcode[err\u001B[38;5;241m.\u001B[39merrno] \u001B[38;5;129;01min\u001B[39;00m [\u001B[38;5;124m'\u001B[39m\u001B[38;5;124mENOENT\u001B[39m\u001B[38;5;124m'\u001B[39m, \u001B[38;5;124m'\u001B[39m\u001B[38;5;124mEACCES\u001B[39m\u001B[38;5;124m'\u001B[39m]:\n\u001B[0;32m--> 439\u001B[0m     \u001B[38;5;28;01mraise\u001B[39;00m sys\u001B[38;5;241m.\u001B[39mexc_info()[\u001B[38;5;241m1\u001B[39m] \u001B[38;5;28;01mfrom\u001B[39;00m \u001B[38;5;21;01merr\u001B[39;00m\n\u001B[1;32m    440\u001B[0m \u001B[38;5;28;01mreturn\u001B[39;00m \u001B[38;5;28;01mNone\u001B[39;00m\n",
      "File \u001B[0;32m/opt/anaconda3/envs/teachopencadd/lib/python3.8/site-packages/MDAnalysis/lib/util.py:433\u001B[0m, in \u001B[0;36m_get_stream\u001B[0;34m(filename, openfunction, mode)\u001B[0m\n\u001B[1;32m    432\u001B[0m \u001B[38;5;28;01mtry\u001B[39;00m:\n\u001B[0;32m--> 433\u001B[0m     stream \u001B[38;5;241m=\u001B[39m \u001B[43mopenfunction\u001B[49m\u001B[43m(\u001B[49m\u001B[43mfilename\u001B[49m\u001B[43m,\u001B[49m\u001B[43m \u001B[49m\u001B[43mmode\u001B[49m\u001B[38;5;241;43m=\u001B[39;49m\u001B[43mmode\u001B[49m\u001B[43m)\u001B[49m\n\u001B[1;32m    434\u001B[0m \u001B[38;5;28;01mexcept\u001B[39;00m (\u001B[38;5;167;01mIOError\u001B[39;00m, \u001B[38;5;167;01mOSError\u001B[39;00m) \u001B[38;5;28;01mas\u001B[39;00m err:\n\u001B[1;32m    435\u001B[0m     \u001B[38;5;66;03m# An exception might be raised due to two reasons, first the openfunction is unable to open the file, in this\u001B[39;00m\n\u001B[1;32m    436\u001B[0m     \u001B[38;5;66;03m# case we have to ignore the error and return None. Second is when openfunction can't open the file because\u001B[39;00m\n\u001B[1;32m    437\u001B[0m     \u001B[38;5;66;03m# either the file isn't there or the permissions don't allow access.\u001B[39;00m\n",
      "File \u001B[0;32m/opt/anaconda3/envs/teachopencadd/lib/python3.8/site-packages/MDAnalysis/lib/picklable_file_io.py:478\u001B[0m, in \u001B[0;36mbz2_pickle_open\u001B[0;34m(name, mode)\u001B[0m\n\u001B[1;32m    477\u001B[0m bz_mode \u001B[38;5;241m=\u001B[39m mode\u001B[38;5;241m.\u001B[39mreplace(\u001B[38;5;124m\"\u001B[39m\u001B[38;5;124mt\u001B[39m\u001B[38;5;124m\"\u001B[39m, \u001B[38;5;124m\"\u001B[39m\u001B[38;5;124m\"\u001B[39m)\n\u001B[0;32m--> 478\u001B[0m binary_file \u001B[38;5;241m=\u001B[39m \u001B[43mBZ2Picklable\u001B[49m\u001B[43m(\u001B[49m\u001B[43mname\u001B[49m\u001B[43m,\u001B[49m\u001B[43m \u001B[49m\u001B[43mbz_mode\u001B[49m\u001B[43m)\u001B[49m\n\u001B[1;32m    479\u001B[0m \u001B[38;5;28;01mif\u001B[39;00m \u001B[38;5;124m\"\u001B[39m\u001B[38;5;124mt\u001B[39m\u001B[38;5;124m\"\u001B[39m \u001B[38;5;129;01min\u001B[39;00m mode:\n",
      "File \u001B[0;32m/opt/anaconda3/envs/teachopencadd/lib/python3.8/site-packages/MDAnalysis/lib/picklable_file_io.py:266\u001B[0m, in \u001B[0;36mBZ2Picklable.__init__\u001B[0;34m(self, name, mode)\u001B[0m\n\u001B[1;32m    265\u001B[0m \u001B[38;5;28mself\u001B[39m\u001B[38;5;241m.\u001B[39m_bz_mode \u001B[38;5;241m=\u001B[39m mode\n\u001B[0;32m--> 266\u001B[0m \u001B[38;5;28;43msuper\u001B[39;49m\u001B[43m(\u001B[49m\u001B[43m)\u001B[49m\u001B[38;5;241;43m.\u001B[39;49m\u001B[38;5;21;43m__init__\u001B[39;49m\u001B[43m(\u001B[49m\u001B[43mname\u001B[49m\u001B[43m,\u001B[49m\u001B[43m \u001B[49m\u001B[43mmode\u001B[49m\u001B[43m)\u001B[49m\n",
      "File \u001B[0;32m/opt/anaconda3/envs/teachopencadd/lib/python3.8/bz2.py:96\u001B[0m, in \u001B[0;36mBZ2File.__init__\u001B[0;34m(self, filename, mode, buffering, compresslevel)\u001B[0m\n\u001B[1;32m     95\u001B[0m \u001B[38;5;28;01mif\u001B[39;00m \u001B[38;5;28misinstance\u001B[39m(filename, (\u001B[38;5;28mstr\u001B[39m, \u001B[38;5;28mbytes\u001B[39m, os\u001B[38;5;241m.\u001B[39mPathLike)):\n\u001B[0;32m---> 96\u001B[0m     \u001B[38;5;28mself\u001B[39m\u001B[38;5;241m.\u001B[39m_fp \u001B[38;5;241m=\u001B[39m \u001B[43m_builtin_open\u001B[49m\u001B[43m(\u001B[49m\u001B[43mfilename\u001B[49m\u001B[43m,\u001B[49m\u001B[43m \u001B[49m\u001B[43mmode\u001B[49m\u001B[43m)\u001B[49m\n\u001B[1;32m     97\u001B[0m     \u001B[38;5;28mself\u001B[39m\u001B[38;5;241m.\u001B[39m_closefp \u001B[38;5;241m=\u001B[39m \u001B[38;5;28;01mTrue\u001B[39;00m\n",
      "\u001B[0;31mFileNotFoundError\u001B[0m: [Errno 2] No such file or directory: '7N8T.pdb'",
      "\nThe above exception was the direct cause of the following exception:\n",
      "\u001B[0;31mFileNotFoundError\u001B[0m                         Traceback (most recent call last)",
      "    \u001B[0;31m[... skipping hidden 1 frame]\u001B[0m\n",
      "Cell \u001B[0;32mIn[6], line 10\u001B[0m\n\u001B[1;32m      9\u001B[0m \u001B[38;5;28;01mfor\u001B[39;00m pdb \u001B[38;5;129;01min\u001B[39;00m pdb_list:\n\u001B[0;32m---> 10\u001B[0m     structure \u001B[38;5;241m=\u001B[39m \u001B[43mStructure\u001B[49m\u001B[38;5;241;43m.\u001B[39;49m\u001B[43mfrom_string\u001B[49m\u001B[43m(\u001B[49m\u001B[38;5;124;43mf\u001B[39;49m\u001B[38;5;124;43m\"\u001B[39;49m\u001B[38;5;132;43;01m{\u001B[39;49;00m\u001B[43mpdb\u001B[49m\u001B[38;5;132;43;01m}\u001B[39;49;00m\u001B[38;5;124;43m.pdb\u001B[39;49m\u001B[38;5;124;43m\"\u001B[39;49m\u001B[43m)\u001B[49m\n\u001B[1;32m     11\u001B[0m     extract_protein_to_pdb(structure, DATA \u001B[38;5;241m/\u001B[39m \u001B[38;5;124mf\u001B[39m\u001B[38;5;124m\"\u001B[39m\u001B[38;5;132;01m{\u001B[39;00mpdb\u001B[38;5;132;01m}\u001B[39;00m\u001B[38;5;124m_protein.pdb\u001B[39m\u001B[38;5;124m\"\u001B[39m)\n",
      "Cell \u001B[0;32mIn[5], line 37\u001B[0m, in \u001B[0;36mStructure.from_string\u001B[0;34m(cls, pdb_path)\u001B[0m\n\u001B[1;32m     36\u001B[0m \u001B[38;5;250m\u001B[39m\u001B[38;5;124;03m\"\"\"从本地 PDB 文件加载结构\"\"\"\u001B[39;00m\n\u001B[0;32m---> 37\u001B[0m \u001B[38;5;28;01mreturn\u001B[39;00m \u001B[38;5;28;43mcls\u001B[39;49m\u001B[43m(\u001B[49m\u001B[43mpdb_path\u001B[49m\u001B[43m)\u001B[49m\n",
      "File \u001B[0;32m/opt/anaconda3/envs/teachopencadd/lib/python3.8/site-packages/MDAnalysis/core/universe.py:346\u001B[0m, in \u001B[0;36mUniverse.__init__\u001B[0;34m(self, topology, all_coordinates, format, topology_format, transformations, guess_bonds, vdwradii, in_memory, in_memory_step, *coordinates, **kwargs)\u001B[0m\n\u001B[1;32m    345\u001B[0m     \u001B[38;5;28mself\u001B[39m\u001B[38;5;241m.\u001B[39mfilename \u001B[38;5;241m=\u001B[39m _check_file_like(topology)\n\u001B[0;32m--> 346\u001B[0m     topology \u001B[38;5;241m=\u001B[39m \u001B[43m_topology_from_file_like\u001B[49m\u001B[43m(\u001B[49m\u001B[38;5;28;43mself\u001B[39;49m\u001B[38;5;241;43m.\u001B[39;49m\u001B[43mfilename\u001B[49m\u001B[43m,\u001B[49m\n\u001B[1;32m    347\u001B[0m \u001B[43m                                        \u001B[49m\u001B[43mtopology_format\u001B[49m\u001B[38;5;241;43m=\u001B[39;49m\u001B[43mtopology_format\u001B[49m\u001B[43m,\u001B[49m\n\u001B[1;32m    348\u001B[0m \u001B[43m                                        \u001B[49m\u001B[38;5;241;43m*\u001B[39;49m\u001B[38;5;241;43m*\u001B[39;49m\u001B[43mkwargs\u001B[49m\u001B[43m)\u001B[49m\n\u001B[1;32m    350\u001B[0m \u001B[38;5;28;01mif\u001B[39;00m topology \u001B[38;5;129;01mis\u001B[39;00m \u001B[38;5;129;01mnot\u001B[39;00m \u001B[38;5;28;01mNone\u001B[39;00m:\n",
      "File \u001B[0;32m/opt/anaconda3/envs/teachopencadd/lib/python3.8/site-packages/MDAnalysis/core/universe.py:118\u001B[0m, in \u001B[0;36m_topology_from_file_like\u001B[0;34m(topology_file, topology_format, **kwargs)\u001B[0m\n\u001B[1;32m    115\u001B[0m \u001B[38;5;28;01mif\u001B[39;00m (err\u001B[38;5;241m.\u001B[39merrno \u001B[38;5;129;01mis\u001B[39;00m \u001B[38;5;129;01mnot\u001B[39;00m \u001B[38;5;28;01mNone\u001B[39;00m \u001B[38;5;129;01mand\u001B[39;00m\n\u001B[1;32m    116\u001B[0m     errno\u001B[38;5;241m.\u001B[39merrorcode[err\u001B[38;5;241m.\u001B[39merrno] \u001B[38;5;129;01min\u001B[39;00m [\u001B[38;5;124m'\u001B[39m\u001B[38;5;124mENOENT\u001B[39m\u001B[38;5;124m'\u001B[39m, \u001B[38;5;124m'\u001B[39m\u001B[38;5;124mEACCES\u001B[39m\u001B[38;5;124m'\u001B[39m]):\n\u001B[1;32m    117\u001B[0m     \u001B[38;5;66;03m# Runs if the error is propagated due to no permission / file not found\u001B[39;00m\n\u001B[0;32m--> 118\u001B[0m     \u001B[38;5;28;01mraise\u001B[39;00m sys\u001B[38;5;241m.\u001B[39mexc_info()[\u001B[38;5;241m1\u001B[39m] \u001B[38;5;28;01mfrom\u001B[39;00m \u001B[38;5;21;01merr\u001B[39;00m\n\u001B[1;32m    119\u001B[0m \u001B[38;5;28;01melse\u001B[39;00m:\n\u001B[1;32m    120\u001B[0m     \u001B[38;5;66;03m# Runs when the parser fails\u001B[39;00m\n",
      "File \u001B[0;32m/opt/anaconda3/envs/teachopencadd/lib/python3.8/site-packages/MDAnalysis/core/universe.py:110\u001B[0m, in \u001B[0;36m_topology_from_file_like\u001B[0;34m(topology_file, topology_format, **kwargs)\u001B[0m\n\u001B[1;32m    109\u001B[0m     \u001B[38;5;28;01mwith\u001B[39;00m parser(topology_file) \u001B[38;5;28;01mas\u001B[39;00m p:\n\u001B[0;32m--> 110\u001B[0m         topology \u001B[38;5;241m=\u001B[39m \u001B[43mp\u001B[49m\u001B[38;5;241;43m.\u001B[39;49m\u001B[43mparse\u001B[49m\u001B[43m(\u001B[49m\u001B[38;5;241;43m*\u001B[39;49m\u001B[38;5;241;43m*\u001B[39;49m\u001B[43mkwargs\u001B[49m\u001B[43m)\u001B[49m\n\u001B[1;32m    111\u001B[0m \u001B[38;5;28;01mexcept\u001B[39;00m (\u001B[38;5;167;01mIOError\u001B[39;00m, \u001B[38;5;167;01mOSError\u001B[39;00m) \u001B[38;5;28;01mas\u001B[39;00m err:\n\u001B[1;32m    112\u001B[0m     \u001B[38;5;66;03m# There are 2 kinds of errors that might be raised here:\u001B[39;00m\n\u001B[1;32m    113\u001B[0m     \u001B[38;5;66;03m# one because the file isn't present\u001B[39;00m\n\u001B[1;32m    114\u001B[0m     \u001B[38;5;66;03m# or the permissions are bad, second when the parser fails\u001B[39;00m\n",
      "File \u001B[0;32m/opt/anaconda3/envs/teachopencadd/lib/python3.8/site-packages/MDAnalysis/topology/PDBParser.py:207\u001B[0m, in \u001B[0;36mPDBParser.parse\u001B[0;34m(self, **kwargs)\u001B[0m\n\u001B[1;32m    201\u001B[0m \u001B[38;5;250m\u001B[39m\u001B[38;5;124;03m\"\"\"Parse atom information from PDB file\u001B[39;00m\n\u001B[1;32m    202\u001B[0m \n\u001B[1;32m    203\u001B[0m \u001B[38;5;124;03mReturns\u001B[39;00m\n\u001B[1;32m    204\u001B[0m \u001B[38;5;124;03m-------\u001B[39;00m\n\u001B[1;32m    205\u001B[0m \u001B[38;5;124;03mMDAnalysis Topology object\u001B[39;00m\n\u001B[1;32m    206\u001B[0m \u001B[38;5;124;03m\"\"\"\u001B[39;00m\n\u001B[0;32m--> 207\u001B[0m top \u001B[38;5;241m=\u001B[39m \u001B[38;5;28;43mself\u001B[39;49m\u001B[38;5;241;43m.\u001B[39;49m\u001B[43m_parseatoms\u001B[49m\u001B[43m(\u001B[49m\u001B[43m)\u001B[49m\n\u001B[1;32m    209\u001B[0m \u001B[38;5;28;01mtry\u001B[39;00m:\n",
      "File \u001B[0;32m/opt/anaconda3/envs/teachopencadd/lib/python3.8/site-packages/MDAnalysis/topology/PDBParser.py:244\u001B[0m, in \u001B[0;36mPDBParser._parseatoms\u001B[0;34m(self)\u001B[0m\n\u001B[1;32m    243\u001B[0m last_wrapped_serial \u001B[38;5;241m=\u001B[39m \u001B[38;5;241m100000\u001B[39m  \u001B[38;5;66;03m# if serials wrap, start from here\u001B[39;00m\n\u001B[0;32m--> 244\u001B[0m \u001B[38;5;28;01mwith\u001B[39;00m util\u001B[38;5;241m.\u001B[39mopenany(\u001B[38;5;28mself\u001B[39m\u001B[38;5;241m.\u001B[39mfilename) \u001B[38;5;28;01mas\u001B[39;00m f:\n\u001B[1;32m    245\u001B[0m     \u001B[38;5;28;01mfor\u001B[39;00m line \u001B[38;5;129;01min\u001B[39;00m f:\n",
      "File \u001B[0;32m/opt/anaconda3/envs/teachopencadd/lib/python3.8/contextlib.py:113\u001B[0m, in \u001B[0;36m_GeneratorContextManager.__enter__\u001B[0;34m(self)\u001B[0m\n\u001B[1;32m    112\u001B[0m \u001B[38;5;28;01mtry\u001B[39;00m:\n\u001B[0;32m--> 113\u001B[0m     \u001B[38;5;28;01mreturn\u001B[39;00m \u001B[38;5;28;43mnext\u001B[39;49m\u001B[43m(\u001B[49m\u001B[38;5;28;43mself\u001B[39;49m\u001B[38;5;241;43m.\u001B[39;49m\u001B[43mgen\u001B[49m\u001B[43m)\u001B[49m\n\u001B[1;32m    114\u001B[0m \u001B[38;5;28;01mexcept\u001B[39;00m \u001B[38;5;167;01mStopIteration\u001B[39;00m:\n",
      "File \u001B[0;32m/opt/anaconda3/envs/teachopencadd/lib/python3.8/site-packages/MDAnalysis/lib/util.py:318\u001B[0m, in \u001B[0;36mopenany\u001B[0;34m(datasource, mode, reset)\u001B[0m\n\u001B[1;32m    276\u001B[0m \u001B[38;5;250m\u001B[39m\u001B[38;5;124;03m\"\"\"Context manager for :func:`anyopen`.\u001B[39;00m\n\u001B[1;32m    277\u001B[0m \n\u001B[1;32m    278\u001B[0m \u001B[38;5;124;03mOpen the `datasource` and close it when the context of the :keyword:`with`\u001B[39;00m\n\u001B[0;32m   (...)\u001B[0m\n\u001B[1;32m    316\u001B[0m \u001B[38;5;124;03m:func:`anyopen`\u001B[39;00m\n\u001B[1;32m    317\u001B[0m \u001B[38;5;124;03m\"\"\"\u001B[39;00m\n\u001B[0;32m--> 318\u001B[0m stream \u001B[38;5;241m=\u001B[39m \u001B[43manyopen\u001B[49m\u001B[43m(\u001B[49m\u001B[43mdatasource\u001B[49m\u001B[43m,\u001B[49m\u001B[43m \u001B[49m\u001B[43mmode\u001B[49m\u001B[38;5;241;43m=\u001B[39;49m\u001B[43mmode\u001B[49m\u001B[43m,\u001B[49m\u001B[43m \u001B[49m\u001B[43mreset\u001B[49m\u001B[38;5;241;43m=\u001B[39;49m\u001B[43mreset\u001B[49m\u001B[43m)\u001B[49m\n\u001B[1;32m    319\u001B[0m \u001B[38;5;28;01mtry\u001B[39;00m:\n",
      "File \u001B[0;32m/opt/anaconda3/envs/teachopencadd/lib/python3.8/site-packages/MDAnalysis/lib/util.py:397\u001B[0m, in \u001B[0;36manyopen\u001B[0;34m(datasource, mode, reset)\u001B[0m\n\u001B[1;32m    396\u001B[0m openfunc \u001B[38;5;241m=\u001B[39m read_handlers[ext]\n\u001B[0;32m--> 397\u001B[0m stream \u001B[38;5;241m=\u001B[39m \u001B[43m_get_stream\u001B[49m\u001B[43m(\u001B[49m\u001B[43mdatasource\u001B[49m\u001B[43m,\u001B[49m\u001B[43m \u001B[49m\u001B[43mopenfunc\u001B[49m\u001B[43m,\u001B[49m\u001B[43m \u001B[49m\u001B[43mmode\u001B[49m\u001B[38;5;241;43m=\u001B[39;49m\u001B[43mmode\u001B[49m\u001B[43m)\u001B[49m\n\u001B[1;32m    398\u001B[0m \u001B[38;5;28;01mif\u001B[39;00m stream \u001B[38;5;129;01mis\u001B[39;00m \u001B[38;5;129;01mnot\u001B[39;00m \u001B[38;5;28;01mNone\u001B[39;00m:\n",
      "File \u001B[0;32m/opt/anaconda3/envs/teachopencadd/lib/python3.8/site-packages/MDAnalysis/lib/util.py:439\u001B[0m, in \u001B[0;36m_get_stream\u001B[0;34m(filename, openfunction, mode)\u001B[0m\n\u001B[1;32m    438\u001B[0m \u001B[38;5;28;01mif\u001B[39;00m errno\u001B[38;5;241m.\u001B[39merrorcode[err\u001B[38;5;241m.\u001B[39merrno] \u001B[38;5;129;01min\u001B[39;00m [\u001B[38;5;124m'\u001B[39m\u001B[38;5;124mENOENT\u001B[39m\u001B[38;5;124m'\u001B[39m, \u001B[38;5;124m'\u001B[39m\u001B[38;5;124mEACCES\u001B[39m\u001B[38;5;124m'\u001B[39m]:\n\u001B[0;32m--> 439\u001B[0m     \u001B[38;5;28;01mraise\u001B[39;00m sys\u001B[38;5;241m.\u001B[39mexc_info()[\u001B[38;5;241m1\u001B[39m] \u001B[38;5;28;01mfrom\u001B[39;00m \u001B[38;5;21;01merr\u001B[39;00m\n\u001B[1;32m    440\u001B[0m \u001B[38;5;28;01mreturn\u001B[39;00m \u001B[38;5;28;01mNone\u001B[39;00m\n",
      "File \u001B[0;32m/opt/anaconda3/envs/teachopencadd/lib/python3.8/site-packages/MDAnalysis/lib/util.py:433\u001B[0m, in \u001B[0;36m_get_stream\u001B[0;34m(filename, openfunction, mode)\u001B[0m\n\u001B[1;32m    432\u001B[0m \u001B[38;5;28;01mtry\u001B[39;00m:\n\u001B[0;32m--> 433\u001B[0m     stream \u001B[38;5;241m=\u001B[39m \u001B[43mopenfunction\u001B[49m\u001B[43m(\u001B[49m\u001B[43mfilename\u001B[49m\u001B[43m,\u001B[49m\u001B[43m \u001B[49m\u001B[43mmode\u001B[49m\u001B[38;5;241;43m=\u001B[39;49m\u001B[43mmode\u001B[49m\u001B[43m)\u001B[49m\n\u001B[1;32m    434\u001B[0m \u001B[38;5;28;01mexcept\u001B[39;00m (\u001B[38;5;167;01mIOError\u001B[39;00m, \u001B[38;5;167;01mOSError\u001B[39;00m) \u001B[38;5;28;01mas\u001B[39;00m err:\n\u001B[1;32m    435\u001B[0m     \u001B[38;5;66;03m# An exception might be raised due to two reasons, first the openfunction is unable to open the file, in this\u001B[39;00m\n\u001B[1;32m    436\u001B[0m     \u001B[38;5;66;03m# case we have to ignore the error and return None. Second is when openfunction can't open the file because\u001B[39;00m\n\u001B[1;32m    437\u001B[0m     \u001B[38;5;66;03m# either the file isn't there or the permissions don't allow access.\u001B[39;00m\n",
      "File \u001B[0;32m/opt/anaconda3/envs/teachopencadd/lib/python3.8/site-packages/MDAnalysis/lib/picklable_file_io.py:478\u001B[0m, in \u001B[0;36mbz2_pickle_open\u001B[0;34m(name, mode)\u001B[0m\n\u001B[1;32m    477\u001B[0m bz_mode \u001B[38;5;241m=\u001B[39m mode\u001B[38;5;241m.\u001B[39mreplace(\u001B[38;5;124m\"\u001B[39m\u001B[38;5;124mt\u001B[39m\u001B[38;5;124m\"\u001B[39m, \u001B[38;5;124m\"\u001B[39m\u001B[38;5;124m\"\u001B[39m)\n\u001B[0;32m--> 478\u001B[0m binary_file \u001B[38;5;241m=\u001B[39m \u001B[43mBZ2Picklable\u001B[49m\u001B[43m(\u001B[49m\u001B[43mname\u001B[49m\u001B[43m,\u001B[49m\u001B[43m \u001B[49m\u001B[43mbz_mode\u001B[49m\u001B[43m)\u001B[49m\n\u001B[1;32m    479\u001B[0m \u001B[38;5;28;01mif\u001B[39;00m \u001B[38;5;124m\"\u001B[39m\u001B[38;5;124mt\u001B[39m\u001B[38;5;124m\"\u001B[39m \u001B[38;5;129;01min\u001B[39;00m mode:\n",
      "File \u001B[0;32m/opt/anaconda3/envs/teachopencadd/lib/python3.8/site-packages/MDAnalysis/lib/picklable_file_io.py:266\u001B[0m, in \u001B[0;36mBZ2Picklable.__init__\u001B[0;34m(self, name, mode)\u001B[0m\n\u001B[1;32m    265\u001B[0m \u001B[38;5;28mself\u001B[39m\u001B[38;5;241m.\u001B[39m_bz_mode \u001B[38;5;241m=\u001B[39m mode\n\u001B[0;32m--> 266\u001B[0m \u001B[38;5;28;43msuper\u001B[39;49m\u001B[43m(\u001B[49m\u001B[43m)\u001B[49m\u001B[38;5;241;43m.\u001B[39;49m\u001B[38;5;21;43m__init__\u001B[39;49m\u001B[43m(\u001B[49m\u001B[43mname\u001B[49m\u001B[43m,\u001B[49m\u001B[43m \u001B[49m\u001B[43mmode\u001B[49m\u001B[43m)\u001B[49m\n",
      "File \u001B[0;32m/opt/anaconda3/envs/teachopencadd/lib/python3.8/bz2.py:96\u001B[0m, in \u001B[0;36mBZ2File.__init__\u001B[0;34m(self, filename, mode, buffering, compresslevel)\u001B[0m\n\u001B[1;32m     95\u001B[0m \u001B[38;5;28;01mif\u001B[39;00m \u001B[38;5;28misinstance\u001B[39m(filename, (\u001B[38;5;28mstr\u001B[39m, \u001B[38;5;28mbytes\u001B[39m, os\u001B[38;5;241m.\u001B[39mPathLike)):\n\u001B[0;32m---> 96\u001B[0m     \u001B[38;5;28mself\u001B[39m\u001B[38;5;241m.\u001B[39m_fp \u001B[38;5;241m=\u001B[39m \u001B[43m_builtin_open\u001B[49m\u001B[43m(\u001B[49m\u001B[43mfilename\u001B[49m\u001B[43m,\u001B[49m\u001B[43m \u001B[49m\u001B[43mmode\u001B[49m\u001B[43m)\u001B[49m\n\u001B[1;32m     97\u001B[0m     \u001B[38;5;28mself\u001B[39m\u001B[38;5;241m.\u001B[39m_closefp \u001B[38;5;241m=\u001B[39m \u001B[38;5;28;01mTrue\u001B[39;00m\n",
      "\u001B[0;31mFileNotFoundError\u001B[0m: [Errno 2] No such file or directory: '7N8T.pdb'",
      "\nThe above exception was the direct cause of the following exception:\n",
      "\u001B[0;31mFileNotFoundError\u001B[0m                         Traceback (most recent call last)",
      "Cell \u001B[0;32mIn[6], line 10\u001B[0m\n\u001B[1;32m      8\u001B[0m \u001B[38;5;66;03m# 对接任务\u001B[39;00m\n\u001B[1;32m      9\u001B[0m \u001B[38;5;28;01mfor\u001B[39;00m pdb \u001B[38;5;129;01min\u001B[39;00m pdb_list:\n\u001B[0;32m---> 10\u001B[0m     structure \u001B[38;5;241m=\u001B[39m \u001B[43mStructure\u001B[49m\u001B[38;5;241;43m.\u001B[39;49m\u001B[43mfrom_string\u001B[49m\u001B[43m(\u001B[49m\u001B[38;5;124;43mf\u001B[39;49m\u001B[38;5;124;43m\"\u001B[39;49m\u001B[38;5;132;43;01m{\u001B[39;49;00m\u001B[43mpdb\u001B[49m\u001B[38;5;132;43;01m}\u001B[39;49;00m\u001B[38;5;124;43m.pdb\u001B[39;49m\u001B[38;5;124;43m\"\u001B[39;49m\u001B[43m)\u001B[49m\n\u001B[1;32m     11\u001B[0m     extract_protein_to_pdb(structure, DATA \u001B[38;5;241m/\u001B[39m \u001B[38;5;124mf\u001B[39m\u001B[38;5;124m\"\u001B[39m\u001B[38;5;132;01m{\u001B[39;00mpdb\u001B[38;5;132;01m}\u001B[39;00m\u001B[38;5;124m_protein.pdb\u001B[39m\u001B[38;5;124m\"\u001B[39m)\n\u001B[1;32m     13\u001B[0m     \u001B[38;5;28;01mfor\u001B[39;00m smiles \u001B[38;5;129;01min\u001B[39;00m smiles_list:\n",
      "Cell \u001B[0;32mIn[5], line 37\u001B[0m, in \u001B[0;36mStructure.from_string\u001B[0;34m(cls, pdb_path)\u001B[0m\n\u001B[1;32m     34\u001B[0m \u001B[38;5;129m@classmethod\u001B[39m\n\u001B[1;32m     35\u001B[0m \u001B[38;5;28;01mdef\u001B[39;00m \u001B[38;5;21mfrom_string\u001B[39m(\u001B[38;5;28mcls\u001B[39m, pdb_path):\n\u001B[1;32m     36\u001B[0m \u001B[38;5;250m    \u001B[39m\u001B[38;5;124;03m\"\"\"从本地 PDB 文件加载结构\"\"\"\u001B[39;00m\n\u001B[0;32m---> 37\u001B[0m     \u001B[38;5;28;01mreturn\u001B[39;00m \u001B[38;5;28;43mcls\u001B[39;49m\u001B[43m(\u001B[49m\u001B[43mpdb_path\u001B[49m\u001B[43m)\u001B[49m\n",
      "File \u001B[0;32m/opt/anaconda3/envs/teachopencadd/lib/python3.8/site-packages/MDAnalysis/core/universe.py:346\u001B[0m, in \u001B[0;36mUniverse.__init__\u001B[0;34m(self, topology, all_coordinates, format, topology_format, transformations, guess_bonds, vdwradii, in_memory, in_memory_step, *coordinates, **kwargs)\u001B[0m\n\u001B[1;32m    344\u001B[0m \u001B[38;5;28;01mif\u001B[39;00m \u001B[38;5;129;01mnot\u001B[39;00m \u001B[38;5;28misinstance\u001B[39m(topology, Topology) \u001B[38;5;129;01mand\u001B[39;00m \u001B[38;5;129;01mnot\u001B[39;00m topology \u001B[38;5;129;01mis\u001B[39;00m \u001B[38;5;28;01mNone\u001B[39;00m:\n\u001B[1;32m    345\u001B[0m     \u001B[38;5;28mself\u001B[39m\u001B[38;5;241m.\u001B[39mfilename \u001B[38;5;241m=\u001B[39m _check_file_like(topology)\n\u001B[0;32m--> 346\u001B[0m     topology \u001B[38;5;241m=\u001B[39m \u001B[43m_topology_from_file_like\u001B[49m\u001B[43m(\u001B[49m\u001B[38;5;28;43mself\u001B[39;49m\u001B[38;5;241;43m.\u001B[39;49m\u001B[43mfilename\u001B[49m\u001B[43m,\u001B[49m\n\u001B[1;32m    347\u001B[0m \u001B[43m                                        \u001B[49m\u001B[43mtopology_format\u001B[49m\u001B[38;5;241;43m=\u001B[39;49m\u001B[43mtopology_format\u001B[49m\u001B[43m,\u001B[49m\n\u001B[1;32m    348\u001B[0m \u001B[43m                                        \u001B[49m\u001B[38;5;241;43m*\u001B[39;49m\u001B[38;5;241;43m*\u001B[39;49m\u001B[43mkwargs\u001B[49m\u001B[43m)\u001B[49m\n\u001B[1;32m    350\u001B[0m \u001B[38;5;28;01mif\u001B[39;00m topology \u001B[38;5;129;01mis\u001B[39;00m \u001B[38;5;129;01mnot\u001B[39;00m \u001B[38;5;28;01mNone\u001B[39;00m:\n\u001B[1;32m    351\u001B[0m     \u001B[38;5;28mself\u001B[39m\u001B[38;5;241m.\u001B[39m_topology \u001B[38;5;241m=\u001B[39m topology\n",
      "File \u001B[0;32m/opt/anaconda3/envs/teachopencadd/lib/python3.8/site-packages/MDAnalysis/core/universe.py:118\u001B[0m, in \u001B[0;36m_topology_from_file_like\u001B[0;34m(topology_file, topology_format, **kwargs)\u001B[0m\n\u001B[1;32m    111\u001B[0m \u001B[38;5;28;01mexcept\u001B[39;00m (\u001B[38;5;167;01mIOError\u001B[39;00m, \u001B[38;5;167;01mOSError\u001B[39;00m) \u001B[38;5;28;01mas\u001B[39;00m err:\n\u001B[1;32m    112\u001B[0m     \u001B[38;5;66;03m# There are 2 kinds of errors that might be raised here:\u001B[39;00m\n\u001B[1;32m    113\u001B[0m     \u001B[38;5;66;03m# one because the file isn't present\u001B[39;00m\n\u001B[1;32m    114\u001B[0m     \u001B[38;5;66;03m# or the permissions are bad, second when the parser fails\u001B[39;00m\n\u001B[1;32m    115\u001B[0m     \u001B[38;5;28;01mif\u001B[39;00m (err\u001B[38;5;241m.\u001B[39merrno \u001B[38;5;129;01mis\u001B[39;00m \u001B[38;5;129;01mnot\u001B[39;00m \u001B[38;5;28;01mNone\u001B[39;00m \u001B[38;5;129;01mand\u001B[39;00m\n\u001B[1;32m    116\u001B[0m         errno\u001B[38;5;241m.\u001B[39merrorcode[err\u001B[38;5;241m.\u001B[39merrno] \u001B[38;5;129;01min\u001B[39;00m [\u001B[38;5;124m'\u001B[39m\u001B[38;5;124mENOENT\u001B[39m\u001B[38;5;124m'\u001B[39m, \u001B[38;5;124m'\u001B[39m\u001B[38;5;124mEACCES\u001B[39m\u001B[38;5;124m'\u001B[39m]):\n\u001B[1;32m    117\u001B[0m         \u001B[38;5;66;03m# Runs if the error is propagated due to no permission / file not found\u001B[39;00m\n\u001B[0;32m--> 118\u001B[0m         \u001B[38;5;28;01mraise\u001B[39;00m sys\u001B[38;5;241m.\u001B[39mexc_info()[\u001B[38;5;241m1\u001B[39m] \u001B[38;5;28;01mfrom\u001B[39;00m \u001B[38;5;21;01merr\u001B[39;00m\n\u001B[1;32m    119\u001B[0m     \u001B[38;5;28;01melse\u001B[39;00m:\n\u001B[1;32m    120\u001B[0m         \u001B[38;5;66;03m# Runs when the parser fails\u001B[39;00m\n\u001B[1;32m    121\u001B[0m         \u001B[38;5;28;01mraise\u001B[39;00m \u001B[38;5;167;01mIOError\u001B[39;00m(\u001B[38;5;124m\"\u001B[39m\u001B[38;5;124mFailed to load from the topology file \u001B[39m\u001B[38;5;132;01m{0}\u001B[39;00m\u001B[38;5;124m\"\u001B[39m\n\u001B[1;32m    122\u001B[0m                         \u001B[38;5;124m\"\u001B[39m\u001B[38;5;124m with parser \u001B[39m\u001B[38;5;132;01m{1}\u001B[39;00m\u001B[38;5;124m.\u001B[39m\u001B[38;5;130;01m\\n\u001B[39;00m\u001B[38;5;124m\"\u001B[39m\n\u001B[1;32m    123\u001B[0m                         \u001B[38;5;124m\"\u001B[39m\u001B[38;5;124mError: \u001B[39m\u001B[38;5;132;01m{2}\u001B[39;00m\u001B[38;5;124m\"\u001B[39m\u001B[38;5;241m.\u001B[39mformat(topology_file, parser, err))\n",
      "File \u001B[0;32m/opt/anaconda3/envs/teachopencadd/lib/python3.8/site-packages/MDAnalysis/core/universe.py:110\u001B[0m, in \u001B[0;36m_topology_from_file_like\u001B[0;34m(topology_file, topology_format, **kwargs)\u001B[0m\n\u001B[1;32m    108\u001B[0m \u001B[38;5;28;01mtry\u001B[39;00m:\n\u001B[1;32m    109\u001B[0m     \u001B[38;5;28;01mwith\u001B[39;00m parser(topology_file) \u001B[38;5;28;01mas\u001B[39;00m p:\n\u001B[0;32m--> 110\u001B[0m         topology \u001B[38;5;241m=\u001B[39m \u001B[43mp\u001B[49m\u001B[38;5;241;43m.\u001B[39;49m\u001B[43mparse\u001B[49m\u001B[43m(\u001B[49m\u001B[38;5;241;43m*\u001B[39;49m\u001B[38;5;241;43m*\u001B[39;49m\u001B[43mkwargs\u001B[49m\u001B[43m)\u001B[49m\n\u001B[1;32m    111\u001B[0m \u001B[38;5;28;01mexcept\u001B[39;00m (\u001B[38;5;167;01mIOError\u001B[39;00m, \u001B[38;5;167;01mOSError\u001B[39;00m) \u001B[38;5;28;01mas\u001B[39;00m err:\n\u001B[1;32m    112\u001B[0m     \u001B[38;5;66;03m# There are 2 kinds of errors that might be raised here:\u001B[39;00m\n\u001B[1;32m    113\u001B[0m     \u001B[38;5;66;03m# one because the file isn't present\u001B[39;00m\n\u001B[1;32m    114\u001B[0m     \u001B[38;5;66;03m# or the permissions are bad, second when the parser fails\u001B[39;00m\n\u001B[1;32m    115\u001B[0m     \u001B[38;5;28;01mif\u001B[39;00m (err\u001B[38;5;241m.\u001B[39merrno \u001B[38;5;129;01mis\u001B[39;00m \u001B[38;5;129;01mnot\u001B[39;00m \u001B[38;5;28;01mNone\u001B[39;00m \u001B[38;5;129;01mand\u001B[39;00m\n\u001B[1;32m    116\u001B[0m         errno\u001B[38;5;241m.\u001B[39merrorcode[err\u001B[38;5;241m.\u001B[39merrno] \u001B[38;5;129;01min\u001B[39;00m [\u001B[38;5;124m'\u001B[39m\u001B[38;5;124mENOENT\u001B[39m\u001B[38;5;124m'\u001B[39m, \u001B[38;5;124m'\u001B[39m\u001B[38;5;124mEACCES\u001B[39m\u001B[38;5;124m'\u001B[39m]):\n\u001B[1;32m    117\u001B[0m         \u001B[38;5;66;03m# Runs if the error is propagated due to no permission / file not found\u001B[39;00m\n",
      "File \u001B[0;32m/opt/anaconda3/envs/teachopencadd/lib/python3.8/site-packages/MDAnalysis/topology/PDBParser.py:207\u001B[0m, in \u001B[0;36mPDBParser.parse\u001B[0;34m(self, **kwargs)\u001B[0m\n\u001B[1;32m    200\u001B[0m \u001B[38;5;28;01mdef\u001B[39;00m \u001B[38;5;21mparse\u001B[39m(\u001B[38;5;28mself\u001B[39m, \u001B[38;5;241m*\u001B[39m\u001B[38;5;241m*\u001B[39mkwargs):\n\u001B[1;32m    201\u001B[0m \u001B[38;5;250m    \u001B[39m\u001B[38;5;124;03m\"\"\"Parse atom information from PDB file\u001B[39;00m\n\u001B[1;32m    202\u001B[0m \n\u001B[1;32m    203\u001B[0m \u001B[38;5;124;03m    Returns\u001B[39;00m\n\u001B[1;32m    204\u001B[0m \u001B[38;5;124;03m    -------\u001B[39;00m\n\u001B[1;32m    205\u001B[0m \u001B[38;5;124;03m    MDAnalysis Topology object\u001B[39;00m\n\u001B[1;32m    206\u001B[0m \u001B[38;5;124;03m    \"\"\"\u001B[39;00m\n\u001B[0;32m--> 207\u001B[0m     top \u001B[38;5;241m=\u001B[39m \u001B[38;5;28;43mself\u001B[39;49m\u001B[38;5;241;43m.\u001B[39;49m\u001B[43m_parseatoms\u001B[49m\u001B[43m(\u001B[49m\u001B[43m)\u001B[49m\n\u001B[1;32m    209\u001B[0m     \u001B[38;5;28;01mtry\u001B[39;00m:\n\u001B[1;32m    210\u001B[0m         bonds \u001B[38;5;241m=\u001B[39m \u001B[38;5;28mself\u001B[39m\u001B[38;5;241m.\u001B[39m_parsebonds(top\u001B[38;5;241m.\u001B[39mids\u001B[38;5;241m.\u001B[39mvalues)\n",
      "File \u001B[0;32m/opt/anaconda3/envs/teachopencadd/lib/python3.8/site-packages/MDAnalysis/topology/PDBParser.py:244\u001B[0m, in \u001B[0;36mPDBParser._parseatoms\u001B[0;34m(self)\u001B[0m\n\u001B[1;32m    242\u001B[0m \u001B[38;5;28mself\u001B[39m\u001B[38;5;241m.\u001B[39m_wrapped_serials \u001B[38;5;241m=\u001B[39m \u001B[38;5;28;01mFalse\u001B[39;00m  \u001B[38;5;66;03m# did serials go over 100k?\u001B[39;00m\n\u001B[1;32m    243\u001B[0m last_wrapped_serial \u001B[38;5;241m=\u001B[39m \u001B[38;5;241m100000\u001B[39m  \u001B[38;5;66;03m# if serials wrap, start from here\u001B[39;00m\n\u001B[0;32m--> 244\u001B[0m \u001B[38;5;28;01mwith\u001B[39;00m util\u001B[38;5;241m.\u001B[39mopenany(\u001B[38;5;28mself\u001B[39m\u001B[38;5;241m.\u001B[39mfilename) \u001B[38;5;28;01mas\u001B[39;00m f:\n\u001B[1;32m    245\u001B[0m     \u001B[38;5;28;01mfor\u001B[39;00m line \u001B[38;5;129;01min\u001B[39;00m f:\n\u001B[1;32m    246\u001B[0m         line \u001B[38;5;241m=\u001B[39m line\u001B[38;5;241m.\u001B[39mstrip()  \u001B[38;5;66;03m# Remove extra spaces\u001B[39;00m\n",
      "File \u001B[0;32m/opt/anaconda3/envs/teachopencadd/lib/python3.8/contextlib.py:113\u001B[0m, in \u001B[0;36m_GeneratorContextManager.__enter__\u001B[0;34m(self)\u001B[0m\n\u001B[1;32m    111\u001B[0m \u001B[38;5;28;01mdel\u001B[39;00m \u001B[38;5;28mself\u001B[39m\u001B[38;5;241m.\u001B[39margs, \u001B[38;5;28mself\u001B[39m\u001B[38;5;241m.\u001B[39mkwds, \u001B[38;5;28mself\u001B[39m\u001B[38;5;241m.\u001B[39mfunc\n\u001B[1;32m    112\u001B[0m \u001B[38;5;28;01mtry\u001B[39;00m:\n\u001B[0;32m--> 113\u001B[0m     \u001B[38;5;28;01mreturn\u001B[39;00m \u001B[38;5;28;43mnext\u001B[39;49m\u001B[43m(\u001B[49m\u001B[38;5;28;43mself\u001B[39;49m\u001B[38;5;241;43m.\u001B[39;49m\u001B[43mgen\u001B[49m\u001B[43m)\u001B[49m\n\u001B[1;32m    114\u001B[0m \u001B[38;5;28;01mexcept\u001B[39;00m \u001B[38;5;167;01mStopIteration\u001B[39;00m:\n\u001B[1;32m    115\u001B[0m     \u001B[38;5;28;01mraise\u001B[39;00m \u001B[38;5;167;01mRuntimeError\u001B[39;00m(\u001B[38;5;124m\"\u001B[39m\u001B[38;5;124mgenerator didn\u001B[39m\u001B[38;5;124m'\u001B[39m\u001B[38;5;124mt yield\u001B[39m\u001B[38;5;124m\"\u001B[39m) \u001B[38;5;28;01mfrom\u001B[39;00m \u001B[38;5;28;01mNone\u001B[39;00m\n",
      "File \u001B[0;32m/opt/anaconda3/envs/teachopencadd/lib/python3.8/site-packages/MDAnalysis/lib/util.py:318\u001B[0m, in \u001B[0;36mopenany\u001B[0;34m(datasource, mode, reset)\u001B[0m\n\u001B[1;32m    274\u001B[0m \u001B[38;5;129m@contextmanager\u001B[39m\n\u001B[1;32m    275\u001B[0m \u001B[38;5;28;01mdef\u001B[39;00m \u001B[38;5;21mopenany\u001B[39m(datasource, mode\u001B[38;5;241m=\u001B[39m\u001B[38;5;124m'\u001B[39m\u001B[38;5;124mrt\u001B[39m\u001B[38;5;124m'\u001B[39m, reset\u001B[38;5;241m=\u001B[39m\u001B[38;5;28;01mTrue\u001B[39;00m):\n\u001B[1;32m    276\u001B[0m \u001B[38;5;250m    \u001B[39m\u001B[38;5;124;03m\"\"\"Context manager for :func:`anyopen`.\u001B[39;00m\n\u001B[1;32m    277\u001B[0m \n\u001B[1;32m    278\u001B[0m \u001B[38;5;124;03m    Open the `datasource` and close it when the context of the :keyword:`with`\u001B[39;00m\n\u001B[0;32m   (...)\u001B[0m\n\u001B[1;32m    316\u001B[0m \u001B[38;5;124;03m    :func:`anyopen`\u001B[39;00m\n\u001B[1;32m    317\u001B[0m \u001B[38;5;124;03m    \"\"\"\u001B[39;00m\n\u001B[0;32m--> 318\u001B[0m     stream \u001B[38;5;241m=\u001B[39m \u001B[43manyopen\u001B[49m\u001B[43m(\u001B[49m\u001B[43mdatasource\u001B[49m\u001B[43m,\u001B[49m\u001B[43m \u001B[49m\u001B[43mmode\u001B[49m\u001B[38;5;241;43m=\u001B[39;49m\u001B[43mmode\u001B[49m\u001B[43m,\u001B[49m\u001B[43m \u001B[49m\u001B[43mreset\u001B[49m\u001B[38;5;241;43m=\u001B[39;49m\u001B[43mreset\u001B[49m\u001B[43m)\u001B[49m\n\u001B[1;32m    319\u001B[0m     \u001B[38;5;28;01mtry\u001B[39;00m:\n\u001B[1;32m    320\u001B[0m         \u001B[38;5;28;01myield\u001B[39;00m stream\n",
      "File \u001B[0;32m/opt/anaconda3/envs/teachopencadd/lib/python3.8/site-packages/MDAnalysis/lib/util.py:397\u001B[0m, in \u001B[0;36manyopen\u001B[0;34m(datasource, mode, reset)\u001B[0m\n\u001B[1;32m    395\u001B[0m \u001B[38;5;28;01mfor\u001B[39;00m ext \u001B[38;5;129;01min\u001B[39;00m (\u001B[38;5;124m'\u001B[39m\u001B[38;5;124mbz2\u001B[39m\u001B[38;5;124m'\u001B[39m, \u001B[38;5;124m'\u001B[39m\u001B[38;5;124mgz\u001B[39m\u001B[38;5;124m'\u001B[39m, \u001B[38;5;124m'\u001B[39m\u001B[38;5;124m'\u001B[39m):  \u001B[38;5;66;03m# file == '' should be last\u001B[39;00m\n\u001B[1;32m    396\u001B[0m     openfunc \u001B[38;5;241m=\u001B[39m read_handlers[ext]\n\u001B[0;32m--> 397\u001B[0m     stream \u001B[38;5;241m=\u001B[39m \u001B[43m_get_stream\u001B[49m\u001B[43m(\u001B[49m\u001B[43mdatasource\u001B[49m\u001B[43m,\u001B[49m\u001B[43m \u001B[49m\u001B[43mopenfunc\u001B[49m\u001B[43m,\u001B[49m\u001B[43m \u001B[49m\u001B[43mmode\u001B[49m\u001B[38;5;241;43m=\u001B[39;49m\u001B[43mmode\u001B[49m\u001B[43m)\u001B[49m\n\u001B[1;32m    398\u001B[0m     \u001B[38;5;28;01mif\u001B[39;00m stream \u001B[38;5;129;01mis\u001B[39;00m \u001B[38;5;129;01mnot\u001B[39;00m \u001B[38;5;28;01mNone\u001B[39;00m:\n\u001B[1;32m    399\u001B[0m         \u001B[38;5;28;01mbreak\u001B[39;00m\n",
      "File \u001B[0;32m/opt/anaconda3/envs/teachopencadd/lib/python3.8/site-packages/MDAnalysis/lib/util.py:439\u001B[0m, in \u001B[0;36m_get_stream\u001B[0;34m(filename, openfunction, mode)\u001B[0m\n\u001B[1;32m    434\u001B[0m \u001B[38;5;28;01mexcept\u001B[39;00m (\u001B[38;5;167;01mIOError\u001B[39;00m, \u001B[38;5;167;01mOSError\u001B[39;00m) \u001B[38;5;28;01mas\u001B[39;00m err:\n\u001B[1;32m    435\u001B[0m     \u001B[38;5;66;03m# An exception might be raised due to two reasons, first the openfunction is unable to open the file, in this\u001B[39;00m\n\u001B[1;32m    436\u001B[0m     \u001B[38;5;66;03m# case we have to ignore the error and return None. Second is when openfunction can't open the file because\u001B[39;00m\n\u001B[1;32m    437\u001B[0m     \u001B[38;5;66;03m# either the file isn't there or the permissions don't allow access.\u001B[39;00m\n\u001B[1;32m    438\u001B[0m     \u001B[38;5;28;01mif\u001B[39;00m errno\u001B[38;5;241m.\u001B[39merrorcode[err\u001B[38;5;241m.\u001B[39merrno] \u001B[38;5;129;01min\u001B[39;00m [\u001B[38;5;124m'\u001B[39m\u001B[38;5;124mENOENT\u001B[39m\u001B[38;5;124m'\u001B[39m, \u001B[38;5;124m'\u001B[39m\u001B[38;5;124mEACCES\u001B[39m\u001B[38;5;124m'\u001B[39m]:\n\u001B[0;32m--> 439\u001B[0m         \u001B[38;5;28;01mraise\u001B[39;00m sys\u001B[38;5;241m.\u001B[39mexc_info()[\u001B[38;5;241m1\u001B[39m] \u001B[38;5;28;01mfrom\u001B[39;00m \u001B[38;5;21;01merr\u001B[39;00m\n\u001B[1;32m    440\u001B[0m     \u001B[38;5;28;01mreturn\u001B[39;00m \u001B[38;5;28;01mNone\u001B[39;00m\n\u001B[1;32m    441\u001B[0m \u001B[38;5;28;01mif\u001B[39;00m mode\u001B[38;5;241m.\u001B[39mstartswith(\u001B[38;5;124m'\u001B[39m\u001B[38;5;124mr\u001B[39m\u001B[38;5;124m'\u001B[39m):\n\u001B[1;32m    442\u001B[0m     \u001B[38;5;66;03m# additional check for reading (eg can we uncompress) --- is this needed?\u001B[39;00m\n",
      "File \u001B[0;32m/opt/anaconda3/envs/teachopencadd/lib/python3.8/site-packages/MDAnalysis/lib/util.py:433\u001B[0m, in \u001B[0;36m_get_stream\u001B[0;34m(filename, openfunction, mode)\u001B[0m\n\u001B[1;32m    431\u001B[0m \u001B[38;5;250m\u001B[39m\u001B[38;5;124;03m\"\"\"Return open stream if *filename* can be opened with *openfunction* or else ``None``.\"\"\"\u001B[39;00m\n\u001B[1;32m    432\u001B[0m \u001B[38;5;28;01mtry\u001B[39;00m:\n\u001B[0;32m--> 433\u001B[0m     stream \u001B[38;5;241m=\u001B[39m \u001B[43mopenfunction\u001B[49m\u001B[43m(\u001B[49m\u001B[43mfilename\u001B[49m\u001B[43m,\u001B[49m\u001B[43m \u001B[49m\u001B[43mmode\u001B[49m\u001B[38;5;241;43m=\u001B[39;49m\u001B[43mmode\u001B[49m\u001B[43m)\u001B[49m\n\u001B[1;32m    434\u001B[0m \u001B[38;5;28;01mexcept\u001B[39;00m (\u001B[38;5;167;01mIOError\u001B[39;00m, \u001B[38;5;167;01mOSError\u001B[39;00m) \u001B[38;5;28;01mas\u001B[39;00m err:\n\u001B[1;32m    435\u001B[0m     \u001B[38;5;66;03m# An exception might be raised due to two reasons, first the openfunction is unable to open the file, in this\u001B[39;00m\n\u001B[1;32m    436\u001B[0m     \u001B[38;5;66;03m# case we have to ignore the error and return None. Second is when openfunction can't open the file because\u001B[39;00m\n\u001B[1;32m    437\u001B[0m     \u001B[38;5;66;03m# either the file isn't there or the permissions don't allow access.\u001B[39;00m\n\u001B[1;32m    438\u001B[0m     \u001B[38;5;28;01mif\u001B[39;00m errno\u001B[38;5;241m.\u001B[39merrorcode[err\u001B[38;5;241m.\u001B[39merrno] \u001B[38;5;129;01min\u001B[39;00m [\u001B[38;5;124m'\u001B[39m\u001B[38;5;124mENOENT\u001B[39m\u001B[38;5;124m'\u001B[39m, \u001B[38;5;124m'\u001B[39m\u001B[38;5;124mEACCES\u001B[39m\u001B[38;5;124m'\u001B[39m]:\n",
      "File \u001B[0;32m/opt/anaconda3/envs/teachopencadd/lib/python3.8/site-packages/MDAnalysis/lib/picklable_file_io.py:478\u001B[0m, in \u001B[0;36mbz2_pickle_open\u001B[0;34m(name, mode)\u001B[0m\n\u001B[1;32m    475\u001B[0m     \u001B[38;5;28;01mraise\u001B[39;00m \u001B[38;5;167;01mValueError\u001B[39;00m(\u001B[38;5;124m\"\u001B[39m\u001B[38;5;124mOnly read mode (\u001B[39m\u001B[38;5;124m'\u001B[39m\u001B[38;5;124mr\u001B[39m\u001B[38;5;124m'\u001B[39m\u001B[38;5;124m, \u001B[39m\u001B[38;5;124m'\u001B[39m\u001B[38;5;124mrt\u001B[39m\u001B[38;5;124m'\u001B[39m\u001B[38;5;124m, \u001B[39m\u001B[38;5;124m'\u001B[39m\u001B[38;5;124mrb\u001B[39m\u001B[38;5;124m'\u001B[39m\u001B[38;5;124m) \u001B[39m\u001B[38;5;124m\"\u001B[39m\n\u001B[1;32m    476\u001B[0m                      \u001B[38;5;124m\"\u001B[39m\u001B[38;5;124mfiles can be pickled.\u001B[39m\u001B[38;5;124m\"\u001B[39m)\n\u001B[1;32m    477\u001B[0m bz_mode \u001B[38;5;241m=\u001B[39m mode\u001B[38;5;241m.\u001B[39mreplace(\u001B[38;5;124m\"\u001B[39m\u001B[38;5;124mt\u001B[39m\u001B[38;5;124m\"\u001B[39m, \u001B[38;5;124m\"\u001B[39m\u001B[38;5;124m\"\u001B[39m)\n\u001B[0;32m--> 478\u001B[0m binary_file \u001B[38;5;241m=\u001B[39m \u001B[43mBZ2Picklable\u001B[49m\u001B[43m(\u001B[49m\u001B[43mname\u001B[49m\u001B[43m,\u001B[49m\u001B[43m \u001B[49m\u001B[43mbz_mode\u001B[49m\u001B[43m)\u001B[49m\n\u001B[1;32m    479\u001B[0m \u001B[38;5;28;01mif\u001B[39;00m \u001B[38;5;124m\"\u001B[39m\u001B[38;5;124mt\u001B[39m\u001B[38;5;124m\"\u001B[39m \u001B[38;5;129;01min\u001B[39;00m mode:\n\u001B[1;32m    480\u001B[0m     \u001B[38;5;28;01mreturn\u001B[39;00m TextIOPicklable(binary_file)\n",
      "File \u001B[0;32m/opt/anaconda3/envs/teachopencadd/lib/python3.8/site-packages/MDAnalysis/lib/picklable_file_io.py:266\u001B[0m, in \u001B[0;36mBZ2Picklable.__init__\u001B[0;34m(self, name, mode)\u001B[0m\n\u001B[1;32m    264\u001B[0m \u001B[38;5;28;01mdef\u001B[39;00m \u001B[38;5;21m__init__\u001B[39m(\u001B[38;5;28mself\u001B[39m, name, mode\u001B[38;5;241m=\u001B[39m\u001B[38;5;124m'\u001B[39m\u001B[38;5;124mrb\u001B[39m\u001B[38;5;124m'\u001B[39m):\n\u001B[1;32m    265\u001B[0m     \u001B[38;5;28mself\u001B[39m\u001B[38;5;241m.\u001B[39m_bz_mode \u001B[38;5;241m=\u001B[39m mode\n\u001B[0;32m--> 266\u001B[0m     \u001B[38;5;28;43msuper\u001B[39;49m\u001B[43m(\u001B[49m\u001B[43m)\u001B[49m\u001B[38;5;241;43m.\u001B[39;49m\u001B[38;5;21;43m__init__\u001B[39;49m\u001B[43m(\u001B[49m\u001B[43mname\u001B[49m\u001B[43m,\u001B[49m\u001B[43m \u001B[49m\u001B[43mmode\u001B[49m\u001B[43m)\u001B[49m\n",
      "File \u001B[0;32m/opt/anaconda3/envs/teachopencadd/lib/python3.8/bz2.py:96\u001B[0m, in \u001B[0;36mBZ2File.__init__\u001B[0;34m(self, filename, mode, buffering, compresslevel)\u001B[0m\n\u001B[1;32m     93\u001B[0m     \u001B[38;5;28;01mraise\u001B[39;00m \u001B[38;5;167;01mValueError\u001B[39;00m(\u001B[38;5;124m\"\u001B[39m\u001B[38;5;124mInvalid mode: \u001B[39m\u001B[38;5;132;01m%r\u001B[39;00m\u001B[38;5;124m\"\u001B[39m \u001B[38;5;241m%\u001B[39m (mode,))\n\u001B[1;32m     95\u001B[0m \u001B[38;5;28;01mif\u001B[39;00m \u001B[38;5;28misinstance\u001B[39m(filename, (\u001B[38;5;28mstr\u001B[39m, \u001B[38;5;28mbytes\u001B[39m, os\u001B[38;5;241m.\u001B[39mPathLike)):\n\u001B[0;32m---> 96\u001B[0m     \u001B[38;5;28mself\u001B[39m\u001B[38;5;241m.\u001B[39m_fp \u001B[38;5;241m=\u001B[39m \u001B[43m_builtin_open\u001B[49m\u001B[43m(\u001B[49m\u001B[43mfilename\u001B[49m\u001B[43m,\u001B[49m\u001B[43m \u001B[49m\u001B[43mmode\u001B[49m\u001B[43m)\u001B[49m\n\u001B[1;32m     97\u001B[0m     \u001B[38;5;28mself\u001B[39m\u001B[38;5;241m.\u001B[39m_closefp \u001B[38;5;241m=\u001B[39m \u001B[38;5;28;01mTrue\u001B[39;00m\n\u001B[1;32m     98\u001B[0m     \u001B[38;5;28mself\u001B[39m\u001B[38;5;241m.\u001B[39m_mode \u001B[38;5;241m=\u001B[39m mode_code\n",
      "\u001B[0;31mFileNotFoundError\u001B[0m: [Errno 2] No such file or directory: '7N8T.pdb'"
     ]
    }
   ],
   "source": [],
   "metadata": {
    "collapsed": false,
    "ExecuteTime": {
     "end_time": "2024-11-19T11:57:06.578877Z",
     "start_time": "2024-11-19T11:57:06.084339Z"
    }
   },
   "id": "604c479a80cd6a6f",
   "execution_count": 6
  },
  {
   "cell_type": "code",
   "outputs": [
    {
     "name": "stderr",
     "output_type": "stream",
     "text": [
      "==============================\n",
      "*** Open Babel Warning  in PerceiveBondOrders\n",
      "  Failed to kekulize aromatic bonds in OBMol::PerceiveBondOrders (title is /Users/wangyang/Desktop/小辣椒/07-AIDD/分子对接/data/data_7N8T/protein.pdb)\n",
      "\n",
      "==============================\n",
      "*** Open Babel Warning  in PerceiveBondOrders\n",
      "  Failed to kekulize aromatic bonds in OBMol::PerceiveBondOrders (title is /Users/wangyang/Desktop/小辣椒/07-AIDD/分子对接/data/data_7N8T/protein.pdb)\n",
      "\n"
     ]
    }
   ],
   "source": [
    "import warnings\n",
    "from pathlib import Path\n",
    "import subprocess\n",
    "from itertools import product\n",
    "import numpy as np\n",
    "import pandas as pd  # 用于记录 CSV 结果\n",
    "from MDAnalysis import Universe\n",
    "from openbabel import pybel\n",
    "import os\n",
    "\n",
    "# Filter warnings\n",
    "warnings.filterwarnings(\"ignore\")\n",
    "\n",
    "# 设置工作目录\n",
    "HERE = Path(os.getcwd())\n",
    "DATA = HERE / 'data'\n",
    "DATA.mkdir(parents=True, exist_ok=True)\n",
    "\n",
    "# CSV 文件路径\n",
    "RESULT_CSV = DATA / 'result_dock.csv'\n",
    "\n",
    "# 初始化 CSV 文件\n",
    "if not RESULT_CSV.exists():\n",
    "    pd.DataFrame(columns=['pdb', 'ligand_resnames', 'smiles', 'dock_info']).to_csv(RESULT_CSV, index=False)\n",
    "\n",
    "\n",
    "class Structure(Universe):\n",
    "    \"\"\"Core object to load structures with.\"\"\"\n",
    "\n",
    "    @classmethod\n",
    "    def from_string(cls, pdb_path):\n",
    "        \"\"\"Load a structure from a local PDB file.\"\"\"\n",
    "        return cls(pdb_path)\n",
    "\n",
    "\n",
    "# 提取蛋白质并保存为 PDB 格式\n",
    "def extract_protein_to_pdb(structure, protein_path):\n",
    "    \"\"\"Extract protein from structure and save it as PDB.\"\"\"\n",
    "    protein = structure.select_atoms(\"protein\")\n",
    "    protein.write(str(protein_path))  # 自动根据扩展名保存为 PDB 格式\n",
    "\n",
    "\n",
    "# 自动检测所有配体残基\n",
    "def find_all_ligand_resnames(structure):\n",
    "    \"\"\"返回所有非蛋白质和非水分子的残基名称列表\"\"\"\n",
    "    ligand_atoms = structure.select_atoms(\"not protein and not resname HOH\")\n",
    "    return list(set(ligand_atoms.resnames))\n",
    "\n",
    "\n",
    "def pdb_to_pdbqt(pdb_path, pdbqt_path, pH=7.4):\n",
    "    \"\"\"Convert a PDB file to a PDBQT file.\"\"\"\n",
    "    molecule = list(pybel.readfile(\"pdb\", str(pdb_path)))[0]\n",
    "    molecule.OBMol.CorrectForPH(pH)\n",
    "    molecule.addh()\n",
    "    for atom in molecule.atoms:\n",
    "        atom.OBAtom.GetPartialCharge()\n",
    "    molecule.write(\"pdbqt\", str(pdbqt_path), overwrite=True)\n",
    "\n",
    "\n",
    "def smiles_to_pdbqt(smiles, pdbqt_path, pH=7.4):\n",
    "    \"\"\"Convert a SMILES string to a PDBQT file.\"\"\"\n",
    "    molecule = pybel.readstring(\"smi\", smiles)\n",
    "    molecule.OBMol.CorrectForPH(pH)\n",
    "    molecule.addh()\n",
    "    molecule.make3D(forcefield=\"mmff94s\", steps=10000)\n",
    "    for atom in molecule.atoms:\n",
    "        atom.OBAtom.GetPartialCharge()\n",
    "    molecule.write(\"pdbqt\", str(pdbqt_path), overwrite=True)\n",
    "\n",
    "\n",
    "def run_smina(ligand_path, protein_path, out_path, pocket_center, pocket_size):\n",
    "    \"\"\"Perform docking with Smina.\"\"\"\n",
    "    output_text = subprocess.check_output([\n",
    "        \"smina\",\n",
    "        \"--receptor\", str(protein_path),\n",
    "        \"--ligand\", str(ligand_path),\n",
    "        \"--out\", str(out_path),\n",
    "        \"--center_x\", str(pocket_center[0]),\n",
    "        \"--center_y\", str(pocket_center[1]),\n",
    "        \"--center_z\", str(pocket_center[2]),\n",
    "        \"--size_x\", str(pocket_size[0]),\n",
    "        \"--size_y\", str(pocket_size[1]),\n",
    "        \"--size_z\", str(pocket_size[2])\n",
    "    ])\n",
    "    return output_text.decode(\"utf-8\")\n",
    "\n",
    "\n",
    "def parse_dock_info(dock_output):\n",
    "    \"\"\"解析 Smina 输出中的对接信息\"\"\"\n",
    "    dock_lines = dock_output.splitlines()\n",
    "    dock_data = []\n",
    "    capture = False\n",
    "    for line in dock_lines:\n",
    "        if \"mode\" in line and \"affinity\" in line:  # 开始捕获表格数据\n",
    "            capture = True\n",
    "            continue\n",
    "        if capture:\n",
    "            if line.strip() == \"\" or \"Refine time\" in line or \"Loop time\" in line:\n",
    "                break\n",
    "            dock_data.append(line.strip())\n",
    "    return \"\\n\".join(dock_data)\n",
    "\n",
    "\n",
    "def split_sdf_file(sdf_path):\n",
    "    \"\"\"Split an SDF file into separate files for each molecule.\"\"\"\n",
    "    sdf_path = Path(sdf_path)\n",
    "    stem = sdf_path.stem\n",
    "    parent = sdf_path.parent\n",
    "    molecules = pybel.readfile(\"sdf\", str(sdf_path))\n",
    "    for i, molecule in enumerate(molecules, 1):\n",
    "        molecule.write(\"sdf\", str(parent / f\"{stem}_{i}.sdf\"), overwrite=True)\n",
    "        \n",
    "        \n",
    "def run_smina_with_output(ligand_path, protein_path, out_path, pocket_center, pocket_size):\n",
    "    \"\"\"Perform docking with Smina and include the output in a combined PDBQT format.\"\"\"\n",
    "    output_log = subprocess.check_output([\n",
    "        \"smina\",\n",
    "        \"--receptor\", str(protein_path),\n",
    "        \"--ligand\", str(ligand_path),\n",
    "        \"--out\", str(out_path),\n",
    "        \"--center_x\", str(pocket_center[0]),\n",
    "        \"--center_y\", str(pocket_center[1]),\n",
    "        \"--center_z\", str(pocket_center[2]),\n",
    "        \"--size_x\", str(pocket_size[0]),\n",
    "        \"--size_y\", str(pocket_size[1]),\n",
    "        \"--size_z\", str(pocket_size[2])\n",
    "    ])\n",
    "    return output_log.decode(\"utf-8\")\n",
    "\n",
    "# 主程序\n",
    "pdb_list = ['7N8T', '8ELC', '4RA4', '8U37', '8UAK']\n",
    "smiles_list = [\n",
    "    \"CC1(N)CCN(c2cccnc2NC(=O)c2nc(-c3nc(N4CCOCC4)cc4ccccc34)cnc2N)CC1\",\n",
    "    \"Nc1ncc(-c2cccc(N3CCOCC3)c2)nc1C(=O)Nc1ncccc1N1CCC(N)CC1\",\n",
    "]\n",
    "\n",
    "# Update the docking loop to ensure output alignment with your requirements\n",
    "for pdb_id, smiles in product(pdb_list, smiles_list):\n",
    "    pdb_dir = DATA / f\"data_{pdb_id}\"\n",
    "    pdb_dir.mkdir(parents=True, exist_ok=True)\n",
    "\n",
    "    pdb_path = pdb_dir / f\"{pdb_id}.pdb\"\n",
    "    structure = Structure.from_string(pdb_path)\n",
    "\n",
    "    protein_path = pdb_dir / \"protein.pdb\"\n",
    "    extract_protein_to_pdb(structure, protein_path)\n",
    "\n",
    "    protein_pdbqt_path = pdb_dir / \"protein.pdbqt\"\n",
    "    pdb_to_pdbqt(protein_path, protein_pdbqt_path)\n",
    "\n",
    "    for ligand_resname in find_all_ligand_resnames(structure):\n",
    "        ligand_dir = pdb_dir / f\"ligand_{ligand_resname}\"\n",
    "        ligand_dir.mkdir(parents=True, exist_ok=True)\n",
    "\n",
    "        ligand = structure.select_atoms(f\"resname {ligand_resname}\")\n",
    "        pocket_center = (ligand.positions.max(axis=0) + ligand.positions.min(axis=0)) / 2\n",
    "        pocket_size = ligand.positions.max(axis=0) - ligand.positions.min(axis=0) + 5\n",
    "\n",
    "        smiles_hash = ''.join(e for e in smiles if e.isalnum())\n",
    "        smiles_dir = ligand_dir / f\"smiles_{smiles_hash}\"\n",
    "        smiles_dir.mkdir(parents=True, exist_ok=True)\n",
    "\n",
    "        ligand_path = smiles_dir / \"ligand.pdbqt\"\n",
    "        docking_out_path = smiles_dir / f\"{pdb_id}_{smiles_hash}_dock.pdbqt\"\n",
    "        log_path = smiles_dir / \"docking_log.txt\"\n",
    "\n",
    "        smiles_to_pdbqt(smiles, ligand_path)\n",
    "\n",
    "        docking_output = run_smina_with_output(ligand_path, protein_pdbqt_path, docking_out_path, pocket_center, pocket_size)\n",
    "        \n",
    "        with open(log_path, \"w\") as log_file:\n",
    "            log_file.write(docking_output)\n",
    "\n",
    "        dock_info = parse_dock_info(docking_output)\n",
    "        new_row = {\n",
    "            'pdb': pdb_id,\n",
    "            'ligand_resnames': ligand_resname,\n",
    "            'smiles': smiles,\n",
    "            'dock_info': dock_info\n",
    "        }\n",
    "        result_df = pd.read_csv(RESULT_CSV)\n",
    "        result_df = pd.concat([result_df, pd.DataFrame([new_row])], ignore_index=True)\n",
    "        result_df.to_csv(RESULT_CSV, index=False)\n",
    "\n",
    "print(\"Docking workflow completed successfully!\")\n"
   ],
   "metadata": {
    "collapsed": false,
    "is_executing": true,
    "ExecuteTime": {
     "start_time": "2024-11-19T12:10:23.057285Z"
    }
   },
   "id": "b33535efe85105b8",
   "execution_count": null
  },
  {
   "cell_type": "code",
   "outputs": [],
   "source": [],
   "metadata": {
    "collapsed": false
   },
   "id": "7cd6e23815dae2b6"
  }
 ],
 "metadata": {
  "kernelspec": {
   "display_name": "Python 3 (ipykernel)",
   "language": "python",
   "name": "python3"
  },
  "language_info": {
   "codemirror_mode": {
    "name": "ipython",
    "version": 3
   },
   "file_extension": ".py",
   "mimetype": "text/x-python",
   "name": "python",
   "nbconvert_exporter": "python",
   "pygments_lexer": "ipython3",
   "version": "3.8.15"
  }
 },
 "nbformat": 4,
 "nbformat_minor": 5
}
