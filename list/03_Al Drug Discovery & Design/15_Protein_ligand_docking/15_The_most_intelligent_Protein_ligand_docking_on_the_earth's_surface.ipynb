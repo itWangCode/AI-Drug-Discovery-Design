{
 "cells": [
  {
   "metadata": {},
   "cell_type": "markdown",
   "source": [
    "# The most intelligent Protein-ligand docking on the earth's surface\n",
    "# 地表上最聪明的 Protein-ligand 对接"
   ],
   "id": "2ef839942f4a3306"
  },
  {
   "metadata": {},
   "cell_type": "markdown",
   "source": [
    "1. **将对接得分为正数的结果（不好的结果）筛选出来，放到一个单独的表格中。**\n",
    "2. **将对接得分 ≤ -10 的结果放入一个表格，包括 `docker_info` 和模式 1 的亲和力值（affinity）。**\n",
    "3. **将对接得分在 -10 到 -9 之间的结果放入另一个表格。**\n",
    "4. **将对接得分 > -9 的结果（即 -9 以下的得分）放入一个单独的表格。** \n",
    "5. **将所有结果汇总到一个表格中，并按 docking 得分排序。**"
   ],
   "id": "cc1f42063deb265d"
  },
  {
   "cell_type": "code",
   "id": "initial_id",
   "metadata": {
    "collapsed": true,
    "ExecuteTime": {
     "end_time": "2024-10-15T15:33:57.918530Z",
     "start_time": "2024-10-15T15:33:57.914196Z"
    }
   },
   "source": [
    "import warnings  # 导入警告模块\n",
    "from pathlib import Path  # 导入路径处理模块\n",
    "import subprocess  # 导入子进程模块\n",
    "import numpy as np  # 导入NumPy模块\n",
    "from MDAnalysis import Universe  # 从MDAnalysis导入Universe类\n",
    "from openbabel import pybel  # 从Open Babel导入pybel模块\n",
    "import pandas as pd  # 导入pandas用于数据处理\n",
    "import os\n",
    "from urllib.request import urlretrieve  # 用于下载PDB文件"
   ],
   "outputs": [],
   "execution_count": 14
  },
  {
   "metadata": {
    "ExecuteTime": {
     "end_time": "2024-10-15T15:33:58.113658Z",
     "start_time": "2024-10-15T15:33:58.109363Z"
    }
   },
   "cell_type": "code",
   "source": [
    "# 设置工作目录\n",
    "HERE = Path(os.getcwd())\n",
    "DATA = HERE / 'data'\n",
    "DATA.mkdir(parents=True, exist_ok=True)\n",
    "print(f\"数据目录: {DATA}\")"
   ],
   "id": "191dccff87ab48a9",
   "outputs": [
    {
     "name": "stdout",
     "output_type": "stream",
     "text": [
      "数据目录: /Users/wangyang/Desktop/Breast_cancer_brain_metastasis/wang_Gene/AIDD/15_Protein_ligand_docking/data\n"
     ]
    }
   ],
   "execution_count": 15
  },
  {
   "metadata": {
    "ExecuteTime": {
     "end_time": "2024-10-15T15:33:58.345922Z",
     "start_time": "2024-10-15T15:33:58.343100Z"
    }
   },
   "cell_type": "code",
   "source": [
    "# 忽略警告信息\n",
    "warnings.filterwarnings(\"ignore\")"
   ],
   "id": "de95d45474173484",
   "outputs": [],
   "execution_count": 16
  },
  {
   "metadata": {
    "ExecuteTime": {
     "end_time": "2024-10-15T15:33:58.818162Z",
     "start_time": "2024-10-15T15:33:58.807276Z"
    }
   },
   "cell_type": "code",
   "source": [
    "class Structure(Universe):\n",
    "    \"\"\"用于加载结构的核心对象。\"\"\"\n",
    "    \n",
    "    @classmethod\n",
    "    def from_string(cls, pdb_path):\n",
    "        \"\"\"从本地PDB文件加载结构。\"\"\"\n",
    "        return cls(pdb_path)\n",
    "\n",
    "def pdb_to_pdbqt(pdb_path, pdbqt_path, pH=7.4):\n",
    "    \"\"\"将PDB文件转换为PDBQT文件。\"\"\"\n",
    "    molecule = list(pybel.readfile(\"pdb\", str(pdb_path)))[0]\n",
    "    molecule.OBMol.CorrectForPH(pH)\n",
    "    molecule.addh()\n",
    "    for atom in molecule.atoms:\n",
    "        atom.OBAtom.GetPartialCharge()\n",
    "    molecule.write(\"pdbqt\", str(pdbqt_path), overwrite=True)\n",
    "\n",
    "def find_ligand_resname(structure):\n",
    "    \"\"\"自动检测配体残基并返回其名称。\"\"\"\n",
    "    # 定义要排除的常见非配体残基名称列表（如溶剂、离子等）\n",
    "    non_ligand_resnames = set([\n",
    "        'HOH', 'H2O', 'DMS', 'SO4', 'PO4', 'CL', 'NA', 'K', 'MG', 'ZN',\n",
    "        'CA', 'MN', 'GOL', 'EDO', 'PEG', 'MPD', 'DTT', 'FMT', 'NO3',\n",
    "        'ACT', 'ACE', 'EOH', 'IOD', 'IME', 'TRS', 'NH4', 'MES',\n",
    "        'BME', 'BOG', 'PGE', 'PGR', 'PG4', 'P6G', 'DIO',\n",
    "        'DOD', 'OLA', 'OLC', 'OLB', 'BTB', 'BTN', 'BCT', 'LDA', 'LMT',\n",
    "        'NI', 'FE', 'CU', 'CO', 'CD', 'AG', 'AU', 'PT', 'PB', 'SR', 'CS',\n",
    "        'BA', 'LI', 'F', 'BR', 'I', 'IOD', 'PER', 'OCS', 'SCN', 'CO3',\n",
    "        'OH', 'CN', 'SUC', 'TAR', 'MAN', 'FUC', 'NAG', 'NDG',\n",
    "        'BMA', 'GLC', 'GAL', 'MAL', 'MEL', 'TRE'\n",
    "    ])\n",
    "\n",
    "    # 选择所有非蛋白质且非水的原子\n",
    "    ligand_atoms = structure.select_atoms(\"not protein and not resname HOH\")\n",
    "\n",
    "    # 获取这些原子的残基\n",
    "    ligand_residues = ligand_atoms.residues\n",
    "\n",
    "    # 排除常见的非配体残基\n",
    "    candidate_residues = [res for res in ligand_residues if res.resname.strip() not in non_ligand_resnames]\n",
    "\n",
    "    if not candidate_residues:\n",
    "        raise ValueError(\"在结构中未找到配体。\")\n",
    "\n",
    "    # 从候选残基中选择原子数量最多的残基，认为它是配体\n",
    "    ligand_residue = max(candidate_residues, key=lambda res: len(res.atoms))\n",
    "\n",
    "    ligand_resname = ligand_residue.resname.strip()\n",
    "    return ligand_resname\n",
    "\n",
    "\n",
    "def smiles_to_pdbqt(smiles, pdbqt_path, pH=7.4):\n",
    "    \"\"\"将SMILES字符串转换为PDBQT文件。\"\"\"\n",
    "    molecule = pybel.readstring(\"smi\", smiles)\n",
    "    molecule.OBMol.CorrectForPH(pH)\n",
    "    molecule.addh()\n",
    "    molecule.make3D(forcefield=\"mmff94s\", steps=1000)\n",
    "    for atom in molecule.atoms:\n",
    "        atom.OBAtom.GetPartialCharge()\n",
    "    molecule.write(\"pdbqt\", str(pdbqt_path), overwrite=True)\n",
    "\n",
    "def run_smina(ligand_path, protein_path, out_path, pocket_center, pocket_size):\n",
    "    \"\"\"使用Smina进行分子对接。\"\"\"\n",
    "    log_path = out_path.with_suffix('.log')  # 日志文件路径\n",
    "    output_text = subprocess.check_output([\n",
    "        \"smina\",\n",
    "        \"--receptor\", str(protein_path),\n",
    "        \"--ligand\", str(ligand_path),\n",
    "        \"--out\", str(out_path),\n",
    "        \"--center_x\", str(pocket_center[0]),\n",
    "        \"--center_y\", str(pocket_center[1]),\n",
    "        \"--center_z\", str(pocket_center[2]),\n",
    "        \"--size_x\", str(pocket_size[0]),\n",
    "        \"--size_y\", str(pocket_size[1]),\n",
    "        \"--size_z\", str(pocket_size[2]),\n",
    "        \"--log\", str(log_path),\n",
    "    ])\n",
    "    return output_text.decode(\"utf-8\"), log_path  # 返回输出文本和日志文件路径\n"
   ],
   "id": "83829c2faad7620",
   "outputs": [],
   "execution_count": 17
  },
  {
   "metadata": {
    "ExecuteTime": {
     "end_time": "2024-10-15T15:33:59.028484Z",
     "start_time": "2024-10-15T15:33:59.023939Z"
    }
   },
   "cell_type": "code",
   "source": [
    "# parse_smina_log函数用于解析Smina日志文件，提取所有模式的对接得分。\n",
    "def parse_smina_log(log_path):\n",
    "    \"\"\"解析Smina日志文件，提取所有模式的对接得分。\"\"\"\n",
    "    affinities = []\n",
    "    with open(log_path, 'r') as f:\n",
    "        lines = f.readlines()\n",
    "        parsing = False\n",
    "        for line in lines:\n",
    "            if line.strip().startswith(\"-----+------------+----------+----------\"):\n",
    "                parsing = True\n",
    "                continue\n",
    "            if parsing:\n",
    "                if line.strip() == '':\n",
    "                    break  # 结束解析\n",
    "                parts = line.strip().split()\n",
    "                if len(parts) >= 2:\n",
    "                    try:\n",
    "                        mode = int(parts[0])\n",
    "                        affinity = float(parts[1])\n",
    "                        affinities.append((mode, affinity))\n",
    "                    except ValueError:\n",
    "                        continue\n",
    "    return affinities  # 返回一个列表，包含所有模式的亲和力值\n"
   ],
   "id": "52d74bd63c425465",
   "outputs": [],
   "execution_count": 18
  },
  {
   "metadata": {
    "ExecuteTime": {
     "end_time": "2024-10-15T15:33:59.642041Z",
     "start_time": "2024-10-15T15:33:59.638610Z"
    }
   },
   "cell_type": "code",
   "source": [
    "def split_sdf_file(sdf_path):\n",
    "    \"\"\"将SDF文件拆分为单独的分子文件。\"\"\"\n",
    "    sdf_path = Path(sdf_path)\n",
    "    stem = sdf_path.stem\n",
    "    parent = sdf_path.parent\n",
    "    molecules = pybel.readfile(\"sdf\", str(sdf_path))\n",
    "    for i, molecule in enumerate(molecules, 1):\n",
    "        molecule.write(\"sdf\", str(parent / f\"{stem}_{i}.sdf\"), overwrite=True)"
   ],
   "id": "9e1be62a59d1065d",
   "outputs": [],
   "execution_count": 19
  },
  {
   "metadata": {
    "ExecuteTime": {
     "end_time": "2024-10-15T15:34:00.075621Z",
     "start_time": "2024-10-15T15:34:00.072221Z"
    }
   },
   "cell_type": "code",
   "source": [
    "def download_pdb(pdb_id, pdb_path):\n",
    "    \"\"\"下载PDB文件。\"\"\"\n",
    "    pdb_url = f\"https://files.rcsb.org/download/{pdb_id}.pdb\"\n",
    "    try:\n",
    "        urlretrieve(pdb_url, pdb_path)\n",
    "        print(f\"已下载 PDB {pdb_id} 到 {pdb_path}\")\n",
    "    except Exception as e:\n",
    "        print(f\"下载 PDB {pdb_id} 失败: {e}\")\n",
    "        raise"
   ],
   "id": "d270e77cf8ea9df0",
   "outputs": [],
   "execution_count": 20
  },
  {
   "metadata": {
    "ExecuteTime": {
     "end_time": "2024-10-15T15:34:00.538577Z",
     "start_time": "2024-10-15T15:34:00.531553Z"
    }
   },
   "cell_type": "code",
   "source": [
    "# 读取CSV文件 ❤️，这里需要放你们需要的文件哦，不要跟我一样，傻傻的~~~~~~⚠️\n",
    "csv_file = DATA / 'pic50_greater_8.0.csv'\n",
    "df = pd.read_csv(csv_file)"
   ],
   "id": "4a19ff2e7118054d",
   "outputs": [],
   "execution_count": 21
  },
  {
   "metadata": {
    "ExecuteTime": {
     "end_time": "2024-10-15T15:34:00.910991Z",
     "start_time": "2024-10-15T15:34:00.907769Z"
    }
   },
   "cell_type": "code",
   "source": [
    "# 检查必需的列是否存在\n",
    "required_columns = ['molecule_chembl_id', 'smiles', 'pIC50']\n",
    "for col in required_columns:\n",
    "    if col not in df.columns:\n",
    "        raise ValueError(f\"缺少必需的列: {col}\")"
   ],
   "id": "ccaefc9742f2ac1b",
   "outputs": [],
   "execution_count": 22
  },
  {
   "metadata": {
    "ExecuteTime": {
     "end_time": "2024-10-15T15:34:01.213309Z",
     "start_time": "2024-10-15T15:34:01.209258Z"
    }
   },
   "cell_type": "code",
   "source": [
    "# PDB ID列表；❤️ 这个也是你们自己的哦，不要跟我一样哦，傻傻的~~~~~~⚠️\n",
    "# 或者我们也可以去DATA目录下找，我这里是直接写死的，你们可以改成你们自己的, 我这里是为了测试\n",
    "# csv文件里面的pdb_id这一列\n",
    "# 读取csv文件\n",
    "# csv_file = DATA / 'pdb_ids.csv' # ❤️ 这里是你们自己的文件路径哦，不要跟我一样哦，傻傻的~~~~~~⚠️\n",
    "# df = pd.read_csv(csv_file)\n",
    "# pdb_ids = df['pdb_id'].tolist()\n",
    "pdb_ids = [\n",
    "    # '6Q4G',\n",
    "    # '6Q49',\n",
    "    # '6Q4H',\n",
    "    '6Q48',\n",
    "    # '6Q4J',\n",
    "    # '6Q4K',\n",
    "    # '6Q4E',\n",
    "    # '6Q4D',\n",
    "    # '6Q3B',\n",
    "    # '6Q4I',\n",
    "]"
   ],
   "id": "a7104cb8acf542bb",
   "outputs": [],
   "execution_count": 23
  },
  {
   "metadata": {
    "ExecuteTime": {
     "end_time": "2024-10-15T15:34:01.757356Z",
     "start_time": "2024-10-15T15:34:01.754378Z"
    }
   },
   "cell_type": "code",
   "source": [
    "# 存储对接结果的列表，这个是定义全局的变量，可以直接在函数中使用，不需要传参，我不知道你们计算机水平如何，反正就是全局的\n",
    "docking_results = []"
   ],
   "id": "9ee778d0c9cbc39b",
   "outputs": [],
   "execution_count": 24
  },
  {
   "metadata": {
    "ExecuteTime": {
     "end_time": "2024-10-15T15:50:09.391456Z",
     "start_time": "2024-10-15T15:34:05.504584Z"
    }
   },
   "cell_type": "code",
   "source": [
    "# 遍历每个PDB ID\n",
    "for pdb_id in pdb_ids:\n",
    "    # 为当前PDB创建目录\n",
    "    pdb_dir = DATA / pdb_id\n",
    "    pdb_dir.mkdir(exist_ok=True)\n",
    "    \n",
    "    # 检查并下载PDB文件\n",
    "    pdb_path = pdb_dir / f\"{pdb_id}.pdb\"\n",
    "    if not pdb_path.exists():\n",
    "        download_pdb(pdb_id, pdb_path)\n",
    "    \n",
    "    # 加载结构\n",
    "    structure = Structure.from_string(pdb_path)\n",
    "    \n",
    "    # 准备蛋白质文件\n",
    "    protein_path = pdb_dir / \"protein.pdb\"\n",
    "    protein = structure.select_atoms(\"protein\")\n",
    "    protein.write(str(protein_path))\n",
    "    \n",
    "    # 将蛋白质转换为PDBQT格式\n",
    "    protein_pdbqt_path = pdb_dir / \"protein.pdbqt\"\n",
    "    pdb_to_pdbqt(protein_path, protein_pdbqt_path)\n",
    "    \n",
    "    # 自动检测配体残基名称，并选择配体残基，这样子可以保证只对接到正确的配体，不用那些苦力活，傻傻的人工标记的配体残基\n",
    "    try:\n",
    "        ligand_resname = find_ligand_resname(structure)\n",
    "        print(f\"PDB ID {pdb_id}: 使用配体残基名称: {ligand_resname}\")\n",
    "        # 选择配体原子\n",
    "        ligand = structure.select_atoms(f\"resname {ligand_resname}\")\n",
    "    except ValueError as e:\n",
    "        print(f\"PDB ID {pdb_id}: {e}，跳过。\")\n",
    "        continue\n",
    "    \n",
    "    # 计算口袋中心和大小\n",
    "    pocket_center = (ligand.positions.max(axis=0) + ligand.positions.min(axis=0)) / 2\n",
    "    pocket_size = ligand.positions.max(axis=0) - ligand.positions.min(axis=0) + 5  # 加入缓冲\n",
    "    \n",
    "    # 遍历每个SMILES字符串\n",
    "    for idx, row in df.iterrows():\n",
    "        molecule_chembl_id = row['molecule_chembl_id']\n",
    "        smiles = row['smiles']\n",
    "        PIC50 = row['pIC50']  # 修改为正确的列名\n",
    "        \n",
    "        # 为当前配体创建目录\n",
    "        ligand_dir = pdb_dir / f\"ligand_{molecule_chembl_id}\"\n",
    "        ligand_dir.mkdir(exist_ok=True)\n",
    "        \n",
    "        # 将SMILES转换为PDBQT\n",
    "        ligand_pdbqt_path = ligand_dir / \"ligand.pdbqt\"\n",
    "        smiles_to_pdbqt(smiles, ligand_pdbqt_path)\n",
    "        \n",
    "        # 执行分子对接\n",
    "        docking_out_path = ligand_dir / \"docking_poses.sdf\"\n",
    "        try:\n",
    "            docker_info, log_path = run_smina(ligand_pdbqt_path, protein_pdbqt_path, docking_out_path, pocket_center, pocket_size)\n",
    "            # 解析对接得分\n",
    "            affinities = parse_smina_log(log_path)\n",
    "            # 获取模式 1 的亲和力值\n",
    "            mode1_affinity = None\n",
    "            if affinities:\n",
    "                mode1_affinity = affinities[0][1]  # 第一个元素是模式 1\n",
    "                docking_score = mode1_affinity  # 使用模式 1 的得分作为对接得分\n",
    "            else:\n",
    "                docking_score = None\n",
    "                mode1_affinity = None\n",
    "        except subprocess.CalledProcessError as e:\n",
    "            print(f\"对接失败 PDB {pdb_id}, 配体 {molecule_chembl_id}: {e}\")\n",
    "            docker_info = f\"对接失败: {e}\"\n",
    "            docking_score = None  # 对接失败时，得分为None\n",
    "            mode1_affinity = None\n",
    "        \n",
    "        # 保存对接信息\n",
    "        with open(ligand_dir / \"docker_info.txt\", \"w\") as f:\n",
    "            f.write(docker_info)\n",
    "        \n",
    "        # 如果对接成功，拆分SDF文件\n",
    "        if docking_out_path.exists():\n",
    "            split_sdf_file(docking_out_path)\n",
    "        else:\n",
    "            print(f\"没有对接输出 PDB {pdb_id}, 配体 {molecule_chembl_id}\")\n",
    "        \n",
    "        # 记录对接信息\n",
    "        docking_results.append({\n",
    "            'PDB_ID': pdb_id,\n",
    "            'molecule_chembl_id': molecule_chembl_id,\n",
    "            'smiles': smiles,\n",
    "            'pIC50': PIC50,\n",
    "            'ligand_resname': ligand_resname,\n",
    "            'docking_score': docking_score,\n",
    "            'mode1_affinity': mode1_affinity,\n",
    "            'docker_info': docker_info,\n",
    "        })"
   ],
   "id": "96ea172a40c8e1eb",
   "outputs": [
    {
     "name": "stdout",
     "output_type": "stream",
     "text": [
      "已下载 PDB 6Q48 到 /Users/wangyang/Desktop/Breast_cancer_brain_metastasis/wang_Gene/AIDD/15_Protein_ligand_docking/data/6Q48/6Q48.pdb\n"
     ]
    },
    {
     "name": "stderr",
     "output_type": "stream",
     "text": [
      "==============================\n",
      "*** Open Babel Warning  in PerceiveBondOrders\n",
      "  Failed to kekulize aromatic bonds in OBMol::PerceiveBondOrders (title is /Users/wangyang/Desktop/Breast_cancer_brain_metastasis/wang_Gene/AIDD/15_Protein_ligand_docking/data/6Q48/protein.pdb)\n",
      "\n"
     ]
    },
    {
     "name": "stdout",
     "output_type": "stream",
     "text": [
      "PDB ID 6Q48: 使用配体残基名称: HHQ\n"
     ]
    },
    {
     "name": "stderr",
     "output_type": "stream",
     "text": [
      "\n",
      "\n",
      "Parse error on line 28 in file \"/Users/wangyang/Desktop/Breast_cancer_brain_metastasis/wang_Gene/AIDD/15_Protein_ligand_docking/data/6Q48/ligand_CHEMBL3951333/ligand.pdbqt\": Unknown or inappropriate tag\n"
     ]
    },
    {
     "name": "stdout",
     "output_type": "stream",
     "text": [
      "对接失败 PDB 6Q48, 配体 CHEMBL3951333: Command '['smina', '--receptor', '/Users/wangyang/Desktop/Breast_cancer_brain_metastasis/wang_Gene/AIDD/15_Protein_ligand_docking/data/6Q48/protein.pdbqt', '--ligand', '/Users/wangyang/Desktop/Breast_cancer_brain_metastasis/wang_Gene/AIDD/15_Protein_ligand_docking/data/6Q48/ligand_CHEMBL3951333/ligand.pdbqt', '--out', '/Users/wangyang/Desktop/Breast_cancer_brain_metastasis/wang_Gene/AIDD/15_Protein_ligand_docking/data/6Q48/ligand_CHEMBL3951333/docking_poses.sdf', '--center_x', '2.012', '--center_y', '-5.3045', '--center_z', '-27.3255', '--size_x', '8.3', '--size_y', '9.543', '--size_z', '7.5429993', '--log', '/Users/wangyang/Desktop/Breast_cancer_brain_metastasis/wang_Gene/AIDD/15_Protein_ligand_docking/data/6Q48/ligand_CHEMBL3951333/docking_poses.log']' returned non-zero exit status 1.\n"
     ]
    },
    {
     "ename": "KeyboardInterrupt",
     "evalue": "",
     "output_type": "error",
     "traceback": [
      "\u001B[0;31m---------------------------------------------------------------------------\u001B[0m",
      "\u001B[0;31mKeyboardInterrupt\u001B[0m                         Traceback (most recent call last)",
      "Cell \u001B[0;32mIn[26], line 56\u001B[0m\n\u001B[1;32m     54\u001B[0m docking_out_path \u001B[38;5;241m=\u001B[39m ligand_dir \u001B[38;5;241m/\u001B[39m \u001B[38;5;124m\"\u001B[39m\u001B[38;5;124mdocking_poses.sdf\u001B[39m\u001B[38;5;124m\"\u001B[39m\n\u001B[1;32m     55\u001B[0m \u001B[38;5;28;01mtry\u001B[39;00m:\n\u001B[0;32m---> 56\u001B[0m     docker_info, log_path \u001B[38;5;241m=\u001B[39m \u001B[43mrun_smina\u001B[49m\u001B[43m(\u001B[49m\u001B[43mligand_pdbqt_path\u001B[49m\u001B[43m,\u001B[49m\u001B[43m \u001B[49m\u001B[43mprotein_pdbqt_path\u001B[49m\u001B[43m,\u001B[49m\u001B[43m \u001B[49m\u001B[43mdocking_out_path\u001B[49m\u001B[43m,\u001B[49m\u001B[43m \u001B[49m\u001B[43mpocket_center\u001B[49m\u001B[43m,\u001B[49m\u001B[43m \u001B[49m\u001B[43mpocket_size\u001B[49m\u001B[43m)\u001B[49m\n\u001B[1;32m     57\u001B[0m     \u001B[38;5;66;03m# 解析对接得分\u001B[39;00m\n\u001B[1;32m     58\u001B[0m     affinities \u001B[38;5;241m=\u001B[39m parse_smina_log(log_path)\n",
      "Cell \u001B[0;32mIn[17], line 65\u001B[0m, in \u001B[0;36mrun_smina\u001B[0;34m(ligand_path, protein_path, out_path, pocket_center, pocket_size)\u001B[0m\n\u001B[1;32m     63\u001B[0m \u001B[38;5;250m\u001B[39m\u001B[38;5;124;03m\"\"\"使用Smina进行分子对接。\"\"\"\u001B[39;00m\n\u001B[1;32m     64\u001B[0m log_path \u001B[38;5;241m=\u001B[39m out_path\u001B[38;5;241m.\u001B[39mwith_suffix(\u001B[38;5;124m'\u001B[39m\u001B[38;5;124m.log\u001B[39m\u001B[38;5;124m'\u001B[39m)  \u001B[38;5;66;03m# 日志文件路径\u001B[39;00m\n\u001B[0;32m---> 65\u001B[0m output_text \u001B[38;5;241m=\u001B[39m \u001B[43msubprocess\u001B[49m\u001B[38;5;241;43m.\u001B[39;49m\u001B[43mcheck_output\u001B[49m\u001B[43m(\u001B[49m\u001B[43m[\u001B[49m\n\u001B[1;32m     66\u001B[0m \u001B[43m    \u001B[49m\u001B[38;5;124;43m\"\u001B[39;49m\u001B[38;5;124;43msmina\u001B[39;49m\u001B[38;5;124;43m\"\u001B[39;49m\u001B[43m,\u001B[49m\n\u001B[1;32m     67\u001B[0m \u001B[43m    \u001B[49m\u001B[38;5;124;43m\"\u001B[39;49m\u001B[38;5;124;43m--receptor\u001B[39;49m\u001B[38;5;124;43m\"\u001B[39;49m\u001B[43m,\u001B[49m\u001B[43m \u001B[49m\u001B[38;5;28;43mstr\u001B[39;49m\u001B[43m(\u001B[49m\u001B[43mprotein_path\u001B[49m\u001B[43m)\u001B[49m\u001B[43m,\u001B[49m\n\u001B[1;32m     68\u001B[0m \u001B[43m    \u001B[49m\u001B[38;5;124;43m\"\u001B[39;49m\u001B[38;5;124;43m--ligand\u001B[39;49m\u001B[38;5;124;43m\"\u001B[39;49m\u001B[43m,\u001B[49m\u001B[43m \u001B[49m\u001B[38;5;28;43mstr\u001B[39;49m\u001B[43m(\u001B[49m\u001B[43mligand_path\u001B[49m\u001B[43m)\u001B[49m\u001B[43m,\u001B[49m\n\u001B[1;32m     69\u001B[0m \u001B[43m    \u001B[49m\u001B[38;5;124;43m\"\u001B[39;49m\u001B[38;5;124;43m--out\u001B[39;49m\u001B[38;5;124;43m\"\u001B[39;49m\u001B[43m,\u001B[49m\u001B[43m \u001B[49m\u001B[38;5;28;43mstr\u001B[39;49m\u001B[43m(\u001B[49m\u001B[43mout_path\u001B[49m\u001B[43m)\u001B[49m\u001B[43m,\u001B[49m\n\u001B[1;32m     70\u001B[0m \u001B[43m    \u001B[49m\u001B[38;5;124;43m\"\u001B[39;49m\u001B[38;5;124;43m--center_x\u001B[39;49m\u001B[38;5;124;43m\"\u001B[39;49m\u001B[43m,\u001B[49m\u001B[43m \u001B[49m\u001B[38;5;28;43mstr\u001B[39;49m\u001B[43m(\u001B[49m\u001B[43mpocket_center\u001B[49m\u001B[43m[\u001B[49m\u001B[38;5;241;43m0\u001B[39;49m\u001B[43m]\u001B[49m\u001B[43m)\u001B[49m\u001B[43m,\u001B[49m\n\u001B[1;32m     71\u001B[0m \u001B[43m    \u001B[49m\u001B[38;5;124;43m\"\u001B[39;49m\u001B[38;5;124;43m--center_y\u001B[39;49m\u001B[38;5;124;43m\"\u001B[39;49m\u001B[43m,\u001B[49m\u001B[43m \u001B[49m\u001B[38;5;28;43mstr\u001B[39;49m\u001B[43m(\u001B[49m\u001B[43mpocket_center\u001B[49m\u001B[43m[\u001B[49m\u001B[38;5;241;43m1\u001B[39;49m\u001B[43m]\u001B[49m\u001B[43m)\u001B[49m\u001B[43m,\u001B[49m\n\u001B[1;32m     72\u001B[0m \u001B[43m    \u001B[49m\u001B[38;5;124;43m\"\u001B[39;49m\u001B[38;5;124;43m--center_z\u001B[39;49m\u001B[38;5;124;43m\"\u001B[39;49m\u001B[43m,\u001B[49m\u001B[43m \u001B[49m\u001B[38;5;28;43mstr\u001B[39;49m\u001B[43m(\u001B[49m\u001B[43mpocket_center\u001B[49m\u001B[43m[\u001B[49m\u001B[38;5;241;43m2\u001B[39;49m\u001B[43m]\u001B[49m\u001B[43m)\u001B[49m\u001B[43m,\u001B[49m\n\u001B[1;32m     73\u001B[0m \u001B[43m    \u001B[49m\u001B[38;5;124;43m\"\u001B[39;49m\u001B[38;5;124;43m--size_x\u001B[39;49m\u001B[38;5;124;43m\"\u001B[39;49m\u001B[43m,\u001B[49m\u001B[43m \u001B[49m\u001B[38;5;28;43mstr\u001B[39;49m\u001B[43m(\u001B[49m\u001B[43mpocket_size\u001B[49m\u001B[43m[\u001B[49m\u001B[38;5;241;43m0\u001B[39;49m\u001B[43m]\u001B[49m\u001B[43m)\u001B[49m\u001B[43m,\u001B[49m\n\u001B[1;32m     74\u001B[0m \u001B[43m    \u001B[49m\u001B[38;5;124;43m\"\u001B[39;49m\u001B[38;5;124;43m--size_y\u001B[39;49m\u001B[38;5;124;43m\"\u001B[39;49m\u001B[43m,\u001B[49m\u001B[43m \u001B[49m\u001B[38;5;28;43mstr\u001B[39;49m\u001B[43m(\u001B[49m\u001B[43mpocket_size\u001B[49m\u001B[43m[\u001B[49m\u001B[38;5;241;43m1\u001B[39;49m\u001B[43m]\u001B[49m\u001B[43m)\u001B[49m\u001B[43m,\u001B[49m\n\u001B[1;32m     75\u001B[0m \u001B[43m    \u001B[49m\u001B[38;5;124;43m\"\u001B[39;49m\u001B[38;5;124;43m--size_z\u001B[39;49m\u001B[38;5;124;43m\"\u001B[39;49m\u001B[43m,\u001B[49m\u001B[43m \u001B[49m\u001B[38;5;28;43mstr\u001B[39;49m\u001B[43m(\u001B[49m\u001B[43mpocket_size\u001B[49m\u001B[43m[\u001B[49m\u001B[38;5;241;43m2\u001B[39;49m\u001B[43m]\u001B[49m\u001B[43m)\u001B[49m\u001B[43m,\u001B[49m\n\u001B[1;32m     76\u001B[0m \u001B[43m    \u001B[49m\u001B[38;5;124;43m\"\u001B[39;49m\u001B[38;5;124;43m--log\u001B[39;49m\u001B[38;5;124;43m\"\u001B[39;49m\u001B[43m,\u001B[49m\u001B[43m \u001B[49m\u001B[38;5;28;43mstr\u001B[39;49m\u001B[43m(\u001B[49m\u001B[43mlog_path\u001B[49m\u001B[43m)\u001B[49m\u001B[43m,\u001B[49m\n\u001B[1;32m     77\u001B[0m \u001B[43m\u001B[49m\u001B[43m]\u001B[49m\u001B[43m)\u001B[49m\n\u001B[1;32m     78\u001B[0m \u001B[38;5;28;01mreturn\u001B[39;00m output_text\u001B[38;5;241m.\u001B[39mdecode(\u001B[38;5;124m\"\u001B[39m\u001B[38;5;124mutf-8\u001B[39m\u001B[38;5;124m\"\u001B[39m), log_path\n",
      "File \u001B[0;32m/opt/anaconda3/envs/teachopencadd/lib/python3.8/subprocess.py:415\u001B[0m, in \u001B[0;36mcheck_output\u001B[0;34m(timeout, *popenargs, **kwargs)\u001B[0m\n\u001B[1;32m    412\u001B[0m         empty \u001B[38;5;241m=\u001B[39m \u001B[38;5;124mb\u001B[39m\u001B[38;5;124m'\u001B[39m\u001B[38;5;124m'\u001B[39m\n\u001B[1;32m    413\u001B[0m     kwargs[\u001B[38;5;124m'\u001B[39m\u001B[38;5;124minput\u001B[39m\u001B[38;5;124m'\u001B[39m] \u001B[38;5;241m=\u001B[39m empty\n\u001B[0;32m--> 415\u001B[0m \u001B[38;5;28;01mreturn\u001B[39;00m \u001B[43mrun\u001B[49m\u001B[43m(\u001B[49m\u001B[38;5;241;43m*\u001B[39;49m\u001B[43mpopenargs\u001B[49m\u001B[43m,\u001B[49m\u001B[43m \u001B[49m\u001B[43mstdout\u001B[49m\u001B[38;5;241;43m=\u001B[39;49m\u001B[43mPIPE\u001B[49m\u001B[43m,\u001B[49m\u001B[43m \u001B[49m\u001B[43mtimeout\u001B[49m\u001B[38;5;241;43m=\u001B[39;49m\u001B[43mtimeout\u001B[49m\u001B[43m,\u001B[49m\u001B[43m \u001B[49m\u001B[43mcheck\u001B[49m\u001B[38;5;241;43m=\u001B[39;49m\u001B[38;5;28;43;01mTrue\u001B[39;49;00m\u001B[43m,\u001B[49m\n\u001B[1;32m    416\u001B[0m \u001B[43m           \u001B[49m\u001B[38;5;241;43m*\u001B[39;49m\u001B[38;5;241;43m*\u001B[39;49m\u001B[43mkwargs\u001B[49m\u001B[43m)\u001B[49m\u001B[38;5;241m.\u001B[39mstdout\n",
      "File \u001B[0;32m/opt/anaconda3/envs/teachopencadd/lib/python3.8/subprocess.py:495\u001B[0m, in \u001B[0;36mrun\u001B[0;34m(input, capture_output, timeout, check, *popenargs, **kwargs)\u001B[0m\n\u001B[1;32m    493\u001B[0m \u001B[38;5;28;01mwith\u001B[39;00m Popen(\u001B[38;5;241m*\u001B[39mpopenargs, \u001B[38;5;241m*\u001B[39m\u001B[38;5;241m*\u001B[39mkwargs) \u001B[38;5;28;01mas\u001B[39;00m process:\n\u001B[1;32m    494\u001B[0m     \u001B[38;5;28;01mtry\u001B[39;00m:\n\u001B[0;32m--> 495\u001B[0m         stdout, stderr \u001B[38;5;241m=\u001B[39m \u001B[43mprocess\u001B[49m\u001B[38;5;241;43m.\u001B[39;49m\u001B[43mcommunicate\u001B[49m\u001B[43m(\u001B[49m\u001B[38;5;28;43minput\u001B[39;49m\u001B[43m,\u001B[49m\u001B[43m \u001B[49m\u001B[43mtimeout\u001B[49m\u001B[38;5;241;43m=\u001B[39;49m\u001B[43mtimeout\u001B[49m\u001B[43m)\u001B[49m\n\u001B[1;32m    496\u001B[0m     \u001B[38;5;28;01mexcept\u001B[39;00m TimeoutExpired \u001B[38;5;28;01mas\u001B[39;00m exc:\n\u001B[1;32m    497\u001B[0m         process\u001B[38;5;241m.\u001B[39mkill()\n",
      "File \u001B[0;32m/opt/anaconda3/envs/teachopencadd/lib/python3.8/subprocess.py:1015\u001B[0m, in \u001B[0;36mPopen.communicate\u001B[0;34m(self, input, timeout)\u001B[0m\n\u001B[1;32m   1013\u001B[0m     \u001B[38;5;28mself\u001B[39m\u001B[38;5;241m.\u001B[39m_stdin_write(\u001B[38;5;28minput\u001B[39m)\n\u001B[1;32m   1014\u001B[0m \u001B[38;5;28;01melif\u001B[39;00m \u001B[38;5;28mself\u001B[39m\u001B[38;5;241m.\u001B[39mstdout:\n\u001B[0;32m-> 1015\u001B[0m     stdout \u001B[38;5;241m=\u001B[39m \u001B[38;5;28;43mself\u001B[39;49m\u001B[38;5;241;43m.\u001B[39;49m\u001B[43mstdout\u001B[49m\u001B[38;5;241;43m.\u001B[39;49m\u001B[43mread\u001B[49m\u001B[43m(\u001B[49m\u001B[43m)\u001B[49m\n\u001B[1;32m   1016\u001B[0m     \u001B[38;5;28mself\u001B[39m\u001B[38;5;241m.\u001B[39mstdout\u001B[38;5;241m.\u001B[39mclose()\n\u001B[1;32m   1017\u001B[0m \u001B[38;5;28;01melif\u001B[39;00m \u001B[38;5;28mself\u001B[39m\u001B[38;5;241m.\u001B[39mstderr:\n",
      "\u001B[0;31mKeyboardInterrupt\u001B[0m: "
     ]
    }
   ],
   "execution_count": 26
  },
  {
   "metadata": {
    "ExecuteTime": {
     "end_time": "2024-10-15T15:50:14.065408Z",
     "start_time": "2024-10-15T15:50:14.060441Z"
    }
   },
   "cell_type": "code",
   "source": [
    "# 将对接结果保存到DataFrame\n",
    "results_df = pd.DataFrame(docking_results)"
   ],
   "id": "80da8e6cb75fb464",
   "outputs": [],
   "execution_count": 27
  },
  {
   "metadata": {
    "ExecuteTime": {
     "end_time": "2024-10-15T15:50:15.025460Z",
     "start_time": "2024-10-15T15:50:15.018974Z"
    }
   },
   "cell_type": "code",
   "source": [
    "# 删除没有对接得分的行\n",
    "results_df = results_df.dropna(subset=['docking_score'])"
   ],
   "id": "34f67d41a1f91dc0",
   "outputs": [],
   "execution_count": 28
  },
  {
   "metadata": {
    "ExecuteTime": {
     "end_time": "2024-10-15T15:50:15.701123Z",
     "start_time": "2024-10-15T15:50:15.697333Z"
    }
   },
   "cell_type": "code",
   "source": [
    "# 将得分为正数的结果筛选出来\n",
    "positive_scores_df = results_df[results_df['docking_score'] > 0]"
   ],
   "id": "953c0d8eb749d52d",
   "outputs": [],
   "execution_count": 29
  },
  {
   "metadata": {
    "ExecuteTime": {
     "end_time": "2024-10-15T15:50:16.152485Z",
     "start_time": "2024-10-15T15:50:16.149063Z"
    }
   },
   "cell_type": "code",
   "source": [
    "# 将得分 ≤ -10 的结果筛选出来\n",
    "score_leq_neg10_df = results_df[results_df['docking_score'] <= -10]"
   ],
   "id": "50b2370576b592f5",
   "outputs": [],
   "execution_count": 30
  },
  {
   "metadata": {
    "ExecuteTime": {
     "end_time": "2024-10-15T15:50:16.530483Z",
     "start_time": "2024-10-15T15:50:16.526309Z"
    }
   },
   "cell_type": "code",
   "source": [
    "# 将得分在 -10 到 -9 之间的结果筛选出来\n",
    "score_between_neg10_neg9_df = results_df[(results_df['docking_score'] > -10) & (results_df['docking_score'] <= -9)]"
   ],
   "id": "18b87e7397fe524f",
   "outputs": [],
   "execution_count": 31
  },
  {
   "metadata": {
    "ExecuteTime": {
     "end_time": "2024-10-15T15:50:17.100142Z",
     "start_time": "2024-10-15T15:50:17.096872Z"
    }
   },
   "cell_type": "code",
   "source": [
    "# 将得分 > -9 的结果筛选出来\n",
    "score_gt_neg9_df = results_df[results_df['docking_score'] > -9]"
   ],
   "id": "a189bce366a0af68",
   "outputs": [],
   "execution_count": 32
  },
  {
   "metadata": {
    "ExecuteTime": {
     "end_time": "2024-10-15T15:50:17.476543Z",
     "start_time": "2024-10-15T15:50:17.463391Z"
    }
   },
   "cell_type": "code",
   "source": [
    "# 保存到CSV文件\n",
    "positive_scores_df.to_csv(DATA / \"docking_positive_scores.csv\", index=False)\n",
    "score_leq_neg10_df.to_csv(DATA / \"docking_score_leq_neg10.csv\", index=False)\n",
    "score_between_neg10_neg9_df.to_csv(DATA / \"docking_score_between_neg10_neg9.csv\", index=False)\n",
    "score_gt_neg9_df.to_csv(DATA / \"docking_score_gt_neg9.csv\", index=False)"
   ],
   "id": "726f4360a8d15bdb",
   "outputs": [],
   "execution_count": 33
  },
  {
   "metadata": {
    "ExecuteTime": {
     "end_time": "2024-10-15T15:53:33.831394Z",
     "start_time": "2024-10-15T15:53:33.824166Z"
    }
   },
   "cell_type": "code",
   "source": [
    "import nglview as nv\n",
    "\n",
    "def visualize_docking_pose(pdb_id, molecule_chembl_id, docking_pose_id):\n",
    "    \"\"\"\n",
    "    根据指定的 PDB ID、ChEMBL ID 和对接位点 ID，可视化对接结果。\n",
    "\n",
    "    参数\n",
    "    ----------\n",
    "    pdb_id: str\n",
    "        蛋白质的 PDB ID。\n",
    "    molecule_chembl_id: str\n",
    "        分子的 ChEMBL ID。\n",
    "    docking_pose_id: int\n",
    "        要查看的对接位点 ID。\n",
    "    \"\"\"\n",
    "    ligand_dir = DATA / pdb_id / f\"ligand_{molecule_chembl_id}\"\n",
    "    sdf_file = ligand_dir / f\"docking_poses_{docking_pose_id}.sdf\"\n",
    "    protein_file = DATA / pdb_id / \"protein.pdb\"\n",
    "\n",
    "    if not sdf_file.exists():\n",
    "        print(f\"SDF 文件不存在: {sdf_file}\")\n",
    "        return\n",
    "\n",
    "    if not protein_file.exists():\n",
    "        print(f\"蛋白质 PDB 文件不存在: {protein_file}\")\n",
    "        return\n",
    "\n",
    "    # 创建 NGLView 小部件\n",
    "    view = nv.NGLWidget()\n",
    "\n",
    "    # 添加蛋白质结构\n",
    "    view.add_component(str(protein_file))\n",
    "    view.add_representation('cartoon', selection='protein', color='blue')\n",
    "\n",
    "    # 添加配体对接位点\n",
    "    view.add_component(str(sdf_file))\n",
    "    view.add_representation('ball+stick', selection='all', color='orange')\n",
    "\n",
    "    # 将视图中心对准配体\n",
    "    view.center(selection='all')\n",
    "\n",
    "    return view\n"
   ],
   "id": "86b73c92207d17df",
   "outputs": [],
   "execution_count": 39
  },
  {
   "metadata": {
    "ExecuteTime": {
     "end_time": "2024-10-15T15:53:47.613965Z",
     "start_time": "2024-10-15T15:53:47.581273Z"
    }
   },
   "cell_type": "code",
   "source": [
    "pdb_id = '6Q4G'\n",
    "molecule_chembl_id = 'CHEMBL3600873'  # ❤️ 替换为实际的 ChEMBL ID，不要跟着写我一样哦，傻傻的~~~~~~⚠️\n",
    "docking_pose_id = 1  # 要查看的对接位点 ID\n",
    "\n",
    "view = visualize_docking_pose(pdb_id, molecule_chembl_id, docking_pose_id)\n",
    "\n",
    "if view:\n",
    "    view  # 在 Jupyter Notebook 中显示视图\n"
   ],
   "id": "94d5620798294504",
   "outputs": [
    {
     "name": "stdout",
     "output_type": "stream",
     "text": [
      "NGLWidget()\n"
     ]
    }
   ],
   "execution_count": 41
  },
  {
   "metadata": {},
   "cell_type": "code",
   "outputs": [],
   "execution_count": null,
   "source": "",
   "id": "7845f50aa7e4a0a6"
  }
 ],
 "metadata": {
  "kernelspec": {
   "display_name": "Python 3",
   "language": "python",
   "name": "python3"
  },
  "language_info": {
   "codemirror_mode": {
    "name": "ipython",
    "version": 2
   },
   "file_extension": ".py",
   "mimetype": "text/x-python",
   "name": "python",
   "nbconvert_exporter": "python",
   "pygments_lexer": "ipython2",
   "version": "2.7.6"
  }
 },
 "nbformat": 4,
 "nbformat_minor": 5
}
