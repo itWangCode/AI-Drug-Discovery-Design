{
 "cells": [
  {
   "metadata": {},
   "cell_type": "markdown",
   "source": [
    "# Automatic Protein-Ligand Docking\n",
    "# 全自动分子对接"
   ],
   "id": "aea85a58bc5f3964"
  },
  {
   "cell_type": "code",
   "id": "initial_id",
   "metadata": {
    "collapsed": true,
    "ExecuteTime": {
     "end_time": "2024-10-15T10:05:18.103977Z",
     "start_time": "2024-10-15T10:05:15.484330Z"
    }
   },
   "source": [
    "import warnings  # 导入警告模块\n",
    "from pathlib import Path  # 导入路径处理模块\n",
    "import subprocess  # 导入子进程模块\n",
    "import numpy as np  # 导入NumPy模块\n",
    "from MDAnalysis import Universe  # 从MDAnalysis导入Universe类\n",
    "from openbabel import pybel  # 从Open Babel导入pybel模块\n",
    "import pandas as pd  # 导入pandas用于数据处理\n",
    "import os\n",
    "from urllib.request import urlretrieve  # 用于下载PDB文件"
   ],
   "outputs": [],
   "execution_count": 1
  },
  {
   "metadata": {
    "ExecuteTime": {
     "end_time": "2024-10-15T10:06:02.739182Z",
     "start_time": "2024-10-15T10:06:02.734044Z"
    }
   },
   "cell_type": "code",
   "source": [
    "# 设置工作目录\n",
    "HERE = Path(os.getcwd())\n",
    "DATA = HERE / 'data'\n",
    "DATA.mkdir(parents=True, exist_ok=True)\n",
    "print(f\"数据目录: {DATA}\")\n",
    "\n",
    "# 忽略警告信息\n",
    "warnings.filterwarnings(\"ignore\")"
   ],
   "id": "bdea4bca19c51a8",
   "outputs": [
    {
     "name": "stdout",
     "output_type": "stream",
     "text": [
      "数据目录: /Users/wangyang/Desktop/Breast_cancer_brain_metastasis/wang_Gene/AIDD/15_Protein_ligand_docking/data\n"
     ]
    }
   ],
   "execution_count": 2
  },
  {
   "metadata": {
    "ExecuteTime": {
     "end_time": "2024-10-15T10:06:10.329335Z",
     "start_time": "2024-10-15T10:06:10.315539Z"
    }
   },
   "cell_type": "code",
   "source": [
    "class Structure(Universe):\n",
    "    \"\"\"用于加载结构的核心对象。\"\"\"\n",
    "    \n",
    "    @classmethod\n",
    "    def from_string(cls, pdb_path):\n",
    "        \"\"\"从本地PDB文件加载结构。\"\"\"\n",
    "        return cls(pdb_path)\n",
    "\n",
    "def pdb_to_pdbqt(pdb_path, pdbqt_path, pH=7.4):\n",
    "    \"\"\"将PDB文件转换为PDBQT文件。\"\"\"\n",
    "    molecule = list(pybel.readfile(\"pdb\", str(pdb_path)))[0]\n",
    "    molecule.OBMol.CorrectForPH(pH)\n",
    "    molecule.addh()\n",
    "    for atom in molecule.atoms:\n",
    "        atom.OBAtom.GetPartialCharge()\n",
    "    molecule.write(\"pdbqt\", str(pdbqt_path), overwrite=True)\n",
    "\n",
    "def find_ligand_resname(structure):\n",
    "    \"\"\"自动检测配体残基并返回其名称。\"\"\"\n",
    "    ligand_atoms = structure.select_atoms(\"not protein and not resname HOH\")\n",
    "    ligand_resnames = set(ligand_atoms.resnames)\n",
    "    if len(ligand_resnames) == 0:\n",
    "        raise ValueError(\"在结构中未找到配体。\")\n",
    "    return list(ligand_resnames)[0]\n",
    "\n",
    "def smiles_to_pdbqt(smiles, pdbqt_path, pH=7.4):\n",
    "    \"\"\"将SMILES字符串转换为PDBQT文件。\"\"\"\n",
    "    molecule = pybel.readstring(\"smi\", smiles)\n",
    "    molecule.OBMol.CorrectForPH(pH)\n",
    "    molecule.addh()\n",
    "    molecule.make3D(forcefield=\"mmff94s\", steps=1000)\n",
    "    for atom in molecule.atoms:\n",
    "        atom.OBAtom.GetPartialCharge()\n",
    "    molecule.write(\"pdbqt\", str(pdbqt_path), overwrite=True)\n",
    "\n",
    "def run_smina(ligand_path, protein_path, out_path, pocket_center, pocket_size):\n",
    "    \"\"\"使用Smina进行分子对接。\"\"\"\n",
    "    output_text = subprocess.check_output([\n",
    "        \"smina\",\n",
    "        \"--receptor\", str(protein_path),\n",
    "        \"--ligand\", str(ligand_path),\n",
    "        \"--out\", str(out_path),\n",
    "        \"--center_x\", str(pocket_center[0]),\n",
    "        \"--center_y\", str(pocket_center[1]),\n",
    "        \"--center_z\", str(pocket_center[2]),\n",
    "        \"--size_x\", str(pocket_size[0]),\n",
    "        \"--size_y\", str(pocket_size[1]),\n",
    "        \"--size_z\", str(pocket_size[2]),\n",
    "        \"--log\", str(out_path.with_suffix('.log')),\n",
    "    ])\n",
    "    return output_text.decode(\"utf-8\")\n",
    "\n",
    "def split_sdf_file(sdf_path):\n",
    "    \"\"\"将SDF文件拆分为单独的分子文件。\"\"\"\n",
    "    sdf_path = Path(sdf_path)\n",
    "    stem = sdf_path.stem\n",
    "    parent = sdf_path.parent\n",
    "    molecules = pybel.readfile(\"sdf\", str(sdf_path))\n",
    "    for i, molecule in enumerate(molecules, 1):\n",
    "        molecule.write(\"sdf\", str(parent / f\"{stem}_{i}.sdf\"), overwrite=True)\n",
    "\n",
    "def download_pdb(pdb_id, pdb_path):\n",
    "    \"\"\"下载PDB文件。\"\"\"\n",
    "    pdb_url = f\"https://files.rcsb.org/download/{pdb_id}.pdb\"\n",
    "    try:\n",
    "        urlretrieve(pdb_url, pdb_path)\n",
    "        print(f\"已下载 PDB {pdb_id} 到 {pdb_path}\")\n",
    "    except Exception as e:\n",
    "        print(f\"下载 PDB {pdb_id} 失败: {e}\")\n",
    "        raise"
   ],
   "id": "909f695d6d9f90a9",
   "outputs": [],
   "execution_count": 3
  },
  {
   "metadata": {
    "ExecuteTime": {
     "end_time": "2024-10-15T10:06:11.329254Z",
     "start_time": "2024-10-15T10:06:11.321889Z"
    }
   },
   "cell_type": "code",
   "source": [
    "# 读取CSV文件\n",
    "csv_file = DATA / 'pic50_greater_8.0.csv'\n",
    "df = pd.read_csv(csv_file)"
   ],
   "id": "6a49342ff14595d1",
   "outputs": [],
   "execution_count": 4
  },
  {
   "metadata": {
    "ExecuteTime": {
     "end_time": "2024-10-15T10:06:13.569029Z",
     "start_time": "2024-10-15T10:06:13.565342Z"
    }
   },
   "cell_type": "code",
   "source": [
    "# PDB ID列表\n",
    "pdb_ids = [\n",
    "    '6Q4G',\n",
    "    '6Q49',\n",
    "    '6Q4H',\n",
    "    '6Q48',\n",
    "    '6Q4J',\n",
    "    '6Q4K',\n",
    "    '6Q4E',\n",
    "    '6Q4D',\n",
    "    '6Q3B',\n",
    "    '6Q4I',\n",
    "]"
   ],
   "id": "b653754215ad1c49",
   "outputs": [],
   "execution_count": 5
  },
  {
   "metadata": {
    "ExecuteTime": {
     "end_time": "2024-10-15T10:06:14.183562Z",
     "start_time": "2024-10-15T10:06:14.181054Z"
    }
   },
   "cell_type": "code",
   "source": [
    "# 存储对接结果的列表\n",
    "docking_results = []\n"
   ],
   "id": "c13799f84baac21e",
   "outputs": [],
   "execution_count": 6
  },
  {
   "metadata": {
    "ExecuteTime": {
     "end_time": "2024-10-15T12:03:50.152027Z",
     "start_time": "2024-10-15T10:09:07.751671Z"
    }
   },
   "cell_type": "code",
   "source": [
    "# 遍历每个PDB ID\n",
    "for pdb_id in pdb_ids:\n",
    "    # 为当前PDB创建目录\n",
    "    pdb_dir = DATA / pdb_id\n",
    "    pdb_dir.mkdir(exist_ok=True)\n",
    "    \n",
    "    # 检查并下载PDB文件\n",
    "    pdb_path = pdb_dir / f\"{pdb_id}.pdb\"\n",
    "    if not pdb_path.exists():\n",
    "        download_pdb(pdb_id, pdb_path)\n",
    "    \n",
    "    # 加载结构\n",
    "    structure = Structure.from_string(pdb_path)\n",
    "    \n",
    "    # 准备蛋白质文件\n",
    "    protein_path = pdb_dir / \"protein.pdb\"\n",
    "    protein = structure.select_atoms(\"protein\")\n",
    "    protein.write(str(protein_path))\n",
    "    \n",
    "    # 将蛋白质转换为PDBQT格式\n",
    "    protein_pdbqt_path = pdb_dir / \"protein.pdbqt\"\n",
    "    pdb_to_pdbqt(protein_path, protein_pdbqt_path)\n",
    "    \n",
    "    # 自动检测配体残基名称\n",
    "    try:\n",
    "        ligand_resname = find_ligand_resname(structure)\n",
    "        print(f\"PDB ID {pdb_id}: 使用配体残基名称: {ligand_resname}\")\n",
    "        ligand = structure.select_atoms(f\"resname {ligand_resname}\")\n",
    "    except ValueError:\n",
    "        print(f\"PDB ID {pdb_id}: 未找到配体，跳过。\")\n",
    "        continue\n",
    "    \n",
    "    # 计算口袋中心和大小\n",
    "    pocket_center = (ligand.positions.max(axis=0) + ligand.positions.min(axis=0)) / 2\n",
    "    pocket_size = ligand.positions.max(axis=0) - ligand.positions.min(axis=0) + 5  # 加入缓冲\n",
    "    \n",
    "    # 遍历每个SMILES字符串\n",
    "    for idx, row in df.iterrows():\n",
    "        molecule_chembl_id = row['molecule_chembl_id']\n",
    "        smiles = row['smiles']\n",
    "        pIC50 = row['pIC50']\n",
    "        \n",
    "        # 为当前配体创建目录\n",
    "        ligand_dir = pdb_dir / f\"ligand_{molecule_chembl_id}\"\n",
    "        ligand_dir.mkdir(exist_ok=True)\n",
    "        \n",
    "        # 将SMILES转换为PDBQT\n",
    "        ligand_pdbqt_path = ligand_dir / \"ligand.pdbqt\"\n",
    "        smiles_to_pdbqt(smiles, ligand_pdbqt_path)\n",
    "        \n",
    "        # 执行分子对接\n",
    "        docking_out_path = ligand_dir / \"docking_poses.sdf\"\n",
    "        try:\n",
    "            docker_info = run_smina(ligand_pdbqt_path, protein_pdbqt_path, docking_out_path, pocket_center, pocket_size)\n",
    "        except subprocess.CalledProcessError as e:\n",
    "            print(f\"对接失败 PDB {pdb_id}, 配体 {molecule_chembl_id}: {e}\")\n",
    "            docker_info = f\"对接失败: {e}\"\n",
    "        \n",
    "        # 保存对接信息\n",
    "        with open(ligand_dir / \"docker_info.txt\", \"w\") as f:\n",
    "            f.write(docker_info)\n",
    "        \n",
    "        # 如果对接成功，拆分SDF文件\n",
    "        if docking_out_path.exists():\n",
    "            split_sdf_file(docking_out_path)\n",
    "        else:\n",
    "            print(f\"没有对接输出 PDB {pdb_id}, 配体 {molecule_chembl_id}\")\n",
    "        \n",
    "        # 记录对接信息\n",
    "        docking_results.append({\n",
    "            'PDB_ID': pdb_id,\n",
    "            'molecule_chembl_id': molecule_chembl_id,\n",
    "            'smiles': smiles,\n",
    "            'pIC50': pIC50,\n",
    "            'ligand_resname': ligand_resname,\n",
    "            'docker_info': docker_info,\n",
    "        })\n"
   ],
   "id": "1185603935a12762",
   "outputs": [
    {
     "name": "stderr",
     "output_type": "stream",
     "text": [
      "==============================\n",
      "*** Open Babel Warning  in PerceiveBondOrders\n",
      "  Failed to kekulize aromatic bonds in OBMol::PerceiveBondOrders (title is /Users/wangyang/Desktop/Breast_cancer_brain_metastasis/wang_Gene/AIDD/15_Protein_ligand_docking/data/6Q4G/protein.pdb)\n",
      "\n"
     ]
    },
    {
     "name": "stdout",
     "output_type": "stream",
     "text": [
      "PDB ID 6Q4G: 使用配体残基名称: HJK\n"
     ]
    },
    {
     "name": "stderr",
     "output_type": "stream",
     "text": [
      "\n",
      "\n",
      "Parse error on line 28 in file \"/Users/wangyang/Desktop/Breast_cancer_brain_metastasis/wang_Gene/AIDD/15_Protein_ligand_docking/data/6Q4G/ligand_CHEMBL3951333/ligand.pdbqt\": Unknown or inappropriate tag\n"
     ]
    },
    {
     "name": "stdout",
     "output_type": "stream",
     "text": [
      "对接失败 PDB 6Q4G, 配体 CHEMBL3951333: Command '['smina', '--receptor', '/Users/wangyang/Desktop/Breast_cancer_brain_metastasis/wang_Gene/AIDD/15_Protein_ligand_docking/data/6Q4G/protein.pdbqt', '--ligand', '/Users/wangyang/Desktop/Breast_cancer_brain_metastasis/wang_Gene/AIDD/15_Protein_ligand_docking/data/6Q4G/ligand_CHEMBL3951333/ligand.pdbqt', '--out', '/Users/wangyang/Desktop/Breast_cancer_brain_metastasis/wang_Gene/AIDD/15_Protein_ligand_docking/data/6Q4G/ligand_CHEMBL3951333/docking_poses.sdf', '--center_x', '-1.0255', '--center_y', '-5.8515', '--center_z', '-24.709', '--size_x', '11.7630005', '--size_y', '12.0789995', '--size_z', '13.8220005', '--log', '/Users/wangyang/Desktop/Breast_cancer_brain_metastasis/wang_Gene/AIDD/15_Protein_ligand_docking/data/6Q4G/ligand_CHEMBL3951333/docking_poses.log']' returned non-zero exit status 1.\n"
     ]
    },
    {
     "name": "stderr",
     "output_type": "stream",
     "text": [
      "\n",
      "\n",
      "Parse error on line 28 in file \"/Users/wangyang/Desktop/Breast_cancer_brain_metastasis/wang_Gene/AIDD/15_Protein_ligand_docking/data/6Q4G/ligand_CHEMBL3977678/ligand.pdbqt\": Unknown or inappropriate tag\n"
     ]
    },
    {
     "name": "stdout",
     "output_type": "stream",
     "text": [
      "对接失败 PDB 6Q4G, 配体 CHEMBL3977678: Command '['smina', '--receptor', '/Users/wangyang/Desktop/Breast_cancer_brain_metastasis/wang_Gene/AIDD/15_Protein_ligand_docking/data/6Q4G/protein.pdbqt', '--ligand', '/Users/wangyang/Desktop/Breast_cancer_brain_metastasis/wang_Gene/AIDD/15_Protein_ligand_docking/data/6Q4G/ligand_CHEMBL3977678/ligand.pdbqt', '--out', '/Users/wangyang/Desktop/Breast_cancer_brain_metastasis/wang_Gene/AIDD/15_Protein_ligand_docking/data/6Q4G/ligand_CHEMBL3977678/docking_poses.sdf', '--center_x', '-1.0255', '--center_y', '-5.8515', '--center_z', '-24.709', '--size_x', '11.7630005', '--size_y', '12.0789995', '--size_z', '13.8220005', '--log', '/Users/wangyang/Desktop/Breast_cancer_brain_metastasis/wang_Gene/AIDD/15_Protein_ligand_docking/data/6Q4G/ligand_CHEMBL3977678/docking_poses.log']' returned non-zero exit status 1.\n"
     ]
    },
    {
     "name": "stderr",
     "output_type": "stream",
     "text": [
      "\n",
      "\n",
      "Parse error on line 28 in file \"/Users/wangyang/Desktop/Breast_cancer_brain_metastasis/wang_Gene/AIDD/15_Protein_ligand_docking/data/6Q4G/ligand_CHEMBL3897985/ligand.pdbqt\": Unknown or inappropriate tag\n"
     ]
    },
    {
     "name": "stdout",
     "output_type": "stream",
     "text": [
      "对接失败 PDB 6Q4G, 配体 CHEMBL3897985: Command '['smina', '--receptor', '/Users/wangyang/Desktop/Breast_cancer_brain_metastasis/wang_Gene/AIDD/15_Protein_ligand_docking/data/6Q4G/protein.pdbqt', '--ligand', '/Users/wangyang/Desktop/Breast_cancer_brain_metastasis/wang_Gene/AIDD/15_Protein_ligand_docking/data/6Q4G/ligand_CHEMBL3897985/ligand.pdbqt', '--out', '/Users/wangyang/Desktop/Breast_cancer_brain_metastasis/wang_Gene/AIDD/15_Protein_ligand_docking/data/6Q4G/ligand_CHEMBL3897985/docking_poses.sdf', '--center_x', '-1.0255', '--center_y', '-5.8515', '--center_z', '-24.709', '--size_x', '11.7630005', '--size_y', '12.0789995', '--size_z', '13.8220005', '--log', '/Users/wangyang/Desktop/Breast_cancer_brain_metastasis/wang_Gene/AIDD/15_Protein_ligand_docking/data/6Q4G/ligand_CHEMBL3897985/docking_poses.log']' returned non-zero exit status 1.\n",
      "已下载 PDB 6Q49 到 /Users/wangyang/Desktop/Breast_cancer_brain_metastasis/wang_Gene/AIDD/15_Protein_ligand_docking/data/6Q49/6Q49.pdb\n"
     ]
    },
    {
     "name": "stderr",
     "output_type": "stream",
     "text": [
      "==============================\n",
      "*** Open Babel Warning  in PerceiveBondOrders\n",
      "  Failed to kekulize aromatic bonds in OBMol::PerceiveBondOrders (title is /Users/wangyang/Desktop/Breast_cancer_brain_metastasis/wang_Gene/AIDD/15_Protein_ligand_docking/data/6Q49/protein.pdb)\n",
      "\n"
     ]
    },
    {
     "name": "stdout",
     "output_type": "stream",
     "text": [
      "PDB ID 6Q49: 使用配体残基名称: DMS\n"
     ]
    },
    {
     "name": "stderr",
     "output_type": "stream",
     "text": [
      "\n",
      "\n",
      "Parse error on line 28 in file \"/Users/wangyang/Desktop/Breast_cancer_brain_metastasis/wang_Gene/AIDD/15_Protein_ligand_docking/data/6Q49/ligand_CHEMBL3951333/ligand.pdbqt\": Unknown or inappropriate tag\n"
     ]
    },
    {
     "name": "stdout",
     "output_type": "stream",
     "text": [
      "对接失败 PDB 6Q49, 配体 CHEMBL3951333: Command '['smina', '--receptor', '/Users/wangyang/Desktop/Breast_cancer_brain_metastasis/wang_Gene/AIDD/15_Protein_ligand_docking/data/6Q49/protein.pdbqt', '--ligand', '/Users/wangyang/Desktop/Breast_cancer_brain_metastasis/wang_Gene/AIDD/15_Protein_ligand_docking/data/6Q49/ligand_CHEMBL3951333/ligand.pdbqt', '--out', '/Users/wangyang/Desktop/Breast_cancer_brain_metastasis/wang_Gene/AIDD/15_Protein_ligand_docking/data/6Q49/ligand_CHEMBL3951333/docking_poses.sdf', '--center_x', '6.852', '--center_y', '-11.8995', '--center_z', '9.9935', '--size_x', '7.504', '--size_y', '6.0109997', '--size_z', '7.583', '--log', '/Users/wangyang/Desktop/Breast_cancer_brain_metastasis/wang_Gene/AIDD/15_Protein_ligand_docking/data/6Q49/ligand_CHEMBL3951333/docking_poses.log']' returned non-zero exit status 1.\n"
     ]
    },
    {
     "name": "stderr",
     "output_type": "stream",
     "text": [
      "\n",
      "\n",
      "Parse error on line 28 in file \"/Users/wangyang/Desktop/Breast_cancer_brain_metastasis/wang_Gene/AIDD/15_Protein_ligand_docking/data/6Q49/ligand_CHEMBL3977678/ligand.pdbqt\": Unknown or inappropriate tag\n"
     ]
    },
    {
     "name": "stdout",
     "output_type": "stream",
     "text": [
      "对接失败 PDB 6Q49, 配体 CHEMBL3977678: Command '['smina', '--receptor', '/Users/wangyang/Desktop/Breast_cancer_brain_metastasis/wang_Gene/AIDD/15_Protein_ligand_docking/data/6Q49/protein.pdbqt', '--ligand', '/Users/wangyang/Desktop/Breast_cancer_brain_metastasis/wang_Gene/AIDD/15_Protein_ligand_docking/data/6Q49/ligand_CHEMBL3977678/ligand.pdbqt', '--out', '/Users/wangyang/Desktop/Breast_cancer_brain_metastasis/wang_Gene/AIDD/15_Protein_ligand_docking/data/6Q49/ligand_CHEMBL3977678/docking_poses.sdf', '--center_x', '6.852', '--center_y', '-11.8995', '--center_z', '9.9935', '--size_x', '7.504', '--size_y', '6.0109997', '--size_z', '7.583', '--log', '/Users/wangyang/Desktop/Breast_cancer_brain_metastasis/wang_Gene/AIDD/15_Protein_ligand_docking/data/6Q49/ligand_CHEMBL3977678/docking_poses.log']' returned non-zero exit status 1.\n"
     ]
    },
    {
     "name": "stderr",
     "output_type": "stream",
     "text": [
      "\n",
      "\n",
      "Parse error on line 28 in file \"/Users/wangyang/Desktop/Breast_cancer_brain_metastasis/wang_Gene/AIDD/15_Protein_ligand_docking/data/6Q49/ligand_CHEMBL3897985/ligand.pdbqt\": Unknown or inappropriate tag\n"
     ]
    },
    {
     "name": "stdout",
     "output_type": "stream",
     "text": [
      "对接失败 PDB 6Q49, 配体 CHEMBL3897985: Command '['smina', '--receptor', '/Users/wangyang/Desktop/Breast_cancer_brain_metastasis/wang_Gene/AIDD/15_Protein_ligand_docking/data/6Q49/protein.pdbqt', '--ligand', '/Users/wangyang/Desktop/Breast_cancer_brain_metastasis/wang_Gene/AIDD/15_Protein_ligand_docking/data/6Q49/ligand_CHEMBL3897985/ligand.pdbqt', '--out', '/Users/wangyang/Desktop/Breast_cancer_brain_metastasis/wang_Gene/AIDD/15_Protein_ligand_docking/data/6Q49/ligand_CHEMBL3897985/docking_poses.sdf', '--center_x', '6.852', '--center_y', '-11.8995', '--center_z', '9.9935', '--size_x', '7.504', '--size_y', '6.0109997', '--size_z', '7.583', '--log', '/Users/wangyang/Desktop/Breast_cancer_brain_metastasis/wang_Gene/AIDD/15_Protein_ligand_docking/data/6Q49/ligand_CHEMBL3897985/docking_poses.log']' returned non-zero exit status 1.\n",
      "已下载 PDB 6Q4H 到 /Users/wangyang/Desktop/Breast_cancer_brain_metastasis/wang_Gene/AIDD/15_Protein_ligand_docking/data/6Q4H/6Q4H.pdb\n"
     ]
    },
    {
     "name": "stderr",
     "output_type": "stream",
     "text": [
      "==============================\n",
      "*** Open Babel Warning  in PerceiveBondOrders\n",
      "  Failed to kekulize aromatic bonds in OBMol::PerceiveBondOrders (title is /Users/wangyang/Desktop/Breast_cancer_brain_metastasis/wang_Gene/AIDD/15_Protein_ligand_docking/data/6Q4H/protein.pdb)\n",
      "\n"
     ]
    },
    {
     "name": "stdout",
     "output_type": "stream",
     "text": [
      "PDB ID 6Q4H: 使用配体残基名称: HGH\n"
     ]
    },
    {
     "name": "stderr",
     "output_type": "stream",
     "text": [
      "\n",
      "\n",
      "Parse error on line 28 in file \"/Users/wangyang/Desktop/Breast_cancer_brain_metastasis/wang_Gene/AIDD/15_Protein_ligand_docking/data/6Q4H/ligand_CHEMBL3951333/ligand.pdbqt\": Unknown or inappropriate tag\n"
     ]
    },
    {
     "name": "stdout",
     "output_type": "stream",
     "text": [
      "对接失败 PDB 6Q4H, 配体 CHEMBL3951333: Command '['smina', '--receptor', '/Users/wangyang/Desktop/Breast_cancer_brain_metastasis/wang_Gene/AIDD/15_Protein_ligand_docking/data/6Q4H/protein.pdbqt', '--ligand', '/Users/wangyang/Desktop/Breast_cancer_brain_metastasis/wang_Gene/AIDD/15_Protein_ligand_docking/data/6Q4H/ligand_CHEMBL3951333/ligand.pdbqt', '--out', '/Users/wangyang/Desktop/Breast_cancer_brain_metastasis/wang_Gene/AIDD/15_Protein_ligand_docking/data/6Q4H/ligand_CHEMBL3951333/docking_poses.sdf', '--center_x', '-0.528', '--center_y', '-6.2095003', '--center_z', '-24.554', '--size_x', '10.366', '--size_y', '13.289', '--size_z', '13.382', '--log', '/Users/wangyang/Desktop/Breast_cancer_brain_metastasis/wang_Gene/AIDD/15_Protein_ligand_docking/data/6Q4H/ligand_CHEMBL3951333/docking_poses.log']' returned non-zero exit status 1.\n"
     ]
    },
    {
     "name": "stderr",
     "output_type": "stream",
     "text": [
      "\n",
      "\n",
      "Parse error on line 28 in file \"/Users/wangyang/Desktop/Breast_cancer_brain_metastasis/wang_Gene/AIDD/15_Protein_ligand_docking/data/6Q4H/ligand_CHEMBL3977678/ligand.pdbqt\": Unknown or inappropriate tag\n"
     ]
    },
    {
     "name": "stdout",
     "output_type": "stream",
     "text": [
      "对接失败 PDB 6Q4H, 配体 CHEMBL3977678: Command '['smina', '--receptor', '/Users/wangyang/Desktop/Breast_cancer_brain_metastasis/wang_Gene/AIDD/15_Protein_ligand_docking/data/6Q4H/protein.pdbqt', '--ligand', '/Users/wangyang/Desktop/Breast_cancer_brain_metastasis/wang_Gene/AIDD/15_Protein_ligand_docking/data/6Q4H/ligand_CHEMBL3977678/ligand.pdbqt', '--out', '/Users/wangyang/Desktop/Breast_cancer_brain_metastasis/wang_Gene/AIDD/15_Protein_ligand_docking/data/6Q4H/ligand_CHEMBL3977678/docking_poses.sdf', '--center_x', '-0.528', '--center_y', '-6.2095003', '--center_z', '-24.554', '--size_x', '10.366', '--size_y', '13.289', '--size_z', '13.382', '--log', '/Users/wangyang/Desktop/Breast_cancer_brain_metastasis/wang_Gene/AIDD/15_Protein_ligand_docking/data/6Q4H/ligand_CHEMBL3977678/docking_poses.log']' returned non-zero exit status 1.\n"
     ]
    },
    {
     "name": "stderr",
     "output_type": "stream",
     "text": [
      "\n",
      "\n",
      "Parse error on line 28 in file \"/Users/wangyang/Desktop/Breast_cancer_brain_metastasis/wang_Gene/AIDD/15_Protein_ligand_docking/data/6Q4H/ligand_CHEMBL3897985/ligand.pdbqt\": Unknown or inappropriate tag\n"
     ]
    },
    {
     "name": "stdout",
     "output_type": "stream",
     "text": [
      "对接失败 PDB 6Q4H, 配体 CHEMBL3897985: Command '['smina', '--receptor', '/Users/wangyang/Desktop/Breast_cancer_brain_metastasis/wang_Gene/AIDD/15_Protein_ligand_docking/data/6Q4H/protein.pdbqt', '--ligand', '/Users/wangyang/Desktop/Breast_cancer_brain_metastasis/wang_Gene/AIDD/15_Protein_ligand_docking/data/6Q4H/ligand_CHEMBL3897985/ligand.pdbqt', '--out', '/Users/wangyang/Desktop/Breast_cancer_brain_metastasis/wang_Gene/AIDD/15_Protein_ligand_docking/data/6Q4H/ligand_CHEMBL3897985/docking_poses.sdf', '--center_x', '-0.528', '--center_y', '-6.2095003', '--center_z', '-24.554', '--size_x', '10.366', '--size_y', '13.289', '--size_z', '13.382', '--log', '/Users/wangyang/Desktop/Breast_cancer_brain_metastasis/wang_Gene/AIDD/15_Protein_ligand_docking/data/6Q4H/ligand_CHEMBL3897985/docking_poses.log']' returned non-zero exit status 1.\n",
      "下载 PDB 6Q48 失败: <urlopen error EOF occurred in violation of protocol (_ssl.c:1131)>\n"
     ]
    },
    {
     "ename": "URLError",
     "evalue": "<urlopen error EOF occurred in violation of protocol (_ssl.c:1131)>",
     "output_type": "error",
     "traceback": [
      "\u001B[0;31m---------------------------------------------------------------------------\u001B[0m",
      "\u001B[0;31mSSLEOFError\u001B[0m                               Traceback (most recent call last)",
      "File \u001B[0;32m/opt/anaconda3/envs/teachopencadd/lib/python3.8/urllib/request.py:1354\u001B[0m, in \u001B[0;36mAbstractHTTPHandler.do_open\u001B[0;34m(self, http_class, req, **http_conn_args)\u001B[0m\n\u001B[1;32m   1353\u001B[0m \u001B[38;5;28;01mtry\u001B[39;00m:\n\u001B[0;32m-> 1354\u001B[0m     \u001B[43mh\u001B[49m\u001B[38;5;241;43m.\u001B[39;49m\u001B[43mrequest\u001B[49m\u001B[43m(\u001B[49m\u001B[43mreq\u001B[49m\u001B[38;5;241;43m.\u001B[39;49m\u001B[43mget_method\u001B[49m\u001B[43m(\u001B[49m\u001B[43m)\u001B[49m\u001B[43m,\u001B[49m\u001B[43m \u001B[49m\u001B[43mreq\u001B[49m\u001B[38;5;241;43m.\u001B[39;49m\u001B[43mselector\u001B[49m\u001B[43m,\u001B[49m\u001B[43m \u001B[49m\u001B[43mreq\u001B[49m\u001B[38;5;241;43m.\u001B[39;49m\u001B[43mdata\u001B[49m\u001B[43m,\u001B[49m\u001B[43m \u001B[49m\u001B[43mheaders\u001B[49m\u001B[43m,\u001B[49m\n\u001B[1;32m   1355\u001B[0m \u001B[43m              \u001B[49m\u001B[43mencode_chunked\u001B[49m\u001B[38;5;241;43m=\u001B[39;49m\u001B[43mreq\u001B[49m\u001B[38;5;241;43m.\u001B[39;49m\u001B[43mhas_header\u001B[49m\u001B[43m(\u001B[49m\u001B[38;5;124;43m'\u001B[39;49m\u001B[38;5;124;43mTransfer-encoding\u001B[39;49m\u001B[38;5;124;43m'\u001B[39;49m\u001B[43m)\u001B[49m\u001B[43m)\u001B[49m\n\u001B[1;32m   1356\u001B[0m \u001B[38;5;28;01mexcept\u001B[39;00m \u001B[38;5;167;01mOSError\u001B[39;00m \u001B[38;5;28;01mas\u001B[39;00m err: \u001B[38;5;66;03m# timeout error\u001B[39;00m\n",
      "File \u001B[0;32m/opt/anaconda3/envs/teachopencadd/lib/python3.8/http/client.py:1256\u001B[0m, in \u001B[0;36mHTTPConnection.request\u001B[0;34m(self, method, url, body, headers, encode_chunked)\u001B[0m\n\u001B[1;32m   1255\u001B[0m \u001B[38;5;250m\u001B[39m\u001B[38;5;124;03m\"\"\"Send a complete request to the server.\"\"\"\u001B[39;00m\n\u001B[0;32m-> 1256\u001B[0m \u001B[38;5;28;43mself\u001B[39;49m\u001B[38;5;241;43m.\u001B[39;49m\u001B[43m_send_request\u001B[49m\u001B[43m(\u001B[49m\u001B[43mmethod\u001B[49m\u001B[43m,\u001B[49m\u001B[43m \u001B[49m\u001B[43murl\u001B[49m\u001B[43m,\u001B[49m\u001B[43m \u001B[49m\u001B[43mbody\u001B[49m\u001B[43m,\u001B[49m\u001B[43m \u001B[49m\u001B[43mheaders\u001B[49m\u001B[43m,\u001B[49m\u001B[43m \u001B[49m\u001B[43mencode_chunked\u001B[49m\u001B[43m)\u001B[49m\n",
      "File \u001B[0;32m/opt/anaconda3/envs/teachopencadd/lib/python3.8/http/client.py:1302\u001B[0m, in \u001B[0;36mHTTPConnection._send_request\u001B[0;34m(self, method, url, body, headers, encode_chunked)\u001B[0m\n\u001B[1;32m   1301\u001B[0m     body \u001B[38;5;241m=\u001B[39m _encode(body, \u001B[38;5;124m'\u001B[39m\u001B[38;5;124mbody\u001B[39m\u001B[38;5;124m'\u001B[39m)\n\u001B[0;32m-> 1302\u001B[0m \u001B[38;5;28;43mself\u001B[39;49m\u001B[38;5;241;43m.\u001B[39;49m\u001B[43mendheaders\u001B[49m\u001B[43m(\u001B[49m\u001B[43mbody\u001B[49m\u001B[43m,\u001B[49m\u001B[43m \u001B[49m\u001B[43mencode_chunked\u001B[49m\u001B[38;5;241;43m=\u001B[39;49m\u001B[43mencode_chunked\u001B[49m\u001B[43m)\u001B[49m\n",
      "File \u001B[0;32m/opt/anaconda3/envs/teachopencadd/lib/python3.8/http/client.py:1251\u001B[0m, in \u001B[0;36mHTTPConnection.endheaders\u001B[0;34m(self, message_body, encode_chunked)\u001B[0m\n\u001B[1;32m   1250\u001B[0m     \u001B[38;5;28;01mraise\u001B[39;00m CannotSendHeader()\n\u001B[0;32m-> 1251\u001B[0m \u001B[38;5;28;43mself\u001B[39;49m\u001B[38;5;241;43m.\u001B[39;49m\u001B[43m_send_output\u001B[49m\u001B[43m(\u001B[49m\u001B[43mmessage_body\u001B[49m\u001B[43m,\u001B[49m\u001B[43m \u001B[49m\u001B[43mencode_chunked\u001B[49m\u001B[38;5;241;43m=\u001B[39;49m\u001B[43mencode_chunked\u001B[49m\u001B[43m)\u001B[49m\n",
      "File \u001B[0;32m/opt/anaconda3/envs/teachopencadd/lib/python3.8/http/client.py:1011\u001B[0m, in \u001B[0;36mHTTPConnection._send_output\u001B[0;34m(self, message_body, encode_chunked)\u001B[0m\n\u001B[1;32m   1010\u001B[0m \u001B[38;5;28;01mdel\u001B[39;00m \u001B[38;5;28mself\u001B[39m\u001B[38;5;241m.\u001B[39m_buffer[:]\n\u001B[0;32m-> 1011\u001B[0m \u001B[38;5;28;43mself\u001B[39;49m\u001B[38;5;241;43m.\u001B[39;49m\u001B[43msend\u001B[49m\u001B[43m(\u001B[49m\u001B[43mmsg\u001B[49m\u001B[43m)\u001B[49m\n\u001B[1;32m   1013\u001B[0m \u001B[38;5;28;01mif\u001B[39;00m message_body \u001B[38;5;129;01mis\u001B[39;00m \u001B[38;5;129;01mnot\u001B[39;00m \u001B[38;5;28;01mNone\u001B[39;00m:\n\u001B[1;32m   1014\u001B[0m \n\u001B[1;32m   1015\u001B[0m     \u001B[38;5;66;03m# create a consistent interface to message_body\u001B[39;00m\n",
      "File \u001B[0;32m/opt/anaconda3/envs/teachopencadd/lib/python3.8/http/client.py:951\u001B[0m, in \u001B[0;36mHTTPConnection.send\u001B[0;34m(self, data)\u001B[0m\n\u001B[1;32m    950\u001B[0m \u001B[38;5;28;01mif\u001B[39;00m \u001B[38;5;28mself\u001B[39m\u001B[38;5;241m.\u001B[39mauto_open:\n\u001B[0;32m--> 951\u001B[0m     \u001B[38;5;28;43mself\u001B[39;49m\u001B[38;5;241;43m.\u001B[39;49m\u001B[43mconnect\u001B[49m\u001B[43m(\u001B[49m\u001B[43m)\u001B[49m\n\u001B[1;32m    952\u001B[0m \u001B[38;5;28;01melse\u001B[39;00m:\n",
      "File \u001B[0;32m/opt/anaconda3/envs/teachopencadd/lib/python3.8/http/client.py:1425\u001B[0m, in \u001B[0;36mHTTPSConnection.connect\u001B[0;34m(self)\u001B[0m\n\u001B[1;32m   1423\u001B[0m     server_hostname \u001B[38;5;241m=\u001B[39m \u001B[38;5;28mself\u001B[39m\u001B[38;5;241m.\u001B[39mhost\n\u001B[0;32m-> 1425\u001B[0m \u001B[38;5;28mself\u001B[39m\u001B[38;5;241m.\u001B[39msock \u001B[38;5;241m=\u001B[39m \u001B[38;5;28;43mself\u001B[39;49m\u001B[38;5;241;43m.\u001B[39;49m\u001B[43m_context\u001B[49m\u001B[38;5;241;43m.\u001B[39;49m\u001B[43mwrap_socket\u001B[49m\u001B[43m(\u001B[49m\u001B[38;5;28;43mself\u001B[39;49m\u001B[38;5;241;43m.\u001B[39;49m\u001B[43msock\u001B[49m\u001B[43m,\u001B[49m\n\u001B[1;32m   1426\u001B[0m \u001B[43m                                      \u001B[49m\u001B[43mserver_hostname\u001B[49m\u001B[38;5;241;43m=\u001B[39;49m\u001B[43mserver_hostname\u001B[49m\u001B[43m)\u001B[49m\n",
      "File \u001B[0;32m/opt/anaconda3/envs/teachopencadd/lib/python3.8/ssl.py:500\u001B[0m, in \u001B[0;36mSSLContext.wrap_socket\u001B[0;34m(self, sock, server_side, do_handshake_on_connect, suppress_ragged_eofs, server_hostname, session)\u001B[0m\n\u001B[1;32m    494\u001B[0m \u001B[38;5;28;01mdef\u001B[39;00m \u001B[38;5;21mwrap_socket\u001B[39m(\u001B[38;5;28mself\u001B[39m, sock, server_side\u001B[38;5;241m=\u001B[39m\u001B[38;5;28;01mFalse\u001B[39;00m,\n\u001B[1;32m    495\u001B[0m                 do_handshake_on_connect\u001B[38;5;241m=\u001B[39m\u001B[38;5;28;01mTrue\u001B[39;00m,\n\u001B[1;32m    496\u001B[0m                 suppress_ragged_eofs\u001B[38;5;241m=\u001B[39m\u001B[38;5;28;01mTrue\u001B[39;00m,\n\u001B[1;32m    497\u001B[0m                 server_hostname\u001B[38;5;241m=\u001B[39m\u001B[38;5;28;01mNone\u001B[39;00m, session\u001B[38;5;241m=\u001B[39m\u001B[38;5;28;01mNone\u001B[39;00m):\n\u001B[1;32m    498\u001B[0m     \u001B[38;5;66;03m# SSLSocket class handles server_hostname encoding before it calls\u001B[39;00m\n\u001B[1;32m    499\u001B[0m     \u001B[38;5;66;03m# ctx._wrap_socket()\u001B[39;00m\n\u001B[0;32m--> 500\u001B[0m     \u001B[38;5;28;01mreturn\u001B[39;00m \u001B[38;5;28;43mself\u001B[39;49m\u001B[38;5;241;43m.\u001B[39;49m\u001B[43msslsocket_class\u001B[49m\u001B[38;5;241;43m.\u001B[39;49m\u001B[43m_create\u001B[49m\u001B[43m(\u001B[49m\n\u001B[1;32m    501\u001B[0m \u001B[43m        \u001B[49m\u001B[43msock\u001B[49m\u001B[38;5;241;43m=\u001B[39;49m\u001B[43msock\u001B[49m\u001B[43m,\u001B[49m\n\u001B[1;32m    502\u001B[0m \u001B[43m        \u001B[49m\u001B[43mserver_side\u001B[49m\u001B[38;5;241;43m=\u001B[39;49m\u001B[43mserver_side\u001B[49m\u001B[43m,\u001B[49m\n\u001B[1;32m    503\u001B[0m \u001B[43m        \u001B[49m\u001B[43mdo_handshake_on_connect\u001B[49m\u001B[38;5;241;43m=\u001B[39;49m\u001B[43mdo_handshake_on_connect\u001B[49m\u001B[43m,\u001B[49m\n\u001B[1;32m    504\u001B[0m \u001B[43m        \u001B[49m\u001B[43msuppress_ragged_eofs\u001B[49m\u001B[38;5;241;43m=\u001B[39;49m\u001B[43msuppress_ragged_eofs\u001B[49m\u001B[43m,\u001B[49m\n\u001B[1;32m    505\u001B[0m \u001B[43m        \u001B[49m\u001B[43mserver_hostname\u001B[49m\u001B[38;5;241;43m=\u001B[39;49m\u001B[43mserver_hostname\u001B[49m\u001B[43m,\u001B[49m\n\u001B[1;32m    506\u001B[0m \u001B[43m        \u001B[49m\u001B[43mcontext\u001B[49m\u001B[38;5;241;43m=\u001B[39;49m\u001B[38;5;28;43mself\u001B[39;49m\u001B[43m,\u001B[49m\n\u001B[1;32m    507\u001B[0m \u001B[43m        \u001B[49m\u001B[43msession\u001B[49m\u001B[38;5;241;43m=\u001B[39;49m\u001B[43msession\u001B[49m\n\u001B[1;32m    508\u001B[0m \u001B[43m    \u001B[49m\u001B[43m)\u001B[49m\n",
      "File \u001B[0;32m/opt/anaconda3/envs/teachopencadd/lib/python3.8/ssl.py:1040\u001B[0m, in \u001B[0;36mSSLSocket._create\u001B[0;34m(cls, sock, server_side, do_handshake_on_connect, suppress_ragged_eofs, server_hostname, context, session)\u001B[0m\n\u001B[1;32m   1039\u001B[0m             \u001B[38;5;28;01mraise\u001B[39;00m \u001B[38;5;167;01mValueError\u001B[39;00m(\u001B[38;5;124m\"\u001B[39m\u001B[38;5;124mdo_handshake_on_connect should not be specified for non-blocking sockets\u001B[39m\u001B[38;5;124m\"\u001B[39m)\n\u001B[0;32m-> 1040\u001B[0m         \u001B[38;5;28;43mself\u001B[39;49m\u001B[38;5;241;43m.\u001B[39;49m\u001B[43mdo_handshake\u001B[49m\u001B[43m(\u001B[49m\u001B[43m)\u001B[49m\n\u001B[1;32m   1041\u001B[0m \u001B[38;5;28;01mexcept\u001B[39;00m (\u001B[38;5;167;01mOSError\u001B[39;00m, \u001B[38;5;167;01mValueError\u001B[39;00m):\n",
      "File \u001B[0;32m/opt/anaconda3/envs/teachopencadd/lib/python3.8/ssl.py:1309\u001B[0m, in \u001B[0;36mSSLSocket.do_handshake\u001B[0;34m(self, block)\u001B[0m\n\u001B[1;32m   1308\u001B[0m         \u001B[38;5;28mself\u001B[39m\u001B[38;5;241m.\u001B[39msettimeout(\u001B[38;5;28;01mNone\u001B[39;00m)\n\u001B[0;32m-> 1309\u001B[0m     \u001B[38;5;28;43mself\u001B[39;49m\u001B[38;5;241;43m.\u001B[39;49m\u001B[43m_sslobj\u001B[49m\u001B[38;5;241;43m.\u001B[39;49m\u001B[43mdo_handshake\u001B[49m\u001B[43m(\u001B[49m\u001B[43m)\u001B[49m\n\u001B[1;32m   1310\u001B[0m \u001B[38;5;28;01mfinally\u001B[39;00m:\n",
      "\u001B[0;31mSSLEOFError\u001B[0m: EOF occurred in violation of protocol (_ssl.c:1131)",
      "\nDuring handling of the above exception, another exception occurred:\n",
      "\u001B[0;31mURLError\u001B[0m                                  Traceback (most recent call last)",
      "Cell \u001B[0;32mIn[8], line 10\u001B[0m\n\u001B[1;32m      8\u001B[0m pdb_path \u001B[38;5;241m=\u001B[39m pdb_dir \u001B[38;5;241m/\u001B[39m \u001B[38;5;124mf\u001B[39m\u001B[38;5;124m\"\u001B[39m\u001B[38;5;132;01m{\u001B[39;00mpdb_id\u001B[38;5;132;01m}\u001B[39;00m\u001B[38;5;124m.pdb\u001B[39m\u001B[38;5;124m\"\u001B[39m\n\u001B[1;32m      9\u001B[0m \u001B[38;5;28;01mif\u001B[39;00m \u001B[38;5;129;01mnot\u001B[39;00m pdb_path\u001B[38;5;241m.\u001B[39mexists():\n\u001B[0;32m---> 10\u001B[0m     \u001B[43mdownload_pdb\u001B[49m\u001B[43m(\u001B[49m\u001B[43mpdb_id\u001B[49m\u001B[43m,\u001B[49m\u001B[43m \u001B[49m\u001B[43mpdb_path\u001B[49m\u001B[43m)\u001B[49m\n\u001B[1;32m     12\u001B[0m \u001B[38;5;66;03m# 加载结构\u001B[39;00m\n\u001B[1;32m     13\u001B[0m structure \u001B[38;5;241m=\u001B[39m Structure\u001B[38;5;241m.\u001B[39mfrom_string(pdb_path)\n",
      "Cell \u001B[0;32mIn[3], line 66\u001B[0m, in \u001B[0;36mdownload_pdb\u001B[0;34m(pdb_id, pdb_path)\u001B[0m\n\u001B[1;32m     64\u001B[0m pdb_url \u001B[38;5;241m=\u001B[39m \u001B[38;5;124mf\u001B[39m\u001B[38;5;124m\"\u001B[39m\u001B[38;5;124mhttps://files.rcsb.org/download/\u001B[39m\u001B[38;5;132;01m{\u001B[39;00mpdb_id\u001B[38;5;132;01m}\u001B[39;00m\u001B[38;5;124m.pdb\u001B[39m\u001B[38;5;124m\"\u001B[39m\n\u001B[1;32m     65\u001B[0m \u001B[38;5;28;01mtry\u001B[39;00m:\n\u001B[0;32m---> 66\u001B[0m     \u001B[43murlretrieve\u001B[49m\u001B[43m(\u001B[49m\u001B[43mpdb_url\u001B[49m\u001B[43m,\u001B[49m\u001B[43m \u001B[49m\u001B[43mpdb_path\u001B[49m\u001B[43m)\u001B[49m\n\u001B[1;32m     67\u001B[0m     \u001B[38;5;28mprint\u001B[39m(\u001B[38;5;124mf\u001B[39m\u001B[38;5;124m\"\u001B[39m\u001B[38;5;124m已下载 PDB \u001B[39m\u001B[38;5;132;01m{\u001B[39;00mpdb_id\u001B[38;5;132;01m}\u001B[39;00m\u001B[38;5;124m 到 \u001B[39m\u001B[38;5;132;01m{\u001B[39;00mpdb_path\u001B[38;5;132;01m}\u001B[39;00m\u001B[38;5;124m\"\u001B[39m)\n\u001B[1;32m     68\u001B[0m \u001B[38;5;28;01mexcept\u001B[39;00m \u001B[38;5;167;01mException\u001B[39;00m \u001B[38;5;28;01mas\u001B[39;00m e:\n",
      "File \u001B[0;32m/opt/anaconda3/envs/teachopencadd/lib/python3.8/urllib/request.py:247\u001B[0m, in \u001B[0;36murlretrieve\u001B[0;34m(url, filename, reporthook, data)\u001B[0m\n\u001B[1;32m    230\u001B[0m \u001B[38;5;250m\u001B[39m\u001B[38;5;124;03m\"\"\"\u001B[39;00m\n\u001B[1;32m    231\u001B[0m \u001B[38;5;124;03mRetrieve a URL into a temporary location on disk.\u001B[39;00m\n\u001B[1;32m    232\u001B[0m \n\u001B[0;32m   (...)\u001B[0m\n\u001B[1;32m    243\u001B[0m \u001B[38;5;124;03mdata file as well as the resulting HTTPMessage object.\u001B[39;00m\n\u001B[1;32m    244\u001B[0m \u001B[38;5;124;03m\"\"\"\u001B[39;00m\n\u001B[1;32m    245\u001B[0m url_type, path \u001B[38;5;241m=\u001B[39m _splittype(url)\n\u001B[0;32m--> 247\u001B[0m \u001B[38;5;28;01mwith\u001B[39;00m contextlib\u001B[38;5;241m.\u001B[39mclosing(\u001B[43murlopen\u001B[49m\u001B[43m(\u001B[49m\u001B[43murl\u001B[49m\u001B[43m,\u001B[49m\u001B[43m \u001B[49m\u001B[43mdata\u001B[49m\u001B[43m)\u001B[49m) \u001B[38;5;28;01mas\u001B[39;00m fp:\n\u001B[1;32m    248\u001B[0m     headers \u001B[38;5;241m=\u001B[39m fp\u001B[38;5;241m.\u001B[39minfo()\n\u001B[1;32m    250\u001B[0m     \u001B[38;5;66;03m# Just return the local path and the \"headers\" for file://\u001B[39;00m\n\u001B[1;32m    251\u001B[0m     \u001B[38;5;66;03m# URLs. No sense in performing a copy unless requested.\u001B[39;00m\n",
      "File \u001B[0;32m/opt/anaconda3/envs/teachopencadd/lib/python3.8/urllib/request.py:222\u001B[0m, in \u001B[0;36murlopen\u001B[0;34m(url, data, timeout, cafile, capath, cadefault, context)\u001B[0m\n\u001B[1;32m    220\u001B[0m \u001B[38;5;28;01melse\u001B[39;00m:\n\u001B[1;32m    221\u001B[0m     opener \u001B[38;5;241m=\u001B[39m _opener\n\u001B[0;32m--> 222\u001B[0m \u001B[38;5;28;01mreturn\u001B[39;00m \u001B[43mopener\u001B[49m\u001B[38;5;241;43m.\u001B[39;49m\u001B[43mopen\u001B[49m\u001B[43m(\u001B[49m\u001B[43murl\u001B[49m\u001B[43m,\u001B[49m\u001B[43m \u001B[49m\u001B[43mdata\u001B[49m\u001B[43m,\u001B[49m\u001B[43m \u001B[49m\u001B[43mtimeout\u001B[49m\u001B[43m)\u001B[49m\n",
      "File \u001B[0;32m/opt/anaconda3/envs/teachopencadd/lib/python3.8/urllib/request.py:525\u001B[0m, in \u001B[0;36mOpenerDirector.open\u001B[0;34m(self, fullurl, data, timeout)\u001B[0m\n\u001B[1;32m    522\u001B[0m     req \u001B[38;5;241m=\u001B[39m meth(req)\n\u001B[1;32m    524\u001B[0m sys\u001B[38;5;241m.\u001B[39maudit(\u001B[38;5;124m'\u001B[39m\u001B[38;5;124murllib.Request\u001B[39m\u001B[38;5;124m'\u001B[39m, req\u001B[38;5;241m.\u001B[39mfull_url, req\u001B[38;5;241m.\u001B[39mdata, req\u001B[38;5;241m.\u001B[39mheaders, req\u001B[38;5;241m.\u001B[39mget_method())\n\u001B[0;32m--> 525\u001B[0m response \u001B[38;5;241m=\u001B[39m \u001B[38;5;28;43mself\u001B[39;49m\u001B[38;5;241;43m.\u001B[39;49m\u001B[43m_open\u001B[49m\u001B[43m(\u001B[49m\u001B[43mreq\u001B[49m\u001B[43m,\u001B[49m\u001B[43m \u001B[49m\u001B[43mdata\u001B[49m\u001B[43m)\u001B[49m\n\u001B[1;32m    527\u001B[0m \u001B[38;5;66;03m# post-process response\u001B[39;00m\n\u001B[1;32m    528\u001B[0m meth_name \u001B[38;5;241m=\u001B[39m protocol\u001B[38;5;241m+\u001B[39m\u001B[38;5;124m\"\u001B[39m\u001B[38;5;124m_response\u001B[39m\u001B[38;5;124m\"\u001B[39m\n",
      "File \u001B[0;32m/opt/anaconda3/envs/teachopencadd/lib/python3.8/urllib/request.py:542\u001B[0m, in \u001B[0;36mOpenerDirector._open\u001B[0;34m(self, req, data)\u001B[0m\n\u001B[1;32m    539\u001B[0m     \u001B[38;5;28;01mreturn\u001B[39;00m result\n\u001B[1;32m    541\u001B[0m protocol \u001B[38;5;241m=\u001B[39m req\u001B[38;5;241m.\u001B[39mtype\n\u001B[0;32m--> 542\u001B[0m result \u001B[38;5;241m=\u001B[39m \u001B[38;5;28;43mself\u001B[39;49m\u001B[38;5;241;43m.\u001B[39;49m\u001B[43m_call_chain\u001B[49m\u001B[43m(\u001B[49m\u001B[38;5;28;43mself\u001B[39;49m\u001B[38;5;241;43m.\u001B[39;49m\u001B[43mhandle_open\u001B[49m\u001B[43m,\u001B[49m\u001B[43m \u001B[49m\u001B[43mprotocol\u001B[49m\u001B[43m,\u001B[49m\u001B[43m \u001B[49m\u001B[43mprotocol\u001B[49m\u001B[43m \u001B[49m\u001B[38;5;241;43m+\u001B[39;49m\n\u001B[1;32m    543\u001B[0m \u001B[43m                          \u001B[49m\u001B[38;5;124;43m'\u001B[39;49m\u001B[38;5;124;43m_open\u001B[39;49m\u001B[38;5;124;43m'\u001B[39;49m\u001B[43m,\u001B[49m\u001B[43m \u001B[49m\u001B[43mreq\u001B[49m\u001B[43m)\u001B[49m\n\u001B[1;32m    544\u001B[0m \u001B[38;5;28;01mif\u001B[39;00m result:\n\u001B[1;32m    545\u001B[0m     \u001B[38;5;28;01mreturn\u001B[39;00m result\n",
      "File \u001B[0;32m/opt/anaconda3/envs/teachopencadd/lib/python3.8/urllib/request.py:502\u001B[0m, in \u001B[0;36mOpenerDirector._call_chain\u001B[0;34m(self, chain, kind, meth_name, *args)\u001B[0m\n\u001B[1;32m    500\u001B[0m \u001B[38;5;28;01mfor\u001B[39;00m handler \u001B[38;5;129;01min\u001B[39;00m handlers:\n\u001B[1;32m    501\u001B[0m     func \u001B[38;5;241m=\u001B[39m \u001B[38;5;28mgetattr\u001B[39m(handler, meth_name)\n\u001B[0;32m--> 502\u001B[0m     result \u001B[38;5;241m=\u001B[39m \u001B[43mfunc\u001B[49m\u001B[43m(\u001B[49m\u001B[38;5;241;43m*\u001B[39;49m\u001B[43margs\u001B[49m\u001B[43m)\u001B[49m\n\u001B[1;32m    503\u001B[0m     \u001B[38;5;28;01mif\u001B[39;00m result \u001B[38;5;129;01mis\u001B[39;00m \u001B[38;5;129;01mnot\u001B[39;00m \u001B[38;5;28;01mNone\u001B[39;00m:\n\u001B[1;32m    504\u001B[0m         \u001B[38;5;28;01mreturn\u001B[39;00m result\n",
      "File \u001B[0;32m/opt/anaconda3/envs/teachopencadd/lib/python3.8/urllib/request.py:1397\u001B[0m, in \u001B[0;36mHTTPSHandler.https_open\u001B[0;34m(self, req)\u001B[0m\n\u001B[1;32m   1396\u001B[0m \u001B[38;5;28;01mdef\u001B[39;00m \u001B[38;5;21mhttps_open\u001B[39m(\u001B[38;5;28mself\u001B[39m, req):\n\u001B[0;32m-> 1397\u001B[0m     \u001B[38;5;28;01mreturn\u001B[39;00m \u001B[38;5;28;43mself\u001B[39;49m\u001B[38;5;241;43m.\u001B[39;49m\u001B[43mdo_open\u001B[49m\u001B[43m(\u001B[49m\u001B[43mhttp\u001B[49m\u001B[38;5;241;43m.\u001B[39;49m\u001B[43mclient\u001B[49m\u001B[38;5;241;43m.\u001B[39;49m\u001B[43mHTTPSConnection\u001B[49m\u001B[43m,\u001B[49m\u001B[43m \u001B[49m\u001B[43mreq\u001B[49m\u001B[43m,\u001B[49m\n\u001B[1;32m   1398\u001B[0m \u001B[43m        \u001B[49m\u001B[43mcontext\u001B[49m\u001B[38;5;241;43m=\u001B[39;49m\u001B[38;5;28;43mself\u001B[39;49m\u001B[38;5;241;43m.\u001B[39;49m\u001B[43m_context\u001B[49m\u001B[43m,\u001B[49m\u001B[43m \u001B[49m\u001B[43mcheck_hostname\u001B[49m\u001B[38;5;241;43m=\u001B[39;49m\u001B[38;5;28;43mself\u001B[39;49m\u001B[38;5;241;43m.\u001B[39;49m\u001B[43m_check_hostname\u001B[49m\u001B[43m)\u001B[49m\n",
      "File \u001B[0;32m/opt/anaconda3/envs/teachopencadd/lib/python3.8/urllib/request.py:1357\u001B[0m, in \u001B[0;36mAbstractHTTPHandler.do_open\u001B[0;34m(self, http_class, req, **http_conn_args)\u001B[0m\n\u001B[1;32m   1354\u001B[0m         h\u001B[38;5;241m.\u001B[39mrequest(req\u001B[38;5;241m.\u001B[39mget_method(), req\u001B[38;5;241m.\u001B[39mselector, req\u001B[38;5;241m.\u001B[39mdata, headers,\n\u001B[1;32m   1355\u001B[0m                   encode_chunked\u001B[38;5;241m=\u001B[39mreq\u001B[38;5;241m.\u001B[39mhas_header(\u001B[38;5;124m'\u001B[39m\u001B[38;5;124mTransfer-encoding\u001B[39m\u001B[38;5;124m'\u001B[39m))\n\u001B[1;32m   1356\u001B[0m     \u001B[38;5;28;01mexcept\u001B[39;00m \u001B[38;5;167;01mOSError\u001B[39;00m \u001B[38;5;28;01mas\u001B[39;00m err: \u001B[38;5;66;03m# timeout error\u001B[39;00m\n\u001B[0;32m-> 1357\u001B[0m         \u001B[38;5;28;01mraise\u001B[39;00m URLError(err)\n\u001B[1;32m   1358\u001B[0m     r \u001B[38;5;241m=\u001B[39m h\u001B[38;5;241m.\u001B[39mgetresponse()\n\u001B[1;32m   1359\u001B[0m \u001B[38;5;28;01mexcept\u001B[39;00m:\n",
      "\u001B[0;31mURLError\u001B[0m: <urlopen error EOF occurred in violation of protocol (_ssl.c:1131)>"
     ]
    }
   ],
   "execution_count": 8
  },
  {
   "metadata": {
    "ExecuteTime": {
     "end_time": "2024-10-15T12:04:03.267487Z",
     "start_time": "2024-10-15T12:04:03.241766Z"
    }
   },
   "cell_type": "code",
   "source": [
    "# 将对接结果保存到CSV文件\n",
    "results_df = pd.DataFrame(docking_results)\n",
    "results_df.to_csv(DATA / \"docking_results.csv\", index=False)"
   ],
   "id": "33c30ae89dbd9eac",
   "outputs": [],
   "execution_count": 9
  },
  {
   "metadata": {},
   "cell_type": "code",
   "outputs": [],
   "execution_count": null,
   "source": [],
   "id": "f837b41a03519091"
  }
 ],
 "metadata": {
  "kernelspec": {
   "display_name": "Python 3",
   "language": "python",
   "name": "python3"
  },
  "language_info": {
   "codemirror_mode": {
    "name": "ipython",
    "version": 2
   },
   "file_extension": ".py",
   "mimetype": "text/x-python",
   "name": "python",
   "nbconvert_exporter": "python",
   "pygments_lexer": "ipython2",
   "version": "2.7.6"
  }
 },
 "nbformat": 4,
 "nbformat_minor": 5
}
